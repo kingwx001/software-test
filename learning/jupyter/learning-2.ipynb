{
 "cells": [
  {
   "cell_type": "code",
   "execution_count": 1,
   "id": "45e70e25",
   "metadata": {},
   "outputs": [],
   "source": [
    "import time,datetime"
   ]
  },
  {
   "cell_type": "code",
   "execution_count": 2,
   "id": "89293adb",
   "metadata": {},
   "outputs": [
    {
     "name": "stdout",
     "output_type": "stream",
     "text": [
      "Help on built-in module time:\n",
      "\n",
      "NAME\n",
      "    time - This module provides various functions to manipulate time values.\n",
      "\n",
      "DESCRIPTION\n",
      "    There are two standard representations of time.  One is the number\n",
      "    of seconds since the Epoch, in UTC (a.k.a. GMT).  It may be an integer\n",
      "    or a floating point number (to represent fractions of seconds).\n",
      "    The Epoch is system-defined; on Unix, it is generally January 1st, 1970.\n",
      "    The actual value can be retrieved by calling gmtime(0).\n",
      "    \n",
      "    The other representation is a tuple of 9 integers giving local time.\n",
      "    The tuple items are:\n",
      "      year (including century, e.g. 1998)\n",
      "      month (1-12)\n",
      "      day (1-31)\n",
      "      hours (0-23)\n",
      "      minutes (0-59)\n",
      "      seconds (0-59)\n",
      "      weekday (0-6, Monday is 0)\n",
      "      Julian day (day in the year, 1-366)\n",
      "      DST (Daylight Savings Time) flag (-1, 0 or 1)\n",
      "    If the DST flag is 0, the time is given in the regular time zone;\n",
      "    if it is 1, the time is given in the DST time zone;\n",
      "    if it is -1, mktime() should guess based on the date and time.\n",
      "\n",
      "CLASSES\n",
      "    builtins.tuple(builtins.object)\n",
      "        struct_time\n",
      "    \n",
      "    class struct_time(builtins.tuple)\n",
      "     |  struct_time(iterable=(), /)\n",
      "     |  \n",
      "     |  The time value as returned by gmtime(), localtime(), and strptime(), and\n",
      "     |  accepted by asctime(), mktime() and strftime().  May be considered as a\n",
      "     |  sequence of 9 integers.\n",
      "     |  \n",
      "     |  Note that several fields' values are not the same as those defined by\n",
      "     |  the C language standard for struct tm.  For example, the value of the\n",
      "     |  field tm_year is the actual year, not year - 1900.  See individual\n",
      "     |  fields' descriptions for details.\n",
      "     |  \n",
      "     |  Method resolution order:\n",
      "     |      struct_time\n",
      "     |      builtins.tuple\n",
      "     |      builtins.object\n",
      "     |  \n",
      "     |  Methods defined here:\n",
      "     |  \n",
      "     |  __reduce__(...)\n",
      "     |      Helper for pickle.\n",
      "     |  \n",
      "     |  __repr__(self, /)\n",
      "     |      Return repr(self).\n",
      "     |  \n",
      "     |  ----------------------------------------------------------------------\n",
      "     |  Static methods defined here:\n",
      "     |  \n",
      "     |  __new__(*args, **kwargs) from builtins.type\n",
      "     |      Create and return a new object.  See help(type) for accurate signature.\n",
      "     |  \n",
      "     |  ----------------------------------------------------------------------\n",
      "     |  Data descriptors defined here:\n",
      "     |  \n",
      "     |  tm_gmtoff\n",
      "     |      offset from UTC in seconds\n",
      "     |  \n",
      "     |  tm_hour\n",
      "     |      hours, range [0, 23]\n",
      "     |  \n",
      "     |  tm_isdst\n",
      "     |      1 if summer time is in effect, 0 if not, and -1 if unknown\n",
      "     |  \n",
      "     |  tm_mday\n",
      "     |      day of month, range [1, 31]\n",
      "     |  \n",
      "     |  tm_min\n",
      "     |      minutes, range [0, 59]\n",
      "     |  \n",
      "     |  tm_mon\n",
      "     |      month of year, range [1, 12]\n",
      "     |  \n",
      "     |  tm_sec\n",
      "     |      seconds, range [0, 61])\n",
      "     |  \n",
      "     |  tm_wday\n",
      "     |      day of week, range [0, 6], Monday is 0\n",
      "     |  \n",
      "     |  tm_yday\n",
      "     |      day of year, range [1, 366]\n",
      "     |  \n",
      "     |  tm_year\n",
      "     |      year, for example, 1993\n",
      "     |  \n",
      "     |  tm_zone\n",
      "     |      abbreviation of timezone name\n",
      "     |  \n",
      "     |  ----------------------------------------------------------------------\n",
      "     |  Data and other attributes defined here:\n",
      "     |  \n",
      "     |  n_fields = 11\n",
      "     |  \n",
      "     |  n_sequence_fields = 9\n",
      "     |  \n",
      "     |  n_unnamed_fields = 0\n",
      "     |  \n",
      "     |  ----------------------------------------------------------------------\n",
      "     |  Methods inherited from builtins.tuple:\n",
      "     |  \n",
      "     |  __add__(self, value, /)\n",
      "     |      Return self+value.\n",
      "     |  \n",
      "     |  __contains__(self, key, /)\n",
      "     |      Return key in self.\n",
      "     |  \n",
      "     |  __eq__(self, value, /)\n",
      "     |      Return self==value.\n",
      "     |  \n",
      "     |  __ge__(self, value, /)\n",
      "     |      Return self>=value.\n",
      "     |  \n",
      "     |  __getattribute__(self, name, /)\n",
      "     |      Return getattr(self, name).\n",
      "     |  \n",
      "     |  __getitem__(self, key, /)\n",
      "     |      Return self[key].\n",
      "     |  \n",
      "     |  __getnewargs__(self, /)\n",
      "     |  \n",
      "     |  __gt__(self, value, /)\n",
      "     |      Return self>value.\n",
      "     |  \n",
      "     |  __hash__(self, /)\n",
      "     |      Return hash(self).\n",
      "     |  \n",
      "     |  __iter__(self, /)\n",
      "     |      Implement iter(self).\n",
      "     |  \n",
      "     |  __le__(self, value, /)\n",
      "     |      Return self<=value.\n",
      "     |  \n",
      "     |  __len__(self, /)\n",
      "     |      Return len(self).\n",
      "     |  \n",
      "     |  __lt__(self, value, /)\n",
      "     |      Return self<value.\n",
      "     |  \n",
      "     |  __mul__(self, value, /)\n",
      "     |      Return self*value.\n",
      "     |  \n",
      "     |  __ne__(self, value, /)\n",
      "     |      Return self!=value.\n",
      "     |  \n",
      "     |  __rmul__(self, value, /)\n",
      "     |      Return value*self.\n",
      "     |  \n",
      "     |  count(self, value, /)\n",
      "     |      Return number of occurrences of value.\n",
      "     |  \n",
      "     |  index(self, value, start=0, stop=9223372036854775807, /)\n",
      "     |      Return first index of value.\n",
      "     |      \n",
      "     |      Raises ValueError if the value is not present.\n",
      "\n",
      "FUNCTIONS\n",
      "    asctime(...)\n",
      "        asctime([tuple]) -> string\n",
      "        \n",
      "        Convert a time tuple to a string, e.g. 'Sat Jun 06 16:26:11 1998'.\n",
      "        When the time tuple is not present, current time as returned by localtime()\n",
      "        is used.\n",
      "    \n",
      "    ctime(...)\n",
      "        ctime(seconds) -> string\n",
      "        \n",
      "        Convert a time in seconds since the Epoch to a string in local time.\n",
      "        This is equivalent to asctime(localtime(seconds)). When the time tuple is\n",
      "        not present, current time as returned by localtime() is used.\n",
      "    \n",
      "    get_clock_info(...)\n",
      "        get_clock_info(name: str) -> dict\n",
      "        \n",
      "        Get information of the specified clock.\n",
      "    \n",
      "    gmtime(...)\n",
      "        gmtime([seconds]) -> (tm_year, tm_mon, tm_mday, tm_hour, tm_min,\n",
      "                               tm_sec, tm_wday, tm_yday, tm_isdst)\n",
      "        \n",
      "        Convert seconds since the Epoch to a time tuple expressing UTC (a.k.a.\n",
      "        GMT).  When 'seconds' is not passed in, convert the current time instead.\n",
      "        \n",
      "        If the platform supports the tm_gmtoff and tm_zone, they are available as\n",
      "        attributes only.\n",
      "    \n",
      "    localtime(...)\n",
      "        localtime([seconds]) -> (tm_year,tm_mon,tm_mday,tm_hour,tm_min,\n",
      "                                  tm_sec,tm_wday,tm_yday,tm_isdst)\n",
      "        \n",
      "        Convert seconds since the Epoch to a time tuple expressing local time.\n",
      "        When 'seconds' is not passed in, convert the current time instead.\n",
      "    \n",
      "    mktime(...)\n",
      "        mktime(tuple) -> floating point number\n",
      "        \n",
      "        Convert a time tuple in local time to seconds since the Epoch.\n",
      "        Note that mktime(gmtime(0)) will not generally return zero for most\n",
      "        time zones; instead the returned value will either be equal to that\n",
      "        of the timezone or altzone attributes on the time module.\n",
      "    \n",
      "    monotonic(...)\n",
      "        monotonic() -> float\n",
      "        \n",
      "        Monotonic clock, cannot go backward.\n",
      "    \n",
      "    monotonic_ns(...)\n",
      "        monotonic_ns() -> int\n",
      "        \n",
      "        Monotonic clock, cannot go backward, as nanoseconds.\n",
      "    \n",
      "    perf_counter(...)\n",
      "        perf_counter() -> float\n",
      "        \n",
      "        Performance counter for benchmarking.\n",
      "    \n",
      "    perf_counter_ns(...)\n",
      "        perf_counter_ns() -> int\n",
      "        \n",
      "        Performance counter for benchmarking as nanoseconds.\n",
      "    \n",
      "    process_time(...)\n",
      "        process_time() -> float\n",
      "        \n",
      "        Process time for profiling: sum of the kernel and user-space CPU time.\n",
      "    \n",
      "    process_time_ns(...)\n",
      "        process_time() -> int\n",
      "        \n",
      "        Process time for profiling as nanoseconds:\n",
      "        sum of the kernel and user-space CPU time.\n",
      "    \n",
      "    sleep(...)\n",
      "        sleep(seconds)\n",
      "        \n",
      "        Delay execution for a given number of seconds.  The argument may be\n",
      "        a floating point number for subsecond precision.\n",
      "    \n",
      "    strftime(...)\n",
      "        strftime(format[, tuple]) -> string\n",
      "        \n",
      "        Convert a time tuple to a string according to a format specification.\n",
      "        See the library reference manual for formatting codes. When the time tuple\n",
      "        is not present, current time as returned by localtime() is used.\n",
      "        \n",
      "        Commonly used format codes:\n",
      "        \n",
      "        %Y  Year with century as a decimal number.\n",
      "        %m  Month as a decimal number [01,12].\n",
      "        %d  Day of the month as a decimal number [01,31].\n",
      "        %H  Hour (24-hour clock) as a decimal number [00,23].\n",
      "        %M  Minute as a decimal number [00,59].\n",
      "        %S  Second as a decimal number [00,61].\n",
      "        %z  Time zone offset from UTC.\n",
      "        %a  Locale's abbreviated weekday name.\n",
      "        %A  Locale's full weekday name.\n",
      "        %b  Locale's abbreviated month name.\n",
      "        %B  Locale's full month name.\n",
      "        %c  Locale's appropriate date and time representation.\n",
      "        %I  Hour (12-hour clock) as a decimal number [01,12].\n",
      "        %p  Locale's equivalent of either AM or PM.\n",
      "        \n",
      "        Other codes may be available on your platform.  See documentation for\n",
      "        the C library strftime function.\n",
      "    \n",
      "    strptime(...)\n",
      "        strptime(string, format) -> struct_time\n",
      "        \n",
      "        Parse a string to a time tuple according to a format specification.\n",
      "        See the library reference manual for formatting codes (same as\n",
      "        strftime()).\n",
      "        \n",
      "        Commonly used format codes:\n",
      "        \n",
      "        %Y  Year with century as a decimal number.\n",
      "        %m  Month as a decimal number [01,12].\n",
      "        %d  Day of the month as a decimal number [01,31].\n",
      "        %H  Hour (24-hour clock) as a decimal number [00,23].\n",
      "        %M  Minute as a decimal number [00,59].\n",
      "        %S  Second as a decimal number [00,61].\n",
      "        %z  Time zone offset from UTC.\n",
      "        %a  Locale's abbreviated weekday name.\n",
      "        %A  Locale's full weekday name.\n",
      "        %b  Locale's abbreviated month name.\n",
      "        %B  Locale's full month name.\n",
      "        %c  Locale's appropriate date and time representation.\n",
      "        %I  Hour (12-hour clock) as a decimal number [01,12].\n",
      "        %p  Locale's equivalent of either AM or PM.\n",
      "        \n",
      "        Other codes may be available on your platform.  See documentation for\n",
      "        the C library strftime function.\n",
      "    \n",
      "    thread_time(...)\n",
      "        thread_time() -> float\n",
      "        \n",
      "        Thread time for profiling: sum of the kernel and user-space CPU time.\n",
      "    \n",
      "    thread_time_ns(...)\n",
      "        thread_time() -> int\n",
      "        \n",
      "        Thread time for profiling as nanoseconds:\n",
      "        sum of the kernel and user-space CPU time.\n",
      "    \n",
      "    time(...)\n",
      "        time() -> floating point number\n",
      "        \n",
      "        Return the current time in seconds since the Epoch.\n",
      "        Fractions of a second may be present if the system clock provides them.\n",
      "    \n",
      "    time_ns(...)\n",
      "        time_ns() -> int\n",
      "        \n",
      "        Return the current time in nanoseconds since the Epoch.\n",
      "\n",
      "DATA\n",
      "    altzone = -32400\n",
      "    daylight = 0\n",
      "    timezone = -28800\n",
      "    tzname = ('China Standard Time', 'China Daylight Time')\n",
      "\n",
      "FILE\n",
      "    (built-in)\n",
      "\n",
      "\n"
     ]
    }
   ],
   "source": [
    "help(time)"
   ]
  },
  {
   "cell_type": "code",
   "execution_count": 3,
   "id": "577abe74",
   "metadata": {},
   "outputs": [
    {
     "data": {
      "text/plain": [
       "['_STRUCT_TM_ITEMS',\n",
       " '__doc__',\n",
       " '__loader__',\n",
       " '__name__',\n",
       " '__package__',\n",
       " '__spec__',\n",
       " 'altzone',\n",
       " 'asctime',\n",
       " 'ctime',\n",
       " 'daylight',\n",
       " 'get_clock_info',\n",
       " 'gmtime',\n",
       " 'localtime',\n",
       " 'mktime',\n",
       " 'monotonic',\n",
       " 'monotonic_ns',\n",
       " 'perf_counter',\n",
       " 'perf_counter_ns',\n",
       " 'process_time',\n",
       " 'process_time_ns',\n",
       " 'sleep',\n",
       " 'strftime',\n",
       " 'strptime',\n",
       " 'struct_time',\n",
       " 'thread_time',\n",
       " 'thread_time_ns',\n",
       " 'time',\n",
       " 'time_ns',\n",
       " 'timezone',\n",
       " 'tzname']"
      ]
     },
     "execution_count": 3,
     "metadata": {},
     "output_type": "execute_result"
    }
   ],
   "source": [
    "dir(time)"
   ]
  },
  {
   "cell_type": "code",
   "execution_count": 4,
   "id": "a17b12f4",
   "metadata": {},
   "outputs": [],
   "source": [
    "time.sleep(2)"
   ]
  },
  {
   "cell_type": "code",
   "execution_count": 5,
   "id": "fb0f4149",
   "metadata": {},
   "outputs": [
    {
     "name": "stdout",
     "output_type": "stream",
     "text": [
      "dd\n"
     ]
    }
   ],
   "source": [
    "time.sleep(2)\n",
    "print('dd')"
   ]
  },
  {
   "cell_type": "code",
   "execution_count": 6,
   "id": "b9ccd402",
   "metadata": {},
   "outputs": [
    {
     "data": {
      "text/plain": [
       "1649741479.610355"
      ]
     },
     "execution_count": 6,
     "metadata": {},
     "output_type": "execute_result"
    }
   ],
   "source": [
    "time.time()"
   ]
  },
  {
   "cell_type": "code",
   "execution_count": 7,
   "id": "dd5b2667",
   "metadata": {},
   "outputs": [
    {
     "ename": "TypeError",
     "evalue": "strftime() takes at least 1 argument (0 given)",
     "output_type": "error",
     "traceback": [
      "\u001b[1;31m---------------------------------------------------------------------------\u001b[0m",
      "\u001b[1;31mTypeError\u001b[0m                                 Traceback (most recent call last)",
      "Input \u001b[1;32mIn [7]\u001b[0m, in \u001b[0;36m<cell line: 1>\u001b[1;34m()\u001b[0m\n\u001b[1;32m----> 1\u001b[0m \u001b[43mtime\u001b[49m\u001b[38;5;241;43m.\u001b[39;49m\u001b[43mstrftime\u001b[49m\u001b[43m(\u001b[49m\u001b[43m)\u001b[49m\n",
      "\u001b[1;31mTypeError\u001b[0m: strftime() takes at least 1 argument (0 given)"
     ]
    }
   ],
   "source": [
    "time.strftime()"
   ]
  },
  {
   "cell_type": "code",
   "execution_count": 8,
   "id": "03aa99a3",
   "metadata": {},
   "outputs": [
    {
     "name": "stdout",
     "output_type": "stream",
     "text": [
      "Help on built-in function strftime in module time:\n",
      "\n",
      "strftime(...)\n",
      "    strftime(format[, tuple]) -> string\n",
      "    \n",
      "    Convert a time tuple to a string according to a format specification.\n",
      "    See the library reference manual for formatting codes. When the time tuple\n",
      "    is not present, current time as returned by localtime() is used.\n",
      "    \n",
      "    Commonly used format codes:\n",
      "    \n",
      "    %Y  Year with century as a decimal number.\n",
      "    %m  Month as a decimal number [01,12].\n",
      "    %d  Day of the month as a decimal number [01,31].\n",
      "    %H  Hour (24-hour clock) as a decimal number [00,23].\n",
      "    %M  Minute as a decimal number [00,59].\n",
      "    %S  Second as a decimal number [00,61].\n",
      "    %z  Time zone offset from UTC.\n",
      "    %a  Locale's abbreviated weekday name.\n",
      "    %A  Locale's full weekday name.\n",
      "    %b  Locale's abbreviated month name.\n",
      "    %B  Locale's full month name.\n",
      "    %c  Locale's appropriate date and time representation.\n",
      "    %I  Hour (12-hour clock) as a decimal number [01,12].\n",
      "    %p  Locale's equivalent of either AM or PM.\n",
      "    \n",
      "    Other codes may be available on your platform.  See documentation for\n",
      "    the C library strftime function.\n",
      "\n"
     ]
    }
   ],
   "source": [
    "help(time.strftime)"
   ]
  },
  {
   "cell_type": "code",
   "execution_count": 1,
   "id": "7ac8492d",
   "metadata": {},
   "outputs": [],
   "source": [
    "import sys\n"
   ]
  },
  {
   "cell_type": "code",
   "execution_count": 2,
   "id": "7bb8fb02",
   "metadata": {},
   "outputs": [
    {
     "data": {
      "text/plain": [
       "['c:\\\\program files\\\\python38\\\\lib\\\\site-packages\\\\ipykernel_launcher.py',\n",
       " '-f',\n",
       " 'C:\\\\Users\\\\Administrator\\\\AppData\\\\Roaming\\\\jupyter\\\\runtime\\\\kernel-ca184d67-0031-4ef8-813f-5e55a4ce0ac0.json']"
      ]
     },
     "execution_count": 2,
     "metadata": {},
     "output_type": "execute_result"
    }
   ],
   "source": [
    "sys.argv"
   ]
  },
  {
   "cell_type": "code",
   "execution_count": 4,
   "id": "e2a5e956",
   "metadata": {},
   "outputs": [
    {
     "name": "stderr",
     "output_type": "stream",
     "text": [
      "usage: top [-h] [-l LINES] filenames [filenames ...]\n",
      "top: error: unrecognized arguments: -f\n"
     ]
    },
    {
     "ename": "SystemExit",
     "evalue": "2",
     "output_type": "error",
     "traceback": [
      "An exception has occurred, use %tb to see the full traceback.\n",
      "\u001b[1;31mSystemExit\u001b[0m\u001b[1;31m:\u001b[0m 2\n"
     ]
    }
   ],
   "source": []
  },
  {
   "cell_type": "code",
   "execution_count": 5,
   "id": "4c8784d6",
   "metadata": {},
   "outputs": [
    {
     "name": "stderr",
     "output_type": "stream",
     "text": [
      "usage: top [-h] [-l LINES] filenames [filenames ...]\n",
      "top: error: unrecognized arguments: -f\n"
     ]
    },
    {
     "ename": "SystemExit",
     "evalue": "2",
     "output_type": "error",
     "traceback": [
      "An exception has occurred, use %tb to see the full traceback.\n",
      "\u001b[1;31mSystemExit\u001b[0m\u001b[1;31m:\u001b[0m 2\n"
     ]
    }
   ],
   "source": [
    "import argparse\n",
    "\n",
    "parser = argparse.ArgumentParser(prog = 'top',\n",
    "    description = 'Show top lines from each file')\n",
    "parser.add_argument('filenames', nargs='+')\n",
    "parser.add_argument('-l', '--lines', type=int, default=10)\n",
    "args = parser.parse_args()"
   ]
  },
  {
   "cell_type": "code",
   "execution_count": 7,
   "id": "dca1f76e",
   "metadata": {},
   "outputs": [
    {
     "name": "stderr",
     "output_type": "stream",
     "text": [
      "Warning, log file not found starting a new one\n"
     ]
    },
    {
     "data": {
      "text/plain": [
       "47"
      ]
     },
     "execution_count": 7,
     "metadata": {},
     "output_type": "execute_result"
    }
   ],
   "source": [
    "sys.stderr.write('Warning, log file not found starting a new one\\n')\n",
    "\n"
   ]
  },
  {
   "cell_type": "code",
   "execution_count": 8,
   "id": "6a932bb0",
   "metadata": {},
   "outputs": [
    {
     "data": {
      "text/plain": [
       "['__breakpointhook__',\n",
       " '__displayhook__',\n",
       " '__doc__',\n",
       " '__excepthook__',\n",
       " '__interactivehook__',\n",
       " '__loader__',\n",
       " '__name__',\n",
       " '__package__',\n",
       " '__spec__',\n",
       " '__stderr__',\n",
       " '__stdin__',\n",
       " '__stdout__',\n",
       " '__unraisablehook__',\n",
       " '_base_executable',\n",
       " '_clear_type_cache',\n",
       " '_current_frames',\n",
       " '_debugmallocstats',\n",
       " '_enablelegacywindowsfsencoding',\n",
       " '_framework',\n",
       " '_getframe',\n",
       " '_git',\n",
       " '_home',\n",
       " '_xoptions',\n",
       " 'addaudithook',\n",
       " 'api_version',\n",
       " 'argv',\n",
       " 'audit',\n",
       " 'base_exec_prefix',\n",
       " 'base_prefix',\n",
       " 'breakpointhook',\n",
       " 'builtin_module_names',\n",
       " 'byteorder',\n",
       " 'call_tracing',\n",
       " 'callstats',\n",
       " 'copyright',\n",
       " 'displayhook',\n",
       " 'dllhandle',\n",
       " 'dont_write_bytecode',\n",
       " 'exc_info',\n",
       " 'excepthook',\n",
       " 'exec_prefix',\n",
       " 'executable',\n",
       " 'exit',\n",
       " 'flags',\n",
       " 'float_info',\n",
       " 'float_repr_style',\n",
       " 'get_asyncgen_hooks',\n",
       " 'get_coroutine_origin_tracking_depth',\n",
       " 'getallocatedblocks',\n",
       " 'getcheckinterval',\n",
       " 'getdefaultencoding',\n",
       " 'getfilesystemencodeerrors',\n",
       " 'getfilesystemencoding',\n",
       " 'getprofile',\n",
       " 'getrecursionlimit',\n",
       " 'getrefcount',\n",
       " 'getsizeof',\n",
       " 'getswitchinterval',\n",
       " 'gettrace',\n",
       " 'getwindowsversion',\n",
       " 'hash_info',\n",
       " 'hexversion',\n",
       " 'implementation',\n",
       " 'int_info',\n",
       " 'intern',\n",
       " 'is_finalizing',\n",
       " 'last_traceback',\n",
       " 'last_type',\n",
       " 'last_value',\n",
       " 'maxsize',\n",
       " 'maxunicode',\n",
       " 'meta_path',\n",
       " 'modules',\n",
       " 'path',\n",
       " 'path_hooks',\n",
       " 'path_importer_cache',\n",
       " 'platform',\n",
       " 'prefix',\n",
       " 'ps1',\n",
       " 'ps2',\n",
       " 'ps3',\n",
       " 'pycache_prefix',\n",
       " 'set_asyncgen_hooks',\n",
       " 'set_coroutine_origin_tracking_depth',\n",
       " 'setcheckinterval',\n",
       " 'setprofile',\n",
       " 'setrecursionlimit',\n",
       " 'setswitchinterval',\n",
       " 'settrace',\n",
       " 'stderr',\n",
       " 'stdin',\n",
       " 'stdout',\n",
       " 'thread_info',\n",
       " 'unraisablehook',\n",
       " 'version',\n",
       " 'version_info',\n",
       " 'warnoptions',\n",
       " 'winver']"
      ]
     },
     "execution_count": 8,
     "metadata": {},
     "output_type": "execute_result"
    }
   ],
   "source": [
    "dir(sys)"
   ]
  },
  {
   "cell_type": "code",
   "execution_count": 10,
   "id": "c2bb2a2b",
   "metadata": {},
   "outputs": [
    {
     "data": {
      "text/plain": [
       "'3.8.5 (tags/v3.8.5:580fbb0, Jul 20 2020, 15:57:54) [MSC v.1924 64 bit (AMD64)]'"
      ]
     },
     "execution_count": 10,
     "metadata": {},
     "output_type": "execute_result"
    }
   ],
   "source": [
    "sys.version"
   ]
  },
  {
   "cell_type": "code",
   "execution_count": 11,
   "id": "19ca9318",
   "metadata": {},
   "outputs": [
    {
     "data": {
      "text/plain": [
       "'cat in the hat'"
      ]
     },
     "execution_count": 11,
     "metadata": {},
     "output_type": "execute_result"
    }
   ],
   "source": [
    "import re\n",
    "re.findall(r'\\bf[a-z]*', 'which foot or hand fell fastest')\n",
    "['foot', 'fell', 'fastest']\n",
    "re.sub(r'(\\b[a-z]+) \\1', r'\\1', 'cat in the the hat')\n"
   ]
  },
  {
   "cell_type": "code",
   "execution_count": 18,
   "id": "a656194f",
   "metadata": {},
   "outputs": [
    {
     "data": {
      "text/plain": [
       "5"
      ]
     },
     "execution_count": 18,
     "metadata": {},
     "output_type": "execute_result"
    }
   ],
   "source": [
    "import random\n",
    "random.choice(['apple', 'pear', 'banana'])\n",
    "'apple'\n",
    "random.sample(range(100), 10)   # sampling without replacement\n",
    "[30, 83, 16, 4, 8, 81, 41, 50, 18, 33]\n",
    "random.random()    # random float\n",
    "0.17970987693706186\n",
    "random.randrange(6) "
   ]
  },
  {
   "cell_type": "code",
   "execution_count": 20,
   "id": "82a85ab1",
   "metadata": {
    "scrolled": true
   },
   "outputs": [
    {
     "data": {
      "text/plain": [
       "['BPF',\n",
       " 'LOG4',\n",
       " 'NV_MAGICCONST',\n",
       " 'RECIP_BPF',\n",
       " 'Random',\n",
       " 'SG_MAGICCONST',\n",
       " 'SystemRandom',\n",
       " 'TWOPI',\n",
       " '_Sequence',\n",
       " '_Set',\n",
       " '__all__',\n",
       " '__builtins__',\n",
       " '__cached__',\n",
       " '__doc__',\n",
       " '__file__',\n",
       " '__loader__',\n",
       " '__name__',\n",
       " '__package__',\n",
       " '__spec__',\n",
       " '_accumulate',\n",
       " '_acos',\n",
       " '_bisect',\n",
       " '_ceil',\n",
       " '_cos',\n",
       " '_e',\n",
       " '_exp',\n",
       " '_inst',\n",
       " '_log',\n",
       " '_os',\n",
       " '_pi',\n",
       " '_random',\n",
       " '_repeat',\n",
       " '_sha512',\n",
       " '_sin',\n",
       " '_sqrt',\n",
       " '_test',\n",
       " '_test_generator',\n",
       " '_urandom',\n",
       " '_warn',\n",
       " 'betavariate',\n",
       " 'choice',\n",
       " 'choices',\n",
       " 'expovariate',\n",
       " 'gammavariate',\n",
       " 'gauss',\n",
       " 'getrandbits',\n",
       " 'getstate',\n",
       " 'lognormvariate',\n",
       " 'normalvariate',\n",
       " 'paretovariate',\n",
       " 'randint',\n",
       " 'random',\n",
       " 'randrange',\n",
       " 'sample',\n",
       " 'seed',\n",
       " 'setstate',\n",
       " 'shuffle',\n",
       " 'triangular',\n",
       " 'uniform',\n",
       " 'vonmisesvariate',\n",
       " 'weibullvariate']"
      ]
     },
     "execution_count": 20,
     "metadata": {},
     "output_type": "execute_result"
    }
   ],
   "source": [
    "dir(random)"
   ]
  },
  {
   "cell_type": "code",
   "execution_count": 26,
   "id": "61deb536",
   "metadata": {},
   "outputs": [
    {
     "data": {
      "text/plain": [
       "(1.6071428571428572, 1.25, 1.3720238095238095)"
      ]
     },
     "execution_count": 26,
     "metadata": {},
     "output_type": "execute_result"
    }
   ],
   "source": [
    "import statistics\n",
    "data = [2.75, 1.75, 1.25, 0.25, 0.5, 1.25, 3.5]\n",
    "statistics.mean(data),statistics.median(data),statistics.variance(data)\n",
    "\n"
   ]
  },
  {
   "cell_type": "code",
   "execution_count": 29,
   "id": "7b1e2bf1",
   "metadata": {},
   "outputs": [
    {
     "name": "stdout",
     "output_type": "stream",
     "text": [
      "<!DOCTYPE html><!--STATUS OK-->\n",
      "\n",
      "\n",
      "\n",
      "\n",
      "\n",
      "    <html><head><meta http-equiv=\"Content-Type\" content=\"text/html;charset=utf-8\"><meta http-equiv=\"X-UA-Compatible\" content=\"IE=edge,chrome=1\"><meta content=\"always\" name=\"referrer\"><meta name=\"theme-color\" content=\"#ffffff\"><meta name=\"description\" content=\"全球领先的中文搜索引擎、致力于让网民更便捷地获取信息，找到所求。百度超过千亿的中文网页数据库，可以瞬间找到相关的搜索结果。\"><link rel=\"shortcut icon\" href=\"/favicon.ico\" type=\"image/x-icon\" /><link rel=\"search\" type=\"application/opensearchdescription+xml\" href=\"/content-search.xml\" title=\"百度搜索\" /><link rel=\"icon\" sizes=\"any\" mask href=\"//www.baidu.com/img/baidu_85beaf5496f291521eb75ba38eacbd87.svg\"><link rel=\"dns-prefetch\" href=\"//dss0.bdstatic.com\"/><link rel=\"dns-prefetch\" href=\"//dss1.bdstatic.com\"/><link rel=\"dns-prefetch\" href=\"//ss1.bdstatic.com\"/><link rel=\"dns-prefetch\" href=\"//sp0.baidu.com\"/><link rel=\"dns-prefetch\" href=\"//sp1.baidu.com\"/><link rel=\"dns-prefetch\" href=\"//sp2.baidu.com\"/><title>百度一下，你就知道</title><style index=\"newi\" type=\"text/css\">#form .bdsug{top:39px}.bdsug{display:none;position:absolute;width:535px;background:#fff;border:1px solid #ccc!important;_overflow:hidden;box-shadow:1px 1px 3px #ededed;-webkit-box-shadow:1px 1px 3px #ededed;-moz-box-shadow:1px 1px 3px #ededed;-o-box-shadow:1px 1px 3px #ededed}.bdsug li{width:519px;color:#000;font:14px arial;line-height:25px;padding:0 8px;position:relative;cursor:default}.bdsug li.bdsug-s{background:#f0f0f0}.bdsug-store span,.bdsug-store b{color:#7A77C8}.bdsug-store-del{font-size:12px;color:#666;text-decoration:underline;position:absolute;right:8px;top:0;cursor:pointer;display:none}.bdsug-s .bdsug-store-del{display:inline-block}.bdsug-ala{display:inline-block;border-bottom:1px solid #e6e6e6}.bdsug-ala h3{line-height:14px;background:url(//www.baidu.com/img/sug_bd.png?v=09816787.png) no-repeat left center;margin:6px 0 4px;font-size:12px;font-weight:400;color:#7B7B7B;padding-left:20px}.bdsug-ala p{font-size:14px;font-weight:700;padding-left:20px}#m .bdsug .bdsug-direct p{color:#00c;font-weight:700;line-height:34px;padding:0 8px;margin-top:0;cursor:pointer;white-space:nowrap;overflow:hidden}#m .bdsug .bdsug-direct p img{width:16px;height:16px;margin:7px 6px 9px 0;vertical-align:middle}#m .bdsug .bdsug-direct p span{margin-left:8px}#form .bdsug .bdsug-direct{width:auto;padding:0;border-bottom:1px solid #f1f1f1}#form .bdsug .bdsug-direct p i{font-size:12px;line-height:100%;font-style:normal;font-weight:400;color:#fff;background-color:#2b99ff;display:inline;text-align:center;padding:1px 5px;*padding:2px 5px 0;margin-left:8px;overflow:hidden}.bdsug .bdsug-pcDirect{color:#000;font-size:14px;line-height:30px;height:30px;background-color:#f8f8f8}.bdsug .bdsug-pc-direct-tip{position:absolute;right:15px;top:8px;width:55px;height:15px;display:block;background:url(http://pss.bdstatic.com/r/www/cache/static/global/img/pc_direct_42d6311.png) no-repeat 0 0}.bdsug li.bdsug-pcDirect-s{background-color:#f0f0f0}.bdsug .bdsug-pcDirect-is{color:#000;font-size:14px;line-height:22px;background-color:#f5f5f5}.bdsug .bdsug-pc-direct-tip-is{position:absolute;right:15px;top:3px;width:55px;height:15px;display:block;background:url(http://pss.bdstatic.com/r/www/cache/static/global/img/pc_direct_42d6311.png) no-repeat 0 0}.bdsug li.bdsug-pcDirect-is-s{background-color:#f0f0f0}.bdsug .bdsug-pcDirect-s .bdsug-pc-direct-tip,.bdsug .bdsug-pcDirect-is-s .bdsug-pc-direct-tip-is{background-position:0 -15px}.bdsug .bdsug-newicon{color:#929292;opacity:.7;font-size:12px;display:inline-block;line-height:22px;letter-spacing:2px}.bdsug .bdsug-s .bdsug-newicon{opacity:1}.bdsug .bdsug-newicon i{letter-spacing:0;font-style:normal}.bdsug .bdsug-feedback-wrap{display:none}.toggle-underline{text-decoration:none}.toggle-underline:hover{text-decoration:underline}.bdpfmenu,.usermenu{border:1px solid #d1d1d1;position:absolute;width:105px;top:36px;z-index:302;box-shadow:1px 1px 5px #d1d1d1;-webkit-box-shadow:1px 1px 5px #d1d1d1;-moz-box-shadow:1px 1px 5px #d1d1d1;-o-box-shadow:1px 1px 5px #d1d1d1}.bdpfmenu{font-size:12px;background-color:#fff}.bdpfmenu a,.usermenu a{display:block;text-align:left;margin:0!important;padding:0 9px;line-height:26px;text-decoration:none}.briiconsbg{background-repeat:no-repeat;background-size:300px 18px;background-image:url(http://pss.bdstatic.com/r/www/cache/static/home/img/icons_0c37e9b.png);background-image:url(http://pss.bdstatic.com/r/www/cache/static/home/img/icons_809ae65.gif)\\9}.bdpfmenu a:link,.bdpfmenu a:visited,#u .usermenu a:link,#u .usermenu a:visited{background:#fff;color:#333}.bdpfmenu a:hover,.bdpfmenu a:active,#u .usermenu a:hover,#u .usermenu a:active{background:#38f;text-decoration:none;color:#fff}.bdpfmenu{width:70px}#wrapper .bdnuarrow{width:0;height:0;font-size:0;line-height:0;display:block;position:absolute;top:-10px;left:50%;margin-left:-5px}#wrapper .bdnuarrow em,#wrapper .bdnuarrow i{width:0;height:0;font-size:0;line-height:0;display:block;position:absolute;border:5px solid transparent;border-style:dashed dashed solid}#wrapper .bdnuarrow em{border-bottom-color:#d8d8d8;top:-1px}#wrapper .bdnuarrow i{border-bottom-color:#fff;top:0}#gxszHead .prefpanelclose{cursor:pointer;width:16px;height:16px;float:right;margin-top:7px;background-position:-248px 0}#gxszHead .prefpanelclose:hover{background-position:-264px 0}.s_ipt::-webkit-input-placeholder{padding-left:3px;color:#aaa;font-size:13px}.s_ipt::-moz-placeholder{padding-left:3px;color:#aaa;font-size:13px}.s_ipt:-ms-input-placeholder{padding-left:3px;color:#aaa;font-size:13px}.s_ipt::placeholder{padding-left:3px;color:#aaa;font-size:13px}.kw-placeholder{position:absolute;top:0;left:0;color:#aaa;font-size:13px;height:40px;line-height:40px;padding-left:10px;max-width:360px;z-index:99;pointer-events:none}.kw-placeholder.kw-placehlder-high{height:40px;line-height:40px}.kw-placeholder.placeholders-hidden{visibility:hidden}#head_wrapper #form .bdsug-new{width:544px;top:35px;border-radius:0 0 10px 10px;border:2px solid #4E6EF2!important;border-top:0!important;box-shadow:none;font-family:Arial,\"PingFang SC\",\"Microsoft YaHei\",sans-serif;z-index:1}#head_wrapper.sam_head_wrapper2 #form .bdsug-new{width:545px;z-index:1;border:1px solid #4E6EF2!important;border-top:0!important}#head_wrapper #form .bdsug-new ul{margin:7px 14px 0;padding:8px 0 7px;background:0 0;border-top:2px solid #f5f5f6}#head_wrapper #form .bdsug-new ul li{width:auto;padding-left:14px;margin-left:-14px;margin-right:-14px;color:#626675;line-height:28px;background:0 0;font-family:Arial,\"PingFang SC\",\"Microsoft YaHei\",sans-serif}#head_wrapper #form .bdsug-new ul li span{color:#626675}#head_wrapper #form .bdsug-new ul li b{font-weight:400;color:#222}#head_wrapper #form .bdsug-new .bdsug-store-del{font-size:13px;text-decoration:none;color:#9195A3;right:16px}#head_wrapper #form .bdsug-new .bdsug-store-del:hover{color:#315EFB;cursor:pointer}#head_wrapper #form .bdsug-new ul li:hover,#head_wrapper #form .bdsug-new ul li:hover span,#head_wrapper #form .bdsug-new ul li:hover b{cursor:pointer}.wrapper_new #form .bdsug-new .bdsug-s{background-color:#F5F5F6!important}.wrapper_new #form .sam_search .bdsug-new .bdsug-s{background-color:#F1F3FD!important}#head_wrapper #form .sam_search .bdsug-new .bdsug-s{background-color:#F1F3FD!important}#head .s-down #form .bdsug-new{top:32px}.s-skin-hasbg #head_wrapper #form .bdsug-new{border-color:#4569ff!important;border-top:0!important}.s-skin-hasbg #head_wrapper.s-down #form .bdsug-new{border-color:#4e6ef2!important;border-top:0!important}.s-skin-hasbg #head_wrapper.s-down #form.sam_search .bdsug-new{border-color:rgba(0,0,0,.05)!important;border-top:1px solid rgba(0,0,0,.05)!important;top:54px!important}#head_wrapper #form .bdsug-new .bdsug-s,#head_wrapper #form .bdsug-new .bdsug-s span,#head_wrapper #form .bdsug-new .bdsug-s b{color:#315EFB}#head_wrapper #form .bdsug-new>div span:hover,#head_wrapper #form .bdsug-new>div a:hover{color:#315EFB!important}#head_wrapper #form #kw.new-ipt-focus{border-color:#4e6ef2}#head_wrapper.s-down #form .sam-bdsug.bdsug-new{top:52px}#head_wrapper #form .sam-bdsug.bdsug-new{width:100%;box-shadow:0 4px 4px 0 rgba(0,0,0,.1);border:1px solid rgba(0,0,0,.05)!important;border-radius:12px;top:56px}#head_wrapper #form .sam-bdsug.bdsug-new ul{border:0;padding:0 0 7px}#head_wrapper #form .sam-bdsug.bdsug-new ul li{line-height:32px}#head_wrapper #form .sam-bdsug.bdsug-new ul .bdsug-s{background-color:#F1F3FD!important}#head_wrapper #form .sam-bdsug.bdsug-new .bdsug-store-del{right:15px}.sam_search .sam_search_rec,.sam_search .sam_search_soutu{z-index:1;display:none;position:absolute;top:50%;margin-top:-12px;font-size:24px;color:#4E6EF2;height:24px;line-height:24px;width:24px;cursor:pointer;-webkit-transform:translate3d(0,0,0);transform:translate3d(0,0,0);transition:transform .3s ease}.sam_search .sam_search_rec{right:54px}.sam_search .sam_search_soutu{right:14px}.sam_search .sam_search_rec:hover,.sam_search .sam_search_soutu:hover{color:#1D4FFF!important;transform:scale(1.08,1.08)}.sam_search .sam_search_rec_hover,.sam_search .sam_search_soutu_hover{background:#626675;border-radius:8px;height:32px;width:76px;text-align:center;line-height:32px;font-size:13px;color:#FFF;position:absolute;z-index:2;top:50px}.sam_search .sam_search_rec_hover:before,.sam_search .sam_search_soutu_hover:before{content:'';border:4px solid transparent;border-bottom:4px solid #626675;position:absolute;left:50%;top:-8px;margin-left:-4px}.sam_search .sam_search_rec_hover{right:29px}.sam_search .sam_search_soutu_hover{display:none;right:-12px}</style><style type=\"text/css\" index=\"superbase\">blockquote,body,button,dd,dl,dt,fieldset,form,h1,h2,h3,h4,h5,h6,hr,input,legend,li,ol,p,pre,td,textarea,th,ul{margin:0;padding:0}html{color:#000;overflow-y:scroll;overflow:-moz-scrollbars}body,button,input,select,textarea{font-size:12px;font-family:Arial,sans-serif}h1,h2,h3,h4,h5,h6{font-size:100%}em{font-style:normal}small{font-size:12px}ol,ul{list-style:none}a{text-decoration:none}a:hover{text-decoration:underline}legend{color:#000}fieldset,img{border:0}button,input,select,textarea{font-size:100%}table{border-collapse:collapse;border-spacing:0}img{-ms-interpolation-mode:bicubic}textarea{resize:vertical}.left{float:left}.right{float:right}.overflow{overflow:hidden}.hide{display:none}.block{display:block}.inline{display:inline}.error{color:red;font-size:12px}button,label{cursor:pointer}.clearfix:after{content:'\\20';display:block;height:0;clear:both}.clearfix{zoom:1}.clear{clear:both;height:0;line-height:0;font-size:0;visibility:hidden;overflow:hidden}.wordwrap{word-break:break-all;word-wrap:break-word}.s-yahei{font-family:arial,'Microsoft Yahei','微软雅黑'}pre.wordwrap{white-space:pre-wrap}body{text-align:center;background:#fff}body,form{position:relative;z-index:0}td{text-align:left}img{border:0}#s_wrap{position:relative;z-index:0;min-width:1000px}#wrapper{height:100%}#head .s-ps-islite{_padding-bottom:370px}#head_wrapper.s-ps-islite{padding-bottom:370px}#head_wrapper.s-ps-islite #s_lm_wrap{bottom:298px;background:0 0!important;filter:none!important}#head_wrapper.s-ps-islite .s_form{position:relative;z-index:1}#head_wrapper.s-ps-islite .fm{position:absolute;bottom:0}#head_wrapper.s-ps-islite .s-p-top{position:absolute;bottom:40px;width:100%;height:181px}#head_wrapper.s-ps-islite #s_lg_img,#head_wrapper.s-ps-islite #s_lg_img_aging,#head_wrapper.s-ps-islite #s_lg_img_new{position:static;margin:33px auto 0 auto}.s_lm_hide{display:none!important}#head_wrapper.s-down #s_lm_wrap{display:none}.s-lite-version #m{padding-top:125px}#s_lg_img,#s_lg_img_aging,#s_lg_img_new{position:absolute;bottom:10px;left:50%;margin-left:-135px}#form{z-index:1}#s_lm_wrap{position:absolute;margin-left:-447px;bottom:0;left:50%;z-index:0;height:30px;width:895px;line-height:30px;text-align:center}.s-skin-hasbg #s_lm_wrap{background:0 0;background-image:-webkit-gradient(linear,left top,left bottom,from(rgba(0,0,0,.3)),to(rgba(0,0,0,.3)));background-image:-moz-linear-gradient(rgba(0,0,0,.3) 0,rgba(0,0,0,.3) 100%);background-image:-ms-linear-gradient(rgba(0,0,0,.3) 0,rgba(0,0,0,.3) 100%);background-image:-o-linear-gradient(rgba(0,0,0,.3) 0,rgba(0,0,0,.3) 100%);background-image:linear-gradient(rgba(0,0,0,.3) 0,rgba(0,0,0,.3) 100%);filter:progid:DXImageTransform.Microsoft.gradient(startColorstr=#66000000, endColorstr=#66000000)}#s_lm_wrap.s-down{display:none}#lm{color:#666;height:15px;line-height:16px;padding:7px 0}#lm a{text-decoration:underline;color:#666}#nv{margin:0 0 5px;_margin-bottom:4px;padding:2px 0 0;text-align:left;text-indent:50px}#nv a,#nv b{margin-left:19px}#lk,#nv a,#nv b,.btn{font-size:14px}.s-down .s_form{padding-left:0;margin-top:0;min-height:0}.s_form .tools{position:absolute;right:-55px}.s_form_wrapper{height:100%}#head_wrapper.s-down #mCon span{color:#000}#lk{margin:33px 0}#lk span{font:14px \"\\5b8b\\4f53\"}#lh{margin:16px 0 5px;word-spacing:3px}#mCon{height:15px;line-height:15px;width:28px;padding:10px 8px 0 0;cursor:pointer;background:url(http://ss.bdimg.com/static/superman/img/spis7-d578e7ff4b.png) no-repeat -684px -605px}#mCon span{color:#333;cursor:default;display:block}#mCon .hw{text-decoration:underline;cursor:pointer}#mMenu{width:56px;border:1px solid #9b9b9b;list-style:none;position:absolute;right:-9px;top:30px;display:none;background:#fff;box-shadow:1px 1px 2px #ccc;-moz-box-shadow:1px 1px 2px #ccc;-webkit-box-shadow:1px 1px 2px #ccc;filter:progid:DXImageTransform.Microsoft.Shadow(Strength=2, Direction=135, Color=\"#cccccc\")\\9}#mMenu a,#mMenu a:visited{color:#00c;width:100%;height:100%;display:block;line-height:22px;text-indent:6px;text-decoration:none;filter:none\\9}#mMenu a:hover{background:#ebebeb}#mMenu .ln{height:1px;background:#ebebeb;overflow:hidden;font-size:1px;line-height:1px;margin-top:-1px}#cp,#cp a{color:#77c}#tb_mr{color:#00c;cursor:pointer;position:relative;z-index:200}#tb_mr b{font-weight:400}#nv a,#tb_mr b{text-decoration:underline}#nv a{color:#00c}#hwr_div,#loading{z-index:3000}.bd_bear_home{display:none}#mHolder{display:none}#mHolder .c-icon{right:0;top:0;position:absolute;float:right;width:15px;height:15px}.main{display:none}#s_feed{display:none}.s-ps-sug{border:1px solid #ccc!important;box-shadow:1px 1px 3px #ededed;-webkit-box-shadow:1px 1px 3px #ededed;-moz-box-shadow:1px 1px 3px #ededed;-o-box-shadow:1px 1px 3px #ededed;position:absolute;top:32px;left:0}.s-ps-sug table{width:100%;background:#fff;cursor:default}.s-ps-sug td{color:#000;font:14px arial;height:25px;line-height:25px;padding:0 8px}.s-ps-sug td b{color:#000}.s-ps-sug .mo{background:#ebebeb;cursor:pointer}.s-ps-sug .ml{background:#fff}.s-ps-sug td.sug_storage{color:#7a77c8}.s-ps-sug td.sug_storage b{color:#7a77c8}.s-ps-sug .sug_del{font-size:12px;color:#666;text-decoration:underline;float:right;cursor:pointer;display:none}.s-ps-sug .sug_del{font-size:12px;color:#666;text-decoration:underline;float:right;cursor:pointer;display:none}.s-ps-sug .mo .sug_del{display:block}.s-ps-sug .sug_ala{border-bottom:1px solid #e6e6e6}.s-ps-sug td h3{line-height:14px;margin:6px 0 4px 0;font-size:12px;font-weight:400;color:#7b7b7b;padding-left:20px;background:url(img/sug_bd.png) no-repeat left center}.s-ps-sug td p{font-size:14px;font-weight:700;padding-left:20px}.s-ps-sug td p span{font-size:12px;font-weight:400;color:#7b7b7b}#s_user_center{font-weight:400;background-position:right -223px\\9}#s_user_center_menu{right:131px}.s-ps-islite #nv{padding-top:22px;line-height:16px;height:16px;margin-bottom:13px}#form .bdsug .bdsug-direct{width:auto;padding:0;border-bottom:1px solid #f1f1f1}#head_wrapper .bdsug .bdsug-direct p{color:#00c;font-weight:700;line-height:34px;padding:0 8px;margin-top:0;cursor:pointer;white-space:nowrap;overflow:hidden}#head_wrapper .bdsug .bdsug-direct p img{width:16px;height:16px;margin:7px 6px 9px 0;vertical-align:middle}#head_wrapper .bdsug .bdsug-direct p span{margin-left:8px}#head_wrapper .bdsug .bdsug-direct p i{font-size:12px;line-height:100%;font-style:normal;font-weight:400;color:#fff;background-color:#2b99ff;display:inline;text-align:center;padding:1px 5px;*padding:2px 5px 0 5px;margin-left:8px;overflow:hidden}#result_logo,#s_tab,#u,#wrapper_wrapper{display:none}#prefpanel{background:#fafafa;display:none;opacity:0;position:fixed;_position:absolute;top:-359px;z-index:500;width:100%;min-width:960px;border-bottom:1px solid #ebebeb;*left:0!important;text-align:left}#prefpanel form{_width:850px}@font-face{font-family:cIconfont;src:url(http://ss.bdimg.com/static/superman/font/iconfont-3451557d3a.eot);src:url(http://ss.bdimg.com/static/superman/font/iconfont-3451557d3a.eot?#iefix) format('embedded-opentype'),url(http://ss.bdimg.com/static/superman/font/iconfont-219cdb5f8e.woff2) format('woff2'),url(http://ss.bdimg.com/static/superman/font/iconfont-e917315ef2.woff) format('woff'),url(http://ss.bdimg.com/static/superman/font/iconfont-14947d10b6.ttf) format('truetype'),url(http://ss.bdimg.com/static/superman/font/iconfont-9b46314a54.svg#iconfont) format('svg')}.c-gap-top-small{margin-top:3px}.c-gap-top{margin-top:7px}.c-gap-top-large{margin-top:11px}.c-gap-top-mini{margin-top:2px}.c-gap-top-xsmall{margin-top:4px}.c-gap-top-middle{margin-top:10px}.c-gap-bottom-small{margin-bottom:3px}.c-gap-bottom{margin-bottom:7px}.c-gap-bottom-large{margin-bottom:11px}.c-gap-bottom-mini{margin-bottom:2px}.c-gap-bottom-xsmall{margin-bottom:4px}.c-gap-bottom-middle{margin-bottom:10px}.c-gap-left{margin-left:12px}.c-gap-left-small{margin-left:8px}.c-gap-left-xsmall{margin-left:4px}.c-gap-left-mini{margin-left:2px}.c-gap-left-large{margin-left:16px}.c-gap-left-middle{margin-left:10px}.c-gap-right{margin-right:12px}.c-gap-right-small{margin-right:8px}.c-gap-right-xsmall{margin-right:4px}.c-gap-right-mini{margin-right:2px}.c-gap-right-large{margin-right:16px}.c-gap-right-middle{margin-right:10px}.c-gap-icon-right-small{margin-right:5px}.c-gap-icon-right{margin-right:10px}.c-gap-icon-left-small{margin-left:5px}.c-gap-icon-left{margin-left:10px}.c-row{*zoom:1}.c-row:after{display:block;height:0;content:\"\";clear:both;visibility:hidden}.c-span1{width:32px}.c-span2{width:80px}.c-span3{width:128px}.c-span4{width:176px}.c-span5{width:224px}.c-span6{width:272px}.c-span7{width:320px}.c-span8{width:368px}.c-span9{width:416px}.c-span10{width:464px}.c-span11{width:512px}.c-span12{width:560px}.c-span10,.c-span11,.c-span12,.c-span2,.c-span3,.c-span4,.c-span5,.c-span6,.c-span7,.c-span8,.c-span9{float:left;_display:inline;margin-right:16px;list-style:none}.c-span-last{margin-right:0}.c-span-last-s{margin-right:0}.c-feed-box .c-span1{width:43px}.c-feed-box .c-span2{width:90px}.c-feed-box .c-span3{width:137px}.c-feed-box .c-span4{width:184px}.c-feed-box .c-span5{width:231px}.c-feed-box .c-span6{width:278px}.c-feed-box .c-span7{width:325px}.c-feed-box .c-span8{width:372px}.c-feed-box .c-span9{width:419px}.c-feed-box .c-span10{width:466px}.c-feed-box .c-span11{width:513px}.c-feed-box .c-span12{width:560px}.c-feed-box .c-span10,.c-feed-box .c-span11,.c-feed-box .c-span12,.c-feed-box .c-span2,.c-feed-box .c-span3,.c-feed-box .c-span4,.c-feed-box .c-span5,.c-feed-box .c-span6,.c-feed-box .c-span7,.c-feed-box .c-span8,.c-feed-box .c-span9{margin-right:4px}.c-feed-box .c-span-last{margin-right:0}.c-index{display:inline-block;width:14px;padding:1px 0;line-height:100%;text-align:center;color:#fff;background-color:#8eb9f5;font-size:12px}.c-index-hot,.c-index-hot1{background-color:#f54545}.c-index-hot2{background-color:#ff8547}.c-index-hot3{background-color:#ffac38}.c-index-single{display:inline-block;background:0 0;color:#9195a3;width:18px;font-size:15px;letter-spacing:-1px}.c-index-single-hot,.c-index-single-hot1{color:#fe2d46}.c-index-single-hot2{color:#f60}.c-index-single-hot3{color:#faa90e}.c-font-sigma{font:36px/60px Arial,sans-serif}.c-font-large{font:20px/30px Arial,sans-serif}.c-font-big{font:20px/30px Arial,sans-serif}.c-font-special{font:16px/26px Arial,sans-serif}.c-font-medium{font:14px/24px Arial,sans-serif}.c-font-middle{font:14px/24px Arial,sans-serif}.c-font-normal{font:13px/23px Arial,sans-serif}.c-font-small{font:12px/20px Arial,sans-serif}.c-font-family{font-family:Arial,sans-serif}.c-color-t{color:#222}.c-color-text{color:#333}.c-color-gray{color:#626675}.c-color-gray2{color:#9195a3}.c-color-visited{color:#626675}.c-color-orange{color:#fa4901}.c-color-green{color:#0ebe90}.c-color-ad{color:#77a9f9}.c-color-red{color:#f63051}.c-color-red:visited{color:#f63051}.c-color-warn{color:#ff7900}.c-color-warn:visited{color:#ff7900}.c-color-link{color:#3951b3}.c-btn,.c-btn:visited{color:#333!important}.c-btn{display:inline-block;overflow:hidden;font-family:inherit;font-weight:400;text-align:center;vertical-align:middle;outline:0;border:0;height:30px;width:80px;line-height:30px;font-size:13px;border-radius:6px;padding:0;background-color:#f5f5f6;*zoom:1;cursor:pointer}.c-btn:hover{background-color:#315efb;color:#fff!important}a.c-btn{text-decoration:none}button.c-btn{*overflow:visible;border:0}button.c-btn::-moz-focus-inner{padding:0;border:0}.c-btn-disable{color:#c4c7ce!important}.c-btn-disable:visited{color:#c4c7ce!important}.c-btn-disable:hover{cursor:default;color:#c4c7ce!important;background-color:#f5f5f6}.c-btn-mini{height:24px;width:48px;line-height:24px}.c-btn-mini .c-icon{margin-top:2px}.c-btn-large{height:30px;line-height:30px;font-size:14px}button.c-btn-large{height:30px;_line-height:24px}.c-btn-large .c-icon{margin-top:7px;_margin-top:6px}.c-btn-primary,.c-btn-primary:visited{color:#fff!important}.c-btn-primary{background-color:#4e6ef2}.c-btn-primary:hover{background-color:#315efb}.c-btn-weak{height:24px;line-height:24px;border-radius:4px;font-size:12px}.c-btn-add{width:32px;height:32px;line-height:32px;text-align:center;color:#9195a3!important}.c-btn-add:hover{background-color:#4e6ef2;color:#fff!important}.c-btn-add .c-icon{float:none}.c-btn-add-disable:hover{cursor:default;color:#c4c7ce!important;background-color:#f5f5f6}.c-select{position:relative;display:inline-block;width:96px;box-sizing:border-box;-webkit-box-sizing:border-box;-moz-box-sizing:border-box;vertical-align:middle;color:#222;font:13px/23px Arial,sans-serif}.c-select-selection{display:block;height:30px;line-height:29px;box-sizing:border-box;-webkit-box-sizing:border-box;-moz-box-sizing:border-box;padding:0 26px 0 10px;background-color:#fff;border-radius:6px;border:1px solid #d7d9e0;outline:0;user-select:none;cursor:pointer;position:relative;overflow:hidden;text-overflow:ellipsis;white-space:nowrap}.c-select-arrow,.c-select-arrow-up{position:absolute;top:-1px;right:10px;color:#9195a3;font-size:16px}.c-select-dropdown{display:none;position:absolute;padding-top:4px;top:25px;z-index:999;left:0;width:94px;box-sizing:content-box;-webkit-box-sizing:content-box;-moz-box-sizing:content-box;background:#fff;border-radius:0 0 6px 6px;border:1px solid #d7d9e0;border-top:0;zoom:1}.c-select-split{border-top:1px solid #f5f5f5;margin:0 5px}.c-select-dropdown-list{padding:0;margin:5px 0 0;list-style:none}.c-select-dropdown-list.c-select-scroll{max-height:207px;overflow-y:auto;overflow-x:hidden;margin-right:5px;margin-bottom:9px}.c-select-dropdown-list.c-select-scroll::-webkit-scrollbar{width:2px}.c-select-dropdown-list.c-select-scroll::-webkit-scrollbar-track{width:2px;background:#f5f5f6;border-radius:1px}.c-select-dropdown-list.c-select-scroll::-webkit-scrollbar-thumb{width:2px;height:58px;background-color:#4e71f2;border-radius:1px}.c-select-dropdown-list.c-select-scroll .c-select-item:last-child{margin:0}.c-select-item{margin:0 0 4px;padding:0 10px;clear:both;white-space:nowrap;list-style:none;cursor:pointer;box-sizing:border-box;-webkit-box-sizing:border-box;-moz-box-sizing:border-box}.c-select-item:hover{color:#315efb}.c-select-item-selected{color:#315efb}.c-select-arrow-up{display:none}.c-select-visible .c-select-selection{border-radius:6px 6px 0 0}.c-select-visible .c-select-dropdown{display:block}.c-select-visible .c-select-arrow{display:none}.c-select-visible .c-select-arrow-up{display:inline-block}.c-img{position:relative;display:block;min-height:1px;border:0;line-height:0;background:#f5f5f6;overflow:hidden}.c-img img{width:100%}.c-img1{width:32px}.c-img2{width:80px}.c-img3{width:128px}.c-img4{width:176px}.c-img6{width:272px}.c-img12{width:560px}.c-feed-box .c-img1{width:43px}.c-feed-box .c-img2{width:90px}.c-feed-box .c-img3{width:137px}.c-feed-box .c-img4{width:184px}.c-feed-box .c-img6{width:278px}.c-feed-box .c-img12{width:560px}.c-img-l,.c-img-s,.c-img-v,.c-img-w,.c-img-x,.c-img-y,.c-img-z{height:0;overflow:hidden}.c-img-s{padding-bottom:100%}.c-img-l{padding-bottom:133.33333333%}.c-img-w{padding-bottom:56.25%}.c-img-x{padding-bottom:75%}.c-img-y{padding-bottom:66.66666667%}.c-img-v{padding-bottom:116.66666667%}.c-img-z{padding-bottom:62.5%}.c-img-radius{border-radius:6px}.c-img-radius-s{border-radius:2px}.c-img-radius-small{border-radius:2px}.c-img-radius-large{border-radius:12px}.c-img-radius-middle{border-radius:4px}.c-img-radius-left{border-top-left-radius:6px;border-bottom-left-radius:6px}.c-img-radius-right{border-top-right-radius:6px;border-bottom-right-radius:6px}.c-img-radius-left-s{border-top-left-radius:2px;border-bottom-left-radius:2px}.c-img-radius-right-s{border-top-right-radius:2px;border-bottom-right-radius:2px}.c-img-radius-left-l{border-top-left-radius:12px;border-bottom-left-radius:12px}.c-img-radius-right-l{border-top-right-radius:12px;border-bottom-right-radius:12px}.c-img-mask{position:absolute;top:0;left:0;z-index:2;width:100%;height:100%;background-image:radial-gradient(circle,rgba(0,0,0,0),rgba(0,0,0,.04));background-image:-ms-radial-gradient(circle,rgba(0,0,0,0),rgba(0,0,0,.04))}.c-img-border{content:'';position:absolute;top:0;left:0;bottom:0;right:0;border:1px solid rgba(0,0,0,.05)}.c-img-circle{border-radius:100%;overflow:hidden}.c-input{display:inline-block;font:13px/23px Arial,sans-serif;color:#333;padding:0 10px;border:1px solid #d7d9e0;border-radius:6px;height:28px;line-height:28px\\9;font-size:13px;outline:0;box-sizing:content-box;-webkit-box-sizing:content-box;-moz-box-sizing:content-box;vertical-align:top;overflow:hidden}.c-input .c-icon{float:right;margin-top:6px;font-size:16px;color:#9195a3}.c-input .c-icon-left{float:left;margin-right:4px}.c-input input{float:left;font-size:13px;border:0;outline:0}.c-input input::-webkit-input-placeholder{color:#9195a3}.c-input input::-ms-input-placeholder{color:#9195a3}.c-input input::-moz-placeholder{color:#9195a3}.c-input::-webkit-input-placeholder{color:#9195a3}.c-input::-ms-input-placeholder{color:#9195a3}.c-input::-moz-placeholder{color:#9195a3}.c-input{width:394px}.c-input input{width:374px}.c-input-xmini{width:154px}.c-input-xmini input{width:134px}.c-input-mini{width:202px}.c-input-mini input{width:182px}.c-input-small{width:346px}.c-input-small input{width:326px}.c-input-large{width:442px}.c-input-large input{width:422px}.c-input-xlarge{width:730px}.c-input-xlarge input{width:710px}.c-input12{width:538px}.c-input12 input{width:518px}.c-input20{width:922px}.c-input20 input{width:902px}.c-checkbox,.c-radio{display:inline-block;position:relative;white-space:nowrap;outline:0;line-height:1;vertical-align:middle;cursor:pointer;width:16px;height:16px}.c-checkbox-inner,.c-radio-inner{display:inline-block;position:relative;width:16px;height:16px;line-height:16px;text-align:center;top:0;left:0;background-color:#fff;color:#d7d9e0}.c-checkbox-input,.c-radio-input{position:absolute;top:0;bottom:0;left:0;right:0;z-index:1;opacity:0;filter:alpha(opacity=0)\\9;user-select:none;margin:0;padding:0;width:100%;height:100%;cursor:pointer;zoom:1}.c-checkbox-inner-i,.c-radio-inner-i{display:none;font-size:16px}.c-checkbox-inner-bg,.c-radio-inner-bg{font-size:16px;position:absolute;top:0;left:0;z-index:1}.c-checkbox-checked .c-checkbox-inner-i,.c-radio-checked .c-radio-inner-i{color:#4e71f2;display:inline-block}.c-textarea{font:13px/23px Arial,sans-serif;color:#333;padding:0 10px;border:1px solid #d7d9e0;border-radius:6px;padding:5px 10px;resize:none;outline:0}.c-textarea::-webkit-input-placeholder{color:#9195a3}.c-textarea::-ms-input-placeholder{color:#9195a3}.c-textarea::-moz-placeholder{color:#9195a3}.c-icon{font-family:cIconfont!important;font-style:normal;-webkit-font-smoothing:antialiased;-moz-osx-font-smoothing:grayscale}.c-line-clamp1{overflow:hidden;text-overflow:ellipsis;white-space:nowrap}.c-line-clamp2{display:-webkit-box;overflow:hidden;-webkit-line-clamp:2;-webkit-box-orient:vertical}.c-text{display:inline-block;padding:0 2px;text-align:center;vertical-align:middle;font-style:normal;color:#fff;overflow:hidden;line-height:16px;height:16px;font-size:12px;border-radius:4px;font-weight:200}a.c-text{text-decoration:none!important}.c-text-info{padding-left:0;padding-right:0;font-weight:700;color:#2b99ff;vertical-align:text-bottom}.c-text-info span{padding:0 2px;font-weight:400}.c-text-important{background-color:#1cb7fd}.c-text-public{background-color:#4e6ef2}.c-text-warning{background-color:#f60}.c-text-prompt{background-color:#ffc20d}.c-text-danger{background-color:#f73131}.c-text-safe{background-color:#39b362}.c-text-mult{padding:0 4px;line-height:18px;height:18px;border-radius:4px;font-weight:400}.c-text-blue{background-color:#4e6ef2}.c-text-blue-border{border:1px solid #cbd2ff;padding:0 8px;border-radius:4px;font-weight:400;color:#4e6ef2!important}.c-text-green{background-color:#39b362}.c-text-green-border{border:1px solid #c9e7cd;padding:0 8px;border-radius:4px;font-weight:400;color:#39b362!important}.c-text-red{background-color:#f73131}.c-text-red-border{border:1px solid #f0c8bd;padding:0 8px;border-radius:4px;font-weight:400;color:#f73131!important}.c-text-yellow{background-color:#ffc20d}.c-text-yellow-border{border:1px solid #fcedb1;padding:0 8px;border-radius:4px;font-weight:400;color:#ffc20d!important}.c-text-orange{background-color:#f60}.c-text-orange-border{border:1px solid #f8d2b0;padding:0 8px;border-radius:4px;font-weight:400;color:#f60!important}.c-text-pink{background-color:#fc3274}.c-text-pink-border{border:1px solid #f6c4d7;padding:0 8px;border-radius:4px;font-weight:400;color:#fc3274!important}.c-text-gray{background-color:#626675}.c-text-gray-border{border:1px solid #dbdbdb;padding:0 8px;border-radius:4px;font-weight:400;color:#626675!important}.c-text-dark-red{background-color:#cc2929}.c-text-gray-opacity{background-color:rgba(0,0,0,.3)}.c-text-white-border{border:1px solid rgba(255,255,255,.8);padding:0 8px;border-radius:4px;font-weight:400;color:#fff!important}.c-text-hot{background-color:#f60}.c-text-new{background-color:#ff455b}.c-text-fei{background-color:#fc3200}.c-text-bao{background-color:#de1544}.c-text-rec{background-color:#4dadfe}.c-text-business{background-color:#8399f5}.c-text-time{background-color:rgba(0,0,0,.3)}.c-wrapper{word-wrap:break-word;word-break:break-all;font:14px/24px Arial,sans-serif;color:#222}.c-wrapper:after{display:block;height:0;content:\"\";clear:both;visibility:hidden}.c-container{width:560px}.c-wrapper-l{width:1088px}.c-wrapper-l .c-container-r{width:368px}.c-wrapper-s{width:944px}.c-wrapper-s .c-container-r{width:272px}@media screen and (max-width:1340px){.c-wrapper{width:944px}.c-wrapper .c-container-r{width:272px}}.c-dialog-box{display:none;position:absolute;z-index:999;box-shadow:0 2px 10px 0 rgba(0,0,0,.1);-webkit-box-shadow:0 2px 10px 0 rgba(0,0,0,.1);-moz-box-shadow:0 2px 10px 0 rgba(0,0,0,.1);-o-box-shadow:0 2px 10px 0 rgba(0,0,0,.1);border-radius:16px;background:#fff;padding:19px 24px}.c-dialog-box .c-dialog-close{position:absolute;cursor:pointer;top:12px;right:12px;height:14px;width:14px;line-height:1;color:#d7d9e0}.c-dialog-box .c-dialog-close:hover{color:#315efb}.c-floating-box{background:#fff;box-shadow:0 2px 10px 0 rgba(0,0,0,.15);-webkit-box-shadow:0 2px 10px 0 rgba(0,0,0,.15);-moz-box-shadow:0 2px 10px 0 rgba(0,0,0,.15);-o-box-shadow:0 2px 10px 0 rgba(0,0,0,.15);border-radius:12px;*border:1px solid #d7d9e0}.c-link{color:#222;text-decoration:none}.c-link:visited{color:#626675}.c-link:hover{color:#315efb;text-decoration:none}.c-capsule-tip{display:inline-block;background:#f63051;border-radius:7px;padding:0 4px;height:13px;font-size:11px;line-height:14px;color:#fff;text-align:center}.darkmode.c-container{color:#a8acad}.darkmode .c-abstract{color:#a8acad}.darkmode .c-link{color:#ffd862}.darkmode .c-link:hover{color:#fff762}.darkmode .c-link:visited{color:#ea80ff}.darkmode .c-btn{background-color:#31313b}.darkmode .c-btn,.darkmode .c-btn:visited{color:#a8acad!important}.darkmode .c-btn-primary,.darkmode .c-btn-primary:visited{background:#4e6ef2!important;color:#fff!important}.darkmode .c-btn-disable{color:#6f7273!important}.darkmode .c-btn-disable:visited{color:#6f7273!important}.darkmode .c-btn-disable:hover{color:#6f7273!important;background-color:#31313b}.darkmode .c-btn-add-disable:hover{color:#6f7273!important;background-color:#31313b}.darkmode .c-color-link{color:#ffd862}.darkmode .c-color-visited{color:#ea80ff}.darkmode .c-color-t{color:#a8acad}.darkmode .c-color-text{color:#a8acad}.darkmode .c-color-link{color:#a8acad}.darkmode .c-color-red{color:#f14d2d}.darkmode .c-color-red:visited{color:#f14d2d}.darkmode .c-gray{color:#a8acad}.darkmode .c-color-gray{color:#a8acad}.darkmode .c-color-gray2{color:#a8acad}.darkmode .c-text-danger{background-color:#f14d2d}.darkmode .c-text-red{background-color:#f14d2d}.darkmode .c-text-red-border{color:#f14d2d!important}.darkmode .c-text-public{background-color:#6783f4}.darkmode .c-text-blue{background-color:#6783f4}.darkmode .c-text-blue-border{color:#6783f4!important}.darkmode .c-text-gray{background-color:#a5abac}.darkmode .c-text-gray-border{color:#a5abac!important}.darkmode .c-text-dark-red{background-color:#f74a4a}.darkmode .c-text-bao{background-color:#ff2d8b}.darkmode .c-capsule-tip{background:#f14d2d}.darkmode .c-select{color:#a8acad}.darkmode .c-select-arrow-up{color:#a8acad}.darkmode .c-select-item:hover{color:#fff762}.darkmode .c-select-item-selected{color:#fff762}.darkmode .c-tabs-nav{color:#a8acad}</style><style type=\"text/css\" index=\"index\">body,html{height:100%}html{overflow-y:auto}body{background:#fff}body,form,li,p,ul{list-style:none}#fm{position:relative}a:active{color:#f60}input{border:0}#wrapper{position:relative;min-height:100%}#head{padding-bottom:100px;text-align:center;*z-index:1}.bg{background-image:url(http://ss.bdimg.com/static/superman/img/icons-441e82fb11.png);background-repeat:no-repeat;_background-image:url(http://ss.bdimg.com/static/superman/img/icons-d5b04cc545.gif)}.c-icon-triangle-down-blue{background-position:-480px -168px}.c-icon-chevron-unfold2{background-position:-504px -168px}#m{width:720px;margin:0 auto}#u{display:none}#c-tips-container{display:none}#wrapper{min-width:1250px;height:100%;min-height:600px}#head{position:relative;padding-bottom:0;height:100%;min-height:600px}#m{position:relative}#fm{padding-left:40px;top:-37px}#lh a{margin-left:62px}#lh #setf,#lh #seth{margin-left:0}#lk{position:absolute;display:none;top:0;right:0;margin:33px 0}#lk span{font:14px \"宋体\"}#nv{position:absolute;display:none;top:0;right:0}#lm{color:#666;width:100%;height:60px;margin-top:60px;line-height:15px;font-size:13px;position:absolute;top:0;left:0}#lm a{color:#666}#pad-version{line-height:40px}#su.bg,.s_btn_wr.bg,.s_ipt_wr.bg{background-image:none}#result_logo{display:none}#index_logo img{display:inline-block;width:270px;height:129px}#s_tab{display:none}.s_form_wrapper{height:100%}.s_form_wrapper.lite{top:-191px}#head .c-icon-bear-round{display:none}#fm .bdsug,#form .bdsug{top:35px;z-index:100}.bdsug{width:538px}.bdsug.bdsugbg ul{background:url(http://ss.bdimg.com/static/superman/img/sugbg-1762fe7cb1.png) 100% 100% no-repeat;background-size:100px 110px;background-image:url(http://ss.bdimg.com/static/superman/img/sugbg-90fc9cf8c8.gif)\\9}.quickdelete-wrap{position:relative}#ent_sug{position:absolute;margin:141px 0 0 130px;font-size:13px;color:#666}.tools{position:absolute;right:-75px}#wrapper .bdbri{width:85px;min-height:100px;border-left:1px solid #e7e7e7;position:absolute;background-color:#f9f9f9;overflow:hidden;z-index:10;right:0;top:0}#wrapper .bdbriimgtitle{color:#333;text-align:center;width:66px;height:43px;line-height:43px;padding-top:9px;margin:0 auto;border-bottom:#f0f0f0 1px solid;font-size:13px;cursor:default}#wrapper .briscrollwrapper{overflow:hidden}#wrapper .briscrollwrapperContainer{position:relative}#wrapper .bdbri.bdbriimg .bdmainlink a,#wrapper .bdbri.bdbriimg .bdothlink a{display:block;text-align:center;width:66px;height:76px;margin:0 auto;border-bottom:#f0f0f0 1px solid;color:#666;text-decoration:none;overflow:hidden}#wrapper .bdbri.bdbriimg .bdmainlink a:visited,#wrapper .bdbri.bdbriimg .bdothlink a:visited{color:#666}#wrapper .bdbri.bdbriimg .bdmainlink a:hover,#wrapper .bdbri.bdbriimg .bdothlink a:hover{color:#666;text-decoration:underline}#wrapper .bdbri.bdbriimg .bdmainlink a:active,#wrapper .bdbri.bdbriimg .bdothlink a:active{color:#00c;text-decoration:underline}#wrapper .bdbri.bdbriimg span{width:36px;height:36px;display:block;margin:10px auto 5px;background:url(http://ss.bdimg.com/static/superman/img/logos/bdbri_icons.png) no-repeat;cursor:pointer}#wrapper .bdbri.bdbriimg .bdbrievenmore,#wrapper .bdbri.bdbriimg .bdbrimore{clear:both;text-align:center}#wrapper .bdbri.bdbriimg .bdbrievenmore{margin-top:15px;height:30px;width:85px;overflow:hidden}#wrapper .bdbri.bdbriimg span.bdbriimgitem_1{background:url(http://ss.bdimg.com/static/superman/img/logos/yingxiao-b585c1ec7d.png) no-repeat;background-size:cover}#wrapper .bdbri.bdbriimg span.bdbriimgitem_2{background:url(http://ss.bdimg.com/static/superman/img/logos/zhidao-cbf2affcac.png) no-repeat;background-size:cover}#wrapper .bdbri.bdbriimg span.bdbriimgitem_3{width:36px;background:url(http://ss.bdimg.com/static/superman/img/logos/qqjt-9809ca806e.png) no-repeat;background-size:cover}#wrapper .bdbri.bdbriimg span.bdbriimgitem_4{background:url(http://ss.bdimg.com/static/superman/img/logos/image-55b5909a30.png) no-repeat;background-size:cover}#wrapper .bdbri.bdbriimg span.bdbriimgitem_5{background:url(http://ss.bdimg.com/static/superman/img/logos/wenku-aaf198d89f.png) no-repeat;background-size:cover}#wrapper .bdbri.bdbriimg span.bdbriimgitem_6{background:url(http://ss.bdimg.com/static/superman/img/logos/fengyunbang-1986a40079.png) no-repeat;background-size:cover}#wrapper .bdbri.bdbriimg span.bdbriimgitem_7{background-position:-220px 0}#wrapper .bdbri.bdbriimg .bdbrievenmore a:link,#wrapper .bdbri.bdbriimg .bdbrievenmore a:visited{color:#666;text-decoration:underline}#wrapper .bdbri.bdbriimg .bdbrievenmore a:hover{color:#666;text-decoration:underline}#wrapper .bdbri.bdbriimg .bdbrievenmore a:active{color:#00c}.bdbriscroll-ctrl-scroll{position:absolute;top:10px;right:1px;width:8px;border-top:1px solid #e4e4e4;border-left:1px solid #e4e4e4;cursor:default;-webkit-user-select:none;-moz-user-select:none}.bdbriscroll-ctrl-scroll .bdbriscroll-axis{width:8px;left:0;z-index:0;position:absolute;background:#f2f2f2}.bdbriscroll-ctrl-scroll-touch .bdbriscroll-axis{width:7px;background:#f2f2f2}.bdbriscroll-ctrl-scroll-hover .bdbriscroll-axis{background:#f2f2f2}.bdbriscroll-ctrl-scroll .bdbriscroll-slider{overflow:hidden;width:7px;height:14px;position:absolute;left:0;z-index:10;display:none;background:#d9d9d9;margin-top:-1px;margin-left:-1px;border-right:1px solid #cecece;border-bottom:1px solid #cecece;cursor:default}.bdbriscroll-ctrl-scroll-hover .bdbriscroll-slider,.bdbriscroll-ctrl-scroll-touch .bdbriscroll-slider{background:#b8b8b8;border-right:1px solid #afafaf;border-bottom:1px solid #afafaf}.s_ipt::-webkit-input-placeholder{padding-left:3px;color:#aaa;font-size:13px}.s_ipt::-moz-placeholder{padding-left:3px;color:#aaa;font-size:13px}.s_ipt:-ms-input-placeholder{padding-left:3px;color:#aaa;font-size:13px}.s_ipt::placeholder{padding-left:3px;color:#aaa;font-size:13px}.kw-placeholder{position:absolute;top:0;left:0;color:#aaa;font-size:13px;height:35px;line-height:35px;padding-left:10px;max-width:360px;z-index:99;pointer-events:none}.kw-placeholder.placeholders-hidden{visibility:hidden}.s-skin-hasbg #head_wrapper.s-down .s_ipt:focus{border-top:1px solid #38f!important;border-left:1px solid #38f!important;border-bottom:1px solid #38f!important}.s-isindex-wrap{position:relative}.s_lm_hide{display:none!important}#head_wrapper.head_wrapper{width:auto}#s_main.main{display:none}#s-bottom-layer-hide-card-btn{display:none}@font-face{font-family:cIconfont;src:url(http://ss.bdimg.com/static/superman/font/iconfont-3451557d3a.eot);src:url(http://ss.bdimg.com/static/superman/font/iconfont-3451557d3a.eot?#iefix) format('embedded-opentype'),url(http://ss.bdimg.com/static/superman/font/iconfont-219cdb5f8e.woff2) format('woff2'),url(http://ss.bdimg.com/static/superman/font/iconfont-e917315ef2.woff) format('woff'),url(http://ss.bdimg.com/static/superman/font/iconfont-14947d10b6.ttf) format('truetype'),url(http://ss.bdimg.com/static/superman/font/iconfont-9b46314a54.svg#iconfont) format('svg')}#passport-login-pop{text-align:left}#wrapper .s-top-right.s-down.ipad-min-width-down,#wrapper.ipad-min-width,body .s-top-right.s-down.ipad-min-width-down,body.ipad-min-width{min-width:1024px}#s_side_wrapper{position:fixed;right:24px;bottom:64px;background-color:#fbfbfb;width:44px;border-bottom-left-radius:22px;border-bottom-right-radius:22px;border-top-left-radius:22px;border-top-right-radius:22px}#s_side_wrapper .c-icon{font-family:cIconfont!important;font-style:normal;-webkit-font-smoothing:antialiased;-moz-osx-font-smoothing:grayscale}#s_side_wrapper .side-entry{width:44px;height:44px;border-radius:50%}#s_side_wrapper .side-entry .toast{display:none;box-shadow:0 1px 10px 0 rgba(0,0,0,.1);background:#fff;border-radius:6px;position:absolute;right:52px;height:34px;line-height:34px;font-size:13px;top:9px}#s_side_wrapper .aging-entry{line-height:44px;cursor:pointer;box-sizing:border-box;padding-top:12px}#s_side_wrapper .aging-entry .toast{width:84px}#s_side_wrapper .aging-entry .aging-entry-inner{width:18px;height:18px;margin:0 auto;background:url(data:image/png;base64,iVBORw0KGgoAAAANSUhEUgAAACAAAAAgCAMAAABEpIrGAAAA7VBMVEUAAAD////////s8v////+txP+qwv+4zf/w9f/2+P+hu//Q3f+yyP+4zf/Q3f////+kvv+90P+80f+2yv/S4P/T4P/M2//z9/+cuP/V4P9Whv////9Uhf9Sg/9Pgf9NgP/8/f9di/9Xh/9lkf5aif9qlP7z9//k7P/c5v+2y/94nv51nP6lv/+LrP6Ep/6BpP5gjf7v9P+wxv/U4f/M2/+sxP+vxv73+f/P3v/J2v+5zf+ivP+fuv9xmf+Ytv6Usv6Hqf58of5vl/7m7v/g6f+zyf6QsP75+//q8P/B0v/W4//C1P6+0P6qwv6ct/76fHZiAAAAGnRSTlMAGAaVR/Py45aC9Mfy2b8t9OPZ2ce/v4L0x/e74/EAAAIZSURBVDjLZVPXYuIwEDSmQ4BLv5O0ku3Yhwu2IZTQe0hy7f8/57QSoYR5sVea1c424wgzl324LRRuH7I507hEJluYucCFEOBGhWzmy7X5+N0WwIjTbrcdBsKulM0z96onGCGE2X6n+cTkj/CqJ480igzkNXp26E9JkABSbBz8i4Bn3EkH840mKHoxs49fZQzt2Kd03FQEzSB3WsejB9Jqf1CJQBM0wCurABWBoub0gkDENwyStTHA62pwSWDtklRQ4FLfjnaiPqVW60hAYeLKNHIREOZuKTL80H6XBFCwn4BAmDOyLiOQUIlOSEjaoS+Ju57NZuul73Fml4w6yAivSLBW3MGfcfBmIegmArg3alICdJHgy1jQt8Z/6CcC4DdGXhLIoiWRACpbLYbDYW80GnXp2GH8ShP+PUvEoHsAIFq9Xm8+kXlIwkkI9pm+05Tm3yWqu9EiB0pkwjWBx2i+tND1XqeZqpPU4VhUbq/ekR8CwTRVoRxf3ifTbeIwcONNsJZ2lxFVKDMv1KNvS2zXdrnD+COvR1PQpTZKNlKD3cLCOJNnivgVxkw169BunlKFaV9/B+LQbqOsByY4IVgDB59dl/cjR9TIJV1Lh7CGqUqH/DDPhhZYOPkdLz6m0X7GrzPHsSe6zJwzxvm+5NeNi8U5ABfn7mz7zHJFrZ6+BY6rd7m8kQtcAtwwXzq4n69/vZbP1+pn6/8fsrRmHUhmpYYAAAAASUVORK5CYII=) no-repeat;background-size:16px;background-position:center;border-radius:50%;border:1px solid #626675}#s_side_wrapper .aging-entry:hover{box-shadow:0 3px 5px 0 rgba(0,0,0,.1)}#s_side_wrapper .aging-entry:hover .toast{display:block}#s_side_wrapper .aging-entry:hover .aging-entry-inner{border:1px solid #4e6ef2}#s_side_wrapper .qrcode-nologin:hover{box-shadow:0 3px 5px 0 rgba(0,0,0,.1)}#s_side_wrapper .qrcode-nologin:hover .icon-mask-wrapper .icon{display:none}#s_side_wrapper .qrcode-nologin:hover .icon-mask-wrapper .icon-hover{display:block}#s_side_wrapper .qrcode-nologin:hover .icon-mask-wrapper::before{position:absolute;top:0;left:-20px;content:'';width:44px;height:44px}#s_side_wrapper .icon-mask-wrapper{width:100%;border-radius:50%;padding:10px 0;cursor:pointer}#s_side_wrapper .icon-mask-wrapper .icon,#s_side_wrapper .icon-mask-wrapper .icon-hover{height:24px;width:24px;margin-right:auto;margin-left:auto;display:block}#s_side_wrapper .icon-mask-wrapper .icon-hover{display:none}#s_side_wrapper .tooltip{display:none;position:absolute;right:56px;bottom:0;background-color:#fff;z-index:303;box-shadow:0 2px 10px 0 rgba(0,0,0,.1);border-radius:12px}#s_side_wrapper .qrcode-tooltip{width:306px;height:107px;overflow:hidden}#s_side_wrapper .qrcode-tooltip .text{text-align:left;margin-top:28px;margin-left:16px}#s_side_wrapper .qrcode-tooltip .text .login-text{color:#333;font-size:20px;margin-bottom:4px}#s_side_wrapper .qrcode-tooltip .text .login-text .login-icon{margin-right:4px;font-size:19px}#s_side_wrapper .qrcode-tooltip .text .login-info{font-size:14px;color:#9195a3}#s_side_wrapper .qrcode-tooltip .Qrcode-status-guideAnim,#s_side_wrapper .qrcode-tooltip .pass-form-logo{display:none}#s_side_wrapper .qrcode-tooltip .Qrcode-status-con{width:75px;height:75px;position:absolute;top:-69px;border:none;right:9px;padding-top:8px}#s_side_wrapper .qrcode-tooltip .Qrcode-status-con img{width:75px;height:75px}#s_side_wrapper .qrcode-tooltip .Qrcode-status-success.Qrcode-status-con{padding-top:5px;padding-right:10px}#s_side_wrapper .qrcode-tooltip .Qrcode-status-error,#s_side_wrapper .qrcode-tooltip .Qrcode-status-refresh{padding-top:6px;padding-right:12px}#s_side_wrapper .qrcode-tooltip .tang-pass-qrcode-content{padding-top:0}#s_side_wrapper .qrcode-tooltip .Qrcode-status-icon{width:20px;height:20px;border-radius:20px;background-size:20px;margin:15px auto 9px}#s_side_wrapper .qrcode-tooltip .Qrcode-status-icon+p{font-size:12px;color:#9195a3;font-family:Arial,\"Microsoft YaHei\",sans-serif}#s_side_wrapper .qrcode-tooltip .Qrcode-status-error .Qrcode-status-icon,#s_side_wrapper .qrcode-tooltip .Qrcode-status-refresh .Qrcode-status-icon{margin:5px auto;color:#f33;font-size:20px;background:0 0}#s_side_wrapper .qrcode-tooltip .Qrcode-refresh-btn{background:#4e6ef2;border-radius:4px;color:#fff;font-size:10px;padding:1px 0;-webkit-transform:scale(.8);margin-top:-2px;width:60px;text-align:center}#s_side_wrapper .qrcode-tooltip .login-type-tab,#s_side_wrapper .qrcode-tooltip .pass-qrcode-download,#s_side_wrapper .qrcode-tooltip .tang-pass-qrcode-title{display:none!important}#s_side_wrapper .qrcode-tooltip .tang-pass-qrcode-img{margin-top:-18px;margin-left:-14px}#s_side_wrapper .qrcode-tooltip .tang-pass-qrcode-imgWrapper{display:block!important}@media screen and (max-width:1158px){#s_side_wrapper{display:none}}</style><style type=\"text/css\" index=\"common\">#head_wrapper{position:relative;height:40%;min-height:314px;max-height:510px;width:1000px;margin:0 auto}#head_wrapper .s-p-top{height:60%;min-height:185px;max-height:310px;position:relative;z-index:0;text-align:center}#head_wrapper #s_lg_img,#head_wrapper #s_lg_img_aging,#head_wrapper #s_lg_img_new{bottom:15px!important}#head_wrapper input{outline:0;-webkit-appearance:none}#head_wrapper input::-webkit-input-placeholder{color:#9195a3}#head_wrapper .s_btn_wr,#head_wrapper .s_ipt_wr{display:inline-block;*display:inline;zoom:1;background:0 0;vertical-align:top;*vertical-align:middle}#head_wrapper .s_ipt_wr{position:relative;width:546px}#head_wrapper .s_btn_wr{width:108px;height:44px;position:relative;z-index:2}#head_wrapper .s_ipt_wr:hover #kw{border-color:#a7aab5}#head_wrapper #kw{width:512px;height:16px;padding:12px 16px;font-size:16px;margin:0;vertical-align:top;outline:0;box-shadow:none;border-radius:10px 0 0 10px;border:2px solid #c4c7ce;background:#fff;color:#222;overflow:hidden;box-sizing:content-box;-webkit-tap-highlight-color:transparent}#head_wrapper #kw:focus{border-color:#4e6ef2!important;opacity:1;filter:alpha(opacity=100)\\9}#head_wrapper .soutu-env-mac .has-voice #kw{width:411px;padding-right:119px}#head_wrapper.s-down .soutu-env-mac .has-voice #kw{width:411px;padding-right:119px}#head_wrapper .soutu-env-mac #kw,#head_wrapper .soutu-env-nomac #kw{width:443px;padding-right:87px}#head_wrapper.s-down .soutu-env-mac #kw,#head_wrapper.s-down .soutu-env-nomac #kw{width:443px;padding-right:87px}#head_wrapper .soutu-env-mac .sam_search.has-voice #kw{width:393px;padding-right:139px}#head_wrapper.s-down .soutu-env-mac .sam_search.has-voice #kw{width:393px;padding-right:139px}#head_wrapper .soutu-env-mac .sam_search #kw,#head_wrapper .soutu-env-nomac .sam_search #kw{width:433px;padding-right:99px}#head_wrapper.s-down .soutu-env-mac .sam_search #kw,#head_wrapper.s-down .soutu-env-nomac .sam_search #kw{width:433px;padding-right:99px}#head_wrapper .s_form{width:654px;height:100%;margin:0 auto;text-align:left;z-index:100}#head_wrapper .s_btn{cursor:pointer;width:108px;height:44px;line-height:45px;line-height:44px\\9;padding:0;background:0 0;background-color:#4e6ef2;border-radius:0 10px 10px 0;font-size:17px;color:#fff;box-shadow:none;font-weight:400;border:none;outline:0}#head_wrapper .s_btn:hover{background-color:#4662d9}#head_wrapper .s_btn:active{background-color:#4662d9}#head_wrapper.s-down{position:fixed;_position:static;top:0;left:0;height:50px;min-height:50px;z-index:20;width:100%;padding-top:15px;_margin:0 auto}#head_wrapper.s-down .s_form{width:100%;min-width:1250px;margin:0 auto;height:100%;padding-left:0;margin-top:0;margin-left:-15px;min-height:0}#head_wrapper.s-down .s_form .s_form_wrapper{margin:0 auto}#head_wrapper.s-down .s-p-top{display:none}#head_wrapper.s-down #result_logo,#head_wrapper.s-down .fm{display:inline-block;*display:inline;zoom:1;vertical-align:middle;margin-left:-119px}@-webkit-keyframes fadein{from{opacity:0}to{opacity:1}}#head_wrapper.s-down #result_logo{-webkit-animation:fadein 1s}#head_wrapper.s-down .fm{margin:0 0 0 16px}#head_wrapper.s-down #result_logo img{width:101px}#head_wrapper.s-down #kw{padding:10px 16px;width:516px}#head_wrapper.s-down .s_ipt_wr{width:546px}#head_wrapper.s-down .s_btn,#head_wrapper.s-down .s_btn_wr{height:40px}#head_wrapper.s-down .s_btn{line-height:41px;line-height:40px\\9}#head_wrapper.s-down .soutu-env-newindex .sam_search #kw{padding-top:11px;padding-bottom:11px}#head_wrapper.s-down .soutu-env-newindex .sam_search .s_btn_wr{height:44px}#head_wrapper.s-down .soutu-env-newindex .sam_search .s_btn{height:44px;line-height:44px}#head_wrapper.s-down .soutu-env-newindex .sam_search .sam_search_rec_hover{top:52px}#head_wrapper .ipt_rec,#head_wrapper .soutu-btn{background:#fff url(http://ss.bdimg.com/static/superman/img/searchbox/nicon-10750f3f7d.png) no-repeat;width:24px;height:20px}@media only screen and (-webkit-min-device-pixel-ratio:2){#head_wrapper .ipt_rec,#head_wrapper .soutu-btn{background-image:url(http://ss.bdimg.com/static/superman/img/searchbox/nicon-2x-6258e1cf13.png);background-size:24px 96px}}#head_wrapper .soutu-btn{background-position:0 -51px;right:16px;margin-top:-9px}#head_wrapper .soutu-btn:hover{background-position:0 -75px}#head_wrapper .ipt_rec{background-position:0 -2px;top:50%;right:52px!important;margin-top:-10px}#head_wrapper .ipt_rec:hover{background-position:0 -26px}#head_wrapper .ipt_rec:after{display:none}#head_wrapper .under-searchbox-tips{font-size:13px;color:#222;text-align:center}#head_wrapper .under-searchbox-tips .links-link{color:#222;display:inline-block}#head_wrapper .under-searchbox-tips .links-link:hover{color:#315efb}#head_wrapper .under-searchbox-tips .links-link--image{display:inline-block;width:176px;height:30px;border-radius:6px;overflow:hidden;margin-top:8px}#head_wrapper .under-searchbox-tips .links-emphasize-link{margin-top:2px;margin-right:20px;padding:0 8px;font-size:14px;text-decoration:none;line-height:30px;display:inline-block;color:#2027b4;border-radius:6px;background:#f5f7fe}#head_wrapper .under-searchbox-tips .links-emphasize-link:hover{color:#315efb}#head_wrapper .under-searchbox-tips .links-emphasize-link.last{margin-right:0}#head_wrapper .under-searchbox-tips .icon{display:inline-block;background-color:#dadde2;width:4px;height:4px;border-radius:50%;margin:0 20px;line-height:18px;vertical-align:top}#head_wrapper #m{margin:38px auto 0 auto;width:100%}#head_wrapper #m .icon{margin-top:8px}#head_wrapper #s_lm_wrap{position:static;margin:32px auto 0 auto;width:100%}#head_wrapper #s_lm_wrap .links-wrap{display:inline-block;margin:0 auto}#head_wrapper #s_lm_wrap .links-wrap .links-link:hover{text-decoration:none}#head_wrapper #s_lm_wrap .links-wrap .icon{margin-top:13px}#head_wrapper.s-ps-islite #m{position:absolute;bottom:-56px}#head_wrapper.s-ps-islite #s_lm_wrap{position:absolute;margin-bottom:0;bottom:-62px;left:0;box-sizing:border-box}#head_wrapper .quickdelete-wrap{position:relative}#head_wrapper .quickdelete{width:18px;height:18px;font-size:16px;line-height:18px;text-align:center;position:absolute;top:50%;margin-top:-9px;right:16px;display:none;cursor:pointer}#head_wrapper .quickdelete-line{display:none;height:14px;width:1px;background-color:#f5f5f6;position:absolute;top:50%;right:0;margin-top:-7px}#head_wrapper #form.has-voice.fm .quickdelete{right:95px}#head_wrapper #form.has-voice.fm .quickdelete-line{right:83px}#head_wrapper #form.has-soutu .quickdelete{right:63px}#head_wrapper #form.has-soutu .quickdelete-line{right:51px}#head_wrapper #form.has-voice.sam_search.fm .quickdelete{right:111px}#head_wrapper #form.has-voice.sam_search.fm .quickdelete-line{right:95px}#head_wrapper #form.has-soutu.sam_search .quickdelete{right:71px}#head_wrapper #form.has-soutu.sam_search .quickdelete-line{right:55px}#head_wrapper .sam_search{border-radius:12px}#head_wrapper .sam_search #kw{border-radius:12px 10px 10px 12px;border:2px solid #4e6ef2;background-clip:padding-box;-ms-background-clip:padding-box;-webkit-background-clip:padding-box;height:20px;line-height:20px;font-size:18px;padding:12px 14px;width:518px}#head_wrapper .sam_search .s_ipt_wr{z-index:4}#head_wrapper .sam_search .s_ipt_wr.iptfocus #kw,#head_wrapper .sam_search .s_ipt_wr.ipthover #kw{border-color:#1d4fff!important}#head_wrapper .sam_search .s_ipt_wr:hover #kw{border-color:#1d4fff!important}#head_wrapper .sam_search .s_ipt_wr:hover .s_btn{background-color:#1d4fff}#head_wrapper .sam_search .s_btn_wr{width:116px;height:48px;margin-left:-8px}#head_wrapper .sam_search .s_btn_wr .btnfocus.s_btn,#head_wrapper .sam_search .s_btn_wr .btnhover.s_btn{background-color:#1d4fff}#head_wrapper .sam_search .s_btn{width:116px;height:48px;line-height:48px;z-index:-1;font-size:18px;padding-left:8px;border-radius:0 12px 12px 0;background-color:#4e6ef2}#head_wrapper .sam_search .s_btn:hover{background-color:#1d4fff}#head_wrapper .sam_search.sam_form_shadow{box-shadow:0 4px 2px 0 rgba(0,0,0,.1)}#head_wrapper .sam_search .iptfocus.s_btn_wr #kw{border-color:#1d4fff}#head_wrapper .sam_search .quickdelete{color:#e4e4e5}#head_wrapper .sam_search .quickdelete:hover{color:#c4c7ce}#head_wrapper .sam_search .quickdelete-line{height:24px;margin-top:-12px}#head_wrapper .sam_search .sam_search_rec{right:54px}#head_wrapper .sam_search .sam_search_rec_hover{top:56px;right:29px}#head_wrapper .soutu-env-newindex .sam_search #kw{height:18px;line-height:18px;padding-top:13px;padding-bottom:13px}.s-skin-hasbg #head_wrapper #form.sam_search #kw{border-color:#4e6ef2}.s-skin-hasbg #head_wrapper #form.sam_search #kw:hover{border-color:#1d4fff;opacity:1;filter:alpha(opacity=100)\\9}.s-skin-hasbg #head_wrapper #form.sam_search #kw:focus{border-color:#1d4fff!important;opacity:1;filter:alpha(opacity=100)\\9}.s-skin-hasbg #head_wrapper #form.sam_search #kw.new-ipt-focus{border-color:#1d4fff}.s-skin-hasbg #head_wrapper .s_btn{background:#4e6ef2;color:#fff}.s-skin-hasbg #head_wrapper .s_btn:hover{background-color:#4662d9}.s-skin-hasbg #head_wrapper .s_btn:active{background-color:#4662d9}.s-skin-hasbg #head_wrapper #form #kw{border-color:#4569ff}.s-skin-hasbg #head_wrapper #form #kw:hover{border-color:#4569ff;opacity:1;filter:alpha(opacity=100)\\9}.s-skin-hasbg #head_wrapper #form #kw:focus{border-color:#4569ff!important;opacity:1;filter:alpha(opacity=100)\\9}.s-skin-hasbg #head_wrapper #form #kw.new-ipt-focus{border-color:#4569ff}.s-skin-hasbg #head_wrapper #s_lm_wrap{background-image:none;filter:none}.s-skin-hasbg #head_wrapper #s_lm_wrap .links-wrap{background-color:rgba(255,255,255,.65)!important;padding:0 12px;border-radius:6px}.s-skin-hasbg #head_wrapper #s_lm_wrap .links-wrap .icon{margin-top:13px}.s-skin-hasbg #head_wrapper.s-down #form.sam_search #kw{border-color:#4e6ef2;padding-top:11px;padding-bottom:11px;height:18px;line-height:18px}.s-skin-hasbg #head_wrapper.s-down #form.sam_search #kw:hover{border-color:#1d4fff;opacity:1;filter:alpha(opacity=100)\\9}.s-skin-hasbg #head_wrapper.s-down #form.sam_search #kw:focus{border-color:#1d4fff!important;opacity:1;filter:alpha(opacity=100)\\9}.s-skin-hasbg #head_wrapper.s-down #form.sam_search #kw.new-ipt-focus{border-color:#1d4fff}.s-skin-hasbg #head_wrapper.s-down #form.sam_search .s_btn_wr{height:44px}.s-skin-hasbg #head_wrapper.s-down #form.sam_search .s_btn{background:#4e6ef2;color:#fff;height:44px;line-height:44px}.s-skin-hasbg #head_wrapper.s-down #form.sam_search .s_btn.btnfocus,.s-skin-hasbg #head_wrapper.s-down #form.sam_search .s_btn:active,.s-skin-hasbg #head_wrapper.s-down #form.sam_search .s_btn:hover{background-color:#1d4fff}.s-skin-hasbg #head_wrapper.s-down #form #kw{border-color:#c4c7ce}.s-skin-hasbg #head_wrapper.s-down #form #kw:hover{border-color:#a7aab5;opacity:.8;filter:alpha(opacity=80)\\9}.s-skin-hasbg #head_wrapper.s-down #form #kw:focus{border-color:#4e6ef2!important;opacity:1;filter:alpha(opacity=100)\\9}.s-skin-hasbg #head_wrapper.s-down #form #kw.new-ipt-focus{border-color:#4e6ef2}.s-skin-hasbg #head_wrapper.s-down .s_btn{background:#4e6ef2;color:#fff}.s-skin-hasbg #head_wrapper.s-down .s_btn:hover{background-color:#4662d9}.s-skin-hasbg #head_wrapper.s-down .s_btn:active{background-color:#4662d9}#s_top_wrap{position:absolute;z-index:99;min-width:1000px;width:100%}#s_top_wrap.s-down{position:fixed;_position:absolute;top:0;left:0;height:70px;z-index:10;width:100%}#s_top_wrap .s-center-box{position:relative;z-index:1;width:100%;_width:1000px;height:100%}#s_top_wrap.s-down .s-center-box{box-shadow:0 2px 10px 0 rgba(0,0,0,.1);background-color:#fff;border-bottom:1px solid #888\\9;_border-bottom:0}#s_top_wrap .s-top-nav{position:absolute;top:70px;width:100%;min-width:1250px;_width:1000px;height:40px;overflow:hidden;display:none}#s_top_wrap .s-top-nav .s-menus-outer{margin-left:-25px}#s_top_wrap.s-down.sam_top_wrap{height:74px}#s_top_wrap.sam_top_wrap .s-top-nav{top:74px}.s-top-wrap{border-bottom:0;height:60px;background:#fff}.s-top-left-new{position:absolute;left:0;top:0;z-index:100;height:60px;padding-left:24px}.s-top-left-new .mnav{margin-right:24px;margin-top:19px;display:inline-block;position:relative}.s-top-left-new .mnav:hover .s-bri,.s-top-left-new a:hover{color:#315efb;text-decoration:none}.s-top-left-new .s-top-more-btn{padding-bottom:19px}.s-top-left-new .s-top-more{display:none;position:absolute;top:29px;right:-12px;width:228px;height:298px;background:#fff;box-shadow:0 2px 10px 0 rgba(0,0,0,.15);border-radius:12px}.s-top-left-new .s-top-more .s-top-more-content.row-1{padding-top:8px;margin-left:8px}.s-top-left-new .s-top-more .s-top-more-content.row-2{padding-top:0;margin-left:8px}.s-top-left-new .s-top-more .s-top-more-content.row-3{padding-top:0;margin-left:8px;height:84px}.s-top-left-new .s-top-more .s-top-more-content .img-spacing{margin-right:16px}.s-top-left-new .s-top-more .s-top-more-content a{width:60px;height:82px;float:left}.s-top-left-new .s-top-more .s-top-more-content img{width:42px;height:42px;margin-top:8px;margin-left:8px;margin-right:8px;border:1px solid rgba(0,0,0,.03);border-radius:8px;display:block}.s-top-left-new .s-top-more .s-top-more-content .s-top-more-title{width:60px;text-align:center;margin-top:3px}.s-top-left-new .s-top-more .s-top-more-content>a:hover{background-color:#f1f3fd;border-radius:8px}.s-top-left-new .s-top-more .s-top-more-content>a:hover .s-top-more-title{color:#315efb}.s-top-left-new .s-top-more .s-top-tomore{margin-top:0;width:212px;margin-left:8px;padding-top:5px;height:27px}.s-top-left-new .s-top-more .s-top-tomore:hover{background-color:#f1f3fd;border-radius:8px}.s-top-left-new .s-top-more .s-top-tomore:hover a{color:#315efb}.s-top-left-new .s-top-more-btn:hover .s-top-more{display:block}.s-top-left{position:absolute;left:0;top:0;z-index:100;height:60px;padding-left:24px}.s-top-left .mnav{margin-right:31px;margin-top:19px;display:inline-block;position:relative}.s-top-left .mnav:hover .s-bri,.s-top-left a:hover{color:#315efb;text-decoration:none}.s-top-left .s-top-more-btn{padding-bottom:19px}.s-top-left .s-top-more{display:none;position:absolute;top:29px;right:-12px;width:304px;height:223px;background:#fff;box-shadow:0 2px 10px 0 rgba(0,0,0,.15);border-radius:12px}.s-top-left .s-top-more .s-top-more-content.row-1{padding-top:16px}.s-top-left .s-top-more .s-top-more-content.row-2{padding-top:19px}.s-top-left .s-top-more .s-top-more-content a{width:76px;height:70px;float:left}.s-top-left .s-top-more .s-top-more-content img{width:42px;height:42px;margin:auto;border:1px solid rgba(0,0,0,.03);border-radius:12px;display:block}.s-top-left .s-top-more .s-top-more-content .s-top-more-title{width:76px;text-align:center;margin-top:3px}.s-top-left .s-top-more .s-top-more-content>a:hover .s-top-more-title{color:#315efb}.s-top-left .s-top-more .s-top-tomore{margin-top:10px}.s-top-left .s-top-more-btn:hover .s-top-more{display:block}.s-top-right{position:absolute;right:0;top:0;z-index:100;height:60px;padding-right:24px;-webkit-tap-highlight-color:transparent}.s-top-right .s-top-right-text{margin-left:32px;margin-top:19px;display:inline-block;position:relative;vertical-align:top;cursor:pointer}.s-top-right .s-top-right-text:hover{color:#315efb}.s-top-right .s-top-username{margin-left:32px;margin-top:15px;display:inline-block;height:30px;position:relative}.s-top-right .s-top-username .s-top-img-wrapper{position:relative;width:28px;height:28px;border:1px solid #4e71f2;display:inline-block;border-radius:50%}.s-top-right .s-top-username img{padding:2px;width:24px;height:24px;border-radius:50%}.s-top-right .s-top-username:hover .user-name{color:#315efb}.s-top-right .s-top-username .user-name{display:inline-block;max-width:100px;overflow:hidden;white-space:nowrap;text-overflow:ellipsis;-o-text-overflow:ellipsis;vertical-align:top;margin-top:3px;margin-left:6px}.s-top-right .s-top-username.s-hasmsg-tip .s-top-img-wrapper::after{content:'';position:absolute;top:-1px;right:0;width:6px;height:6px;border:1px solid #fff;border-radius:6px;background:#f63051}.s-top-right .s-top-right-new{margin-left:24px}.s-top-right .s-top-login-btn{display:inline-block;margin-top:18px;margin-left:32px;font-size:13px}.s-top-right a:hover{text-decoration:none}.s-top-userset-menu{display:none;width:84px;padding:8px 0;top:48px;position:absolute;right:10px;float:right;z-index:999;text-align:left}.s-top-userset-menu a{display:block;margin:3px 16px 3px 16px;color:#333}.s-top-userset-menu a:hover{color:#315efb;text-decoration:none}.s-top-userset-menu .split-line{display:block;margin:8px 16px;background:#d7d9e0;height:1px}.s-top-userset-menu .s-msg-count{display:none;margin-left:4px}.s-top-userset-menu .hide-feed{display:inline-block}.s-top-userset-menu .show-feed{display:none}.s-top-userset-menu.hiding-feed .hide-feed{display:none}.s-top-userset-menu.hiding-feed .show-feed{display:inline-block}.s-top-userset-menu.hiding-feed .set-close-homepage-tts,.s-top-userset-menu.hiding-feed .set-open-homepage-tts{display:none}.s-skin-hasbg .s-top-wrap{background:rgba(0,0,0,.2)}.s-skin-hasbg .desktop-top-wrap{background:0 0}.s-skin-hasbg .s-top-left .mnav,.s-skin-hasbg .s-top-left .mnav .s-bri{color:rgba(255,255,255,.85)}.s-skin-hasbg .s-top-left .mnav:hover,.s-skin-hasbg .s-top-left .mnav:hover .s-bri{color:#fff;text-decoration:none}.s-skin-hasbg .s-top-left-new .mnav,.s-skin-hasbg .s-top-left-new .mnav .s-bri{color:rgba(255,255,255,.85)}.s-skin-hasbg .s-top-left-new .mnav:hover,.s-skin-hasbg .s-top-left-new .mnav:hover .s-bri{color:#fff;text-decoration:none}.s-skin-hasbg .s-top-right .s-top-right-text.c-color-t{color:rgba(255,255,255,.85)}.s-skin-hasbg .s-top-right .s-top-right-text.c-color-t:hover{color:#fff}.s-skin-hasbg .s-top-right .s-top-username .user-name{color:rgba(255,255,255,.85)}.s-skin-hasbg .s-top-right .s-top-username:hover .user-name{color:#fff}.s-top-right.s-down{position:fixed;left:0;top:5px;min-width:1250px;width:100%;height:0;text-align:right;padding-right:0}.s-top-right.s-down>*{display:none}.s-top-right.s-down>#s-top-username,.s-top-right.s-down>#s-usersetting-top{display:inline-block}.s-top-right.s-down #s-top-username{margin-right:24px}.s-top-right.s-down .s-top-right-text.c-color-t{color:#222}.s-top-right.s-down .s-top-right-text.c-color-t:hover{color:#315efb}.s-top-right.s-down .s-top-username .user-name{color:#222}.s-top-right.s-down .s-top-username:hover .user-name{color:#315efb}.guide-info{background-color:#fff;box-shadow:0 2px 10px 0 rgba(0,0,0,.1);border-radius:12px 2px 12px 12px;height:36px;width:258px;text-align:left;position:absolute;margin-top:6px;padding:5px 0 5px 10px;display:none}.guide-info .guide-icon{color:#4e6ef2;font-size:15px;display:inline-block;line-height:36px;vertical-align:top;margin-right:6px}.guide-info span{display:inline-block;line-height:36px;vertical-align:top;font-size:13px;font-family:Arial,sans-serif;color:#333}.guide-info .guide-close{color:#c4c7ce;margin-left:11px;display:inline-block;width:20px;height:36px;text-align:center;line-height:36px;vertical-align:top;font-size:13px;cursor:pointer}.guide-info .guide-close:hover{color:#4e6ef2}.guide-info-login{width:244px}.s-ie8-hack .s-top-userset-menu{margin-right:-20px}.s-ie8-hack .s-top-userset-menu{border:1px solid #f5f5f6}.sui-wraper .sui-dialog.sui-dialog-homepage-tts-pannel{position:fixed;_position:absolute;margin:-100px 0 0 -200px;border-radius:8px;background:#626675;border:0}.sui-wraper .sui-dialog.sui-dialog-homepage-tts-pannel .homepage-tts-pannel-text{color:#fff;position:absolute;left:11px;top:8px}#bottom_layer{width:100%;position:fixed;z-index:302;bottom:0;left:0;height:39px;padding-top:1px;overflow:hidden;zoom:1;margin:0;line-height:39px;background:#fff}#bottom_layer .lh{display:inline;margin-right:20px}#bottom_layer .lh .emphasize{text-decoration:underline;font-weight:700}#bottom_layer .lh:last-child{margin-left:-2px;margin-right:0}#bottom_layer .lh.activity{font-weight:700;text-decoration:underline}#bottom_layer a{font-size:12px;text-decoration:none}#bottom_layer .text-color{color:#bbb}#bottom_layer .aria-img{width:49px;height:20px;margin-bottom:-5px}#bottom_layer a:hover{color:#222}#bottom_layer .s-bottom-layer-content{text-align:center}#bottom_layer .s-bottom-layer-content .auto-transform-line{display:inline}#bottom_layer .s-bottom-layer-content .auto-transform-line:first-child{margin-right:20px}.s-bottom-space{position:static;width:100%;height:40px;margin:23px auto 12px}@media screen and (max-width:1239px){#bottom_layer.ipad-bottom-layer{height:58px;line-height:22px;padding:7px 0;box-sizing:border-box}#bottom_layer.ipad-bottom-layer .s-bottom-layer-content .auto-transform-line{display:block;min-width:815px;overflow:hidden}#bottom_layer.ipad-bottom-layer .s-bottom-layer-content .auto-transform-line:first-child{margin-right:0}}#blind-box{position:fixed;right:24px;bottom:185px;height:44px;width:44px;border-radius:22px}#blind-box .blind-search-box{position:absolute;bottom:-17px;right:0;min-width:208px;height:80px;box-sizing:border-box;padding:17px 0 17px 6px;overflow:hidden;text-align:right}#blind-box .blind-search-box .blind-search-area{background-color:#fff;text-align:left;display:inline-block;height:46px;max-width:100%;width:fit-content;white-space:nowrap;overflow:hidden;box-sizing:border-box;padding-right:56px;border-radius:12px 2px 12px 12px;font-size:13px;cursor:pointer;color:#333;transform:translateX(110%);line-height:46px;position:relative}#blind-box .blind-search-box .blind-search-area .blind-text,#blind-box .blind-search-box .blind-search-area .i{display:inline-block;vertical-align:top}#blind-box .blind-search-box .blind-search-area i{color:#4e71f2;font-size:14px;margin-left:10px}#blind-box .blind-search-box .blind-search-area .blind-text{height:100%;min-width:50px;position:relative;line-height:46px;transition:all .3s;overflow:hidden}#blind-box .blind-search-box .blind-search-area .blind-text:hover{color:#315efb}#blind-box .blind-search-box .blind-search-area .blind-text .blind-span{line-height:46px;position:absolute;white-space:nowrap;left:0;top:0;opacity:0;transition:all .3s}#blind-box .blind-search-box .blind-search-area .blind-text .span-now{opacity:1}#blind-box .blind-search-box .blind-search-area .blind-text .span-next{opacity:0;transform:translateX(-40%)}#blind-box .blind-search-box .blind-search-area .blind-text .span-last{opacity:0;transform:translateX(40%)}#blind-box .blind-search-box .blind-box-hover{transform:translateX(0);box-shadow:0 2px 10px 0 rgba(0,0,0,.1)}#blind-box .blind-search-img{height:80px;width:80px;position:absolute;left:-12px;bottom:0;transform-origin:bottom center;transform:scale(.55);border-radius:40px;cursor:pointer;background-color:#fbfbfb;overflow:hidden}#blind-box .blind-search-img .blind-img{height:100%;width:100%;position:absolute;top:0;left:0;object-fit:contain;object-position:center;opacity:0;transition:all .3s}#blind-box .blind-search-img .blind-img-show{opacity:1}#blind-box .blind-img-hover{transform:scale(1) translateZ(0);border-radius:0;background-color:transparent}#blind-box .blind-img-ie,#blind-box .blind-title-ie{cursor:pointer;position:absolute;bottom:0;right:0}#blind-box .blind-title-ie{background-color:#fff;height:46px;width:191px;line-height:46px;box-sizing:border-box;padding:0 10px;font-size:13px;color:#333;visibility:hidden}#blind-box .blind-title-ie:hover{color:#315efb}#blind-box .blind-img-ie{height:44px;width:44px;object-fit:cover;object-position:center}#blind-box:hover .blind-img-ie{height:80px;width:80px;right:-24px}#blind-box:hover .blind-img-ie,#blind-box:hover .blind-title-ie{visibility:visible}@media screen and (max-width:1158px){#blind-box{display:none}}#s_popup_advert{position:absolute}#s_popup_advert .popup-advert{display:none;position:fixed;right:0;bottom:0;z-index:303;width:100%;text-align:center}#s_popup_advert .advert-link{display:block;width:100%}#s_popup_advert .advert{display:block;width:100%;height:auto}#s_popup_advert .right-wrap{position:absolute;right:24px;top:0;width:152px;height:30px;border-radius:6px;line-height:30px;font-size:13px;color:#9195a3}#s_popup_advert .popup-count-down{float:left;padding-left:10px}#s_popup_advert .close-wrap{float:right;padding-left:10px;padding-right:10px;cursor:pointer}#s_popup_advert .close-icon{vertical-align:middle;color:#c0c2c8}#s_popup_advert .close-text{padding-left:8px}#s_popup_advert .close-wrap:hover .close-icon{color:#9195a3}#s_popup_advert .close-wrap:hover .close-text{color:#626675}#s_popup_advert .advert-shrink{transform:scale(0);-ms-transform:scale(0);-moz-transform:scale(0);-webkit-transform:scale(0);-o-transform:scale(0);opacity:0;position:fixed;right:24px;bottom:140px;z-index:303;width:44px}#s_popup_advert .advert-shrink2{bottom:184px}#s_popup_advert .close-shrink{cursor:pointer;position:absolute;left:41px;top:-5px;color:#c0c2c8;font-size:12px}#s_popup_advert .shrink-link{display:block;height:44px}#s_popup_advert .shrink{display:block;width:100%;height:100%;border-radius:22px}#s_popup_advert .replay{cursor:pointer;display:block;margin-top:6px;border-radius:4px;text-align:center;line-height:20px;font-size:13px;color:#9195a3}#s_popup_advert .close-shrink:hover{color:#9195a3}#s_popup_advert .replay:hover{color:#626675}@media screen and (max-width:1158px){#s_popup_advert{display:none}}.guide-info-new{z-index:999;height:34px;padding:0 15px;min-width:120px;background-color:rgba(98,102,117,.8);box-shadow:0 2px 10px 0 rgba(0,0,0,.1);border-radius:6px 6px 6px 6px;text-align:left;position:absolute;line-height:35px;white-space:nowrap}.guide-info-new span{display:inline-block;vertical-align:top;font-size:13px;font-family:Arial,sans-serif;color:#fff;margin-right:-5px}.guide-info-new .guide-close{color:#d7d9e0;margin-left:8px;display:inline-block;height:34px;text-align:center;vertical-align:top;margin-top:0;font-size:13px!important;cursor:pointer}.guide-info-new .guide-arrow-left{right:-11px;top:10px;background:url(http://ss.bdimg.com/static/superman/img/guide_new/arrow-left-a7b272965a.png)}.guide-info-new .guide-arrow-top{bottom:-11px;left:10px;background:url(http://ss.bdimg.com/static/superman/img/guide_new/arrow-top-d81f5f8843.png) no-repeat 0 0}.guide-info-new .guide-arrow-right{left:-11px;top:10px;background:url(http://ss.bdimg.com/static/superman/img/guide_new/arrow-right-69f7969669.png) no-repeat 0 0}.guide-info-new .guide-arrow-left,.guide-info-new .guide-arrow-right,.guide-info-new .guide-arrow-top{position:absolute;opacity:.8;height:11px;width:11px;background-size:11px 11px}.guide-info-new :hover .guide-close{color:#d7d9e0}.red-point{position:relative}.red-point::before{content:\" \";border:3px solid #f73131;border-radius:3px;position:absolute;z-index:1000;right:0;margin-right:-5px;margin-top:-2px}.color222{color:#222!important}.guide-info-login{left:-110px;top:55px;width:250px;height:100px;background:#f3f6ff;border-radius:8px;position:absolute;padding:3px 16px;box-sizing:border-box;box-shadow:none}.guide-info-login .guide-left-main{float:left;height:95px;padding:8px 0;box-sizing:border-box}.guide-info-login .guide-left-main .guide-first-content,.guide-info-login .guide-left-main .guide-first-title{margin-top:2px;font-size:13px;color:#222;line-height:14px;width:98px;white-space:nowrap;overflow:hidden;text-overflow:ellipsis}.guide-info-login .guide-left-main .guide-first-title{font-size:14px;font-weight:bolder}.guide-info-login .guide-left-main .guide-left-content{font-size:13px;color:#222;line-height:13px;margin:7px 0 0 0;width:98px;white-space:nowrap;overflow:hidden;text-overflow:ellipsis}.guide-info-login .guide-right-main{float:right;width:120px;height:95px}.guide-info-login .guide-close{position:absolute;right:6px;top:-4px;height:25px;z-index:3}.guide-info-login .guide-close:hover{color:#315efb}.guide-info-login .guide-arrow-bottom{width:24px;position:absolute;height:24px;top:-11px;right:8px;border-style:solid;border-width:0 12px 24px;box-sizing:border-box;border-color:transparent}.guide-info-login .guide-left-button{background:#4e6ef2;border-radius:6px;width:80px;height:30px;color:#fff;text-align:center;line-height:30px;margin-top:10px;cursor:pointer}.guide-info-login .guide-left-button:hover{background:#315efb}.has-background .darkmode.blue,.has-background .darkmode.dark{background-color:none}.s-manhattan-index .aging-scale #bottom_layer{position:relative}.s-p-top .index-logo-aging-tools{display:none}.darkmode.dark #s_main{background:rgba(31,31,37,.85)}.darkmode.dark #bottom_layer,.darkmode.dark #head,.darkmode.dark #s_menu_gurd.s-down,.darkmode.dark #s_top_wrap,.darkmode.dark #s_top_wrap.s-down .s-center-box,.darkmode.dark #s_wrap{background-color:#1f1f25}.darkmode.blue #s_main{background:rgba(20,30,66,.85)}.darkmode.blue #bottom_layer,.darkmode.blue #head,.darkmode.blue #s_menu_gurd.s-down,.darkmode.blue #s_top_wrap,.darkmode.blue #s_top_wrap.s-down .s-center-box,.darkmode.blue #s_wrap{background-color:#141e42}.darkmode .s-bottom-space{margin-top:0}.darkmode.blue .mnav.s-top-more-btn .s-bri,.darkmode.blue .s-ctner-menus .current,.darkmode.blue .s-ctner-menus .menus-wrapper,.darkmode.blue .s-hotsearch-wrapper .hot-refresh,.darkmode.blue .s-hotsearch-wrapper .s-hotsearch-title .title-text,.darkmode.blue .s-news-rank-wrapper .s-rank-title .hot-refresh,.darkmode.blue .s-news-rank-wrapper .s-rank-title div,.darkmode.blue .s-news-rank-wrapper .s-rank-title i,.darkmode.blue .s-top-left .mnav,.darkmode.blue .s-top-right .s-top-right-text,.darkmode.blue .s-top-right .s-top-username .s-top-img-wrapper,.darkmode.blue .s-top-right .s-top-username .user-name,.darkmode.blue .s-weather-wrapper .s-mod-weather .unknown-city .unknown-setting,.darkmode.blue .s-weather-wrapper .show-city-name,.darkmode.blue .s-weather-wrapper .show-icon-temp,.darkmode.dark .mnav.s-top-more-btn .s-bri,.darkmode.dark .s-ctner-menus .current,.darkmode.dark .s-ctner-menus .menus-wrapper,.darkmode.dark .s-hotsearch-wrapper .hot-refresh,.darkmode.dark .s-hotsearch-wrapper .s-hotsearch-title .title-text,.darkmode.dark .s-news-rank-wrapper .s-rank-title .hot-refresh,.darkmode.dark .s-news-rank-wrapper .s-rank-title div,.darkmode.dark .s-news-rank-wrapper .s-rank-title i,.darkmode.dark .s-top-left .mnav,.darkmode.dark .s-top-right .s-top-right-text,.darkmode.dark .s-top-right .s-top-username .s-top-img-wrapper,.darkmode.dark .s-top-right .s-top-username .user-name,.darkmode.dark .s-weather-wrapper .s-mod-weather .unknown-city .unknown-setting,.darkmode.dark .s-weather-wrapper .show-city-name,.darkmode.dark .s-weather-wrapper .show-icon-temp{color:#ffd862!important}.darkmode.blue .mnav.s-top-more-btn .s-bri:hover,.darkmode.blue .s-ctner-menus .current:hover,.darkmode.blue .s-ctner-menus .menus-wrapper:hover,.darkmode.blue .s-ctner-menus .s-menu-item:hover,.darkmode.blue .s-hotsearch-wrapper .hot-refresh:hover,.darkmode.blue .s-hotsearch-wrapper .s-hotsearch-title .title-text:hover,.darkmode.blue .s-news-rank-wrapper .s-rank-title .hot-refresh:hover,.darkmode.blue .s-news-rank-wrapper .s-rank-title div:hover,.darkmode.blue .s-news-rank-wrapper .s-rank-title i:hover,.darkmode.blue .s-top-left .mnav:hover,.darkmode.blue .s-top-right .s-top-right-text:hover,.darkmode.blue .s-top-right .s-top-username .user-name:hover,.darkmode.blue .s-weather-wrapper .s-mod-weather .unknown-city .unknown-setting:hover,.darkmode.blue .s-weather-wrapper .show-city-name:hover,.darkmode.blue .s-weather-wrapper .show-icon-temp:hover,.darkmode.dark .mnav.s-top-more-btn .s-bri:hover,.darkmode.dark .s-ctner-menus .current:hover,.darkmode.dark .s-ctner-menus .menus-wrapper:hover,.darkmode.dark .s-ctner-menus .s-menu-item:hover,.darkmode.dark .s-hotsearch-wrapper .hot-refresh:hover,.darkmode.dark .s-hotsearch-wrapper .s-hotsearch-title .title-text:hover,.darkmode.dark .s-news-rank-wrapper .s-rank-title .hot-refresh:hover,.darkmode.dark .s-news-rank-wrapper .s-rank-title div:hover,.darkmode.dark .s-news-rank-wrapper .s-rank-title i:hover,.darkmode.dark .s-top-left .mnav:hover,.darkmode.dark .s-top-right .s-top-right-text:hover,.darkmode.dark .s-top-right .s-top-username .user-name:hover,.darkmode.dark .s-weather-wrapper .s-mod-weather .unknown-city .unknown-setting:hover,.darkmode.dark .s-weather-wrapper .show-city-name:hover,.darkmode.dark .s-weather-wrapper .show-icon-temp:hover{color:#fff762!important}.darkmode.blue .s-ctner-menus .s-menu-item-underline,.darkmode.dark .s-ctner-menus .s-menu-item-underline{background:#a8acad}.darkmode #bottom_layer a,.darkmode #s_wrap .s-setbar,.darkmode #u1 .s-top-right .s-top-right-text.c-color-t,.darkmode .s-block-nav .d-nav-item .border-for-item,.darkmode .s-block-stock .stock-item .stock-code,.darkmode .s-block-stock .stock-item .stock-code a,.darkmode .s-block-stock .stock-item .stock-title,.darkmode .s-block-stock .stock-item .stock-title a,.darkmode .s-code-blocks .nav-item .border-for-item,.darkmode .s-code-blocks .s-setbar .set-btn,.darkmode .s-code-blocks .s-setbar .set-refresh .c-icon,.darkmode .s-isindex-wrap .undertips-link{color:#ffd862}.darkmode #bottom_layer a:hover,.darkmode #s_wrap .border-for-item:hover .nav-text,.darkmode #s_wrap .s-setbar:hover,.darkmode #u1 .s-top-right .s-top-right-text.c-color-t:hover,.darkmode .s-block-stock .stock-item .stock-code a:hover,.darkmode .s-block-stock .stock-item .stock-code:hover,.darkmode .s-block-stock .stock-item .stock-title a:hover,.darkmode .s-block-stock .stock-item .stock-title:hover,.darkmode .s-code-blocks .s-setbar .set-btn:hover,.darkmode .s-code-blocks .s-setbar .set-refresh .c-icon:hover{color:#fff762}.darkmode .s-block-stock .stock-item .stock-highprice,.darkmode .s-block-stock .stock-item .stock-lowprice,.darkmode .s-block-stock .stock-item .stock-updatetime,.darkmode .s-skin-hasbg .s-block-stock .stock-banner,.darkmode .s-xmancard-mine_new .tips-manager-btn .manager-btn-text{color:#a8acad}.darkmode #result_logo .index-logo-peak{display:block}.darkmode #result_logo .index-logo-src,.darkmode #result_logo .index-logo-srcnew{display:none}.darkmode .s-p-top .index-logo-aging-tools{display:block}.darkmode .s-p-top .index-logo-src,.darkmode .s-p-top .index-logo-srcnew,.darkmode .s-p-top .s_lg_img_gold_show,.darkmode .s-p-top .s_lg_img_gold_showre{display:none!important}.darkmode #s-user-name-menu a,.darkmode #s-user-name-menu a:visited,.darkmode #s-user-setting-menu a,.darkmode #s-user-setting-menu a:visited{color:#333}.darkmode #s-user-name-menu a:hover,.darkmode #s-user-setting-menu a:hover{color:#315efb}</style><style type=\"text/css\" index=\"hotsearch\">.s-hotsearch-wrapper{width:654px;margin:45px auto 0}.s-hotsearch-wrapper.hide{display:none}.s-hotsearch-wrapper .s-hotsearch-title{height:24px;width:100%}.s-hotsearch-wrapper .s-hotsearch-title .title-text{float:left;user-select:none}.s-hotsearch-wrapper .s-hotsearch-title .title-text .arrow{color:#9195a3;font-size:15px}.s-hotsearch-wrapper .s-hotsearch-title .title-text:hover{color:#315efb}.s-hotsearch-wrapper .s-hotsearch-title .title-text:hover .arrow{color:#315efb}.s-hotsearch-wrapper .s-hotsearch-title .hot-refresh{cursor:pointer;user-select:none;float:right;height:16px;position:relative;top:1px}.s-hotsearch-wrapper .s-hotsearch-title .hot-refresh .c-icon{font-size:16px;display:inline-block;position:relative;top:1px;color:#626675}.s-hotsearch-wrapper .s-hotsearch-title .hot-refresh .c-icon.refresh-icon{width:16px;height:16px;line-height:16px}.s-hotsearch-wrapper .s-hotsearch-title .hot-refresh .c-icon.rotate{-webkit-animation:rotate .2s linear forwards;-moz-animation:rotate .2s linear forwards;-o-animation:rotate .2s linear forwards;animation:rotate .2s linear forwards}@keyframes rotate{0%{transform:rotateZ(0)}100%{transform:rotateZ(180deg)}}@-webkit-keyframes rotate{0%{transform:rotateZ(0)}100%{transform:rotateZ(180deg)}}@-moz-keyframes rotate{0%{transform:rotateZ(0)}100%{transform:rotateZ(180deg)}}@-o-keyframes rotate{0%{transform:rotateZ(0)}100%{transform:rotateZ(180deg)}}.s-hotsearch-wrapper .s-hotsearch-title .hot-refresh .hot-refresh-text{font-size:14px;line-height:14px;color:#626675;margin-left:2px}.s-hotsearch-wrapper .s-hotsearch-title .hot-refresh:hover{color:#315efb;text-decoration:none}.s-hotsearch-wrapper .s-hotsearch-title .hot-refresh:hover .c-icon,.s-hotsearch-wrapper .s-hotsearch-title .hot-refresh:hover .hot-refresh-text{color:#315efb}.s-hotsearch-wrapper .s-hotsearch-content{text-align:left}.s-hotsearch-wrapper .s-hotsearch-content .hotsearch-item{width:306px;float:left;height:36px;line-height:36px}.s-hotsearch-wrapper .s-hotsearch-content .hotsearch-item.odd{margin-right:20px;clear:both}.s-hotsearch-wrapper .s-hotsearch-content .hotsearch-item.even{margin-left:20px}.s-hotsearch-wrapper .s-hotsearch-content .title-content{float:left;height:36px;line-height:36px;width:100%}.s-hotsearch-wrapper .s-hotsearch-content .title-content .title-content-index{margin-right:4px;width:22px;font-family:Arial,sans-serif;font-size:18px;line-height:18px;position:relative;top:1px}.s-hotsearch-wrapper .s-hotsearch-content .title-content .title-content-noindex{height:4px;width:4px;margin-right:19px;margin-left:3px;position:relative;top:-2px;border-radius:2px;background:#9195a3;display:inline-block;vertical-align:middle}.s-hotsearch-wrapper .s-hotsearch-content .title-content .title-content-top-icon{transform:rotate(180deg);height:18px;width:18px;display:inline-block;vertical-align:middle;line-height:18px;position:relative;top:-2px;left:-3px;font-size:18px}.s-hotsearch-wrapper .s-hotsearch-content .title-content .title-content-title{font-size:16px}.s-hotsearch-wrapper .s-hotsearch-content .title-content .title-content-icon{display:inline-block;width:62px;height:16px;margin-top:-3px;margin-right:3px;vertical-align:middle}@media \\0screen{.s-hotsearch-wrapper .s-hotsearch-content .ie-vertical{margin-top:3px}}@media screen and (min-width:0 \\0){.s-hotsearch-wrapper .s-hotsearch-content .ie-vertical{margin-top:3px}}@media screen and (-ms-high-contrast:active),(-ms-high-contrast:none){.s-hotsearch-wrapper .s-hotsearch-content .ie-vertical{margin-top:3px}}.s-hotsearch-wrapper .s-hotsearch-content .tag-width{max-width:284px;width:auto}.s-hotsearch-wrapper .s-hotsearch-content .title-content-mark{margin-left:6px;position:relative;top:-2px}.s-hotsearch-wrapper .s-hotsearch-content .title-content:hover{color:#315efb;text-decoration:underline}</style><style type=\"text/css\" index=\"nav\">.t-color{color:#222}#s_main.show-main{display:block;padding-top:18px}.nologin-nav{margin:2px auto 100px;width:656px;text-align:left;display:none}.nologin-nav .nav-menu{margin-left:1px}.nologin-nav .nav-menu .menu-item{margin:0 24px 12px 0;display:inline-block}.nologin-nav .nav-menu .menu-item:hover{color:#222;cursor:pointer}.nologin-nav .nav-menu .current{color:#222}.nologin-nav .nav-menu .current::after{content:'';width:28px;height:2px;border-radius:1px;background-color:#4e71f2;display:block}.nologin-nav .nav-content-wrapper .nav-content.hide{display:none}.nologin-nav .nav-content-wrapper .nav-content .nav-line{margin-bottom:19px}.nologin-nav .nav-content-wrapper .nav-content .nav-line .nav-item{display:inline-block;text-align:center;margin-right:35px;margin-right:29px\\9;position:relative}.nologin-nav .nav-content-wrapper .nav-content .nav-line .nav-item:last-child{margin-right:0}.nologin-nav .nav-content-wrapper .nav-content .nav-line .nav-item:hover .nav-txt{color:#315efb}.nologin-nav .nav-content-wrapper .nav-content .nav-line .nav-item .red{width:11px;height:11px;position:absolute;background:#ffd3d3;border-radius:50%;right:0;visibility:hidden}.nologin-nav .nav-content-wrapper .nav-content .nav-line .nav-item .red .red-inner{display:inline-block;width:7px;height:7px;background:#fe6676;border-radius:50%;position:absolute;right:2px;top:2px}.nologin-nav .nav-content-wrapper .nav-content .nav-line .nav-item .l-title-wrap{visibility:hidden;height:21px;left:42px;top:-6px;position:absolute;z-index:2;margin-left:5px;background:url(http://ss.bdimg.com/static/superman/img/hot_search/pop_tri@1x-f4a02fac82.png) no-repeat 17px 17px;background-size:6px 4px}@media only screen and (-webkit-min-device-pixel-ratio:2){.nologin-nav .nav-content-wrapper .nav-content .nav-line .nav-item .l-title-wrap{background:url(http://ss.bdimg.com/static/superman/img/hot_search/pop_tri-a656a7d535.png) no-repeat 17px 17px;background-size:6px 4px}}.nologin-nav .nav-content-wrapper .nav-content .nav-line .nav-item .l-title-wrap .l-title{display:block;height:16px;padding:0 4px;background-color:#fe6676;border-radius:12px;color:#fff;line-height:16px;white-space:nowrap;margin-top:1px;min-width:24px;margin-left:4px}.nologin-nav .nav-content-wrapper .nav-content .nav-line .nav-item .l-title-wrap .l-title span{display:inline-block;font-size:11px;-webkit-transform:scale(.9);vertical-align:top}.nologin-nav .nav-content-wrapper .nav-content .nav-line .nav-item .nav-block{text-decoration:none;overflow:hidden}.nologin-nav .nav-content-wrapper .nav-content .nav-line .nav-item .nav-block .nav-img{width:64px;height:64px;margin:8px 8px 6px;background:#f5f5f6}.nologin-nav .nav-content-wrapper .nav-content .nav-line .nav-item .nav-block .nav-txt{display:inline-block;width:80px;text-align:center}.nologin-nav .nav-content-wrapper .nav-content .nav-line .nav-item .nav-block .nav-txt:hover{color:#315efb}.nologin-nav .nav-content-wrapper .nav-content.nav-content-hot .s-hotsearch-wrapper-new{margin-top:2px;margin-left:-1px;position:relative;width:700px;margin-left:-50px;padding-left:50px;display:block}.nologin-nav .nav-content-wrapper .nav-content.nav-content-hot .s-hotsearch-wrapper-new .s-hotsearch-title{display:none}.nologin-nav .nav-content-wrapper .nav-content.nav-content-hot .s-hotsearch-wrapper-new .s-hotsearch-content{overflow:hidden}.nologin-nav .nav-content-wrapper .nav-content.nav-content-hot .s-hotsearch-wrapper-new .s-hotsearch-content .hotsearch-item{width:259px}.nologin-nav .nav-content-wrapper .nav-content.nav-content-hot .s-hotsearch-wrapper-new .s-hotsearch-content .hotsearch-item.odd{margin-right:68px}.nologin-nav .nav-content-wrapper .nav-content.nav-content-hot .s-hotsearch-wrapper-new .s-hotsearch-content .hotsearch-item.even{margin-left:69px}.nologin-nav .nav-content-wrapper .nav-content.nav-content-hot .s-hotsearch-wrapper-new .s-hotsearch-content .hotsearch-item .title-content{height:38px}.nologin-nav .nav-content-wrapper .nav-content.nav-content-hot .s-hotsearch-wrapper-new .s-hotsearch-content .hotsearch-item .title-content .title-content-index{margin-right:9px}.nologin-nav .nav-content-wrapper .nav-content.nav-content-hot .s-hotsearch-wrapper-new .s-hotsearch-content .hotsearch-item .title-content .title-content-title{line-height:32px;vertical-align:top}.nologin-nav .nav-content-wrapper .nav-content.nav-content-hot .s-hotsearch-wrapper-new .pagenav{text-align:center;margin-top:21px;visibility:hidden}.nologin-nav .nav-content-wrapper .nav-content.nav-content-hot .s-hotsearch-wrapper-new .pagenav .pagenav-item{cursor:pointer;background:#e7e9ee;border-radius:3px;width:8px;height:6px;display:inline-block;margin-right:8px}.nologin-nav .nav-content-wrapper .nav-content.nav-content-hot .s-hotsearch-wrapper-new .pagenav .pagenav-item:first-child{margin-left:-35px}.nologin-nav .nav-content-wrapper .nav-content.nav-content-hot .s-hotsearch-wrapper-new .pagenav .pagenav-item.current{width:11px;background:#c3c6d3}.nologin-nav .nav-content-wrapper .nav-content.nav-content-hot .s-hotsearch-wrapper-new .page-btn{display:none;width:34px;height:34px;font-size:20px;color:#dfe1ea;font-weight:bolder;position:absolute;top:56px;text-align:center;border-radius:50%;cursor:pointer;-webkit-user-select:none}.nologin-nav .nav-content-wrapper .nav-content.nav-content-hot .s-hotsearch-wrapper-new .page-btn:hover{background-color:#dfe1ea;color:#fff}.nologin-nav .nav-content-wrapper .nav-content.nav-content-hot .s-hotsearch-wrapper-new .page-btn .page-icon{margin-top:6px;display:inline-block}.nologin-nav .nav-content-wrapper .nav-content.nav-content-hot .s-hotsearch-wrapper-new .front{left:-6px}.nologin-nav .nav-content-wrapper .nav-content.nav-content-hot .s-hotsearch-wrapper-new .front .page-icon{margin-left:9px}.nologin-nav .nav-content-wrapper .nav-content.nav-content-hot .s-hotsearch-wrapper-new .next{right:-15px}.nologin-nav .nav-content-wrapper .nav-content.nav-content-hot .s-hotsearch-wrapper-new .next .page-icon{margin-left:-8px}.nologin-nav .nav-content-wrapper .nav-content.nav-content-hot .s-hotsearch-wrapper-new:hover .pagenav{visibility:visible}.nologin-nav .nav-content-wrapper .nav-content.nav-content-hot .s-hotsearch-wrapper-new:hover .front,.nologin-nav .nav-content-wrapper .nav-content.nav-content-hot .s-hotsearch-wrapper-new:hover .next{display:block}</style><script>(function(){var hashMatch=document.location.href.match(/#+(.*wd=[^&]+)/);if(hashMatch&&hashMatch[0]&&hashMatch[1]){var css='body {display: none}',head=document.head||document.getElementsByTagName('head')[0],style=document.createElement('style');if(style.styleSheet){style.styleSheet.cssText = css;}else{style.appendChild(document.createTextNode(css));}head.appendChild(style);location.href=\"//\"+location.host+\"/s?\"+hashMatch[1];}})();</script>\n",
      "\n",
      "    <script data-compress=strip>\n",
      "\n",
      "        function h(obj){\n",
      "\n",
      "            obj.style.behavior='url(#default#homepage)';\n",
      "\n",
      "            var a = obj.setHomePage('//www.baidu.com/');\n",
      "\n",
      "        }\n",
      "\n",
      "    </script>\n",
      "\n",
      "    <script>\n",
      "\n",
      "        _manCard = {\n",
      "\n",
      "            asynJs : [],\n",
      "\n",
      "            asynLoad : function(id){\n",
      "\n",
      "                _manCard.asynJs.push(id);\n",
      "\n",
      "            }\n",
      "\n",
      "        };\n",
      "\n",
      "        window._sp_async = 1;\n",
      "\n",
      "                                            \n",
      "\n",
      "        window.bds = {\n",
      "\n",
      "            comm: {\n",
      "\n",
      "                ishome: 1,\n",
      "\n",
      "                qid: \"9e674521000ac51a\",\n",
      "\n",
      "                alwaysMonitor: \"0\"\n",
      "\n",
      "            }\n",
      "\n",
      "        };\n",
      "\n",
      "    </script>\n",
      "\n",
      "\n",
      "\n",
      "    \n",
      "\n",
      "\n",
      "\n",
      "\n",
      "\n",
      "\n",
      "\n",
      "\n",
      "\n",
      "\n",
      "\n",
      "    <script type=\"text/javascript\">\"use strict\";function _classCallCheck(instance,Constructor){if(!(instance instanceof Constructor)){throw new TypeError(\"Cannot call a class as a function\")}}function _defineProperties(target,props){for(var i=0;i<props.length;i++){var descriptor=props[i];descriptor.enumerable=descriptor.enumerable||false;descriptor.configurable=true;if(\"value\"in descriptor)descriptor.writable=true;Object.defineProperty(target,descriptor.key,descriptor)}}function _createClass(Constructor,protoProps,staticProps){\n",
      "\n",
      "if(protoProps)_defineProperties(Constructor.prototype,protoProps);if(staticProps)_defineProperties(Constructor,staticProps);return Constructor}function _defineProperty(obj,key,value){if(key in obj){Object.defineProperty(obj,key,{value:value,enumerable:true,configurable:true,writable:true})}else{obj[key]=value}return obj}(function(){var config={sample:{jsnotfound:.02,imgError:.02,jserror:.02},logServer:\"https://sp1.baidu.com/5b1ZeDe5KgQFm2e88IuM_a/mwb2.gif\"};var imgErrorLen=0\n",
      "\n",
      ";function alwaysMonitor(info){if(bds.comm.alwaysMonitor===\"1\"){info.alwaysMonitor=1;return true}return false}var LocalCache=function(){function LocalCache(){_classCallCheck(this,LocalCache);_defineProperty(this,\"lsName\",\"pcSpyLocalCache\");_defineProperty(this,\"tmpList\",[]);_defineProperty(this,\"timer\",null)}_createClass(LocalCache,[{key:\"addLog\",value:function addLog(info){var _this=this;var infoStr=JSON.stringify(info);this.tmpList.push(infoStr);if(this.timer){clearTimeout(this.timer)}\n",
      "\n",
      "this.timer=setTimeout(function(){_this.save()},500)}},{key:\"getData\",value:function getData(cb){try{var storageStr=localStorage.getItem(this.lsName);if(storageStr){cb(storageStr)}else{cb(\"\")}}catch(e){console.error(e);cb(\"\")}}},{key:\"save\",value:function save(){var _this2=this;this.getData(function(str){var content=str+\"\\n\"+_this2.tmpList.join(\"\\n\");try{localStorage.setItem(_this2.lsName,content)}catch(error){}})}}],[{key:\"getInstance\",value:function getInstance(){if(!this.instance){\n",
      "\n",
      "this.instance=new LocalCache}return this.instance}}]);return LocalCache}();_defineProperty(LocalCache,\"instance\",void 0);function shouldSend(sample){if(!sample){return false}var hitCookie=document.cookie.indexOf(\"webbtest=1\")>-1;return hitCookie||Math.random()<sample}function send(obj){var type=arguments.length>1&&arguments[1]!==undefined?arguments[1]:\"except\";var lid=bds.comm.qid||bds.comm.queryId;var time=Date.now();var spyCache=LocalCache.getInstance();spyCache.addLog({from:\"result\",\n",
      "\n",
      "info:obj.info,lid:lid,group:obj.group,ts:time,url:location.href});if(!shouldSend(config.sample[obj.group])&&!alwaysMonitor(obj.info)){return\"\"}var pid=\"1_87\";if(bds.comm.ishome){pid=\"1_79\"}var logUrl=config.logServer+\"?pid=\"+pid+\"&lid=\"+lid+\"&ts=\"+time+\"&type=\"+type+\"&group=\"+obj.group+\"&info=\"+encodeURIComponent(JSON.stringify(obj.info))+\"&dim=\"+encodeURIComponent(JSON.stringify(obj.dim||{}));var img=new Image;img.src=logUrl;return logUrl}function filterError(msg,stack){if(stack.indexOf(\n",
      "\n",
      "\"chrome-extension://\")>-1||stack.indexOf(\"moz-extension://\")>-1){return false}return true}function jsError(event,info){var obj={info:info,dim:{},group:\"jserror\"};var error=event.error||{};var errorStack=error.stack||\"\";if(event.message&&filterError(event.message,errorStack)){obj.info.msg=event.message;obj.info.file=event.filename;obj.info.ln=event.lineno;obj.info.col=event.colno;obj.info.stack=errorStack.split(\"\\n\").slice(0,3).join(\"\\n\");send(obj)}}function getPathTo(element){\n",
      "\n",
      "var _element$parentNode;if(element.id!==\"\"){return'id(\"'.concat(element.id,'\")')}if(element===document.body){return element.tagName}var ix=0;var siblings=(element===null||element===void 0?void 0:(_element$parentNode=element.parentNode)===null||_element$parentNode===void 0?void 0:_element$parentNode.childNodes)?element.parentNode.childNodes:[];for(var i=0;i<siblings.length;i++){var sibling=siblings[i];if(sibling===element){return getPathTo(sibling.parentNode)+\"/\"+element.tagName+\"[\"+(ix+1)+\"]\"}\n",
      "\n",
      "if(sibling.nodeType===1&&sibling.tagName===element.tagName){ix++}}return\"\"}function getLocation(href){var ele=document.createElement(\"a\");ele.href=href;return ele}function getUrlHost(url){var host=getLocation(url).hostname;if(!/\\.baidu|bcebos|bdstatic|baidubce|bdimg\\.com/.test(host)){return\"other\"}return host}function imgError(target,info){var imgSrc=target.getAttribute(\"src\")||\"\";info.msg=imgSrc;info.errLen=++imgErrorLen;info.xpath=getPathTo(target);send({info:info,dim:{host:getUrlHost(imgSrc)\n",
      "\n",
      "},group:\"imgError\"},\"et_comm\")}function sourceError(event,from){try{var obj={info:{},dim:{},group:\"\"};var info=obj.info;var target=event.target;var dataConnection=navigator.connection||{};info.downlink=dataConnection.downlink;info.effectiveType=dataConnection.effectiveType;info.rtt=dataConnection.rtt;info.deviceMemory=navigator.deviceMemory||0;info.hardwareConcurrency=navigator.hardwareConcurrency||0;info.saveData=!!dataConnection.saveData;if(target&&target.nodeName&&target.nodeName.toLowerCase(\n",
      "\n",
      ")===\"img\"){imgError(target,info);return}var localName=target.localName||\"\";var errorLink=target.src||\"\";if(localName&&localName===\"script\"){obj.group=\"jsnotfound\";info.msg=errorLink;info.file=errorLink;send(obj);return}if(target===window||from===\"onerror\"){jsError(event,info)}}catch(e){}}window.addEventListener&&window.addEventListener(\"error\",sourceError,true)})();</script>\n",
      "\n",
      "<!--pcindexnodecardcss--><script>this.globalThis || (this.globalThis = this);</script><noscript><meta http-equiv=\"refresh\" content=\"0; url=http://www.baidu.com/baidu.html?from=noscript\" /></noscript></head><body class=\"\">\n",
      "\n",
      "    \n",
      "\n",
      "    <script>\n",
      "\n",
      "    if (navigator.userAgent.indexOf('Edge') > -1) {\n",
      "\n",
      "        var body = document.querySelector('body');\n",
      "\n",
      "        body.className += ' browser-edge';\n",
      "\n",
      "    }\n",
      "\n",
      "</script>\n",
      "\n",
      "<textarea id=\"s_is_result_css\" style=\"display:none;\">\n",
      "\n",
      "&lt;style data-for=&quot;result&quot; type=&quot;text/css&quot; &gt;body{color:#333;background:#fff;padding:6px 0 0;margin:0;position:relative}body,th,td,.p1,.p2{font-family:arial}p,form,ol,ul,li,dl,dt,dd,h3{margin:0;padding:0;list-style:none}input{padding-top:0;padding-bottom:0;-moz-box-sizing:border-box;-webkit-box-sizing:border-box;box-sizing:border-box}table,img{border:0}td{font-size:9pt;line-height:18px}em{font-style:normal}em{font-style:normal;color:#c00}a em{text-decoration:underline}cite{font-style:normal;color:green}.m,a.m{color:#666}a.m:visited{color:#606}.g,a.g{color:green}.c{color:#77c}.f14{font-size:14px}.f10{font-size:10.5pt}.f16{font-size:16px}.f13{font-size:13px}.bg{background-image:url(http://pss.bdstatic.com/r/www/cache/static/global/img/icons_441e82f.png);_background-image:url(http://pss.bdstatic.com/r/www/cache/static/global/img/icons_d5b04cc.gif);background-repeat:no-repeat}#u,#head,#tool,#search,#foot{font-size:12px}.logo{width:117px;height:38px;cursor:pointer}.p1{line-height:120%;margin-left:-12pt}.p2{width:100%;line-height:120%;margin-left:-12pt}#wrapper{_zoom:1}#container{word-break:break-all;word-wrap:break-word;position:relative}.container_s{width:1002px}.container_l{width:1222px}#content_left{width:636px;float:left;padding-left:35px}#content_right{border-left:1px solid #e1e1e1;float:right}.container_s #content_right{width:271px}.container_l #content_right{width:434px}.content_none{padding-left:35px}#u{color:#999;white-space:nowrap;position:absolute;right:10px;top:4px;z-index:299}#u a{color:#00c;margin:0 5px}#u .reg{margin:0}#u .last{margin-right:0}#u .un{font-weight:700;margin-right:5px}#u ul{width:100%;background:#fff;border:1px solid #9b9b9b}#u li{height:25px}#u li a{width:100%;height:25px;line-height:25px;display:block;text-align:left;text-decoration:none;text-indent:6px;margin:0;filter:none\\9}#u li a:hover{background:#ebebeb}#u li.nl{border-top:1px solid #ebebeb}#user{display:inline-block}#user_center{position:relative;display:inline-block}#user_center .user_center_btn{margin-right:5px}.userMenu{width:64px;position:absolute;right:7px;_right:2px;top:15px;top:14px\\9;*top:15px;padding-top:4px;display:none;*background:#fff}#head{padding-left:35px;margin-bottom:20px;width:900px}.fm{clear:both;position:relative;z-index:297}.nv a,.nv b,.btn,#more{font-size:14px}.s_nav{height:45px}.s_nav .s_logo{margin-right:20px;float:left}.s_nav .s_logo img{border:0;display:block}.s_tab{line-height:18px;padding:20px 0 0;float:left}.s_nav a{color:#00c;font-size:14px}.s_nav b{font-size:14px}.s_ipt_wr{width:536px;height:30px;display:inline-block;margin-right:5px;background-position:0 -96px;border:1px solid #b6b6b6;border-color:#7b7b7b #b6b6b6 #b6b6b6 #7b7b7b;vertical-align:top}.s_ipt{width:523px;height:22px;font:16px/18px arial;line-height:22px;margin:5px 0 0 7px;padding:0;background:#fff;border:0;outline:0;-webkit-appearance:none}.s_btn{width:95px;height:32px;padding-top:2px\\9;font-size:14px;padding:0;background-color:#ddd;background-position:0 -48px;border:0;cursor:pointer}.s_btn_h{background-position:-240px -48px}.s_btn_wr{width:97px;height:34px;display:inline-block;background-position:-120px -48px;*position:relative;z-index:0;vertical-align:top}.yy_fm .s_ipt_wr,.yy_fm .s_ipt_wr.iptfocus,.yy_fm .s_ipt_wr:hover,.yy_fm .s_ipt_wr.ipthover{border-color:#e10602 transparent #e10602 #e10602;animation:yy-ipt .2s;-moz-animation:yy-ipt .2s;-webkit-animation:yy-ipt .2s;-o-animation:yy-ipt .2s}.yy_fm .s_btn{background-color:#e10602;border-bottom:1px solid #c30602;animation:yunying .2s;-moz-animation:yunying .2s;-webkit-animation:yunying .2s;-o-animation:yunying .2s}.yy_fm_blue .s_ipt_wr,.yy_fm_blue .s_ipt_wr.iptfocus,.yy_fm_blue .s_ipt_wr:hover,.yy_fm_blue .s_ipt_wr.ipthover{animation:yy-ipt-blue .2s;border-color:#4791ff transparent #4791ff #4791ff}.yy_fm_blue .s_btn{animation:yunying-blue .2s;background-color:#3385ff;border-bottom:1px solid #2d78f4}@keyframes yy-ipt{0%{border-color:#4791ff transparent #4791ff #4791ff}100%{border-color:#e10602 transparent #e10602 #e10602}}@-moz-keyframes yy-ipt{0%{border-color:#4791ff transparent #4791ff #4791ff}100%{border-color:#e10602 transparent #e10602 #e10602}}@-webkit-keyframes yy-ipt{0%{border-color:#4791ff transparent #4791ff #4791ff}100%{border-color:#e10602 transparent #e10602 #e10602}}@-o-keyframes yy-ipt{0%{border-color:#4791ff transparent #4791ff #4791ff}100%{border-color:#e10602 transparent #e10602 #e10602}}@keyframes yy-ipt-blue{0%{border-color:#e10602 transparent #e10602 #e10602}100%{border-color:#4791ff transparent #4791ff #4791ff}}@-moz-keyframes yy-ipt-blue{0%{border-color:#e10602 transparent #e10602 #e10602}100%{border-color:#4791ff transparent #4791ff #4791ff}}@-webkit-keyframes yy-ipt-blue{0%{border-color:#e10602 transparent #e10602 #e10602}100%{border-color:#4791ff transparent #4791ff #4791ff}}@-o-keyframes yy-ipt-blue{0%{border-color:#e10602 transparent #e10602 #e10602}100%{border-color:#4791ff transparent #4791ff #4791ff}}@keyframes yunying{0%{background-color:#3385ff;border-bottom:1px solid #2d78f4}100%{background-color:#e10602;border-bottom:1px solid #c30602}}@-moz-keyframes yunying{0%{background-color:#3385ff;border-bottom:1px solid #2d78f4}100%{background-color:#e10602;border-bottom:1px solid #c30602}}@-webkit-keyframes yunying{0%{background-color:#3385ff;border-bottom:1px solid #2d78f4}100%{background-color:#e10602;border-bottom:1px solid #c30602}}@-o-keyframes yunying{0%{background-color:#3385ff;border-bottom:1px solid #2d78f4}100%{background-color:#e10602;border-bottom:1px solid #c30602}}@keyframes yunying-blue{0%{background-color:#e10602;border-bottom:1px solid #c30602}100%{background-color:#3385ff;border-bottom:1px solid #2d78f4}}@-moz-keyframes yunying-blue{0%{background-color:#e10602;border-bottom:1px solid #c30602}100%{background-color:#3385ff;border-bottom:1px solid #2d78f4}}@-webkit-keyframes yunying-blue{0%{background-color:#e10602;border-bottom:1px solid #c30602}100%{background-color:#3385ff;border-bottom:1px solid #2d78f4}}@-o-keyframes yunying-blue{0%{background-color:#e10602;border-bottom:1px solid #c30602}100%{background-color:#3385ff;border-bottom:1px solid #2d78f4}}.sethf{padding:0;margin:0;font-size:14px}.set_h{display:none;behavior:url(#default#homepage)}.set_f{display:none}.shouji{margin-left:19px}.shouji a{text-decoration:none}#head .bdsug{top:33px}#search form{position:relative}#search form .bdsug{bottom:33px}.bdsug{display:none;position:absolute;z-index:1;width:538px;background:#fff;border:1px solid #ccc;_overflow:hidden;box-shadow:1px 1px 3px #ededed;-webkit-box-shadow:1px 1px 3px #ededed;-moz-box-shadow:1px 1px 3px #ededed;-o-box-shadow:1px 1px 3px #ededed}.bdsug.bdsugbg ul{background:url(http://pss.bdstatic.com/r/www/cache/static/home/img/sugbg_1762fe7.png) 100% 100% no-repeat;background-size:100px 110px;background-image:url(http://pss.bdstatic.com/r/www/cache/static/home/img/sugbg_90fc9cf.gif)\\9}.bdsug li{width:522px;color:#000;font:14px arial;line-height:22px;padding:0 8px;position:relative;cursor:default}.bdsug li.bdsug-s{background:#f0f0f0}.bdsug-store span,.bdsug-store b{color:#7A77C8}.bdsug-store-del{font-size:12px;color:#666;text-decoration:underline;position:absolute;right:8px;top:0;cursor:pointer;display:none}.bdsug-s .bdsug-store-del{display:inline-block}.bdsug-ala{display:inline-block;border-bottom:1px solid #e6e6e6}.bdsug-ala h3{line-height:14px;background:url(//www.baidu.com/img/sug_bd.png) no-repeat left center;margin:8px 0 5px;font-size:12px;font-weight:400;color:#7B7B7B;padding-left:20px}.bdsug-ala p{font-size:14px;font-weight:700;padding-left:20px}.bdsug .bdsug-direct{width:auto;padding:0;border-bottom:1px solid #f1f1f1}.bdsug .bdsug-direct p{color:#00c;font-weight:700;line-height:34px;padding:0 8px;cursor:pointer;white-space:nowrap;overflow:hidden}.bdsug .bdsug-direct p img{width:16px;height:16px;margin:7px 6px 9px 0;vertical-align:middle}.bdsug .bdsug-direct p span{margin-left:8px}.bdsug .bdsug-direct p i{font-size:12px;line-height:100%;font-style:normal;font-weight:400;color:#fff;background-color:#2b99ff;display:inline;text-align:center;padding:1px 5px;*padding:2px 5px 0;margin-left:8px;overflow:hidden}.bdsug .bdsug-pcDirect{color:#000;font-size:14px;line-height:30px;height:30px;background-color:#f8f8f8}.bdsug .bdsug-pc-direct-tip{position:absolute;right:15px;top:8px;width:55px;height:15px;display:block;background:url(http://pss.bdstatic.com/r/www/cache/static/global/img/pc_direct_42d6311.png) no-repeat 0 0}.bdsug li.bdsug-pcDirect-s{background-color:#f0f0f0}.bdsug .bdsug-pcDirect-is{color:#000;font-size:14px;line-height:22px;background-color:#f8f8f8}.bdsug .bdsug-pc-direct-tip-is{position:absolute;right:15px;top:3px;width:55px;height:15px;display:block;background:url(http://pss.bdstatic.com/r/www/cache/static/global/img/pc_direct_42d6311.png) no-repeat 0 0}.bdsug li.bdsug-pcDirect-is-s{background-color:#f0f0f0}.bdsug .bdsug-pcDirect-s .bdsug-pc-direct-tip,.bdsug .bdsug-pcDirect-is-s .bdsug-pc-direct-tip-is{background-position:0 -15px}.bdsug .bdsug-newicon{color:#929292;opacity:.7;font-size:12px;display:inline-block;line-height:22px;letter-spacing:2px}.bdsug .bdsug-s .bdsug-newicon{opacity:1}.bdsug .bdsug-newicon i{letter-spacing:0;font-style:normal}.bdsug .bdsug-feedback-wrap{text-align:right;background:#fafafa;color:#666;height:25px;line-height:27px}.bdsug .bdsug-feedback{margin-right:10px;text-decoration:underline;color:#666}.toggle-underline{text-decoration:none}.toggle-underline:hover{text-decoration:underline}#tb_mr{color:#00c;cursor:pointer;position:relative;z-index:298}#tb_mr b{font-weight:400;text-decoration:underline}#tb_mr small{font-size:11px}#rs{width:900px;background:#fff;padding:8px 0;margin:20px 0 0 15px}#rs td{width:5%}#rs th{font-size:14px;font-weight:400;line-height:19px;white-space:nowrap;text-align:left;vertical-align:top}#rs .tt{font-weight:700;padding:0 10px 0 20px}#rs .tt_normal{font-weight:400}#rs_top{font-size:14px;margin-bottom:22px}#rs_top a{margin-right:18px}#container .rs{margin:30px 0 20px;padding:5px 0 15px;font-size:14px;width:540px;padding-left:121px;position:relative;background-color:#fafafa}#container .noback{background-color:#fff}#content_left .rs{margin-left:-121px}#container .rs table{width:540px}#container .rs td{width:5px}#container .rs th{font-size:14px;font-weight:400;white-space:nowrap;text-align:left;vertical-align:top;width:175px;line-height:22px}#container .rs .tt{font-weight:700;padding:0 10px 0 20px;padding:0;line-height:30px;font-size:16px}#container .rs a{margin:0;height:24px;width:173px;display:inline-block;line-height:25px;border:1px solid #ebebeb;text-align:center;vertical-align:middle;overflow:hidden;outline:0;color:#333;background-color:#fff;text-decoration:none}#container .rs a:hover{border-color:#388bff}.c-tip-con .c-tip-menu-b ul{width:100px}.c-tip-con .c-tip-menu-b ul{text-align:center}.c-tip-con .c-tip-menu-b li a{display:block;text-decoration:none;cursor:pointer;background-color:#fff;padding:3px 0;color:#666}.c-tip-con .c-tip-menu-b li a:hover{display:block;background-color:#ebebeb}.c-tip-con.baozhang-r-tip{visibility:hidden}.aviation-new a{background:0 0;color:#91B9F7;font-size:16px;width:16px;height:auto;vertical-align:top}.c-tip-con.custom-wrap-tip .c-tip-info{width:auto}.c-tip-con.aviation-wrap-tip{box-shadow:0 2px 10px 0 rgba(0,0,0,.1);border-radius:12px;border:0;padding:12px}.c-tip-con.aviation-wrap-tip .c-tip-info{margin:0;width:auto}.c-tip-con.aviation-wrap-tip .c-tip-item-i{padding:0;line-height:1}.c-tip-con.aviation-wrap-tip .c-tip-item-i .c-tip-item-icon{margin-left:0}.c-tip-con.aviation-wrap-tip .aviation-title{line-height:1}#search{width:900px;padding:35px 0 16px 35px}#search .s_help{position:relative;top:10px}.site_tip{font-size:12px;margin-bottom:20px}.site_tip_icon{width:56px;height:56px;background:url(//www.baidu.com/aladdin/img/tools/tools-3.png) -288px 0 no-repeat}.to_zhidao,.to_tieba,.to_zhidao_bottom{font-size:16px;line-height:24px;margin:20px 0 0 35px}.to_tieba .c-icon-tieba{float:left}.f{line-height:115%;*line-height:120%;font-size:100%;width:33.7em;word-break:break-all;word-wrap:break-word}.h{margin-left:8px;width:100%}.r{word-break:break-all;cursor:hand;width:238px}.t{font-weight:400;font-size:medium;margin-bottom:1px}.pl{padding-left:3px;height:8px;padding-right:2px;font-size:14px}.mo,a.mo:link,a.mo:visited{color:#666;font-size:100%;line-height:10px}.htb{margin-bottom:5px}.jc a{color:#c00}a font[size=&quot;3&quot;] font,font[size=&quot;3&quot;] a font{text-decoration:underline}div.blog,div.bbs{color:#707070;padding-top:2px;font-size:13px}.result{width:33.7em;table-layout:fixed}.result-op .f{word-wrap:normal}.nums{font-size:12px;color:#999}.tools{position:absolute;top:10px;white-space:nowrap}#mHolder{width:62px;position:relative;z-index:296;top:-18px;margin-left:9px;margin-right:-12px;display:none}#mCon{height:18px;position:absolute;top:3px;top:6px\\9;cursor:pointer;line-height:18px}.wrapper_l #mCon{right:7px}#mCon span{color:#00c;display:block}#mCon .hw{text-decoration:underline;cursor:pointer;display:inline-block}#mCon .pinyin{display:inline-block}#mCon .c-icon-chevron-unfold2{margin-left:5px}#mMenu{width:56px;border:1px solid #9b9b9b;position:absolute;right:7px;top:23px;display:none;background:#fff}#mMenu a{width:100%;height:100%;color:#00c;display:block;line-height:22px;text-indent:6px;text-decoration:none;filter:none\\9}#mMenu a:hover{background:#ebebeb}#mMenu .ln{height:1px;background:#ebebeb;overflow:hidden;font-size:1px;line-height:1px;margin-top:-1px}.op_LAMP{background:url(//www.baidu.com/cache/global/img/aladdinIcon-1.0.gif) no-repeat 0 2px;color:#77C;display:inline-block;font-size:13px;height:12px;*height:14px;width:16px;text-decoration:none;zoom:1}.EC_mr15{margin-left:0}.pd15{padding-left:0}.map_1{width:30em;font-size:80%;line-height:145%}.map_2{width:25em;font-size:80%;line-height:145%}.favurl{background-repeat:no-repeat;background-position:0 1px;padding-left:20px}.dan_tip{font-size:12px;margin-top:4px}.dan_tip a{color:#b95b07}#more,#u ul,#mMenu,.msg_holder{box-shadow:1px 1px 2px #ccc;-moz-box-shadow:1px 1px 2px #ccc;-webkit-box-shadow:1px 1px 2px #ccc;filter:progid:DXImageTransform.Microsoft.Shadow(Strength=2, Direction=135, Color=#cccccc)\\9}.hit_top{line-height:18px;margin:0 15px 10px 0;width:516px}.hit_top .c-icon-bear{height:18px;margin-right:4px}#rs_top_new,.hit_top_new{width:538px;font-size:13px;line-height:1.54;word-wrap:break-word;word-break:break-all;margin:0 0 14px}.zhannei-si{margin:0 0 10px 121px}.zhannei-si-none{margin:10px 0 -10px 121px}.zhannei-search{margin:10px 0 0 121px;color:#999;font-size:14px}.f a font[size=&quot;3&quot;] font,.f font[size=&quot;-1&quot;] a font{text-decoration:underline}h3 a font{text-decoration:underline}.c-title{font-weight:400;font-size:16px}.c-title-size{font-size:16px}.c-abstract{font-size:13px}.c-abstract-size{font-size:13px}.c-showurl{color:green;font-size:13px}.c-showurl-color{color:green}.c-cache-color{color:#666}.c-lightblue{color:#77c}.c-highlight-color{color:#c00}.c-clearfix:after{content:&quot;.&quot;;display:block;height:0;clear:both;visibility:hidden}.c-clearfix{zoom:1}.c-wrap{word-break:break-all;word-wrap:break-word}.c-icons-outer{overflow:hidden;display:inline-block;vertical-align:bottom;*vertical-align:-1px;_vertical-align:bottom}.c-icons-inner{margin-left:-4px;display:inline-block}.c-container table.result,.c-container table.result-op{width:100%}.c-container td.f{font-size:13px;line-height:1.54;width:auto}.c-container .vd_newest_main{width:auto}.c-customicon{display:inline-block;width:16px;height:16px;vertical-align:text-bottom;font-style:normal;overflow:hidden}.c-tip-icon i{display:inline-block;cursor:pointer}.c-tip-con{position:absolute;z-index:1;top:22px;left:-35px;background:#fff;border:1px solid #dcdcdc;border:1px solid rgba(0,0,0,.2);-webkit-transition:opacity .218s;transition:opacity .218s;-webkit-box-shadow:0 2px 4px rgba(0,0,0,.2);box-shadow:0 2px 4px rgba(0,0,0,.2);padding:5px 0;display:none;font-size:12px;line-height:20px}.c-tip-arrow{width:0;height:0;font-size:0;line-height:0;display:block;position:absolute;top:-16px}.c-tip-arrow-down{top:auto;bottom:0}.c-tip-arrow em,.c-tip-arrow ins{width:0;height:0;font-size:0;line-height:0;display:block;position:absolute;border:8px solid transparent;border-style:dashed dashed solid}.c-tip-arrow em{border-bottom-color:#d8d8d8}.c-tip-arrow ins{border-bottom-color:#fff;top:2px}.c-tip-arrow-down em,.c-tip-arrow-down ins{border-style:solid dashed dashed;border-color:transparent}.c-tip-arrow-down em{border-top-color:#d8d8d8}.c-tip-arrow-down ins{border-top-color:#fff;top:-2px}.c-tip-arrow .c-tip-arrow-r{border-bottom-color:#82c9fa;top:2px}.c-tip-arrow-down .c-tip-arrow-r{border-bottom-color:transparent;top:-2px}.c-tip-arrow .c-tip-arrow-c{border-bottom-color:#fecc47;top:2px}.c-tip-arrow-down .c-tip-arrow-c{border-bottom-color:transparent;top:-2px}.c-tip-con h3{font-size:12px}.c-tip-con .c-tip-title{margin:0 10px;display:inline-block;width:239px}.c-tip-con .c-tip-info{color:#666;margin:0 10px 1px;width:239px}.c-tip-con .c-tip-cer{width:370px;color:#666;margin:0 10px 1px}.c-tip-con .c-tip-title{width:auto;_width:354px}.c-tip-con .c-tip-item-i{padding:3px 0 3px 20px;line-height:14px}.c-tip-con .c-tip-item-i .c-tip-item-icon{margin-left:-20px}.c-tip-con .c-tip-menu ul{width:74px}.c-tip-con .c-tip-menu ul{text-align:center}.c-tip-con .c-tip-menu li a{display:block;text-decoration:none;cursor:pointer;background-color:#fff;padding:3px 0;color:#0000d0}.c-tip-con .c-tip-menu li a:hover{display:block;background-color:#ebebeb}.c-tip-con .c-tip-notice{width:239px;padding:0 10px}.c-tip-con .c-tip-notice .c-tip-notice-succ{color:#4cbd37}.c-tip-con .c-tip-notice .c-tip-notice-fail{color:#f13F40}.c-tip-con .c-tip-notice .c-tip-item-succ{color:#444}.c-tip-con .c-tip-notice .c-tip-item-fail{color:#aaa}.c-tip-con .c-tip-notice .c-tip-item-fail a{color:#aaa}.c-tip-close{right:10px;position:absolute;cursor:pointer}.ecard{height:86px;overflow:hidden}.c-tools{display:inline}.c-tools-share{width:239px;padding:0 10px}.c-fanyi{display:none;width:20px;height:20px;border:solid 1px #d1d1d1;cursor:pointer;position:absolute;margin-left:516px;text-align:center;color:#333;line-height:22px;opacity:.9;background-color:#fff}.c-fanyi:hover{background-color:#39f;color:#fff;border-color:#39f;opacity:1}.c-fanyi-title,.c-fanyi-abstract{display:none}.icp_info{color:#666;margin-top:2px;font-size:13px}.icon-gw,.icon-unsafe-icon{background:#2c99ff;vertical-align:text-bottom;*vertical-align:baseline;height:16px;padding-top:0;padding-bottom:0;padding-left:6px;padding-right:6px;line-height:16px;_padding-top:2px;_height:14px;_line-height:14px;font-size:12px;font-family:simsun;margin-left:10px;overflow:hidden;display:inline-block;-moz-border-radius:1px;-webkit-border-radius:1px;border-radius:1px;color:#fff}a.icon-gw{color:#fff;background:#2196ff;text-decoration:none;cursor:pointer}a.icon-gw:hover{background:#1e87ef}a.icon-gw:active{height:15px;_height:13px;line-height:15px;_line-height:13px;padding-left:5px;background:#1c80d9;border-left:1px solid #145997;border-top:1px solid #145997}.icon-unsafe-icon{background:#e54d4b}#con-at{padding-left:121px}#con-at .result-op{font-size:13px;line-height:1.52em}.wrapper_l #con-at .result-op{width:1058px}.wrapper_s #con-at .result-op{width:869px}#con-ar{margin-bottom:40px}#con-ar .result-op{margin-bottom:28px;font-size:13px;line-height:1.52em}.result_hidden{position:absolute;top:-10000px;left:-10000px}@media screen and (min-width:1116px){html{overflow-y:auto;overflow-x:hidden}body{width:100vw;overflow:hidden;min-height:500px}}#wrapper_wrapper_box{padding-top:9px}#content_left .result-op,#content_left .result{margin-bottom:14px;border-collapse:collapse}#content_left .c-border .result-op,#content_left .c-border .result{margin-bottom:25px}#content_left .c-border .result-op:last-child,#content_left .c-border .result:last-child{margin-bottom:12px}#content_left .result .f,#content_left .result-op .f{padding:0}.subLink_factory{border-collapse:collapse}.subLink_factory td{padding:0}.subLink_factory td.middle,.subLink_factory td.last{color:#666}.subLink_factory td a{text-decoration:underline}.subLink_factory td.rightTd{text-align:right}.subLink_factory_right{width:100%}.subLink_factory_left td{padding-right:26px}.subLink_factory_left td.last{padding:0}.subLink_factory_left td.first{padding-right:75px}.subLink_factory_right td{width:90px}.subLink_factory_right td.first{width:auto}.subLink_answer{padding-top:4px}.subLink_answer li{margin-bottom:4px}.subLink_answer h4{margin:0;padding:0;font-weight:400}.subLink_answer .label_wrap span{display:inline-block;color:#9195A3;margin-right:8px}.subLink_answer .label_wrap span em{color:#666;padding-left:8px}.subLink_answer span.c-icon{margin-right:4px}.subLink_answer_dis{padding:0 3px}.subLink_answer .date{color:#666}.general_image_pic a{background:#fff no-repeat center center;text-decoration:none;display:block;overflow:hidden;text-align:left}.res_top_banner{height:36px;text-align:left;border-bottom:1px solid #e3e3e3;background:#f7f7f7;font-size:13px;padding-left:8px;color:#333;position:relative;z-index:302}.res_top_banner span{_zoom:1}.res_top_banner .res_top_banner_icon{background-position:0 -216px;width:18px;height:18px;margin:9px 10px 0 0}.res_top_banner .res_top_banner_icon_baiduapp{background:url(http://pss.bdstatic.com/r/www/cache/static/global/img/baiduappLogo_de45621.png) no-repeat 0 0;width:24px;height:24px;margin:3px 10px 0 0;position:relative;top:3px}.res_top_banner .res_top_banner_icon_windows{background:url(http://pss.bdstatic.com/r/www/cache/static/global/img/winlogo_e925689.png) no-repeat 0 0;width:18px;height:18px;margin:9px 10px 0 0}.res_top_banner .res_top_banner_download{display:inline-block;width:65px;line-height:21px;_padding-top:1px;margin:0 0 0 10px;color:#333;background:#fbfbfb;border:1px solid #b4b6b8;text-align:center;text-decoration:none}.res_top_banner .res_top_banner_download:hover{border:1px solid #38f}.res_top_banner .res_top_banner_download:active{background:#f0f0f0;border:1px solid #b4b6b8}.res_top_banner .res_top_banner_close{background-position:-672px -144px;cursor:pointer;position:absolute;right:10px;top:10px}.res_top_banner_for_win{height:34px;text-align:left;border-bottom:1px solid #f0f0f0;background:#fdfdfd;font-size:13px;padding-left:12px;color:#333;position:relative;z-index:302}.res_top_banner_for_win span{_zoom:1;color:#666}.res_top_banner_for_win .res_top_banner_download{display:inline-block;width:auto;line-height:21px;_padding-top:1px;margin:0 0 0 16px;color:#333;text-align:left;text-decoration:underline}.res_top_banner_for_win .res_top_banner_icon_windows{background:url(http://pss.bdstatic.com/r/www/cache/static/global/img/winlogo_e925689.png) no-repeat 0 0;width:18px;height:18px;margin:8px 8px 0 0}.res_top_banner_for_win .res_top_banner_close{background-position:-672px -144px;cursor:pointer;position:absolute;right:10px;top:10px}.res-gap-right16{margin-right:16px}.res-border-top{border-top:1px solid #f3f3f3}.res-border-bottom{border-bottom:1px solid #f3f3f3}.res-queryext-pos{position:relative;top:1px;_top:0}.res-queryext-pos-new{position:relative;top:-2px;_top:0}.c-trust-ecard{height:86px;_height:97px;overflow:hidden}.op-recommend-sp-gap{margin-right:6px}@-moz-document url-prefix(){.result,.f{width:538px}}#ftCon{display:none}#qrcode{display:none}#pad-version{display:none}#index_guide{display:none}#index_logo{display:none}#u1{display:none}.s_ipt_wr{height:32px}body{padding:0}.s_form:after,.s_tab:after{content:&quot;.&quot;;display:block;height:0;clear:both;visibility:hidden}.s_form{zoom:1;height:55px;padding:0 0 0 10px}#result_logo{float:left;margin:7px 0 0}#result_logo img{width:101px;height:33px}#result_logo.qm-activity{filter:progid:DXImageTransform.Microsoft.BasicImage(grayscale=1);-webkit-filter:grayscale(100%);-moz-filter:grayscale(100%);-ms-filter:grayscale(100%);-o-filter:grayscale(100%);filter:grayscale(100%);filter:gray}#head{padding:0;margin:0;width:100%;position:absolute;z-index:301;min-width:1000px;background:#fff;border-bottom:1px solid #ebebeb;position:fixed;_position:absolute;-webkit-transform:translateZ(0)}#head .head_wrapper{_width:1000px}#head.s_down{box-shadow:0 0 5px #888}.fm{clear:none;float:left;margin:11px 0 0 10px}#s_tab{background:#f8f8f8;line-height:36px;height:38px;padding:55px 0 0 121px;float:none;zoom:1}#s_tab a,#s_tab b{width:54px;display:inline-block;text-decoration:none;text-align:center;color:#666;font-size:14px}#s_tab b{border-bottom:2px solid #38f;font-weight:700;color:#323232}#s_tab a:hover{color:#323232}#content_left{width:540px;padding-left:121px;padding-top:5px}#content_right{margin-top:45px}.sam_newgrid #content_right{margin-top:40px}#content_bottom{width:540px;padding-left:121px}.to_tieba,.to_zhidao_bottom{margin:10px 0 0 121px;padding-top:5px}.nums{margin:0 0 0 121px;height:42px;line-height:42px}.new_nums{font-size:13px;height:41px;line-height:41px}#rs{padding:0;margin:6px 0 0 121px;width:600px}#rs th{width:175px;line-height:22px}#rs .tt{padding:0;line-height:30px}#rs td{width:5px}#rs table{width:540px}#help a.emphasize{font-weight:700;text-decoration:underline}.content_none{padding:45px 0 25px 121px;float:left;width:560px}.nors p{font-size:18px;color:#000}.nors p em{color:#c00}.nors .tip_head{color:#666;font-size:13px;line-height:28px}.nors li{color:#333;line-height:28px;font-size:13px;list-style-type:none}#mCon{top:5px}.s_ipt_wr.bg,.s_btn_wr.bg,#su.bg{background-image:none}.s_btn_wr{width:auto;height:auto;border-bottom:1px solid transparent;*border-bottom:0}.s_btn{width:100px;height:34px;color:#fff;letter-spacing:1px;background:#3385ff;border-bottom:1px solid #2d78f4;outline:medium;*border-bottom:0;-webkit-appearance:none;-webkit-border-radius:0}.s_btn.btnhover{background:#317ef3;border-bottom:1px solid #2868c8;*border-bottom:0;box-shadow:1px 1px 1px #ccc}.s_btn_h{background:#3075dc;box-shadow:inset 1px 1px 3px #2964bb;-webkit-box-shadow:inset 1px 1px 3px #2964bb;-moz-box-shadow:inset 1px 1px 3px #2964bb;-o-box-shadow:inset 1px 1px 3px #2964bb}.yy_fm .s_btn.btnhover{background:#D10400;border-bottom:1px solid #D10400}.yy_fm .s_btn_h{background:#C00400;box-shadow:inset 1px 1px 3px #A00300;-webkit-box-shadow:inset 1px 1px 3px #A00300}#wrapper_wrapper .container_l .EC_ppim_top,#wrapper_wrapper .container_xl .EC_ppim_top{width:640px}#wrapper_wrapper .container_s .EC_ppim_top{width:570px}#head .c-icon-bear-round{display:none}.container_l #content_right{width:384px}.container_l{width:1212px}.container_xl #content_right{width:384px}.container_xl{width:1257px}.index_tab_top{display:none}.index_tab_bottom{display:none}#lg{display:none}#m{display:none}#ftCon{display:none}#ent_sug{position:absolute;margin:141px 0 0 130px;font-size:13px;color:#666}.foot_fixed_bottom{position:fixed;bottom:0;width:100%;_position:absolute;_bottom:auto}#head .headBlock{margin:-5px 0 6px 121px}#content_left .leftBlock{margin-bottom:14px;padding-bottom:5px;border-bottom:1px solid #f3f3f3}.hint_toprq_tips{position:relative;width:537px;height:19px;line-height:19px;overflow:hidden;display:none}.hint_toprq_tips span{color:#666}.hint_toprq_icon{margin:0 4px 0 0}.hint_toprq_tips_items{width:444px;_width:440px;max-height:38px;position:absolute;left:95px;top:1px}.hint_toprq_tips_items div{display:inline-block;float:left;height:19px;margin-right:18px;white-space:nowrap;word-break:keep-all}.translateContent{max-width:350px}.translateContent .translateTool{height:16px;margin:-3px 2px}.translateContent .action-translate,.translateContent .action-search{display:inline-block;width:20px;height:16px;background:url(http://pss.bdstatic.com/r/www/cache/static/global/img/translate_tool_icon_57087b6.gif) no-repeat}.translateContent .action-translate{background-position:0 0;border-right:1px solid #dcdcdc}.translateContent .action-translate:hover{background-position:0 -20px}.translateContent .action-search{background-position:-20px 0}.translateContent .action-search:hover{background-position:-20px -20px}.nums{width:538px}.search_tool{_padding-top:15px}.head_nums_cont_outer{height:40px;overflow:hidden;position:relative}.new_head_nums_cont_outer{height:35px}.head_nums_cont_inner{position:relative}.search_tool_conter .c-gap-left{margin-left:23px}.search_tool_conter .c-icon-triangle-down{opacity:.6}.search_tool_conter .c-icon-triangle-down:hover{opacity:1}.search_tool,.search_tool_close{float:right}.search_tool,.search_tool_conter span{cursor:pointer;color:#666}.search_tool:hover,.search_tool_conter span:hover{color:#333}.search_tool_conter{font-size:12px;color:#666;margin:0 0 0 121px;height:42px;width:538px;line-height:42px;*height:auto;*line-height:normal;*padding:14px 0}.new_search_tool_conter{font-size:12px;color:#666;margin:0 0 0 121px;height:41px;width:538px;line-height:39px;*height:auto;*line-height:normal;*padding:14px 0}.search_tool_conter span strong{color:#666}.c-tip-con .c-tip-langfilter ul{width:80px;text-align:left;color:#666}.c-tip-con .c-tip-langfilter li a{text-indent:15px;color:#666}.c-tip-con .c-tip-langfilter li span{text-indent:15px;padding:3px 0;color:#999;display:block}.c-tip-con .c-tip-timerfilter ul{width:117px;text-align:left;color:#666}.c-tip-con .c-tip-timerfilter-ft ul{width:180px}.c-tip-con .c-tip-timerfilter-si ul{width:206px;padding:7px 10px 10px}.c-tip-con .c-tip-timerfilter li a{text-indent:15px;color:#666}.c-tip-con .c-tip-timerfilter li span{text-indent:15px;padding:3px 0;color:#999;display:block}.c-tip-con .c-tip-timerfilter-ft li a,.c-tip-con .c-tip-timerfilter-ft li span{text-indent:20px}.c-tip-custom{padding:0 15px 10px;position:relative;zoom:1}.c-tip-custom hr{border:0;height:0;border-top:1px solid #ebebeb}.c-tip-custom p{color:#b6b6b6;height:25px;line-height:25px;margin:2px 0}.c-tip-custom .c-tip-custom-et{margin-bottom:7px}.c-tip-custom-input,.c-tip-si-input{display:inline-block;font-size:11px;color:#333;margin-left:4px;padding:0 2px;width:74%;height:16px;line-height:16px\\9;border:1px solid #ebebeb;outline:0;box-sizing:content-box;-webkit-box-sizing:content-box;-moz-box-sizing:content-box;overflow:hidden;position:relative}.c-tip-custom-input-init{color:#d4d4d4}.c-tip-custom-input-focus,.c-tip-si-input-focus{border:1px solid #3385ff}.c-tip-timerfilter-si .c-tip-si-input{width:138px;height:22px;line-height:22px;vertical-align:0;*vertical-align:-6px;_vertical-align:-5px;padding:0 5px;margin-left:0}.c-tip-con .c-tip-timerfilter li .c-tip-custom-submit,.c-tip-con .c-tip-timerfilter li .c-tip-timerfilter-si-submit{display:inline;padding:4px 10px;margin:0;color:#333;border:1px solid #d8d8d8;font-family:inherit;font-weight:400;text-align:center;vertical-align:0;background-color:#f9f9f9;outline:0}.c-tip-con .c-tip-timerfilter li .c-tip-custom-submit:hover,.c-tip-con .c-tip-timerfilter li .c-tip-timerfilter-si-submit:hover{display:inline;border-color:#388bff}.c-tip-timerfilter-si-error,.c-tip-timerfilter-custom-error{display:none;color:#3385FF;padding-left:4px}.c-tip-timerfilter-custom-error{padding:0;margin:-5px -13px 7px 0}#c-tip-custom-calenderCont{position:absolute;background:#fff;white-space:nowrap;padding:5px 10px;color:#000;border:1px solid #e4e4e4;-webkit-box-shadow:0 2px 4px rgba(0,0,0,.2);box-shadow:0 2px 4px rgba(0,0,0,.2)}#c-tip-custom-calenderCont p{text-align:center;padding:2px 0 4px;*padding:4px 0}#c-tip-custom-calenderCont p i{color:#8e9977;cursor:pointer;text-decoration:underline;font-size:13px}#c-tip-custom-calenderCont .op_cal{background:#fff}.op_cal table{background:#eeefea;margin:0;border-collapse:separate}.op_btn_pre_month,.op_btn_next_month{cursor:pointer;display:block;margin-top:6px}.op_btn_pre_month{float:left;background-position:0 -46px}.op_btn_next_month{float:right;background-position:-18px -46px}.op_cal .op_mon_pre1{padding:0}.op_mon th{text-align:center;font-size:12px;background:#FFF;font-weight:700;border:1px solid #FFF;padding:0}.op_mon td{text-align:center;cursor:pointer}.op_mon h5{margin:0;padding:0 4px;text-align:center;font-size:14px;background:#FFF;height:28px;line-height:28px;border-bottom:1px solid #f5f5f5;margin-bottom:5px}.op_mon strong{font-weight:700}.op_mon td{padding:0 5px;border:1px solid #fff;font-size:12px;background:#fff;height:100%}.op_mon td.op_mon_pre_month{color:#a4a4a4}.op_mon td.op_mon_cur_month{color:#00c}.op_mon td.op_mon_next_month{color:#a4a4a4}.op_mon td.op_mon_day_hover{color:#000;border:1px solid #278df2}.op_mon td.op_mon_day_selected{color:#FFF;border:1px solid #278df2;background:#278df2}.op_mon td.op_mon_day_disabled{cursor:not-allowed;color:#ddd}.zhannei-si-none,.zhannei-si,.hit_quet,.zhannei-search{display:none}#c-tip-custom-calenderCont .op_mon td.op_mon_cur_month{color:#000}#c-tip-custom-calenderCont .op_mon td.op_mon_day_selected{color:#fff}.c-icon-toen{width:24px;height:24px;line-height:24px;background-color:#1cb7fd;color:#fff;font-size:14px;font-weight:700;font-style:normal;display:block;display:inline-block;float:left;text-align:center}.hint_common_restop{width:538px;color:#999;font-size:12px;text-align:left;margin:5px 0 10px 121px}.hint_common_restop.hint-adrisk-pro{margin-top:4px;margin-bottom:13px}.hint_common_restop .hint-adrisk-title{color:#333;margin-bottom:3px}#con-at~#wrapper_wrapper .hint_common_restop{padding-top:7px}.sitelink{overflow:auto;zoom:1}.sitelink_summary{float:left;width:47%;padding-right:30px}.sitelink_summary a{font-size:1.1em;position:relative}.sitelink_summary_last{padding-right:0}.sitelink_en{overflow:auto;zoom:1}.sitelink_en_summary{float:left;width:47%;padding-right:30px}.sitelink_en_summary a{font-size:1.1em;position:relative}.sitelink_en_summary_last{padding-right:0}.sitelink_en_summary_title,.sitelink_en_summary .m{height:22px;overflow:hidden}.without-summary-sitelink-en-container{overflow:hidden;height:22px}.without-summary-sitelink-en{float:left}.without-summary-sitelink-en-delimiter{margin-right:5px;margin-left:5px}.wise-qrcode-wrapper{height:42px;line-height:42px;position:absolute;margin-left:8px;top:0;z-index:300}.wise-qrcode-icon-outer{overflow:hidden}.wise-qrcode-icon{position:relative;display:inline-block;width:15px;height:15px;vertical-align:text-bottom;overflow:hidden;opacity:.5;background:url(http://pss.bdstatic.com/r/www/cache/static/global/img/qrcode_icon_ae03227.png) no-repeat;-webkit-transform:translateY(42px);-ms-transform:translateY(42px);transform:translateY(42px);-webkit-background-size:100% 100%;background-size:100%}.wise-qrcode-container{padding:15px;background:#fff;display:none;top:61px;left:0;-webkit-transform:translateX(-50%);-ms-transform:translateX(-50%);transform:translateX(-50%);-webkit-box-shadow:0 0 1px rgba(0,0,0,.5);box-shadow:0 0 1px rgba(0,0,0,.5)}.wise-qrcode-wrapper.show:hover .wise-qrcode-container{display:block}.wise-qrcode-image{width:90px;height:90px;display:inline-block;vertical-align:middle}.wise-qrcode-image .wise-qrcode-canvas{width:100%;height:100%}.wise-qrcode-right{display:inline-block;vertical-align:middle;margin-left:15px}.wise-qrcode-title{font-size:16px;color:#000;line-height:26px}.wise-qrcode-text{font-size:12px;line-height:22px;color:#555}#container.sam_newgrid{margin-left:150px}#container.sam_newgrid #content_right{outline:0;border-left:0;padding:0}#container.sam_newgrid #content_right.topic-gap{margin-top:13px}#container.sam_newgrid #content_left{outline:0;padding-left:0}#container.sam_newgrid #content_left .result-op,#container.sam_newgrid #content_left .result{margin-bottom:20px}#container.sam_newgrid #con-ar .result-op{margin-bottom:20px;line-height:21px}#container.sam_newgrid .c-container .t,#container.sam_newgrid .c-container .c-title{margin-bottom:4px}#container.sam_newgrid .c-container .t a,#container.sam_newgrid .c-container .c-title a{display:inline-block;text-decoration:underline}#container.sam_newgrid .c-container .t a em,#container.sam_newgrid .c-container .c-title a em{text-decoration:underline}#container.sam_newgrid .c-container .t.c-title-border-gap,#container.sam_newgrid .c-container .c-title.c-title-border-gap{margin-bottom:8px}#container.sam_newgrid a .t,#container.sam_newgrid a .c-title{text-decoration:underline}#container.sam_newgrid a .t em,#container.sam_newgrid a .c-title em{text-decoration:underline}#container.sam_newgrid .hint_common_restop,#container.sam_newgrid .nums,#container.sam_newgrid #rs,#container.sam_newgrid .search_tool_conter{margin-left:0}#container.sam_newgrid .content_none{padding-left:0}#container.sam_newgrid .result .c-tools,#container.sam_newgrid .result-op .c-tools{margin-left:8px;cursor:pointer}#container.sam_newgrid .result .c-tools .c-icon,#container.sam_newgrid .result-op .c-tools .c-icon{font-size:13px;color:rgba(0,0,0,.1);height:17px;width:13px;text-decoration:none;overflow:visible}#container.sam_newgrid .se_st_footer .c-tools .c-icon{position:relative;top:-1px}#container.sam_newgrid .c-showurl{color:#626675;font-family:Arial,sans-serif}#container.sam_newgrid .c-showurl-hover{text-decoration:underline;color:#315efb}#container.sam_newgrid .c-showem{text-decoration:underline;color:#f73131}#container.sam_newgrid .c-icons-inner{margin-left:0}#container.sam_newgrid .c-trust-as{cursor:pointer}#container.sam_newgrid .c-icon-xls-new{color:#8bba75}#container.sam_newgrid .c-icon-txt-new{color:#708cf6}#container.sam_newgrid .c-icon-pdf-new{color:#e56755}#container.sam_newgrid .c-icon-ppt-new{color:#e27c59}#container.sam_newgrid .c-icon-doc-new{color:#509de0}#container.sam_newgrid .se-st-default-abs-icon{font-size:16px;width:16px;height:18px}#container.sam_newgrid .se-st-default-t-icon{width:20px;height:22px;position:relative;font-size:20px;top:-1px}#container.sam_newgrid .right-fixed{position:fixed;top:86px;z-index:1}#container.sam_newgrid .right-fixed.fixed-bottom{bottom:88px;top:auto}.new-pmd .subLink_answer{padding-top:3px}.new-pmd .subLink_answer li{margin-bottom:5px}.new-pmd .subLink_answer li:last-child{margin-bottom:4px}.new-pmd .normal-gf-icon{font-size:12px;padding:0 3px;position:relative;top:-3px}.new-pmd .kuaizhao:hover{text-decoration:none;color:#626675}.new-pmd .sitelink_summary{width:272px;padding-right:16px}.new-pmd .sitelink_summary_last{padding-right:0}.new-pmd.bd_weixin_popup .c-tips-icon-close{font-size:16px!important;position:absolute;right:-6px;top:-6px;height:16px;width:16px;line-height:16px;cursor:pointer;text-align:center;color:#d7d9e0}.new-pmd.bd_weixin_popup .c-tips-icon-close:active,.new-pmd.bd_weixin_popup .c-tips-icon-close:hover{color:#626675}.new-pmd .c-tools-share-tip-con{padding-bottom:0}.new-pmd .c-tools-favo-tip-con{padding-bottom:10px}.new-pmd .c-tools-favo-tip-con .favo-icon{background-image:url(http://pss.bdstatic.com/r/www/cache/static/global/img/favo_sprites_e33db52.png);background-repeat:no-repeat;height:16px;width:16px;background-size:32px 16px;display:inline-block;vertical-align:text-bottom}.new-pmd .c-tools-favo-tip-con .success-icon{background-position:0 0}.new-pmd .c-tools-favo-tip-con .fail-icon{background-position:-16px 0}.new-pmd .c-tools-tip-con{box-shadow:0 2px 10px 0 rgba(0,0,0,.1);border-radius:6px;border:0;font-size:13px!important;line-height:13px;padding:11px 10px 10px}.new-pmd .c-tools-tip-con h3{font-size:13px!important}.new-pmd .c-tools-tip-con a{text-decoration:none}.new-pmd .c-tools-tip-con .c-tip-menu li{margin-bottom:13px}.new-pmd .c-tools-tip-con .c-tip-menu li a{color:#333;line-height:13px;padding:0}.new-pmd .c-tools-tip-con .c-tip-menu li a:hover{color:#315efb;background:none!important;text-decoration:none}.new-pmd .c-tools-tip-con .c-tip-menu li a:active{color:#f73131}.new-pmd .c-tools-tip-con .c-tip-menu li:last-child{margin-bottom:0}.new-pmd .c-tools-tip-con .c-tip-menu ul{width:auto;padding:0}.new-pmd .c-tools-tip-con .c-tip-notice{width:164px;padding:0}.new-pmd .c-tools-tip-con .c-tip-notice .c-tip-notice-succ{color:#333;font-weight:400;padding-bottom:10px}.new-pmd .c-tools-tip-con .c-tip-notice .c-tip-item-succ:first-child{padding-bottom:8px}.new-pmd .c-tools-tip-con .c-tip-notice .c-tip-item-succ a{color:#2440b3}.new-pmd .c-tools-tip-con .c-tip-notice .c-tip-item-succ a:hover{text-decoration:underline;color:#315efb}.new-pmd .c-tools-tip-con .c-tip-notice .c-tip-item-succ a:active{color:#f73131}.new-pmd .c-tools-tip-con .c-tip-notice .c-tip-item-fail{color:#9195A3}.new-pmd .c-tools-tip-con .c-tip-notice .c-tip-item-fail a:hover{text-decoration:underline;color:#315efb}.new-pmd .c-tools-tip-con .c-tip-notice .c-tip-item-fail a:active{color:#f73131}.new-pmd .c-tools-tip-con .c-tips-icon-close{font-size:13px!important;width:13px;line-height:13px;color:#C4C7CE}.new-pmd .c-tools-tip-con .c-tips-icon-close:hover,.new-pmd .c-tools-tip-con .c-tips-icon-close:active{color:#626675}.new-pmd .c-tools-tip-con .c-tools-share{padding:0}.new-pmd .c-tools-tip-con .c-tools-share a:hover{color:#315efb}.new-pmd .c-tools-tip-con .c-tools-share a:active{color:#f73131}.new-pmd .c-tools-tip-con .c-tools-share .bds_v2_share_box{margin-right:0}.new-pmd .c-tools-tip-con .c-tip-arrow{top:-5px}.new-pmd .c-tools-tip-con .c-tip-arrow em{border-width:0 4px 5px;border-style:solid;border-color:transparent;border-bottom-color:#fff;box-shadow:0 2px 10px 0 rgba(0,0,0,.1)}.new-pmd .c-tools-tip-con .c-tip-arrow ins{display:none}body{min-width:1060px}.wrapper_new{font-family:Arial,sans-serif}.wrapper_new #head{border-bottom:0;min-width:1060px}.wrapper_new #head.s_down{box-shadow:0 2px 10px 0 rgba(0,0,0,.1)}.wrapper_new .s_form{height:70px;padding-left:16px}.wrapper_new #result_logo{margin:17px 0 0}.wrapper_new .fm{margin:15px 0 15px 16px}@media screen and (min-width:1921px){.wrapper_new #s_tab.s_tab .s_tab_inner{padding-left:105px}}.wrapper_new .s_ipt_wr{width:590px;height:36px;border:2px solid #c4c7ce;border-radius:10px 0 0 10px;border-right:0;overflow:visible}.wrapper_new #form .s_ipt_wr.new-ipt-focus{border-color:#4e6ef2}.wrapper_new.wrapper_s .s_ipt_wr{width:478px}.wrapper_new .iptfocus.s_ipt_wr{border-color:#4e71f2!important}.wrapper_new .s_ipt_wr:hover{border-color:#A7AAB5}.wrapper_new .head_wrapper input{outline:0;-webkit-appearance:none}.wrapper_new .s_ipt{height:38px;font:16px/18px arial;padding:10px 0 10px 14px;margin:0;width:484px;background:transparent;border:0;outline:0;-webkit-appearance:none}.wrapper_new.wrapper_l .soutu-env-mac .has-voice #kw.s_ipt{width:471px}.wrapper_new.wrapper_s .soutu-env-mac .has-voice #kw.s_ipt{width:359px}.wrapper_new.wrapper_l .soutu-env-mac #kw.s_ipt,.wrapper_new.wrapper_l .soutu-env-nomac #kw.s_ipt{width:503px}.wrapper_new.wrapper_s .soutu-env-mac #kw.s_ipt,.wrapper_new.wrapper_s .soutu-env-nomac #kw.s_ipt{width:391px}.wrapper_new .s_ipt_tip{height:37px;line-height:35px}.wrapper_new .s_btn_wr{width:112px;position:relative;z-index:2;zoom:1;border:0}.wrapper_new .s_btn_wr .s_btn{cursor:pointer;width:112px;height:40px;line-height:41px;line-height:40px\\9;background-color:#4e6ef2;border-radius:0 10px 10px 0;font-size:17px;box-shadow:none;font-weight:400;border:0;outline:0;letter-spacing:normal}.wrapper_new .s_btn_wr .s_btn:hover{background:#4662D9}.wrapper_new .ipt_rec,.wrapper_new .soutu-btn{background:url(http://pss.bdstatic.com/r/www/cache/static/global/img/nicon_10750f3.png) no-repeat;width:24px;height:20px}.wrapper_new .ipt_rec{background-position:0 -2px;top:50%;right:52px!important;margin-top:-10px}.wrapper_new .ipt_rec:hover{background:url(http://pss.bdstatic.com/r/www/cache/static/global/img/nicon_10750f3.png) no-repeat;background-position:0 -26px}.wrapper_new .ipt_rec:after{display:none}.wrapper_new .soutu-btn{background-position:0 -51px;right:16px;margin-top:-9px}.wrapper_new .soutu-btn:hover{background-position:0 -75px}@media only screen and (-webkit-min-device-pixel-ratio:2){.wrapper_new .soutu-btn,.wrapper_new .ipt_rec{background-image:url(http://pss.bdstatic.com/r/www/cache/static/global/img/nicon-2x_6258e1c.png);background-size:24px 96px}.wrapper_new .ipt_rec:hover{background-image:url(http://pss.bdstatic.com/r/www/cache/static/global/img/nicon-2x_6258e1c.png);background-size:24px 96px}}.wrapper_new #s_tab{color:#626675;padding-top:59px;background:0 0;padding-left:150px}.wrapper_new #s_tab a{color:#626675}.wrapper_new #s_tab a,.wrapper_new #s_tab b{width:auto;min-width:44px;margin-right:27px;line-height:28px;text-align:left;margin-top:4px}.wrapper_new #s_tab i{font-size:14px;font-weight:400}.wrapper_new #s_tab .cur-tab{color:#222;font-weight:400;border-bottom:0}.wrapper_new #s_tab .cur-tab:before{font-family:cIconfont!important;color:#626675;margin-right:2px;content:&#39;\\e608&#39;}.wrapper_new #s_tab .cur-tab:after{content:&#39;&#39;;width:auto;min-width:44px;height:2px;background:#4e6ef2;border-radius:1px;display:block;margin-top:1px}.wrapper_new.wrapper_s #s_tab a,.wrapper_new.wrapper_s #s_tab b{margin-right:15px}.wrapper_new #s_tab .s-tab-item:hover{color:#222}.wrapper_new #s_tab .s-tab-item:hover:before{color:#626675}.wrapper_new #s_tab .s-tab-item:before{font-family:cIconfont!important;font-style:normal;-webkit-font-smoothing:antialiased;background:initial;margin-right:2px;color:#C0C2C8;display:inline-block}.wrapper_new #s_tab .s-tab-news:before{content:&#39;\\e606&#39;}.wrapper_new #s_tab .s-tab-video:before{content:&#39;\\e604&#39;}.wrapper_new #s_tab .s-tab-pic:before{content:&#39;\\e607&#39;}.wrapper_new #s_tab .s-tab-zhidao:before{content:&#39;\\e633&#39;}.wrapper_new #s_tab .s-tab-wenku:before{content:&#39;\\e605&#39;}.wrapper_new #s_tab .s-tab-tieba:before{content:&#39;\\e609&#39;}.wrapper_new #s_tab .s-tab-b2b:before{content:&#39;\\e603&#39;}.wrapper_new #s_tab .s-tab-map:before{content:&#39;\\e630&#39;}.wrapper_new #s_tab .s-tab-realtime_ugc:before{content:&#39;\\e689&#39;}.wrapper_new #u{height:60px;margin:4px 0 0;padding-right:24px}.wrapper_new #u&gt;a{text-decoration:none;line-height:24px;font-size:13px;margin:20px 0 0 24px;display:inline-block;vertical-align:top;cursor:pointer;color:#222}.wrapper_new #u&gt;a:hover,#user .username:hover{text-decoration:none;color:#315efb}.wrapper_new #u .pf .c-icon-triangle-down{display:none}.wrapper_new #u .lb{color:#fff;background-color:#4e71f2;height:24px;width:48px;line-height:24px;border-radius:6px;display:inline-block;text-align:center;margin-top:18px}.wrapper_new #u .lb:hover{color:#fff}.wrapper_new #u #s-top-loginbtn,.wrapper_new #u #user{position:relative;display:inline-block}.wrapper_new #u #s-top-loginbtn a{margin-left:24px;margin-right:0}.wrapper_new #u #s-top-loginbtn a:hover{text-decoration:none}.wrapper_new #u .username{margin-left:21px;margin-top:15px;display:inline-block;height:30px}.wrapper_new #u .s-msg-count{display:none;margin-left:4px}.wrapper_new #u .s-top-img-wrapper{position:relative;width:28px;height:28px;border:1px solid #4e71f2;display:inline-block;border-radius:50%}.wrapper_new #u .s-top-img-wrapper img{padding:2px;width:24px;height:24px;border-radius:50%}.wrapper_new #u .s-top-username{display:inline-block;max-width:100px;overflow:hidden;white-space:nowrap;text-overflow:ellipsis;-o-text-overflow:ellipsis;vertical-align:top;margin-top:5px;margin-left:6px;font:13px/23px &#39;PingFang SC&#39;,Arial,&#39;Microsoft YaHei&#39;,sans-serif}.wrapper_new #u .username .c-icon{display:none}#wrapper.wrapper_new .bdnuarrow{display:none}#wrapper.wrapper_new .bdpfmenu{display:none}#wrapper.wrapper_new .bdpfmenu,#wrapper.wrapper_new .usermenu{width:84px;padding:8px 0;background:#fff;box-shadow:0 2px 10px 0 rgba(0,0,0,.15);-webkit-box-shadow:0 2px 10px 0 rgba(0,0,0,.15);-moz-box-shadow:0 2px 10px 0 rgba(0,0,0,.15);-o-box-shadow:0 2px 10px 0 rgba(0,0,0,.15);border-radius:12px;*border:1px solid #d7d9e0;border:0;overflow:hidden}.wrapper_new .s-top-img-wrapper{display:none}.wrapper_new .bdpfmenu a,.wrapper_new .usermenu a{padding:3px 0 3px 16px;color:#333;font-size:13px;line-height:19px;width:52px;height:19px;border-radius:4px}.wrapper_new .bdpfmenu .first,.wrapper_new .usermenu .first{margin-top:2px}.wrapper_new .bdpfmenu .last,.wrapper_new .usermenu .last{margin-bottom:2px}.wrapper_new .bdpfmenu a:hover .set,.wrapper_new .usermenu a:hover .set{margin-left:-8px;margin-top:-1px}.wrapper_new #u .bdpfmenu a:hover,.wrapper_new #u .usermenu a:hover{color:#315efb;text-decoration:none;background:#F1F3FD;margin-left:8px}.wrapper_new #u .usermenu{display:none;width:84px;padding:8px 0;background:#fff;box-shadow:0 2px 10px 0 rgba(0,0,0,.15);border-radius:12px;*border:1px solid #d7d9e0;border:0;overflow:hidden;position:absolute}.wrapper_new #u .bdpfmenu a,.wrapper_new #u .usermenu a{background:#fff;color:#333;text-decoration:none;display:block;text-align:left;padding:3px 0 3px 16px;font-size:13px;line-height:19px;margin:2px 4px 4px 0}.wrapper_new #form .bdsug-new{width:590px;top:31px;border-radius:0 0 10px 10px;border:2px solid #4e71f2!important;border-top:0!important;box-shadow:none;font-family:&#39;Microsoft YaHei&#39;,Arial,sans-serif;z-index:1}.wrapper_new.wrapper_s #form .bdsug-new{width:478px}.wrapper_new #form .bdsug-new ul{margin:7px 14px 0;padding:8px 0 7px;background:0 0;border-top:2px solid #f5f5f6}.wrapper_new.wrapper_s #form .bdsug-new ul li{width:auto}.wrapper_new #form .bdsug-new ul li{width:auto;padding-left:14px;margin-left:-14px;margin-right:-14px;color:#626675;line-height:28px;background:0 0;font-family:&#39;Microsoft YaHei&#39;,Arial,sans-serif}.wrapper_new #form .bdsug-new ul li span{color:#626675}.wrapper_new #form .bdsug-new ul li b{font-weight:400;color:#222}.wrapper_new #form .bdsug-new .bdsug-store-del{font-size:13px;text-decoration:none;color:#9195A3;right:16px}.wrapper_new #form .bdsug-new .bdsug-store-del:hover{color:#315EFB;cursor:pointer}.wrapper_new #form .bdsug-new ul li:hover,.wrapper_new #form .bdsug-new ul li:hover span,.wrapper_new #form .bdsug-new ul li:hover b{cursor:pointer}#head .s-down #form .bdsug-new{top:32px}.wrapper_new #form .bdsug-new .bdsug-s,.wrapper_new #form .bdsug-new .bdsug-s span,.wrapper_new #form .bdsug-new .bdsug-s b{color:#315EFB}.wrapper_new #form .bdsug-new .bdsug-s{background-color:#F5F5F6!important}.wrapper_new #form .bdsug-new&gt;div span:hover,.wrapper_new #form .bdsug-new&gt;div a:hover{color:#315EFB!important}.wrapper_new #form #kw.new-ipt-focus{border-color:#4e6ef2}.wrapper_new .bdsug-new .bdsug-feedback-wrap{border-radius:0 0 10px 10px;background:0 0;line-height:19px;margin-bottom:3px;margin-top:-7px}.wrapper_new .bdsug-new .bdsug-feedback-wrap span{text-decoration:none;color:#9195A3;font-size:13px;cursor:pointer;margin-right:14px}.wrapper_new .bdsug-new .bdsug-feedback-wrap span:hover{color:#315EFB}.wrapper_new .soutu-env-new .soutu-layer{width:704px}.wrapper_new .soutu-env-new .soutu-layer .soutu-url-wrap,.wrapper_new .soutu-env-new .soutu-layer #soutu-url-kw{width:592px;height:40px}.wrapper_new.wrapper_s .soutu-env-new .soutu-layer{width:592px}.wrapper_new.wrapper_s .soutu-env-new .soutu-layer .soutu-url-wrap,.wrapper_new.wrapper_s .soutu-env-new .soutu-layer #soutu-url-kw{width:480px;height:40px}.wrapper_new .soutu-env-new .soutu-layer .soutu-url-btn-new{width:112px;height:40px;line-height:41px;line-height:40px\\9}.wrapper_new .soutu-hover-tip,.wrapper_new .voice-hover{top:50px}.wrapper_new .bdlayer .c-icon{width:16px;height:100%;vertical-align:top}.wrapper_new #content_left{padding-left:140px}.wrapper_new .search_tool_conter,.wrapper_new .nums,.wrapper_new #rs,.wrapper_new .hint_common_restop{margin-left:140px}.wrapper_new #rs{margin-bottom:10px}.wrapper_new #rs th{font-family:&#39;Microsoft YaHei&#39;,Arial,sans-serif}#help .activity{font-weight:700;text-decoration:underline}.index-logo-peak{display:none}.baozhang-new-v2{margin-left:8px}.c-trust-as.baozhang-new-v2 i{display:inline-block;vertical-align:text-bottom;font-family:none;width:43px;height:17px;background-image:url(http://pss.bdstatic.com/r/www/cache/static/global/img/bao_02f5d40.svg);background-repeat:no-repeat;background-size:contain;position:relative;top:1px}.c-trust-as.baozhang-new-v2+.c-trust-as.vstar a{position:relative;top:1px}@supports (-ms-ime-align:auto){.c-trust-as.baozhang-new-v2+.c-trust-as.vstar a{top:0}}#head_wrapper.s-down .soutu-env-new .soutu-layer #soutu-url-kw{height:40px!important}.body-brand{min-width:736px}.body-brand .wrapper_new #head,.body-brand .wrapper_new #s_tab,.body-brand .wrapper_new #top-ad{display:none}.body-brand .wrapper_new #foot .foot-inner #help{padding-left:48px!important;margin:0}.body-brand .wrapper_new #foot .foot-inner{margin:0}.body-brand .wrapper_new #wrapper_wrapper{margin-left:0}.body-brand .wrapper_new #wrapper_wrapper #container{margin-left:48px;padding-left:0;width:608px}.body-brand .wrapper_new #wrapper_wrapper #container .new_head_nums_cont_outer,.body-brand .wrapper_new #wrapper_wrapper #container #content_right{display:none}.body-brand .wrapper_new #wrapper_wrapper #container .brand-head{height:58px}.body-brand .wrapper_new #wrapper_wrapper #container .brand-head #result_logo{margin-top:14px}.body-brand .wrapper_new #wrapper_wrapper #container .brand-head .nums_text{color:#999;margin-top:19px;display:inline-block;margin-left:15px;width:auto}.body-brand .wrapper_new #wrapper_wrapper #container #rs{width:656px}.body-brand .wrapper_new #wrapper_wrapper #container #rs .new-inc-rs-table{width:656px}.body-brand .wrapper_new #wrapper_wrapper #container #rs .new-inc-rs-table th,.body-brand .wrapper_new #wrapper_wrapper #container #rs .new-inc-rs-table th .new-inc-rs-item{width:208px}.big-event-gray{filter:progid:DXImageTransform.Microsoft.BasicImage(grayscale=1);-webkit-filter:grayscale(100%);-moz-filter:grayscale(100%);-ms-filter:grayscale(100%);-o-filter:grayscale(100%);filter:grayscale(100%);filter:gray}.wrapper_new .s_form.sam_s_form{height:74px;padding-left:16px}.wrapper_new .sam_s_form#result_logo{margin:19px 0 0}.wrapper_new .sam_search.fm{margin:15px 0 15px 16px;border-radius:12px 14px 14px 12px}.wrapper_new .sam_search.fm:hover{border-color:#1d4fff}.wrapper_new .sam_search.fm:hover .s_btn_wr .s_btn{background:#1d4fff}.wrapper_new .sam_s_tab#s_tab{padding-top:63px!important}.wrapper_new .sam_search.sam_form_shadow{box-shadow:0 4px 2px 0 rgba(0,0,0,.1)}.wrapper_new .sam_search .s_ipt_wr{width:588px;height:40px;z-index:10;background-clip:padding-box;-ms-background-clip:padding-box;-webkit-background-clip:padding-box;border:2px solid #4e6ef2;border-radius:12px 10px 10px 12px;overflow:visible}.wrapper_new .sam_search .s_ipt_wr.ipthover{border-color:#1d4fff}.wrapper_new.wrapper_s .sam_search .s_ipt_wr{width:480px}.wrapper_new .sam_search .iptfocus.s_ipt_wr{border-color:#1d4fff!important}.wrapper_new .sam_search .s_ipt_wr:hover{border-color:#1d4fff}.wrapper_new .sam_search .s_ipt{height:40px;height:43px\\0;font:18px/18px arial;padding:11px 0 11px 14px}.wrapper_new.wrapper_l .soutu-env-mac .sam_search.has-voice #kw.s_ipt{width:451px}.wrapper_new.wrapper_s .soutu-env-mac .sam_search.has-voice #kw.s_ipt{width:346px}.wrapper_new.wrapper_l .soutu-env-mac .sam_search #kw.s_ipt,.wrapper_new.wrapper_l .soutu-env-nomac .sam_search #kw.s_ipt{width:490px}.wrapper_new.wrapper_s .soutu-env-mac .sam_search #kw.s_ipt,.wrapper_new.wrapper_s .soutu-env-nomac .sam_search #kw.s_ipt{width:384px}.wrapper_new .sam_search .s_btn_wr{width:115px;margin-left:-9px;z-index:2;zoom:1;border:0}.wrapper_new .sam_search .s_btn_wr .s_btn{cursor:pointer;width:115px;height:44px;line-height:44px;padding-left:7px;padding-top:1px;background-color:#4e6ef2;border-radius:0 12px 12px 0;font-size:18px}.wrapper_new .sam_search .s_btn_wr .s_btn.btnfocus{background:#1d4fff}.wrapper_new .sam_search .s_btn_wr .s_btn:hover{background:#1d4fff}.wrapper_new .sam_search .s_btn_wr .s_btn:hover .wrapper_new .fm .s_ipt_wr{border-color:#1d4fff}.wrapper_new .sam_s_tab#s_tab{padding-top:63px!important}.wrapper_new .sam_s_form+#u{margin:7px 0 0}.wrapper_new #form .sam-bdsug.bdsug-new{width:100%;top:52px;border:1px solid rgba(0,0,0,.05)!important;box-shadow:0 4px 4px 0 rgba(0,0,0,.1);border-radius:12px}.wrapper_new.wrapper_s #form .sam-bdsug.bdsug-new{width:100%}.wrapper_new #form .sam-bdsug.bdsug-new ul{margin:6px 15px 0;padding:0 0 7px;background:0 0;border-top:0}.wrapper_new #form .sam-bdsug.bdsug-new ul li{width:auto;padding-left:15px;margin-left:-15px;margin-right:-15px;height:32px;line-height:32px}.wrapper_new #form .sam-bdsug.bdsug-new .bdsug-store-del{right:15px}.wrapper_new #form .sam-bdsug.bdsug-new .bdsug-s{background-color:#F1F3FD!important}.wrapper_new .sam-bdsug.bdsug-new .bdsug-feedback-wrap{margin-bottom:5px;margin-top:-3px}.wrapper_new .soutu-env-new .sam_search .soutu-layer{width:698px}.wrapper_new .soutu-env-new .soutu-layer .sam_url_wrap.soutu-url-wrap,.wrapper_new .soutu-env-new .soutu-layer #soutu-url-kw.sam_url_kw{width:588px;height:40px}.wrapper_new.wrapper_s .soutu-env-new .sam_search .soutu-layer{width:590px}.wrapper_new.wrapper_s .soutu-env-new .sam_url_wrap.soutu-url-wrap,.wrapper_new.wrapper_s .soutu-env-new #soutu-url-kw.sam_url_kw{width:480px;height:40px}.wrapper_new .soutu-env-new .soutu-layer .soutu-url-btn-new.sam_url_btn_new{width:114px;height:44px;line-height:44px;margin-left:-8px}.wrapper_new .soutu-env-new .soutu-layer .soutu-url-btn-new.sam_url_btn_new .sam_btn_text{display:inline-block;margin-left:6px;margin-top:1px}.head_wrapper .sam_search .sam_search_rec,.head_wrapper .sam_search .sam_search_soutu{z-index:1;display:none;position:absolute;top:50%;margin-top:-12px;font-size:24px;color:#4E6EF2;height:24px;line-height:24px;width:24px;cursor:pointer;-webkit-transform:translate3d(0,0,0);transform:translate3d(0,0,0);transition:transform .3s ease}.head_wrapper .sam_search .sam_search_rec{right:54px}.head_wrapper .sam_search .sam_search_soutu{right:14px}.head_wrapper .sam_search .sam_search_rec:hover,.head_wrapper .sam_search .sam_search_soutu:hover{color:#1D4FFF!important;transform:scale(1.08,1.08)}.head_wrapper .sam_search .sam_search_rec_hover,.head_wrapper .sam_search .sam_search_soutu_hover{background:#626675;border-radius:8px;height:32px;width:76px;text-align:center;line-height:32px;font-size:13px;color:#FFF;position:absolute;z-index:2;top:50px}.head_wrapper .sam_search .sam_search_rec_hover:before,.head_wrapper .sam_search .sam_search_soutu_hover:before{content:&#39;&#39;;border:4px solid transparent;border-bottom:4px solid #626675;position:absolute;left:50%;top:-8px;margin-left:-4px}.head_wrapper .sam_search .sam_search_rec_hover{right:29px}.head_wrapper .sam_search .sam_search_soutu_hover{display:none;right:-12px}.c-frame{margin-bottom:18px}.c-offset{padding-left:10px}.c-gray{color:#666}.c-gap-top-small{margin-top:5px}.c-gap-top{margin-top:10px}.c-gap-bottom-small{margin-bottom:5px}.c-gap-bottom{margin-bottom:10px}.c-gap-left{margin-left:12px}.c-gap-left-small{margin-left:6px}.c-gap-right{margin-right:12px}.c-gap-right-small{margin-right:6px}.c-gap-right-large{margin-right:16px}.c-gap-left-large{margin-left:16px}.c-gap-icon-right-small{margin-right:5px}.c-gap-icon-right{margin-right:10px}.c-gap-icon-left-small{margin-left:5px}.c-gap-icon-left{margin-left:10px}.c-container{width:538px;font-size:13px;line-height:1.54;word-wrap:break-word;word-break:break-word}.c-container .c-container{width:auto}.c-container table{border-collapse:collapse;border-spacing:0}.c-container td{font-size:13px;line-height:1.54}.c-default{font-size:13px;line-height:1.54;word-wrap:break-word;word-break:break-all}.c-container .t,.c-default .t{line-height:1.54}.c-default .t{margin-bottom:0}.cr-content{width:259px;font-size:13px;line-height:1.54;color:#333;word-wrap:break-word;word-break:normal}.cr-content table{border-collapse:collapse;border-spacing:0}.cr-content td{font-size:13px;line-height:1.54;vertical-align:top}.cr-offset{padding-left:17px}.cr-title{font-size:14px;line-height:1.29;font-weight:700}.cr-title-sub{float:right;font-size:13px;font-weight:400}.c-row{*zoom:1}.c-row:after{display:block;height:0;content:&quot;&quot;;clear:both;visibility:hidden}.c-span2{width:29px}.c-span3{width:52px}.c-span4{width:75px}.c-span5{width:98px}.c-span6{width:121px}.c-span7{width:144px}.c-span8{width:167px}.c-span9{width:190px}.c-span10{width:213px}.c-span11{width:236px}.c-span12{width:259px}.c-span13{width:282px}.c-span14{width:305px}.c-span15{width:328px}.c-span16{width:351px}.c-span17{width:374px}.c-span18{width:397px}.c-span19{width:420px}.c-span20{width:443px}.c-span21{width:466px}.c-span22{width:489px}.c-span23{width:512px}.c-span24{width:535px}.c-span2,.c-span3,.c-span4,.c-span5,.c-span6,.c-span7,.c-span8,.c-span9,.c-span10,.c-span11,.c-span12,.c-span13,.c-span14,.c-span15,.c-span16,.c-span17,.c-span18,.c-span19,.c-span20,.c-span21,.c-span22,.c-span23,.c-span24{float:left;_display:inline;margin-right:17px;list-style:none}.c-span-last{margin-right:0}.c-span-last-s{margin-right:0}.container_l .cr-content{width:351px}.container_l .cr-content .c-span-last-s{margin-right:17px}.container_l .cr-content-narrow{width:259px}.container_l .cr-content-narrow .c-span-last-s{margin-right:0}.c-border{width:518px;padding:9px;border:1px solid #e3e3e3;border-bottom-color:#e0e0e0;border-right-color:#ececec;box-shadow:1px 2px 1px rgba(0,0,0,.072);-webkit-box-shadow:1px 2px 1px rgba(0,0,0,.072);-moz-box-shadow:1px 2px 1px rgba(0,0,0,.072);-o-box-shadow:1px 2px 1px rgba(0,0,0,.072)}.c-border .c-gap-left{margin-left:10px}.c-border .c-gap-left-small{margin-left:5px}.c-border .c-gap-right{margin-right:10px}.c-border .c-gap-right-small{margin-right:5px}.c-border .c-border{width:auto;padding:0;border:0;box-shadow:none;-webkit-box-shadow:none;-moz-box-shadow:none;-o-box-shadow:none}.c-border .c-span2{width:34px}.c-border .c-span3{width:56px}.c-border .c-span4{width:78px}.c-border .c-span5{width:100px}.c-border .c-span6{width:122px}.c-border .c-span7{width:144px}.c-border .c-span8{width:166px}.c-border .c-span9{width:188px}.c-border .c-span10{width:210px}.c-border .c-span11{width:232px}.c-border .c-span12{width:254px}.c-border .c-span13{width:276px}.c-border .c-span14{width:298px}.c-border .c-span15{width:320px}.c-border .c-span16{width:342px}.c-border .c-span17{width:364px}.c-border .c-span18{width:386px}.c-border .c-span19{width:408px}.c-border .c-span20{width:430px}.c-border .c-span21{width:452px}.c-border .c-span22{width:474px}.c-border .c-span23{width:496px}.c-border .c-span24{width:518px}.c-border .c-span2,.c-border .c-span3,.c-border .c-span4,.c-border .c-span5,.c-border .c-span6,.c-border .c-span7,.c-border .c-span8,.c-border .c-span9,.c-border .c-span10,.c-border .c-span11,.c-border .c-span12,.c-border .c-span13,.c-border .c-span14,.c-border .c-span15,.c-border .c-span16,.c-border .c-span17,.c-border .c-span18,.c-border .c-span19,.c-border .c-span20,.c-border .c-span21,.c-border .c-span22,.c-border .c-span23,.c-border .c-span24{margin-right:10px}.c-border .c-span-last{margin-right:0}.c-loading{display:block;width:50px;height:50px;background:url(//www.baidu.com/aladdin/img/tools/loading.gif) no-repeat 0 0}.c-vline{display:inline-block;margin:0 3px;border-left:1px solid #ddd;width:0;height:12px;_vertical-align:middle;_overflow:hidden}.c-icon{background:url(http://pss.bdstatic.com/r/www/cache/static/global/img/icons_441e82f.png) no-repeat 0 0;_background-image:url(http://pss.bdstatic.com/r/www/cache/static/global/img/icons_d5b04cc.gif)}.c-icon{display:inline-block;width:14px;height:14px;vertical-align:text-bottom;font-style:normal;overflow:hidden}.c-icon-unfold,.c-icon-fold,.c-icon-chevron-unfold,.c-icon-chevron-fold{width:12px;height:12px}.c-icon-star,.c-icon-star-gray{width:60px}.c-icon-qa-empty,.c-icon-safeguard,.c-icon-register-empty,.c-icon-zan,.c-icon-music,.c-icon-music-gray,.c-icon-location,.c-icon-warning,.c-icon-doc,.c-icon-xls,.c-icon-ppt,.c-icon-pdf,.c-icon-txt,.c-icon-play-black,.c-icon-gift,.c-icon-baidu-share,.c-icon-bear,.c-icon-bear-border,.c-icon-location-blue,.c-icon-hotAirBall,.c-icon-moon,.c-icon-streetMap,.c-icon-mv,.c-icon-zhidao-s,.c-icon-shopping{width:16px;height:16px}.c-icon-bear-circle,.c-icon-warning-circle,.c-icon-warning-triangle,.c-icon-warning-circle-gray{width:18px;height:18px}.c-icon-tieba,.c-icon-zhidao,.c-icon-ball-blue,.c-icon-ball-red{width:38px;height:38px}.c-icon-unfold:hover,.c-icon-fold:hover,.c-icon-chevron-unfold:hover,.c-icon-chevron-fold:hover,.c-icon-download:hover,.c-icon-lyric:hover,.c-icon-v:hover,.c-icon-hui:hover,.c-icon-bao:hover,.c-icon-newbao:hover,.c-icon-person:hover,.c-icon-high-v:hover,.c-icon-phone:hover,.c-icon-nuo:hover,.c-icon-fan:hover,.c-icon-med:hover,.c-icon-air:hover,.c-icon-share2:hover,.c-icon-v1:hover,.c-icon-v2:hover,.c-icon-write:hover,.c-icon-R:hover{border-color:#388bff}.c-icon-unfold:active,.c-icon-fold:active,.c-icon-chevron-unfold:active,.c-icon-chevron-fold:active,.c-icon-download:active,.c-icon-lyric:active,.c-icon-v:active,.c-icon-hui:active,.c-icon-bao:active,.c-icon-newbao:active,.c-icon-person:active,.c-icon-high-v:active,.c-icon-phone:active,.c-icon-nuo:active,.c-icon-fan:active,.c-icon-med:active,.c-icon-air:active,.c-icon-share2:active,.c-icon-v1:active,.c-icon-v2:active,.c-icon-write:active,.c-icon-R:active{border-color:#a2a6ab;background-color:#f0f0f0;box-shadow:inset 1px 1px 1px #c7c7c7;-webkit-box-shadow:inset 1px 1px 1px #c7c7c7;-moz-box-shadow:inset 1px 1px 1px #c7c7c7;-o-box-shadow:inset 1px 1px 1px #c7c7c7}.c-icon-v3:hover{border-color:#ffb300}.c-icon-v3:active{border-color:#a2a6ab;background-color:#f0f0f0;box-shadow:inset 1px 1px 1px #c7c7c7;-webkit-box-shadow:inset 1px 1px 1px #c7c7c7;-moz-box-shadow:inset 1px 1px 1px #c7c7c7;-o-box-shadow:inset 1px 1px 1px #c7c7c7}.c-icon-unfold,.c-icon-fold,.c-icon-chevron-unfold,.c-icon-chevron-fold,.c-icon-download,.c-icon-lyric{border:1px solid #d8d8d8;cursor:pointer}.c-icon-v,.c-icon-hui,.c-icon-bao,.c-icon-newbao,.c-icon-person,.c-icon-high-v,.c-icon-phone,.c-icon-nuo,.c-icon-fan,.c-icon-med,.c-icon-air,.c-icon-share2,.c-icon-v1,.c-icon-v2,.c-icon-v3,.c-icon-write,.c-icon-R{border:1px solid #d8d8d8;cursor:pointer;border-color:transparent;_border-color:tomato;_filter:chroma(color=#ff6347)}.c-icon-v1,.c-icon-v2,.c-icon-v3,.c-icon-v1-noborder,.c-icon-v2-noborder,.c-icon-v3-noborder,.c-icon-v1-noborder-disable,.c-icon-v2-noborder-disable,.c-icon-v3-noborder-disable{width:19px}.c-icon-download,.c-icon-lyric{width:16px;height:16px}.c-icon-play-circle,.c-icon-stop-circle{width:18px;height:18px}.c-icon-play-circle-middle,.c-icon-stop-circle-middle{width:24px;height:24px}.c-icon-play-black-large,.c-icon-stop-black-large{width:36px;height:36px}.c-icon-play-black-larger,.c-icon-stop-black-larger{width:52px;height:52px}.c-icon-flag{background-position:0 -144px}.c-icon-bus{background-position:-24px -144px}.c-icon-calendar{background-position:-48px -144px}.c-icon-street{background-position:-72px -144px}.c-icon-map{background-position:-96px -144px}.c-icon-bag{background-position:-120px -144px}.c-icon-money{background-position:-144px -144px}.c-icon-game{background-position:-168px -144px}.c-icon-user{background-position:-192px -144px}.c-icon-globe{background-position:-216px -144px}.c-icon-lock{background-position:-240px -144px}.c-icon-plane{background-position:-264px -144px}.c-icon-list{background-position:-288px -144px}.c-icon-star-gray{background-position:-312px -144px}.c-icon-circle-gray{background-position:-384px -144px}.c-icon-triangle-down{background-position:-408px -144px}.c-icon-triangle-up{background-position:-432px -144px}.c-icon-triangle-up-empty{background-position:-456px -144px}.c-icon-sort-gray{background-position:-480px -144px}.c-icon-sort-up{background-position:-504px -144px}.c-icon-sort-down{background-position:-528px -144px}.c-icon-down-gray{background-position:-552px -144px}.c-icon-up-gray{background-position:-576px -144px}.c-icon-download-noborder{background-position:-600px -144px}.c-icon-lyric-noborder{background-position:-624px -144px}.c-icon-download-white{background-position:-648px -144px}.c-icon-close{background-position:-672px -144px}.c-icon-fail{background-position:-696px -144px}.c-icon-success{background-position:-720px -144px}.c-icon-triangle-down-g{background-position:-744px -144px}.c-icon-refresh{background-position:-768px -144px}.c-icon-chevron-left-gray{background-position:-816px -144px}.c-icon-chevron-right-gray{background-position:-840px -144px}.c-icon-setting{background-position:-864px -144px}.c-icon-close2{background-position:-888px -144px}.c-icon-chevron-top-gray-s{background-position:-912px -144px}.c-icon-fullscreen{background-position:0 -168px}.c-icon-safe{background-position:-24px -168px}.c-icon-exchange{background-position:-48px -168px}.c-icon-chevron-bottom{background-position:-72px -168px}.c-icon-chevron-top{background-position:-96px -168px}.c-icon-unfold{background-position:-120px -168px}.c-icon-fold{background-position:-144px -168px}.c-icon-chevron-unfold{background-position:-168px -168px}.c-icon-qa{background-position:-192px -168px}.c-icon-register{background-position:-216px -168px}.c-icon-star{background-position:-240px -168px}.c-icon-star-gray{position:relative}.c-icon-star-gray .c-icon-star{position:absolute;top:0;left:0}.c-icon-play-blue{background-position:-312px -168px}.c-icon-pic{width:16px;background-position:-336px -168px}.c-icon-chevron-fold{background-position:-360px -168px}.c-icon-video{width:18px;background-position:-384px -168px}.c-icon-circle-blue{background-position:-408px -168px}.c-icon-circle-yellow{background-position:-432px -168px}.c-icon-play-white{background-position:-456px -168px}.c-icon-triangle-down-blue{background-position:-480px -168px}.c-icon-chevron-unfold2{background-position:-504px -168px}.c-icon-right{background-position:-528px -168px}.c-icon-right-empty{background-position:-552px -168px}.c-icon-new-corner{width:15px;background-position:-576px -168px}.c-icon-horn{background-position:-600px -168px}.c-icon-right-large{width:18px;background-position:-624px -168px}.c-icon-wrong-large{background-position:-648px -168px}.c-icon-circle-blue-s{background-position:-672px -168px}.c-icon-play-gray{background-position:-696px -168px}.c-icon-up{background-position:-720px -168px}.c-icon-down{background-position:-744px -168px}.c-icon-stable{background-position:-768px -168px}.c-icon-calendar-blue{background-position:-792px -168px}.c-icon-triangle-down-blue2{background-position:-816px -168px}.c-icon-triangle-up-blue2{background-position:-840px -168px}.c-icon-down-blue{background-position:-864px -168px}.c-icon-up-blue{background-position:-888px -168px}.c-icon-ting{background-position:-912px -168px}.c-icon-piao{background-position:-936px -168px}.c-icon-wrong-empty{background-position:-960px -168px}.c-icon-warning-circle-s{background-position:-984px -168px}.c-icon-chevron-left{background-position:-1008px -168px}.c-icon-chevron-right{background-position:-1032px -168px}.c-icon-circle-gray-s{background-position:-1056px -168px}.c-icon-v,.c-icon-v-noborder{background-position:0 -192px}.c-icon-hui{background-position:-24px -192px}.c-icon-bao{background-position:-48px -192px}.c-icon-newbao{background-position:-97px -218px}.c-icon-phone{background-position:-72px -192px}.c-icon-qa-empty{background-position:-96px -192px}.c-icon-safeguard{background-position:-120px -192px}.c-icon-register-empty{background-position:-144px -192px}.c-icon-zan{background-position:-168px -192px}.c-icon-music{background-position:-192px -192px}.c-icon-music-gray{background-position:-216px -192px}.c-icon-location{background-position:-240px -192px}.c-icon-warning{background-position:-264px -192px}.c-icon-doc{background-position:-288px -192px}.c-icon-xls{background-position:-312px -192px}.c-icon-ppt{background-position:-336px -192px}.c-icon-pdf{background-position:-360px -192px}.c-icon-txt{background-position:-384px -192px}.c-icon-play-black{background-position:-408px -192px}.c-icon-play-black:hover{background-position:-432px -192px}.c-icon-gift{background-position:-456px -192px}.c-icon-baidu-share{background-position:-480px -192px}.c-icon-bear{background-position:-504px -192px}.c-icon-R{background-position:-528px -192px}.c-icon-bear-border{background-position:-576px -192px}.c-icon-person,.c-icon-person-noborder{background-position:-600px -192px}.c-icon-location-blue{background-position:-624px -192px}.c-icon-hotAirBall{background-position:-648px -192px}.c-icon-moon{background-position:-672px -192px}.c-icon-streetMap{background-position:-696px -192px}.c-icon-high-v,.c-icon-high-v-noborder{background-position:-720px -192px}.c-icon-nuo{background-position:-744px -192px}.c-icon-mv{background-position:-768px -192px}.c-icon-fan{background-position:-792px -192px}.c-icon-med{background-position:-816px -192px}.c-icon-air{background-position:-840px -192px}.c-icon-share2{background-position:-864px -192px}.c-icon-v1,.c-icon-v1-noborder{background-position:-888px -192px}.c-icon-v2,.c-icon-v2-noborder{background-position:-912px -192px}.c-icon-v3,.c-icon-v3-noborder{background-position:-936px -192px}.c-icon-v1-noborder-disable{background-position:-960px -192px}.c-icon-v2-noborder-disable{background-position:-984px -192px}.c-icon-v3-noborder-disable{background-position:-1008px -192px}.c-icon-write{background-position:-1032px -192px}.c-icon-zhidao-s{background-position:-1056px -192px}.c-icon-shopping{background-position:-1080px -192px}.c-icon-bear-circle{background-position:0 -216px}.c-icon-warning-circle{background-position:-24px -216px}.c-icon-warning-triangle{width:24px;background-position:-48px -216px}.c-icon-warning-circle-gray{background-position:-72px -216px}.c-icon-ball-red{background-position:0 -240px}.c-icon-ball-blue{background-position:-48px -240px}.c-icon-tieba{background-position:0 -288px}.c-icon-zhidao{background-position:-48px -288px}.c-icon-download{background-position:0 -336px}.c-icon-lyric{background-position:-24px -336px}.c-icon-play-circle{background-position:-48px -336px}.c-icon-play-circle:hover{background-position:-72px -336px}.c-icon-stop-circle{background-position:-96px -336px}.c-icon-stop-circle:hover{background-position:-120px -336px}.c-icon-play-circle-middle{background-position:0 -360px}.c-icon-play-circle-middle:hover{background-position:-48px -360px}.c-icon-stop-circle-middle{background-position:-96px -360px}.c-icon-stop-circle-middle:hover{background-position:-144px -360px}.c-icon-play-black-large{background-position:0 -408px}.c-icon-play-black-large:hover{background-position:-48px -408px}.c-icon-stop-black-large{background-position:-96px -408px}.c-icon-stop-black-large:hover{background-position:-144px -408px}.c-icon-play-black-larger{background-position:0 -456px}.c-icon-play-black-larger:hover{background-position:-72px -456px}.c-icon-stop-black-larger{background-position:-144px -456px}.c-icon-stop-black-larger:hover{background-position:-216px -456px}.c-recommend{font-size:0;padding:5px 0;border:1px solid #f3f3f3;border-left:0;border-right:0}.c-recommend .c-icon{margin-bottom:-4px}.c-recommend .c-gray,.c-recommend a{font-size:13px}.c-recommend-notopline{padding-top:0;border-top:0}.c-recommend-vline{display:inline-block;margin:0 10px -2px;border-left:1px solid #d8d8d8;width:0;height:12px;_vertical-align:middle;_overflow:hidden}.c-text{display:inline-block;padding:2px;text-align:center;vertical-align:text-bottom;font-size:12px;line-height:100%;font-style:normal;font-weight:400;color:#fff;overflow:hidden}a.c-text,a.c-text:hover,a.c-text:active,a.c-text:visited{color:#fff;text-decoration:none}.c-text-new{background-color:#f13f40}.c-text-info{padding-left:0;padding-right:0;font-weight:700;color:#2b99ff;*vertical-align:baseline;_position:relative;_top:2px}a.c-text-info,a.c-text-info:hover,a.c-text-info:active,a.c-text-info:visited{color:#2b99ff}.c-text-info b{_position:relative;_top:-1px}.c-text-info span{padding:0 2px;font-weight:400}.c-text-important{background-color:#1cb7fd}.c-text-public{background-color:#2b99ff}.c-text-warning{background-color:#ff830f}.c-text-prompt{background-color:#f5c537}.c-text-danger{background-color:#f13f40}.c-text-safe{background-color:#52c277}.c-text-empty{padding-top:1px;padding-bottom:1px;border:1px solid #d8d8d8;cursor:pointer;color:#23b9fd;background-color:#fff}a.c-text-empty,a.c-text-empty:visited{color:#23b9fd}.c-text-empty:hover{border-color:#388bff;color:#23b9fd}.c-text-empty:active{color:#23b9fd;border-color:#a2a6ab;background-color:#f0f0f0;box-shadow:inset 1px 1px 1px #c7c7c7;-webkit-box-shadow:inset 1px 1px 1px #c7c7c7;-moz-box-shadow:inset 1px 1px 1px #c7c7c7;-o-box-shadow:inset 1px 1px 1px #c7c7c7}.c-text-mult{padding-left:5px;padding-right:5px}.c-text-gray{background-color:#666}.c-btn,.c-btn:visited{color:#333!important}.c-btn{display:inline-block;padding:0 14px;margin:0;height:24px;line-height:25px;font-size:13px;filter:chroma(color=#000000);*zoom:1;border:1px solid #d8d8d8;cursor:pointer;font-family:inherit;font-weight:400;text-align:center;vertical-align:middle;background-color:#f9f9f9;overflow:hidden;outline:0}.c-btn:hover{border-color:#388bff}.c-btn:active{border-color:#a2a6ab;background-color:#f0f0f0;box-shadow:inset 1px 1px 1px #c7c7c7;-webkit-box-shadow:inset 1px 1px 1px #c7c7c7;-moz-box-shadow:inset 1px 1px 1px #c7c7c7;-o-box-shadow:inset 1px 1px 1px #c7c7c7}a.c-btn{text-decoration:none}button.c-btn{height:26px;_line-height:18px;*overflow:visible}button.c-btn::-moz-focus-inner{padding:0;border:0}.c-btn .c-icon{margin-top:5px}.c-btn-disable{color:#999!important}.c-btn-disable:visited{color:#999!important}.c-btn-disable:hover{border:1px solid #d8d8d8;cursor:default}.c-btn-disable:active{border-color:#d8d8d8;background-color:#f9f9f9;box-shadow:none;-webkit-box-shadow:none;-moz-box-shadow:none;-o-box-shadow:none}.c-btn-mini{padding-left:5px;padding-right:5px;height:18px;line-height:18px;font-size:12px}button.c-btn-mini{height:20px;_height:18px;_line-height:14px}.c-btn-mini .c-icon{margin-top:2px}.c-btn-large{height:28px;line-height:28px;font-size:14px;font-family:&quot;微软雅黑&quot;,&quot;黑体&quot;}button.c-btn-large{height:30px;_line-height:24px}.c-btn-large .c-icon{margin-top:7px;_margin-top:6px}.c-btn-primary,.c-btn-primary:visited{color:#fff!important}.c-btn-primary{background-color:#388bff;border-color:#3c8dff #408ffe #3680e6}.c-btn-primary:hover{border-color:#2678ec #2575e7 #1c6fe2 #2677e7;background-color:#388bff;background-image:url(data:image/png;base64,iVBORw0KGgoAAAANSUhEUgAAAAEAAAACCAMAAACuX0YVAAAABlBMVEVnpv85i/9PO5r4AAAAD0lEQVR42gEEAPv/AAAAAQAFAAIros7PAAAAAElFTkSuQmCC);*background-image:none;background-repeat:repeat-x;box-shadow:1px 1px 1px rgba(0,0,0,.4);-webkit-box-shadow:1px 1px 1px rgba(0,0,0,.4);-moz-box-shadow:1px 1px 1px rgba(0,0,0,.4);-o-box-shadow:1px 1px 1px rgba(0,0,0,.4)}.c-btn-primary:active{border-color:#178ee3 #1784d0 #177bbf #1780ca;background-color:#388bff;background-image:none;box-shadow:inset 1px 1px 1px rgba(0,0,0,.15);-webkit-box-shadow:inset 1px 1px 1px rgba(0,0,0,.15);-moz-box-shadow:inset 1px 1px 1px rgba(0,0,0,.15);-o-box-shadow:inset 1px 1px 1px rgba(0,0,0,.15)}.c-btn .c-icon{float:left}.c-dropdown2{position:relative;display:inline-block;width:100%;height:26px;line-height:26px;font-size:13px;vertical-align:middle;outline:0;_font-family:SimSun;background-color:#fff;word-wrap:normal;word-break:normal}.c-dropdown2 .c-dropdown2-btn-group{position:relative;height:24px;border:1px solid #999;border-bottom-color:#d8d8d8;border-right-color:#d8d8d8;-moz-user-select:none;-webkit-user-select:none;user-select:none}.c-dropdown2:hover .c-dropdown2-btn-group,.c-dropdown2-hover .c-dropdown2-btn-group{box-shadow:inset 1px 1px 0 0 #d8d8d8;-webkit-box-shadow:inset 1px 1px 0 0 #d8d8d8;-moz-box-shadow:inset 1px 1px 0 0 #d8d8d8;-o-box-shadow:inset 1px 1px 0 0 #d8d8d8}.c-dropdown2:hover .c-dropdown2-btn-icon,.c-dropdown2-hover .c-dropdown2-btn-icon{box-shadow:inset 0 1px 0 0 #d8d8d8;-webkit-box-shadow:inset 0 1px 0 0 #d8d8d8;-moz-box-shadow:inset 0 1px 0 0 #d8d8d8;-o-box-shadow:inset 0 1px 0 0 #d8d8d8}.c-dropdown2:hover .c-dropdown2-btn-icon-border,.c-dropdown2-hover .c-dropdown2-btn-icon-border{background-color:#f2f2f2}.c-dropdown2 .c-dropdown2-btn{height:24px;padding-left:10px;padding-right:10px;cursor:default;overflow:hidden;white-space:nowrap}.c-dropdown2 .c-dropdown2-btn-icon{position:absolute;top:0;right:0;width:23px;height:24px;line-height:24px;background-color:#fff;padding:0 1px 0 10px}.c-dropdown2 .c-dropdown2-btn-icon-border{height:24px;width:23px;border-left:1px solid #d9d9d9;text-align:center;zoom:1}.c-dropdown2 .c-icon-triangle-down{*margin-top:5px;_margin-left:2px}.c-dropdown2 .c-dropdown2-menu{position:absolute;left:0;top:100%;_margin-top:0;width:100%;overflow:hidden;border:1px solid #bbb;background:#fff;visibility:hidden}.c-dropdown2 .c-dropdown2-menu-inner{overflow:hidden}.c-dropdown2 .c-dropdown2-option{background-color:#fff;cursor:pointer}.c-dropdown2 .c-dropdown2-selected{background-color:#f5f5f5}.c-dropdown2-common ul,.c-dropdown2-common li{margin:0;padding:0;list-style:none}.c-dropdown2-common .c-dropdown2-option{height:26px;line-height:26px;font-size:12px;color:#333;white-space:nowrap;cursor:pointer;padding-left:10px}.c-dropdown2-common .c-dropdown2-selected{background-color:#f5f5f5}.c-dropdown2-common .c-dropdown2-menu-group .c-dropdown2-group{padding-left:10px;font-weight:700;cursor:default}.c-dropdown2-common .c-dropdown2-menu-group .c-dropdown2-option{padding-left:20px}.c-img{display:block;min-height:1px;border:0 0}.c-img3{width:52px}.c-img4{width:75px}.c-img6{width:121px}.c-img7{width:144px}.c-img12{width:259px}.c-img15{width:328px}.c-img18{width:397px}.c-border .c-img3{width:56px}.c-border .c-img4{width:78px}.c-border .c-img7{width:144px}.c-border .c-img12{width:254px}.c-border .c-img15{width:320px}.c-border .c-img18{width:386px}.c-index{display:inline-block;padding:1px 0;color:#fff;width:14px;line-height:100%;font-size:12px;text-align:center;background-color:#8eb9f5}.c-index-hot,.c-index-hot1{background-color:#f54545}.c-index-hot2{background-color:#ff8547}.c-index-hot3{background-color:#ffac38}.c-input{display:inline-block;padding:0 4px;height:24px;line-height:24px\\9;font-size:13px;border:1px solid #999;border-bottom-color:#d8d8d8;border-right-color:#d8d8d8;outline:0;box-sizing:content-box;-webkit-box-sizing:content-box;-moz-box-sizing:content-box;vertical-align:top;overflow:hidden}.c-input:hover{box-shadow:inset 1px 1px 1px 0 #d8d8d8;-webkit-box-shadow:inset 1px 1px 1px 0 #d8d8d8;-moz-box-shadow:inset 1px 1px 1px 0 #d8d8d8;-o-box-shadow:inset 1px 1px 1px 0 #d8d8d8}.c-input .c-icon{float:right;margin-top:6px}.c-input .c-icon-left{float:left;margin-right:4px}.c-input input{float:left;height:22px;*padding-top:4px;margin-top:2px;font-size:13px;border:0;outline:0}.c-input{width:180px}.c-input input{width:162px}.c-input-xmini{width:65px}.c-input-xmini input{width:47px}.c-input-mini{width:88px}.c-input-mini input{width:70px}.c-input-small{width:157px}.c-input-small input{width:139px}.c-input-large{width:203px}.c-input-large input{width:185px}.c-input-xlarge{width:341px}.c-input-xlarge input{width:323px}.c-input12{width:249px}.c-input12 input{width:231px}.c-input20{width:433px}.c-input20 input{width:415px}.c-border .c-input{width:178px}.c-border .c-input input{width:160px}.c-border .c-input-xmini{width:68px}.c-border .c-input-xmini input{width:50px}.c-border .c-input-mini{width:90px}.c-border .c-input-mini input{width:72px}.c-border .c-input-small{width:156px}.c-border .c-input-small input{width:138px}.c-border .c-input-large{width:200px}.c-border .c-input-large input{width:182px}.c-border .c-input-xlarge{width:332px}.c-border .c-input-xlarge input{width:314px}.c-border .c-input12{width:244px}.c-border .c-input12 input{width:226px}.c-border .c-input20{width:420px}.c-border .c-input20 input{width:402px}.c-numberset{*zoom:1}.c-numberset:after{display:block;height:0;content:&quot;&quot;;clear:both;visibility:hidden}.c-numberset li{float:left;margin-right:17px;list-style:none}.c-numberset .c-numberset-last{margin-right:0}.c-numberset a{display:block;width:50px;text-decoration:none;text-align:center;border:1px solid #d8d8d8;cursor:pointer}.c-numberset a:hover{border-color:#388bff}.c-border .c-numberset li{margin-right:10px}.c-border .c-numberset .c-numberset-last{margin-right:0}.c-border .c-numberset a{width:54px}.c-table{width:100%;border-collapse:collapse;border-spacing:0}.c-table th,.c-table td{padding-left:10px;line-height:1.54;font-size:13px;border-bottom:1px solid #f3f3f3;text-align:left}.cr-content .c-table th:first-child,.cr-content .c-table td:first-child{padding-left:0}.c-table th{padding-top:4px;padding-bottom:4px;font-weight:400;color:#666;border-color:#f0f0f0;white-space:nowrap;background-color:#fafafa}.c-table td{padding-top:6.5px;padding-bottom:6.5px}.c-table-hasimg td{padding-top:10px;padding-bottom:10px}.c-table a,.c-table em{text-decoration:none}.c-table a:hover,.c-table a:hover em{text-decoration:underline}.c-table a.c-icon:hover{text-decoration:none}.c-table .c-btn:hover,.c-table .c-btn:hover em{text-decoration:none}.c-table-nohihead th{background-color:transparent}.c-table-noborder td{border-bottom:0}.c-tabs-nav-movetop{margin:-10px -9px 0 -10px;position:relative}.c-tabs-nav{border-bottom:1px solid #d9d9d9;background-color:#fafafa;line-height:1.54;font-size:0;*zoom:1;_overflow-x:hidden;_position:relative}.c-tabs-nav:after{display:block;height:0;content:&quot;&quot;;clear:both;visibility:hidden}.c-tabs-nav .c-tabs-nav-btn{float:right;_position:absolute;_top:0;_right:0;_z-index:1;background:#fafafa}.c-tabs-nav .c-tabs-nav-btn .c-tabs-nav-btn-prev,.c-tabs-nav .c-tabs-nav-btn .c-tabs-nav-btn-next{float:left;padding:6px 2px;cursor:pointer}.c-tabs-nav .c-tabs-nav-btn .c-tabs-nav-btn-disable{cursor:default}.c-tabs-nav .c-tabs-nav-view{_position:relative;overflow:hidden;*zoom:1;margin-bottom:-1px}.c-tabs-nav .c-tabs-nav-view .c-tabs-nav-li{margin-bottom:0}.c-tabs-nav .c-tabs-nav-more{float:left;white-space:nowrap}.c-tabs-nav li,.c-tabs-nav a{color:#666;font-size:13px;*zoom:1}.c-tabs-nav li{display:inline-block;margin-bottom:-1px;*display:inline;padding:3px 15px;vertical-align:bottom;border-style:solid;border-width:2px 1px 0;border-color:transparent;_border-color:tomato;_filter:chroma(color=#ff6347);list-style:none;cursor:pointer;white-space:nowrap;overflow:hidden}.c-tabs-nav a{text-decoration:none}.c-tabs-nav .c-tabs-nav-sep{height:16px;width:0;padding:0;margin-bottom:4px;border-style:solid;border-width:0 1px;border-color:transparent #fff transparent #dedede}.c-tabs-nav .c-tabs-nav-selected{_position:relative;border-color:#2c99ff #e4e4e4 #fff #dedede;background-color:#fff;color:#000;cursor:default}.c-tabs-nav-one .c-tabs-nav-selected{border-color:transparent;_border-color:tomato;_filter:chroma(color=#ff6347);background-color:transparent;color:#666}.c-tabs .c-tabs .c-tabs-nav{padding:10px 0 5px;border:0 0;background-color:#fff}.c-tabs .c-tabs .c-tabs-nav li,.c-tabs .c-tabs .c-tabs-nav a{color:#00c}.c-tabs .c-tabs .c-tabs-nav li{padding:0 5px;position:static;margin:0 10px;border:0 0;cursor:pointer;white-space:nowrap}.c-tabs .c-tabs .c-tabs-nav .c-tabs-nav-sep{height:11px;width:0;padding:0;margin:0 0 4px;border:0 0;border-left:1px solid #d8d8d8}.c-tabs .c-tabs .c-tabs-nav .c-tabs-nav-selected{background-color:#2c99ff;color:#fff;cursor:default}.c-tag{padding-top:3px;margin-bottom:3px;height:1.7em;font-size:13px;line-height:1.4em;transition:height .3s ease-in;-webkit-transition:height .3s ease-in;-moz-transition:height .3s ease-in;-ms-transition:height .3s ease-in;-o-transition:height .3s ease-in;*zoom:1;overflow:hidden}.c-tag:after{display:block;height:0;content:&quot;&quot;;clear:both;visibility:hidden}.c-tag-cont{overflow:hidden;*zoom:1}.c-tag-type,.c-tag-li,.c-tag-more,.c-tag-cont span{margin:2px 0}.c-tag-type,.c-tag-li,.c-tag-cont span{float:left}.c-tag-type,.c-tag-more{color:#666}.c-tag-li,.c-tag-cont span{padding:0 4px;display:inline-block;margin-right:12px;white-space:nowrap;cursor:pointer;color:#00c}.c-tag .c-tag-selected{background:#388bff;color:#fff}.c-tag-more{float:right;background:#fff;cursor:pointer;*height:18px}.c-tool{display:inline-block;width:56px;height:56px;background:url(//www.baidu.com/aladdin/img/tools/tools-5.png) no-repeat}.c-tool-region{background-position:0 0}.c-tool-calendar{background-position:-72px 0}.c-tool-city{background-position:-144px 0}.c-tool-phone-pos{background-position:-216px 0}.c-tool-other{background-position:-288px 0}.c-tool-midnight{background-position:-360px 0}.c-tool-kefu{width:121px;background-position:-432px 0}.c-tool-phone{background-position:-576px 0}.c-tool-car{background-position:-648px 0}.c-tool-station{background-position:0 -72px}.c-tool-cheat{background-position:-72px -72px}.c-tool-counter{background-position:-144px -72px}.c-tool-time{background-position:-216px -72px}.c-tool-zip{background-position:-288px -72px}.c-tool-warning{background-position:-360px -72px}.c-tool-ip{background-position:0 -144px}.c-tool-unit{background-position:-72px -144px}.c-tool-rate{background-position:-144px -144px}.c-tool-conversion{background-position:-288px -144px}.c-tool-ads{background-position:-360px -144px}.c-icon-baozhang-new{width:14px;height:14px;background-image:url(http://pss.bdstatic.com/r/www/cache/static/global/img/pc-bao_96f4fc0.png);background-size:140px 14px;background-repeat:no-repeat;cursor:pointer;border-color:transparent;margin-left:11px;margin-right:3px}.c-icon-baozhang-new.animate{-webkit-animation-name:keyframesBao;animation-name:keyframesBao;-webkit-animation-duration:1s;animation-duration:1s;-webkit-animation-delay:0s;animation-delay:0s;-webkit-animation-iteration-count:1;animation-iteration-count:1;-webkit-animation-fill-mode:forwards;animation-fill-mode:forwards;-webkit-animation-timing-function:steps(1);animation-timing-function:steps(1)}@-webkit-keyframes keyframesBao{0%{background-position:0 0}10%{background-position:-14px 0}20%{background-position:-28px 0}30%{background-position:-42px 0}40%{background-position:-56px 0}50%{background-position:-70px 0}60%{background-position:-84px 0}70%{background-position:-98px 0}80%{background-position:-112px 0}90%,100%{background-position:-126px 0}}@keyframes keyframesBao{0%{background-position:0 0}10%{background-position:-14px 0}20%{background-position:-28px 0}30%{background-position:-42px 0}40%{background-position:-56px 0}50%{background-position:-70px 0}60%{background-position:-84px 0}70%{background-position:-98px 0}80%{background-position:-112px 0}90%,100%{background-position:-126px 0}}.opui-honourCard4-new-bao-title{font-size:12px;line-height:16px;color:#333;margin:3px 10px 0}.c-tip-con .opui-honourCard4-new-bao-style{width:100%;margin-top:4px}.c-tip-con .opui-honourCard4-new-bao-style a,.c-tip-con .opui-honourCard4-new-bao-style a:visited{color:#666}.new-pmd{}.new-pmd .c-gap-top-small{margin-top:6px}.new-pmd .c-gap-top{margin-top:8px}.new-pmd .c-gap-top-large{margin-top:12px}.new-pmd .c-gap-top-mini{margin-top:2px}.new-pmd .c-gap-top-xsmall{margin-top:4px}.new-pmd .c-gap-top-middle{margin-top:10px}.new-pmd .c-gap-bottom-small{margin-bottom:6px}.new-pmd .c-gap-bottom{margin-bottom:8px}.new-pmd .c-gap-bottom-large{margin-bottom:12px}.new-pmd .c-gap-bottom-mini{margin-bottom:2px}.new-pmd .c-gap-bottom-xsmall{margin-bottom:4px}.new-pmd .c-gap-bottom-middle{margin-bottom:10px}.new-pmd .c-gap-left{margin-left:12px}.new-pmd .c-gap-left-small{margin-left:8px}.new-pmd .c-gap-left-xsmall{margin-left:4px}.new-pmd .c-gap-left-mini{margin-left:2px}.new-pmd .c-gap-left-large{margin-left:16px}.new-pmd .c-gap-left-middle{margin-left:10px}.new-pmd .c-gap-right{margin-right:12px}.new-pmd .c-gap-right-small{margin-right:8px}.new-pmd .c-gap-right-xsmall{margin-right:4px}.new-pmd .c-gap-right-mini{margin-right:2px}.new-pmd .c-gap-right-large{margin-right:16px}.new-pmd .c-gap-right-middle{margin-right:10px}.new-pmd .c-gap-icon-right-small{margin-right:5px}.new-pmd .c-gap-icon-right{margin-right:10px}.new-pmd .c-gap-icon-left-small{margin-left:5px}.new-pmd .c-gap-icon-left{margin-left:10px}.new-pmd .c-row{*zoom:1}.new-pmd .c-row:after{display:block;height:0;content:&quot;&quot;;clear:both;visibility:hidden}.new-pmd .c-span1{width:32px}.new-pmd .c-span2{width:80px}.new-pmd .c-span3{width:128px}.new-pmd .c-span4{width:176px}.new-pmd .c-span5{width:224px}.new-pmd .c-span6{width:272px}.new-pmd .c-span7{width:320px}.new-pmd .c-span8{width:368px}.new-pmd .c-span9{width:416px}.new-pmd .c-span10{width:464px}.new-pmd .c-span11{width:512px}.new-pmd .c-span12{width:560px}.new-pmd .c-span2,.new-pmd .c-span3,.new-pmd .c-span4,.new-pmd .c-span5,.new-pmd .c-span6,.new-pmd .c-span7,.new-pmd .c-span8,.new-pmd .c-span9,.new-pmd .c-span10,.new-pmd .c-span11,.new-pmd .c-span12{float:left;_display:inline;margin-right:16px;list-style:none}.new-pmd .c-span-last{margin-right:0}.new-pmd .c-span-last-s{margin-right:0}.new-pmd .c-icon{font-family:cIconfont!important;font-style:normal;-webkit-font-smoothing:antialiased;-moz-osx-font-smoothing:grayscale}.new-pmd .c-index{display:inline-block;width:14px;padding:1px 0;line-height:100%;text-align:center;color:#fff;background-color:#8eb9f5;font-size:12px}.new-pmd .c-index-hot,.new-pmd .c-index-hot1{background-color:#f54545}.new-pmd .c-index-hot2{background-color:#ff8547}.new-pmd .c-index-hot3{background-color:#ffac38}.new-pmd .c-index-single{display:inline-block;background:0 0;color:#9195A3;width:18px;font-size:15px;letter-spacing:-1px}.new-pmd .c-index-single-hot,.new-pmd .c-index-single-hot1{color:#FE2D46}.new-pmd .c-index-single-hot2{color:#F60}.new-pmd .c-index-single-hot3{color:#FAA90E}.new-pmd .c-text{display:inline-block;padding:0 2px;text-align:center;vertical-align:middle;font-style:normal;color:#fff;overflow:hidden;line-height:16px;height:16px;font-size:12px;border-radius:4px;font-weight:200}.new-pmd a.c-text{text-decoration:none!important}.new-pmd .c-text-info{padding-left:0;padding-right:0;font-weight:700;color:#2b99ff;vertical-align:text-bottom}.new-pmd .c-text-info span{padding:0 2px;font-weight:400}.new-pmd .c-text-important{background-color:#1cb7fd}.new-pmd .c-text-public{background-color:#4E6EF2}.new-pmd .c-text-warning{background-color:#f60}.new-pmd .c-text-prompt{background-color:#ffc20d}.new-pmd .c-text-danger{background-color:#f73131}.new-pmd .c-text-safe{background-color:#39b362}.new-pmd .c-text-mult{padding:0 4px;line-height:18px;height:18px;border-radius:4px;font-weight:400}.new-pmd .c-text-blue{background-color:#4E6EF2}.new-pmd .c-text-blue-border{border:1px solid #CBD2FF;padding:0 8px;border-radius:4px;font-weight:400;color:#4E6EF2!important}.new-pmd .c-text-green{background-color:#39b362}.new-pmd .c-text-green-border{border:1px solid #C9E7CD;padding:0 8px;border-radius:4px;font-weight:400;color:#39b362!important}.new-pmd .c-text-red{background-color:#f73131}.new-pmd .c-text-red-border{border:1px solid #F0C8BD;padding:0 8px;border-radius:4px;font-weight:400;color:#f73131!important}.new-pmd .c-text-yellow{background-color:#ffc20d}.new-pmd .c-text-yellow-border{border:1px solid #FCEDB1;padding:0 8px;border-radius:4px;font-weight:400;color:#ffc20d!important}.new-pmd .c-text-orange{background-color:#f60}.new-pmd .c-text-orange-border{border:1px solid #F8D2B0;padding:0 8px;border-radius:4px;font-weight:400;color:#f60!important}.new-pmd .c-text-pink{background-color:#fc3274}.new-pmd .c-text-pink-border{border:1px solid #F6C4D7;padding:0 8px;border-radius:4px;font-weight:400;color:#fc3274!important}.new-pmd .c-text-gray{background-color:#626675}.new-pmd .c-text-gray-border{border:1px solid #DBDBDB;padding:0 8px;border-radius:4px;font-weight:400;color:#626675!important}.new-pmd .c-text-dark-red{background-color:#CC2929}.new-pmd .c-text-gray-opacity{background-color:rgba(0,0,0,.3)}.new-pmd .c-text-white-border{border:1px solid rgba(255,255,255,.8);padding:0 8px;border-radius:4px;font-weight:400;color:#fff!important}.new-pmd .c-text-hot{background-color:#F60}.new-pmd .c-text-new{background-color:#FF455B}.new-pmd .c-text-fei{background-color:#FC3200}.new-pmd .c-text-bao{background-color:#DE1544}.new-pmd .c-text-rec{background-color:#4DADFE}.new-pmd .c-text-business{background-color:#8399F5}.new-pmd .c-text-time{background-color:rgba(0,0,0,.3)}.new-pmd .c-btn,.new-pmd .c-btn:visited{color:#333!important}.new-pmd .c-btn{display:inline-block;overflow:hidden;font-family:inherit;font-weight:400;text-align:center;vertical-align:middle;outline:0;border:0;height:30px;width:80px;line-height:30px;font-size:13px;border-radius:6px;padding:0;background-color:#F5F5F6;*zoom:1;cursor:pointer}.new-pmd a.c-btn{text-decoration:none}.new-pmd button.c-btn{*overflow:visible;border:0;outline:0}.new-pmd button.c-btn::-moz-focus-inner{padding:0;border:0}.new-pmd .c-btn-disable{color:#C4C7CE!important}.new-pmd .c-btn-disable:visited{color:#C4C7CE!important}.new-pmd .c-btn-disable:hover{cursor:default;color:#C4C7CE!important;background-color:#F5F5F6}.new-pmd .c-btn-mini{height:24px;width:48px;line-height:24px}.new-pmd .c-btn-mini .c-icon{margin-top:2px}.new-pmd .c-btn-large{height:30px;line-height:30px;font-size:14px}.new-pmd button.c-btn-large{height:30px}.new-pmd .c-btn-large .c-icon{margin-top:7px}.new-pmd .c-btn-primary,.new-pmd .c-btn-primary:visited{color:#fff!important}.new-pmd .c-btn-primary{background-color:#4E6EF2}.new-pmd .c-btn-primary:hover{background-color:#315EFB;border:0!important;box-shadow:none!important;background-image:none!important}.new-pmd .c-btn-primary:active{border:0!important;box-shadow:none!important;background-image:none!important}.new-pmd .c-btn-default:hover{background-color:#315EFB;color:#FFF!important}.new-pmd .c-btn-weak{height:24px;line-height:24px;border-radius:4px;font-size:12px}.new-pmd .c-btn-add{width:32px;height:32px;line-height:32px;text-align:center;color:#9195A3!important}.new-pmd .c-btn-add:hover{background-color:#4E6EF2;color:#fff!important}.new-pmd .c-btn-add .c-icon{float:none}.new-pmd .c-btn-add-disable:hover{cursor:default;color:#C4C7CE!important;background-color:#F5F5F6}.new-pmd .c-tag{color:#333;display:inline-block;padding:0 8px;height:30px;line-height:30px;font-size:13px;border-radius:6px;background-color:#f5f5f6;cursor:pointer}.new-pmd .c-img{position:relative;display:block;min-height:0;border:0;line-height:0;background:#f5f5f6;overflow:hidden}.new-pmd .c-img img{width:100%}.new-pmd .c-img1{width:32px}.new-pmd .c-img2{width:80px}.new-pmd .c-img3{width:128px}.new-pmd .c-img4{width:176px}.new-pmd .c-img6{width:272px}.new-pmd .c-img12{width:560px}.new-pmd .c-img-s,.new-pmd .c-img-l,.new-pmd .c-img-w,.new-pmd .c-img-x,.new-pmd .c-img-y,.new-pmd .c-img-v,.new-pmd .c-img-z{height:0;overflow:hidden}.new-pmd .c-img-s{padding-bottom:100%}.new-pmd .c-img-l{padding-bottom:133.33333333%}.new-pmd .c-img-w{padding-bottom:56.25%}.new-pmd .c-img-x{padding-bottom:75%}.new-pmd .c-img-y{padding-bottom:66.66666667%}.new-pmd .c-img-v{padding-bottom:116.66666667%}.new-pmd .c-img-z{padding-bottom:62.5%}.new-pmd .c-img-radius{border-radius:6px}.new-pmd .c-img-radius-s{border-radius:2px}.new-pmd .c-img-radius-small{border-radius:2px}.new-pmd .c-img-radius-large{border-radius:12px}.new-pmd .c-img-radius-middle{border-radius:4px}.new-pmd .c-img-radius-left{border-top-left-radius:6px;border-bottom-left-radius:6px}.new-pmd .c-img-radius-right{border-top-right-radius:6px;border-bottom-right-radius:6px}.new-pmd .c-img-radius-left-s{border-top-left-radius:2px;border-bottom-left-radius:2px}.new-pmd .c-img-radius-right-s{border-top-right-radius:2px;border-bottom-right-radius:2px}.new-pmd .c-img-radius-left-l{border-top-left-radius:12px;border-bottom-left-radius:12px}.new-pmd .c-img-radius-right-l{border-top-right-radius:12px;border-bottom-right-radius:12px}.new-pmd .c-img-mask{position:absolute;top:0;left:0;z-index:2;width:100%;height:100%;background-image:radial-gradient(circle,rgba(0,0,0,0),rgba(0,0,0,.04));background-image:-ms-radial-gradient(circle,rgba(0,0,0,0),rgba(0,0,0,.04))}.new-pmd .c-img-border{content:&#39;&#39;;position:absolute;top:0;left:0;bottom:0;right:0;border:1px solid rgba(0,0,0,.05)}.new-pmd .c-img-circle{border-radius:100%;overflow:hidden}.new-pmd .c-input{display:inline-block;font:13px/21px Arial,sans-serif;color:#333;border:1px solid #D7D9E0;padding:0 8px;height:28px;line-height:28px\\9;border-radius:6px;font-size:13px;outline:0;box-sizing:content-box;-webkit-box-sizing:content-box;-moz-box-sizing:content-box;vertical-align:top;overflow:hidden}.new-pmd .c-input:hover{box-shadow:none;-webkit-box-shadow:none;-moz-box-shadow:none;-o-box-shadow:none}.new-pmd .c-input .c-icon{float:right;margin-top:5px;font-size:16px;color:#9195A3}.new-pmd .c-input .c-icon-left{float:left;margin-right:4px}.new-pmd .c-input input{float:left;height:26px;padding:0;margin-top:1px;font-size:13px;border:0;outline:0}.new-pmd .c-input input::-webkit-input-placeholder{color:#9195A3}.new-pmd .c-input input::-ms-input-placeholder{color:#9195A3}.new-pmd .c-input input::-moz-placeholder{color:#9195A3}.new-pmd .c-input::-webkit-input-placeholder{color:#9195A3}.new-pmd .c-input::-ms-input-placeholder{color:#9195A3}.new-pmd .c-input::-moz-placeholder{color:#9195A3}.new-pmd .c-input{width:398px}.new-pmd .c-input input{width:378px}.new-pmd .c-input-xmini{width:158px}.new-pmd .c-input-xmini input{width:138px}.new-pmd .c-input-mini{width:206px}.new-pmd .c-input-mini input{width:186px}.new-pmd .c-input-small{width:350px}.new-pmd .c-input-small input{width:330px}.new-pmd .c-input-large{width:446px}.new-pmd .c-input-large input{width:426px}.new-pmd .c-input-xlarge{width:734px}.new-pmd .c-input-xlarge input{width:714px}.new-pmd .c-input12{width:542px}.new-pmd .c-input12 input{width:522px}.new-pmd .c-input20{width:926px}.new-pmd .c-input20 input{width:906px}.new-pmd .c-radio,.new-pmd .c-checkbox{display:inline-block;position:relative;white-space:nowrap;outline:0;line-height:1;vertical-align:middle;cursor:pointer;width:16px;height:16px}.new-pmd .c-radio-inner,.new-pmd .c-checkbox-inner{display:inline-block;position:relative;width:16px;height:16px;line-height:16px;text-align:center;top:0;left:0;background-color:#fff;color:#D7D9E0}.new-pmd .c-radio-input,.new-pmd .c-checkbox-input{position:absolute;top:0;bottom:0;left:0;right:0;z-index:1;opacity:0;filter:alpha(opacity=0) \\9;user-select:none;margin:0;padding:0;width:100%;height:100%;cursor:pointer;zoom:1}.new-pmd .c-radio-inner-i,.new-pmd .c-checkbox-inner-i{display:none;font-size:16px}.new-pmd .c-radio-inner-bg,.new-pmd .c-checkbox-inner-bg{font-size:16px;position:absolute;top:0;left:0;z-index:1}.new-pmd .c-radio-checked .c-radio-inner-i,.new-pmd .c-checkbox-checked .c-checkbox-inner-i{color:#4E71F2;display:inline-block}.new-pmd .c-textarea{font:13px/21px Arial,sans-serif;color:#333;border:1px solid #D7D9E0;padding:8px 12px;border-radius:12px;resize:none;outline:0}.new-pmd .c-textarea::-webkit-input-placeholder{color:#9195A3}.new-pmd .c-textarea::-ms-input-placeholder{color:#9195A3}.new-pmd .c-textarea::-moz-placeholder{color:#9195A3}.new-pmd .c-table{width:100%;border-spacing:0;border-collapse:collapse}.new-pmd .c-table th,.new-pmd .c-table td{padding-left:10px;border-bottom:1px solid #f3f3f3;text-align:left;font-size:13px;line-height:1.54}.new-pmd .cr-content .c-table th:first-child,.new-pmd .cr-content .c-table td:first-child{padding-left:0}.new-pmd .c-table th{padding-top:4px;padding-bottom:4px;border-color:#f0f0f0;font-weight:400;white-space:nowrap;color:#666;background-color:#fafafa}.new-pmd .c-table td{padding-top:6.5px;padding-bottom:6.5px}.new-pmd .c-table-hasimg td{padding-top:10px;padding-bottom:10px}.new-pmd .c-table a,.new-pmd .c-table em{text-decoration:none}.new-pmd .c-table a:hover,.new-pmd .c-table a:hover em{text-decoration:underline}.new-pmd .c-table a.c-icon:hover{text-decoration:none}.new-pmd .c-table .c-btn:hover,.new-pmd .c-table .c-btn:hover em{text-decoration:none}.new-pmd .c-table-nohihead th{background-color:transparent}.new-pmd .c-table-noborder td{border-bottom:0}.new-pmd .c-tabs{font-size:14px;border-radius:12px;color:#222}.new-pmd .c-tabs-nav{color:#626675;background:#f5f5f6;border-radius:12px 12px 0 0;list-style:none;height:52px;margin:0;padding:0 12px}.new-pmd .c-tabs-nav-li{position:relative;display:inline-block;list-style:none;line-height:40px;height:40px;margin-right:32px;cursor:pointer}.new-pmd .c-tabs-nav-li:last-child{margin-right:0}.new-pmd .c-tabs-nav-selected{color:#222}.new-pmd .c-tabs-nav-selected::after{content:&#39;&#39;;position:absolute;bottom:0;height:2px;border-radius:1px;width:100%;left:0;z-index:1;background:#222}.new-pmd .c-tabs-content{padding:14px 16px;background:#fff;border-radius:12px;margin-top:-12px;box-shadow:0 2px 3px 0 rgba(0,0,0,.1);-webkit-box-shadow:0 2px 3px 0 rgba(0,0,0,.1);-moz-box-shadow:0 2px 3px 0 rgba(0,0,0,.1);-o-box-shadow:0 2px 3px 0 rgba(0,0,0,.1)}.new-pmd .c-tabs-nav-icon{display:inline-block;width:18px;height:18px;line-height:18px;border-radius:4px;margin-right:8px;background-size:contain;margin-top:11px;vertical-align:top}.new-pmd .c-tabs-nav-icon img{width:18px;height:18px}.new-pmd .c-tabs.c-sub-tabs .c-tabs-nav{height:29px;line-height:29px;border-bottom:1px solid #f2f2f2;background:#fff}.new-pmd .c-tabs.c-sub-tabs .c-tabs-content{box-shadow:none;-webkit-box-shadow:none;-moz-box-shadow:none;-o-box-shadow:none;margin-top:0;border-radius:0}.new-pmd .c-tabs.c-sub-tabs .c-tabs-nav-li{height:29px;line-height:29px}.new-pmd .c-tabs.c-sub-tabs .c-tabs-nav-icon{position:relative;margin-top:5px}.new-pmd .c-tabs.c-sub-tabs .c-tabs-nav-icon::after{content:&#39;&#39;;position:absolute;top:0;left:0;bottom:0;right:0;border:1px solid rgba(0,0,0,.03);border-radius:4px}.new-pmd .c-line-clamp1{overflow:hidden;text-overflow:ellipsis;white-space:nowrap}.new-pmd .c-line-clamp2{display:-webkit-box;overflow:hidden;-webkit-line-clamp:2;-webkit-box-orient:vertical}.new-pmd .c-font-sigma{font:36px/60px Arial,sans-serif}.new-pmd .c-font-large{font:18px/22px Arial,sans-serif}.new-pmd .c-font-big{font:18px/22px Arial,sans-serif}.new-pmd .c-font-special{font:16px/26px Arial,sans-serif}.new-pmd .c-font-medium{font:14px/22px Arial,sans-serif}.new-pmd .c-font-middle{font:14px/22px Arial,sans-serif}.new-pmd .c-font-normal{font:13px/21px Arial,sans-serif}.new-pmd .c-font-small{font:12px/20px Arial,sans-serif}.new-pmd .c-font-family{font-family:Arial,sans-serif}.new-pmd .c-color-t{color:#222}.new-pmd .c-color-text{color:#333}.new-pmd .c-color-gray{color:#626675}.new-pmd .c-color-gray2{color:#9195A3}.new-pmd .c-color-visited{color:#771CAA}.new-pmd .c-color-orange{color:#f60}.new-pmd .c-color-green{color:#00B198}.new-pmd .c-color-ad{color:#77A9F9}.new-pmd .c-color-red{color:#F73131}.new-pmd .c-color-red:visited{color:#F73131}.new-pmd .c-color-warn{color:#FF7900}.new-pmd .c-color-warn:visited{color:#FF7900}.new-pmd .c-color-link{color:#2440B3}.new-pmd .c-select{position:relative;display:inline-block;width:96px;box-sizing:border-box;-webkit-box-sizing:border-box;-moz-box-sizing:border-box;vertical-align:middle;color:#222;font:13px/21px Arial,sans-serif}.new-pmd .c-select-selection{display:block;height:30px;line-height:29px;box-sizing:border-box;-webkit-box-sizing:border-box;-moz-box-sizing:border-box;padding:0 26px 0 10px;background-color:#fff;border-radius:6px;border:1px solid #D7D9E0;outline:0;user-select:none;cursor:pointer;position:relative;overflow:hidden;text-overflow:ellipsis;white-space:nowrap}.new-pmd .c-select-arrow,.new-pmd .c-select-arrow-up{position:absolute;top:-1px;right:10px;color:#9195A3;font-size:16px}.new-pmd .c-select-dropdown{display:none;position:absolute;padding-top:4px;top:25px;z-index:999;left:0;width:94px;box-sizing:content-box;-webkit-box-sizing:content-box;-moz-box-sizing:content-box;background:#fff;border-radius:0 0 6px 6px;border:1px solid #D7D9E0;border-top:0;zoom:1}.new-pmd .c-select-split{border-top:1px solid #f5f5f5;margin:0 5px}.new-pmd .c-select-dropdown-list{padding:0;margin:5px 0 0;list-style:none}.new-pmd .c-select-dropdown-list.c-select-scroll{max-height:207px;overflow-y:auto;overflow-x:hidden;margin-right:5px;margin-bottom:9px}.new-pmd .c-select-dropdown-list.c-select-scroll::-webkit-scrollbar{width:2px}.new-pmd .c-select-dropdown-list.c-select-scroll::-webkit-scrollbar-track{width:2px;background:#f5f5f6;border-radius:1px}.new-pmd .c-select-dropdown-list.c-select-scroll::-webkit-scrollbar-thumb{width:2px;height:58px;background-color:#4e71f2;border-radius:1px}.new-pmd .c-select-dropdown-list.c-select-scroll .c-select-item:last-child{margin:0}.new-pmd .c-select-item{margin:0 0 4px;padding:0 10px;clear:both;white-space:nowrap;list-style:none;cursor:pointer;box-sizing:border-box;-webkit-box-sizing:border-box;-moz-box-sizing:border-box}.new-pmd .c-select-item:hover{color:#315EFB}.new-pmd .c-select-item-selected{color:#315EFB}.new-pmd .c-select-arrow-up{display:none}.new-pmd .c-select-visible .c-select-selection{border-radius:6px 6px 0 0}.new-pmd .c-select-visible .c-select-dropdown{display:block}.new-pmd .c-select-visible .c-select-arrow{display:none}.new-pmd .c-select-visible .c-select-arrow-up{display:inline-block}.new-pmd .c-frame{margin-bottom:18px}.new-pmd .c-offset{padding-left:10px}.new-pmd .c-link{color:#2440B3;text-decoration:none;cursor:pointer}.new-pmd .c-link:hover{text-decoration:underline;color:#315EFB}.new-pmd .c-link:visited{color:#771CAA}.new-pmd .c-gray{color:#626675}.new-pmd.c-container{width:560px;word-wrap:break-word;word-break:break-all;color:#333;font-size:13px;line-height:21px}.new-pmd.c-container .c-container{width:auto;font-size:13px;line-height:21px}.new-pmd .c-title{font:18px/22px Arial,sans-serif;font-weight:400;margin-bottom:4px}.new-pmd .c-abstract{font:13px/21px Arial,sans-serif;color:#222}.new-pmd .cr-title{font:14px/22px Arial,sans-serif;color:#222;font-weight:400}.new-pmd .cr-title-sub{float:right;font-weight:400;font-size:13px}.new-pmd .c-vline{display:inline-block;width:0;height:12px;margin:0 3px;border-left:1px solid #ddd}.new-pmd .c-border{border-radius:12px;border:0;margin:0 -16px;padding:12px 16px;width:auto;box-shadow:0 2px 5px 0 rgba(0,0,0,.1);-webkit-box-shadow:0 2px 5px 0 rgba(0,0,0,.1);-moz-box-shadow:0 2px 5px 0 rgba(0,0,0,.1);-o-box-shadow:0 2px 5px 0 rgba(0,0,0,.1)}.new-pmd .c-capsule-tip{display:inline-block;background:#F73131;border-radius:7px;padding:0 4px;height:13px;font-size:11px;line-height:14px;color:#fff;text-align:center}.c-group-wrapper{box-shadow:0 2px 10px 0 rgba(0,0,0,.1);border-radius:12px;margin-left:-16px;margin-right:-16px}.c-group-wrapper .result-op{padding:0 16px 16px;width:560px!important;border:0}.c-group-wrapper .result-op[id=&quot;1&quot;]{padding-top:16px}.c-group-wrapper .result-op:not(:last-child){margin-bottom:0!important}.c-group-wrapper .result-op:last-child{padding-bottom:16px}.c-group-title{font-size:14px;line-height:24px;font-weight:400;margin-bottom:4px}.c-group-title a{text-decoration:none;color:#222;line-height:24px}.c-group-title a:hover{color:#315EFB;text-decoration:none}.c-group-title a:hover&gt;i,.c-group-title a:hover+i,.c-group-title a:hover .c-group-arrow-icon{color:#315EFB!important}.c-group-title .c-group-arrow-icon{font-size:13px;line-height:13px;color:#c4c7ce;margin-left:-4px}#container.sam_newgrid{font:13px/21px Arial,sans-serif}#container.sam_newgrid td,#container.sam_newgrid th{font:13px/21px Arial,sans-serif}#container.sam_newgrid #content_left{width:560px}.container_l.sam_newgrid{width:1088px}.container_l.sam_newgrid #content_right{width:368px}.container_l.sam_newgrid .cr-content{width:368px}.container_l.sam_newgrid .cr-content .c-span-last-s{margin-right:16px}.container_l.sam_newgrid .cr-content-narrow .c-span-last-s{margin-right:0}.container_s.sam_newgrid{width:944px}.container_s.sam_newgrid .cr-content{width:272px}.container_s.sam_newgrid #content_right{width:272px}.c-onlyshow-toppic{width:100%;margin-top:-97px;padding-top:97px}.darkmode .new-pmd.c-container{color:#A8ACAD}.darkmode .new-pmd .c-abstract{color:#A8ACAD}.darkmode .new-pmd .c-link{color:#FFD862}.darkmode .new-pmd .c-link:hover{color:#FFF762}.darkmode .new-pmd .c-link:visited{color:#E7BDFF}.darkmode .new-pmd .c-btn{background-color:#31313B}.darkmode .new-pmd .c-btn,.darkmode .new-pmd .c-btn:visited{color:#A8ACAD!important}.darkmode .new-pmd .c-btn-disable{color:#6F7273!important}.darkmode .new-pmd .c-btn-disable:visited{color:#6F7273!important}.darkmode .new-pmd .c-btn-disable:hover{color:#6F7273!important;background-color:#31313B}.darkmode .new-pmd .c-btn-primary{color:#fff!important;background:#4E6EF2!important}.darkmode .new-pmd .c-btn-primary:visited{color:#fff!important;background:#4E6EF2!important}.darkmode .new-pmd .c-btn-add-disable:hover{color:#6F7273!important;background-color:#31313B}.darkmode .new-pmd .c-color-link{color:#FFD862}.darkmode .new-pmd .c-color-visited{color:#E7BDFF}.darkmode .new-pmd .c-color-t{color:#A8ACAD}.darkmode .new-pmd .c-color-text{color:#A8ACAD}.darkmode .new-pmd .c-color-red{color:#F14D2D}.darkmode .new-pmd .c-color-red:visited{color:#F14D2D}.darkmode .new-pmd .c-gray{color:#A8ACAD}.darkmode .new-pmd .c-color-gray{color:#A8ACAD!important}.darkmode .new-pmd .c-color-gray2{color:#A8ACAD!important}.darkmode .new-pmd .c-text-danger{background-color:#F14D2D}.darkmode .new-pmd .c-text-red{background-color:#F14D2D}.darkmode .new-pmd .c-text-red-border{color:#F14D2D!important}.darkmode .new-pmd .c-text-public{background-color:#6783F4}.darkmode .new-pmd .c-text-blue{background-color:#6783F4}.darkmode .new-pmd .c-text-blue-border{color:#6783F4!important}.darkmode .new-pmd .c-text-gray{background-color:#A5ABAC}.darkmode .new-pmd .c-text-gray-border{color:#A5ABAC!important}.darkmode .new-pmd .c-text-dark-red{background-color:#F74A4A}.darkmode .new-pmd .c-text-bao{background-color:#FF2D8B}.darkmode .new-pmd .c-capsule-tip{background:#F14D2D}.darkmode .new-pmd .c-select{color:#A8ACAD}.darkmode .new-pmd .c-select-arrow-up{color:#A8ACAD}.darkmode .new-pmd .c-select-item:hover{color:#FFF762}.darkmode .new-pmd .c-select-item-selected{color:#FFF762}.darkmode .new-pmd .c-tabs-nav{color:#A8ACAD}.c-pc-toppic-card{min-width:1116px}.soutu-input{padding-left:55px!important}.soutu-input-image{position:absolute;left:1px;top:1px;height:28px;width:49px;z-index:1;padding:0;background:#e6e6e6;border:1px solid #e6e6e6}.soutu-input-thumb{height:28px;width:28px;min-width:1px}.soutu-input-close{position:absolute;right:0;top:0;cursor:pointer;display:block;width:22px;height:28px}.soutu-input-close::after{content:&quot; &quot;;position:absolute;right:3px;top:50%;cursor:pointer;margin-top:-7px;display:block;width:14px;height:14px;background:url(http://pss.bdstatic.com/r/www/cache/static/soutu/img/soutu_icons_new_8abaf8a.png) no-repeat -163px 0}.soutu-input-image:hover .soutu-input-close::after{background-position:-215px 2px}.fb-hint{margin-top:5px;transition-duration:.9s;opacity:0;display:none;color:red}.fb-img{display:none}.fb-hint-tip{height:44px;line-height:24px;background-color:#38f;color:#fff;box-sizing:border-box;width:269px;font-size:16px;padding:10px;padding-left:14px;position:absolute;top:-65px;right:-15px;border-radius:3px;z-index:299}.fb-hint-tip::before{content:&quot;&quot;;width:0;height:0;display:block;position:absolute;border-left:8px solid transparent;border-right:8px solid transparent;border-top:8px solid #38f;bottom:-8px;right:25px}.fb-mask,.fb-mask-light{position:fixed;top:0;left:0;bottom:0;right:0;z-index:296;background-color:#000;filter:alpha(opacity=60);background-color:rgba(0,0,0,.6)}.fb-mask-light{background-color:#fff;filter:alpha(opacity=0);background-color:rgba(255,255,255,0)}.fb-success .fb-success-text{text-align:center;color:#333;font-size:13px;margin-bottom:14px}.fb-success-text.fb-success-text-title{color:#3b6;font-size:16px;margin-bottom:16px}.fb-success-text-title i{width:16px;height:16px;margin-right:5px}.fb-list-container{box-sizing:border-box;padding:4px 8px;position:absolute;top:0;left:0;bottom:0;right:0;z-index:298;display:block;width:100%;cursor:pointer;margin-top:-5px;margin-left:-5px}.fb-list-container-hover{background-color:#fff;border:2px #38f solid}.fb-list-container-first{box-sizing:border-box;padding-left:10px;padding-top:5px;position:absolute;top:0;left:0;bottom:0;right:0;z-index:297;display:block;width:100%;cursor:pointer;margin-top:-5px;margin-left:-5px;border:3px #f5f5f5 dashed;border-radius:3px}.fb-des-content{font-size:13px!important;color:#000}.fb-des-content::-webkit-input-placeholder{font-size:13px!important;color:#9a9a9a}.fb-des-content:-moz-placeholder{font-size:13px!important;color:#9a9a9a}.fb-des-content::-moz-placeholder{font-size:13px!important;color:#9a9a9a}.fb-des-content:-ms-input-placeholder{font-size:13px!important;color:#9a9a9a}.fb-btn,.fb-btn:visited{color:#333!important}.fb-select{position:relative;background-color:#fff;border:1px solid #ccc}.fb-select i{position:absolute;right:2px;top:7px}.fb-type{width:350px;box-sizing:border-box;height:28px;font-size:13px;line-height:28px;border:0;word-break:normal;word-wrap:normal;position:relative;appearance:none;-moz-appearance:none;-webkit-appearance:none;display:inline-block;vertical-align:middle;line-height:normal;color:#333;background-color:transparent;border-radius:0;overflow:hidden;outline:0;padding-left:5px}.fb-type::-ms-expand{display:none}.fb-btn{display:inline-block;padding:0 14px;margin:0;height:24px;line-height:25px;font-size:13px;filter:chroma(color=#000000);*zoom:1;border:1px solid #d8d8d8;cursor:pointer;font-family:inherit;font-weight:400;text-align:center;vertical-align:middle;background-color:#f9f9f9;overflow:hidden;outline:0}.fb-btn:hover{border-color:#388bff}.fb-btn:active{border-color:#a2a6ab;background-color:#f0f0f0;box-shadow:inset 1px 1px 1px #c7c7c7;-webkit-box-shadow:inset 1px 1px 1px #c7c7c7;-moz-box-shadow:inset 1px 1px 1px #c7c7c7;-o-box-shadow:inset 1px 1px 1px #c7c7c7}a.fb-btn{text-decoration:none}button.fb-btn{height:26px;_line-height:18px;*overflow:visible}button.fb-btn::-moz-focus-inner{padding:0;border:0}.fb-btn .c-icon{margin-top:5px}.fb-btn-primary,.fb-btn-primary:visited{color:#fff!important}.fb-btn-primary{background-color:#388bff;_width:82px;border-color:#3c8dff #408ffe #3680e6}.fb-btn-primary:hover{border-color:#2678ec #2575e7 #1c6fe2 #2677e7;background-color:#388bff;background-image:url(data:image/png;\t\tbase64,iVBORw0KGgoAAAANSUhEUgAAAAEAAAACCAMAAACuX0YVAAAABlBMVEVnpv85i/9PO5r4AAAAD0lEQVR42gEEAPv/AAAAAQAFAAIros7PAAAAAElFTkSuQmCC);background-repeat:repeat-x;box-shadow:1px 1px 1px rgba(0,0,0,.4);-webkit-box-shadow:1px 1px 1px rgba(0,0,0,.4);-moz-box-shadow:1px 1px 1px rgba(0,0,0,.4);-o-box-shadow:1px 1px 1px rgba(0,0,0,.4)}.fb-btn-primary:active{border-color:#178ee3 #1784d0 #177bbf #1780ca;background-color:#388bff;background-image:none;box-shadow:inset 1px 1px 1px rgba(0,0,0,.15);-webkit-box-shadow:inset 1px 1px 1px rgba(0,0,0,.15);-moz-box-shadow:inset 1px 1px 1px rgba(0,0,0,.15);-o-box-shadow:inset 1px 1px 1px rgba(0,0,0,.15)}.fb-feedback-right-dialog{position:fixed;z-index:299;bottom:0;right:0}.fb-feedback-list-dialog,.fb-feedback-list-dialog-left{position:absolute;z-index:299}.fb-feedback-list-dialog:before{content:&quot;&quot;;width:0;height:0;display:block;position:absolute;top:15px;left:-6px;border-top:8px solid transparent;border-bottom:8px solid transparent;border-right:8px solid #fff}.fb-feedback-list-dialog-left:before{content:&quot;&quot;;width:0;height:0;display:block;position:absolute;top:15px;right:-6px;border-top:8px solid transparent;border-bottom:8px solid transparent;border-left:8px solid #fff}.fb-header{padding-left:20px;padding-right:20px;margin-top:14px;text-align:left;-moz-user-select:none}.fb-header .fb-close{color:#e0e0e0}.fb-close{text-decoration:none;margin-top:2px;float:right;font-size:20px;font-weight:700;line-height:18px;color:#666;text-shadow:0 1px 0 #fff}.fb-photo-block{display:none}.fb-photo-block-title{font-size:13px;color:#333;padding-top:10px}.fb-photo-block-title-span{color:#999}.fb-photo-sub-block{margin-top:10px;margin-bottom:10px;width:60px;text-align:center}.fb-photo-sub-block-hide{display:none}.fb-photo-update-block{overflow:hidden}.fb-photo-update-item-block{width:100px;height:100px;background:red;border:solid 1px #ccc;margin-top:10px;float:left;margin-right:20px;position:relative;background:url(http://pss.bdstatic.com/r/www/cache/static/global/img/feedback_add_photo_69ff822.png);background-repeat:no-repeat;background-size:contain;background-position:center center;background-size:24px 24px}.fb-photo-block-title-ex{font-size:13px;float:right}.fb-photo-block-title-ex img{vertical-align:text-top;margin-right:4px}.fb-photo-block-title-span{margin-left:4px;color:#999}.fb-photo-update-item-show-img{width:100%;height:100%;display:none}.fb-photo-update-item-close{width:13px;height:13px;position:absolute;top:-6px;right:-6px;display:none}.fb-photo-block input{display:none}.fb-photo-update-hide{display:none}.fb-photo-update-item-block{width:60px;height:60px;border:solid 1px #ccc;float:left}.fb-photo-block-example{position:absolute;top:0;left:0;display:none;background-color:#fff;padding:14px;padding-top:0;width:392px}.fb-photo-block-example-header{padding-top:14px;overflow:hidden}.fb-photo-block-example-header p{float:left}.fb-photo-block-example-header img{float:right;width:13px;height:13px}.fb-photo-block-example-img img{margin:0 auto;margin-top:14px;display:block;width:200px}.fb-photo-block-example-title{text-align:center}.fb-photo-block-example-title-big{font-size:14px;color:#333}.fb-photo-block-example-title-small{font-size:13px;color:#666}.fb-header a.fb-close:hover{text-decoration:none}.fb-photo-block-upinfo{width:100%}.fb-header-tips{font-size:16px;margin:0;color:#333;text-rendering:optimizelegibility}.fb-body{margin-bottom:0;padding:20px;padding-top:10px;overflow:hidden;text-align:left}.fb-modal,.fb-success,.fb-vertify{background-color:#fff;cursor:default;top:100%;left:100%;width:390px;overflow:hidden;border:1px solid #999;*border:1px solid #ddd;font-size:13px;line-height:1.54}.fb-textarea textarea{width:350px;height:64px;padding:4px;margin:10px 0;vertical-align:top;resize:none;overflow:auto;box-sizing:border-box;display:inline-block;border:1px solid #ccc;-webkit-border-radius:0;-moz-border-radius:0;border-radius:0;-webkit-box-shadow:inset 0 1px 1px rgba(0,0,0,.075);-moz-box-shadow:inset 0 1px 1px rgba(0,0,0,.075);box-shadow:inset 0 1px 1px rgba(0,0,0,.075);-webkit-transition:border linear .2s,box-shadow linear .2s;-moz-transition:border linear .2s,box-shadow linear .2s;-ms-transition:border linear .2s,box-shadow linear .2s;-o-transition:border linear .2s,box-shadow linear .2s;transition:border linear .2s,box-shadow linear .2s}.fb-selected{display:none;width:12px;height:12px;background:url(data:image/png;base64,iVBORw0KGgoAAAANSUhEUgAAAAcAAAAFCAYAAACJmvbYAAAABGdBTUEAALGPC/xhBQAAACBjSFJNAAB6JgAAgIQAAPoAAACA6AAAdTAAAOpgAAA6mAAAF3CculE8AAAABmJLR0QAAAAAAAD5Q7t/AAAACXBIWXMAABYlAAAWJQFJUiTwAAAAJklEQVQI12NgwAEsuv/8xy9h3vX7P6oEKp/BHCqA0yhzdB0MDAwAFXkTK5la4mAAAAAASUVORK5CYII=) no-repeat 2px 3px}.fb-guide{padding-top:10px;color:#9a9a9a;margin-left:-20px;padding-left:20px;border-right-width:0;margin-right:-20px;padding-right:25px;margin-bottom:-20px;padding-bottom:15px}.fb-footer{padding-top:10px;text-align:left}.fb-block{overflow:hidden;position:relative}.fb-block .fb-email{height:28px;line-height:26px;width:350px;border:1px solid #ccc;padding:4px;padding-top:0;box-sizing:border-box;padding-bottom:0;display:inline-block;font-family:&#39;Helvetica Neue&#39;,Helvetica,Arial,sans-serif;vertical-align:middle!important;-webkit-border-radius:0;-moz-border-radius:0;border-radius:0;-webkit-box-shadow:inset 0 1px 1px rgba(0,0,0,.075);-moz-box-shadow:inset 0 1px 1px rgba(0,0,0,.075);box-shadow:inset 0 1px 1px rgba(0,0,0,.075);-webkit-transition:border linear .2s,box-shadow linear .2s;-moz-transition:border linear .2s,box-shadow linear .2s;-ms-transition:border linear .2s,box-shadow linear .2s;-o-transition:border linear .2s,box-shadow linear .2s;transition:border linear .2s,box-shadow linear .2s}.fb-email{font-size:13px!important;color:#000}.fb-email::-webkit-input-placeholder{font-size:13px!important;color:#9a9a9a}.fb-email:-moz-placeholder{font-size:13px!important;color:#9a9a9a}.fb-email::-moz-placeholder{font-size:13px!important;color:#9a9a9a}.fb-email:-ms-input-placeholder{font-size:13px!important;color:#9a9a9a}.fb-cut-block{height:15px;padding-bottom:10px}.fb-canvas-block{height:172px;border:1px solid #ccc;margin-bottom:10px;position:relative;overflow:hidden;width:100%;background-position:center;box-sizing:border-box}.fb-canvas-block img{width:350px;position:absolute}.fb-canvas-block img[src=&quot;&quot;]{opacity:0}.fb-cut-input{width:14px;height:14px;margin:0;margin-right:10px;display:inline-block;border:1px solid #ccc}.fb-cut-btn{width:60px!important}#fb_tips_span{vertical-align:middle}#fb_popwindow{display:block;left:457px;top:69.5px;position:absolute;width:450px;z-index:999999;background:none repeat scroll 0 0 #fff;border:1px solid #999;border-radius:3px;box-shadow:0 0 9px #999;padding:0}#feedback_dialog_content{text-align:center}#fb_right_post_save:hover{background-image:url(data:image/png;\t\tbase64,iVBORw0KGgoAAAANSUhEUgAAAAEAAAACCAMAAACuX0YVAAAABlBMVEVnpv85i/9PO5r4AAAAD0lEQVR42gEEAPv/AAAAAQAFAAIros7PAAAAAElFTkSuQmCC);background-repeat:repeat-x;box-shadow:1px 1px 1px rgba(0,0,0,.4);-webkit-box-shadow:1px 1px 1px rgba(0,0,0,.4);-moz-box-shadow:1px 1px 1px rgba(0,0,0,.4);-o-box-shadow:1px 1px 1px rgba(0,0,0,.4)}.fb-select-icon{position:absolute;bottom:6px;right:5px;width:16px;height:16px;box-sizing:content-box;background-position:center center;background-repeat:no-repeat;background-size:7px 4px;-webkit-background-size:7px 4px;background-image:url(data:image/png;base64,iVBORw0KGgoAAAANSUhEUgAAAAcAAAAECAYAAABCxiV9AAAABGdBTUEAALGPC/xhBQAAACBjSFJNAAB6JgAAgIQAAPoAAACA6AAAdTAAAOpgAAA6mAAAF3CculE8AAAABmJLR0QAAAAAAAD5Q7t/AAAACXBIWXMAAAsSAAALEgHS3X78AAAAKElEQVQI12Ps7Or6z4ADMDIwMDBgU1BeVsbICOMgKygvK2PEMAbdBAAhxA08t5Q3VgAAAABJRU5ErkJggg==)}.fb-select-shorter{position:relative;min-height:28px}.fb-type-container{line-height:28px;position:absolute;top:28px;width:100%;background-color:#fff;border:1px solid #ccc;z-index:300;margin-left:-1px;display:none}.fb-type-item,.fb-type-selected{height:28px;line-height:30px;padding-left:4px}.fb-type-item:hover{background:#f5F5F5}.fb-checkbox{position:relative;border-bottom:1px solid #eee;height:34px;line-height:35px}.fb-checkbox:last-child{border-bottom:0}.fb-list-wrapper{margin-top:-10px}.fb-textarea-sug textarea{margin-top:0}@media screen and (min-width:1921px){.slowmsg{left:50%!important;-webkit-transform:translateX(-50%);-ms-transform:translateX(-50%);transform:translateX(-50%)}.wrapper_l #head{-webkit-transform-style:preserve-3d;transform-style:preserve-3d}.head_wrapper{width:1196px;margin:0 auto;position:relative;-webkit-transform:translate3d(-52px,0,1px);transform:translate3d(-52px,0,1px)}.head_wrapper #u{right:-66px}#head .headBlock{-webkit-box-sizing:border-box;box-sizing:border-box;margin-left:auto;margin-right:auto;width:1196px;padding-left:121px;-webkit-transform:translate3d(-52px,0,0);transform:translate3d(-52px,0,0)}#s_tab.s_tab{padding-left:0}#s_tab.s_tab .s_tab_inner{display:block;-webkit-box-sizing:border-box;box-sizing:border-box;padding-left:77px;width:1212px;margin:0 auto}#con-at .result-op{margin-left:auto;margin-right:auto;position:relative;left:-60px}#wrapper_wrapper{margin-left:-72px}#container{-webkit-box-sizing:border-box;box-sizing:border-box;width:1212px;margin:0 auto}#container.sam_newgrid{margin:0 auto;width:1088px;padding-left:158px;-webkit-box-sizing:content-box;box-sizing:content-box}}@font-face{font-family:cicons;font-weight:400;font-style:normal;src:url(//m.baidu.com/se/static/font/cicon.eot?t=1649744150982#);src:url(//m.baidu.com/se/static/font/cicon.eot?t=1649744150982#iefix) format(&#39;embedded-opentype&#39;),url(//m.baidu.com/se/static/font/cicon.woff?t=1649744150982#) format(&#39;woff&#39;),url(//m.baidu.com/se/static/font/cicon.ttf?t=1649744150982#) format(&#39;truetype&#39;),url(//m.baidu.com/se/static/font/cicon.svg?t=1649744150982#cicons) format(&#39;svg&#39;)}@font-face{font-family:cIconfont;font-weight:400;font-style:normal;src:url(http://pss.bdstatic.com/r/www/cache/static/global/font/iconfont.eot);src:url(http://pss.bdstatic.com/r/www/cache/static/global/font/iconfont.eot?#iefix) format(&#39;embedded-opentype&#39;),url(http://pss.bdstatic.com/r/www/cache/static/global/font/iconfont.woff2) format(&#39;woff2&#39;),url(http://pss.bdstatic.com/r/www/cache/static/global/font/iconfont.woff) format(&#39;woff&#39;),url(http://pss.bdstatic.com/r/www/cache/static/global/font/iconfont.ttf) format(&#39;truetype&#39;),url(http://pss.bdstatic.com/r/www/cache/static/global/font/iconfont_b572317.svg#iconfont) format(&#39;svg&#39;)}@font-face{font-family:DINPro;font-weight:400;font-style:normal;src:url(http://pss.bdstatic.com/r/www/cache/static/global/font/din-pro-cond-medium/DINPro-CondMedium.eot);src:url(http://pss.bdstatic.com/r/www/cache/static/global/font/din-pro-cond-medium/DINPro-CondMedium.eot) format(&#39;embedded-opentype&#39;),url(http://pss.bdstatic.com/r/www/cache/static/global/font/din-pro-cond-medium/DINPro-CondMedium.woff2) format(&#39;woff2&#39;),url(http://pss.bdstatic.com/r/www/cache/static/global/font/din-pro-cond-medium/DINPro-CondMedium.woff) format(&#39;woff&#39;),url(http://pss.bdstatic.com/r/www/cache/static/global/font/din-pro-cond-medium/DINPro-CondMedium.ttf) format(&#39;truetype&#39;),url(http://pss.bdstatic.com/r/www/cache/static/global/font/din-pro-cond-medium/DINPro-CondMedium_7fcf171.svg#DINPro) format(&#39;svg&#39;)}@font-face{font-family:baidunumber-Medium;font-weight:400;font-style:normal;src:url(http://pss.bdstatic.com/r/www/cache/static/global/font/baidu-number/baidunumber-Medium.ttf) format(&#39;truetype&#39;)}html{font-size:100px}html body{font-size:.14rem;font-size:14px}[data-pmd] a{color:#333;text-decoration:none;-webkit-tap-highlight-color:rgba(23,23,23,.1)}[data-pmd] .c-icon{display:inline;width:auto;height:auto;vertical-align:baseline;overflow:auto}[data-pmd] .c-row-tile{position:relative;margin:0 -9px}[data-pmd] .c-row-tile .c-row{padding:0 9px}[data-pmd] .c-row :last-child,[data-pmd] .c-row-tile :last-child{margin-right:0}[data-pmd] .c-row *,[data-pmd] .c-row-tile *{-webkit-box-sizing:border-box;box-sizing:border-box}[data-pmd] .c-icon{font-family:cicons!important;font-style:normal;-webkit-font-smoothing:antialiased}[data-pmd] .c-result{padding:0;margin:0;background:0 0;border:0 none}[data-pmd] .c-blocka{display:block}[data-pmd] a .c-title,[data-pmd] a.c-title{font:18px/26px Arial,Helvetica,sans-serif;color:#000}[data-pmd] a:visited .c-title,[data-pmd] a:visited.c-title{color:#999}[data-pmd] .sfa-view a:visited .c-title,[data-pmd] .sfa-view a:visited.c-title,[data-pmd] .sfa-view .c-title{color:#000;font:18px/26px Arial,Helvetica,sans-serif}[data-pmd] .c-title-noclick,[data-pmd] .c-title{font:18px/26px Arial,Helvetica,sans-serif;color:#999}[data-pmd] .c-title-nowrap{padding-right:33px;width:100%;position:relative;white-space:nowrap;box-sizing:border-box}[data-pmd] .c-title-nowrap .c-text{display:inline-block;vertical-align:middle}[data-pmd] .c-title-nowrap .c-title-text{display:inline-block;max-width:100%;white-space:nowrap;overflow:hidden;text-overflow:ellipsis;vertical-align:bottom}[data-pmd] .c-font-sigma{font:22px/30px Arial,Helvetica,sans-serif}[data-pmd] .c-font-large{font:18px/26px Arial,Helvetica,sans-serif}[data-pmd] .c-font-big{font:18px/26px Arial,Helvetica,sans-serif}[data-pmd] .c-font-medium{font:14px/22px Arial,Helvetica,sans-serif}[data-pmd] .c-font-normal{font:13px/21px Arial,Helvetica,sans-serif}[data-pmd] .c-font-small{font:12px/20px Arial,Helvetica,sans-serif}[data-pmd] .c-font-tiny{font:12px/20px Arial,Helvetica,sans-serif}[data-pmd] .c-price{font:18px/26px Arial,Helvetica,sans-serif;color:#f60}[data-pmd] .c-title-wrap{display:block}[data-pmd] .c-title-nowrap{display:none}@media (min-width:376px){[data-pmd] .c-title{display:block;max-width:100%;white-space:nowrap;overflow:hidden;text-overflow:ellipsis;vertical-align:middle}[data-pmd] .c-title-nowrap{display:block;overflow:visible}[data-pmd] .c-title-wrap{display:none}}[data-pmd] .c-abstract{color:#555}[data-pmd] .c-showurl{color:#999;font:13px/21px Arial,Helvetica,sans-serif}[data-pmd] .c-gray{color:#999;font:13px/21px Arial,Helvetica,sans-serif}[data-pmd] .c-moreinfo{color:#555;text-align:right;font:13px/21px Arial,Helvetica,sans-serif}[data-pmd] .c-foot-icon{display:inline-block;position:relative;top:.02rem;background:url(//m.baidu.com/static/search/sprite.png) no-repeat;-webkit-background-size:1.9rem 1.42rem;background-size:1.9rem 1.42rem}[data-pmd] .c-foot-icon-16{width:.16rem;height:.13rem}[data-pmd] .c-foot-icon-16-aladdin{display:none;background-position:0 -.98rem}[data-pmd] .c-foot-icon-16-lightapp{background-position:-.2rem -.98rem}[data-pmd] .c-visited,[data-pmd] .c-visited .c-title,[data-pmd] .c-visited.c-title{color:#999!important}[data-pmd] .c-container{margin:8px 0;padding:10px 9px 15px;background-color:#fff;width:auto;color:#555;font:13px/21px Arial,Helvetica,sans-serif;word-break:break-word;word-wrap:break-word;border:0 none}[data-pmd] .c-container-tight{padding:10px 9px 15px;background-color:#fff;width:auto;color:#555;font:13px/21px Arial,Helvetica,sans-serif;word-break:break-word;word-wrap:break-word;border:0 none}[data-pmd] .c-container-tile{margin:0;padding:0}[data-pmd] .c-span-middle{display:-webkit-box;display:-moz-box;display:-ms-flexbox;display:-webkit-flex;display:flex;-webkit-box-orient:vertical;-moz-box-orient:vertical;-webkit-box-direction:normal;-moz-box-direction:normal;-webkit-flex-direction:column;-ms-flex-direction:column;flex-direction:column;-moz-box-pack:center;-webkit-box-pack:center;-ms-flex-pack:center;-webkit-justify-content:center;justify-content:center}[data-pmd] .c-line-clamp2,[data-pmd] .c-line-clamp3,[data-pmd] .c-line-clamp4,[data-pmd] .c-line-clamp5{display:-webkit-box;-webkit-box-orient:vertical;overflow:hidden;text-overflow:ellipsis;margin-bottom:4px;white-space:normal}[data-pmd] .c-line-clamp2{-webkit-line-clamp:2}[data-pmd] .c-line-clamp3{-webkit-line-clamp:3}[data-pmd] .c-line-clamp4{-webkit-line-clamp:4}[data-pmd] .c-line-clamp5{-webkit-line-clamp:5}[data-pmd] .c-line-clamp1{display:block;overflow:hidden;text-overflow:ellipsis;white-space:nowrap}[data-pmd] .c-line-top{border-top:1px solid #eee}[data-pmd] .c-line-dotted-top{border-top:1px dotted #eee}[data-pmd] .c-line-bottom{border-bottom:1px solid #eee}[data-pmd] .c-line-dotted-bottom{border-bottom:1px dotted #eee}[data-pmd] .c-color{color:#555}[data-pmd] .c-color-gray-a{color:#666}[data-pmd] .c-color-gray{color:#999}[data-pmd] .c-color-link{color:#000}[data-pmd] .c-color-noclick{color:#999}[data-pmd] .c-color-url{color:#999}[data-pmd] .c-color-red{color:#e43}[data-pmd] .c-color-red:visited{color:#e43}[data-pmd] .c-color-orange{color:#f60}[data-pmd] .c-color-orange:visited{color:#f60}[data-pmd] .c-color-icon-special{color:#b4b4b4}[data-pmd] .c-color-split{color:#eee}[data-pmd] .c-bg-color-white{background-color:#fff}[data-pmd] .c-bg-color-black{background-color:#000}[data-pmd] .se-page-bd .c-bg-color-gray{background-color:#f1f1f1}[data-pmd] .sfa-view .c-bg-color-gray{background-color:#f2f2f2}[data-pmd] .c-gap-top-zero{margin-top:0}[data-pmd] .c-gap-right-zero{margin-right:0}[data-pmd] .c-gap-bottom-zero{margin-bottom:0}[data-pmd] .c-gap-left-zero{margin-left:0}[data-pmd] .c-gap-top{margin-top:8px}[data-pmd] .c-gap-right{margin-right:8px}[data-pmd] .c-gap-bottom{margin-bottom:8px}[data-pmd] .c-gap-left{margin-left:8px}[data-pmd] .c-gap-top-small{margin-top:4px}[data-pmd] .c-gap-right-small{margin-right:4px}[data-pmd] .c-gap-bottom-small{margin-bottom:4px}[data-pmd] .c-gap-left-small{margin-left:4px}[data-pmd] .c-gap-top-large{margin-top:12px}[data-pmd] .c-gap-right-large{margin-right:12px}[data-pmd] .c-gap-bottom-large{margin-bottom:12px}[data-pmd] .c-gap-left-large{margin-left:12px}[data-pmd] .c-gap-left-middle{margin-left:8px}[data-pmd] .c-gap-right-middle{margin-right:8px}[data-pmd] .c-gap-inner-top-zero{padding-top:0}[data-pmd] .c-gap-inner-right-zero{padding-right:0}[data-pmd] .c-gap-inner-bottom-zero{padding-bottom:0}[data-pmd] .c-gap-inner-left-zero{padding-left:0}[data-pmd] .c-gap-inner-top{padding-top:8px}[data-pmd] .c-gap-inner-right{padding-right:8px}[data-pmd] .c-gap-inner-bottom{padding-bottom:8px}[data-pmd] .c-gap-inner-left{padding-left:8px}[data-pmd] .c-gap-inner-top-small{padding-top:4px}[data-pmd] .c-gap-inner-right-small{padding-right:4px}[data-pmd] .c-gap-inner-bottom-small{padding-bottom:4px}[data-pmd] .c-gap-inner-left-small{padding-left:4px}[data-pmd] .c-gap-inner-top-large{padding-top:12px}[data-pmd] .c-gap-inner-right-large{padding-right:12px}[data-pmd] .c-gap-inner-bottom-large{padding-bottom:12px}[data-pmd] .c-gap-inner-left-large{padding-left:12px}[data-pmd] .c-gap-inner-left-middle{padding-left:8px}[data-pmd] .c-gap-inner-right-middle{padding-right:8px}[data-pmd] .c-img{position:relative;display:block;width:100%;border:0 none;background:#f7f7f7 url(//m.baidu.com/static/search/image_default.png) center center no-repeat;margin:4px 0}[data-pmd] .c-img img{width:100%}[data-pmd] .c-img .c-img-text{position:absolute;left:0;bottom:0;width:100%;height:.16rem;background:rgba(51,51,51,.4);font-size:.12rem;line-height:1.33333333;color:#fff;text-align:center}[data-pmd] .c-img-s,[data-pmd] .c-img-l,[data-pmd] .c-img-w,[data-pmd] .c-img-x,[data-pmd] .c-img-y,[data-pmd] .c-img-v,[data-pmd] .c-img-z{height:0;overflow:hidden}[data-pmd] .c-img-s{padding-bottom:100%}[data-pmd] .c-img-l{padding-bottom:133.33333333%}[data-pmd] .c-img-w{padding-bottom:56.25%}[data-pmd] .c-img-x{padding-bottom:75%}[data-pmd] .c-img-y{padding-bottom:66.66666667%}[data-pmd] .c-img-v{padding-bottom:33.33333333%}[data-pmd] .c-img-z{padding-bottom:40%}[data-pmd] .c-table{width:100%;border-collapse:collapse;border-spacing:0;color:#000}[data-pmd] .c-table th{color:#999}[data-pmd] .c-table th,[data-pmd] .c-table td{border-bottom:1px solid #eee;text-align:left;font-weight:400;padding:8px 0}[data-pmd] .c-table-hihead th{padding:0;border-bottom:0 none;background-color:#f6f6f6;line-height:.37rem}[data-pmd] .c-table-hihead div{background-color:#f6f6f6}[data-pmd] .c-table-hihead th:first-child div{margin-left:-9px;padding-left:9px}[data-pmd] .c-table-hihead th:last-child div{margin-right:-9px;padding-right:9px}[data-pmd] .c-table-noborder th,[data-pmd] .c-table-noborder td{border-bottom:0 none}[data-pmd] .c-table-slink tbody{color:#555;border-bottom:1px solid #eee}[data-pmd] .c-table-slink tbody th{border-bottom:1px solid #eee;padding:0}[data-pmd] .c-table-slink tbody td{border-bottom:0;padding:0}[data-pmd] .c-table-slink tbody td .c-slink-auto{margin:5px 0}[data-pmd] .c-table-slink tbody tr:first-child th,[data-pmd] .c-table-slink tbody tr:first-child td{padding:8px 0}[data-pmd] .c-table-slink tbody tr:nth-child(2) th,[data-pmd] .c-table-slink tbody tr:nth-child(2) td{padding-top:8px}[data-pmd] .c-table-slink tbody tr th,[data-pmd] .c-table-slink tbody tr td{padding-bottom:4px}[data-pmd] .c-table-slink tbody tr:last-child th,[data-pmd] .c-table-slink tbody tr:last-child td{padding-bottom:8px}[data-pmd] .c-table-abstract tbody{color:#555;border-bottom:1px solid #eee}[data-pmd] .c-table-abstract tbody th{border-bottom:1px solid #eee;padding:0}[data-pmd] .c-table-abstract tbody td{border-bottom:0;padding:0}[data-pmd] .c-table-abstract tbody tr:first-child th,[data-pmd] .c-table-abstract tbody tr:nth-child(2) th,[data-pmd] .c-table-abstract tbody tr:first-child td,[data-pmd] .c-table-abstract tbody tr:nth-child(2) td{padding-top:8px}[data-pmd] .c-table-abstract tbody tr th,[data-pmd] .c-table-abstract tbody tr td{padding-bottom:8px}[data-pmd] .c-table-abstract .c-table-gray{color:#999;font:12px/20px Arial,Helvetica,sans-serif}[data-pmd] .c-table-shaft th{color:#999}[data-pmd] .c-table-shaft td,[data-pmd] .c-table-shaft th{border-right:1px solid #eee;text-align:center}[data-pmd] .c-table-shaft td:last-child,[data-pmd] .c-table-shaft th:last-child{border-right:0}[data-pmd] .c-table-shaft tr:last-child td{border-bottom:0}[data-pmd] .c-slink{width:auto;display:-webkit-box;-webkit-box-orient:horizontal;-webkit-box-direction:normal;-webkit-box-pack:justify;-webkit-box-align:stretch;-webkit-box-lines:single;display:-webkit-flex;-webkit-flex-direction:row;-webkit-justify-content:space-between;-webkit-align-items:stretch;-webkit-align-content:flex-start;-webkit-flex-wrap:nowrap}[data-pmd] .c-slink a,[data-pmd] .c-slink .c-slink-elem{position:relative;display:block;-webkit-box-flex:1;-webkit-flex:1 1 auto;width:16.66666667%;height:.32rem;line-height:2.28571429;padding:0 .06rem;font-size:.14rem;text-align:center;text-decoration:none;color:#666;overflow:hidden;text-overflow:ellipsis;white-space:nowrap}[data-pmd] .c-slink a:first-child::before,[data-pmd] .c-slink .c-slink-elem:first-child::before,[data-pmd] .c-slink a::after,[data-pmd] .c-slink .c-slink-elem::after{content:&quot;&quot;;width:1px;height:.1rem;background-color:#eee;position:absolute;top:.11rem;right:0}[data-pmd] .c-slink a:first-child::before,[data-pmd] .c-slink .c-slink-elem:first-child::before{left:0}[data-pmd] .c-slink-strong{margin-bottom:1px}[data-pmd] .c-slink-strong:last-child{margin-bottom:0}[data-pmd] .c-slink-strong:last-child a,[data-pmd] .c-slink-strong:last-child .c-slink-elem{border-bottom:1px solid #eee}[data-pmd] .c-slink-strong a,[data-pmd] .c-slink-strong .c-slink-elem{height:.3rem;margin-right:1px;line-height:.3rem;background-color:#f5f5f5}[data-pmd] .c-slink-strong a:last-child,[data-pmd] .c-slink-strong .c-slink-elem:last-child{margin-right:0}[data-pmd] .c-slink-strong a:first-child::before,[data-pmd] .c-slink-strong .c-slink-elem:first-child::before,[data-pmd] .c-slink-strong a::after,[data-pmd] .c-slink-strong .c-slink-elem::after{display:none}[data-pmd] .c-slink-new{display:block;width:100%;height:.3rem;line-height:.3rem;background-color:#f5f5f5;font-size:.14rem;color:#000;text-align:center;text-decoration:none;overflow:hidden;text-overflow:ellipsis;white-space:nowrap;padding:0 .08rem;border-radius:.03rem;vertical-align:middle;outline:0;-webkit-tap-highlight-color:rgba(0,0,0,0)}[data-pmd] .c-slink-new:visited{color:#000}[data-pmd] .c-slink-new:active{background-color:#e5e5e5}[data-pmd] .c-slink-new-strong{display:block;width:100%;background-color:#f5f5f5;font-size:.14rem;color:#000;text-align:center;text-decoration:none;overflow:hidden;text-overflow:ellipsis;white-space:nowrap;padding:0 .08rem;border-radius:.03rem;vertical-align:middle;outline:0;-webkit-tap-highlight-color:rgba(0,0,0,0);height:.3rem;line-height:.3rem}[data-pmd] .c-slink-new-strong:visited{color:#000}[data-pmd] .c-slink-new-strong:active{background-color:#e5e5e5}[data-pmd] .c-slink-auto{display:inline-block;max-width:100%;height:.3rem;line-height:.3rem;background-color:#f5f5f5;font-size:.14rem;color:#000;text-align:center;text-decoration:none;overflow:hidden;text-overflow:ellipsis;white-space:nowrap;padding:0 .1rem;border-radius:3px;vertical-align:middle;outline:0;-webkit-tap-highlight-color:rgba(0,0,0,0)}[data-pmd] .c-slink-auto:active{background-color:#e5e5e5}[data-pmd] .c-slink-auto:visited{color:#000}[data-pmd] .c-text{display:inline-block;height:14px;padding:0 2px;margin-bottom:2px;text-decoration:none;vertical-align:middle;color:#fff;font-size:10px;line-height:15px;font-style:normal;font-weight:400;overflow:hidden;border-radius:2px}[data-pmd] .c-text-danger{background-color:#f13f40}[data-pmd] .c-text-public{background-color:#2b99ff}[data-pmd] .c-text-box{display:inline-block;padding:1px 2px;margin-bottom:2px;text-decoration:none;vertical-align:middle;font-size:10px;line-height:11px;height:10px;font-style:normal;font-weight:400;overflow:hidden;-webkit-box-sizing:content-box;box-sizing:content-box;border-radius:2px}[data-pmd] .c-text-box-gray{color:#999;border:1px solid #e3e3e3}[data-pmd] .c-text-box-orange{color:#f60;border:1px solid #f3d9c5}[data-pmd] .c-text-box-pink{color:#ff4683;border:1px solid #ffc7da}[data-pmd] .c-text-box-red{color:#f13f40;border:1px solid #efb9b9}[data-pmd] .c-text-box-blue{color:#2b99ff;border:1px solid #b3d4f3}[data-pmd] .c-text-box-green{color:#65b12c;border:1px solid #d7efc6}[data-pmd] .c-text-box-yellow{color:#faa90e;border:1px solid #feecc9}[data-pmd] .c-text-info{display:inline;color:#999;font-style:normal;font-weight:400;font-family:sans-serif}[data-pmd] .c-index{display:inline-block;height:15px;margin:0 5px 3px 0;text-align:center;vertical-align:middle;color:#999;font-size:14px;line-height:15px;overflow:hidden}[data-pmd] .c-index-hot-common{font-size:12px;color:#fff;width:16px}[data-pmd] .c-index-hot,[data-pmd] .c-index-hot1{background-color:#ff2d46;font-size:12px;color:#fff;width:16px}[data-pmd] .c-index-hot2{background-color:#ff7f49;font-size:12px;color:#fff;width:16px}[data-pmd] .c-index-hot3{background-color:#ffaa3b;font-size:12px;color:#fff;width:16px}[data-pmd] .c-btn{display:inline-block;padding:0 .08rem;width:100%;height:.3rem;font:13px/21px Arial,Helvetica,sans-serif;line-height:.28rem;text-decoration:none;text-align:center;color:#000;background-color:#fff;border:1px solid #707379;border-radius:3px;vertical-align:middle;overflow:hidden;outline:0;-webkit-tap-highlight-color:rgba(0,0,0,0)}[data-pmd] .c-btn:visited{color:#000}[data-pmd] .c-btn:active{border-color:#707379;background-color:#f2f2f2}[data-pmd] .c-btn .c-icon{position:relative;top:-1px;vertical-align:middle;font-size:14px;margin-right:4px}[data-pmd] .c-btn-small{display:inline-block;padding:0 .08rem;width:100%;height:.3rem;line-height:.28rem;font-size:12px;font-weight:400;text-decoration:none;text-align:center;color:#000;background-color:#fff;border:1px solid #707379;border-radius:3px;vertical-align:middle;overflow:hidden;outline:0;-webkit-tap-highlight-color:rgba(0,0,0,0)}[data-pmd] .c-btn-small:visited{color:#000}[data-pmd] .c-btn-small:active{border-color:#707379;background-color:#f2f2f2}[data-pmd] .c-btn-small .c-icon{position:relative;top:-1px;vertical-align:middle;font-size:14px;margin-right:4px}@media screen and (max-width:360px){[data-pmd] .c-btn{padding:0 .05rem}}@media screen and (max-width:375px){[data-pmd] .c-btn-small{padding:0 .02rem}}[data-pmd] .c-btn-primary{background-color:#f8f8f8;border-color:#d0d0d0;border-bottom-color:#b2b2b2;-webkit-box-shadow:0 1px 1px 0 #e1e1e1;box-shadow:0 1px 1px 0 #e1e1e1}[data-pmd] .c-btn-primary .c-icon{color:#02aaf8}[data-pmd] .c-btn-disable{color:#999;background-color:#fff;border-color:#f1f1f1}[data-pmd] .c-btn-disable:visited{color:#999}[data-pmd] .c-btn-disable:active{border-color:#f1f1f1}[data-pmd] .c-btn-disable .c-icon{color:#999}[data-pmd] .c-btn-weak{height:.3rem;line-height:.3rem;border-width:0}[data-pmd] .c-btn-weak:active{background-color:#f2f2f2}[data-pmd] .c-btn-weak-auto{width:auto;height:.3rem;line-height:.3rem;border-width:0}[data-pmd] .c-btn-weak-auto:active{background-color:#f2f2f2}[data-pmd] .c-btn-weak-gray{height:.3rem;line-height:.3rem;background-color:#f8f8f8;border-width:0}[data-pmd] .c-btn-weak-gray:active{background-color:#e5e5e5}[data-pmd] .c-btn-pills{height:.2rem;padding:0 .08rem;border-width:0;border-radius:.2rem;line-height:.2rem;font-size:10px;background-color:rgba(0,0,0,.4);color:#fff;width:auto;word-spacing:-3px;letter-spacing:0}[data-pmd] .c-btn-pills span{position:relative;top:1px}[data-pmd] .c-btn-pills::selection{color:#fff}[data-pmd] .c-btn-pills:visited{color:#fff}[data-pmd] .c-btn-pills:active{background-color:rgba(0,0,0,.4);color:#fff}[data-pmd] .c-btn-pills .c-icon{font-size:10px;top:1px;margin-right:4px}[data-pmd] .c-btn-circle{height:.3rem;width:.3rem;border-radius:50%;color:#fff;background-color:rgba(0,0,0,.4);border:0;padding:0;line-height:.3rem;text-align:center;vertical-align:middle;white-space:nowrap}[data-pmd] .c-btn-circle:active{color:#fff;background-color:rgba(0,0,0,.4)}[data-pmd] .c-btn-circle .c-icon{top:0;margin:0;display:block;font-size:14px;color:#fff}[data-pmd] .c-btn-circle-big{height:.3rem;width:.3rem;border-radius:50%;background-color:rgba(0,0,0,.4);border:0;padding:0;line-height:.3rem;text-align:center;vertical-align:middle;white-space:nowrap;height:.48rem;width:.48rem;line-height:.48rem;font-size:18px;color:#fff}[data-pmd] .c-btn-circle-big:active{color:#fff;background-color:rgba(0,0,0,.4)}[data-pmd] .c-btn-circle-big .c-icon{top:0;margin:0;display:block;font-size:14px;color:#fff}[data-pmd] .c-btn-circle-big .c-icon{font-size:24px}[data-pmd] .c-input{word-break:normal;word-wrap:normal;-webkit-appearance:none;appearance:none;display:inline-block;padding:0 .08rem;width:100%;height:.3rem;vertical-align:middle;line-height:normal;font-size:.14rem;color:#000;background-color:#fff;border:1px solid #eee;border-radius:1px;overflow:hidden;outline:0}[data-pmd] .c-input::-webkit-input-placeholder{color:#999;border-color:#eee}[data-pmd] .c-input:focus{border-color:#000}[data-pmd] .c-input:focus .c-icon{color:#dbdbdb}[data-pmd] .c-input:disabled{color:#999;border-color:#f1f1f1}[data-pmd] .c-dropdown{position:relative;background-color:#fff}[data-pmd] .c-dropdown::before{font-family:cicons;content:&quot;\\e73c&quot;;display:inline-block;position:absolute;bottom:0;right:.08rem;color:#555;font-size:.14rem;height:.3rem;line-height:.3rem}[data-pmd] .c-dropdown&gt;label{display:block;color:#999;background-color:#fff;width:100%;height:.26rem}[data-pmd] .c-dropdown&gt;select{word-break:normal;word-wrap:normal;position:relative;-webkit-appearance:none;appearance:none;display:inline-block;padding:0 .24rem 0 .08rem;width:100%;height:.3rem;vertical-align:middle;line-height:normal;font-size:.14rem;color:#000;background-color:transparent;border:1px solid #eee;border-radius:0;overflow:hidden;outline:0}[data-pmd] .c-dropdown&gt;select:focus{border-color:#000}[data-pmd] .c-dropdown-disable{background-color:#fff}[data-pmd] .c-dropdown-disable::before{color:#999}[data-pmd] .c-dropdown-disable&gt;label{color:#999}[data-pmd] .c-dropdown-disable&gt;select{color:#999;border-color:#f1f1f1}[data-pmd] .c-btn-shaft{border:1px solid #f1f1f1;text-overflow:ellipsis;white-space:nowrap}[data-pmd] .c-btn-shaft:active{border-color:#f1f1f1}[data-pmd] .c-tab-select{background-color:#f5f5f5;height:.38rem;line-height:.38rem;font-size:.14rem;color:#000;text-align:center}[data-pmd] .c-tab-select .c-icon{display:inline-block;font-size:.14rem;color:#555}[data-pmd] .c-tab-select .c-span12{text-align:left}[data-pmd] .c-tab-select .c-span12 .c-icon{position:absolute;right:0;bottom:0}@-webkit-keyframes c-loading-rotation{from{-webkit-transform:rotate(1deg)}to{-webkit-transform:rotate(360deg)}}[data-pmd] .c-loading,[data-pmd] .c-loading-zbios{text-align:center}[data-pmd] .c-loading i{display:block;position:relative;font-size:.3rem;width:.54rem;height:.54rem;line-height:.52rem;color:#f3f3f3;margin:auto}[data-pmd] .c-loading i::before{content:&quot;&quot;;display:block;position:absolute;width:.5rem;height:.5rem;margin:auto;border-radius:50%;border:.02rem solid #f3f3f3;border-top-color:#ddd;-webkit-transform-origin:50% 50%;-webkit-animation:c-loading-rotation 1s ease 0s infinite normal}[data-pmd] .c-loading-zbios i{display:block;position:relative;font-size:.48rem;width:.54rem;height:.54rem;line-height:.54rem;color:#f3f3f3;margin:auto;-webkit-transform-origin:50% 50%;-webkit-animation:c-loading-rotation .5s linear 0s infinite normal}[data-pmd] .c-loading p,[data-pmd] .c-loading-zbios p{color:#999;margin-top:.08rem;text-indent:.5em}[data-pmd] .c-tabs{position:relative}[data-pmd] .c-tabs-nav{position:relative;min-width:100%;height:.38rem;padding:0 9px;font-size:.14rem;white-space:nowrap;background-color:#f5f5f5;display:-webkit-box;-webkit-box-orient:horizontal;-webkit-box-direction:normal;-webkit-box-pack:justify;-webkit-box-align:stretch;-webkit-box-lines:single;display:-webkit-flex;-webkit-flex-direction:row;-webkit-justify-content:space-between;-webkit-align-items:stretch;-webkit-align-content:flex-start;-webkit-flex-wrap:nowrap;-webkit-user-select:none!important;user-select:none!important;-khtml-user-select:none!important;-webkit-touch-callout:none!important}[data-pmd] .c-tabs-nav *{-webkit-box-sizing:border-box;box-sizing:border-box}[data-pmd] .c-tabs-nav-li{display:block;-webkit-box-flex:1;-webkit-flex:1 1 auto;width:16.66666667%;list-style:none;text-decoration:none;height:.38rem;line-height:.38rem;color:#555;text-align:center;text-overflow:ellipsis;white-space:nowrap;overflow:hidden;-webkit-tap-highlight-color:rgba(0,0,0,0)}[data-pmd] .c-tabs-nav .c-tabs-nav-selected{color:#000;border-bottom:1px solid #000}[data-pmd] .c-tabs-nav-bottom{border-top:1px solid #f1f1f1;padding:0}[data-pmd] .c-tabs-nav-bottom .c-tabs-nav-li{color:#999}[data-pmd] .c-tabs-nav-bottom .c-tabs-nav-icon{display:none}[data-pmd] .c-tabs-nav-bottom .c-tabs-nav-selected{position:relative;top:-1px;height:.38rem;line-height:.39rem;color:#000;background-color:#fff;border-bottom:1px solid #000;border-top-color:#fff}[data-pmd] .c-tabs-nav-bottom .c-tabs-nav-selected:first-child{margin-left:-1px}[data-pmd] .c-tabs-nav-bottom .c-tabs-nav-selected .c-tabs-nav-icon{display:inline-block;width:.15rem;height:.15rem}[data-pmd] .c-tabs-nav-view{position:relative;height:.38rem;background-color:#f5f5f5;overflow:hidden}[data-pmd] .c-tabs-nav-view .c-tabs-nav{display:block}[data-pmd] .c-tabs-nav-view .c-tabs-nav .c-tabs-nav-li{display:inline-block;width:auto;padding:0 .17rem}[data-pmd] .c-tabs-nav-toggle{position:absolute;top:0;right:0;z-index:9;display:block;text-align:center;width:.38rem;height:.38rem;border-left:1px solid #eee;background-color:#f5f5f5}[data-pmd] .c-tabs-nav-toggle::before{display:inline-block;font-family:cicons;content:&quot;\\e73c&quot;;font-size:.12rem;color:#333;line-height:.36rem}[data-pmd] .c-tabs-nav-layer{position:absolute;top:0;z-index:8;width:100%;background-color:#f5f5f5;border-bottom:1px solid #eee}[data-pmd] .c-tabs-nav-layer p{color:#999;height:.39rem;line-height:.39rem;padding:0 .17rem;border-bottom:1px solid #eee}[data-pmd] .c-tabs-nav-layer-ul .c-tabs-nav-li{display:inline-block;width:16.66666667%;padding:0}[data-pmd] .c-tabs-nav-layer-ul .c-tabs-nav-selected{color:#000}[data-pmd] .c-tabs2 .c-tabs-view-content{overflow:hidden}[data-pmd] .c-tabs2 .c-tabs-content{position:relative;float:left;display:none}[data-pmd] .c-tabs2 .c-tabs-selected{display:block}[data-pmd] .c-tabs2 .c-tabs-view-content-anim{transition:height .3s cubic-bezier(0.7,0,.3,1);-webkit-transition:height .3s cubic-bezier(0.7,0,.3,1);-moz-transition:height .3s cubic-bezier(0.7,0,.3,1);-o-transition:height .3s cubic-bezier(0.7,0,.3,1);transform:translate3d(0,0,0);-webkit-transform:translate3d(0,0,0);-moz-transition:translate3d(0,0,0);-o-transition:translate3d(0,0,0)}[data-pmd] .c-tabs2 .c-tabs-stopanimate{transition:none;-webkit-transition:none;transform:none;-webkit-transform:none;-moz-transition:none;-o-transition:none}[data-pmd] .c-tabs2 .c-tabs-tabcontent{transition:transform .3s cubic-bezier(0.7,0,.3,1);-webkit-transition:transform .3s cubic-bezier(0.7,0,.3,1);-moz-transition:transform .3s cubic-bezier(0.7,0,.3,1);-o-transition:transform .3s cubic-bezier(0.7,0,.3,1);transform:translate3d(0,0,0);-webkit-transform:translate3d(0,0,0);-moz-transition:translate3d(0,0,0);-o-transition:translate3d(0,0,0)}[data-pmd] .c-tabs-animation .c-tabs-view-content{margin:0 -.17rem;overflow:hidden}[data-pmd] .c-tabs-animation .c-tabs-content{position:relative;padding-left:.17rem;padding-right:.17rem;box-sizing:border-box;float:left;display:none}[data-pmd] .c-tabs-animation .c-tabs-selected{display:block}[data-pmd] .c-tabs-animation .c-tabs-view-content-anim{transition:height .3s cubic-bezier(0.7,0,.3,1);-webkit-transition:height .3s cubic-bezier(0.7,0,.3,1);-moz-transition:height .3s cubic-bezier(0.7,0,.3,1);-o-transition:height .3s cubic-bezier(0.7,0,.3,1);transform:translate3d(0,0,0);-webkit-transform:translate3d(0,0,0);-moz-transition:translate3d(0,0,0);-o-transition:translate3d(0,0,0)}[data-pmd] .c-tabs-animation .c-tabs-stopanimate{transition:none;-webkit-transition:none;transform:none;-webkit-transform:none;-moz-transition:none;-o-transition:none}[data-pmd] .c-tabs-animation .c-tabs-tabcontent{transition:transform .3s cubic-bezier(0.7,0,.3,1);-webkit-transition:transform .3s cubic-bezier(0.7,0,.3,1);-moz-transition:transform .3s cubic-bezier(0.7,0,.3,1);-o-transition:transform .3s cubic-bezier(0.7,0,.3,1);transform:translate3d(0,0,0);-webkit-transform:translate3d(0,0,0);-moz-transition:translate3d(0,0,0);-o-transition:translate3d(0,0,0)}[data-pmd] .c-scroll-wrapper,[data-pmd] .c-scroll-wrapper-new{position:relative;overflow:hidden}[data-pmd] .c-scroll-wrapper-new .c-scroll-touch{padding-left:9px;padding-right:9px}[data-pmd] .c-scroll-parent-gap{padding:0 .11rem 0 9px}[data-pmd] .c-scroll-parent-gap .c-scroll-element-gap{padding-right:.1rem}[data-pmd] .c-scroll-indicator-wrapper{text-align:center;height:6px}[data-pmd] .c-scroll-indicator-wrapper .c-scroll-indicator{vertical-align:top}[data-pmd] .c-scroll-indicator{display:inline-block;position:relative;height:6px}[data-pmd] .c-scroll-indicator .c-scroll-dotty{position:absolute;width:6px;height:6px;border-radius:50%;background-color:#999}[data-pmd] .c-scroll-indicator .c-scroll-dotty-now{background-color:#999}[data-pmd] .c-scroll-indicator span{display:block;float:left;width:6px;height:6px;border-radius:50%;background-color:#e1e1e1;margin-right:.07rem}[data-pmd] .c-scroll-indicator span:last-child{margin-right:0}[data-pmd] .c-scroll-touch{position:relative;overflow-x:auto;-webkit-overflow-scrolling:touch;padding-bottom:.3rem;margin-top:-.3rem;-webkit-transform:translateY(0.3rem);transform:translateY(0.3rem)}[data-pmd] .c-location-wrap{overflow:hidden;padding:0 .15rem;background-color:#f7f7f7}[data-pmd] .c-location-header-tips{font-size:.13rem}[data-pmd] .c-location-header-btn{padding-top:.08rem;-webkit-box-flex:0;-webkit-flex:none}[data-pmd] .c-location-header-btn div{display:inline-block}[data-pmd] .c-location-header-btn-reload:after{content:&quot;&quot;;display:inline-block;overflow:hidden;width:1px;height:.1rem;margin:0 .08rem;background-color:#ccc}[data-pmd] .c-location-header-btn-788{display:none}[data-pmd] .c-location-header-btn-in,[data-pmd] .c-location-header-btn-reload{color:#333}[data-pmd] .c-location-header-btn .c-icon{color:#666;vertical-align:top}[data-pmd] .c-location-header-tips{color:#999}[data-pmd] .c-location-header-tips-err{color:#c00}[data-pmd] .c-location-header-tips-success{color:#38f}[data-pmd] .c-location-header-btn-reload-ing .c-location-header-btn-787{display:none}[data-pmd] .c-location-header-btn-reload-ing .c-location-header-btn-788{display:inline-block;color:#999;-webkit-animation-name:c_location_rotate;-webkit-animation-duration:1.5s;-webkit-animation-iteration-count:infinite;-webkit-animation-timing-function:linear}[data-pmd] .c-location-header-btn-reload-ing{color:#999}@-webkit-keyframes c_location_rotate{from{-webkit-transform:rotate(0deg)}to{-webkit-transform:rotate(360deg)}}@keyframes c_location_rotate{from{transform:rotate(0deg)}to{transform:rotate(360deg)}}[data-pmd] .c-location-header-btn-in-active,[data-pmd] .c-location-header-btn-in-active .c-icon{color:#38f}[data-pmd] .c-location-form{position:relative}[data-pmd] .c-location-form .c-input{padding-right:.7rem}[data-pmd] .c-location-input-close{position:absolute;z-index:10;top:1px;right:.37rem;display:none;width:.36rem;height:.36rem;line-height:.36rem;text-align:center;color:#ddd;font-size:.16rem}[data-pmd] .c-location-form .c-input:focus{border-color:#ddd #eee #eee #ddd;background-color:#fff}[data-pmd] .c-location-sub{position:absolute;z-index:10;top:1px;right:1px;width:.36rem;height:.36rem;border-left:1px solid #eee;line-height:.36rem;text-align:center;background-color:#fafafa}[data-pmd] .c-location-body{display:none;padding-bottom:.14rem}[data-pmd] .c-location-down{display:none;border:1px solid #eee;border-top:0;background-color:#fff;-webkit-tap-highlight-color:rgba(0,0,0,0)}[data-pmd] .c-location-down-tips{height:.38rem;padding-left:.12rem;line-height:.38rem;background-color:#fafafa}[data-pmd] .c-location-down-tips-close{padding-right:.12rem}[data-pmd] .c-location-down-tips-close:before{content:&quot;&quot;;display:inline-block;width:1px;height:.1rem;margin-right:.08rem;background-color:#ddd}[data-pmd] .c-location-down ul{list-style:none}[data-pmd] .c-location-down li{padding:.04rem .12rem;border-top:1px solid #eee}[data-pmd] .c-navs{position:relative}[data-pmd] .c-navs-bar{position:relative;min-width:100%;height:40px;white-space:nowrap;display:-webkit-box;-webkit-box-orient:horizontal;-webkit-box-direction:normal;-webkit-box-pack:justify;-webkit-box-align:stretch;-webkit-box-lines:single;display:-webkit-flex;-webkit-flex-direction:row;-webkit-justify-content:space-between;-webkit-align-items:stretch;-webkit-align-content:flex-start;-webkit-flex-wrap:nowrap}[data-pmd] .c-navs .c-row-tile{border-bottom:1px solid #f1f1f1}[data-pmd] .c-navs-sub .c-navs-bar{height:38px}[data-pmd] .c-navs-bar *{-webkit-box-sizing:border-box;box-sizing:border-box}[data-pmd] .c-navs-bar-li{display:block;-webkit-box-flex:1;-webkit-flex:1 1 auto;width:16.66666667%;height:40px;line-height:40px;list-style:none;text-decoration:none;color:#666;text-align:center;font-size:15px;-webkit-tap-highlight-color:transparent;padding:0 17px}[data-pmd] .c-navs-sub .c-navs-bar-li{height:38px;line-height:38px}[data-pmd] .c-navs-bar-li span{height:100%;display:inline-block;max-width:100%;text-overflow:ellipsis;white-space:nowrap;overflow:hidden}[data-pmd] .c-navs-bar .c-navs-bar-selected span{color:#333;font-weight:700;border-bottom:2px solid #333}[data-pmd] .c-navs-bar-view{position:relative;overflow:hidden}[data-pmd] .c-navs-bar-view .c-navs-bar{display:block}[data-pmd] .c-navs-bar-view .c-navs-bar .c-navs-bar-li{display:inline-block;width:auto;padding:0 17px}[data-pmd] .c-navs-bar-toggle{position:absolute;top:0;right:0;width:34px;height:40px;background-color:#fff}[data-pmd] .c-navs-sub .c-navs-bar-toggle{height:38px}[data-pmd] .c-navs-bar-toggle i{width:0;height:0;right:17px;top:17px;border-right:5px solid transparent;border-top:5px solid #999;border-left:5px solid transparent;position:absolute}[data-pmd] .c-navs-bar-layer{position:absolute;top:0;z-index:8;width:100%;background-color:#fff;overflow-x:hidden}[data-pmd] .c-navs-bar-layer p{color:#999;padding:9px 17px 13px}[data-pmd] .c-navs-sub .c-navs-bar-layer p{padding:8px 17px 13px}[data-pmd] .c-navs-bar-layer .c-row{margin-bottom:17px}[data-pmd] .c-navs-sub .c-navs-bar-toggle i{top:16px}[data-pmd] .c-navs-bar-layer .c-navs-bar-toggle i{border-right:5px solid transparent;border-bottom:5px solid #999;border-left:5px solid transparent;border-top:0}[data-pmd] .c-navs-bar-layer .c-navs-bar-li{height:33px;line-height:33px;text-align:center;font-size:14px;color:#333;width:33.33333333%;-webkit-box-flex:4;-webkit-flex:4 4 auto;padding-right:1.55367232%;padding-left:1.55367232%}[data-pmd] .c-navs-bar-layer .c-span4.c-navs-bar-li span{display:inline-block;width:100%;border:1px solid #f1f1f1;border-bottom:1px solid #f1f1f1}[data-pmd] .c-navs-bar-layer .c-span4.c-navs-bar-selected span{border:2px solid #333;line-height:31px}[data-pmd] .c-navs-shadow{right:34px;position:absolute;top:0;width:10px;height:40px;background:-webkit-linear-gradient(left,rgba(255,255,255,0),#fff);background:linear-gradient(to right,rgba(255,255,255,0),#fff)}[data-pmd] .c-navs-sub .c-navs-shadow{height:38px}[data-pmd] .c-navs-bar-mask{position:absolute;z-index:7;top:0;left:0;background:rgba(0,0,0,.65);height:1024px;width:100%}[data-pmd] .c-navs-sub .c-navs-bar-li span{border-bottom:0;font-size:14px}a{color:#2440b3;text-decoration:none}a em{color:#f73131;text-decoration:none}a:hover{text-decoration:underline;color:#315efb}a:hover em{text-decoration:underline}a:visited{color:#771caa}a:active{color:#f73131;text-decoration:none}a:active em{text-decoration:none}em{color:#f73131}body{min-width:1116px}#content_right a{text-decoration:none}#content_right a:hover{text-decoration:underline}.new-pmd .kuaizhao:hover{text-decoration:underline;color:#626675}#container.sam_newgrid .c-container .t,#container.sam_newgrid .c-container .c-title{font-size:18px;line-height:22px}#rs .new-pmd .inc-rs-new-title{line-height:14px}#rs .new-pmd .new-inc-rs-table{width:704px;border-collapse:collapse;margin-bottom:-9px}#rs .new-pmd .new-inc-rs-table td{width:16px}#rs .new-pmd .new-inc-rs-table th{width:224px;line-height:26px}#rs .new-inc-rs-item{width:224px;overflow:hidden;display:inline-block;text-overflow:ellipsis;vertical-align:top;margin-top:2px}.new-pmd .c-recommend{padding-bottom:10px}.new-pmd .c-recommend .recommend-line-height-new{line-height:1.8}.new-pmd .c-recommend .recommend-line-one{height:24px;overflow:hidden}.new-pmd .c-recommend .recommend-line-one .recommend-item-a{display:inline-block;height:24px;line-height:24px;padding:0 6px;background:#F5F5F6;border-radius:6px;text-decoration:none}.new-pmd .c-recommend .recommend-line-one .recommend-item-a:hover{background-color:#F0F0F1}.new-pmd .c-recommend .recommend-icon-bear-circle-new{width:14px;height:15px;line-height:16px;text-align:center;color:#fff;background-color:#91B9F7;margin-bottom:-6px;border-radius:4px;overflow:visible;padding-left:2px;padding-top:1px}.new-pmd .recommend-none-border{border-top:0;margin-bottom:-4px;padding-bottom:8px;border-color:#f2f2f2}.new-pmd .recommend-a-gap{padding-top:3px;padding-bottom:4px;padding-right:6px;padding-left:6px;border-radius:6px}.new-pmd .recommend-a-gap:hover{text-decoration:underline}.new-pmd .new-url-right-icon{position:relative;top:-3px;font-size:16px}.selected-search-box{z-index:300;position:absolute;cursor:pointer;border:0;background:#FFF;box-shadow:0 2px 10px 0 rgba(0,0,0,.1);border-radius:6px;padding:10px 15px 9px 16px}.selected-search-box a,.selected-search-box a:hover,.selected-search-box a:visited{text-decoration:none;color:#333;line-height:13px;height:13px;overflow:hidden}.selected-search-box i{float:left;margin-left:8px;color:#4E6EF2;font-size:14px;width:14px;height:14px;vertical-align:middle;font-weight:bolder}.selected-search-box span{padding-top:20px;margin-top:-20px;overflow:hidden;float:left;font-family:Arial,MicrosoftYaHei;font-size:13px;line-height:13px;max-width:156px;white-space:nowrap;text-overflow:ellipsis;vertical-align:text-bottom}.news-readed .tts-title{color:#771CAA}.news-readed .tts-title a{color:#771CAA}.news-reading .tts-title{color:#315efb}.news-reading .tts-title a{color:#315efb}.open-result-tts .tts{display:inline-block}.darkmode .news-readed .tts-title{color:#EA80FF}.darkmode .news-readed .tts-title a{color:#EA80FF}.darkmode .news-reading .tts-title{color:#FFF762}.darkmode .news-reading .tts-title a{color:#FFF762}.toast-for-result{position:fixed;top:50%;left:50%;height:30px;transform:translate(-50%,-50%);padding:0 16px;line-height:30px;border-radius:15px;box-shadow:0 1px 5px rgba(0,0,0,.1);background:#626675;color:#FFF}.guide-info-new{cursor:pointer;z-index:999;height:34px;padding:0 15px;min-width:120px;background-color:rgba(98,102,117,.8);box-shadow:0 2px 10px 0 rgba(0,0,0,.1);border-radius:6px;text-align:left;position:absolute;line-height:35px;white-space:nowrap}.guide-close{color:#D7D9E0;margin-left:8px;display:inline-block!important;height:34px;text-align:center;vertical-align:top;font-size:13px!important}.guide-close:hover{color:#fff!important}.guide-arrow-bottom{top:-11px;right:10px;background:url(http://pss.bdstatic.com/r/www/cache/static/global/img/arrow-bottom_a44a0c6.png) no-repeat 0 0}.guide-arrow-bottom{position:absolute;opacity:.8;height:11px;width:11px;background-size:11px 11px}.guide-text{display:inline-block;vertical-align:top;font-size:13px;font-family:Arial,sans-serif;color:#fff;margin-right:-5px}.color222{color:#222}.no-outline-while-click:not(.exclude-tabindex){outline:0}#seth{display:inline;behavior:url(#default#homepage)}#setf{display:inline}#sekj{margin-left:14px}#st,#sekj{display:none}.s_ipt_wr{border:1px solid #b6b6b6;border-color:#7b7b7b #b6b6b6 #b6b6b6 #7b7b7b;background:#fff;display:inline-block;vertical-align:top;width:539px;margin-right:0;border-right-width:0;border-color:#b8b8b8 transparent #ccc #b8b8b8;overflow:hidden}.sam_search.s_ipt_wr{border-color:#1D4FFF!important}.wrapper_s .s_ipt_wr{width:478px}.wrapper_s .s_ipt{width:357px}.wrapper_s .s_ipt_tip{width:357px}.sam_search.s_ipt_wr:hover,.sam_search.s_ipt_wr.ipthover{border:color #1D4FFF!important}.sam_search.s_ipt_wr.iptfocus{border-color:#1D4FFF}.s_ipt_wr:hover,.s_ipt_wr.ipthover{border-color:#999 transparent #b3b3b3 #999}.s_ipt_wr.iptfocus{border-color:#4791ff transparent #4791ff #4791ff}.s_ipt_tip{color:#aaa;position:absolute;z-index:-10;font:16px/22px arial;height:32px;line-height:32px;padding-left:7px;overflow:hidden;width:526px}.s_ipt{width:526px;height:22px;font:16px/18px arial;line-height:22px;margin:6px 0 0 7px;padding:0;background:transparent;border:0;outline:0;-webkit-appearance:none}#kw{position:relative}#u .username i{background-position:-408px -144px}.bdpfmenu,.usermenu{border:1px solid #d1d1d1;position:absolute;width:105px;top:36px;z-index:302;box-shadow:1px 1px 5px #d1d1d1;-webkit-box-shadow:1px 1px 5px #d1d1d1;-moz-box-shadow:1px 1px 5px #d1d1d1;-o-box-shadow:1px 1px 5px #d1d1d1}.bdpfmenu{font-size:12px;background-color:#fff}.bdpfmenu a,.usermenu a{display:block;text-align:left;padding:0 9px;line-height:26px;text-decoration:none}.briiconsbg{background-repeat:no-repeat;background-size:300px 18px;background-image:url(http://pss.bdstatic.com/r/www/cache/static/home/img/icons_0c37e9b.png);background-image:url(http://pss.bdstatic.com/r/www/cache/static/home/img/icons_809ae65.gif)\\9}#u{z-index:301;position:absolute;right:0;top:0;margin:21px 9px 5px 0;padding:0}.wrapper_s #u{margin-right:3px}#u a{text-decoration:underline;color:#333;margin:0 7px}.wrapper_s #u a{margin-right:0 6px}#u div a{text-decoration:none}#u a:hover{text-decoration:underline}#u .back_org{color:#666;float:left;display:inline-block;height:24px;line-height:24px}#u .bri{display:inline-block;width:24px;height:24px;float:left;line-height:24px;color:transparent;background:url(http://pss.bdstatic.com/r/www/cache/static/home/img/icons_0c37e9b.png) no-repeat 4px 3px;background-size:300px 18px;background-image:url(http://pss.bdstatic.com/r/www/cache/static/home/img/icons_809ae65.gif)\\9;overflow:hidden}#u .bri:hover,#u .bri.brihover{background-position:-18px 3px}#mCon #imeSIcon{background-position:-408px -144px;margin-left:0}#mCon span{color:#333}.bdpfmenu a:link,.bdpfmenu a:visited,#u .usermenu a:link,#u .usermenu a:visited{background:#fff;color:#333}.bdpfmenu a:hover,.bdpfmenu a:active,#u .usermenu a:hover,#u .usermenu a:active{background:#38f;text-decoration:none;color:#fff}.bdpfmenu{width:70px}.usermenu{width:68px;right:8px}#wrapper .bdnuarrow{width:0;height:0;font-size:0;line-height:0;display:block;position:absolute;top:-10px;left:50%;margin-left:-5px}#wrapper .bdnuarrow em,#wrapper .bdnuarrow i{width:0;height:0;font-size:0;line-height:0;display:block;position:absolute;border:5px solid transparent;border-style:dashed dashed solid}#wrapper .bdnuarrow em{border-bottom-color:#d8d8d8;top:-1px}#wrapper .bdnuarrow i{border-bottom-color:#fff;top:0}#prefpanel{background:#fafafa;display:none;opacity:0;position:fixed;_position:absolute;top:-359px;z-index:500;width:100%;min-width:960px;border-bottom:1px solid #ebebeb}#prefpanel form{_width:850px}#kw_tip{cursor:default;display:none;margin-top:1px}#bds-message-wrapper{top:43px}.quickdelete-wrap{position:relative}.quickdelete-wrap input,.wrapper_l .quickdelete-wrap input{width:500px}.wrapper_s .quickdelete-wrap input{width:402px}input::-ms-clear{display:none}.quickdelete{width:18px;height:18px;font-size:16px;line-height:18px;text-align:center;position:absolute;display:none;top:50%;right:16px;margin-top:-9px;cursor:pointer}.quickdelete-line{display:none;height:14px;width:1px;background-color:#F5F5F6;position:absolute;top:50%;right:0;margin-top:-7px}#form.has-voice.fm .quickdelete{right:95px}#form.has-voice.fm .quickdelete-line{right:83px}#form.has-soutu .quickdelete{right:63px}#form.has-soutu .quickdelete-line{right:51px}#form.sam_search .quickdelete{color:#E4E4E5}#form.sam_search .quickdelete:hover{color:#C4C7CE}#form.sam_search .quickdelete-line{height:24px;margin-top:-12px}#form.has-voice.sam_search.fm .quickdelete{right:111px}#form.has-voice.sam_search.fm .quickdelete-line{right:95px}#form.has-soutu.sam_search .quickdelete{right:71px}#form.has-soutu.sam_search .quickdelete-line{right:55px}#lh a{margin-left:25px}.bdbriwrapper-tuiguang{display:none!important}.soutu-input{padding-left:55px!important}.soutu-input-image{position:absolute;left:1px;top:1px;height:28px;width:49px;z-index:1;padding:0;background:#e6e6e6;border:1px solid #e6e6e6}.soutu-input-thumb{height:28px;width:28px;min-width:1px}.soutu-input-close{position:absolute;right:0;top:0;cursor:pointer;display:block;width:22px;height:28px}.soutu-input-close::after{content:&quot; &quot;;position:absolute;right:3px;top:50%;cursor:pointer;margin-top:-7px;display:block;width:14px;height:14px;background:url(http://pss.bdstatic.com/r/www/cache/static/soutu/img/soutu_icons_new_8abaf8a.png) no-repeat -163px 0}.soutu-input-image:hover .soutu-input-close::after{background-position:-215px 2px}.darkmode.wrapper_new #s_tab .cur-tab,.darkmode.wrapper_new #s_tab a,.darkmode.wrapper_new #u&gt;a{color:#FFD862}.darkmode.wrapper_new #s_tab .cur-tab:hover,.darkmode.wrapper_new #s_tab a:hover,.darkmode.wrapper_new #u&gt;a:hover{color:#FFF762}.darkmode.wrapper_new #u .s-top-img-wrapper{border:1px solid #FFD862}.darkmode.wrapper_new .c-showurl-hover{color:#FFF762}.darkmode.wrapper_new #page{background:0 0}.darkmode.wrapper_new #s_tab .cur-tab:after{background:#C4C7CE}.darkmode.wrapper_new #s_tab .cur-tab:before,.darkmode.wrapper_new #s_tab .s-tab-item:before{color:#A8ACAD}.darkmode.wrapper_new .search-setting .prefpanelrestore{color:#333!important;background-color:#F5F5F6!important}.darkmode #rs,.darkmode #head,.darkmode #foot{background:0 0}.darkmode a{color:#FFD862}.darkmode a:hover{color:#FFF762}.darkmode a:visited{color:#E7BDFF}.darkmode.dark #head{background:#1F1F25}.darkmode.blue #head{background:#141E42}.darkmode #container.sam_newgrid .result .c-tools .c-icon,.darkmode #container.sam_newgrid .result-op .c-tools .c-icon{color:#A8ACAD}.darkmode .index-logo-peak{display:block}.darkmode .index-logo-src,.darkmode .index-logo-srcnew{display:none}.aging-tools-gap #head{position:absolute}.aging-tools-gap #head.s_down{position:fixed;top:0}.fb-hint{margin-top:5px;transition-duration:.9s;opacity:0;display:none;color:red}.fb-img{display:none}.fb-hint-tip{height:44px;line-height:24px;background-color:#38f;color:#fff;box-sizing:border-box;width:269px;font-size:16px;padding:10px;padding-left:14px;position:absolute;top:-65px;right:-15px;border-radius:3px;z-index:299}.fb-hint-tip::before{content:&quot;&quot;;width:0;height:0;display:block;position:absolute;border-left:8px solid transparent;border-right:8px solid transparent;border-top:8px solid #38f;bottom:-8px;right:25px}.fb-mask,.fb-mask-light{position:fixed;top:0;left:0;bottom:0;right:0;z-index:296;background-color:#000;filter:alpha(opacity=60);background-color:rgba(0,0,0,.6)}.fb-mask-light{background-color:#fff;filter:alpha(opacity=0);background-color:rgba(255,255,255,0)}.fb-success .fb-success-text{text-align:center;color:#333;font-size:13px;margin-bottom:14px}.fb-success-text.fb-success-text-title{color:#3b6;font-size:16px;margin-bottom:16px}.fb-success-text-title i{width:16px;height:16px;margin-right:5px}.fb-list-container{box-sizing:border-box;padding:4px 8px;position:absolute;top:0;left:0;bottom:0;right:0;z-index:298;display:block;width:100%;cursor:pointer;margin-top:-5px;margin-left:-5px}.fb-list-container-hover{background-color:#fff;border:2px #38f solid}.fb-list-container-first{box-sizing:border-box;padding-left:10px;padding-top:5px;position:absolute;top:0;left:0;bottom:0;right:0;z-index:297;display:block;width:100%;cursor:pointer;margin-top:-5px;margin-left:-5px;border:3px #f5f5f5 dashed;border-radius:3px}.fb-des-content{font-size:13px!important;color:#000}.fb-des-content::-webkit-input-placeholder{font-size:13px!important;color:#9a9a9a}.fb-des-content:-moz-placeholder{font-size:13px!important;color:#9a9a9a}.fb-des-content::-moz-placeholder{font-size:13px!important;color:#9a9a9a}.fb-des-content:-ms-input-placeholder{font-size:13px!important;color:#9a9a9a}.fb-btn,.fb-btn:visited{color:#333!important}.fb-select{position:relative;background-color:#fff;border:1px solid #ccc}.fb-select i{position:absolute;right:2px;top:7px}.fb-type{width:350px;box-sizing:border-box;height:28px;font-size:13px;line-height:28px;border:0;word-break:normal;word-wrap:normal;position:relative;appearance:none;-moz-appearance:none;-webkit-appearance:none;display:inline-block;vertical-align:middle;line-height:normal;color:#333;background-color:transparent;border-radius:0;overflow:hidden;outline:0;padding-left:5px}.fb-type::-ms-expand{display:none}.fb-btn{display:inline-block;padding:0 14px;margin:0;height:24px;line-height:25px;font-size:13px;filter:chroma(color=#000000);*zoom:1;border:1px solid #d8d8d8;cursor:pointer;font-family:inherit;font-weight:400;text-align:center;vertical-align:middle;background-color:#f9f9f9;overflow:hidden;outline:0}.fb-btn:hover{border-color:#388bff}.fb-btn:active{border-color:#a2a6ab;background-color:#f0f0f0;box-shadow:inset 1px 1px 1px #c7c7c7;-webkit-box-shadow:inset 1px 1px 1px #c7c7c7;-moz-box-shadow:inset 1px 1px 1px #c7c7c7;-o-box-shadow:inset 1px 1px 1px #c7c7c7}a.fb-btn{text-decoration:none}button.fb-btn{height:26px;_line-height:18px;*overflow:visible}button.fb-btn::-moz-focus-inner{padding:0;border:0}.fb-btn .c-icon{margin-top:5px}.fb-btn-primary,.fb-btn-primary:visited{color:#fff!important}.fb-btn-primary{background-color:#388bff;_width:82px;border-color:#3c8dff #408ffe #3680e6}.fb-btn-primary:hover{border-color:#2678ec #2575e7 #1c6fe2 #2677e7;background-color:#388bff;background-image:url(data:image/png;\t\tbase64,iVBORw0KGgoAAAANSUhEUgAAAAEAAAACCAMAAACuX0YVAAAABlBMVEVnpv85i/9PO5r4AAAAD0lEQVR42gEEAPv/AAAAAQAFAAIros7PAAAAAElFTkSuQmCC);background-repeat:repeat-x;box-shadow:1px 1px 1px rgba(0,0,0,.4);-webkit-box-shadow:1px 1px 1px rgba(0,0,0,.4);-moz-box-shadow:1px 1px 1px rgba(0,0,0,.4);-o-box-shadow:1px 1px 1px rgba(0,0,0,.4)}.fb-btn-primary:active{border-color:#178ee3 #1784d0 #177bbf #1780ca;background-color:#388bff;background-image:none;box-shadow:inset 1px 1px 1px rgba(0,0,0,.15);-webkit-box-shadow:inset 1px 1px 1px rgba(0,0,0,.15);-moz-box-shadow:inset 1px 1px 1px rgba(0,0,0,.15);-o-box-shadow:inset 1px 1px 1px rgba(0,0,0,.15)}.fb-feedback-right-dialog{position:fixed;z-index:299;bottom:0;right:0}.fb-feedback-list-dialog,.fb-feedback-list-dialog-left{position:absolute;z-index:299}.fb-feedback-list-dialog:before{content:&quot;&quot;;width:0;height:0;display:block;position:absolute;top:15px;left:-6px;border-top:8px solid transparent;border-bottom:8px solid transparent;border-right:8px solid #fff}.fb-feedback-list-dialog-left:before{content:&quot;&quot;;width:0;height:0;display:block;position:absolute;top:15px;right:-6px;border-top:8px solid transparent;border-bottom:8px solid transparent;border-left:8px solid #fff}.fb-header{padding-left:20px;padding-right:20px;margin-top:14px;text-align:left;-moz-user-select:none}.fb-header .fb-close{color:#e0e0e0}.fb-close{text-decoration:none;margin-top:2px;float:right;font-size:20px;font-weight:700;line-height:18px;color:#666;text-shadow:0 1px 0 #fff}.fb-photo-block{display:none}.fb-photo-block-title{font-size:13px;color:#333;padding-top:10px}.fb-photo-block-title-span{color:#999}.fb-photo-sub-block{margin-top:10px;margin-bottom:10px;width:60px;text-align:center}.fb-photo-sub-block-hide{display:none}.fb-photo-update-block{overflow:hidden}.fb-photo-update-item-block{width:100px;height:100px;background:red;border:solid 1px #ccc;margin-top:10px;float:left;margin-right:20px;position:relative;background:url(http://pss.bdstatic.com/r/www/cache/static/global/img/feedback_add_photo_69ff822.png);background-repeat:no-repeat;background-size:contain;background-position:center center;background-size:24px 24px}.fb-photo-block-title-ex{font-size:13px;float:right}.fb-photo-block-title-ex img{vertical-align:text-top;margin-right:4px}.fb-photo-block-title-span{margin-left:4px;color:#999}.fb-photo-update-item-show-img{width:100%;height:100%;display:none}.fb-photo-update-item-close{width:13px;height:13px;position:absolute;top:-6px;right:-6px;display:none}.fb-photo-block input{display:none}.fb-photo-update-hide{display:none}.fb-photo-update-item-block{width:60px;height:60px;border:solid 1px #ccc;float:left}.fb-photo-block-example{position:absolute;top:0;left:0;display:none;background-color:#fff;padding:14px;padding-top:0;width:392px}.fb-photo-block-example-header{padding-top:14px;overflow:hidden}.fb-photo-block-example-header p{float:left}.fb-photo-block-example-header img{float:right;width:13px;height:13px}.fb-photo-block-example-img img{margin:0 auto;margin-top:14px;display:block;width:200px}.fb-photo-block-example-title{text-align:center}.fb-photo-block-example-title-big{font-size:14px;color:#333}.fb-photo-block-example-title-small{font-size:13px;color:#666}.fb-header a.fb-close:hover{text-decoration:none}.fb-photo-block-upinfo{width:100%}.fb-header-tips{font-size:16px;margin:0;color:#333;text-rendering:optimizelegibility}.fb-body{margin-bottom:0;padding:20px;padding-top:10px;overflow:hidden;text-align:left}.fb-modal,.fb-success,.fb-vertify{background-color:#fff;cursor:default;top:100%;left:100%;width:390px;overflow:hidden;border:1px solid #999;*border:1px solid #ddd;font-size:13px;line-height:1.54}.fb-textarea textarea{width:350px;height:64px;padding:4px;margin:10px 0;vertical-align:top;resize:none;overflow:auto;box-sizing:border-box;display:inline-block;border:1px solid #ccc;-webkit-border-radius:0;-moz-border-radius:0;border-radius:0;-webkit-box-shadow:inset 0 1px 1px rgba(0,0,0,.075);-moz-box-shadow:inset 0 1px 1px rgba(0,0,0,.075);box-shadow:inset 0 1px 1px rgba(0,0,0,.075);-webkit-transition:border linear .2s,box-shadow linear .2s;-moz-transition:border linear .2s,box-shadow linear .2s;-ms-transition:border linear .2s,box-shadow linear .2s;-o-transition:border linear .2s,box-shadow linear .2s;transition:border linear .2s,box-shadow linear .2s}.fb-selected{display:none;width:12px;height:12px;background:url(data:image/png;base64,iVBORw0KGgoAAAANSUhEUgAAAAcAAAAFCAYAAACJmvbYAAAABGdBTUEAALGPC/xhBQAAACBjSFJNAAB6JgAAgIQAAPoAAACA6AAAdTAAAOpgAAA6mAAAF3CculE8AAAABmJLR0QAAAAAAAD5Q7t/AAAACXBIWXMAABYlAAAWJQFJUiTwAAAAJklEQVQI12NgwAEsuv/8xy9h3vX7P6oEKp/BHCqA0yhzdB0MDAwAFXkTK5la4mAAAAAASUVORK5CYII=) no-repeat 2px 3px}.fb-guide{padding-top:10px;color:#9a9a9a;margin-left:-20px;padding-left:20px;border-right-width:0;margin-right:-20px;padding-right:25px;margin-bottom:-20px;padding-bottom:15px}.fb-footer{padding-top:10px;text-align:left}.fb-block{overflow:hidden;position:relative}.fb-block .fb-email{height:28px;line-height:26px;width:350px;border:1px solid #ccc;padding:4px;padding-top:0;box-sizing:border-box;padding-bottom:0;display:inline-block;font-family:&#39;Helvetica Neue&#39;,Helvetica,Arial,sans-serif;vertical-align:middle!important;-webkit-border-radius:0;-moz-border-radius:0;border-radius:0;-webkit-box-shadow:inset 0 1px 1px rgba(0,0,0,.075);-moz-box-shadow:inset 0 1px 1px rgba(0,0,0,.075);box-shadow:inset 0 1px 1px rgba(0,0,0,.075);-webkit-transition:border linear .2s,box-shadow linear .2s;-moz-transition:border linear .2s,box-shadow linear .2s;-ms-transition:border linear .2s,box-shadow linear .2s;-o-transition:border linear .2s,box-shadow linear .2s;transition:border linear .2s,box-shadow linear .2s}.fb-email{font-size:13px!important;color:#000}.fb-email::-webkit-input-placeholder{font-size:13px!important;color:#9a9a9a}.fb-email:-moz-placeholder{font-size:13px!important;color:#9a9a9a}.fb-email::-moz-placeholder{font-size:13px!important;color:#9a9a9a}.fb-email:-ms-input-placeholder{font-size:13px!important;color:#9a9a9a}.fb-cut-block{height:15px;padding-bottom:10px}.fb-canvas-block{height:172px;border:1px solid #ccc;margin-bottom:10px;position:relative;overflow:hidden;width:100%;background-position:center;box-sizing:border-box}.fb-canvas-block img{width:350px;position:absolute}.fb-canvas-block img[src=&quot;&quot;]{opacity:0}.fb-cut-input{width:14px;height:14px;margin:0;margin-right:10px;display:inline-block;border:1px solid #ccc}.fb-cut-btn{width:60px!important}#fb_tips_span{vertical-align:middle}#fb_popwindow{display:block;left:457px;top:69.5px;position:absolute;width:450px;z-index:999999;background:none repeat scroll 0 0 #fff;border:1px solid #999;border-radius:3px;box-shadow:0 0 9px #999;padding:0}#feedback_dialog_content{text-align:center}#fb_right_post_save:hover{background-image:url(data:image/png;\t\tbase64,iVBORw0KGgoAAAANSUhEUgAAAAEAAAACCAMAAACuX0YVAAAABlBMVEVnpv85i/9PO5r4AAAAD0lEQVR42gEEAPv/AAAAAQAFAAIros7PAAAAAElFTkSuQmCC);background-repeat:repeat-x;box-shadow:1px 1px 1px rgba(0,0,0,.4);-webkit-box-shadow:1px 1px 1px rgba(0,0,0,.4);-moz-box-shadow:1px 1px 1px rgba(0,0,0,.4);-o-box-shadow:1px 1px 1px rgba(0,0,0,.4)}.fb-select-icon{position:absolute;bottom:6px;right:5px;width:16px;height:16px;box-sizing:content-box;background-position:center center;background-repeat:no-repeat;background-size:7px 4px;-webkit-background-size:7px 4px;background-image:url(data:image/png;base64,iVBORw0KGgoAAAANSUhEUgAAAAcAAAAECAYAAABCxiV9AAAABGdBTUEAALGPC/xhBQAAACBjSFJNAAB6JgAAgIQAAPoAAACA6AAAdTAAAOpgAAA6mAAAF3CculE8AAAABmJLR0QAAAAAAAD5Q7t/AAAACXBIWXMAAAsSAAALEgHS3X78AAAAKElEQVQI12Ps7Or6z4ADMDIwMDBgU1BeVsbICOMgKygvK2PEMAbdBAAhxA08t5Q3VgAAAABJRU5ErkJggg==)}.fb-select-shorter{position:relative;min-height:28px}.fb-type-container{line-height:28px;position:absolute;top:28px;width:100%;background-color:#fff;border:1px solid #ccc;z-index:300;margin-left:-1px;display:none}.fb-type-item,.fb-type-selected{height:28px;line-height:30px;padding-left:4px}.fb-type-item:hover{background:#f5F5F5}.fb-checkbox{position:relative;border-bottom:1px solid #eee;height:34px;line-height:35px}.fb-checkbox:last-child{border-bottom:0}.fb-list-wrapper{margin-top:-10px}.fb-textarea-sug textarea{margin-top:0}&lt;/style&gt;\n",
      "\n",
      "</textarea>\n",
      "\n",
      "<textarea id=\"s_index_off_css\" style=\"display:none;\">\n",
      "\n",
      "<style data-for=\"result\" id=\"css_result\" type=\"text/css\">#ftCon{display:none}\n",
      "\n",
      "#qrcode{display:none}\n",
      "\n",
      "#pad-version{display:none}\n",
      "\n",
      "#index_guide{display:none}\n",
      "\n",
      "#index_logo{display:none}\n",
      "\n",
      "#u1{display:none}\n",
      "\n",
      ".s-top-left{display:none}\n",
      "\n",
      ".s_ipt_wr{height:32px}\n",
      "\n",
      "body{padding:0}\n",
      "\n",
      "#head .c-icon-bear-round{display:none}\n",
      "\n",
      ".index_tab_top{display:none}\n",
      "\n",
      ".index_tab_bottom{display:none}\n",
      "\n",
      "#lg{display:none}\n",
      "\n",
      "#m{display:none}\n",
      "\n",
      "#ftCon{display:none}\n",
      "\n",
      "#bottom_layer,#bottom_space,#s_wrap{display:none}\n",
      "\n",
      ".s-isindex-wrap{display:none}\n",
      "\n",
      "#nv{display:none!important}\n",
      "\n",
      "#head .head_wrapper{display:block;padding-top:0!important}\n",
      "\n",
      ".s-bottom-ctner{display:none!important}\n",
      "\n",
      "#head .s-upfunc-menus{display:none}\n",
      "\n",
      "#s_skin_upload{display:none}</style></textarea><div id=\"wrapper\" class=\"wrapper_new\"><script>if(window.bds&&bds.util&&bds.util.setContainerWidth){bds.util.setContainerWidth();}</script><div id=\"head\"><div id=\"s_top_wrap\" class=\"s-top-wrap s-isindex-wrap  \"><div class=\"s-top-nav\"></div><div class=\"s-center-box\"></div></div><div id=\"u\"><a class=\"toindex\" href=\"/\">百度首页</a><a href=\"javascript:;\" name=\"tj_settingicon\" class=\"pf\">设置<i class=\"c-icon c-icon-triangle-down\"></i></a><a href=\"https://passport.baidu.com/v2/?login&tpl=mn&u=http%3A%2F%2Fwww.baidu.com%2F&sms=5\" name=\"tj_login\" class=\"lb\" onclick=\"return false;\">登录</a><div class=\"bdpfmenu\"></div></div><div id=\"s-top-left\" class=\"s-top-left-new s-isindex-wrap\"><a href=\"http://news.baidu.com\" target=\"_blank\" class=\"mnav c-font-normal c-color-t\">新闻</a><a href=\"https://www.hao123.com?src=from_pc\"  target=\"_blank\" class=\"mnav c-font-normal c-color-t\">hao123</a><a href=\"http://map.baidu.com\"  target=\"_blank\" class=\"mnav c-font-normal c-color-t\">地图</a><a href=\"http://tieba.baidu.com/\" target=\"_blank\" class=\"mnav c-font-normal c-color-t\">贴吧</a><a href=\"https://haokan.baidu.com/?sfrom=baidu-top\"  target=\"_blank\" class=\"mnav c-font-normal c-color-t\">视频</a><a href=\"http://image.baidu.com/\" target=\"_blank\" class=\"mnav c-font-normal c-color-t\"> 图片</a><a href=\"https://pan.baidu.com?from=1026962h\" target=\"_blank\" class=\"mnav c-font-normal c-color-t\">网盘</a><div class=\"mnav s-top-more-btn\"><a href=\"http://www.baidu.com/more/\" name=\"tj_briicon\" class=\"s-bri c-font-normal c-color-t\" target=\"_blank\">更多</a><div class='s-top-more' id=\"s-top-more\"><div class='s-top-more-content row-1 clearfix'><a class=\"img-spacing\" href='http://fanyi.baidu.com/' target='_blank' name='tj_fanyi'><img src='http://ss.bdimg.com/static/superman/img/topnav/newfanyi-da0cea8f7e.png'/><div class=\"s-top-more-title c-font-normal c-color-t\">翻译</div></a><a class=\"img-spacing\" href='http://xueshu.baidu.com/' target='_blank' name='tj_xueshu'><img src='http://ss.bdimg.com/static/superman/img/topnav/newxueshuicon-a5314d5c83.png'/><div class=\"s-top-more-title c-font-normal c-color-t\">学术</div></a><a href='https://wenku.baidu.com' target='_blank' name='tj_wenku'><img src='http://ss.bdimg.com/static/superman/img/topnav/newwenku-d8c9b7b0fb.png'/><div class=\"s-top-more-title c-font-normal c-color-t\">文库</div></a></div><div class='s-top-more-content row-2 clearfix'><a class=\"img-spacing\" href='https://baike.baidu.com' target='_blank' name='tj_baike'><img src='http://ss.bdimg.com/static/superman/img/topnav/newbaike-889054f349.png'/><div class=\"s-top-more-title c-font-normal c-color-t\">百科</div></a><a class=\"img-spacing\" href='https://zhidao.baidu.com' target='_blank' name='tj_zhidao'><img src='http://ss.bdimg.com/static/superman/img/topnav/newzhidao-da1cf444b0.png'/><div class=\"s-top-more-title c-font-normal c-color-t\">知道</div></a><a href='https://jiankang.baidu.com/widescreen/home' target='_blank' name='tj_jiankang'><img src='http://ss.bdimg.com/static/superman/img/topnav/newjiankang-f03b804b4b.png'/><div class=\"s-top-more-title c-font-normal c-color-t\">健康</div></a></div><div class='s-top-more-content row-3 clearfix'><a class=\"img-spacing\" href='http://e.baidu.com/ebaidu/home?refer=887' target='_blank' name='tj_yingxiaotuiguang'><img src='http://ss.bdimg.com/static/superman/img/topnav/yingxiaoicon-612169cc36.png'/><div class=\"s-top-more-title c-font-normal c-color-t\">营销推广</div></a><a class=\"img-spacing\" href='https://live.baidu.com/?source=search_home' target='_blank' name='tj_live'><img src='http://ss.bdimg.com/static/superman/img/topnav/newzhibo-a6a0831ecd.png'/><div class=\"s-top-more-title c-font-normal c-color-t\">直播</div></a><a href='http://music.taihe.com' target='_blank' name='tj_mp3'><img src='http://ss.bdimg.com/static/superman/img/topnav/newyinyue-03ecd1e9b9.png'/><div class=\"s-top-more-title c-font-normal c-color-t\">音乐</div></a></div><div class=\"s-top-tomore\"><a class=\"c-color-gray2 c-font-normal\" href='http://www.baidu.com/more/' target='_blank' name='tj_more'>查看全部百度产品 ></a></div></div></div></div><div id=\"u1\" class=\"s-top-right s-isindex-wrap\"><span class=\"s-top-right-text c-font-normal c-color-t s-top-right-new\" id=\"s-usersetting-top\" name=\"tj_settingicon\">设置</span><a class=\"s-top-login-btn c-btn c-btn-primary c-btn-mini lb\" style=\"position:relative;overflow: visible;\" id=\"s-top-loginbtn\"  href=\"https://passport.baidu.com/v2/?login&tpl=mn&u=http%3A%2F%2Fwww.baidu.com%2F&sms=5\" name=\"tj_login\" onclick=\"return false;\">登录</a><div id=\"s-user-setting-menu\" class=\"s-top-userset-menu c-floating-box c-font-normal\"><div class=\"s-user-setting-pfmenu\"></div><a class=\"s-set-hotsearch set-hide\" href=\"javascript:;\">关闭热搜</a><a class=\"s-set-hotsearch set-show\" href=\"javascript:;\">开启热搜</a></div><div class=\"guide-info \"><i class=\"c-icon guide-icon\">&#xe625;</i><span>牛年贺岁，登录设置新春皮肤！</span><i class=\"c-icon guide-close\">&#xe610;</i></div></div>\n",
      "\n",
      "<div id=\"head_wrapper\" class=\"head_wrapper s-isindex-wrap nologin \"><div class=\"s_form s_form_nologin\"><div class=\"s_form_wrapper\"><style>.index-logo-srcnew,.index-logo-peak {display: none;}@media (-webkit-min-device-pixel-ratio: 2),(min--moz-device-pixel-ratio: 2),(-o-min-device-pixel-ratio: 2),(min-device-pixel-ratio: 2){.index-logo-src {display: none;}.index-logo-srcnew {display: inline;}}</style><div id=\"lg\" class=\"s-p-top\"><img hidefocus=\"true\" id=\"s_lg_img\" class='index-logo-src' src=\"//www.baidu.com/img/PCtm_d9c8750bed0b3c7d089fa7d55720d6cf.png\" width=\"270\" height=\"129\" onerror=\"this.src='//www.baidu.com/img/flexible/logo/pc/index.png';this.onerror=null;\" usemap=\"#mp\"><img hidefocus=\"true\" id=\"s_lg_img_new\" class='index-logo-srcnew' src=\"//www.baidu.com/img/PCtm_d9c8750bed0b3c7d089fa7d55720d6cf.png\" width=\"270\" height=\"129\" onerror=\"this.src='//www.baidu.com/img/flexible/logo/pc/index@2.png';this.onerror=null;\" usemap=\"#mp\"><img hidefocus=\"true\" id=\"s_lg_img_aging\" class='index-logo-aging-tools' src=\"//www.baidu.com/img/PCfb_5bf082d29588c07f842ccde3f97243ea.png\" width=\"270\" height=\"129\" onerror=\"this.src='//www.baidu.com/img/flexible/logo/pc/index@2.png';this.onerror=null;\" usemap=\"#mp\"><map name=\"mp\"><area style=\"outline:none;\" hidefocus=\"true\" shape=\"rect\" coords=\"0,0,270,129\" href=\"//www.baidu.com/s?wd=%E7%99%BE%E5%BA%A6%E7%83%AD%E6%90%9C&sa=ire_dl_gh_logo_texing&rsv_dl=igh_logo_pcs\" onmousedown=\"return ns_c({fm: 'tab', tab: 'felogo', rsv_platform: 'wwwhome' })\" target=\"_blank\" title=\"点击一下，了解更多\"onmousedown=\"return ns_c({'fm':'behs','tab':'bdlogo'})\"></map></div><a href=\"/\" id=\"result_logo\" onmousedown=\"return c({'fm':'tab','tab':'logo'})\"><img class='index-logo-src' src=\"//www.baidu.com/img/flexible/logo/pc/result.png\" alt=\"到百度首页\" title=\"到百度首页\"><img class='index-logo-srcnew' src=\"//www.baidu.com/img/flexible/logo/pc/result@2.png\" alt=\"到百度首页\" title=\"到百度首页\"><img class='index-logo-peak' src=\"//www.baidu.com/img/flexible/logo/pc/peak-result.png\" alt=\"到百度首页\" title=\"到百度首页\"></a><form id=\"form\" name=\"f\" action=\"/s\" class=\"fm \"><input type=\"hidden\" name=\"ie\" value=\"utf-8\"><input type=\"hidden\" name=\"f\" value=\"8\"><input type=\"hidden\" name=\"rsv_bp\" value=\"1\"><input type=\"hidden\" name=\"rsv_idx\" value=\"1\"><input type=hidden name=ch value=\"\"><input type=hidden name=tn value=\"baidu\"><input type=hidden name=bar value=\"\"><span class=\"bg s_ipt_wr new-pmd quickdelete-wrap\"><input id=\"kw\" name=\"wd\" class=\"s_ipt\" value=\"\" maxlength=\"255\" autocomplete=\"off\"><i class=\"c-icon quickdelete c-color-gray2\" title=\"清空\">&#xe610;</i><i class=\"quickdelete-line\"></i></span><span class=\"bg s_btn_wr\"><input type=\"submit\" id=\"su\" value=\"百度一下\" class=\"bg s_btn\"></span><span class=\"tools\"><span id=\"mHolder\"><div id=\"mCon\"><span>输入法</span></div><ul id=\"mMenu\"><li><a href=\"javascript:;\" name=\"ime_hw\">手写</a></li><li><a href=\"javascript:;\" name=\"ime_py\">拼音</a></li><li class=\"ln\"></li><li><a href=\"javascript:;\" name=\"ime_cl\">关闭</a></li></ul></span></span><input type=\"hidden\" name=\"rn\" value=\"\"><input type=\"hidden\" name=\"fenlei\" value=\"256\"><input type=\"hidden\" name=\"oq\" value=\"\"><input type=\"hidden\" name=\"rsv_pq\" value=\"9e674521000ac51a\"><input type=\"hidden\" name=\"rsv_t\" value=\"2b88aHaczIGuE/Xk50I6zADYuLMPEvspQfGBzFpKTPpGgheq4q0K8bKoD90\"><input type=\"hidden\" name=\"rqlang\" value=\"cn\"></form><div id=\"m\" class=\"under-searchbox-tips s_lm_hide \"><div id=\"lm-new\"></div></div><div id=\"s-hotsearch-wrapper\" class=\"s-isindex-wrap s-hotsearch-wrapper hide \"><div class=\"s-hotsearch-title\"><a class=\"hot-title\" href=\"https://top.baidu.com/board?platform=pc&sa=pcindex_entry\" target=\"_blank\"><div class=\"title-text c-font-medium c-color-t\" aria-label=\"百度热搜\"><i class=\"c-icon\">&#xe687;</i><i class=\"c-icon arrow\">&#xe613;</i></div></a><a id=\"hotsearch-refresh-btn\" class=\"hot-refresh c-font-normal c-color-gray2\"><i class=\"c-icon refresh-icon\">&#xe619;</i><span class=\"hot-refresh-text\">换一换</span></a></div><ul class=\"s-hotsearch-content\" id=\"hotsearch-content-wrapper\"><li class=\"hotsearch-item odd\" data-index=\"0\"><a class=\"title-content  c-link c-font-medium c-line-clamp1\" href=\"https://www.baidu.com/s?wd=%E6%B2%A1%E6%9C%89%E4%B8%80%E5%9C%BA%E7%96%AB%E6%83%85%E4%B8%8D%E4%BC%9A%E8%BF%87%E5%8E%BB&amp;sa=fyb_n_homepage&amp;rsv_dl=fyb_n_homepage&amp;from=super&amp;cl=3&amp;tn=baidutop10&amp;fr=top1000&amp;rsv_idx=2&amp;hisfilter=1\" target=\"_blank\" ><div class=\"title-content-noindex\" style=\"display: none;\"></div><i class=\"c-icon title-content-top-icon c-color-red c-gap-right-small\" style=\"display: ;\">&#xe62e;</i><span class=\"title-content-index c-index-single c-index-single-hot0\" style=\"display: none;\">0</span><span class=\"title-content-title\">没有一场疫情不会过去</span></a><span class=\"title-content-mark ie-vertical c-text c-gap-left-small \"></span></li><li class=\"hotsearch-item even\" data-index=\"3\"><a class=\"title-content tag-width c-link c-font-medium c-line-clamp1\" href=\"https://www.baidu.com/s?wd=%E4%B8%8A%E6%B5%B7%E6%96%B0%E5%A2%9E%E6%84%9F%E6%9F%93%E8%80%85%E9%A6%96%E4%B8%8B%E9%99%8D+%E4%B8%93%E5%AE%B6%E8%A7%A3%E8%AF%BB&amp;sa=fyb_n_homepage&amp;rsv_dl=fyb_n_homepage&amp;from=super&amp;cl=3&amp;tn=baidutop10&amp;fr=top1000&amp;rsv_idx=2&amp;hisfilter=1\" target=\"_blank\" ><div class=\"title-content-noindex\" style=\"display: none;\"></div><i class=\"c-icon title-content-top-icon c-color-red c-gap-right-small\" style=\"display: none;\">&#xe62e;</i><span class=\"title-content-index c-index-single c-index-single-hot3\" style=\"display: ;\">3</span><span class=\"title-content-title\">上海新增感染者首下降 专家解读</span></a><span class=\"title-content-mark ie-vertical c-text c-gap-left-small c-text-hot\">热</span></li><li class=\"hotsearch-item odd\" data-index=\"1\"><a class=\"title-content tag-width c-link c-font-medium c-line-clamp1\" href=\"https://www.baidu.com/s?wd=%E7%AC%AC%E4%B8%80%E6%89%B9%E8%A7%A3%E5%B0%81%E7%9A%84%E4%B8%8A%E6%B5%B7%E4%BA%BA&amp;sa=fyb_n_homepage&amp;rsv_dl=fyb_n_homepage&amp;from=super&amp;cl=3&amp;tn=baidutop10&amp;fr=top1000&amp;rsv_idx=2&amp;hisfilter=1\" target=\"_blank\" ><div class=\"title-content-noindex\" style=\"display: none;\"></div><i class=\"c-icon title-content-top-icon c-color-red c-gap-right-small\" style=\"display: none;\">&#xe62e;</i><span class=\"title-content-index c-index-single c-index-single-hot1\" style=\"display: ;\">1</span><span class=\"title-content-title\">第一批解封的上海人</span></a><span class=\"title-content-mark ie-vertical c-text c-gap-left-small c-text-hot\">热</span></li><li class=\"hotsearch-item even\" data-index=\"4\"><a class=\"title-content tag-width c-link c-font-medium c-line-clamp1\" href=\"https://www.baidu.com/s?wd=%E4%B8%8A%E6%B5%B7%E5%86%B0%E6%9F%9C%E9%94%80%E9%87%8F%E7%BF%BB%E5%80%8D&amp;sa=fyb_n_homepage&amp;rsv_dl=fyb_n_homepage&amp;from=super&amp;cl=3&amp;tn=baidutop10&amp;fr=top1000&amp;rsv_idx=2&amp;hisfilter=1\" target=\"_blank\" ><div class=\"title-content-noindex\" style=\"display: none;\"></div><i class=\"c-icon title-content-top-icon c-color-red c-gap-right-small\" style=\"display: none;\">&#xe62e;</i><span class=\"title-content-index c-index-single c-index-single-hot4\" style=\"display: ;\">4</span><span class=\"title-content-title\">上海冰柜销量翻倍</span></a><span class=\"title-content-mark ie-vertical c-text c-gap-left-small c-text-new\">新</span></li><li class=\"hotsearch-item odd\" data-index=\"2\"><a class=\"title-content tag-width c-link c-font-medium c-line-clamp1\" href=\"https://www.baidu.com/s?wd=%E5%9B%9B%E5%B7%9D13%E7%BA%A7%E5%A4%A7%E9%A3%8E%E8%87%B420%E4%BC%A4+%E7%9B%B4%E5%87%BB%E7%8E%B0%E5%9C%BA&amp;sa=fyb_n_homepage&amp;rsv_dl=fyb_n_homepage&amp;from=super&amp;cl=3&amp;tn=baidutop10&amp;fr=top1000&amp;rsv_idx=2&amp;hisfilter=1\" target=\"_blank\" ><div class=\"title-content-noindex\" style=\"display: none;\"></div><i class=\"c-icon title-content-top-icon c-color-red c-gap-right-small\" style=\"display: none;\">&#xe62e;</i><span class=\"title-content-index c-index-single c-index-single-hot2\" style=\"display: ;\">2</span><span class=\"title-content-title\">四川13级大风致20伤 直击现场</span></a><span class=\"title-content-mark ie-vertical c-text c-gap-left-small c-text-new\">新</span></li><li class=\"hotsearch-item even\" data-index=\"5\"><a class=\"title-content tag-width c-link c-font-medium c-line-clamp1\" href=\"https://www.baidu.com/s?wd=%E6%B2%B9%E4%BB%B7%E5%91%A8%E4%BA%94%E6%88%96%E8%BF%8E%E4%BB%8A%E5%B9%B4%E9%A6%96%E6%AC%A1%E5%A4%A7%E5%B9%85%E4%B8%8B%E8%B0%83&amp;sa=fyb_n_homepage&amp;rsv_dl=fyb_n_homepage&amp;from=super&amp;cl=3&amp;tn=baidutop10&amp;fr=top1000&amp;rsv_idx=2&amp;hisfilter=1\" target=\"_blank\" ><div class=\"title-content-noindex\" style=\"display: none;\"></div><i class=\"c-icon title-content-top-icon c-color-red c-gap-right-small\" style=\"display: none;\">&#xe62e;</i><span class=\"title-content-index c-index-single c-index-single-hot5\" style=\"display: ;\">5</span><span class=\"title-content-title\">油价周五或迎今年首次大幅下调</span></a><span class=\"title-content-mark ie-vertical c-text c-gap-left-small c-text-new\">新</span></li></ul></div><textarea id=\"hotsearch_data\" style=\"display:none;\">{\"hotsearch\":[{\"pure_title\": \"没有一场疫情不会过去\",\"linkurl\": \"https%3A//www.baidu.com/s%3Fwd%3D%25E6%25B2%25A1%25E6%259C%2589%25E4%25B8%2580%25E5%259C%25BA%25E7%2596%25AB%25E6%2583%2585%25E4%25B8%258D%25E4%25BC%259A%25E8%25BF%2587%25E5%258E%25BB%26sa%3Dfyb_n_homepage%26rsv_dl%3Dfyb_n_homepage%26from%3Dsuper%26cl%3D3%26tn%3Dbaidutop10%26fr%3Dtop1000%26rsv_idx%3D2%26hisfilter%3D1\",\"views\": \"\",\"isViewed\": \"\",\"isNew\": \"\",\"heat_score\": \"\",\"hotTags\": \"0\",\"pre_tag\": \"\",\"index\": \"0\"},{\"pure_title\": \"第一批解封的上海人\",\"linkurl\": \"https%3A//www.baidu.com/s%3Fwd%3D%25E7%25AC%25AC%25E4%25B8%2580%25E6%2589%25B9%25E8%25A7%25A3%25E5%25B0%2581%25E7%259A%2584%25E4%25B8%258A%25E6%25B5%25B7%25E4%25BA%25BA%26sa%3Dfyb_n_homepage%26rsv_dl%3Dfyb_n_homepage%26from%3Dsuper%26cl%3D3%26tn%3Dbaidutop10%26fr%3Dtop1000%26rsv_idx%3D2%26hisfilter%3D1\",\"views\": \"\",\"isViewed\": \"\",\"isNew\": \"\",\"heat_score\": \"\",\"hotTags\": \"3\",\"pre_tag\": \"\",\"index\": \"1\"},{\"pure_title\": \"四川13级大风致20伤 直击现场\",\"linkurl\": \"https%3A//www.baidu.com/s%3Fwd%3D%25E5%259B%259B%25E5%25B7%259D13%25E7%25BA%25A7%25E5%25A4%25A7%25E9%25A3%258E%25E8%2587%25B420%25E4%25BC%25A4%2B%25E7%259B%25B4%25E5%2587%25BB%25E7%258E%25B0%25E5%259C%25BA%26sa%3Dfyb_n_homepage%26rsv_dl%3Dfyb_n_homepage%26from%3Dsuper%26cl%3D3%26tn%3Dbaidutop10%26fr%3Dtop1000%26rsv_idx%3D2%26hisfilter%3D1\",\"views\": \"\",\"isViewed\": \"\",\"isNew\": \"\",\"heat_score\": \"\",\"hotTags\": \"1\",\"pre_tag\": \"\",\"index\": \"2\"},{\"pure_title\": \"上海新增感染者首下降 专家解读\",\"linkurl\": \"https%3A//www.baidu.com/s%3Fwd%3D%25E4%25B8%258A%25E6%25B5%25B7%25E6%2596%25B0%25E5%25A2%259E%25E6%2584%259F%25E6%259F%2593%25E8%2580%2585%25E9%25A6%2596%25E4%25B8%258B%25E9%2599%258D%2B%25E4%25B8%2593%25E5%25AE%25B6%25E8%25A7%25A3%25E8%25AF%25BB%26sa%3Dfyb_n_homepage%26rsv_dl%3Dfyb_n_homepage%26from%3Dsuper%26cl%3D3%26tn%3Dbaidutop10%26fr%3Dtop1000%26rsv_idx%3D2%26hisfilter%3D1\",\"views\": \"\",\"isViewed\": \"\",\"isNew\": \"\",\"heat_score\": \"\",\"hotTags\": \"3\",\"pre_tag\": \"\",\"index\": \"3\"},{\"pure_title\": \"上海冰柜销量翻倍\",\"linkurl\": \"https%3A//www.baidu.com/s%3Fwd%3D%25E4%25B8%258A%25E6%25B5%25B7%25E5%2586%25B0%25E6%259F%259C%25E9%2594%2580%25E9%2587%258F%25E7%25BF%25BB%25E5%2580%258D%26sa%3Dfyb_n_homepage%26rsv_dl%3Dfyb_n_homepage%26from%3Dsuper%26cl%3D3%26tn%3Dbaidutop10%26fr%3Dtop1000%26rsv_idx%3D2%26hisfilter%3D1\",\"views\": \"\",\"isViewed\": \"\",\"isNew\": \"\",\"heat_score\": \"\",\"hotTags\": \"1\",\"pre_tag\": \"\",\"index\": \"4\"},{\"pure_title\": \"油价周五或迎今年首次大幅下调\",\"linkurl\": \"https%3A//www.baidu.com/s%3Fwd%3D%25E6%25B2%25B9%25E4%25BB%25B7%25E5%2591%25A8%25E4%25BA%2594%25E6%2588%2596%25E8%25BF%258E%25E4%25BB%258A%25E5%25B9%25B4%25E9%25A6%2596%25E6%25AC%25A1%25E5%25A4%25A7%25E5%25B9%2585%25E4%25B8%258B%25E8%25B0%2583%26sa%3Dfyb_n_homepage%26rsv_dl%3Dfyb_n_homepage%26from%3Dsuper%26cl%3D3%26tn%3Dbaidutop10%26fr%3Dtop1000%26rsv_idx%3D2%26hisfilter%3D1\",\"views\": \"\",\"isViewed\": \"\",\"isNew\": \"\",\"heat_score\": \"\",\"hotTags\": \"1\",\"pre_tag\": \"\",\"index\": \"5\"},{\"pure_title\": \"上海小区居民回应居委会殴打两女子\",\"linkurl\": \"https%3A//www.baidu.com/s%3Fwd%3D%25E4%25B8%258A%25E6%25B5%25B7%25E5%25B0%258F%25E5%258C%25BA%25E5%25B1%2585%25E6%25B0%2591%25E5%259B%259E%25E5%25BA%2594%25E5%25B1%2585%25E5%25A7%2594%25E4%25BC%259A%25E6%25AE%25B4%25E6%2589%2593%25E4%25B8%25A4%25E5%25A5%25B3%25E5%25AD%2590%26sa%3Dfyb_n_homepage%26rsv_dl%3Dfyb_n_homepage%26from%3Dsuper%26cl%3D3%26tn%3Dbaidutop10%26fr%3Dtop1000%26rsv_idx%3D2%26hisfilter%3D1\",\"views\": \"\",\"isViewed\": \"\",\"isNew\": \"\",\"heat_score\": \"\",\"hotTags\": \"1\",\"pre_tag\": \"\",\"index\": \"6\"},{\"pure_title\": \"女子找人冒充前夫签字卖掉儿子房产\",\"linkurl\": \"https%3A//www.baidu.com/s%3Fwd%3D%25E5%25A5%25B3%25E5%25AD%2590%25E6%2589%25BE%25E4%25BA%25BA%25E5%2586%2592%25E5%2585%2585%25E5%2589%258D%25E5%25A4%25AB%25E7%25AD%25BE%25E5%25AD%2597%25E5%258D%2596%25E6%258E%2589%25E5%2584%25BF%25E5%25AD%2590%25E6%2588%25BF%25E4%25BA%25A7%26sa%3Dfyb_n_homepage%26rsv_dl%3Dfyb_n_homepage%26from%3Dsuper%26cl%3D3%26tn%3Dbaidutop10%26fr%3Dtop1000%26rsv_idx%3D2%26hisfilter%3D1\",\"views\": \"\",\"isViewed\": \"\",\"isNew\": \"\",\"heat_score\": \"\",\"hotTags\": \"0\",\"pre_tag\": \"\",\"index\": \"7\"},{\"pure_title\": \"韩国公司回应火鸡面保质期双标\",\"linkurl\": \"https%3A//www.baidu.com/s%3Fwd%3D%25E9%259F%25A9%25E5%259B%25BD%25E5%2585%25AC%25E5%258F%25B8%25E5%259B%259E%25E5%25BA%2594%25E7%2581%25AB%25E9%25B8%25A1%25E9%259D%25A2%25E4%25BF%259D%25E8%25B4%25A8%25E6%259C%259F%25E5%258F%258C%25E6%25A0%2587%26sa%3Dfyb_n_homepage%26rsv_dl%3Dfyb_n_homepage%26from%3Dsuper%26cl%3D3%26tn%3Dbaidutop10%26fr%3Dtop1000%26rsv_idx%3D2%26hisfilter%3D1\",\"views\": \"\",\"isViewed\": \"\",\"isNew\": \"\",\"heat_score\": \"\",\"hotTags\": \"0\",\"pre_tag\": \"\",\"index\": \"8\"},{\"pure_title\": \"河南启动重大气象灾害四级应急响应\",\"linkurl\": \"https%3A//www.baidu.com/s%3Fwd%3D%25E6%25B2%25B3%25E5%258D%2597%25E5%2590%25AF%25E5%258A%25A8%25E9%2587%258D%25E5%25A4%25A7%25E6%25B0%2594%25E8%25B1%25A1%25E7%2581%25BE%25E5%25AE%25B3%25E5%259B%259B%25E7%25BA%25A7%25E5%25BA%2594%25E6%2580%25A5%25E5%2593%258D%25E5%25BA%2594%26sa%3Dfyb_n_homepage%26rsv_dl%3Dfyb_n_homepage%26from%3Dsuper%26cl%3D3%26tn%3Dbaidutop10%26fr%3Dtop1000%26rsv_idx%3D2%26hisfilter%3D1\",\"views\": \"\",\"isViewed\": \"\",\"isNew\": \"\",\"heat_score\": \"\",\"hotTags\": \"0\",\"pre_tag\": \"\",\"index\": \"9\"},{\"pure_title\": \"上海新增本土“994+22348”\",\"linkurl\": \"https%3A//www.baidu.com/s%3Fwd%3D%25E4%25B8%258A%25E6%25B5%25B7%25E6%2596%25B0%25E5%25A2%259E%25E6%259C%25AC%25E5%259C%259F%25E2%2580%259C994%252B22348%25E2%2580%259D%26sa%3Dfyb_n_homepage%26rsv_dl%3Dfyb_n_homepage%26from%3Dsuper%26cl%3D3%26tn%3Dbaidutop10%26fr%3Dtop1000%26rsv_idx%3D2%26hisfilter%3D1\",\"views\": \"\",\"isViewed\": \"\",\"isNew\": \"\",\"heat_score\": \"\",\"hotTags\": \"3\",\"pre_tag\": \"\",\"index\": \"10\"},{\"pure_title\": \"13级大风吹走一家三口？官方回应\",\"linkurl\": \"https%3A//www.baidu.com/s%3Fwd%3D13%25E7%25BA%25A7%25E5%25A4%25A7%25E9%25A3%258E%25E5%2590%25B9%25E8%25B5%25B0%25E4%25B8%2580%25E5%25AE%25B6%25E4%25B8%2589%25E5%258F%25A3%25EF%25BC%259F%25E5%25AE%2598%25E6%2596%25B9%25E5%259B%259E%25E5%25BA%2594%26sa%3Dfyb_n_homepage%26rsv_dl%3Dfyb_n_homepage%26from%3Dsuper%26cl%3D3%26tn%3Dbaidutop10%26fr%3Dtop1000%26rsv_idx%3D2%26hisfilter%3D1\",\"views\": \"\",\"isViewed\": \"\",\"isNew\": \"\",\"heat_score\": \"\",\"hotTags\": \"0\",\"pre_tag\": \"\",\"index\": \"11\"},{\"pure_title\": \"实拍重庆大风暴雨 有人险被“吹飞”\",\"linkurl\": \"https%3A//www.baidu.com/s%3Fwd%3D%25E5%25AE%259E%25E6%258B%258D%25E9%2587%258D%25E5%25BA%2586%25E5%25A4%25A7%25E9%25A3%258E%25E6%259A%25B4%25E9%259B%25A8%2B%25E6%259C%2589%25E4%25BA%25BA%25E9%2599%25A9%25E8%25A2%25AB%25E2%2580%259C%25E5%2590%25B9%25E9%25A3%259E%25E2%2580%259D%26sa%3Dfyb_n_homepage%26rsv_dl%3Dfyb_n_homepage%26from%3Dsuper%26cl%3D3%26tn%3Dbaidutop10%26fr%3Dtop1000%26rsv_idx%3D2%26hisfilter%3D1\",\"views\": \"\",\"isViewed\": \"\",\"isNew\": \"\",\"heat_score\": \"\",\"hotTags\": \"0\",\"pre_tag\": \"\",\"index\": \"12\"},{\"pure_title\": \"张伯礼：本轮疫情持续时间可能较长\",\"linkurl\": \"https%3A//www.baidu.com/s%3Fwd%3D%25E5%25BC%25A0%25E4%25BC%25AF%25E7%25A4%25BC%25EF%25BC%259A%25E6%259C%25AC%25E8%25BD%25AE%25E7%2596%25AB%25E6%2583%2585%25E6%258C%2581%25E7%25BB%25AD%25E6%2597%25B6%25E9%2597%25B4%25E5%258F%25AF%25E8%2583%25BD%25E8%25BE%2583%25E9%2595%25BF%26sa%3Dfyb_n_homepage%26rsv_dl%3Dfyb_n_homepage%26from%3Dsuper%26cl%3D3%26tn%3Dbaidutop10%26fr%3Dtop1000%26rsv_idx%3D2%26hisfilter%3D1\",\"views\": \"\",\"isViewed\": \"\",\"isNew\": \"\",\"heat_score\": \"\",\"hotTags\": \"0\",\"pre_tag\": \"\",\"index\": \"13\"},{\"pure_title\": \"男子花3小时在身上作画隐身花丛\",\"linkurl\": \"https%3A//www.baidu.com/s%3Fwd%3D%25E7%2594%25B7%25E5%25AD%2590%25E8%258A%25B13%25E5%25B0%258F%25E6%2597%25B6%25E5%259C%25A8%25E8%25BA%25AB%25E4%25B8%258A%25E4%25BD%259C%25E7%2594%25BB%25E9%259A%2590%25E8%25BA%25AB%25E8%258A%25B1%25E4%25B8%259B%26sa%3Dfyb_n_homepage%26rsv_dl%3Dfyb_n_homepage%26from%3Dsuper%26cl%3D3%26tn%3Dbaidutop10%26fr%3Dtop1000%26rsv_idx%3D2%26hisfilter%3D1\",\"views\": \"\",\"isViewed\": \"\",\"isNew\": \"\",\"heat_score\": \"\",\"hotTags\": \"0\",\"pre_tag\": \"\",\"index\": \"14\"},{\"pure_title\": \"12岁男孩看直播花光姥爷23万养老钱\",\"linkurl\": \"https%3A//www.baidu.com/s%3Fwd%3D12%25E5%25B2%2581%25E7%2594%25B7%25E5%25AD%25A9%25E7%259C%258B%25E7%259B%25B4%25E6%2592%25AD%25E8%258A%25B1%25E5%2585%2589%25E5%25A7%25A5%25E7%2588%25B723%25E4%25B8%2587%25E5%2585%25BB%25E8%2580%2581%25E9%2592%25B1%26sa%3Dfyb_n_homepage%26rsv_dl%3Dfyb_n_homepage%26from%3Dsuper%26cl%3D3%26tn%3Dbaidutop10%26fr%3Dtop1000%26rsv_idx%3D2%26hisfilter%3D1\",\"views\": \"\",\"isViewed\": \"\",\"isNew\": \"\",\"heat_score\": \"\",\"hotTags\": \"0\",\"pre_tag\": \"\",\"index\": \"15\"},{\"pure_title\": \"今年最激烈强对流天气\",\"linkurl\": \"https%3A//www.baidu.com/s%3Fwd%3D%25E4%25BB%258A%25E5%25B9%25B4%25E6%259C%2580%25E6%25BF%2580%25E7%2583%2588%25E5%25BC%25BA%25E5%25AF%25B9%25E6%25B5%2581%25E5%25A4%25A9%25E6%25B0%2594%26sa%3Dfyb_n_homepage%26rsv_dl%3Dfyb_n_homepage%26from%3Dsuper%26cl%3D3%26tn%3Dbaidutop10%26fr%3Dtop1000%26rsv_idx%3D2%26hisfilter%3D1\",\"views\": \"\",\"isViewed\": \"\",\"isNew\": \"\",\"heat_score\": \"\",\"hotTags\": \"0\",\"pre_tag\": \"\",\"index\": \"16\"},{\"pure_title\": \"上海物资配送不畅到底堵在哪里\",\"linkurl\": \"https%3A//www.baidu.com/s%3Fwd%3D%25E4%25B8%258A%25E6%25B5%25B7%25E7%2589%25A9%25E8%25B5%2584%25E9%2585%258D%25E9%2580%2581%25E4%25B8%258D%25E7%2595%2585%25E5%2588%25B0%25E5%25BA%2595%25E5%25A0%25B5%25E5%259C%25A8%25E5%2593%25AA%25E9%2587%258C%26sa%3Dfyb_n_homepage%26rsv_dl%3Dfyb_n_homepage%26from%3Dsuper%26cl%3D3%26tn%3Dbaidutop10%26fr%3Dtop1000%26rsv_idx%3D2%26hisfilter%3D1\",\"views\": \"\",\"isViewed\": \"\",\"isNew\": \"\",\"heat_score\": \"\",\"hotTags\": \"0\",\"pre_tag\": \"\",\"index\": \"17\"},{\"pure_title\": \"上海出舱患者：靠自身免疫转阴\",\"linkurl\": \"https%3A//www.baidu.com/s%3Fwd%3D%25E4%25B8%258A%25E6%25B5%25B7%25E5%2587%25BA%25E8%2588%25B1%25E6%2582%25A3%25E8%2580%2585%25EF%25BC%259A%25E9%259D%25A0%25E8%2587%25AA%25E8%25BA%25AB%25E5%2585%258D%25E7%2596%25AB%25E8%25BD%25AC%25E9%2598%25B4%26sa%3Dfyb_n_homepage%26rsv_dl%3Dfyb_n_homepage%26from%3Dsuper%26cl%3D3%26tn%3Dbaidutop10%26fr%3Dtop1000%26rsv_idx%3D2%26hisfilter%3D1\",\"views\": \"\",\"isViewed\": \"\",\"isNew\": \"\",\"heat_score\": \"\",\"hotTags\": \"0\",\"pre_tag\": \"\",\"index\": \"18\"},{\"pure_title\": \"男子洗澡跌倒头卡马桶旁一整夜\",\"linkurl\": \"https%3A//www.baidu.com/s%3Fwd%3D%25E7%2594%25B7%25E5%25AD%2590%25E6%25B4%2597%25E6%25BE%25A1%25E8%25B7%258C%25E5%2580%2592%25E5%25A4%25B4%25E5%258D%25A1%25E9%25A9%25AC%25E6%25A1%25B6%25E6%2597%2581%25E4%25B8%2580%25E6%2595%25B4%25E5%25A4%259C%26sa%3Dfyb_n_homepage%26rsv_dl%3Dfyb_n_homepage%26from%3Dsuper%26cl%3D3%26tn%3Dbaidutop10%26fr%3Dtop1000%26rsv_idx%3D2%26hisfilter%3D1\",\"views\": \"\",\"isViewed\": \"\",\"isNew\": \"\",\"heat_score\": \"\",\"hotTags\": \"0\",\"pre_tag\": \"\",\"index\": \"19\"},{\"pure_title\": \"警方通报派出所交警队推诿不出警\",\"linkurl\": \"https%3A//www.baidu.com/s%3Fwd%3D%25E8%25AD%25A6%25E6%2596%25B9%25E9%2580%259A%25E6%258A%25A5%25E6%25B4%25BE%25E5%2587%25BA%25E6%2589%2580%25E4%25BA%25A4%25E8%25AD%25A6%25E9%2598%259F%25E6%258E%25A8%25E8%25AF%25BF%25E4%25B8%258D%25E5%2587%25BA%25E8%25AD%25A6%26sa%3Dfyb_n_homepage%26rsv_dl%3Dfyb_n_homepage%26from%3Dsuper%26cl%3D3%26tn%3Dbaidutop10%26fr%3Dtop1000%26rsv_idx%3D2%26hisfilter%3D1\",\"views\": \"\",\"isViewed\": \"\",\"isNew\": \"\",\"heat_score\": \"\",\"hotTags\": \"0\",\"pre_tag\": \"\",\"index\": \"20\"},{\"pure_title\": \"四川重庆暴雨\",\"linkurl\": \"https%3A//www.baidu.com/s%3Fwd%3D%25E5%259B%259B%25E5%25B7%259D%25E9%2587%258D%25E5%25BA%2586%25E6%259A%25B4%25E9%259B%25A8%26sa%3Dfyb_n_homepage%26rsv_dl%3Dfyb_n_homepage%26from%3Dsuper%26cl%3D3%26tn%3Dbaidutop10%26fr%3Dtop1000%26rsv_idx%3D2%26hisfilter%3D1\",\"views\": \"\",\"isViewed\": \"\",\"isNew\": \"\",\"heat_score\": \"\",\"hotTags\": \"0\",\"pre_tag\": \"\",\"index\": \"21\"},{\"pure_title\": \"6架运-20运送的是什么导弹？\",\"linkurl\": \"https%3A//www.baidu.com/s%3Fwd%3D6%25E6%259E%25B6%25E8%25BF%2590-20%25E8%25BF%2590%25E9%2580%2581%25E7%259A%2584%25E6%2598%25AF%25E4%25BB%2580%25E4%25B9%2588%25E5%25AF%25BC%25E5%25BC%25B9%25EF%25BC%259F%26sa%3Dfyb_n_homepage%26rsv_dl%3Dfyb_n_homepage%26from%3Dsuper%26cl%3D3%26tn%3Dbaidutop10%26fr%3Dtop1000%26rsv_idx%3D2%26hisfilter%3D1\",\"views\": \"\",\"isViewed\": \"\",\"isNew\": \"\",\"heat_score\": \"\",\"hotTags\": \"0\",\"pre_tag\": \"\",\"index\": \"22\"},{\"pure_title\": \"上海男子“撸猫换橙子”走红\",\"linkurl\": \"https%3A//www.baidu.com/s%3Fwd%3D%25E4%25B8%258A%25E6%25B5%25B7%25E7%2594%25B7%25E5%25AD%2590%25E2%2580%259C%25E6%2592%25B8%25E7%258C%25AB%25E6%258D%25A2%25E6%25A9%2599%25E5%25AD%2590%25E2%2580%259D%25E8%25B5%25B0%25E7%25BA%25A2%26sa%3Dfyb_n_homepage%26rsv_dl%3Dfyb_n_homepage%26from%3Dsuper%26cl%3D3%26tn%3Dbaidutop10%26fr%3Dtop1000%26rsv_idx%3D2%26hisfilter%3D1\",\"views\": \"\",\"isViewed\": \"\",\"isNew\": \"\",\"heat_score\": \"\",\"hotTags\": \"0\",\"pre_tag\": \"\",\"index\": \"23\"},{\"pure_title\": \"顺丰一骑士单日收入过万 打赏超7千\",\"linkurl\": \"https%3A//www.baidu.com/s%3Fwd%3D%25E9%25A1%25BA%25E4%25B8%25B0%25E4%25B8%2580%25E9%25AA%2591%25E5%25A3%25AB%25E5%258D%2595%25E6%2597%25A5%25E6%2594%25B6%25E5%2585%25A5%25E8%25BF%2587%25E4%25B8%2587%2B%25E6%2589%2593%25E8%25B5%258F%25E8%25B6%25857%25E5%258D%2583%26sa%3Dfyb_n_homepage%26rsv_dl%3Dfyb_n_homepage%26from%3Dsuper%26cl%3D3%26tn%3Dbaidutop10%26fr%3Dtop1000%26rsv_idx%3D2%26hisfilter%3D1\",\"views\": \"\",\"isViewed\": \"\",\"isNew\": \"\",\"heat_score\": \"\",\"hotTags\": \"0\",\"pre_tag\": \"\",\"index\": \"24\"},{\"pure_title\": \"巴基斯坦新任总理宣誓就职\",\"linkurl\": \"https%3A//www.baidu.com/s%3Fwd%3D%25E5%25B7%25B4%25E5%259F%25BA%25E6%2596%25AF%25E5%259D%25A6%25E6%2596%25B0%25E4%25BB%25BB%25E6%2580%25BB%25E7%2590%2586%25E5%25AE%25A3%25E8%25AA%2593%25E5%25B0%25B1%25E8%2581%258C%26sa%3Dfyb_n_homepage%26rsv_dl%3Dfyb_n_homepage%26from%3Dsuper%26cl%3D3%26tn%3Dbaidutop10%26fr%3Dtop1000%26rsv_idx%3D2%26hisfilter%3D1\",\"views\": \"\",\"isViewed\": \"\",\"isNew\": \"\",\"heat_score\": \"\",\"hotTags\": \"3\",\"pre_tag\": \"\",\"index\": \"25\"},{\"pure_title\": \"大学生线上求职遭HR辱骂\",\"linkurl\": \"https%3A//www.baidu.com/s%3Fwd%3D%25E5%25A4%25A7%25E5%25AD%25A6%25E7%2594%259F%25E7%25BA%25BF%25E4%25B8%258A%25E6%25B1%2582%25E8%2581%258C%25E9%2581%25ADHR%25E8%25BE%25B1%25E9%25AA%2582%26sa%3Dfyb_n_homepage%26rsv_dl%3Dfyb_n_homepage%26from%3Dsuper%26cl%3D3%26tn%3Dbaidutop10%26fr%3Dtop1000%26rsv_idx%3D2%26hisfilter%3D1\",\"views\": \"\",\"isViewed\": \"\",\"isNew\": \"\",\"heat_score\": \"\",\"hotTags\": \"0\",\"pre_tag\": \"\",\"index\": \"26\"},{\"pure_title\": \"31省份新增本土“1251+23295”\",\"linkurl\": \"https%3A//www.baidu.com/s%3Fwd%3D31%25E7%259C%2581%25E4%25BB%25BD%25E6%2596%25B0%25E5%25A2%259E%25E6%259C%25AC%25E5%259C%259F%25E2%2580%259C1251%252B23295%25E2%2580%259D%26sa%3Dfyb_n_homepage%26rsv_dl%3Dfyb_n_homepage%26from%3Dsuper%26cl%3D3%26tn%3Dbaidutop10%26fr%3Dtop1000%26rsv_idx%3D2%26hisfilter%3D1\",\"views\": \"\",\"isViewed\": \"\",\"isNew\": \"\",\"heat_score\": \"\",\"hotTags\": \"0\",\"pre_tag\": \"\",\"index\": \"27\"},{\"pure_title\": \"乌外长：乌军强大实力或仅次于美国\",\"linkurl\": \"https%3A//www.baidu.com/s%3Fwd%3D%25E4%25B9%258C%25E5%25A4%2596%25E9%2595%25BF%25EF%25BC%259A%25E4%25B9%258C%25E5%2586%259B%25E5%25BC%25BA%25E5%25A4%25A7%25E5%25AE%259E%25E5%258A%259B%25E6%2588%2596%25E4%25BB%2585%25E6%25AC%25A1%25E4%25BA%258E%25E7%25BE%258E%25E5%259B%25BD%26sa%3Dfyb_n_homepage%26rsv_dl%3Dfyb_n_homepage%26from%3Dsuper%26cl%3D3%26tn%3Dbaidutop10%26fr%3Dtop1000%26rsv_idx%3D2%26hisfilter%3D1\",\"views\": \"\",\"isViewed\": \"\",\"isNew\": \"\",\"heat_score\": \"\",\"hotTags\": \"0\",\"pre_tag\": \"\",\"index\": \"28\"},{\"pure_title\": \"印尼多地爆发抗议活动\",\"linkurl\": \"https%3A//www.baidu.com/s%3Fwd%3D%25E5%258D%25B0%25E5%25B0%25BC%25E5%25A4%259A%25E5%259C%25B0%25E7%2588%2586%25E5%258F%2591%25E6%258A%2597%25E8%25AE%25AE%25E6%25B4%25BB%25E5%258A%25A8%26sa%3Dfyb_n_homepage%26rsv_dl%3Dfyb_n_homepage%26from%3Dsuper%26cl%3D3%26tn%3Dbaidutop10%26fr%3Dtop1000%26rsv_idx%3D2%26hisfilter%3D1\",\"views\": \"\",\"isViewed\": \"\",\"isNew\": \"\",\"heat_score\": \"\",\"hotTags\": \"0\",\"pre_tag\": \"\",\"index\": \"29\"},{\"pure_title\": \"佩洛西新冠转阴 此前推迟“访台”\",\"linkurl\": \"https%3A//www.baidu.com/s%3Fwd%3D%25E4%25BD%25A9%25E6%25B4%259B%25E8%25A5%25BF%25E6%2596%25B0%25E5%2586%25A0%25E8%25BD%25AC%25E9%2598%25B4%2B%25E6%25AD%25A4%25E5%2589%258D%25E6%258E%25A8%25E8%25BF%259F%25E2%2580%259C%25E8%25AE%25BF%25E5%258F%25B0%25E2%2580%259D%26sa%3Dfyb_n_homepage%26rsv_dl%3Dfyb_n_homepage%26from%3Dsuper%26cl%3D3%26tn%3Dbaidutop10%26fr%3Dtop1000%26rsv_idx%3D2%26hisfilter%3D1\",\"views\": \"\",\"isViewed\": \"\",\"isNew\": \"\",\"heat_score\": \"\",\"hotTags\": \"1\",\"pre_tag\": \"\",\"index\": \"30\"}]}</textarea>\n",
      "\n",
      "</div></div></div>\n",
      "\n",
      "    <div id=\"s_wrap\" class=\"s-isindex-wrap\"><div id=\"s_main\" class=\"main clearfix \"></div></div>\n",
      "\n",
      "    \n",
      "\n",
      "\t<div id=\"bottom_layer\" class=\"s-bottom-layer s-isindex-wrap\"><div class=\"s-bottom-layer-content\"><p class=\"lh\"><a class=\"text-color\" href=\"//home.baidu.com\" target=\"_blank\">关于百度</a></p><p class=\"lh\"><a class=\"text-color\" href=\"http://ir.baidu.com\" target=\"_blank\">About Baidu</a></p><p class=\"lh\"><a class=\"text-color\" href=\"//www.baidu.com/duty\" target=\"_blank\">使用百度前必读</a></p><p class=\"lh\"><a class=\"text-color\" href=\"//help.baidu.com\" target=\"_blank\">帮助中心</a></p><p class=\"lh\"><a class=\"text-color\" href=\"http://www.beian.gov.cn/portal/registerSystemInfo?recordcode=11000002000001\" target=\"_blank\">京公网安备11000002000001号</a></p><p class=\"lh\"><a class=\"text-color\" href=\"https://beian.miit.gov.cn\" target=\"_blank\">京ICP证030173号</a></p><p class=\"lh\"><span class=\"text-color\">&#169;2022&nbsp;Baidu&nbsp;</span></p><p class=\"lh\"><span class=\"text-color\">互联网药品信息服务资格证书 (京)-经营性-2017-0020</span></p><p class=\"lh\"><a class=\"text-color\" href=\"//www.baidu.com/licence/\" target=\"_blank\">信息网络传播视听节目许可证 0110516</a></p><p class=\"lh\"><img class=\"aria-img\" src=\"http://ss.bdimg.com/static/superman/img/footer/aria-3006e33cce.png\" /></p></div></div><script type=\"application/json\" id=\"promote_login_box\">\n",
      "\n",
      "    false\n",
      "\n",
      "</script></div><div class=\"s_tab \" id=\"s_tab\"><div class=\"s_tab_inner\"><b class=\"cur-tab\">网页</b><a href=\"https://www.baidu.com/s?rtt=1&bsst=1&cl=2&tn=news\"  wdfield=\"word\"  onmousedown=\"return c({'fm':'tab','tab':'news'})\" sync=\"true\" class=\"s-tab-item s-tab-news\">资讯</a><a href=\"http://v.baidu.com/v?ct=301989888&rn=20&pn=0&db=0&s=25&ie=utf-8\"  wdfield=\"word\"  onmousedown=\"return c({'fm':'tab','tab':'video'})\"  class=\"s-tab-item s-tab-video\">视频</a><a href=\"http://image.baidu.com/i?tn=baiduimage&ps=1&ct=201326592&lm=-1&cl=2&nc=1&ie=utf-8\"  wdfield=\"word\"  onmousedown=\"return c({'fm':'tab','tab':'pic'})\"  class=\"s-tab-item s-tab-pic\">图片</a><a href=\"http://zhidao.baidu.com/q?ct=17&pn=0&tn=ikaslist&rn=10&fr=wwwt\"  wdfield=\"word\"  onmousedown=\"return c({'fm':'tab','tab':'zhidao'})\"  class=\"s-tab-item s-tab-zhidao\">知道</a><a href=\"http://wenku.baidu.com/search?lm=0&od=0&ie=utf-8\"  wdfield=\"word\"  onmousedown=\"return c({'fm':'tab','tab':'wenku'})\"  class=\"s-tab-item s-tab-wenku\">文库</a><a href=\"http://tieba.baidu.com/f?fr=wwwt\"  wdfield=\"kw\"  onmousedown=\"return c({'fm':'tab','tab':'tieba'})\"  class=\"s-tab-item s-tab-tieba\">贴吧</a><a href=\"https://map.baidu.com/?newmap=1&ie=utf-8&s=s\"   onmousedown=\"return c({'fm':'tab','tab':'map'})\"  class=\"s-tab-item s-tab-map\">地图</a><a href=\"https://b2b.baidu.com/s?fr=wwwt\"  wdfield=\"q\"  onmousedown=\"return c({'fm':'tab','tab':'b2b'})\"  class=\"s-tab-item s-tab-b2b\">采购</a><a href=\"http://www.baidu.com/more/\"   onmousedown=\"return c({'fm':'tab','tab':'more'})\"  class=\"s-tab-item s-tab-more\">更多</a></div></div>\n",
      "\n",
      "<div id=\"s_side_wrapper\"><div class=\"side-entry aging-entry\"><div class=\"aging-entry-inner\"></div><div class=\"c-color-text toast\">辅助模式</div></div><div id=\"s_qrcode_nologin\" class=\"qrcode-nologin side-entry\"><div class=\"qrcode-layer icon-mask-wrapper\"><img class=\"icon\" src=\"http://ss.bdimg.com/static/superman/img/qrcode/qrcode@2x-daf987ad02.png\"/><img class=\"icon-hover\" src=\"http://ss.bdimg.com/static/superman/img/qrcode/qrcode-hover@2x-f9b106a848.png\"/></div><div class=\"tooltip qrcode-tooltip\"><div class=\"text\"><div class=\"login-text\"><i class=\"c-icon login-icon\">&#xe602;</i>百度APP扫码登录</div><div class=\"login-info\">百度一下&nbsp;生活更好</div></div><div id=\"qrcode-login-wrapper\"></div></div></div></div><div id=\"wrapper_wrapper\"></div>\n",
      "\n",
      "</div>\n",
      "\n",
      "<div class=\"c-tips-container\" id=\"c-tips-container\"></div>\n",
      "\n",
      "\n",
      "\n",
      "    \n",
      "\n",
      "\n",
      "\n",
      "    <script>\n",
      "\n",
      "\tvar bds = {\n",
      "\n",
      "    se: {},\n",
      "\n",
      "    su: {\n",
      "\n",
      "        urdata:[],\n",
      "\n",
      "        urSendClick:function(){}\n",
      "\n",
      "    },\n",
      "\n",
      "    util: {},\n",
      "\n",
      "    use: {},\n",
      "\n",
      "    comm: {\n",
      "\n",
      "        domain:\"http:\\/\\/www.baidu.com\",\n",
      "\n",
      "        ubsurl : \"http:\\/\\/sclick.baidu.com\\/w.gif\",\n",
      "\n",
      "        tn:\"baidu\",\n",
      "\n",
      "        queryEnc:\"\",\n",
      "\n",
      "        queryId:\"\",\n",
      "\n",
      "        inter:\"\",\n",
      "\n",
      "        templateName:\"\",\n",
      "\n",
      "        sugHost : \"http:\\/\\/suggestion.baidu.com\\/su\",\n",
      "\n",
      "        query : \"\",\n",
      "\n",
      "        dpquery: \"\",\n",
      "\n",
      "        qid : \"9e674521000ac51a\",\n",
      "\n",
      "        alwaysMonitor: \"0\",\n",
      "\n",
      "        cid : \"0\",\n",
      "\n",
      "        sid : \"36072_31254_34812_36167_34584_36140_36120_36194_36126_35801_36228_26350_35869_36101_36061\",\n",
      "\n",
      "        indexSid : \"36072_31254_34812_36167_34584_36140_36120_36194_36126_35801_36228_26350_35869_36101_36061\",\n",
      "\n",
      "        stoken : \"\",\n",
      "\n",
      "        serverTime : \"1649748492\",\n",
      "\n",
      "        user : \"\",\n",
      "\n",
      "        username : \"\",\n",
      "\n",
      "        userid : \"\",\n",
      "\n",
      "        loginAction : [],\n",
      "\n",
      "        useFavo : \"\",\n",
      "\n",
      "        pinyin : \"\",\n",
      "\n",
      "        favoOn : \"\",\n",
      "\n",
      "        userAgent : \"G3WLAN\",\n",
      "\n",
      "                curResultNum:\"0\",\n",
      "\n",
      "        rightResultExist:false,\n",
      "\n",
      "        protectNum:0,\n",
      "\n",
      "        zxlNum:0,\n",
      "\n",
      "        pageNum:1,\n",
      "\n",
      "        pageSize:10,\n",
      "\n",
      "        newindex:0,\n",
      "\n",
      "        async:2,\n",
      "\n",
      "        maxPreloadThread:5,\n",
      "\n",
      "        maxPreloadTimes:10,\n",
      "\n",
      "        preloadMouseMoveDistance:5,\n",
      "\n",
      "        switchAddMask:false,\n",
      "\n",
      "        isDebug:false,\n",
      "\n",
      "        ishome : 1,\n",
      "\n",
      "        flagTranslateResult:0,\n",
      "\n",
      "        globalLogFlag:0\n",
      "\n",
      "    ,encTn:'2b88aHaczIGuE\\/Xk50I6zADYuLMPEvspQfGBzFpKTPpGgheq4q0K8bKoD90'    }\n",
      "\n",
      "};\n",
      "\n",
      "\t\n",
      "\n",
      "\n",
      "\n",
      "var name,navigate,al_arr=[];\n",
      "\n",
      "\n",
      "\n",
      "var selfOpen = window.open;\n",
      "\n",
      "eval(\"var open = selfOpen;\");\n",
      "\n",
      "\n",
      "\n",
      "var isIE = navigator.userAgent.indexOf(\"MSIE\") != -1 && !window.opera;\n",
      "\n",
      "\n",
      "\n",
      "var E = bds.ecom = {};\n",
      "\n",
      "\n",
      "\n",
      "bds.se.mon = {\n",
      "\n",
      "    loadedItems: [],\n",
      "\n",
      "    load: function() {},\n",
      "\n",
      "    srvt:-1\n",
      "\n",
      "};\n",
      "\n",
      "try {\n",
      "\n",
      "    bds.se.mon.srvt = parseInt(document.cookie.match(new RegExp(\"(^| )BDSVRTM=([^;]*)(;|$)\"))[2]);\n",
      "\n",
      "    document.cookie = \"BDSVRTM=;expires=Sat, 01 Jan 2000 00:00:00 GMT\"\n",
      "\n",
      "} catch (e) {}\n",
      "\n",
      "var\n",
      "\n",
      "bdUser        = bds.comm.user?bds.comm.user:null,\n",
      "\n",
      "bdQuery       = bds.comm.query,\n",
      "\n",
      "bdUseFavo     = bds.comm.useFavo,\n",
      "\n",
      "bdFavoOn      = bds.comm.favoOn,\n",
      "\n",
      "bdCid         = bds.comm.cid,\n",
      "\n",
      "bdSid         = bds.comm.sid,\n",
      "\n",
      "bdServerTime  = bds.comm.serverTime,\n",
      "\n",
      "bdQid         = bds.comm.queryId,\n",
      "\n",
      "bdstoken      = bds.comm.stoken,\n",
      "\n",
      "login_success = [];\n",
      "\n",
      "bds.comm.sampleval= [];\n",
      "\n",
      "bds.comm.desktopSampleval= null;\n",
      "\n",
      "    bds.comm.samNewBox = 0;\n",
      "\n",
      "\n",
      "\n",
      "\n",
      "\n",
      "bds.comm.newTopMenu = 1;\n",
      "\n",
      "bds.comm.newSearchBox = 1;\n",
      "\n",
      "\n",
      "\n",
      "bds.comm.newSearchbox = 1;\n",
      "\n",
      "bds.comm.sIndex = 1;\n",
      "\n",
      "\n",
      "\n",
      "    bds.comm.pdc = 0;\n",
      "\n",
      "\n",
      "\n",
      "    bds.comm.newNav = 0;\n",
      "\n",
      "bds.comm.popUpAdvert = false\n",
      "\n",
      "\t\n",
      "\n",
      "var s_domain={\n",
      "\n",
      "    \"protocol\":\"http:\",\n",
      "\n",
      "    \"staticUrl\":\"http://ss.bdimg.com/\",\n",
      "\n",
      "    \"base\":\"home\",\n",
      "\n",
      "    \"baseuri\":\"/home\",\n",
      "\n",
      "    \"passconf\":\"http://passport.baidu.com/ubrwsbas\",\n",
      "\n",
      "    \"logout\":\"https://passport.baidu.com/?logout&u=\",\n",
      "\n",
      "    \"bs\":\"http://www.baidu.com\",\n",
      "\n",
      "    \"login\":\"http://passport.baidu.com/?login&tpl=super&u=\",\n",
      "\n",
      "    \"sp\":\"http://hi.baidu.com/\",\n",
      "\n",
      "    \"ssllist\":{\"su.bdimg.com\":\"dss0.bdstatic.com\\/5a21bjqh_Q23odCf\",\"1.ur.bdimg.com\":\"dss1.bdstatic.com\\/k4oTfnSm1A5BphGlnYG\",\"2.ur.bdimg.com\":\"dss2.bdstatic.com\\/kvoTfnSm1A5BphGlnYG\",\"3.ur.bdimg.com\":\"dss3.bdstatic.com\\/kfoTfnSm1A5BphGlnYG\",\"4.ur.bdimg.com\":\"dss0.bdstatic.com\\/lPoTfnSm1A5BphGlnYG\",\"5.ur.bdimg.com\":\"dss1.bdstatic.com\\/l4oTfnSm1A5BphGlnYG\",\"6.ur.bdimg.com\":\"dss2.bdstatic.com\\/lvoTfnSm1A5BphGlnYG\",\"7.ur.bdimg.com\":\"dss3.bdstatic.com\\/lfoTfnSm1A5BphGlnYG\",\"8.ur.bdimg.com\":\"dss0.bdstatic.com\\/iPoTfnSm1A5BphGlnYG\",\"dj0.baidu.com\":\"sp1.baidu.com\\/-L-Wsjip0QIZ8tyhnq\",\"dj1.baidu.com\":\"sp1.baidu.com\\/-L-Xsjip0QIZ8tyhnq\",\"dj2.baidu.com\":\"sp2.baidu.com\\/-L-Ysjip0QIZ8tyhnq\",\"eclick.baidu.com\":\"sp3.baidu.com\\/-0U_dTmfKgQFm2e88IuM_a\",\"a.hiphotos.baidu.com\":\"dss0.baidu.com\\/94o3dSag_xI4khGko9WTAnF6hhy\",\"b.hiphotos.baidu.com\":\"dss1.baidu.com\\/9vo3dSag_xI4khGko9WTAnF6hhy\",\"c.hiphotos.baidu.com\":\"dss3.baidu.com\\/9fo3dSag_xI4khGko9WTAnF6hhy\",\"d.hiphotos.baidu.com\":\"dss0.baidu.com\\/-Po3dSag_xI4khGko9WTAnF6hhy\",\"e.hiphotos.baidu.com\":\"dss1.baidu.com\\/-4o3dSag_xI4khGko9WTAnF6hhy\",\"f.hiphotos.baidu.com\":\"dss2.baidu.com\\/-vo3dSag_xI4khGko9WTAnF6hhy\",\"g.hiphotos.baidu.com\":\"dss3.baidu.com\\/-fo3dSag_xI4khGko9WTAnF6hhy\",\"h.hiphotos.baidu.com\":\"dss0.baidu.com\\/7Po3dSag_xI4khGko9WTAnF6hhy\",\"bdimg.share.baidu.com\":\"dss1.baidu.com\\/9rA4cT8aBw9FktbgoI7O1ygwehsv\",\"s.share.baidu.com\":\"sp1.baidu.com\\/5foZdDe71MgCo2Kml5_Y_D3\",\"s1.bdstatic.com\":\"dss1.bdstatic.com\\/5eN1bjq8AAUYm2zgoY3K\",\"p2.youxi.bdimg.com\":\"dss2.bdstatic.com\\/5OZ1hTW64A63otebn9fN2DJv\",\"youxi.baidu.com\":\"sp3.baidu.com\\/y0kThD4a2gU2pMbgoY3K\",\"fm.baidu.com\":\"dss3.baidu.com\\/-rd1bjeh1BF3odCf\",\"music.baidu.com\":\"dss2.baidu.com\\/8_1ZdTna2gU2pMbgoY3K\",\"f3.baidu.com\":\"sp2.baidu.com\\/-uV1bjeh1BF3odCf\",\"sclick.baidu.com\":\"sp1.baidu.com\\/5bU_dTmfKgQFm2e88IuM_a\",\"1.su.bdimg.com\":\"dss0.bdstatic.com\\/k4oZeXSm1A5BphGlnYG\",\"2.su.bdimg.com\":\"dss1.bdstatic.com\\/kvoZeXSm1A5BphGlnYG\",\"3.su.bdimg.com\":\"dss2.bdstatic.com\\/kfoZeXSm1A5BphGlnYG\",\"4.su.bdimg.com\":\"dss3.bdstatic.com\\/lPoZeXSm1A5BphGlnYG\",\"5.su.bdimg.com\":\"dss0.bdstatic.com\\/l4oZeXSm1A5BphGlnYG\",\"6.su.bdimg.com\":\"dss1.bdstatic.com\\/lvoZeXSm1A5BphGlnYG\",\"7.su.bdimg.com\":\"dss2.bdstatic.com\\/lfoZeXSm1A5BphGlnYG\",\"8.su.bdimg.com\":\"dss3.bdstatic.com\\/iPoZeXSm1A5BphGlnYG\",\"nssug.baidu.com\":\"sp1.baidu.com\\/8qUZeT8a2gU2pMbgoY3K\",\"up.photo.baidu.com\":\"sp1.baidu.com\\/6_R1fD_bAAd3otqbppnN2DJv\",\"suggestion.baidu.com\":\"sp1.baidu.com\\/5a1Fazu8AA54nxGko9WTAnF6hhy\",\"t10.baidu.com\":\"t10.baidu.com\",\"t11.baidu.com\":\"t11.baidu.com\",\"t12.baidu.com\":\"t12.baidu.com\",\"play.baidu.com\":\"dss3.baidu.com\\/5LgHhXSm2Q5IlBGlnYG\",\"olime.baidu.com\":\"sp1.baidu.com\\/8bg4cTva2gU2pMbgoY3K\",\"i.baidu.com\":\"sp1.baidu.com\\/74oIbT3kAMgDnd_\",\"c.baidu.com\":\"sp1.baidu.com\\/9foIbT3kAMgDnd_\",\"b1.baidu.com\":\"dss1.baidu.com\\/9uN1bjeh1BF3odCf\",\"nsclick.baidu.com\":\"sp1.baidu.com\\/8qUJcD3n0sgCo2Kml5_Y_D3\",\"b1.bdstatic.com\":\"dss0.bdstatic.com\\/9uN1bjq8AAUYm2zgoY3K\",\"i7.baidu.com\":\"dss0.baidu.com\\/73F1bjeh1BF3odCf\",\"i8.baidu.com\":\"dss0.baidu.com\\/73x1bjeh1BF3odCf\",\"i9.baidu.com\":\"dss0.baidu.com\\/73t1bjeh1BF3odCf\",\"ecma.bdimg.com\":\"dss1.bdstatic.com\\/-0U0bXSm1A5BphGlnYG\",\"tag.baidu.com\":\"sp1.baidu.com\\/6LMFsjip0QIZ8tyhnq\",\"hw.baidu.com\":\"sp1.baidu.com\\/7KF1bjeh1BF3odCf\",\"opendata.baidu.com\":\"sp1.baidu.com\\/8aQDcjqpAAV3otqbppnN2DJv\",\"open.baidu.com\":\"dss1.baidu.com\\/8aQDcnSm2Q5IlBGlnYG\",\"api.open.baidu.com\":\"sp1.baidu.com\\/9_Q4sjW91Qh3otqbppnN2DJv\",\"xiaodu.baidu.com\":\"sp1.baidu.com\\/yLsHczq6KgQFm2e88IuM_a\",\"s0.nuomi.bdimg.com\":\"dss1.bdstatic.com\\/5eR1ciub_Q63otebn9fN2DJv\",\"s1.nuomi.bdimg.com\":\"dss0.baidu.com\\/5eN1ciub_Q63otebn9fN2DJv\",\"s2.nuomi.bdimg.com\":\"dss2.bdstatic.com\\/5eZ1ciub_Q63otebn9fN2DJv\",\"vse.baidu.com\":\"sp3.baidu.com\\/6qUDsjip0QIZ8tyhnq\",\"himg.bdimg.com\":\"dss1.bdstatic.com\\/7Ls0a8Sm1A5BphGlnYG\",\"ss.bdimg.com\":\"dss1.bdstatic.com\\/5aV1bjqh_Q23odCf\",\"ecmb.bdimg.com\":\"dss0.bdstatic.com\\/-0U0bnSm1A5BphGlnYG\",\"e.su.bdimg.com\":\"dss0.bdstatic.com\\/-4oZeXSm1A5BphGlnYG\",\"sensearch.baidu.com\":\"sp1.baidu.com\\/5b11fzupBgM18t7jm9iCKT-xh_\",\"sestat.baidu.com\":\"sp1.baidu.com\\/5b1ZeDe5KgQFm2e88IuM_a\",\"cdn00.baidu-img.cn\":\"dss0.bdstatic.com\\/9bA1vGba2gU2pMbfm9GUKT-w\",\"cdn01.baidu-img.cn\":\"dss0.bdstatic.com\\/9bA1vGfa2gU2pMbfm9GUKT-w\"}\n",
      "\n",
      "};\n",
      "\n",
      "\n",
      "\n",
      "    var s_session={\n",
      "\n",
      "        \"logId\":\"3007948867\",\n",
      "\n",
      "        \"seqId\":\"3007949072\",\n",
      "\n",
      "        \"sessionId\":\"\",\n",
      "\n",
      "        \"debug\":false,\n",
      "\n",
      "        \"userTips\":\"{}\",\n",
      "\n",
      "        \"curmod\":\"2\",\n",
      "\n",
      "        \"firstmod\":\"\",\n",
      "\n",
      "        \"logoCode\":false,\n",
      "\n",
      "        \"isFesLogo\":false,\n",
      "\n",
      "        \"sid\":\"36072_31254_34812_36167_34584_36140_36120_36194_36126_35801_36228_26350_35869_36101_36061\",\n",
      "\n",
      "        \"mSid\":\"\",\n",
      "\n",
      "        \"sample_value\":\"\",\n",
      "\n",
      "        \"isLogin\":false,\n",
      "\n",
      "        \"agingVoice\": \"\"\n",
      "\n",
      "    };\n",
      "\n",
      "\n",
      "\n",
      "            window.__async_strategy = 2;\n",
      "\n",
      "\n",
      "\n",
      "</script>\n",
      "\n",
      "\n",
      "\n",
      "<script type=\"text/javascript\" src=\"http://ss.bdimg.com/static/superman/js/lib/jquery-1-edb203c114.10.2.js\"></script>\n",
      "\n",
      "\n",
      "\n",
      "<script type=\"text/javascript\" src=\"http://ss.bdimg.com/static/superman/js/lib/esl-d776bfb1aa.js\"></script>\n",
      "\n",
      "\n",
      "\n",
      "<script type=\"text/javascript\">bds.util.domain=function(){var list=$.extend({},s_domain.ssllist);$.each(list,function(i,e){if(list[i].indexOf(\"https://\")<0){list[i]=\"https://\"+list[i]}});var get=function(url){if(s_domain.protocol==\"http:\"){return url}var reg=/^(http[s]?:\\/\\/)?([^\\/]+)(.*)/,matches=url.match(reg);url=list.hasOwnProperty(matches[2])&&list[matches[2]]+matches[3]||url;return url},set=function(kdomain,vdomain){list[kdomain]=vdomain};return{get:get,set:set}}();bds.comm.sugHost=bds.util.domain.get(\n",
      "\n",
      "\"http://suggestion.baidu.com/su\");</script>\n",
      "\n",
      "<script type=\"text/javascript\">define(\"modules/monitor/log-send\",[\"require\",\"exports\"],function(e,o){\"use strict\";function t(e){if(!e)return!1;var o=document.cookie.indexOf(\"webbtest=1\")>-1;return o||Math.random()<e}function i(e){return\"1\"===bds.comm.alwaysMonitor?(e.alwaysMonitor=1,!0):!1}function n(e,o){if(void 0===o&&(o=\"except\"),!(e.group&&t(r.sample[e.group])||i(e.info)))return\"\";var n=e.pid||\"1_87\";bds.comm.ishome&&(n=\"1_79\");var s=bds.comm.qid||bds.comm.queryId,a=r.logServer+\"?pid=\"+n+\"&lid=\"+s+\"&ts=\"+Date.now()+\"&type=\"+o+\"&group=\"+e.group+\"&info=\"+encodeURIComponent(JSON.stringify(e.info))+\"&dim=\"+encodeURIComponent(JSON.stringify(e.dim||{})),c=new Image;return c.src=a,a}o.__esModule=!0,o.send=void 0;var r={pid:\"1_87\",sample:{jserror:.02,iframe:.02,resLoadSlow:.02,imgError:.02,resBigimg:.02,httpRes:.02,lsInfo:1,lsCost:.02,codeCoverage:.02,pcUrlUnEncode:.1,abblock:.01},logServer:\"https://sp1.baidu.com/5b1ZeDe5KgQFm2e88IuM_a/mwb2.gif\"};o.send=n}),define(\"modules/monitor/js-except\",[\"require\",\"exports\",\"modules/monitor/log-send\"],function(e,o,t){\"use strict\";function i(e,o){if(o.indexOf(\"chrome-extension://\")>-1||o.indexOf(\"moz-extension://\")>-1)return!1;var t=e.toLowerCase();return\"script error.\"===t||\"script error\"===t?!1:!0}function n(e,o){try{var n={info:{},dim:{},group:\"\"},r=n.info,s=e.target||e.srcElement,a=navigator.connection||{};if(r.downlink=a.downlink,r.effectiveType=a.effectiveType,r.rtt=a.rtt,r.deviceMemory=navigator.deviceMemory||0,r.hardwareConcurrency=navigator.hardwareConcurrency||0,r.saveData=!!a.saveData,s!==window&&\"onerror\"!==o)return;var c=e.error||{},m=c.stack||\"\";e.message&&i(e.message,m)&&(n.group=\"jserror\",r.msg=e.message,r.file=e.filename,r.ln=e.lineno,r.col=e.colno,r.stack=m.split(\"\\n\").slice(0,3).join(\"\\n\"),t.send(n))}catch(p){console.error(p)}}function r(){var e,o=!1,t=navigator.userAgent.toLowerCase(),i=/msie ([0-9]+)/.exec(t);if(i&&i[1]){if(e=parseInt(i[1],10),7>=e)return;9>=e&&(o=!0)}o?window.onerror=function(e,o,t,i){n({message:e,filename:o,lineno:t,colno:i},\"onerror\")}:window.addEventListener&&window.addEventListener(\"error\",n,!0)}o.__esModule=!0,o.listenerExcept=void 0,o.listenerExcept=r});var Cookie={set:function(e,o,t,i,n,r){document.cookie=e+\"=\"+(r?o:escape(o))+(n?\"; expires=\"+n.toGMTString():\"\")+(i?\"; path=\"+i:\"; path=/\")+(t?\"; domain=\"+t:\"\")},get:function(e,o){var t=document.cookie.match(new RegExp(\"(^| )\"+e+\"=([^;]*)(;|$)\"));return null!=t?unescape(t[2]):o},clear:function(e,o,t){this.get(e)&&(document.cookie=e+\"=\"+(o?\"; path=\"+o:\"; path=/\")+(t?\"; domain=\"+t:\"\")+\";expires=Fri, 02-Jan-1970 00:00:00 GMT\")}};!function(){function save(e){var o=[];for(tmpName in options)options.hasOwnProperty(tmpName)&&\"duRobotState\"!==tmpName&&o.push('\"'+tmpName+'\":\"'+options[tmpName]+'\"');var t=\"{\"+o.join(\",\")+\"}\";bds.comm.personalData?$.ajax({url:\"//www.baidu.com/ups/submit/addtips?product=ps&from=pcfe&tips=\"+encodeURIComponent(t)+\"&_r=\"+(new Date).getTime(),success:function(){writeCookie(),\"function\"==typeof e&&e()}}):(writeCookie(),\"function\"==typeof e&&setTimeout(e,0))}function set(e,o){options[e]=o}function get(e){return options[e]}function writeCookie(){if(options.hasOwnProperty(\"sugSet\")){var e=\"0\"==options.sugSet?\"0\":\"3\";clearCookie(\"sug\"),Cookie.set(\"sug\",e,document.domain,\"/\",expire30y)}if(options.hasOwnProperty(\"sugStoreSet\")){var e=0==options.sugStoreSet?\"0\":\"1\";clearCookie(\"sugstore\"),Cookie.set(\"sugstore\",e,document.domain,\"/\",expire30y)}var o=Cookie.get(\"BAIDUID\"),t=o.match(/NR=(\\d+)/)?o.match(/NR=(\\d+)/)[1]:\"\";if(options.resultNum&&t!==options.resultNum.toString()&&writeBAIDUID(),options.hasOwnProperty(\"isSwitch\")){var i={0:\"2\",1:\"0\",2:\"1\"},e=i[options.isSwitch];clearCookie(\"ORIGIN\"),Cookie.set(\"ORIGIN\",e,document.domain,\"/\",expire30y)}if(options.hasOwnProperty(\"imeSwitch\")){var e=options.imeSwitch;clearCookie(\"bdime\"),Cookie.set(\"bdime\",e,document.domain,\"/\",expire30y)}}function writeBAIDUID(){var e,o,t,i=Cookie.get(\"BAIDUID\");/FG=(\\d+)/.test(i)&&(o=RegExp.$1),/SL=(\\d+)/.test(i)&&(t=RegExp.$1),/NR=(\\d+)/.test(i)&&(e=RegExp.$1),options.hasOwnProperty(\"resultNum\")&&(e=options.resultNum),options.hasOwnProperty(\"resultLang\")&&(t=options.resultLang),Cookie.set(\"BAIDUID\",i.replace(/:.*$/,\"\")+(\"undefined\"!=typeof t?\":SL=\"+t:\"\")+(\"undefined\"!=typeof e?\":NR=\"+e:\"\")+(\"undefined\"!=typeof o?\":FG=\"+o:\"\"),\".baidu.com\",\"/\",expire30y,!0)}function clearCookie(e){Cookie.clear(e,\"/\"),Cookie.clear(e,\"/\",document.domain),Cookie.clear(e,\"/\",\".\"+document.domain),Cookie.clear(e,\"/\",\".baidu.com\")}function reset(e){options=defaultOptions,save(e)}var defaultOptions={sugSet:1,sugStoreSet:1,isSwitch:1,isJumpHttps:1,imeSwitch:0,resultNum:10,skinOpen:1,resultLang:0,duRobotState:\"000\"},options={},tmpName,expire30y=new Date;expire30y.setTime(expire30y.getTime()+94608e7);try{if(bds&&bds.comm&&bds.comm.personalData){if(\"string\"==typeof bds.comm.personalData&&(bds.comm.personalData=eval(\"(\"+bds.comm.personalData+\")\")),!bds.comm.personalData)return;for(tmpName in bds.comm.personalData)defaultOptions.hasOwnProperty(tmpName)&&bds.comm.personalData.hasOwnProperty(tmpName)&&\"SUCCESS\"==bds.comm.personalData[tmpName].ErrMsg&&(options[tmpName]=bds.comm.personalData[tmpName].value)}try{parseInt(options.resultNum)||delete options.resultNum,parseInt(options.resultLang)||\"0\"==options.resultLang||delete options.resultLang}catch(e){}writeCookie(),\"sugSet\"in options||(options.sugSet=3!=Cookie.get(\"sug\",3)?0:1),\"sugStoreSet\"in options||(options.sugStoreSet=Cookie.get(\"sugstore\",0));var BAIDUID=Cookie.get(\"BAIDUID\");\"resultNum\"in options||(options.resultNum=/NR=(\\d+)/.test(BAIDUID)&&RegExp.$1?parseInt(RegExp.$1):10),\"resultLang\"in options||(options.resultLang=/SL=(\\d+)/.test(BAIDUID)&&RegExp.$1?parseInt(RegExp.$1):0),\"isSwitch\"in options||(options.isSwitch=2==Cookie.get(\"ORIGIN\",0)?0:1==Cookie.get(\"ORIGIN\",0)?2:1),\"imeSwitch\"in options||(options.imeSwitch=Cookie.get(\"bdime\",0))}catch(e){}window.UPS={writeBAIDUID:writeBAIDUID,reset:reset,get:get,set:set,save:save}}(),function(){require([\"modules/monitor/js-except\"],function(e){e.listenerExcept()});var e=\"http://pss.bdstatic.com/r/www/cache/static/plugins/every_cookie_4644b13.js\";(\"Mac68K\"==navigator.platform||\"MacPPC\"==navigator.platform||\"Macintosh\"==navigator.platform||\"MacIntel\"==navigator.platform)&&(e=\"http://pss.bdstatic.com/r/www/cache/static/plugins/every_cookie_mac_82990d4.js\"),setTimeout(function(){$.ajax({url:e,cache:!0,dataType:\"script\"})},0);var o=navigator&&navigator.userAgent?navigator.userAgent:\"\",t=document&&document.cookie?document.cookie:\"\",i=!!(o.match(/(msie [2-8])/i)||o.match(/windows.*safari/i)&&!o.match(/chrome/i)||o.match(/(linux.*firefox)/i)||o.match(/Chrome\\/29/i)||o.match(/mac os x.*firefox/i)||t.match(/\\bISSW=1/)||0==UPS.get(\"isSwitch\"));bds&&bds.comm&&(bds.comm.supportis=!i,bds.comm.isui=!0),window.__restart_confirm_timeout=!0,window.__confirm_timeout=8e3,window.__disable_is_guide=!0,window.__disable_swap_to_empty=!0,window.__switch_add_mask=!0,bds.comm.newindex&&$(window).on(\"index_off\",function(){$('<div class=\"c-tips-container\" id=\"c-tips-container\"></div>').insertAfter(\"#wrapper\"),window.__sample_dynamic_tab&&$(\"#s_tab\").remove()}),bds.comm&&bds.comm.ishome&&Cookie.get(\"H_PS_PSSID\")&&(bds.comm.indexSid=Cookie.get(\"H_PS_PSSID\"));var n=$(document).find(\"#s_tab\").find(\"a\");n&&n.length>0&&n.each(function(e,o){o.innerHTML&&o.innerHTML.match(/新闻/)&&(o.innerHTML=\"资讯\",o.href=\"//www.baidu.com/s?rtt=1&bsst=1&cl=2&tn=news&word=\",o.setAttribute(\"sync\",!0))})}();</script><script type=\"text/javascript\" src=\"http://pss.bdstatic.com/r/www/cache/static/bundles/polyfill_9354efa.js\"></script><script type=\"text/javascript\" src=\"http://pss.bdstatic.com/r/www/cache/static/global/js/all_async_search_13fed8c.js\"></script>\n",
      "\n",
      "\n",
      "\n",
      "<script>\n",
      "\n",
      "    if(bds.comm.supportis){\n",
      "\n",
      "        window.__restart_confirm_timeout=true;\n",
      "\n",
      "        window.__confirm_timeout=8000;\n",
      "\n",
      "        window.__disable_is_guide=true;\n",
      "\n",
      "        window.__disable_swap_to_empty=true;\n",
      "\n",
      "    }\n",
      "\n",
      "\n",
      "\n",
      "    if(typeof initPreload == \"function\"){\n",
      "\n",
      "        initPreload({\n",
      "\n",
      "            'isui':true,\n",
      "\n",
      "            'index_form':\"#form\",\n",
      "\n",
      "            'index_kw':\"#kw\",\n",
      "\n",
      "            'result_form':\"#form\",\n",
      "\n",
      "            'result_kw':\"#kw\",\n",
      "\n",
      "            'isui':true\n",
      "\n",
      "        });\n",
      "\n",
      "    }\n",
      "\n",
      "    else{\n",
      "\n",
      "        window._sp_async = undefined;\n",
      "\n",
      "\t\tnew Image().src = \"/home/page/data/pageserver?errno=7004&from=superman&_t\" + new Date() * 1;\n",
      "\n",
      "    }\n",
      "\n",
      "\n",
      "\n",
      "</script>\n",
      "\n",
      "<script type=\"text/javascript\">(function(){var index_head_css=$(\"#style_super_head_inline\");var index_is_css=$(\"#s_is_index_css\");window.index_links=[];var head_index_css=$(\"head [index]\");window.index_on=function(){s_session.index_off=false};window.index_off=function(){s_session.index_off=true;bds.comm.sIndex=0;$(document.body).attr(\"link\",\"#0000cc\");index_links=[];$(\"head\").find(\"link\").each(function(){if($(this).attr(\"data-for\")!==\"result\"){index_links.push(this);$(this).remove()}});index_is_css.remove()\n",
      "\n",
      ";index_head_css.remove();$(\"#head_wrapper\").css(\"width\",\"\");$(\"#kw\").css(\"font-family\",\"\");var decodeHTML=function(source){var str=String(source).replace(/&quot;/g,'\"').replace(/&lt;/g,\"<\").replace(/&gt;/g,\">\").replace(/&amp;/g,\"&\");return str.replace(/&#([\\d]+);/g,function(_0,_1){return String.fromCharCode(parseInt(_1,10))})};$(\"head\").append(decodeHTML($(\"#s_index_off_css\").html()));$(\"head\").append(decodeHTML($(\"#s_is_result_css\").html()));$(\".s-tips-skin\").remove();$(\".s-skin-container\"\n",
      "\n",
      ").remove();$(\"#s_mancard_newmusic\").remove();head_index_css.remove();$(\"#s-hotsearch-wrapper\").remove();$(\"#s_side_wrapper\").remove();$(\"#blind-box\").remove();$(\"#s_popup_advert\").remove();$(\"#video-meeting\").remove()}})();</script>\n",
      "\n",
      "<script data-for=\"esl-config\">(function(){var amd={keys:{},addPaths:function(opt){if(typeof opt!==\"object\"){return}for(var key in opt){if(opt.hasOwnProperty(key)){opt[key]=opt[key].replace(/(\\.js)/,\"\")}}require.config({paths:opt});$.extend(amd.keys,opt)},addConfig:function(config){if(typeof config!==\"object\"){return}require.config(config);for(var item in config){if(config.hasOwnProperty(item)){if(!amd[item]){amd[item]={}}for(var key in config[item]){if(config[item].hasOwnProperty(key)&&config[item][key]){\n",
      "\n",
      "amd[item][key]=config[item][key]}}}}}};s_domain.amd=amd;var staticUrl=s_domain.staticUrl+\"static/superman/\";amd.addPaths({\"@baidu/video-meeting\":staticUrl+\"amd_modules/@baidu/video-meeting-1be7f62dac.js\",\"superman/components/video-meet\":staticUrl+\"js/components/video-meet-7833028d86.js\",tslib:staticUrl+\"amd_modules/tslib-c95383af0c.js\",\"superman/components/guide_tips\":staticUrl+\"js/components/guide_tips-d9e617f782.js\",\n",
      "\n",
      "\"superman/components/login_guide\":staticUrl+\"js/components/login_guide-1b43d2de8e.js\",\"superman/components/bbox/bbox_view\":staticUrl+\"js/components/bbox/bbox-view-df7e8cb3b0.js\",\"@baidu/aging-tools-pc\":staticUrl+\"amd_modules/@baidu/aging-tools-pc-1e5afe8bdf.js\",\"superman/components/aging-tools\":staticUrl+\"js/components/aging-tools-c67ce70d27.js\"})})();</script>\r\n",
      "\n",
      "<!--[if lt IE 9]>\r\n",
      "\n",
      "    <script type=\"text/javascript\" src=\"http://ss.bdimg.com/static/superman/js/polyfill-ie8-30f98ab294.js\"></script>\r\n",
      "\n",
      "<![endif]--> \r\n",
      "\n",
      "\r\n",
      "\n",
      "<script type=\"text/javascript\" src=\"http://ss.bdimg.com/static/superman/js/sbase-647f83a3dd.js\"></script>\r\n",
      "\n",
      "<style type=\"text/css\">.sui-scrollbar-container{position:relative;overflow:hidden}.sui-scrollbar-bar{border-left:1px solid #E1E1E1;border-right:1px solid #E3E3E3;border-top:1px solid #E3E3E3;border-bottom:1px solid #E3E3E3;background:#E3E3E3;width:7px;position:absolute;top:0;right:0;height:100%;cursor:pointer}.sui-scrollbar-slider{border:1px solid #E1E1E1;background:#fff;width:100%;left:-1px;position:absolute;cursor:pointer}</style><script type=\"text/javascript\">F._setMod(\"superui\");F._fileMap({\"/js/ubase_5a7b0933.js\":[\"superui\",\"util/tool\",\"util/emitter\",\"util/dot\",\"util/smDot\",\"component\",\"component/draggable\",\"component/scrollbar\",\"component/dialog\",\"component/tips\",\"component/share\",\"component/share2\",\"component/notify\",\"component/suggestion\",\"component/placeholder\"],\"/js/ubase_unused_addca7b6.js\":[\"component/draggsort\",\"component/draggselect\",\"component/draggdirs\"],\"/css/ubase_9376fdcf.css\":[\"superui.css\",\"dialog.css\",\"tips.css\",\"share.css\",\"scrollbar.css\",\"suggestion.css\"],\"/css/ubase_sync_ac0620ef.css\":[\"scrollbar_sync.css\"],\"/js/utils_65f6f1b7.js\":[\"util/pubsub\"]});</script><script>F._setMod(\"superman\");F._fileMap({\"/js/sbase-647f83a3dd.js\":[\"lib/event.ts\",\"plugin/browser\",\"plugin/strpx\",\"plugin/url\",\"plugin/ajax\",\"plugin/load_file\",\"plugin/string\",\"plugin/stringify\",\"plugin/localstorage\",\"plugin/fn\",\"plugin/easing\",\"plugin/mousewheel\",\"plugin/cookie\",\"lib/base\",\"lib/sbase\",\"lib/class\",\"lib/mod_evt\",\"lib/log\",\"lib/thunder\",\"lib/utils.js\",\"common/user_attr\",\"common/select\",\"common/bottom_layer\"],\"js/polyfill-ie8-30f98ab294.js\":[\"polyfill/object-define-property\",\n",
      "\n",
      "\"polyfill/object-keys\"],\"/js/min_super-7ddd157405.js\":[\"common/result_page\",\"common/image_lazy_load\",\"log/webb.min\",\"log/super_all\",\"lib/carditem_log\",\"ps/log\",\"ps/sindex\",\"ps/sug\",\"ps/fpid\",\"start/super_start\",\"page/info\",\"page/scroll\"],\"/js/super_ext-6981fb49fa.js\":[\"plugin/mousewheel\",\"weather/setting_refresh\",\"weather/setting_ctrl\",\"weather/setting_view\",\"weather/weather_city\"],\"/js/resource_error_monitor-ed61c2f0be.js\":[\"page/resource_error_monitor.ts\"],\"/js/super_load-eb15f1e5a8.js\":[\n",
      "\n",
      "\"weather/weather_tpl\",\"weather/weather_ctrl\",\"weather/weather_autorefresh\",\"start/skin_start\",\"skin/skin_rewrite\",\"mngr/top_layer\",\"mngr/menu_user\",\"mngr/menu_common\",\"mngr/quit_dialog\",\"mngr/top_menunav_new\",\"common/guide_tip\",\"page/page_exp\"],\"/js/skin_layer-8eb880495e.js\":[\"skin/skin_init_new\",\"skin/skin_cut_img\",\"skin/skin_model\",\"skin/skin_nav\",\"skin/skin_page\",\"skin/skin_tools\",\"skin/skin_img\",\"skin/skin_control_new\",\"skin/skin_view\",\"skin/skin_new_upload\",\"skin/skin_setting\",\n",
      "\n",
      "\"skin/skin_preview\",\"skin/skin_defined\",\"skin/skin_opacity\",\"skin/skin_ajax\",\"skin/skin_extra\",\"skin/skin_random\"],\"/js/opacity_mod-57b92b76b5.js\":[\"opacity/opacity_tpl\",\"opacity/opacity_action\",\"opacity/opacity_conf\"],\"/js/min_setting-c3f73c1e26.js\":[\"setting/setting_constructor\",\"setting/mod_drag\",\"setting/setting_action\"],\"/js/page_setting-efd40fd443.js\":[\"log/super_all\",\"setting/page_setting\",\"setting/tab_msg\",\"start/page_setting_start\",\"common/pop\",\"setting/yaohao\",\"msg/const\",\n",
      "\n",
      "\"setting/data_adapter\",\"msg/bind\",\"msg/bind_window\",\"setting/common_setting\"],\"/js/s_super_index-3fffae8d60.js\":[\"ps/autohover_input\",\"page/ua_monitor\"],\"/js/s_super_async-4f03880b54.js\":[\"components/initSan.ts\",\"node_modules/san/dist/san.js\",\"node_modules/@searchfe/inject-js/dist/amd/index.js\",\"node_modules/@searchfe/reflect-metadata/Reflect.js\",\"ps/autohover_input\"],\"/js/min_mt-3df544d11c.js\":[\"msg/const\",\"msg/data_server\",\"msg/data_adapter\"],\"/js/mt_ext-4eee81afe1.js\":[\n",
      "\n",
      "\"msg/index_nav_msg_extend\",\"msg/msg_builder\",\"msg/bind\",\"msg/bind_window\"],\"/js/min_notice-605fc17cf9.js\":[\"mt/mt_show\",\"mt/mt_msg_constructor\"],\"/js/notice_ext-0bfec0da78.js\":[\"mt/mt_ext\",\"mt/mt_msg_item\",\"mt/mt_msg_operate\"],\"/js/ps/ishttps-8b74cccb13.js\":[\"ps/ishttps\"],\"/js/ps/async-destroy-94bec3bed1.js\":[\"ps/async-destroy\"],\"/js/lib/exception-13bf584742.js\":[\"lib/exception\"],\"/js/lib/jquery-1-edb203c114.10.2.js\":[\"lib/jquery-1.10.2\"],\"/js/lib/esl-d776bfb1aa.js\":[\"lib/esl\"],\n",
      "\n",
      "\"/js/ps/yc-4c3e9b9cb3.js\":[\"ps/yc\"],\"/js/components/hotsearch-a66606178c.js\":[\"components/hotsearch\"],\"/js/components/qrcode-0e4b67354f.js\":[\"components/qrcode\"],\"/js/components/advert-064271ed9b.js\":[\"components/advert\"],\"/js/components/nav-c3fe815932.js\":[\"components/nav\"],\"/js/components/tips-e2ceadd14d.js\":[\"components/tips\"],\"/js/components/guide-8759cd328f.js\":[\"components/guide\"],\"/js/components/bbox/bbox-view-df7e8cb3b0.js\":[\"components/bbox/bbox_view.ts\",\n",
      "\n",
      "\"components/bbox/bbox_animate.ts\"],\"/js/components/guide_tips-d9e617f782.js\":[\"components/guide_tips.ts\"],\"/js/components/login_guide-1b43d2de8e.js\":[\"components/login_guide.ts\"],\"/js/components/video-meet-7833028d86.js\":[\"components/video-meet.ts\"],\"/amd_modules/@baidu/video-meeting-1be7f62dac.js\":[\"@baidu/video-meeting/dist/index\",\"@baidu/video-meeting\"],\"/amd_modules/@baidu/aging-tools-pc-1e5afe8bdf.js\":[\"@baidu/aging-tools-pc/dist/index\",\"@baidu/aging-tools-pc\"],\n",
      "\n",
      "\"/js/components/aging-tools-c67ce70d27.js\":[\"components/aging-tools.ts\"],\"/amd_modules/tslib-c95383af0c.js\":[\"tslib\",\"./tslib/tslib\"],\"/css/super_ext-36b360db2f.css\":[\"mngr_quit_guid.css\"],\"/css/components/user_quit_dialog-527f3ede74.css\":[\"components/user_quit_dialog.css\"],\"/css/super_min-760ca374db.css\":[\"super_init.css\",\"skin.css\",\"super_skin.css\",\"select.css\",\"index_guide.css\"],\"/css/skin/skin_layer-d2120713ac.css\":[\"skin/skin_layer.css\"],\"/css/guidetip-b41ed60c8a.css\":[\"guide.css\"],\n",
      "\n",
      "\"/css/nsguide-a66438b784.css\":[\"ns_guide.css\"],\"/css/setting_min-4dae12391e.css\":[\"setting.css\"],\"/css/card_setting-673b2943c1.css\":[\"card_setting.css\"],\"/css/page_setting-da9f239ab9.css\":[\"super_setting.css\",\"select.css\",\"setting_msg.css\",\"setting_yaohao.css\",\"pop.css\",\"dialog.css\"],\"/css/mt_min-88763bc1c9.css\":[\"mt_mod.css\",\"index_msg.css\"],\"/css/pages/index-76e4b5965d.css\":[\"pages/index.css\",\"components/qrcode_new.css\"],\"/css/pages/index_result-3a33835e40.css\":[\"pages/index_result.css\"],\n",
      "\n",
      "\"/css/pages/result-7014ae574c.css\":[\"pages/result.css\"],\"/css/pages/ps-f7fa453974.css\":[\"pages/ps.css\",\"grid/grid.css\"],\"/css/weather/weather_new-405fe8942f.css\":[\"weather/weather_new.css\",\"weather/weather_setting_new.css\"],\"/css/pages/common-2de8869431.css\":[\"components/head_wrapper_new.css\",\"s_top_wrap_new.css\",\"components/topmenu_new.css\",\"bottom_layer.css\",\"components/blind_box.css\",\"popup_advert.css\",\"components/guide_info.css\",\"components/aging_tool.css\"],\n",
      "\n",
      "\"/css/components/hotsearch-6439b0f1a1.css\":[\"components/hotsearch.css\"],\"/css/components/nav-c468ec637c.css\":[\"components/nav.css\"]});window._xman_speed=window._xman_speed||{};F._setContext({base:\"lib/sbase\"});F.use(\"lib/mod_evt\",function(evt){F._setContextMethod(\"fire\",function(evtName,evtArgs){return evt.fire(this.svnMod+\":\"+this.modName,evtName,evtArgs)});F._setContextMethod(\"listen\",function(modName,evtName,handler){var mType=Object.prototype.toString.call(modName);if(\n",
      "\n",
      "mType==\"[object String]\"){if(modName.indexOf(\":\")<0){modName=this.svnMod+\":\"+modName}}else if(mType==\"[object Array]\"){for(var i=0,len=modName.length;i<len;i++){if(modName[i].indexOf(\":\")<0){modName[i]=this.svnMod+\":\"+modName[i]}}}evt.on(modName,evtName,handler)});F._setContextMethod(\"unListen\",function(modName,evtName,handler){evt.un(this.svnMod+\":\"+this.modName,evtName,handler)})});F._loadScriptTimeout=15e3;F._useConfig=true;F._firstScreenCSS=F._firstScreenCSS||[];F._firstScreenCSS.push(\n",
      "\n",
      "\"/css/super_min-760ca374db.css\");F._firstScreenJS=F._firstScreenJS||[];F._firstScreenJS.push(\"/js/min_super-7ddd157405.js\");</script>\r\n",
      "\n",
      "<script>\r\n",
      "\n",
      "$(window).on(\"load\", function() {\r\n",
      "\n",
      "    var e = $('#virus-2020');\r\n",
      "\n",
      "    e.click(function() {\r\n",
      "\n",
      "        $.setCookie('virus-2020-clicked', '1');\r\n",
      "\n",
      "        e.removeClass('dot');\r\n",
      "\n",
      "    });\r\n",
      "\n",
      "    var hasClicked = $.getCookie && $.getCookie('virus-2020-clicked');\r\n",
      "\n",
      "    if (!hasClicked) {\r\n",
      "\n",
      "        e.addClass('dot');\r\n",
      "\n",
      "    }\r\n",
      "\n",
      "});\r\n",
      "\n",
      "</script>\r\n",
      "\n",
      "    <script src=\"http://ss.bdimg.com/static/superman/js/s_super_index-3fffae8d60.js\"></script>\n",
      "\n",
      "    <script src=\"http://ss.bdimg.com/static/superman/js/min_super-7ddd157405.js\"></script>\n",
      "\n",
      "    \n",
      "\n",
      "                <script>\n",
      "\n",
      "        if(navigator.cookieEnabled){\n",
      "\n",
      "            document.cookie=\"NOJS=;expires=Sat, 01 Jan 2000 00:00:00 GMT\";\n",
      "\n",
      "        }\n",
      "\n",
      "        </script>\n",
      "\n",
      "            \n",
      "\n",
      "\n",
      "\n",
      "            <script src=\"http://ss.bdimg.com/static/superman/js/components/hotsearch-a66606178c.js\"></script>\n",
      "\n",
      "        <script defer src=\"//hectorstatic.baidu.com/cd37ed75a9387c5b.js\"></script>\n",
      "\n",
      "</body>\n",
      "\n",
      "        \n",
      "\n",
      "\t</html>\n"
     ]
    }
   ],
   "source": [
    "from urllib.request import urlopen\n",
    "with urlopen('http://www.baidu.com') as response:\n",
    "    for line in response:\n",
    "        line = line.decode('utf-8')  # Decoding the binary data to text.\n",
    "        print(line)\n",
    "\n",
    "\n",
    "\n",
    "\n"
   ]
  },
  {
   "cell_type": "code",
   "execution_count": 30,
   "id": "c8e811e1",
   "metadata": {},
   "outputs": [],
   "source": [
    "def average(values):\n",
    "    \"\"\"Computes the arithmetic mean of a list of numbers.\n",
    "\n",
    "    >>> print(average([20, 30, 70]))\n",
    "    40.0\n",
    "    \"\"\"\n",
    "    return sum(values) / len(values)\n",
    "\n",
    "import doctest\n"
   ]
  },
  {
   "cell_type": "code",
   "execution_count": 32,
   "id": "3164f6c1",
   "metadata": {},
   "outputs": [
    {
     "data": {
      "text/plain": [
       "\"{'a', 'c', 'd', 'e', 'f', 'g', ...}\""
      ]
     },
     "execution_count": 32,
     "metadata": {},
     "output_type": "execute_result"
    }
   ],
   "source": [
    "import reprlib\n",
    "reprlib.repr(set('supercalifragilisticexpialidocious'))\n",
    "\n"
   ]
  },
  {
   "cell_type": "code",
   "execution_count": 35,
   "id": "ed29be89",
   "metadata": {
    "scrolled": true
   },
   "outputs": [
    {
     "name": "stdout",
     "output_type": "stream",
     "text": [
      "[[[['black', 'cyan'],\n",
      "   'white',\n",
      "   ['green', 'red']],\n",
      "  [['magenta', 'yellow'], 'blue']]]\n"
     ]
    }
   ],
   "source": [
    "import pprint\n",
    "t = [[[['black', 'cyan'], 'white', ['green', 'red']], [['magenta',\n",
    "   'yellow'], 'blue']]]\n",
    "\n",
    "pprint.pprint(t, width=40)\n"
   ]
  },
  {
   "cell_type": "code",
   "execution_count": 43,
   "id": "cffbea05",
   "metadata": {},
   "outputs": [
    {
     "name": "stdout",
     "output_type": "stream",
     "text": [
      "The wrap() method is just like fill() except that it returns a list of strings instead of\n",
      "one big string with newlines to separate the wrapped lines.\n"
     ]
    }
   ],
   "source": [
    "import textwrap\n",
    "doc = \"\"\"The wrap() method is just like fill() except that it returns\n",
    "a list of strings instead of one big string with newlines to separate\n",
    "the wrapped lines.\n",
    "\"\"\"\n",
    "\n",
    "print(textwrap.fill(doc, width=90))\n"
   ]
  },
  {
   "cell_type": "code",
   "execution_count": 47,
   "id": "d82c9870",
   "metadata": {},
   "outputs": [
    {
     "name": "stderr",
     "output_type": "stream",
     "text": [
      "C:\\Users\\Administrator\\AppData\\Local\\Temp\\ipykernel_18180\\2730320352.py:6: DeprecationWarning: This method will be removed in a future version of Python. Use 'locale.format_string()' instead.\n",
      "  locale.format(\"%d\", x, grouping=True)\n"
     ]
    },
    {
     "data": {
      "text/plain": [
       "'$1,234,567.80'"
      ]
     },
     "execution_count": 47,
     "metadata": {},
     "output_type": "execute_result"
    }
   ],
   "source": [
    "import locale\n",
    "locale.setlocale(locale.LC_ALL, 'English_United States.1252')\n",
    "\n",
    "conv = locale.localeconv()          # get a mapping of conventions\n",
    "x = 1234567.8\n",
    "locale.format(\"%d\", x, grouping=True)\n",
    "\n",
    "locale.format_string(\"%s%.*f\", (conv['currency_symbol'],\n",
    "                     conv['frac_digits'], x), grouping=True)\n",
    "\n"
   ]
  },
  {
   "cell_type": "code",
   "execution_count": 48,
   "id": "ced3b387",
   "metadata": {},
   "outputs": [
    {
     "data": {
      "text/plain": [
       "'Nottinghamfolk send $10 to the ditch fund.'"
      ]
     },
     "execution_count": 48,
     "metadata": {},
     "output_type": "execute_result"
    }
   ],
   "source": [
    "from string import Template\n",
    "t = Template('${village}folk send $$10 to $cause.')\n",
    "t.substitute(village='Nottingham', cause='the ditch fund')\n",
    "\n"
   ]
  },
  {
   "cell_type": "code",
   "execution_count": 51,
   "id": "cbed1852",
   "metadata": {},
   "outputs": [
    {
     "data": {
      "text/plain": [
       "'Return the unladen swallow to'"
      ]
     },
     "execution_count": 51,
     "metadata": {},
     "output_type": "execute_result"
    }
   ],
   "source": [
    "t = Template('Return the $item to $owner.')\n",
    "d = dict(item='unladen swallow')\n",
    "t.substitute(d)\n",
    "Traceback (most recent call last):\n",
    "\n",
    "KeyError: 'owner'\n",
    ">>> t.safe_substitute(d)\n",
    "'Return the unladen swallow to $owner.'\n"
   ]
  },
  {
   "cell_type": "code",
   "execution_count": 52,
   "id": "fe7d5223",
   "metadata": {},
   "outputs": [
    {
     "name": "stdout",
     "output_type": "stream",
     "text": [
      "b'PyCharm 2020.1 x64.exe' 0xfaa16920 52974 410906\n",
      "b'\\x17\\r\\x8a\\x02\\x8a\\x0f\\x84\\x10\\x12@y\\x99\\xdc\\x00\\xda~\\xad\\x16i\\xbd\\x9b\\xd2\\xa5\\xdd\\xb6\\xdb~\\xed\\xb6\\xf6\\xb9v\\xdb\\xed\\xba\\xbb\\xad\\xc5~}\\x80\\xb4>\\xfa\\xb0\\x88mE\\xad\\xca\\xdb\\x84\\xf0\\x08\\x0f\\x11\\x1f\\xf5~g\\xe6N\\x80\\x84D\\x05y\\xa9\\x99\\x9f\\xff\\x9c\\x99\\xb9sg\\xe6\\xce\\x9c\\xff\\xcc9\\x93\\x1b\\x0c[\\x99\\x8f\\\\\\x11Bn\\x00\\x9eG\\xa8\\x00\\t!\\x08]>l\\x02\\x8c\\x9b\\xfa\\xe98\\xf4\\xd1\\xc8\\xefo+\\x10\\xc9\\xbf\\xbf-2)Y+\\xcd\\xd0\\xa4\\'j\\x14\\xa9R\\xa5\"--\\x9d\\x95\\xc6\\xab\\xa4\\x1a]\\x9a49M*[\\x1c!MMOP\\xcd\\x18;v\\x94\\x0f\\xad#<\\x04\\xa1\\x84\\'=QGGD<:*F\\xcfCG\\xcc\\xe8\\x0e4\\xda\\xc5\\xe5Vt+\\x14\\xd8.Fh\\x14B\\xe5\\x13 \\xee\\xd9\\xadg8\\xee\"\\xf4\\x1b\\x071N\\xe0\\x90\\xef\\x8e\\x10\\xfc\\xfb%`\\x04y.\\x84\\xa4]\\xe5\\xbbG\\xa8\\xb0\\x89\\x92\\x87J\\x19\\x01r\\x07T\\x95\\x06m\\x87#\\x94\\xe1\\x82\\xae8\\xc4A\\xf7\\xfc\\xec\\xe4\\xff\\xb8\\x19\\xa1\\x97D\\x8e\\xef\\x9b\\xc1\\xaa\\xb2Y\\x90\\xfbn\\xa1\\x1d\\xc2\\xcf\\xeen]&\\x0e\\x85\\xc7\\xcdHP\\xb0\\n\\x88\\x97\\xe0\\x0c\\x7fa\\x0c\\x90\\x8fu\\xb9 \\x14^8C#\\x144\\xbb\\x91\\x0c\\xa1\\xae\\xdbm\\xcb\\xc5\\x05\\xcd\\xc8\\x10\\xca\\x91g\\x0c\\xa7\\x8ap\\xb7m9\\xff\\xa0\\x19\\xd9B\\xb96\\x11\\xe9\\x88\\xd0\\xae\\xbf\\x9dr\\xf1Z-\\x8eo\\x1a\\t\\x1f\\x19\\xc8n\\xd8\\x84\\xe2\\ng$\\x0b\\xf5\\xa5\\x8c\\xa0\\x8a\\xe4\\x01\\x98\\xd9\\xa3\\xbe\\xc2\\x19\\xf3\\x96F\\xe2x\\x12\\xfe\\xc8\\xa7\\xed>h[.\\xa8p\\x06\\x9b\\xa2\\xed\\x9c\\xcbm\\xb4\\xdcl;\\xe54Z\\x8d\\x12\\xd1\\xb9\\xdd\\x81\\xfb\\x08\\xf2\\x8f=\\xdb\\xbd\\xe7>\\x1c\\x13\\x86\\x04I\\xdd\\x85\\xfa>\\x14\\xdb\\x94\\x0b\\x9f{O@ \\x89{L\\xc5\\xe3\\xe1.\\xa8\\xdb\\x0e\\xdbr\\x9es\\xef\\xb97\\x80\\xc4C\\xf1\\xf8\\x85\\xd3\\xfaJ\\xec\\x94\\xbb\\xef~\\x12\\xff\\x1d\\xbe\\x1e\\xe7.\\xccG\\xa9\\x9dr\\xf7\\xff\\x81\\xc4\\x19\\xfc\\x91A\\xeb\\xfb\\xd9\\xb6\\\\\\xd0\\xdc{\\xfe L\\xd2+\\xf8c\\x13-W\\xd6\\xb3>\\xe4\\x0c7d(\\x96L\\x95!\\xa4\\x9e!\\x99\\xba\\x85\\xa4\\x99\\x9cz?F/V\\x81\\xfa\\x07\\x94\\xeeEX[!\\xa9\\x86dg\"\\xb9{\\xe2\\xee\\xee\\t\\xc9\\xbdP\\xd5\\xe6Ya+\\xd9hH\\x89\\xe0\\x12\\xe7\\xf5V,Bz\\x94[\\xc8\\xde\\xbf\\x0b\\xab\\x9ea\\xd5d\\xf8\\xd83\\x19\\x97\\xf7z\\x1d\\xca\\xebo\\xe2<\\rXq\\xe1\\x8e\\xc7a\\x01\\xc8\\x99%bW\\x06\\x1429_\\xf9A\\xdf\\xd0.\\\\\\xb5\\xe1v(o\\xda/\\x99\\x1a\\x84\\x18%3\\x9b\\x11\\xed\\xdb<\\x0bo\\x1c\\xba\\x97%\\x9f0\\xde\\xea\\xcdgG\\x8b\\xd8@,\\\\tO\\xe5\\x14\\xe0\\x07\\x19\\'yr#\\xcf\\xf3\\xfa\\xad\\x1d\\x08?H\\xee~\\xc9\\x0b\\xbb\\x8dI\\x90\\xc3\\xe4\\x8d\\xdd\\x00K\\x8d!\\x01>h+9\\xd9,\\x14_\\x08\\x17e\\xfaM\\x06R>$\\xb7\\x10\\xdf\\xf0\\x07\\xc8\\xeb9>\\xb3\\xa0\\xa7^\\xd0sy\\x9e\\xf8\\xc0\\x1a\\xc8\\xc9\\xf3\\xfa\\x81\\x88\\xb1%k\\xf0\\xa3r\\xe2\\xed$)~\\x03\\x0bN\\xe6#\\x85\\xf2\\xef\\xc0\\x93\\xc9\\xf4\\x1e\\x86\\xd4I\\xb0\\xf4@\\xab\\xb3\\xe0\\xd9\\xf0\\xaa\\x87\\x82\\xa3\\x82#\\xa3\\x96/\\x8b`6\\xd7\\xbf\\x84\\x9b.\\xdc5\\x16\\xb7\\x92\\x17\\t\\xb7q\\x87[\\x99\\xf7\\x19\\xfd\\x9c\\x02r\\xb3$\\x04\\x9e\"\\xf73\\x18D\\x15\\xa3w\\xf3\\xf5\\'C>\\xa5\\x1e\\x96\\x95\\x80\\x06F\\x9f\\xe1!\\xd7\\xfb\\xeaa\\xc15\\x8dg\\x02\\xf7H\\xb6\\xdc\\x07\\xe5v\\x19`\\x07\\x0c\\xe6\\x7fd8\\x83\\x99\\x91\\xfc\\xfb^&\\xb7PW\\xc9\\xe8\\xef\\xdfG\\xee\\xd1\\xbb\\xe7t\\x88$[\\xf0B\\xa3w\\x87\\xe7\\xdd\\xb2\\x1eb{\\xc5\\xa6\\x18D\\xa6\\x93^\\xf6\\x86\\xcc\\xdc\\x06\\xc9\\x96\\x00\\x172CS\\x02\\xb0@P\\x13;&$\\xa0\\xf0S<\\xa5\\x01\\xfb\\xf9\\x12\\x83\\xcf(2\\x04\\xa9\\x120#\\xbc\\xce\\xa7\\x93\\xe9\\r\\xc2\\x859\\x17C\\xd28r\\xed\\xd9_y\\xde\\xf0\\x817B\\x863#He\\xe5\\xfe\\xf8\\xba\\xb8B\\rYo{\\xe3\\x8a\\x84\\xaau\\xb7\\x98b-\\xe3\\xbd\\xa5\\x94\\xbd;\\xa7B\\xc4\\xdeA\\x14\\x81\\xc9)\\x14Ivzn:\\'}\\xac6\\x98\\xdb\\x17\\x9cc\\x16m:\\xf7\\xbb`\\x89l\\x9f\\xa9ZMfjK\\xa9n\\xbcir\\xd7|A\\xd1\\xc7G\\xd3\\xdb\\xe0\\x9a\\x19\\xdaKV\\xe3\\xe1\\x1c\\x01s\\xccNl\\x97\\xf9\\xac\\x16\\x15@\\xdf\\x91$\\xb7\\x19>9\\xb1\\t6`\\xfd\\x141\\x8c\\x82,O)\\nSV\\x87\\x16U\\xbb\\xca\\xb9\\n\\xc3\\xdc\\x9ba$\\x8e\\xc1tT\\xac\\xc6\\xdd\\xfe\\xfa\\xb1\\x85y\\xf3\\xf8\\x80c\\xf2\\xbc\\xbb\\xbf\\xc6{\\x17\\x9dOF?f\\xaa\\x81\\x9f\\x88\\x1f8C\\xc4p\\xcd\\x86\\xd1p[(\\x07\\xed\\xca\\xa6\\xc0\\xc5\\tS\\x19\\xae\\x88\\xc9)\\xf60\\x98\\xa0Lh\\xe0q\\xdd\\x81\\x05y2\\xdf\\x0ef\\xaf\\xa0]\\xdc\\xf4\\x1c\\xa8\\xdd\\xf0\\xa20\\xda?\\xdcC\\xc61\\t\\xb2\\xf4c5\\xab\\x85\\xa1\\xe7<\\xe5zq\\x14Ix-\\xc3\\x859\\x11\\xbe\\xfc\\xd0j\\xdc\\xfb@\\xf8\\x045\\xd9R\\x8cg\\xd0\\xeb\\xf78U\\xaa\\x1bm8\\x00\\x8d\\xe9\\xc5\\xb7\\xe0\\x9b6\\x7f\\x85\\xf5l\\xd5\\x9a\\xd8\\x98\\xe0\\xd5\\xc11\\xc5\\x92Od>qF1(\\xba0~\\xa0\\x1e\\xefA\\xab\\x9fw\\xa9@\\xee\\t\\x98\\xb7]x{3\\xfcybg\\xa6\\x012\\xa1\\x03\\x7f#=\\x1c\\xfb$\\x08\\x83b\"V\\x95\\xbd\\xee.d4\\x7f\\x80\\x02@\\xb0\\xa7\\\\\\x8d_\\xffJ*\\xa7\\xfc\\xe1\\x0e\\xf2^\\xfaT\\x84\\x8c\\x0f\\xe0\\xec|\\xa8c\\x03\\xdc\\xbc\\xd7]XB\\xc6\\xae\\xc65\\xdd\\x0c5\\x19\\x1f\\x81\\xeb\\\\\\x91\\xc1\\xe4\\x05\\x8c\\xe9\\xb1>\\xbds\\x8fe\\xd91\\xfc\\x03>\\r\\x1f_\\xe0\\xf9\\xfc|\\xbah\\x04\\xf5\\\\\\xcft\\xa4<\\x0e\\x86\\x8d\\xb8|\\xee\\xa5\\xca\\x1b\\xfe\\xec\\x85\\xb0\\x1eJ\\x9e/\\x94\\xec,<SF\\x8a\\xe5\\x0b\\x01\\xf4\\x18[6\\xc6\\x1f\\xc9\\xd2\\x10\\x84\\x8a\\xf3\\xadC\\x14\\xc3\\xd5@\\x1dR\\xc3!B\\xe3\\xb1\\xaf\\xde\\t\\xad\\x9d\\x9c@\\rk\\xa8I\\x1acu\\x0b\\xed_\\xee\\xe4N^M\\xe1K \\x83\\xc5\\x19y\\xe1\\x1e\\x8c>\\xc8\\x83\\xe1\\xbcT\\x93I\\x8ftUB_\\xba\\xfa\\xbb,B\\xa8al\\xc4t\\\\\\xc3\\xf8\\x9cs<W\\xc2\\x06B=Rnw\\x8eA\\xc4\\xe4\\xddr\\x90\\x99\\xb6\\x9b\\xc9c\\x0fv\\xe0\\xfe\\xf2\\xbfarL\\x1eL`\\xab\\xee4\\xf4\\xee1\\xbc\"B\\x8d\\xab\\xd6\\x18]\\xc9\\x03\\xc1\\x02dr\\xe1JdyA\\xa2\\x059\\xb3\\x8b\\x90\\x9c\\xdb\\xad3\\x9b\\xfe\\xdd\\xd5\\x9e^|n\\x05\\xc2\\xcb\\xb9\\xbb\\xb0s\\xec\\x15\\xd7\\xae\\x10\\x16\\x0c\\xe3z\\xa8!\\x9f\\xe1}cR`\\xc6,!\\xa0\\xd0z\\x84\\xe8j\\x97S\\xef\\x0f\\x8b\\xd7=\\xf8\\xa9\\nf\\xbeyr\\xfa\\xcbwA,\\xb0\\x98\\xd9+\\xf3!\\xf6:{3s\\xe6\\x10\\xc3M\\x992\\x99\\x0c\\x9a\\xbf\\xa0\\xaf\\xc5\\xa0/yr\\x1f)\\xef\\xb5d\\x1d~Z\\x16Go\\x87h0\\xf7\\x15\\xef\\xe5\\x0b\\x11\\xeek\\xdek\\x0e\\xbe\\x06\\xc5\\xfc\\xb8\\xbd\\xbc\\x17\\x83\\x13\\xf7\\xb2>~2\\xae\\x9c\\xf9\\x94\\'\\x01r\\x02\\xcc\\\\#\\x13\\xb0\\x87\\xeb\\x80\\x18s[\\t\\x13X\\xc6\\xfa2\\xdcn\\xe6L),\\x10/M\\xc2z\\xea\\xf5\\xc6$\\xeb\\xb6\\x05~|\\xfa]\\x8c\\xb4T\\r\\xd3\\xcf\\x14\\xdcK;n\\xfa\\xb6k|\\xa2\\x96E\\x08\\x1a\\x90\\xc1p\\x07`\\x84/D\\xe3\\x05\\xb1t-Y\\xacO\\xad\\xc0=\\x8b*\\x83\\x95\\x93\\xe1\\x8e\\xf0^\\xc5k\\x05=\\xdb\\xf2\\x16Q\\x96\\xa8\\xf2P\\xae(\\x94+\\xc3\\xa30\\x0b\\t\\xfa\\xf3Y4\\xeeK\\xa4\\x8f?\\\\60\\x1c<|\\xc0~\\x9c\\x86)\\x8f*\\xe3\\xbd8R\\xb1\\xf8\\x99\\x15d\\xf5\\xe4\\xee\\x1f\\xbb\\x82,\\xa9\\x991x`G\\xba\\xa1BB+N\\x1c\\x15C\\xca}\\xe1\\x8dS!f\\x88\\x16\\x0b\\xd1\\x0e\\xde+l-i\\xe9&?\\xdc\\xd3\\xb8\\xb5\\xf8\\xf3\\x9bd\\x84>\\xc5\\xb7\\xc3j\\xc5{\\xcd\\x86<\\x83\\xf6&\\\\C\\x887T&%\\x8f\\x11\\x02z)\\xfe8\\x1a3\\x15O|7}\\xce9\\xe7\\xca\\xde\\x9c[\\xca\\xfe\\xa6\\x80\\xb4\\x8e5\\xb6\\x93\\xff\\x86o\\xc7 \\xd4\\x95\\x9fo\\xd1_\\xb1\\xf6N\\xbc\\xf7\\xbb\\xb0\\xee{\\x89\\x89\\x9as\\xce\\x85\\xfdM\\xce9\\x11\\x1b\\xd4Yx\\xd5\\x1a2\\xffS\\xde\\xcb\\xc2\\xcd\\xdf\\xff&\\x16\\x81\\'\\xd8\\x93\\x8c\\xde\\x15\\xf3\\xc6\\x85/\\xc1\\x0b+d\\xe9\\x1a\\xba\\xdfcX\\xd1\\xbdE\\xc8\\x00-\\xef\\x9a/[\\xfd\\x84\\xde`\\xdb\\xa5f5\\x99\\x19\\xf6\\xee\\x16\\x89\\xe7\\x16\\x1f\\xbc\\xb2\\xe3\\xa1\\'\\xcaGF\\xbfE2\\x1e\\xe6\\x04>W\\xfb\\xcc\\x82O\\x99O\\x10_\\x82\\x97\\x93\\xe8\\x1e\\xf6\\x147\\xf6e\\xa8\\xcb\\xb8z<\\xde\"\\x82\\x04\\xbefK\\xa6\\xb1>A\\x92i\\x8f\\xfa\\x84\\xcb$\\xd3`\\x01\\xce\\tt\\x97<u\\x10\\xd3\\x0b\\x08\\xebu7\\xcc\\x04\\xa3t{\\x82\\x11\\x95\\xf0\\xe5\\xf0\\xc0\\x1d\\xb7\\xe3\\xa1_\\xef\\xd1\"\\x93x\\x06K\\xa1G\\x1b\\xbc\\xe1c\\xbd\\xa7`P\\xdd\\t5\\xb7\\xc8p\\x1f\\xfcC\\xb9fP\\x1f\\xe8\\xcf\\xa3\\xa0\\x1fy^\\x05w\\xe0\\xf6\\x8b \\rD1\\xfc/\\xb8F\\xf9\\x12?h8\\xa0P\\xe2G\\x9a\\xf6\\x83\\xa6\\xa1\\xd3\\xd9dPh\\x7f\\xf3\\xa6l\\x87\\xe6L\\x7f\\xb6\\xecgySvA\\xda\\xf8(]\\xef =\\t\\xaa5\\xa6t\\xa5+\\xf0\\xf5\\xd5]\\xe9\\xf7pZ\\xde\\x95\\x9e\\x8a\\xcb\\xcf\\xa6:r\\xac\\xcaf\\xbc\\xb9}0\\xab\\xdd\\xc7k_\\xb1\\xdd\\xf5\"\\x9cQ\\xde\\xaf]\\x05KO;\\xc3}\\xcbp?\\xc9\\xb9\\xbd\\x92g\\xd4\"\\xa2\\xd6\\xb1\\xab\\x88\\xfa\\xe7\\x14z\\xc3~\\xe2\\xc9\\x04\\x1e\\xd2L\\x90\\xc3\\xba\\x19\\x02\\x90\\x8bvCZ\\xf2\\x04\\x87u\\xaaH\\x04e\\xfc\\x02\\x9buG\\x80~\\x86\\xe01d\\x8eC\\xb9\\xaf$[\\x96\\n\\x15M\\\\\\x85\\x9f\\xf8\\xbe\\x9dLQ\\xad+#2\\xcb\\xb98)\\xdd5d`\\x96\\x05\\xeb\\xe5>c\\x88i\\x16\\\\@\\xcc/Q\\x11\\xdcS\\xb9\\x12\\xf7Z\\xee\\xef\\xcd{\\xdd\\x9bH\\xf9\\\\\\x8b\\xa7R\\xe6#\\xcb\\x0b\\xbf\\x90Sy\\x9e\\xf5\\xc81\\x04\\xe5\\x94\\x7f\\xa9\\x8b\\xcf\\x11\\xff\\x0bJ\\x8brx\\x0f\\xed\\xb4\\xa0\\xf6\\xbdn\\x92\\\\\\xec\\xd2\\xe6\\xf2\\xac\\xa7dg\\x08\\x82\\x1c\\x97\\xad\\xae\\x92\\xdc\\xbf\\n\\xba\\x1aN\\x17\\x1e\\xae#\\xa7I\\xc4\\xe8#\\xc5\\x1dp\\x1fh\\x9fk\\x87\\xa6\"\\xe7TG@!,\\xf0\\x85\\xb0A\\xc8\\xbdP`\\x07\\xc3\\x8d\\xf9\\x8d\\xa6\\xd1\\xb4\\x8fq\\xbd\\x7f\\t4\\x11\\\\\\x80}~\\xb8\\x86\\xad\\xcfH\\x9fY\\xa0\\x19\\x0c\\xb7\\x08\\xee^\\xe6\\xc9{mQ\\xe3\\x15\\\\\\x92\\x9b\\x86\\x17C\\xafv\\x15\\xa1\\xffB\\x985n\\xb7a\\x0ch\\x89>\\x04q<\\xe7\\xaa\\x97\\xcd\\xb9\\xc0\\xc9\\x1e\\xba`\\xcc\\x80b\\x01\\xed\\xc6}\\x17aC\\xe6\\xc1`\\x98sQ\\r\\xf9\\x17\\x8d\\xd1x\\xf7\\xd0\\x8b+\\xc8r0\\xb6\\xd4\\x17\\x8fP\\xa4\\x0f\\x18\\xa22\\x7foC\\xb1D\\xd8\\xff|\\xf1\\xe8\\x1c5|$\\xc1\\xda7\\x15E\\x05/\\x0f^\\x86\\x8d^aVg1y\\x1f\\x10z\\xe9\\xa7<\\x87\\xf7\\x95c\\xecx&OU\\x00O\\x8e\\xad\\x93\\xe05\\xc1\\xb11\\xc5{\\xc5Z\\xba\\xc5\\x18\\xc6\\x8d\\x86\\xda^b\\xf2\\xdc6\\x01\\xbe\\xbe\\x95\\x8cS\\xb9\\xd9\\xf0\\x07\\x98\\x1c0\\x7f\\xe3n\\xc7\\xfb\\xd1\\x82\\x15H\\xd0$\\xfd\\xfd\\xb1\\x988\\xd3\\xbeb\\xf2\\xb0\\x11\\xce\\x89g\\xc1\\x159l\\x03\\xd3\\xccLN\\xc7\\x88\\xc7^\\x84\\xcf\\xd1\\xfa\\x89\\x92g\\xf6\\xe19(\\x95ly\\x1b\\xa4<\\xb0V\\x92\\xb3\\x01\\x1eL\\x9e\\x97\\xe9\\x11\\x9a\\xf3\\xd5\\x08\\xb9~\\xfa,\\\\M\\xde\\xffl\\x0f\\x9b\\xd6\\x16ZT\\xef\\xba(/\\xa1\\xd6\\xc34J\\xd8\\x0fBs\\xf6x\\xe8\\x17\\xb9\\x05\\x17\\xb8\\x11\\xe5=\\xa7w\\x97s\\xedr\\x91\\xd1U\\xc4\\x85l7\\xfc\\x11l\\x98\\xb0\\xc0Z\\xdd\\x11\\xbd\\xf8\\x93h\\xd0\\xd1v\\xe8\\xa5\\xbb\\x8a\\x8c\\xfe3\\x13x\\xc1\\xfe\\x11\\xbf\\x81\\x97x\\x91Y\\xa6G\\xd8$\\x1d\\xc7\\xe8\\xc3=C\\xb9\\xb3\\x8c\\x9e\\xf1\\x00\\xdb=\\xa7X\\xc4\\xe4\\xec\\xf1{hJ\\x16\\x94z\\xf4\\xa0\\xf1\\x04L\\x02\\xb4\\x87]\\x81%\\xd8\\xc1Y\\xe6\\x01\\x06\\xde\\x14\\xfd\\xb21Pj\\x8cd*~\\x8e\\xdcY\\xf8\\xc2|7<\\xc5\\xd3\\x852\\xb0\\x90Jr\\xef\\x11\\xe1Q\\x9a\\xbe\\x16\\xcf\\x08\\x14\\x0e\\xfd\\x12\\x913?\\xfc\\xa8\\xba\\xed\\xf0\\xdc\\x1a\\xc6\\xb8\\tj\\x97<Y@\\xd6_\\xa9d\\xcb\\xe3$\\x12$\\xc9-\\'\\xe39>\\xb8\\x00[\\xbar\\xee\\x0cX\\x14r\\xd17\\x0c\\x17\\xb5]\\xce\\xb5\\x18\\xa2/`+b\\xcf\\x182v7\\xf1\\xa4\\x83zw\\xc9\\xcee\\xc0>\\xa3\\\\d\\xc89\\x07&\\xab\\x87\\xee]\\x99\\xe4\\x13\\x11\\x94\\x87\\xfb\\xc3\\xb8\\xdd\\xa1\\x9b\\xbf\\xc1\\xad\\xab\\xe1\\x99\\xc3$\\xcc\\xee\\xd0i\\x85a\\xa2}r\\x18\\xb4\\xe0\\x02\\xb2\\xac\\xb9B\\xa5\\xa6\\xf7\\xf2\\xf5\\xe3\\xa1x(W\"\\x1fy\\x0eJ\\x86JBK\\xe8P[\\xf5\\xe0\\xe7\\xf3<o\\xc4\\xb3\\x96\\x9fs\\xceCw\\xbfL\\xb2\\xd3\\xba!\\xb8\\x12\\xb2\\xa5G;D\\xa5^\\xc1\\xb7\\xfeQ\\xf0\\x0c\\xff\\xfe{\\xa8xo\\xc8v\\xc2x\\x97\\xb1D\\x81WA\\x9e\\xa1}\\x8c\\xc5\\xa4\\xc1\\xbb\\x95^4\\xe7Y\\x84\\n\\xb3\\x94s\\xf2@h\\x1f\\x99\\x03\\xa3\\x02\\xa4\\x17C}\\x92\\xa7\\xbe\\x85{\\xe7\\xc0\\x13l\\x92li\\xc3Q1\\xbe\\x96[L\\xdc\\xca]\\xa3q\\xc5F\\xec*\\x11\\xe7\\xea\\x1e\\x11]/fC\\x84\\\\\\xe4K\\xa8SjY\\x0f\\xe7<O\\xea\\xfe\\x18\\xa2Y\\x7f\\x98\\xf3\\x1cI\\xbc\\x8a\\xf3\\xff\\x02Q]:\\xd4\\x89\\xa7\\xc4\\xf0\\x02\\xad\\x93M\\xc7\\xbbV\\xf4.\\x8f\\xeeu\\xcdy\\x01\\xca\\xb2\\xc9s^\\xc4\\xb7\\xcc\\x86[\\xf0\\x00\\x1a\\xe2;\\xbb\\xb1\\x15\\xd1n\\xe0Vv\\xb9u\\xbf5\\x7f\\xce\\x14|\\xef\\xb7s\\x9e\\xc6\\xe2v2dV\\xfd\\xfb\\x14\\xe7\\x08}\\x18\\x0f\\x15\\x1an9G\\xcc~\\xa1\\x88\\x8c<4\\xb9\\xd86\\x92\\xb6\\x96\\xbb\\n\\xc6\\xba\\xdb]\\xc7F\\xe2M\\xd88\\x82\\xee\\x17\\xc2\\x15\\xd2\\xc1\"\\xe1J\\x03\\xe8d\\xd7\\xfe \\\\\\'\\xe3\\xf8\\x86p\\xfd{\\xb8NT\\xc2X\\x0c\\xb1\\xce\\xfdBjx\\x16{\\x99\\xdc\\xd7zq\\\\\\x14f\\x9c\\xce\\x97\\xc9m`a\\x0f\\x1f\\xdbq\\x1b^\\'\\xe6G\\xd1E\\xe5=\\xb1\\xb0\\xd7O\\xb0<\\x9d\\x94.\\xbct\\xff\\n\\\\\\x06-\\xe2\\xf5>\\xa0\\x1d6\\xd5\\xbb\\xa2p\\xad\\'\\xc13\\x97\\xe7\\xf96b\\xd7H\\x8a\\xef\"\\xbez\\xe8\\xb4z\\x88\\x98f\\xec\\x191\\x12\\xf8 \\x02sd\\x8c\\x8cKt\\xd33c\\xb8\\x85m\\xae\\x0c,\\xbf\\x1dL\\xce^\\x0ff\\x9a\\x81\\x9bw\\x81[\\x08\\x89\\x8bRv&\\xf6\\x12u\\xee\\x82}\\xff5\\x93\\xdb\\xce\\xb5\\x80/n9y\\x80\\xee\\xee\\x8a\\xc2\\x1e\\xa4\\x01\\xd6\\xed8x\\xc8\\xe5x\\xf8p\\x93\\xa6j\\xdc?\\xf2\\xa8@M\\xbd\\x0bl\\x8b\\\\\\xd1\\xe6\\n\\xb8,\\xdd|v\\xde\\xbc\\x87\\x81\\xbf\\x98\\xe1\\x82\\xaa&\\t\\xaa\\xfa(UU|\\xf0)y\\xaa\\xadKU_\\xb7\\xa8\\xaan\\xaaEM\\xe7zX\\xf4c\\tU\\xd3\\\\\\x89\\xb0KzDR}\\xf1\\xc4i\\xee\\x08\\x192\\x86/\\xc7\\xfd\\xe9\\xae\\xaf\\xd1D_\\xd9\\xf9\\x82\\xae\\xee\\xb1\\xa8\\x82q\\x84\\xa5\\xe2\\x93\\x82\\xe2\\xb1\\xefS}-\\xe0\\x05\\x7fD\\xba\\xaaS\\xbf\\xda\\xe7\\xba\\x81\\xce\\xe0\\x83\\x98n\\x17\\x05\\x85n$\\n-\\xc9]\\x8b\\xb7\\'\\xaa\\xd4y\\x9du\\xff\\xd7\\xa2\\xd4\\xf8`\\x87*5\\xa9\\xc2\\xf4\\x9a\\xa0\\xd3\\xdf\\x11\\x9d\\x96\\xe4\\xde\\x85\\xf3\\xde\\xb4\\xb4g\\xe9\\xa4l\\x84\\x03}\\xbd\\x0b.\\x90z\\x8c\\x11x\\xbd\\xa1\\xac\\x15r\\x82qO\\n\\x8d\\x0f\\x92\\xc9\\xeb\\xc1\\x8ff\\x98c\\xc3\\x85v(\\x17\\xd0Y%\\x19\\xe92\\xb8\\x90\\xb3\\x8f7\\xbatf\\x0b\\xfaO\\xb3M\\x17\\xbb\\xcc\\xeb|\\xaa\\xdd`\\xde\\x8d\\r\\x8e\\xc2\\xa6\\xfa\\xcdk\\x88k1\\x01\\xab%l\\x9f\\xf72\\xfa\\xe9\\xcf\\x93\\xac9S@\\xe4\\xebG\\xf3?1\\xdc\\x1e\\xfe0(\\xd78P.v$\\xa3\\x9f\\x07\\x8a\\xd8\\x8c\\xbd\\xccU\\x9ep\\x8b\\xee\\x17\\xa8\\xebt\\xa4\\xc5<\\x8e\\x8dax\\xdfQp\\xab\\xb0\\xbfY\\xda\\xd3\\x8b?\\x8d\\xc4\\x0c\\xc8-\\xe4\\xbe\\x07\\x1d\\xd7\\x8d\\xe6\\xcc\\x96\\xf2\\xc5\\x9fz\\xe3>\\x13.\\x85\\x08z\\xccp\\xc5\\xec\\x1c\\x0ew\\xf2U\\\\1\\x97\\xed\\xc1{\\xa5\\t.\\xc8\\xbaH\\xa2\\xd4[H\\xfe\\x94\\x18\"\\xe6\\x81Q\\xf2W\\xb8\\xdc\\xad\\xce/\\xc8T\\xfdo>\\xd1o\\xbdxN$\\xa60\\xf7\\xadN\\x12PhQ\\x10j\\x9f\\x8e\\r\\x8c\\xc4\\xe3 \\x11\\xaa\\x1f#\\xe8&;Y\\xef\\x19xH7\\xda\\xb4X?>\\xf0(;\\r\\xccJF\\xcf\\xc0\\xe3\\xee\\xd75\\xc2-\\xee\\xe4\\x16\\x9f\\x18\\xbc\\x80X\\xeb\\x1b\\xa3_\\xe2\\xc9p\\xe1\\x9e\\x06\\xa5\\x98T\\xfeK\\x04.yn5\\xf0\\xedG\\xb2\\x1e\\xe8\\xc3=\\xf1\\x11\\x0e\\xe7\\xf5&\\\\1\\x95\\x91\\xfe\\xe1\\xedu\\x0b\\xe8:\\xd2\\xf8c\\xbf\\xe5\\xb7\\xe0\\x00\\xe9~\\xab\\x17o\\x8d \\x9e\\xf2x\\xc3\\xc30\\x83\\xa6Qd<\\r\\xe7\\xdbx\\xbek\\xa1)\\xd6\\x8b\\xe3#\\x04k\\xec\\t\\xe2]GB\\n\\xd4\\x0e&E?6(\\x02?\\xcb~0\\x89\\xf4+<\\r\\xa5nd\\x86\\x81o\\xba&\\xe8\\xd8<|q\\xaf\\xd8;B\\xb0v\\xf6\\x8a\\'\\xd2\\x18\\xefu\\x01\\xacX\\xd3+\\xc2\\xfc\\xe9\\xc5.B/&\\xee\\x15\\xb7-\\x15V\\xbcn\\xcd\\xe3\\xf3\\x8c\\xb3K\\xc9\\xf8\\xe1G<\\x96ox\\x05\\x964#\\xdb\\xe9\\xd11\\xca\\xe0\\xd9\\x8c\\xa8(\\xa0ps >qeE\\xc5\\x01\\x85\\xea\\xcd\\x1b\\xbcG\\xbbH\\x9e/\\xc4\\x96\\xfb\\xe6\\xc0\\xb0\\x95\\xecHp\\xa3\\x84\\xf6L\\x07l\\xceS\\x84\\xfb%\\x9f\\x04O\\x003L\\xe4-\\xf9$\\xd4\\x1d\\x1eiZ\\x8e\\x11<\\x9d1\\x9c<O\\xbe\\xcfO\\xa6\\x0f\\x1a\\x13\\x1aX\"\\xe7\\x8a\\xb2<\\xf0*\\x19x0\\x0b\\x1f\\xd9\\xf9\\xc9\\x03\\xf7\\xe9\\xaa\\x02\\n\\xad\\xfc\\x03\\xba\\xb8\\x83smx\\xd9\\x95P\\xd4#k\\x1d\\xa3\\xf7z\\xfe\\x16|\\xf4\\xfc`\\xd8J]\\x0c\\xc3\\x1d4\\x84\\xc0\\x03\\xc0C/a\\x94\\x0b\\xa0\\xf9\\x83B\\xf3\\xabq\\xf3\\xc1\\xee\\x90\\x1fHNF\\xb0\\x15\\xf9h\\xb1\\x9f\\t\\x16\\xebb?&\\xf0<\\xfb;\\xc1\\xc0a\\xb8\\x16\\xec\\x1f\\x04\\xb8\\x92m\\xa3\\x92\\xe1\\xca\\xe8\\xa6\\x00=\\t8\\xd6-)\\x99J\\xce\\x8b\\xe4z\\xb1\\x17n>\\x18\\x1f}3\\xdc7\\xba\\xe5\\xf0(\\x86\\xdd\\x17I\\x17\\x16\\x86*\\x83fC\\x97\\xe4\\xd3\\x8aBE\\x85\\xc1\\x92O\\xc2\\xdd\\xe1#hBnih\\x9e\\x0cy\\xb3w\\xe5\\xd4AW&<\\x07#Q\\xe2\\xa7\\xce\\xc7c!\\x0f,\\x92s\\xbb5\\x1e\\xae\\xe1x,4\\xdd\\xc7Bp\\xa6{\\x9c\\x87y\\xbd\\xf0[\\x84B\\x02\\n\\xc9\\x08\\xb0\\xa3e\\\\\\xe7\\xf99\\x1e\\x8cYBO\\x8c\\x8cr\\xeel\\xb0\\xc1d\\x9e\\xee\\x96\\x02\\xea|\\xda\\xff\\xa8\\xdfv\\xef\\xffR\\xdc\\x7f\\x17\\xe1\\xae\\xf9\\xa1Jf\\xb6\\xbc\\xe7\\x0c\\xce\\xa03\\xc8\\xe0\\x19\\xec\\xeaO{\\xd0\\x1dRXc\\xc0\\xfb\\x970\\xf8\\xc9\\xa0\\xeb\\x0ct\\xdd`\\xb1\\'h\\x7fk&[\\xa6\\xebV\\xdc\\xc3\\x17\\x7f\\xc5m\\tGd\\x92\\x90\\xdd\\x96#\\x03Y\\xe7\\x19\\xbd\\xdaR?\\xed\\xef;\\x93\\xf1\\xa5\\xce\\x1e\\xb3\\x1e\\x96\\xe7\\xc5=gHml\\xfdeF>\\xa0\\xfb\\xc8[\\xea\\xb73\\xfe\\x9e\\xb6\\xe3\\xaf\\x0f\\xf29SRd\\x98\\xdae\\xe5X\\xcf\\x87\\\\?E<\\x99\\x8c\\xe7Ca+\\x83\\xb9\\xfd\\xbah9\\xa8\\xd3\\x7f.\\x90^\\xc9C\\x95\\xf3`<\\xcb\\xf4\\xf9\\xc4\\xf5+e\\x1f\\x92|\\xc2\\xc0\\xc8\\xca=`d\\x83\\xb0r\\xde\\xd9\\xa9\\x9c\\xb2\"\\xe0\\xc6\\x12\\xe8Oi\\x18W\\xa2\\x19)s\\r\\xf6\\x90\\x07\\xee\\xc6\\x1d*\\x82Q-\\xd2U\\xd2\\x0e\\xc9EGu\\xe3L-\\x98y\\xc1xZrvO\\xd0/\\x00\\x1fA7B?w\\x0c\\xd4X\\x16\\x92\\xbb\\xff\\xf1\\x1a\\x88\\xcbEV\\x87\\x99\\x10\\x96\\x843s\\xf0\\x97\\xa6\\xf8h\\xc3[3\\x89\\xd9l$\\xa9\\x9c\\x91\\x88\\x99Nb\\xe4j\\xd6)fZ\\x11\\xce\\x8c^as\\xe0\\xc9\\xfbN\\\\\\x81mc\\xde\\xd7\\x9d\\xca\\xf6hA\\xd6R\\xf93\\x95{\\xa8\\xdcI\\xe5\\xbbT\\xbeH\\xe5\\x93TfR\\xa9\\xa6r\\x19\\x95\\xf3\\xa9|\\x80\\xca[\\xa9\\x1cGe\\xfbr\\xda.\\x95?S\\xb9\\x93\\xcaw\\x89$\\xab\\x07\\xf7\\xad\\x01\\x7f\\xa9\\x0c\\x96K\\xde\\x84P\\xa6\\xa8\\xd2\\x8d\\x11\\x95X\\xd6C\\xbd8p\\x11\\xf9Z\\xac\\xf3<\\x82yJ|;\\xce\\x12\\xd6C\\xbd8\\x14\\x9f\\x9c\\xe9\\x1d\\xa4\\xa1\\xbf\\xa4\\x1d\\xcb\\xfd\\xd0O\\xda\\xfe8*/.\\x13d#\\x95\\'\\xa8<@\\xe5\\x17T~H\\xe5kT>C\\xe5cT\\xa6Q\\xb9\\x86\\xcaET\\xfe\\x91\\xca\\x19T\\xdeJ\\xe58*/F\\xd1\\xf6\\xa9<A\\xe5\\x01*\\xbf \\xd2\\xea|y\\x16\\xf6\\xa0\\xa3\\xc1\\xc0$\\'N\\xf8\\x00\\x0c4Z\\xe6\\x13\\'\\xe7\\xe4>I\\xf8+.?\\xc3\\xdb\\xd8\\xf6.\\xf8\\xad\\xc5\\xe2\\x81m\\xe5\\t/l\\xb6\\x16\\x19n\\xba\\x88O\\tX\\x1f?\\xe1\\xb8\\xea\\x11\\x9c\\xe4\\x8e2\\xf8\\xa4\\xd3l\\xf8\\x1c\\x7f\\'\\xe4\\xdd\\xcd\\xc01\\xbeb\\xe8f\\xed@\\x7fh\\xc8\\xbf\\xdb\\xfa\\x8d\\x14K>r\\x86\\xab\\n\\xa3l\\xd2\\x85\\x97\\x19g\\xdb1\\xb7\\x9d\\x00\\xdbWel\\xcb\\x9b\\xef\\xb4\\xae\\xdf\\xf3.!-\\xa5\\xd2\\xff.\\xeb\\xebA6i\\xcb\\x97\\x05\\x96\\xf0==\\x8dG\\xce\\xd0\\xa7\\xb0V\\x97\\xb1\\x81Ui\\xa4i\\xe9\\xac*>=}\\x9d\\xed\\xf5 \\x9d0\\xfeq\\x19\\xf6\\xdf\\x08\\xdb\\xe4}\\x997\\xc5\\xb6\\t\\xd7=\\xa8\\xbc@\\xeb\\x0b\\xca\\xbf\\x927\\xcc\\x10\\n\\xd6$\\xeaRUi\\xac4!=U\\x91\\x9c&Ui4\\xe9\\x1a\\xa9\\x9flqXp\\xe8\\xa2i]\\x97\\xb5\\xc9i\\x89\\xba\\x14\\x85&\\x99\\xdd \\xf5\\x8b\\x08}\\x18\\xae\\x91\\xb08S\\xa5Q\\xa7\\xa4gI5\\x8a\\xb4D\\x95\\xe5\\xf6\\xc5\\xcbB\\x96\\xce\\x97/^>\\r\\x85+4l\\xb2\"E\\x9a\\x92\\xae\\xd5J\\xd3\\xd5PObZ\\xb2:Y\\xa9HS\\xaa\\xa4~\\xe1\\xf2\\xc5\\x11\\x11\\xa4\\xa6\\xc8t\\xd6a\\xa9\\xc8\\xceRP.I%\\xd5\\xa8\\xb4\\xba\\x14V\\x9a\\xac\\x95\\xb2\\xe9\\xe9Rm\\xaa\"%\\x05b\\xe4E8U\\x06\\\\\\x84\\xfe\\xaa\\x12\\xa4~Q\\x8bd\\x96^D\\xa5\\xadKK\\xcf\\xa2OG\\xea\\x89MU\\xb0I\\x90\\xf4\\x9b\\xf6\\xa0\\xd4W\\x8b\\xdf\\x9e\\xf3\\xd5\\xfa\\xf9&\\xde-\\xf5M\\x9c&\\x95\\xfaiTl\\xa6\"e\\x0e$\\x80\\xc0\\xaf\\x96\\xf1\\xfc\\xf1\\xc3</\\x07\\xb9\\x1a\\x90\\x02x\\x14\\xf04 \\x0c\\xc6%kz\\xd6\\x03\\xf7\\xe1\\x97\\xf0\\xd8\\xe4T\\x95T\\xadHN\\xd1iT\\x0f\\n\\xcc\\x0fNH\\x80\\x1ei\\xa5\\xbe\\x19\\xd2$\\x85\\x16\\xd4@\\x9a\\x9c\\xaaHTM\\xd7\\xaa\\x94lrz\\x1a\\x92J\\x97%kX\\x9d\"e\\x89N\\xa5\\xd9@n\\x86\\xbe\\xaba\\x10}\\x13\\xa4\\xf1\\xa0:Z\\xa9\\x82\\x95*:k\\xa1\\xd3\\xd6u_\\xb8\\x064K\\xc9Z\\xee\\xccJf\\x93\\xa4\\xca\\xf4\\x04\\x95\\xd4?\\xdb7\\x1b\\x97\\xb3<{\\x86V\\xa5KH\\x87!JIW*p\\xdb\\xf8EB6]\\x99\\x9e\"\\x859\\xd4\\xe2\\x0c\\xdf\\x84\\x19\\xa3H\\xed\\x97\\xbe/>\\x19\\xeb\\xc3FU\\xf7\\xf2\\x96`y\\xdf\\xcd\\x12\\xc2\\xfd\\xad\\xf50\\xce&\\xbd\\xcdf=4\\xcb.\\x9d\\x0e\\n\\xb2\\xd5k\\xeb\\xf4\\xdbOX\\xa7\\xbf\\xb3IW\\xdb\\xa4\\x832\\xad\\xd3\\xd9\\x1b\\xac\\xd3\\x196id\\xc3+O\\x9b\\xb4\\xb7M\\xda\\xdf6m\\xf3\\xfc\\xfe6\\xed\\x17\\xdef\\xd3\\xfe$\\xebt\\xb9\\xce\\xa6}\\x9b\\xfb\\x83l\\xd6\\x91\\x0e\\x9b\\xf2m6i\\xb3M\\xfa\\xe1y\\xf3\\x1e\\x94\\xfae\\xcfz \\xf6\\x81\\xfb\\xa6g\\xa4k\\x93\\xb3AU\\x93\\xa6kT\\x99\\xfewK\\xe7\\xea\\x92\\x81w\\xf1\\x1b\\xa4\\xa0\\xf5\\x0f/\\x9f\\xbe\\xfc\\x81\\xfb\\xb0\\x0e\\xad\\x05\\xf5\\x9b&\\x9d5#`\\x86\\xcd\\xfb\\x8a\\xce \\xbc0)\\xf2\\x14\\xde\\xe9\\xf4\\x04y\\xdbx\\x84\\xdc \\xee\\x0fr\\x03`\\x0c\\xc47\\x81|w\\x02B\\x13 \\xbe\\x03d)\\xc0/Nx\\'\\xd7\\x05\\xbf*\\x81\\xef\\x059\\r\\x90\\x84\\xef\\x059\\x1b\\x90\\x01\\xf1 \\x90\\xc1\\x00\\x16\\xe2\\xe1X\\x02\\xb2q\\x9d ?\\x06\\xe03\\xcdB\\x90\\xb7OD\\xe8i|/\\xc8\\xc5\\x80\\x97py\\x90\\xcb\\x01\\xafB<\\x0e\\xa4\\x12\\xb0\\r\\xe2\\x19 \\xe7\\xdf\\x0c\\\\\\xc2e@2`\\x80\\x7f\\x84\\xe3 \\x1f\\x07|\\x85\\xeb\\x07\\xd9\\n\\xf8\\x0e\\xbf\\xab:\\t!W@\\x19\\xee\\'\\xc8%\\x80_p\\x9d S\\x00\\xd5\\xb8N\\x1c\\xc7\\xaf\\xa6\\xe18H-\\x00\\xc1:\\xb1\\t\\xe4\\x16\\x80\\x1b\\xc4\\xf3A>\\x0f\\xf0\\x80\\xf86\\x90\\xa9\\xe0\\xf4{\\xe3wgA\\xde5\\x15\\xc6\\x04\\xe2\\xfe K\\xa4\\xf0\\xdc\\nA~v\\x1b\\xf4O\\x81y\\x83\\x10\\xfez!\\x1a\\xe2;@N\\xf6\\x81\\xf6!.\\x05\\xf9: \\x03\\xd7\\t2\\xc8\\x17\\xdaT\\x08r\\xf2\\xed\\x08m\\xc5e@\\xfe\\x11\\x90\\x8f\\xf3A.\\x05<\\x0fq\\xfc}\\xd7\\xdb\\x80\\x97p\\x9d \\xe7\\xdc\\x01c\\x85\\xcb\\x80\\xfc\\x08\\xb0\\x1d\\xb7\\x0b\\xf2\"`\\x07^\\xf3\\xfc\\x10J\\x07\\x14\\xe0>\\x83\\xfc;\\xa0\\x10\\xdf\\x0b2\\x18\\xf6\\xaf}\\x10\\x0f\\x07\\xd9\\x0e(\\xc1\\xef\\x0e\\xdf\\x89\\x90\\x04l\\xad2\\x05\\xb6\\xd3\\xe0Y\\x01\\xe5\\xb8? \\xef\\x02T\\xe3\\xe7\\x05\\xf9\\xd0]\\xf8\\xed\\x1fl\\xab!\\xb4\\x10P\\x8f\\xcb\\xdc\\r\\xfe\\x15`\\x0c\\x1e7\\x90/\\x00\\xcc\\n\\xe4\\x0c\\xc3,`gM\\xe4&Bns\\xa9\\x8c\\x07)\\xf1@\\x12\\xd1o\\x90\\x87\\xff\\x888\\xf7\\x0cq\\xb8[\\xa1K\\xc9HZ\\xc6p\\xa7p\\xcfG\\xc0\\xfd\\xef&\\x08z\\x8d\\xa5\\xed\\xf5j\\xc8\\xbb@\\xaf_\\x98\\xd0\\xad\\rK\\x9b\\x1e\\xaeb\\x8f\\x99n\\xae\\xa2\\xf0n\\xd7\\xdc]\\x91\\xfb\\\\\\x17\\x7fQ\\x1c-c\\xc1(w4j\\xa9\\xbb\\xbf8\\xce-\\xc35\\xdc\\xa5P4J,\\x1eU\\xea\\xee\\xea\\xea\\xef\\x12w\\xc9\\xfbq\\xfe\\x9b4>q$\\x9a\\xb8\\xd5\\x1dyf\\x8b\\xd1\\xe8$7\\xe4^i\\xa7\\x1d|\\x7f<\\xcd\\xc7m>\\xd7\\xadM\\xefQ\\xb9\\xde\\xae\\x9e\\xf1c\\xfcG\\xc7\\x8d\\xca\\x18Y8\\xa2D\\\\\\xeej\\x16\\x85w\\xb6\\x8d\\xcb\\xcf\\xecV^\\xec\\x82\\xc43E\\xfe\"\\x0f1\\xf2\\x98\\xeb\\xe6\\xef\\x1a\\xe7\\x92A\\xfaj\\x9b\\xb6\\x94\\xb3\\xc8\\xee\\xfd\\x19\\xe1\\x86F\\xcc$O\\x99\\xd1\\xd9\\xce\\x95J{\\xf5Qt\\x0f\\xb37u\\xc5\\rO\\n\\xbfS\\xb8\\xd0-/\\xee)Xk\\x9e@vCJ\\x8e \\xb7P\\xf9*\\x95;\\xa8\\xdcC\\xe5/T\\xd6Sy\\x91Jo\\xe1\\x88\\x01\\xf9Q)\\xa3r5\\x95\\x99T>M\\xe56*?\\xa5\\xf2\\x00\\x95\\xf5T\\xb6Q\\xe9\\x91+\\xc8\\x89T\\xce\\xa4R\\x96\\x8b\\xacB$M\\xa7P\\xf9(\\x95[\\xa9|\\x91\\xcaw\\xa9,\\xa0\\xf2;*\\x7f\\xa6\\xb2\\x9a\\xcaF*;\\xa8t{R\\x90\\xe3\\xa8\\x9cH\\xa5\\x94J?*gR\\xf9 \\x952*\\x17Q\\x19Me<\\x95)TfR\\xb9\\xe9Id\\x15\\x9c\\xf32<\\xe7e\\xacH\\xa6JQ\\xb1\\xaay\\xe0\\xa5\\x82\\xef\\x98\\x12A}\\xac\\x00Q\\x08x\\x84\\x1a\\xdbl\\xe4\\xed\\xf2\\xb0\\x8a\\x9d\\xa7\\xd3hTi,\\xb8QJ\\xf0\\xb0\\xd0\\xa4\\x9ey\\xa1\\thJ\\xb7\\xdc\\xc8$\\x8dJ\\x91\\x00\\x99(\\x1e\\xe7\\xca\\x15Z6Dp+Kq:\\x82\\x05\\x8fW\\x97\\x11\\x9a\\xa6N\\x0fF&\\x92\\xb3A\\xcb\\xaaR#\\xc17\\x0c\\xd6\\xce\\x07\\'\\r\\xc7\\xd0\\x08W\\xb8\\x12\\x99\\xac\\\\7/\\x1d\\xfcFX\\x07\\\\C\\xd3\\x92\\xb1\\xa7\\x0c~\\x95mG\\x0b\\\\\\xe5*Ef\\x8fl4\\xdf\\x8d8\\x8d\\xe1\\xe0\\x81\\xa7kR\\xb1\\xafL*Si\\xd0\\xabnK\\xd9\\x14p=\\xe7\\xeb\\xd2H\\xd9HE|\\x8a\\n\\xfd\\r\\xe7\\xceSd\\xb0\\xe0\\x9e\\xceKO#\\xbf\\x88z\\x1b\\xe7\\xc9\\xd3\\xd3\\xd7\\xe92,\\x85a\\xb04\\x1b\\x10z\\x1f_\\xa1NfTZVr\\x1a<\\xf1<q\\x84\\x8a\\x8dJKR\\xa4%\\x80\\xb3\\x19\\x92\\xadTe\\xe0;\\xe0\\xa9p\\xabK\\xc4\\x11)*U\\x06\\x8a\\x13G\\xaa4\\xa9\\xc9i\\nVe\\x19V\\xc4\\x8a#S\\xb4\\xf0\\xc8\\xcb\\x14):\\x15zB\\xec\\xb0\\x12\\xf4\\xb6\\xd8\\xda\\xb3\\x05=\\x14w\\xf7\\x91\\x11\\x9a\\x85bc\\xe7\\xc5j3TJ|F\\x10+T\\x04w.\\x85\\xfcD\\x15\\x8b\\xcf1\\x14\\x9aD-\\x8a\\x80t2\\x8c\\xaa*-\\x13E\\xe2xz|\\xac\\x1a\\x1e\\x12\\xa1U\\x90JQ\\xa6\\xa7e\\x92\\xeb\\xd8\\x10\\x8d\\x8d\\xd5\\xaa\\xd8XEFF,\\xbb!C\\x05\\xb6\\xb0\\x90\\xa3\\xd3\\xaa4\\xf4\\xa4\\x00lV\\x14\\xabP\\xa6&\\xa4\\xa4\\xa1G \\x96\\xaaM\\x8cUe\\xe3\\xbb\\xf3P\\xacR\\x88\\xfd\\x8ab\\xd5\\xf8\\x17x`\\xa7\\x89H\\xd5\\xf0D\\xa9H\\xe9\\x12\\x9b\\x9eF\\n\\x8cpS\\xc4\\xa7kX4\\xd9\\r\\xe6\\x11\\xfci\\x84\\xeep\\x13\\xee|\\xd0M\\x9d\\xa1INc\\xd5(\\xd8M\\xadQA\\ran\\xea,\\x98q\\x88=\\xea\\x96JKoqKU\\xa5*3`\\x0c\\xdet\\xc3g$\\x8a\\x14\\x84>q\\xd3\\xb2\\x9a\\x14\\x15\\xe8\\xc3\\xa78\\x96\\xa6L\\xcd@\\xdf\\xb9i\\x89\\xd2!t\\xd4-\\xd3R\\xb1\\xf0;\\xb0\\x01\\xc2\\xc2\\x90\\xa5\\x8bB\\xe4\\xf7\\xce\\x9c\\x91\\x90\\x92\\x82\\xb98a\\xd3\\xe0 U\\x9b\\xa9\\xd4\\xb0\\x96V\\x87o\\xf0\\x1fo\\xff<\\xce\\xd3S\\xc8\\x0f\\x9fx\\xe9\\xf3\\xbf\\xf0\\xcb\\x9d\\x03:\\x8338\\xc30\\x0f.\\xe47\\xd3R\\xa0\\xf58|\\xf6FV\\xce\\xee\\xc1\\x9d\\xf8\\x0f\\xf8x\\x05\\x7f\\xcf\\x93\\r\\xd2U\\xf8Y\\xee&\\xfc\\xc6\\xd2v\\x90\\xf8\\x97\\xa5\\x85\\xc2/MQY\\x8f\\xfbE\\xe0\\'\\xc2Z\\x83+\\xb1\\x93\\x1f\\xe4 ?\\xdcA~\\x9c\\x83\\xfc\\x0c\\x07\\xf9\\x9bD\\xb6\\xb9\\xf0\\xac\"\\xb4\\xc9Cd\\xbf\\x9f\\xf9P`\\x04Z\\x80\\xa2P8Z\\x01;t\\x08\\xec\\xe0\\xdb\\xfe\\r\\xf6\\xa1\\xd4\\xad\\xb3\\xe4\\xbe\\x83n\\xc8\\xcf\\xa3\\xabb\\xf3\\x111\\xda\\xee\\xdbU\\xd3K<\\xa4\\xbb\\xfd\\xc0<\\xc8\\xd3\\x1dm\\x1d\\xd9\\x95\\xde7\\xc9\\x1d%uU\\x87\\xfcouG+;S\\xf4\\xb7\\xe4\"\\xe1\\x8b5\\x91\\xe5\\xb7\\xec\\xdd\\xdaw\\x86\\x81\\x0b\\x89uo\\xba\\x01\\xb4i\\xb5[\\x8a\\x13\\xeb\\xb6\\x8dC\\xce\\xe0\\x0c\\xcepC\\x04\\xe0\\xbd,\\xf5\\x94\\xfe\\xa7\\xac\\xf2X>\\xbb<\\x86__\\xbdaGb\\xdd\\x1b=v\\x16g\\xe8\\xf5\\xb8\\xba*\\xeb?\\x08\\\\\\xddT\\xf4?Q-?}\\x15\\xd5r\\xf8\\xe8\\xaa\\xa6\\xaf\\x9e\\x89\\xaf\\xdf\\x11\\xa4\\xae{\\xdb\\x159\\x833\\x0c\\xad~\\xde\\x9al|\\xe9C]e\"\\xe1}\\x17\\xd6\\xf0\\xe95\\x9b\\x1d\\x9c\\x84;\\xc3\\xa5\\x82\\xca\\xf4wil\\xe3.\\xf5\\xf2\\xe6\\x92\\x0f\"Z\\x8f6F\\xb4\\xfe\\xc2\\xdbCTKY\\xfd\\n\\xf37o\\xc45\\xec\\\\\\nk\\x81\\xed\\xab\\x1b\\xce\\xe0\\x0c\\x03\\xc9\\xfb\\x91Iu\\xdb\\x1e\\xd7Ti\\xdb\\xb3\\xcbWS\\xce[#\\xab<\\xeebj\\xed\\xd6H\\xe4\\x0c\\x97\\x0c\\xc0\\xdd1\\x8a\\x86\\xff,^a\\xde\\xff\\x97\\xc8\\xd6\\xb2\\xa3\\x11\\xad\\xc7x\\xfb\\x9c?n\\x07\\'\\x08\"[\\x8f\\xb5G7\\x1f\\xf8Olc\\x81Re\\xda>\\x119\\x833\\x0c\\x1c\\xf7\\x97\\xa4\\xd7\\xe6\\x9c\\xb4\\xe5\\xbb\\xed\\xfe\\x8f\\x91Y\\xa18\\xbd\\xce\\xf0\\xec\\x0c\\xe4\\x0c\\xb66\\xfd\\xfd\\xab\\x9b\\n\\x1f\\x05\\x9b\\xbe\\x08\\xf8~\\xde\\xd1\\x1e\\xef\\x88\\xef\\x9dh;\\xc1/%8\\xd9\\x89\\x88\\xb6\\xe3\\xbf.k9\\xf4UL\\xd3\\x97\\x99\\t\\xa6\\x7f\\xdc\\x8e\\x9c\\xc1\\x19\\xfaGo\\xef\\\\gxnWVE\\xfcey\\x9f\\xd5\\r\\xba\\n\\xf5\\xc9d\\xe3+^\\xe8\\xc6\\xb6\\xe9o\\x05\\x9b>ay\\xf3\\x0f\\xef\\x81M\\xdfp\\xe5|?~Y\\xbew\\xa1\\xdc\\x0eN\\xf2Q\\xade\\x87W7\\x15oU\\xd6\\x7f8+\\xb1\\xee\\xad^\\xfcuVgp\\x06\\xc2\\xfbqI\\xc6\\xbf=\\xcdV\\xa6\\x9cud\\xeb\\xdb\\xe3\\xbd\\x80X\\x02\\xb62\\xf5K\\xa8\\xc3\\x1d\\xdd@6}|\\xfd\\xbf\\x17\\xae4\\xef{\\x0el\\xfa\\xc3}\\xb1\\xe9-|w\\xcc\\xf9r\\x07\\xa8\\xb0\\x83J\"#[\\x8f\\xd6\\xae4\\xef\\x7fY\\xd1\\xf0\\xdf\\x05\\xb0\\x16x gp\\x06\\xc7\\xbc\\x17\\x01b\\xd7W?R{9\\xdeg;\\xe0}\\x17\\xe2xM\\x15\\xfb\\x02\\xbaN\\x03\\x8c\\x93KB\\xfd\\x07\\xf7\\x81M\\xbf!\\xaa\\xe5\\xc7/\\x81\\xefg\\xfb\\xd3\\xa6\\xefBo\\xf8^\\xc9/\\xe9\\x81*\\x8aJ\\xdcVkt\\xf3\\x81\\xf7\\xe3\\x1av\\xc6\\xa8M\\xef\\xde\\x84\\x9c\\xc1\\x19\\xba\\xf4yf\\xea\\xa9?\\xed\\xb5|\\x9fw\\xe5{~\\xac]\\xee\\x0bP\\xf0\\xebk6\\xaa\\xd1u\\x12T\\xa6wo\\x89m(P\\x80M\\xbf\\x1dl\\xfa\\xba\\xc1\\xe3{\\xb9C\\xbe/u\\xc8w[T[aik\\xf9\\xf9\\xe5\\xcd\\x87\\xbeX\\xd3\\xf8y\\x1a\\xf8*S\\x913\\xdc\\xa8\\xbc\\x9f\\xb0\\xd6\\xf0\\xd7\\x973+\\xd4\\xbf\\xf6\\x1f\\xef\\x01\\x15\\x9d8\\x9bV\\xfb\\xe4\\x1ct\\r\\x06\\xb0\\x97G\\x81M\\xbf\\x00l\\xfag\"[\\xcb~\\xba\\x1a\\x9b~\\xa8\\xf9.\\xa0\\x86_r\\xda\\x1a\\xe1DV\\xf3Q\\xadG~\\x88i*\\xdc\\x94P\\xff\\xfeL\\xe4\\x0c7\\xc4\\xbb{Iu\\xdb\\xd6j\\xab\\xb4M}\\xf5\\xf1\\xed\\xf2\\xde\\x8a\\xfb\\n\\x82\\xcc\\x8a\\x84\\xbau\\xa7\\xf2\\xa7\\xa0k\\xc0\\xffI0\\xbd\\x1f\\x10\\xd3\\xf4e\\x16\\xd8\\xf4\\x9f\\x03\\xdf;\\xfa\\xb4\\xc7\\xf7\\xab\\x0f\\xdf\\xff|\\x0f?]k\\x07\\xa7(j\\xf9\\xc8\\xd6_*V\\x99\\xf7\\xfeEY\\xff/\\x19\\x8c\\x89\\x189\\xc3u\\x15`N\\x83\\xd2k\\x9e(\\xb9\\xdc~\\x9f}\\x95\\xbc\\x17\\xb8\\x8f\\x11\\xcf\\xeb*\\x93\\x0e$\\x1b_\\x1ev\\xef\\xac\\x80\\x1f<)\\xae\\xe1\\x93\\xb8\\xe5\\xcd\\x07\\xde\\x1e\\x18\\x9b\\xfej\\xf9^9\\xc0|\\xb7\\x85\\xa1\\x1bN\\xe1~5\\xadh\\xfe\\xfe\\x1dE\\xc3\\x7f\\xa2\\xd4u\\xef\\x8cE\\xcep-\\xf3\\xfe\\x96u\\x86g\\xdf\\xcd\\xaa\\x88\\xbf80\\xb6\\xbe\\xc2.\\xf7-\\xd0V\\xa5oO\\xaa{M4\\x0cl\\xfa\\xf9+\\xcd{\\xf3\\xc0\\xa6/\\x1d<\\x9b\\xfeZ\\xe0\\xbb\\x05F\\x82\\xc56\\x806;\\x967\\x1f\\xfa$\\xb6qW\"\\xac\\x05\\x93\\x913\\\\+\\xbcwO2\\xbe\\xba\\x91\\xadLi\\xed\\x1d\\xef\\xd7\\\\\\xa9\\x8f\\x7fI\\xdew\\xc7\\xfa\\xea\\xec\\x8dh\\xd0m\\xfa\\x7f\\xdc\\x036\\xbdnY\\xcb\\x8f\\x9f\\x02\\xdf\\xcf\\\\\\x1b|\\xaf\\x1ar\\xbe/>]\\xe7\\x00&>\\xbc\\xcdp1\\xaa\\xa5l\\xff\\x9a\\xc6\\xcf7\\xaaL\\xdb\\xefB\\xce0,Cb\\xdd\\x1b\\x0b\\xd7Wo<6\\xd0>\\xfe\\xe5x\\x9fY\\xa1\\xa4H\\xb8\\x00\\xbe\\x87\\x1c\\r\\xacM\\xef\\r6\\xfd\\xea\\xe8\\xe6\\x03o\\x81M\\x7fj\\xe8|\\xf8\\xeb\\x87\\xef=\\xd0^\\xdf\\x89\\xf0v#~\\x07' 0xdd35add1 1792743045 1515601601\n",
      "b'\\xc3\\xfbN\\xfe\\x03\\xd4\\xe6\\x94SOOC\\xfd\\x14\\xf0{-\\xf1\\xf5;BV\\x9a\\xf7\\xfc)\\xb2\\xa5\\xac\\x04\\xf6\\xf8\\x8bC\\xe3\\xc3_\\xed\\x19}\\x8d\\x80a\\xcew\\x0b\\x16\\x114\\xd8\\xa0\\x1e\\x9e\\xbf\\xaan\\xa5\\xf9\\x9b\\xbf)\\xeb\\xff\\xb5\\x18\\xfb[\\xc8\\x19\\x06\\x93\\xf7c\\xd6\\x1a\\xfe\\x9a\\x0b\\x1c;;\\x14>\\xbec\\xde[\\xb8/@W\\x99|l\\xad\\xe1%\\t\\xeac\\x00\\x9b~zL\\xe3\\x17\\x1a\\xb0\\xe9w\\x01\\xdfO\\x0f/\\x9b\\xfe\\x1a\\xe7\\xbbC\\xae\\xdb\\xe3;F\\xa3C,9]{:\\xba\\xb9d\\x87\\xa2ag|b\\xdd[7\\xf4;\\xe1\\x03\\xed\\xe7&\\xd5m[\\xa1\\xad\\xd2T\\xf5\\xab\\xad\\xdfk\\x1f\\xff\\xd2\\xbc\\xef\\x82\\x8a\\xd7V\\xa6\\x17$\\x19_s\\xbdB\\x9b\\xde+\\xaea\\xe7*\\xb0\\xe9_\\x07\\x9b\\xbe\\xb6\\xaf6\\xfd\\xd0\\xf2\\xbdz\\x00\\xf8n\\xec\\xc4\\xc0\\xef\\xed\\x97\\xe6\\xfa\\xa2\\xf6&;0\\x13\\x84\\xb57\\xe1\\xf6/D\\xb5\\x94\\xed\\x8ek(\\xd0\\xc2|\\xfe\\x1e9C\\x7fq\\xff\\x1e\\xf0\\xa9\\xbf\\xdc\\x00\\\\\\xb6\\x8f\\xd8Nd[!\\xce\\x06\\nkTX\\x10\\xdf\\x89,\\x02\\xa5\\x03$\\xd8@\\xe5\\x00j>\\x93BS\\x9d\\xfd\\xb4\\xfdgzk\\x04\\xd8\\xf4sW\\x99\\xf7l\\x8dj9| \\x12l\\xfaH\\xe0wO\\x1c\\xb7\\xc1\\x89.\\xb4\\t\\x10|\\xf9\\x936(\\xb7\\x83\\n;\\xa8$Xj\\x85*\\x07\\xa8\\xb6\\x83\\x1a~\\xe9\\xe9.\\x08\\xbc\\xaf\\xb5\\x83S\\x0e`\\xb0\\x81\\xb1\\x13\\xe1V\\xa8s\\x00SO\\xb4\\xd7\\xf7\\x80\\xc0\\xfb\\x06;ht\\x80&;0wbQ\\x0f4[a\\xf1\\xe9\\x06>\\xaa\\xf5\\xf8\\x8f1M\\x85\\xb9*\\xd3\\xf6\\x07\\xf0\\xfe\\x85\\x9c\\xa1W\\x01\\xc6\\xccs\\x9d\\xe1\\xd9\\x17\\x80\\x97\\xe7/\\xc7\\xfdK\\xf3>n\\xd0y\\xdf\\x1d\\xb0v\\xc5 \\xc1\\xa6\\xbfsM\\xe3\\x17\\xeb\\x97\\xb7\\x1c\\xfa\\x18\\xf8~\\xba\\xd7|o\\xed-\\xdf\\xcb\\xaf\\x90\\xef\\x95N\\xbe\\xf7\\x8a\\xef\\xcd\\x97@\\x8b\\x803]X|\\xc6\\xccG\\x9c\\xae\\xaeYm\\xde\\xf3RB\\xfd\\x07\\x0c\\xe8\\xf5\\x08\\xe4\\x0c\\x97\\xfc\\xedI\\xb2\\xf1U\\x95\\xae2\\xc54\\xd0\\xbc\\xbf4\\xf7\\x13\\xec\\xe0\\xcay\\xcfV\\xa6\\xf1k\\r\\xf9<\\xf8\\xf1\\xed\\x91\\xadG\\xaa\\x04~\\xf7~\\x8fw\\xf2}p\\xf9\\xbe\\xe8\\x8a\\xf9\\xdeb\\x87\\xef\\xad=\\x10\\xd6\\x896\"a\\\\\\x9aW4\\x7f\\xff^|\\xfd\\x7fV\\xe0=\\x0e9CgH\\xac{c\\xd6\\xfa\\xea\\x8d\\xdfo(\\x8f\\xe9\\x05\\xefc\\x87\\t\\xef\\x13\\xf9\\xb4\\x9a\\xcd\\xbc\\xa2\\xfe_\\xfc\\xb2\\xe6C\\xf8o\\xd8\\xf4#\\xdfO\\xf6\\x8a\\xef\\x11\\xd71\\xdf\\x17;\\xe4{c/\\xf8n\\xee;\\xdf\\xcf\\\\\\t\\xdf\\xdb\\xec\\xe0\\xb4\\r\\xda\\xe0y\\x1a\\xce-o\\xf9\\xe9\\xff\\x14\\r\\x1f\\xa5\\xa8\\xeb\\xde\\xbe\\x15\\xdd\\xa0\\x01\\xd6\\xc1I\\xa9\\xb5\\x7f\\xda\\x06\\xdc\\xbdx-\\xf9\\xf8\\x9a*\\x1d\\xaf6\\xbe\\xc6G\\x9b\\xbf\\xe93\\xdf\\x1ds\\xfe\\xda\\xe5{x_\\xf9>\\xccm\\xf9\\xab\\xe3\\xbb\\x05\\xedv\\x81\\xfb\\x16\\xd5z\\xec\\xfb\\xd8\\xc6\\xcf\\x1eW\\x9b\\xde\\xf5\\xbfQ\\xde\\xdd[k\\xf8\\xab\\x16\\xf8\\xd4|-\\xf8\\xf8\\xe0\\x93\\x80M\\xffg>\\xa6\\xf1s\\xfc\\xf7*\\xaf\\x90\\xef=9?tgv7\\x16\\xdf\\x07\\xc6\\x96\\xef\\r\\xd7\\x1d\\xf1\\xfdL\\'\\xe4=\\xd0\\xc1\\x87\\xb5\\xb7\\xe19>\\x11\\xd3T\\x94\\xaf2m\\x0f\\xc6\\xbfgC\\xd7YH\\xaa{}\\xbe\\xb6J\\xf3S\\xefl\\xfd\\xbe\\xf2>\\xbe\\x8f\\xbcW\\xf3\\x195\\x8f\\x83M\\xff!\\xd8\\xf4\\xa5}\\xde\\xe3\\xfb\\xdf\\x87w\\xf2\\xbd_\\xf8>H{\\xfb\\xa5\\xb8\\xee\\x10\\x1dg\\t\\xc2:\\xce\\xc0\\xdc\\x9djXe\\xfe\\xe6\\xcd\\x84\\xfa\\x7fF\\xe2w`\\xd05\\x1c\\xa0\\xffS\\xd3k\\x9e\\xf8P\\xe0\\xf8\\xf0\\xf3\\xf1\\xb5UZ>\\xd1\\xf8*\\xbf\\xc2\\xbc\\xff:\\xe1{\\xcd \\xf1} \\xce\\xea\\xfa\\xc3\\x96\\xbf\\xda\\xbd\\xbd\\xad\\x9f\\xf6\\xf6\\xcbs\\xdd\\x1a\\xe7z \\xac\\xa3\\x03\\x8f\\xd5\\x99\\xe8\\xe6\\x83\\x1f+\\xebw\\xa8\\x13\\xeb\\xde\\xf2F\\xd7\\x0e\\xefG\\xa6\\x9c\\xca\\xdf\\x04\\xbcl\\xef\\x1d\\xf7\\xfb\\xd3\\xc7\\xef\\xc9{]\\xe5:~\\xdd\\xa9<~M\\xe3g\\xbd\\xb0\\xe9\\xfb\\xdf\\x87\\x1f|\\xbe\\x1b\\x06\\x9c\\xef\\xbd?\\xab\\xbb\\xd6\\xf6\\xf63\\xbd\\xdf\\xdb;\\xce^1\\xdf\\x17\\x12\\x9cw\\x08x\\xde_W\\x99\\xf7\\xefD\\xc3<$\\x1b_]\\x02<\\xab\\x18\\x1e>\\xbe\\nl\\xfa\\xc7\\xf8\\xf8\\xfa\\x0f\\x06\\xc9\\xa6\\xef\\xcf\\xef\\xe4\\x06\\x83\\xefW{6?\\xd4\\xb6\\xbc#\\xae\\xf7\\x1f\\xdf\\xe5\\x03\\xb0\\xb7_\\x9a\\xeb\\x17\\x1cbE\\xf3\\x0f\\xffD\\xc34$\\xd6\\xbdq\\xa7\\xa6z\\xc3\\xff\\r\\xb5\\x8f\\xaf\\xad\\xd2\\x80M\\xff\\n\\xb5\\xe9\\x8f\\x0e\\t\\xdf#\\xfa\\x81\\xefK\\xaf;\\xbe\\x0f\\xb6-?\\x14{\\xbb#\\xae\\x9f\\xeb5\\xd7\\xedA\\xd1\\xf0q\"\\x1af\\x01\\xbf\\xd7\\x90V\\xcb=\\r|>\\xdfo\\xdf\\xe7\\xf5\\xc9\\xc7W\\xf1\\xd1\\xcd\\xdf\\r2\\xdf+\\xae\\x0f\\xbe\\x0f\\xa0\\xef\\xde\\x9f\\xb6\\xfc\\x90\\xed\\xedW\\xc8uy?r\\xdd\\x16\\xb8\\x1f\\x89uoI\\xd10\\t\\xf8=\\xe7\\xb5\\x86\\x17\\x15Y\\x15\\xea\\xda\\xe1\\xe2\\xe3\\xaf4\\xef\\xb3\\xb1\\xf1\\x07\\x82\\xf37\\x12\\xdf\\x07\\xca\\x96\\x1f\\x0e{\\xfb@\\xda\\xf1\\x17\\xfa\\x1d\\x91m\\xe5G\\xd00\\tIu\\xaf\\xdf\\xcbV\\xad\\xdf;8\\xb6\\xbe\\xf2\\x8a\\xbf\\xcf\\x8b\\xaf\\xff\\'~\\xaf\\xc2\\xce\\x1a`\\xe1\\xbc\\x93\\xef\\xfd\\xc3\\xf7>\\xda\\xf2\\x83xN7\\x9c\\xed\\xf8\\xbe`u\\xd3\\xd7\\x7fA\\xc3\\xe0olg\\xd4l~\\x058\\xfe\\xeb@~\\x9f\\xd7\\xd7\\xf7wRN=M\\xf8\\x1f\\xd5\\x83\\xff\\xf6\\xd6\\x80\\xfe\\xe6;\\xc6P\\xf0}\\xf0|\\xf7\\xfe?\\xa7sr\\xfdJ\\x91P\\xff\\x81\\x1c\\rQ\\xc0\\xef$\\xa5\\x9c\\xcaO\\x01n6\\r\\xad\\x8f\\x7f\\xe9\\xf7\\xf6t\\x95\\xa9\\xfc\\xb2\\x96\\xc3\\x94\\xff\\xf6\\xd7\\x80.\\xbb\\xdf\\x96\\xff7*\\xdf\\xaf\\x15[~\\xa0\\xcf\\xe8\\x86\\x0f\\xd7m\\x01\\xe3|v\\xa8\\xde\\x05J6\\xbe\\x12\\xa4\\xab\\\\W:\\\\||\\x01\\x8e\\xdf\\xd3_\\xd1\\xfc=\\xf0\\xff\\xe8U\\xae\\x01\\x8e8\\xdf_|7\\x0e\\x02\\xdf\\xaf\\xd6w\\xef\\xbb-?\\xfc\\xf7\\xf6\\xe1\\xcbu{X\\xde\\xf2\\xf3\\x97h\\x90Cb\\xdd\\x1b\\xb7j\\xaa7\\xfc}\\xb8\\xf9\\xf8\\x97\\xfbm^l\\xe3N\\xfc\\x7f\\xc0\\\\b\\r8A\\xd7\\x80\\x93\\xbdX\\x03\\x86\\x90\\xef\\x03\\xe4\\xbb\\x0f/[\\xde\\xd1\\xde~\\xfd\\xd9\\xf1}Al\\xe3g\\x1b\\xd0 \\xfeN\\'\\xadv\\xeb#\\xc0\\xe7\\xd6\\xe1\\xe8\\xe3w\\xe7\\xbd\\xbd\\xdf\\xe3\\xaf5<\\xdb\\x8d\\xff}[\\x03\\x96^r\\r\\xb0\\xc7\\xfb+\\xb1\\xe5\\x07\\x83\\xef\\xfdd\\xcb;\\xf7\\xf6a\\x84\\xf3\\xbc\\xda\\xf4\\xee\\xbdh\\x10\\xc2Z\\xc3\\x8br\\xe0\\xd4\\xb1~\\xb3\\xf5\\x07\\xc0\\xc7\\xb7\\xb7\\xe7[~\\x93\\x8f\\xb1\\xbe*\\x0b8\\x7f\\xf8\\xca\\xd6\\x00\\x87\\xe7\\x81\\x0e\\xfc\\x80\\xd3\\x8e\\xd6\\x80.\\xde_-\\xdf\\x07\\xc6w\\x1f\\xac\\xbd\\xbd}\\x90\\xf7\\xf6\\xeb\\x8d\\xeb=\\x01zU\\x87\\xffN\\x0e\\x1a\\xc0\\x90T\\xf7\\xba\\x0f[\\xb5~\\xe7F\\xb0\\xf57\\x96\\xaf\\xb1\\x83X\\x82\\rV\\x88\\xb3\\x81\\xc2\\x1a\\x15\\x16\\xc4wB\\xe0\\xbf\\xd2\\x0e\\x12\\xec@e\\x07j>\\xab\\x07\\x12m\\x90\\x04\\xfeR)\\xe5\\xbf\\xed\\x1a\\xd0\\x9d\\xff}_\\x03\\xba\\xfc\\x00[\\x1b\\xc0\\x1e\\xef\\x07\\x92\\xef\\xbd\\xf9\\x1e\\xee\\xf2\\xe7t\\x8e\\xdf\\xaf\\xb9\\xda\\xbd\\xdd\\xc9\\xf5\\xbeb\\xa5\\xf9\\xdbw\\xd0\\x00\\x05|\\xa6\\x98Q\\xb3\\xe9)\\xe0\\xf8\\xd9\\xbe\\xf3>n\\x88xo\\x9f\\xfbY\\x95I\\xfc\\x9a\\xc6\\xff\\xeb\\xc6\\xff#\\xfd\\x7f\\x1ehw\\r08X\\x03\\xacy?x\\xbe\\xfb\\xe0\\xed\\xed\\xfdi\\xc7;\\xf6\\xd9/\\xdc\\x90\\x88o\\xf8o,\\x1a\\x80w\\xf7RN\\xfdy\\x05p\\xb3\\xe6\\xcay\\x1f\\xdb\\x8f\\xbcW\\x0e\\x08\\xef-H6\\xbe\\xcc/k)\\x1b\\xc05\\xe0J\\xfd\\x80nk@\\x0f\\xfe\\x0f\\x17[~8\\x9c\\xd1\\x9dw\\xf2\\xdd\\x0e`\\xdc/\\x02W\\xfb\\xf5\\xff\\'L6\\xbe\\x12\\x90Y\\xb9\\xaeH\\xe0y?\\xd8\\xfavx\\xdf\\xbb=_\\xe5\\x00\\xbd\\xe7\\xbd\\x05\\xebk6\\xd3\\xf7\\x00\\x8e\\xf4r\\r\\xe8\\x8f\\xf3@a\\r\\x08\\xbf\\xe4\\x1a`\\xbb\\xef\\xf7\\x96\\xef\\xfd}Nw\\x95{\\xbb\\x93\\xeb\\x03\\x82\\xa8\\xd6\\xe3\\xa5\\xa8\\x9fBb\\xdd\\x1b\\xe3\\xb5\\xd5\\xd9/\\x80\\x8f\\x7f~\\xc8|\\xfcr\\x01Y\\'\\x95\\x00\\x90\\'\\xecA\\xc5g\\xf6\\x80\\xda\\x06\\x89\\x02N\\xda\"\\x89@wr-\\xbf\\xac\\xf1 \\x1f\\xd5\\xf4\\x13\\x1fi\\xb6\\xe0g\\x8a\\xc3\\x802>\\x82\\xe0\\x08\\xc5Q\\xc01\\x82\\xa5\\xcd\\xbfP\\x1c\\xa78A\\xb0\\xa4\\xf9$E9E\\x05\\xa0\\x92_\\xd2R\\xc9\\x87\\xb7TQTS\\xd4\\x00j\\xf9\\xc5\\x04\\xa7(\\x0c\\x02Z\\x8d\\x04\\x8bZ\\xeb(L\\x14\\xf5\\x80\\x06>\\xac\\x13\\x8d\\xdd\\xd0$\\xa0\\xcd\\x02s\\x0f\\xc8\\t\\x9am\\xd0\\xe2\\x00\\xad6h\\xeb\\xc4B+\\x9c\\xb6\\x8f\\xd3\\xed68\\xd3\\x03\\x0b\\x08:\\xec\\xe0\\xec\\xe0\\xa3\\xfd\\x1c\\xc1\\xc23\\xe7\\x05t\\\\\\xb8&\\x10\\xd3\\xb4[\\x8f\\xae2\\xe0\\xb3\\xc3\\xb4\\xda\\xad\\x89\\xc0g\\xd3\\x90\\xfa\\xf8\\x94\\xf7\\x99\\xc7\\xe3\\x01J^w,\\x9eg\\x8f\\x02\\x8e((\\xe2ym\\x0f(\\xed \\x81\\xd7\\x1e\\xb5\\x85\\xaa\\x13\\x1a\\x8a\\x95\\xa7\\n\\xf8\\x08c\\t\\xc1\\xd2:\\x0b\\x0e\\x02J)\\x0e\\xf1K\\x08~\\xa4\\xf8\\t\\xf03\\xbf\\xc4\\xf43\\x1fn:LQFq\\x04p\\x94_Lp\\x8c\\xe2\\x17\\x01\\xf5\\xc7\\t\\x16\\xd5\\x9f\\xa08IQ\\x0e\\xa8\\xe0\\xc3\\x08*)\\xaa\\x044T\\xf3r\\x82\\x1a\\x8aZ\\x8aS\\x00\\x03\\xbf\\xd0\\nF~a#F]\\'\\x16\\x10\\x98\\xec\\xa0\\xde\\x0e\\x1a\\xec\\xa0\\x91 \\xd4\\nM\\xf6\\xd1d\\xb6\\x83f+0\\x9dh\\xb1A\\xeb\\x90#\\xd4\\xdc\\xc6\\x876\\x9f\\xe6\\x17\\xb4\\xc2z\\xd4\\xd6\\xd1\\xb5\\x0e\\\\\\x03\\xfcW\\x99\\xfe\\x11\\x82\\xae\"\\xac3\\xbc\\x10\\x08\\xb6\\xf4\\x81K\\xf1~\\xe3`\\xf8\\xf8\\x9d\\xdc\\x17x\\xaf=\\xac\\xe0\\xd7\\xff\\x14\\xcbg\\x1c\\x02\\x1c\\x8c\\xe5\\xd3\\xed\"\\xce\\x06\\n>\\xbd\\xd4\\x16\\xf1VH#P\\x12\\xc4\\x1c}\\x99\\x0f\\xaf\\xd8\\x07\\xd8O\\xb0\\xb8\\x12\\xe3\\x1b\\x8ao)\\xbe\\xe3\\x17u\\xe2{\\x8a\\x03\\xfc\\xa2\\xaa\\x03|X\\xd5\\x0f\\x14%\\x14\\x07\\x01\\xa5\\xbc\\x9c\\xe0\\x10\\xc5\\x8f\\x02\\xaa\\x7f\\xe2\\x17\\x12\\xfc\\x0c8LQFq\\x84_`\\x85\\xa3\\x02j\\x8e\\xf1\\xa1\\x04\\xbf\\x00\\x8eS\\x9c\\xa08\\xc93\\x04\\xe5\\x14\\x15<S\\x8bQIQEQm\\x0756\\xa8%x\\xf8\\x8aq\\xca\\x06\\x86\\x1e\\x98O`\\xb4\\x83\\xba\\xe1\\x07C=\\xffp]#\\xcf44w\\xad\\x03\\xd7\\xc0\\x1a\\x00\\xfe`;\\xfe;Z\\xa8\\x0f!\\xc9\\xf8\\xda$]U\\xc6\\x9b\\xff\\xcf\\xde}@GQ\\xed\\x0f\\x1c\\x1f\\x0b`/\\xa8\\xd8;\\xea\\xf3\\x88z,G\\xdf_\\x11CHH\\x80$$!\\xbd\\x13\\x92\\xec&\\xa4\\xf7B \\tA\\xd4\\'\\x8aO\\xdfSlAPPP4Ho\\xa2&@(\\x82(E\\x12\\xb2\\xbb!u\\xe9iD\\xe5\\xf9\\xfb\\xdf{g\\xb2\\xbb\\xb3%\\xdbfg\\'\\x9b{\\xcf\\xf9\\x9c\\xe39O\\xf7\\xb1\\xcb|\\x7fsgv7A{\\xfd\\xbf%q\\x8d\\xafL\\xd4\\xb4\\x9f}8\\x0e5\\x1f\\x03i{\\xa3 \\xa5.\\x12\\x92wF@\\xf2\\x8e\\x81\\xe0\\x7f\\xc7\\x98(\\r9\\x11\\xcd3}w>\\xf8\\x1c\\xda\\x82lE\\xb6\\x11S\\x88\\xef\\xf5l\\x87\\xc9\\x87~\\xe0\\xfc\\xc8\\xf9\\t&\\x1d\\xc6j\\x90Z\\xce\\x0e\\xceN\\xf0\\xe6\\xd9\\xc5:R\\x07^\\xc4nd\\x0fg/g\\x1fL$~\\xd6:\\xba\\x9f\\xf0<z\\x80\\xf3\\x0b\\xe7 \\xe7W\\xceo\\x9cC\\xe0\\xf9;\\xcb\\x838\\x8c\\x1c\\xe1\\x1c\\xd5\\xf1;1\\x81\\xe7\\x98q\\xc7\\xea\\xf54\\x18p7\\xe9\\xb8\\xf4\\xd57\\xc2\\x84F\\x15x\\xa8\\x9a\\xc9,\\xf0:u\\x8e\\x9d\\x01\\xdd}\\x92\\xef?\\xac\\xf3\\xe0\\x06\\xc6\\x86\\xcf\\xeee\\xb6\\x96\\xe5\\x14\\xabb\\xba\\x100\\x14K\\x14\\xf1\\xc4\\xe9\\x99\\xce\\xd7\\xd4/^\\xa3\\x90\\x98aD\\xa2\\x9e$\\xa2\\x00\\xf7\\x8f\\xae\\xeds\\x8e\\xc6C\\xe6\\xc1X\\x98Y\\x17\\x05\\xb2\\x9f\\xc2!a[\\x08\\xc4o\\x0e\\x86\\xf8\\x8dAH\\xb0\\x1e\\xf4\\xbfm2&Tc:\\x11fT\\xec\\xa6h\\xf0\\xde\\xf1\\x15x\\xed\\xf8\\x96SML\\xdc\\xb9\\x1a\\xf9N\\xc7\\x1a\\xceZ\\xce:\\xcez\\xf0\\xdc\\xd5o\\x83\\x9e\\x8d\\xe0Al\\xe2lF\\xb6\\x80G\\xdd\\x16p\\xaf\\xdb\\xaag\\x1b\\xe7{\\xcev\\xce\\x0f\\xe0\\xbe\\x9b5~\\xf7\\x8f\\x9c\\x9f85\\x84\\xdb\\xeeZ\\xce\\x0e\\x1d;\\x89\\x97w\\xef\\xe2\\xd4qvk\\x8c#\\xf6\\xf0\\xed\\xd9k\\xc4>\\x9e\\x97\\x88\\x9f\\x8d\\xd8?(\\x8d\\xdb\\xf7\\x0b\\xbc|\\xe0W\\x18\\x7f\\x18\\xcd\\xc0\\xe3J2\\x03\\xf0>@\\xb3\\x07\\x90p\\xffqg6f[\\x91>\\x93\\xda\\xf6\\x96\\x17\\xea\\xf4\\x88\\xed\\xdd\\xc7\\xd9\\xd1}\\x82\\x9e$\\x1e\\xdc\\x7f^\\xc3\\x0c\\xc8:<\\x1dR\\xf7E\\x93\\xf6q\\xf7\\xb1k\\x02!\\xfa\\xdb\\x00\\x88\\\\\\xe5\\xaf#\\xc0B\\x81&L\\xd3\\x98\\xb8\\xe1}\\x98\\xb0\\xe93\\xe4s\\xce2\\xc2}\\xf3r\\xe4\\x0b\\x1d_\\xc2xb\\x05g\\xa5\\xd6\\x96~_q\\xbe&\\xdc\\xb6\\xac\\xd2\\xf3\\r\\xf2-1nK5g\\xb5\\x8e\\xef\\xe0%b\\rg-kk\\xbfu\\x9c\\xf5\\x9c\\r\\xc4Xb#g\\x13\\x8c\\xdd\\x86m&^\\xdc\\xb6E\\xcfVd\\x1b\\xbc\\xa0\\xf1=\\xeb\\xfb~\\xdb\\x8d\\xf8A\\xcf\\x8f.\\xe3\\xc5\\x1fkalm\\x1d\\x99\\x03x\\x06\\xe0}\\x00\\xbe\\x16 {\\x00\\t\\xf7\\x8f\\xdf+IR\\x7f6\\xc6\\x92\\xee\\x93;>\\xb8?\\xffD\\xca*\\xe3\\xddk\\xdb\\x1f\\xb8}[\\xbb7\\xdf>\\xe9_\\x91\\x049\\xf5\\t\\x90\\xf9\\xdbtH\\xd9\\x1dE\\xce\\xfb\\xb1k\\xa6\\x91\\xde\\xc3\\xbf\\xf0\\x85\\xd0e>\\x1c_#\\xfc,4U\\x8f?L\\xfa\\xba\\x0c\\xdc\\xaa?\\xe6|\\xa2\\xf1\\xf2\\xea*\\xceb\\xce\\xa7\\xc48b\\tg\\xa9\\xd6w\\x9f\\xe9\\xf9\\x1cY\\x06/\\xf1,g\\xad\\xf9\\x82xq\\xcd\\x97zV +9_\\xe9\\xf9\\x1a^ V!\\xdf\\xe8\\xf9\\x16\\xfe\\x8f\\xa8\\xd6Z\\x8b\\xad\\x86\\x7f\\x12\\xdfq\\xd6\\xe8X\\xcbY\\xc7Z\\xb7\\x9e\\xe7\\xf9u\\x1btltY\\xff\\xdc\\xb8\\x85\\xcc\\x01<\\x03\\xf0>\\x00_\\x0b\\xe0\\xfb\\x01\\xf8\\x9e ~_@\\xaa\\xfd\\x07v\\xb74\\x9b\\xeb^\\xa6\\xfe\\xf4\\xca\\x9c\\xe6\\x82\\x8abUt\\xafc\\xbb\\xb7\\xf4\\x9c\\x9fh\\x84\\x0c\\n\\x9a\\xf0\\xfbr\\xa8\\xffc3 \\xe3`\\x1c\\xb9vG\\x7f|\\x8a\\x12\\x1d\\xbe\\x1f@\\xae\\x01\\xcevI\\xba\\xff\\xc8su\\x9f\\x0c\\xd4~z\\xeb\\xfci\\xa8g\\x95s\\xae\\xf1-\\xe9>\\t\\nt\\xe4+\\xf0{s\\xf1\\xe4\\x9e=\\xed\\x9fr\\x16|Op0\\xf4?\\xe3\\xd4\\xb7a\\xa6\\xda\\xcfi\\xce\\xdbhy\\xf7f\\xda\\x17\\xbc{\\xc3\\xf61\\xfe\\xf9?\\x02.\\xb9\\xe4\\x12\\x8a\\x12\\xdd`\\xe8\\xdf\\xf7B\\xcf\\xffd\\xea%7\\x99\\xea?\\xabeN\\xab\\xb8\\xd7\\xf8\\t6\\x9d\\xf3Y\\xfa\\xfb\\xffx\\xf2~\\x9d\\xd4\\x8f\\x13\\xca5\\r\\x86\\xfe\\x83\\xbb\\x8e\\xeda\\x06X\\xe9m\\xf3\\xf7\\xa2k~\\'\\xdd\\xdb\\xb3\\xae{~\\xff\\t\\x90\\xf1+\\xbb\\xff\\x97\\xfaqB\\xb9\\xa6\\xc1\\xd0\\x7f\\xcc\\xd9\\xef\\xe7\\r\\xd4\\x7fZ\\xdb\\x82\\xf5l\\xffQ\\x92\\xba\\xc67\\xd5>\\xfe>N\\xbeRF\\xee\\xff\\xd3\\xfe)g\\x1a\\x0c\\xfd\\'\\x9e\\xfcb\\xdc@\\xfd\\xa7\\xb6\\xff\\xfb\\x13|\\xce/A3\\xa0\\x84\\xcc\\x818d\\xba\\x9ex\\xad\\xa6~34\\x8a\\x88\\x04#\\x12\\xf5$\\x19!#\\n\\r\\xc8\\xf5$C\\xe1\\tV\\x81R\\x0e\\xb9\\xf5\\x89\\x90\\xf9\\xeb\\x0c\\xd4\\x7f4\\\\z\\xe9\\xa5\\x14%\\xba\\t\\xa8\\x7f/\\xd4\\xff$\\xd4\\xff\\x94\\x1e\\xfc\\x1d\\xc5\\x8b\\x92\\x12\\xd0s\\xaa\\x13]\\xfb\\x0f\\x1b\\xa8\\xff\\x94\\x8eE\\xf3KT1\\x9a\\xfeKT1\"u\\x9fdu\\xf7\\xfc\\xfe\\x93h\\xff\\x94SI\\xbd\\xff\\xf0\\xf3\\x07\\xaa\\x193+\\xb9\\xe3\\xa3\\xccb\\xb4\\x8f\\x9f\\xa5\\x8a\\xd2\\x99\\x01\\xb16voi\\xfb\\xb6u\\xcfJA\\xfd\\'\\x93\\xfe3H\\xff1\\x92?N(\\xd7$\\xf5\\xfe\\xa7\\x9f^\\x97b\\xae\\x7f\\xb9\\xba*\\xb4\\xb8)\\x81\\xf4\\xdfO3\\x03\\xacj_\\xa8\\xeeM\\xb5\\x9f\\xa2\\x91\\x8f\\xfa\\xcf\\xa9\\x97i\\xfa\\xbf\\xec\\xb2\\xcb(JtR\\xee\\xdf\\xb7\\xef\\x0f\\xfc\\xfb=G\\x9b\\xeb\\x1f]\\x1f\\xb8\\xe3{o\\xb3T\\x11H\\xa4\\x06;\\x03\\xa6;\\xb0{\\x99\\xd5\\xdd\\x17\\x103Q\\xff)\\xb4\\x7f\\xca\\xe9\\xa4\\xdc\\x7fPw\\xd3q\\xc6\\x82\\x85\\xfa\\xffG\\xc1\\x894\\x98\\xa5\\x8c0\\x98\\x01XqS\\xbcS\\xae\\xf1\\r\\xbbg\\xdb7\\xec?V\\xf2\\xc7\\t\\xe5\\x9a\\xa4\\xdc\\x7f\\xd4\\xb9\\x1d\\xefY\\xd8\\xff\\xc8\\xbc\\x13\\xd9l\\xff\\xca\\x08\\xa3s\\x80\\x7f\\xeeOt\\xf05~\\x8a\\xd1s\\xbe.\\xb6\\x7f9\\xea?\\x81\\xf4\\x7f\\xf9\\xe5\\x97S\\x94\\xe8\\xa4\\xdc\\x7f\\xc2\\xa9\\xaf\\x03\\x18\\x0bWNs\\xf1\\x1fl\\xfb\\x91|\\xaaH\\xee\\x9e@\\x8ch\\xf7\\xf6\\x06\\xea\\x9e\\x95\\x8a\\xfa\\x9fI\\xfb\\xa7\\x9cN\\xaa\\xfdO\\xbd\\xd0\\xf9\\x17:\\xaf_oi\\xffY-\\xe5M\\xbc\\xf3\\xbf\\x91\\x19P\\xa2\\x8a\\x13\\xe5\\xde\\xde@\\xdd\\xf7\\xd3\\xf6\\x9f\\x88\\xfa\\x8f\\x93\\xfcqB\\xb9&\\xa9\\xf6\\x1f\\xday\\xe4\\'\\xc6\\x8a\\x95\\xd1\\xfa\\xcan~\\xff\\xc6\\xf7\\x02\\xf8\\xfd@G\\xdf\\xdb3\\xd7>\\xdb\\x7f*\\xea?Y\\xd3\\xff\\xb0a\\xc3(JtR\\xed?\\xf6\\xcc\\xd6R+\\xf2gR\\xdb\\x17~\\xc76\\x1f\\x0e\\xe6\\xe6\\x00\\xff\\xfc/n\\xf7\\xf8>%\\xc6\\xef\\x7f\\xba\\xe4\\x8f\\x13\\xca5I\\xb3\\x7f\\xf2\\xfb=\\x9f\\xb7\\xae\\xffw>b\\xfb\\x0e\\xd7aj\\x0eD\\x91\\xf6\\x1duoo\\xa0\\xee\\r\\xfbO\\x029\\xed\\x9fr\\x12)\\xf6\\x1f\\xd8\\xd3q\\x1a]\\xfb_\\xa6\\xdf\\xb8\\x99\\xcf\\x00\\xcf\\xc5\\xd7\\xf8\\xa5\\xa8\\xfbR\\x8bf@\\xb4\\xc3\\xee\\xed\\r\\xd4\\xbd\\xb6\\xff4\\xc8\\xaeO\\x81t\\xae\\xff\\xe1\\xc3\\x87S\\x94\\xe8\\xa4\\xd8\\x7f\\xc4\\xf9}_2V.\\xb9\\xba*\\r\\x7f\\xee\\xbfT\\x19\\xc6\\t7\\xbb\\x17(Q\\xc6:\\xe4\\xde\\xde@\\xdd\\x17\\x9cH\\x87|$\\x8f\\xd7\\x7f\\xbc\\xe4\\x8f\\x13\\xca5I\\xb1\\xff\\xf8\\xd3kf0V.\\xb9zqP\\x89*\\x1ef+\\xc3t\\x84\\x13\\xa5<\\x11:\\xd8\\xfb\\x81\\xc2v\\x9f:`\\xf7\\xf9\\xbc\\xfeg\\xa2\\xfee\\xb4\\x7f\\xcai\\xa4\\xd6?\\xfe\\xfd\\x8a2\\xf5\\xd2{\\x18+\\x17\\xba^\\x18\\x87\\xaf\\xe9\\xb5\\xe7\\xff0\\x1d\\x03_\\x13\\xe0\\xffN\\xc8{{\\x03u\\xcf\\xca@\\xfd\\xa7k\\xfb\\xdf\\x15\\x0f#F\\x8c\\xb0\\xd9\\xd8\\xb1c\\xa1\\xbd\\xbd\\xdd\\xe5-[\\xb6\\xcc\\xae\\xd7\\x892$\\xb5\\xfe\\x83\\xbb\\x14\\x87\\x19\\x1b\\x16\\xea\\xffa\\xdc[\\xa92\\x94cn\\x06\\xf0\\xe7@\\xd1\\t\\x99\\x08\\xdd\\xb3\\xedk\\xfao@\\xfd\\xff&\\xb7\\xbb\\x7f777\\xe8\\xeb\\xebsy\\xd5\\xd5\\xd5\\x82\\x1f\\xffC\\x9d\\xd4\\xfa\\x8f>\\xfb\\xd3B\\xc6\\xb6\\xfe\\xaf\\xcbk\\xce\\xd1\\xe9?\\xd4\\xc2\\xbd@\\xb8\\xe6~@\\xff\\xb9\\xdft\\xfb\\xf6wO4g@\\x9e*\\x03\\xf5\\x9f\\xaa\\xe9\\xff\\x8a+\\xae\\xb0\\xd9P\\xea\\xdf\\x9e\\xd7\\x892$\\xb5\\xfe\\x13N\\xae\\x9c\\xcc\\xd8\\xb8rZ\\x8a/\\x94*C\\xb8\\xf6\\xad\\x9d\\x03\\x11P\\xa2\\x8c\\x16\\xe4\\xde\\xde@\\xdd\\xe77g\\x12\\xb4\\x7f\\xeb\\xd1\\xfe]\\xbb\\x7f\\xff\\xdes}\\xe8<~\\x15c\\xe3\\xcal\\xadld\\xfb\\x0f\\x01\\xcb\\xe6\\x80\\xe1^\\x00\\xff\\xec0Gvo\\xd8\\x7f2\\xea\\x7f\\x06\\\\y\\xe5\\x956\\x1b?~<\\xe9\\xc3\\xd5\\xad^\\xbd\\xda\\xae\\xd7\\x892$\\xa5\\xfe\\xc3:\\x7f\\xdb\\xc2\\xd8\\xb12\\xda^\\xdd\\xc5v\\x1e\\x02|\\xd6\\xed\\x05\\xf0\\xe7\\x03-k\\xdf\\xfa\\xee\\xb5\\xfdg\\xa2\\xfe\\xd3H\\xff2\\xda\\xbfEh\\xff\\xae\\xdd\\x7f\\xdc\\x99M\\xf9\\x8c\\x1d+\\xb5\\xfd\\xedof\\xa3\\xc6g+\\x83\\xcd\\xcc\\x00\\xd3s\\xa0\\x7f\\x06\\xe0\\xf7\\x03\\xed\\xeb\\xdeT\\xfbY\\x04\\xee?\\x0b\\xf5\\x9f\\xf6[\\n\\xea?\\xc1\\xae\\xbfC\\xda?5\\xd8\\xfb\\xf7%\\xbf\\xdf\\xf3\\xf3\\'\\x19;VJ\\xfb{\\x8bp\\xffs\\x94\\xc1\\xc4le\\x88\\x11\\xa1z\\xc2L|f \\x02\\nQ\\xff\\x85\\'\\xd2t\\xa4C\\x81\\x81\\x0c\\xbef,\\xd3\\x88,\\r\\xb6\\xff,t\\xfeOG\\xe7\\xff\\x14\\xb4\\xffO\\x80\\xab\\xae\\xba\\xcaf\\xee\\xee\\xee\\xa4\\x0fW\\x87\\xfb\\xb7\\xe7u\\xa2\\x0cI\\xa5\\xff\\xc0\\x9e\\xd6vt\\xed\\x7f\\tc\\xc7J\\xe9XT\\x86\\xbb\\x9d\\xa3\\x08&\\xfd[>\\x07\\xc2L\\xcc\\x81\\xc8\\x01\\xbaO\\xb7\\xa9{V6\\xed\\xdf\\x06\\xb4\\x7f\\xd7\\xed?\\xf2\\xdc\\xee\\xa5\\x8c\\x9dK\\xae\\xaeJ.UF\\xa1\\xfe\\x838\\xe6\\xe6@\\xa8\\xd99P\\xaa\\x8a\\xb1\\xbb\\xfb\\x02\\x9d\\xee\\xfbi\\xfb\\x9f\\x89\\xfaO\\x84\\xab\\xaf\\xbe\\xdaf\\x13&L }\\xb8:\\xdc\\xbf=\\xaf\\x13eH*\\xfd\\xc7\\x9f\\xaa\\x8eb\\xec\\\\2\\xf5\\xa7\\x81\\xf8g|\\xb0\\xed\\xeb\\x18p\\x06\\x98\\x9f\\x03%M\\t\\x82u\\xaf\\xed?\\x1b\\xf5\\x9f!H\\xffc\\xc6\\x8c\\x81E\\x8b\\x16\\xb9\\xbc\\x8c\\x8c\\x0c\\xc1\\x8f\\xff\\xa1N\\n\\xfd\\xfb]\\xe8\\xf9\\x1b\\xed\\xfdoe\\xec\\\\\\xe81^\\xc0\\x9f\\xe5\\xe5\\xb5o\\xf1^`\\xe0k\\x82\\xa2\\xa6d3\\xddgZ\\xd4}~s\\x0e\\xc1\\xef?\\t\\xae\\xb9\\xe6\\x1a\\x8a\\x12\\x9d\\x14\\xfa\\x0f\\xe9j\\xd8\\xcf\\x08\\xb0P\\xff\\xa3\\xf1\\xfd\\xf99\\x8ai\\x1c[\\xe6\\x80\\xe9\\xbd\\x00\\xbe\\x17`o\\xf7\\xfc\\xfe3Q\\xff\\xa9\\xb4\\x7fjH\\xf7\\x1fsv\\xfb\\xab\\x8c\\x00\\x0b\\x7fv(\\xaf9W\\xa7\\x7f\\xcb\\xe6\\x80\\xe5\\xd7\\x04\\xe1z\\xe7\\x7f\\xeb\\xbbg\\xe5\\xa2\\xfesh\\xff\\x94\\xd3y\\xa0\\xfe\\xbdQ\\xff\\x93Q\\xff>\\xa8\\x7f\\xdf\\xbe\\x8b\\xa2K<\\xf9\\xa5;#\\xd0\\xcai)\\xee\\x9e\\xa3\\x08\\x04\\x96\\xb99`\\xfd5A\\xa9*\\xda\\xc2\\xee\\xb3\\x8dv\\xdfO\\xdb\\x7f\\x1a\\xc8v\\xc9\\xe0\\xdak\\xaf\\xa5(\\xd19\\xbb\\xff\\x80\\xde3\\xdd\\xe8\\xbc=\\x82\\x11he\\xb6\\xce\\xab\\xd7\\xf6\\x1f\\xa8\\xd3\\xbep\\xd7\\x04\\xf8w\\n\\xd9\\xda\\xbd\\xb6\\xff\\\\\\xd4\\x7f\\x16\\xa4\\xd1\\xfe\\xa9!\\xdc\\x7f\\xc4\\xf9_\\xd62\\x02\\xae\\xf4\\xb6\\x7f\\xd5\\x94\\xa1\\xce\\xcbx3 P\\xf0k\\x82\\xa2&\\xb9M\\xdd\\xe77\\xe7\\x11\\xb9\\xa8\\xff,\\x9d\\xfe\\xaf\\xbb\\xee:\\x8a\\x12\\x9d\\xb3\\xfb\\x9f~zC\\x06#\\xe0Jk[\\xf85n\\xb9L\\x11@f\\x80\\xf5s\\xc0\\xf2k\\x02\\xfc\\xb9 \\xcb\\xbbg\\xdb\\xcf\\xe3h\\xfbOG\\xfd\\xcb%\\x7f\\x9cP\\xae\\xc9\\x99\\xfd\\xfb\\xb1\\xbf\\xdf\\xf3QF\\xc0\\x95\\xd2\\xb1\\xe8?\\xda\\xfe\\x03L\\xcc\\x01\\xa1\\xae\\t\\xc2\\xb8\\xeb\\x00\\xcb\\xbb\\xd7\\xf6\\x9f\\x87\\xfa\\xcf\\x86\\xb4C\\xa8\\xff:9\\\\\\x7f\\xfd\\xf5\\x14%:g\\xf6\\x1f\\xd4\\xdd\\xacb\\x04^\\xc9\\x1d\\x1f\\xcd\\x9e\\x83\\xda,W\\x04\\xe8\\t$\\xcax\\xa6\\xe9\\t2\"\\x18\\xca\\x94\\xac9\\xca\\x10#\"\\xb8\\xf6\\xf3\\x8c\\xc8\\x87<\\x03\\x05DnS>d\\x1d\\xcfA\\xfdg\\xa0\\xfe\\x93%\\x7f\\x9cP\\xae\\xc9\\x99\\xfdG\\x9d\\xdb\\xf9!#\\xf0\\x92\\xab\\xab\\x12\\xf1\\xe7\\xf6\\xcb\\x15\\xfe\\\\\\xf7B\\xcc\\x01\\xb6\\x7fSs\\xa0T\\x15k\\xf6|\\xdf\\xdf}^\\x0b\\x8b\\xed?\\x17\\xf5\\x9fI\\xfa\\xbf\\xe1\\x86\\x1b(Jt\\xce\\xec?\\xe1\\xd4\\xaa`F\\xe0%S/\\xf1\\x9f\\xa5\\x8a\\xe5\\xfa\\xf7\\xb7c\\x0e\\x04Y5\\x07J\\x9a\\x12Mt\\xcf\\x9d\\xf7[t\\x19\\x9e\\xff\\xa5~\\x9cP\\xae\\xc9Y\\xfdO\\xbd\\xd0}\\x11\\xff\\xdenF\\xe0\\x85\\x1e\\xf3\\xb9b\\xd4b\\xb9b*\\xd7\\xbe\\xf99 \\xd45\\x01\\xfe|\\xa0A\\xf7\\xcd\\xfc\\xee\\xf9\\xe7\\xff\\x1c\\xcd\\xf9\\xff\\xc6\\x1bo\\xa4(\\xd19\\xab\\xff\\xd0\\xce\\xa3;\\x19\\x07,\\xd4\\xff}\\xb8C\\xb6\\x7f\\xcbg\\x80P\\xd7\\x04\\xf8^\\xc0@\\xddk\\xfb/\\xe0\\xed\\xff\\xa5~\\x9cP\\xae\\xc9Y\\xfd\\xc7\\x9e\\xd9V\\xce8\\xa6\\xff+\\xf0\\xf9W\\xdb\\xbf\\x90s\\xc0\\x92k\\x820\\xd4w\\x9e\\xc9\\xee\\xf3Z\\n\\x89\\xfe\\xfeSQ\\xffIu)0r\\xe4H\\x8a\\x12\\x9ds\\xfa\\xc7\\xbf\\xdfs\\xf9X\\xc6A+\\xa7\\xa5\\xf4\\\\\\x85\\xc2\\x8f\\xeb^\\x889`\\xdd5A\\xa9*\\xcad\\xf7\\xfdrP\\xff\\x99\\xc7\\xf3h\\xff\\xd4\\x90\\xeb?\\xb0\\xe7\\xe49t\\x9e\\xbe\\x9cq\\xd0\\xcaj\\xad\\xfc\\xbd\\xa2\\xd1\\x0f*\\x1a}\\xa1B\\xe1k\\xe3\\x1c\\xb0\\xf1\\xfdBn\\x06\\xccj\\x8a7\\xda}.Q\\x84\\xfa/\\xe4\\xf5\\x7f\\xd3M7Q\\x94\\xe8<\\x9c\\xd0\\x7f\\xc4\\xf9\\x9fW1\\x0e\\\\imom\\xafh\\x9c\\n\\xec\\x0c\\xf0\\x03a\\xf7\\x02\\x96\\xdf\\x1b(>\\x91\\x02\\xf9\\xa8\\xf7|M\\xffE\\x1a\\xb9\\xa8\\xff,\\xd4\\x7f\\xda\\xa1,\\x90\\xd5\\xcd\\x94\\xfcqB\\xb9&\\x0f\\'\\xf4\\x1f\\x7fz\\xad\\x9cq\\xe0Jm\\xff\\xf7\\x8a\\xf2F\\x7f\\xf6\\xfc\\xdf\\xe8\\'\\xd2\\x1c0~MP\\xd8\\x9c\\xcd\\xeb^\\xdb\\x7f\\x11\\xea?_\\xd3\\xff\\xcd7\\xdfLQ\\xa2\\x13\\xbb\\x7f\\xbf\\x0b}\\xf83\\xbf\\xf73\\x0e\\\\)\\x1d\\xef\\xbf\\x8d\\xfbd\\xfb\\xf7\\x15|\\x0eX\\xbb\\x17\\xc8o.\\xd0i\\xbf\\x98\\xe0\\xf7\\x9f*\\xf9\\xe3\\x84rMb\\xf7\\x1f\\xdc\\xad<\\xc68x\\xc9\\xd5U%\\xb8=m\\xfbB\\xcf\\x01\\xeb\\xae\\t\\xe6(By\\xedk\\xfb/@\\xfdg\\x93\\xfeo\\xb9\\xe5\\x16\\x8a\\x12\\x9d\\xd8\\xfdG\\x9f\\xad}\\x97q\\xf0\\x92\\xab\\x17\\xc7\\xe3\\xef\\xe6T4N\\xe1\\xf8\\x18\\xa1\\x9d\\x03b\\\\\\x13\\x94*ct\\xfa/A\\xfd\\x17\\xf3\\xfa\\x1f5j\\x14E\\x89N\\xec\\xfe\\x13N~\\xe5\\xcb8x\\xc9\\xd4K|\\xf0g\\xf2\\xe76\\xfa\\xe8\\xf05\\xc2OK\\x81\\xf7\\x03S\\x8d\\xf0\\xd7\\x13`D Q\\xae1MO\\x10Q\\xd2$C\\xed\\xcf\"r\\x9bJP\\xff\\x85\\xa8\\xff\\\\\\xd4\\x7f\\xba\\xe4\\x8f\\x13\\xca5\\x89\\xd9\\xbf\\x7f\\xef\\xf9?Q\\x9b\\xd72\\x0e^\\xe8\\xff\\xe3Y\\xfc3\\xbb\\xe76N\\xe6\\xda\\x17c\\x0e\\xe8\\xcf\\x00\\xe3s\\xa0\\xf0D\\x16w\\xfeg\\xfbO=\\x94\\x03Iuip\\xeb\\xad\\xb7R\\x94\\xe8\\xc4\\xec?\\xac\\xf3\\xf0\\x0f\\x8c\\x08\\x0b\\xf5\\x7f\\x17\\xfe\\x0c0\\xdb\\x7f\\xbf)z\\x84\\x98\\x03\\x016\\xcc\\x81 \\xc8k\\xc6\\x9f\\xff)\\x81L\\xda?5\\x84\\xfa\\x8f;\\xb3\\xb9\\x98\\x11\\xa7\\xff\\xe1\\xf8\\xbbx\\x95\\xa8\\xfb\\xca\\xc6\\xc9f\\xe6\\x80\\x8f\\x11\\xfc9 \\xf4\\xbd\\x01\\xfc\\xb3Er\\x9a\\x8a\\xd8\\xfe\\x0f\\xe7B\\xd2\\xeet\\xb8\\xed\\xb6\\xdb(Jt\\xe2\\xf5\\xff\\x17\\xfe\\xfd\\x9e\\xcf2\"\\xad\\xec\\x96\\xb2S\\x95\\x8d\\x93\\xec\\x98\\x01:\\xfb\\x02\\xf2\\x19B?#l\\x7f\\xbf\\xb0\\xf4x8d6\\x16\\xd1\\xfe\\xa9!\\xd1\\xff\\xb4\\x9e\\xf6\\x93\\xe8\\xbc|)#\\xd2\\xcaj\\x9dw\\x98m\\x7f\\x128~\\x0e\\x98\\xdb\\x1f\\x18\\xee\\x05f7\\x04B\\xe1\\xef\\xb1\\xa8\\xff<\\xd4\\x7f\\x06\\xdc~\\xfb\\xed\\x14%:\\xb1\\xfa\\x8f<\\xb7g\\x19#\\xe2Jk\\x7fs\\xeb\\\\\\xc5\\x14\\xa8TL\\xd23\\x99\\x98\\xcb3E\\x8f\\x8f\\x11~ZJ?\\xa8PN5\\xc2_G\\x80\\x11\\x81D92\\xe7x\\x00\\xcc::\\x152\\x7fM\\xa4\\xfdSN\\xe3\\xc9\\xf5?\\x05\\xf5\\xef\\x8b\\xfa\\xf7\\xeb\\xbb\\xe8\\x10\\xf1\\xa7W\\xc71\"\\xae\\x99\\x1d\\xef-\\xc3\\xddV*\\xbc\\xb9\\xee\\x85\\x9a\\x03\\xbeZJ_\\xd4\\xb3\\x9f\\x1e\\x7f\\x8b\\xe6@\\x19\\xd7\\x7f\\xe1\\x01\\x1f\\x90\\xd7\\xc9\\xe1\\x8e;\\xee\\xa0(\\xd1\\x89\\xd1\\x7fh\\xcf\\x19@{\\xff;\\x18\\x11WJ\\xc7\\xa2\\xb7\\xf09\\x99\\xed\\x7f\\xe0\\x19`\\xfd\\x1c\\xf0\\xe5\\xa9P\\xf8\\x19\\xa1\\xff\\xbe\\x01\\xff}\\x82\\xb2\\x86\\x00(=\\x82\\xfa\\xdf\\xef\\x03Y5\\xde\\x92?N(\\xd7$F\\xff\\x0bZW\\xfcY\\xd4\\xba\\xf0vF\\xc4%W\\x7fRP\\xae\\x0c\\xd0\\xe9\\xdf\\xdb\\xb1{\\x01\\x8b\\xe7\\x00\\xfb\\xdeaY\\xc3T\\xd4\\xbf/\\x14\\xed\\x9f\\x02\\xd95^p\\xe7\\x9dwR\\x94\\xe8\\xc4\\xe8\\x7f\\xfb\\xe1\\x18P\\xedy`!#\\xe2\\x92\\xa9?\\x8d\\x9b\\xa3\\nA]{q\\x0c\\xe7\\x80\\xf3\\xe6\\x80n\\xff\\x93Q\\xff\\x13%\\x7f\\x9cP\\xaeI\\x8c\\xfe\\xcf\\xd4\\xdd\\x0e\\xff\\xab\\x19\\xd6[\\xd8\\xba\\xf06F\\xa4\\x85\\xae7\\xbcK\\x9bbt\\xfa\\x97\\xc2\\x1c\\xd0\\xce\\x80\\xb2\\x06?^\\xffw\\xddu\\x17E\\x89\\xce\\xd1\\xfd\\'\\x9f?\\n\\x17k\\x86\\x11\\xca=\\x0f\\xbe\\xc9\\x88\\xd7\\xff\\xd3\\xf8grk\\xbb\\x17k\\x0eX\\xb6\\x17`\\xfb\\xf7A\\xfdO\"\\xfd\\xdf}\\xf7\\xdd\\x14%:G\\xf7\\xbfD\\xf1\\x06\\xfc\\xc5\\xf5/\\xe6\\x1e\\x00\\xf5\\x7f[\\xe1\\x89\\x0c\\x98\\xd78\\x91\\x10w\\x06\\x98\\x9f\\x03e\\r\\xbe:\\xfd{J\\xfe8\\xa1\\\\\\x93\\xa3\\xfb?\\xf0\\x8b\\xa7\\xa6\\x7fv\\x0f0z\\x01#\\xc2\\xc2?_0\\xaf9\\xff\\xef\\xfe\\xfe%1\\x07t\\xde/,;\\x8e\\xfa?:\\x05\\x8a\\x0e\\xa0\\xfek=\\xe1\\x9e{\\xee\\xa1(\\xd19\\xb2\\xff\\xc0\\x0b\\xbd\\xd0\\xbb\\xe3\\x1a\\xd4\\xffp\\xfd=\\xc0\\xad\\x8c\\x08+\\xbb\\xb5\\xbc\\x83\\xed\\xde\\x13\\xa46\\x07\\xb4\\xfd{\\xd3\\xfe\\x07\\x81\\'\\x9ex\\x02\"##\\xa1\\xac\\xac\\x0c\\x16/^\\x0c\\x1b7n\\x84\\xfd\\xfb\\xf7Ccc#ttt\\x80Z\\xad\\x86\\x93\\'O\\x92\\x7fnkk\\x83\\xa3G\\x8fB]]\\x1d\\xac]\\xbb\\x16>\\xfc\\xf0C\\xf2\\xdfEDD\\xc0\\xb3\\xcf>;d\\xfa/=\\xb9\\x15\\xfe\\xac\\x1d\\x0e\\x7f\\xea\\xf4\\x8f5\\xee}\\xe8\\rF\\x84\\x95\\xd1\\xf6\\xdaAm\\xff\\x863\\xc0\\x99s\\xa0\\xfc\\xb8\\x0f\\xaf\\xff{\\xef\\xbd\\xd7f\\x1f|\\xf0\\x01\\xec\\xdb\\xb7\\xcff\\xde\\xde\\xde\\x06\\x8f9\\xd4=\\xf4\\xd0C\\x10\\x1f\\x1fOZ?r\\xe4\\x08\\xf4\\xf5\\xf5\\t\\x06\\xcf\\x8c\\x95+WBVV\\x16<\\xf3\\xcc3N}\\x9e\\x8e\\xec\\x7fu}\\x16\\xdb\\x7f\\xedp\\xfd=@\\x8f\\x18{\\x80\\xf4\\xb677\\xe3\\xcf\\xfek\\xfb\\xf7\\xb4b/ \\xd4\\x1c0>\\x03\\xca\\x1b|`\\xf6\\x91\\xc9P,@\\xff\\x1b6l\\xb0\\xebx\\x0c\\x0c\\x0c$\\x8f3\\xd4\\xdd\\x7f\\xff\\xfd\\x10\\x15\\x15\\x05\\xcb\\x97/\\'\\xe7r\\xfc\\xda8ZOO\\x0f\\xd9K\\xc8d22s\\\\\\xa9\\xff\\xa6}\\x8f\\xc1\\x1fF\\xfa\\xe7\\xf6\\x00\\xffb\\x1c\\xbcR:\\xde_2W\\x81\\xfb\\xf702\\x03\\x9c{MP\\xde0\\x85\\xed\\x7f\\xbf7\\xe4\\xd4x\\xc0}\\xf7\\xddg3{\\xfb\\x9f6m\\x1ay\\x9c\\xa1\\xea\\xd1G\\x1f%\\xfb\\xf3\\x86\\x86\\x06\\xf2z8\\x0b\\xbevx\\xf7\\xddw\\xe1\\xa9\\xa7\\x9e\\x12\\xed\\xb9;\\xaa\\xff\\xe8\\xee6\\xe8\\xab\\x1d\\xae\\xe9\\xdf\\xc4\\x1e`\\x14\\xe3\\xc0\\x95\\xdc\\xf1\\xd1\\x02\\xdc\\xda+\\x8d\\x1e:<\\x8d\\x98\\xc83O\\xe1e\\x84\\xb7\\x9eIFL&*y\\xa6\\xe8\\xf1!*P\\xffs\\x8eL\\x82\\x92\\xfd^\\x90K\\xfbw\\n|\\xbe-//\\x87\\xd6\\xd6V\\xf2:H\\xc5\\xe9\\xd3\\xa7\\xe1\\x8d7\\xde\\x80\\xc7\\x1f\\x7f|\\xd0\\xf6\\xffv\\xcb\\xa7\\x9a\\xfeM\\xed\\x01\\x1a\\xf6>\\xf2:\\xe3\\xc0%WW\\xe5\\xe0\\xef\\xdbh\\xdb\\x97\\xce\\x1c\\xe0\\xf7?\\xc1\\xae\\xbfC\\xda\\xbf\\xf5bcc\\xe1\\xd8\\xb1c\\xe4\\xf9K\\x15\\xbe\\x8f\\x88\\xef\\x11\\xe0\\xeb\\x92\\xc1\\xd6\\xff\\x8f\\x87BH\\xfff\\xf6\\x00\\xddy\\xad\\xef8l\\x0f S/\\x89.S\\x86\\xa0\\x96\\'p,\\x99\\x01\\xe2\\xcc\\x81\\x8a\\x86\\xc9\\xa8\\x7foM\\xff\\xf8\\xef\\xd8V\\xf8\\xfa\\xd1\\x9e\\xe3,((\\x88<\\xceP\\xf0\\xe4\\x93O\\xc2\\x8a\\x15+\\xc8\\xf3\\x1e,\\xb6n\\xdd\\n\\xcf?\\xff\\xbcC^\\x0fG\\xf4?\\xb5\\xef/8\\xbdk\\x14\\\\\\xa8\\x1dn\\xc9\\x1e\\xe05\\xc6AK\\xa6^\\xe29[\\x15\\r\\xf35\\xfdKg\\x0eh\\xfb\\x9fH\\xfb\\x17\\x89\\xbf\\xbf?(\\x14\\n\\xf2\\x9c\\x07\\x9b\\xf6\\xf6v\\xb2g\\x19\\x0c\\xfdg\\x9c\\xfd\\x05\\xb5?B\\xd3\\xbf\\x99=@\\x17\\xda\\x03\\xdc\\xc28\\xa6\\xff\\'JN\\xc8P\\xff\\xeed\\x06\\xd86\\x07&\\n4\\x07\\xf83\\xa0\\xa2a\\x92N\\xff\\xee\\xf0\\xc0\\x03\\x0f\\xd8L\\x88\\xfe\\xf1\\xe3\\xb8\\xb2\\x9c\\x9c\\x1c\\xe8\\xee\\xee&\\xcfw\\xb0\\xea\\xed\\xed\\x85\\xd7_\\x7f\\x1d\\x1e|\\xf0A\\xc1^\\x17G\\xf4\\xff\\x99b\\x9e\\xa6\\x7fK\\xf6\\x00\\xf5{\\xff\\xf1*\\xe3\\x98\\xfeG\\x156gr\\xfd\\xbb\\x0b:\\x07\\xec\\xdd\\x0b\\xb0\\xfd{A\\xc9~O\\xda\\xbf\\x03\\xe1V\\x16,X\\x00\\x17.\\\\ \\xcf\\xd5\\x15\\xe0\\xeb\\x97G\\x1eyD\\xb2\\xfd\\x1f<0\\x8e\\xeb\\xdf\\xf2=@n\\xdb\\xbb\\x82\\xef\\x01\\xf0\\xcf\\x1b\\xcck)\\xba\\xc8vo8\\x03\\x9c9\\x07\\xe6\\xa2\\xfe\\xcb4\\xfd\\x8f\\'\\xc7\\xa9\\xad\\xec\\xed?88\\x98<\\x8e\\xab\\x19=z4,]\\xba\\x94<GW\\xb3i\\xd3&x\\xec\\xb1\\xc7\\xec~\\x8d\\x84\\xee?\\xa4\\xb7\\x0b\\xbaw^\\xc5\\xb5o\\xf9\\x1e\\xe0\\xd8\\xbeG\\xe73\\x0eX\\xd9\\xad\\xe5m\\xaf\\x90\\xd6\\xdd\\xc1\\xd4\\x1cx\\xc5\\ts`n\\x837\\xea\\x7f\"\\xccB\\xfd\\xe7\\xd1\\xfe\\x1d\\xa2\\xaa\\xaa\\x8a<?WUSS\\x03c\\xc6\\x8c\\x91T\\xff\\x15\\xeau\\xd0\\xbbc\\x04\\xf4\\xd6\\x8e\\xb0e\\x0fp\\x13#\\xf0Jo[\\xf03\\xdb\\xffx\\x8e\\xa5s\\xc0\\xb1\\xef\\x19j\\xfb\\xf7@\\xfd\\xbb\\xd9\\xf5wH\\xfb74\\x7f\\xfe|\\xf2\\xdc\\\\]vv\\xb6\\xa4\\xfa_{L\\x0e=\\xb8\\xff\\x1d\\xa6\\xfb7\\xb5\\x07\\xf8}\\xdfc\\x82\\xef\\x01\\xd2\\xda\\xdf\\xde\\x80\\xdb\\xd5\\xf6o\\xef\\x1c\\x10\\xe6\\xbd\\x82\\xb9\\r^\\xbc\\xfe\\xf1^\\xd5Vx/h\\xcf1\\x14\\x12\\x12B\\x1e\\xc7U\\xcc\\x9c9\\xd3\\xa5\\xae\\xf7\\x8d\\xc1\\xcfo\\xde\\xbcyv\\xbfV\\x9e\\xc7\\x1a\\x04\\xed_\\xb5w\\xb4\\xa6\\x7fk\\xf7\\x00\\x17k\\x86w\\n\\xbd\\x07\\x98\\xd9\\xf1\\xdf*\\xdc\\xde\\xfcF7\\xae{G\\xce\\x01K\\xde+\\xd0\\xed\\xdf\\x93\\xf6/0\\x0f\\x0f\\x0f8{\\xf6\\xacC\\xdb\\xab\\xaf\\xaf\\'\\xf7\\x15\\x8a\\x8b\\x8b!<<\\x1c\\xdc\\xdc\\xdc\\xe0\\xe9\\xa7\\x9f&\\xf7\\xe4\\xf0\\xe7\\x0b\\x9e{\\xee9\\xf0\\xf2\\xf2\"\\xdf\\x1f\\xaa\\xac\\xac\\x84\\xea\\xeaj\\xf2\\xd9^!\\xdb/--%\\xcfWJ\\xfdO\\xefj\\x82n\\xd4}\\x0f\\xa7\\xb7\\xd6\\xa6=\\xc0+\\x8c\\x80K\\xae\\xaez\\r\\xff\\xde\\x0f\\xb6\\x7f7\\x13s\\xc0\\xdd\\xa1s\\xc0\\xd8^@\\xdb\\xff\\x04\\xd4\\xff\\xcb\\xe4\\xb3\\xa8\\xb6\\xb2\\xb7\\xff\\xd0\\xd0P\\xf28\\x83\\x1d\\xfe\\x1c?\\xfeN.~NB\\xc3\\x9f\\xc9\\xc5\\xdf\\xe3\\xf5\\xf1\\xf1\\xb1\\xe9\\xcf\\x86g\\x03\\xbe\\xce\\xc2\\xf7$\\xec\\xf9n\\x11~\\x0f\\xb0\\xa0\\xa0@\\xb0\\xd7\\x8c\\xed\\xbfC\\x90\\xfe\\xff\\xdb\\xfc>\\xe9\\x1f\\xb3s\\x0f0\\x92\\x11h\\xc9\\xd5\\x8b\\xb3\\xe6*\\xfc\\xe1\\xd5\\xe3\\xa8\\xfb\\xe3n\\x92\\x99\\x03s\\x1b&\\xa2\\xfe=h\\xff\\x02\\xc2\\xef\\xf3\\xe1\\xe7#\\xa4\\xf3\\xe7\\xcf\\xc3;\\xef\\xbcC\\xbe\\xb7/\\xd4\\x9f\\x13\\xef\\x11\\xf0\\xfd\\t\\xfc3\\x03\\xacm?33\\x93<\\x86\\xf0\\xfdw\\xda\\xdd\\x7f\\xed\\xa1\\x00\\xd4\\xfe\\x15\\x06\\xfd\\xf7\\xb3b\\x0f0\\x8f\\x11h\\xc9\\xd4K\\xc2\\xcb\\x94\\xa1\\xa8\\xff\\x979\\xd2\\x98\\x03\\xda\\xfe\\xddQ\\xff\\xe3\\xe0\\xe1\\x87\\x1f\\xb6\\x99\\x10\\xfd\\xe3\\xc7\\x19\\xcc\\xf0\\xbe\\xbf\\xb3\\xb3\\x93<\\x1f\\xa1\\xe0\\xfb\\xeb\\xf8q\\x1d\\xf5g\\xc6\\xdf\\xfd\\xff\\xf8\\xe3\\x8fI\\xd7\\xe6\\xfe,]]]\\x90\\x92\\x92\"\\xf8\\x9f\\x01\\xf7?\\xa9\\xb5\\x9d\\xeb\\xbf\\xcf\\xe6\\xf6\\xfd/\\xfc\\x01\\xa7v\\x8d\\x84.\\x9d\\xfe\\xf5g\\x80\\x15{\\x80\\xf3B\\xed\\x01P\\xff\\x13JU\\xb1\\\\\\xfb\\xda\\x19`\\xfb\\x1c\\x10\\xe6\\xb3\\x03\\x95\\xf5\\x9e\\xb4\\x7f\\x01\\xad_\\xbf^\\x90\\xe6\\xfb\\xb8\\xeb\\xeb\\xffg\\xefL\\xa0\\xa3\\xa8\\xd2\\x05\\\\3>7\\x16u\\xe6\\xf8\\xde\\x9ba\\x1c\\x1c\\x1c\\x85,\\x845+\\x04\" (\\xea\\xe0\\x823\\x07}\\xea\\xa0\\x1e$\\x10pA\\x16\\x01\\x03B\\x08$$$,\\x12@\\x81\\x845 \\xfb2\\xfa\\x8e2*\\x89\\x90\\x15\\x84\\x98\\x84tw\\x12\\xb2w\\xba\\tay \\xa0\\x1c\\xef\\xfb\\xff\\xdb\\xd5\\xdd\\xd5\\x95\\xea\\xee\\xea\\xae\\xea\\xaeNW\\xdfs\\xbe\\xe3\\x81\\x84[Um\\x7f\\x7f\\xfd\\xf7\\xaf[\\xf7\\xae^\\xbd\\x9a\\x04\\x05\\x05y\\xe5\\xdcq\\xfeUEE\\x85\\xc3\\x1cd\\xd2\\xa4I\\x1e9\\xf6h\\xad\\x8e\\xfa\\xff\\xec\\xa5+\\x92\\xfc\\x9f\\xd1^B\\xae\\x9e\\xbc\\xc7\\xe2\\xbf\\x0c9\\xc0\\x12F\\x1e\\xffC\\xe65\\xc4\\x83\\xef\\xc39\\xfe\\xf3r\\x01\\tq\\xc0\\xdd\\xb9\\x03\\xe8\\xff\\xa2\\xca\\'H\\xe2\\xe9\\x11\\x01\\xff%\\x82\\xef/\\xcaU\\xef\\xc7{\\xf1\\xacY\\xb3\\xbc~\\r\\xb8\\xbe\\xd8\\xee\\xdd\\xbb;\\x9c\\xcf\\xe5\\xcb\\x97\\xe9\\xbc\\x7f\\xfc\\x1d\\xcf\\xf9\\xafg\\xfd\\xbf\\x01.\\xff\\xe2\\x96\\xff\\xb9\\xb5\\xf3-\\xfe\\x8b\\xcd\\x01n\\t\\xe4\\x00\\xb7ms\\x80\\xdf1\\xd2\\xfd\\x7fpN\\xd3{\\xac\\xff\\xc3\\x1d\\xc7\\x81Z\\xb9\\xe2\\x80\\xf3\\xb9\\x03KtOX\\xfc\\x9f\\x9d?\\x8c\\xd6\\x87\\xdc\\xe5\\xeb\\xaf\\xbf\\x96\\xf4\\x9d\\x9f0a\\x02\\xed\\xa7\\xb3\"u\\xfe\\x03\\x97\\xd9\\xb3g+z-\\xf8L\\x01s\\xfd\\x9bl\\xcd\\x11\\xd7\\x0c\\xf4\\xe4\\xf1Fk\\xb4\\xac\\xff\\x97\\xc98\\x8b\\xff\\xae\\xc7\\x80\\x1f\\xcfDw\\xf0_l\\x0e\\xf0\\xb3\\xfd\\x1c \\x89\\x91\\xa1}\\xd0\\xbc\\xe0g\\xab\\xfbJ\\xc6\\x01\\xbe\\xff\\xa3|\\xc2\\xff\\xe9\\xd3\\xa7\\x93Q\\xa3F\\x89f\\xc8\\x90!$\"\"\\x82\\xaeO\\x81\\xc7W\\x92\\xb1c\\xc7\\xcav\\xef\\xcf\\xca\\xca\\xa2}*\\r\\xae3\\x8ak\\x13\\xe0\\xf3\\x02\\xfc\\xb3\\xe7\\xfdo\\xb1\\xf8\\xff\\xdc\\xcd\\x9f]\\x8e\\x01\\x13~\\xbaD.\\x9f\\xbc\\x97\\xfa/=\\x07\\xb8\\x93\\x9b\\x03\\\\\\x96#\\x07\\x98\\xd1\\x92\\xd4\\x84~\\xa7\\xd6\\x0c\\xb7C\\x1c\\x0fS} \\xa5\\x96\\xcf\\x08\\x1e#\\x05\\x18EYf\\xc3\\x13<F\\x93d\\xf0\\x7f1\\xf5\\xffq2\\'\\x7f\\x18\\x1dk\\xba\\x8bT\\xff\\xa5\\x80\\xef\\xd4\\xd5\\xd7\\xd7\\x93\\x92\\x92\\x12r\\xe4\\xc8\\x11\\x92\\x91\\x91A\\xe7\\xdf\\x0c\\x1b&\\xed\\x9a\\xc4\\x82\\xf53\\xb9j}!!!\\xb4O_\\xc0[\\xe72F\\xa3!O\\x83\\xff\\x7fk\\xbfD\\x9e\\xbb\\xfe\\x13y\\xfe\\xe6\\xcf\\x14|\\x87\\xff\\xb9\\x9b\\xb7E\\x91\\xd2\\xba\\x8f\\\\)\\xb8\\x87r\\x15\\xf8?\\x96k\\x05wS\\xae\\x03?\\x15\\xb0s\\x02\\x81\\x9b\\x94\\xbb,\\xdc\\x02~f\\xf9\\x05c\\xc0\\tp\\x9f\\xa5\\xe2\\x87\\xfe\\x8b\\x19\\x89\\xed]}Z\\t\\xfa\\x9cZ3\\x8cEJ\\x1c\\x18!K\\x1cH\\xd6\\x8d\\xf2\\x0b\\xff\\x9d\\xcd\\x93\\xd9\\xb9s\\'y\\xeb\\xad\\xb7\\xe8<u\\xb9\\xbf\\xbb\\xd8\\'\\xbe\\x17/\\xf5<\\xdb\\xdb\\xdb\\xc9\\x88\\x11#h\\x9fj\\xe3\\xc9\\x0e\\xfe\\xdfb\\xfd\\x17\\x1f\\x03\\xfeW\\xf3&\\xb9\\x8c\\xfe\\xb3\\xf7\\x7fk\\x1d\\xb0c\\x0ep\\x83\\x85\\xef\\xbf%\\x06\\xf0\\xfc\\xbf}\\xe2\\xae\\xcb\\xef\\xb7\\xae\\x7f\\x80\\x91\\xd0\\x12\\x0c\\xeb\\x8e\\xa6\\xd4r\\xfdW>\\x0e\\x98\\xfc\\x1f\\t\\xfe\\xc7\\xf9\\xad\\xff\\\\p\\xfe\\xdb\\x96-[\\xe8\\xbc8\\xb9\\xbe\\xbb8\\xbfN\\x8es\\xc3\\x9c\\x05\\xfbS#Oj\\xaa\\xac\\xfe_\\xbb\\xce\\xfa\\x7f\\x8b\\x93\\x038\\x8f\\x01\\r\\xa5=M\\xfesb\\x80\\xdd:\\x80\\x1b9\\xc0\\x8f?\\x0c\\\\\\xc4HhS\\r\\x1b6\\xe1\\x98;\\xb5&\\x96\\xc5\\x93q`\\xa4\\xa88\\x90\\xac\\x1b\\xc9\\xf1?\\x96\\xce]s\\x97\\xce\\xe0?\\xb7\\xbe\\x8e\\xf5\\xbaq\\xe3\\xc6\\xd1s\\x97\\x82\\x1c\\xef\\xf6b\\xfe\\x80\\xeb\\xedb\\x7fj\\xe4\\x19M\\x19y\\x86\\xfa\\xdfn\\xf2\\xff\\xc6M\\x8b\\xffbb\\xc0\\xdbWu\\xe4R\\xc1\\xbd\\xd4\\x7f\\x0f\\xe6\\x00\\x97\\xa4\\xe4\\x00\\xf1\\x86\\xcd\\xc98\\xe7~y\\xcdP\\x92jC,\\x8fav\\x90?\\x0e\\x98\\xfc\\x1f\\x01\\xfe\\x0fW\\x95\\xff\\xdc8\\xb0k\\xd7.\\x12\\x13\\x13\\xe3\\xf6u\\xcb\\xb1^\\xf7\\xca\\x95+i_j\\xe5\\xeb\\x7f\\xf5\"\\xab\\xcf\\xcc%o\\x18\\xca\\xc8\\x0b\\xd7\\xae\\x9a\\xfc\\x17\\x8c\\x01\\xc2\\xfe\\x7f\\xda\\xb8\\xca\\xd6\\x7f\\xcf\\xe5\\x00\\x0b\\x197\\xdbd\\xe3\\x96wq\\xcdm\\xf4\\xdf\\x8c\\xebq@8?\\xa0\\xcf\\rj\\xb9\\x88\\x1b\\',\\xd5\\x8d\\x00\\xff\\x1f\\x07\\xff\\x87\\x81\\xffCh\\xbd\\xc7]:\\xa3\\xfff\\x9a\\x9a\\x9a\\xe8\\xde\\x17\\xae^s\\\\\\\\\\x9c,1\\x08\\xeb\\x94\\xd8\\x9fZ):\\xd4\\x85T|\\xdd\\x85T\\xe7\\xddG\\x8e\\x97\\x8d&KZ\\xf7\\x91\\t\\xd7\\xdb\\xc0{k\\x0c\\x18gy&\\xd0\\xb1\\xf6_P>\\x96\\xfao\\x8e\\x01W\\x04s\\x00a\\xffM\\xdcEnx8\\x07\\x98l\\xdc\\xfa\\xf7Eu\\xff\\x00\\xef\\x87\\xb0\\x08\\xc5\\x81X\\xaf\\xc6\\x81\\xa5\\xba\\xc7I\\x12\\xf8\\xbf@\\xe5\\xfe\\xdfd\\xe7\\xdb\\xe1\\x1c{\\\\\\xcfF\\xec5\\xe33\\x06\\xa9\\xc7\\xcd\\xcf\\xcf\\xa7}\\xa9\\x99B\\xd6\\xff\\xda\\xbc\\xae\\xa4\\xb1\\xa0+\\xd1\\x17u%\\xd5%\\x0f\\x91=\\xd5\\xef\\x91w.\\x9f!\\xe3o\\\\\\xb7;\\x0ex\\x11\\xfe\\xbf\\x19\\x0b\\x1f \\xed\\x85\\xe0?p\\xb9\\xf0\\x1e\\x8a\\xf99\\x00\\xffY\\xc0u\\x81g\\x01&D\\xe7\\x00\\x0b\\x18\\xf7\\xfc\\x7f<\\xb1a\"\\xc7\\x7f\\xe5\\xe3\\x80\\xc9\\xff8\\xf0?\\x96\\xfa\\x8f\\xdf}w9v\\xec\\x18\\xfd>wv\\xf6\\xef\\xdfO\\xe7\\x14\\x88\\xb9f\\xcc\\xdb\\xa5\\x1e\\x0f\\xdf\\xcd\\xc5\\xbe\\xd4\\x8c\\x90\\xff\\xfa\\xc2\\xae\\xa4\\x95\\xd2\\x85\\x9c*\\x8b&\\xabZ6\\x92\\xd7\\xaf\\xebi>\\xc0\\x8d\\x01\\x1f^\\xcc\\xa3\\xee\\x9b\\xfd7\\xc7\\x80+\\x85\\xe2\\x9f\\x05\\n\\xf9\\xef$\\x07\\xb8\\x9fq\\xdd\\xff>\\xf3\\x1a\\xa7p\\xbcW>\\x0e\\xd8\\xfa\\x1fC\\xff_\\xa8\\xdd\\x7fd\\xdf\\xbe}\\xf4\\xb9\\x9e\\xb3k\\xc6w\\xea\\xa5\\x1e\\xeb\\x85\\x17^\\xa0}\\xa9\\x99\\xc2C]\\xa9\\xff5\\\\\\xff\\x8b\\xac\\xfe#\\x06\\xa0\\xa9\\xf8A\\xf2e\\xd5?\\xc9\\x1cp\\xfe\\xa5\\x1b\\xd7 \\x16\\xfcB\\xf6\\xd4\\xcc$\\x17Y\\xff\\xbd\\x98\\x03$2\\xae\\xfb\\xff\\xc0\\x9c\\xa6\\x19\\xe0w\\x0c\\x8b7\\xe2@\\x9c\\xc38\\xb0T\\x17\\x07\\xfe\\x0f\\x0f\\xf8/\\xc0\\xbau\\xeb\\x9c^3\\xce7\\x92r\\x8c\\xabW\\xaf\\x8a\\xce5\\xfc\\xdd\\xffr\\x8e\\xff-v\\xfcG\\x8c\\xc0\\x05\\xa0\\xf2\\x870\\x92S\\x9f\\x8css\\xec\\xfb\\xef\\xb9\\x1c\\xa0\\xdd\\x9d\\x1c\\xe0\\x83\\x96\\x057L\\x8e\\xc7x=\\x0et\\x8c\\x01q\\x1c\\xff\\x87\\x82\\xff\\xd1\\xf4\\x9e\\xe7.\\xfe\\xe6?\\xd6\\x03\\xe2\\xe3\\xe3\\x1d^sMM\\x8d\\xa4c\\x94\\x97\\x97\\xd3~\\xd4\\x8e=\\xff\\xb9c\\x80V\\x8e\\xff\\xe6\\x18p\\x01\\\\o\\x03.\\xb2\\x98\\xfd\\xf7F\\x0ePvf\\xd0G\\x8c\\x8b\\xed]}j]*u;\\x9au_\\xd98\\xb0T7\\x1c\\xfc\\x1f\\x16\\xf0\\xdf\\xc1sy\\xac\\xcd\\xdb\\xbbf\\xa9\\xfbs\\x7f\\xfb\\xed\\xb7\\xb4\\x1f\\xb5S@\\xfd\\xefJ\\xfdo\\xe0\\xfa\\xef$\\x07@\\xf8\\xfe{9\\x07\\xb8\\xcf\\x05\\xfd\\x99w\\xf4\\xe9E\\xe8\\xea\\xf2\\xeah6\\x06(\\x1b\\x07\\xf8\\xfec.\\xea.\\xfe\\xe8?\\x82\\xf3\\x03\\xec]3\\xee\\x9b/\\xa5\\xef\\x83\\x07\\x0f\\xd2~\\xd4\\x0e\\xf5\\xffXWR\\x9d\\x0f\\xfe\\x83\\xef-\\xc5&\\xf4@k\\x91\\tCQ\\x17\\x0bF\\x96\\x0bE&\\xff\\x1d\\xe5\\x00W\\x04r\\x80k\\x029\\xc0\\r\\x17s\\x80_\\xe0\\xf7f\\xe9\\xd7\\x8csA\\x7f&\\xc1\\xb0\\xfe \\xfaG\\xfd\\xaf\\x8eV<\\x0e,\\xd3\\x82\\xff\\x15f\\xff\\xa3\\x14\\xf5\\x1f\\xd7\\xb5[\\xb0`\\x81K,\\\\\\xb8\\x90dff\\x92\\xed\\xdb\\xb7\\x93\\xe2\\xe2b\\xd9\\xd7\\xdeA\\xd0q\\\\oO\\xe8\\x9a\\xa5\\xf6\\x8d\\xef\\xdac?j\\x07\\xfd\\xff\\x91\\xe3\\x7f3\\xc7\\x7f}qG\\xff\\r\\x1c\\xff/\\x14\\x89\\xc8\\x01\\n\\xe4\\xcd\\x01\\xda\\x0b\\x1f\\xbc5\\xd9\\xb8u\"\\xe3b\\x9bb\\xd8\\xf8YJ\\xcd\\x08\\x92V\\x1d\\x05D+\\x1e\\x07\\x96i\\x87\\x91%\\x15\\xb1d\\xe1)\\xf0?OY\\xff_{\\xed5\\xc9\\xdf#|\\x1f\\x18\\xf7\\xaa>y\\xf2$\\xedS.\\xec\\xe5\\x00X#\\x90\\xe3Y\\xa3\\xda\\xb1\\xfa\\xdf\\x8d\\xd4s\\xfc\\xb7\\xcd\\x01\\xba\\x88\\xca\\x01\\xdaE\\xe7\\x00w\\xbb\\x95\\x03\\x18\\x8a\\xfep\\x11\\xdc\\x8fc\\xdch\\xf1\\xc6\\xecE\\xc9\\xb5O\\xb2\\xfeGy1\\x0e\\x0c\\x13\\xc4\\xea\\xff\\x10\\xf2a^$]\\xff\\xc5]p\\x7fh).\\xbc\\xfe\\xfa\\xeb\\xb4\\x1f\\xb9\\xc0\\xda\\x9d\\\\\\xfb\\xec\\xe2\\xbby\\xd1\\xd1\\xd1\\x1d\\x8e\\xd1\\xd6\\xd6&\\xa9\\xdf/\\xbe\\xf8\\x82\\xf6\\xa3v\\x9c\\xf9\\xafw2\\x06\\xb8P\\xe4~\\x1d\\xd0\\x95\\x1c\\xa0\\xf4l\\xd49p\\xffQ\\xc6\\xcd\\x06\\xff6!\\xe9\\xfc8\\x8e\\xfb\\xca\\xc6\\x81e\\xdaX\\xf0\\x7f\\xa8_\\xfa\\x8f`\\xed\\xae\\xb0\\xb0\\x90\\xf6/\\x15\\\\\\xf3\\x96\\xdf\\x7f]]\\x9d\\xa4>\\xf1\\xdc\\xb0\\x1f\\xb5c\\xf6_G\\xfd\\xefF\\xfd\\x17\\x1a\\x03\\xb4:\\x19\\x03\\xb4I\\xa8\\x03:\\xcb\\x01vk_=\\x06\\xfeJZ\\x07\\x04\\xfe\\xfd\\xf8\\x8f\\xeb\\xfe\\x01\\xaeG\\xb2(\\x1b\\x07\\xac\\xfe\\xc7\\xf8\\xa5\\xffHTT\\x14}\\xce&\\xe5\\xdcn\\xb2cu~\\xdfR\\xd7\\xf9oll\\xa4\\xfd\\xa8\\x1d\\xf4\\xbf\\x8c\\xe3\\x7fS\\xb1\\xd5\\x7f\\xb9\\xea\\x80\\xee>\\x0b\\xc4\\xff\\xa66,X\\x0f\\xee\\xde\\xc9Hl\\xd0Glb\\xfdD\\x8e\\xff\\xca\\xc6\\x01\\xbe\\xff\\xb8&\\xbc\\xbb\\xc8\\xe1?\\xf6\\xe3\\tp\\r+1\\xeb[;\\x02\\xc7\\x12\\xfc~1\\x7f\\xc7\\x9fI\\x01\\xf7\\xed\\xc1\\xbe\\xd4\\x8c=\\xff\\x9b\\x9d\\x8c\\x01\\x84r\\x009\\x9f\\x05^+\\xe8r\\xfb\\x03\\xfd\\xda\\xf7\\x19\\x99\\x1a\\xf8\\xff\\xd8\\xbc\\xc6\\x04\\x92^\\x1di\\x87(\\x01\\xa2I\\x1a\\x97\\x1a31<\\x86\\xd8a\\xa8\\x05kL\\x88\\xa5\\xa4h\\x87\\x92\\xe4\\x8a!\\xe4c\\xf0\\x7f\\xae\\x1f\\xfb\\x8f`\\rO\\xaa\\xab\\xb8\\xe6 \\xb7\\xcf\\r\\x1b6\\xc82\\xae\\xc0\\xbe\\xd4\\xcc\\xc9\\xc3\\xe0\\xff\\xbfM\\xfe\\xd7Q\\xffm\\xc7\\x00Bu@#\\xcf}w\\xeb\\x80\\xf6r\\x80\\x0bE\\x0f^\\x9db\\xcc\\xf9\\x1b#c\\x03\\xff\\xbb\\xcdn\\x9a\\rNGpP.\\x0eX\\xfd\\x8f\\x06\\xff#\\xc8\\x80\\x01\\x03\\xdcF\\xaa\\xff\\xb8\\xbe4\\xf6\\xe3)^|\\xf1E\\xc9\\xae\\xe2\\x9a\\x98\\xdc>q\\x0f,\\xa9}\\xe2\\xdad\\xd8\\x97\\x9a1\\xfb\\xaf\\xe5\\xf8/4\\x06\\xe0\\xe7\\x00|\\xff\\x85\\xea\\x80\\xee<\\x0b\\xac8\\x1dZ\\x0f\\xae\\x861\\x1eh3\\x9b\\x13\\xaf\\xa7Q\\x9f#\\x14\\x8f\\x03)\\xda!\\xe0\\x7f\\x8c*\\xfcG\\xa4\\xd6\\xeb\\xd0wn\\x7f8/\\x00\\xff^\\n---t\\xdfN\\xecO\\xad\\xa0\\xffg9\\xfe7\\x16w\\xcc\\x01\\xf4\\x1e\\xcc\\x01\\xb8\\xf3\\x81\\x8e\\x9e\\x1bW\\x04\\xee\\xff\\x81\\xf1P{G\\x9fV\\xbd\\x9c\\x8e\\xef\\xc3\\x81\\x08\\x01\"E\\xd7\\x07\\xa4\\xc6\\x81T\\xf0\\x7f)\\xf5?\\n\\xfc\\x0f\\xf7{\\xff\\xa5\\xceQ\\xc0\\xfd\\xf2\\xf8}\\xa2\\xbf\\xf83)L\\x9b6\\x8d\\xf6\\xa5V,\\xfe\\x7f\\xdf\\x8d\\x9c\\xe7\\xf8/\\xa6\\x0eht\\xf3Y ?\\x07@\\xd6\\x9c\\x7f?\\x17\\xdc\\xbf\\x87\\xf1`\\x9b\\xde\\xba\\xfa$z\\x9aN\\xfd\\x0f\\x97?\\x0eT\\x8b\\x8f\\x03f\\xff\\x17\\x81\\xff\\xf3\\xf2\\xc2\\xe9\\x1at\\xee\"\\xd5\\xff\\x89\\x13\\'\\xd2~<\\xc9\\x81\\x03\\x07$\\x9d#\\xce5\\xe4\\xf7)\\xc7;\\xc08_\\t\\xfbR+\\'\\\\\\xf0_\\xef\\xd4\\x7f\\xd7\\xea\\x80Wi,\\xe8\\xf2\\xeb\\xbc\\xe6\\x15\\x8b\\xc1\\xfd\\xdf0\\x1en\\t\\x86\\xac}\\xf8\\xec\\r\\xfd7\\xa3T\\x1cH\\xd5\\xc6\\x80\\xff\\xd1\\xaa\\xf1_\\xaa\\xabB\\xfe\\xcf\\x9c9\\x93\\xfeL*\\xb8\\x8e0\\xf6\\xa7F\\xcc\\xfek8\\xfe7\\x16\\xbbV\\x07t\\xf7Y`[\\xd1\\x037\\xa6\\x196\\xbe\\xccx\\xa9\\xc5\\x1b\\xb3\\xd7\\xa5\\xd6>NVT\\x0f\\x06\\xc2m\\xb0\\xc6\\x84\\x08\\x91\\xf5\\x81H\\xe7\\xf5\\x01\\x07q\\xc0\\xea\\x7f$\\xf8?\\xd8\\xef\\xfd\\x97z\\x8e\\xc9\\xc9\\xc9\\x1d\\xfa\\xc4\\xf9\\x05\\xb8G\\x16\\xfe\\\\\\neeet/^\\xecSm\\xd8\\xf8_\\xd4\\x8d4\\x14\\xbb\\x97\\x03P\\xf7\\xcd\\x88\\xc8\\x01t\\xa7z\\x19\\xe2\\x8d[b\\x18/\\xb6xc\\xce\\xc2e\\xb5cX\\xff\\x07+\\x1a\\x07R\\xb5\\xd16\\xfec\\x1d\\xca]\\xbe\\xf9\\xe6\\x1bI\\xdf\\xff7\\xdex\\x83\\xf6\\xe3I\\xa4\\xce\\x07NLL\\x14\\xecw\\xcf\\x9e=\\xf4\\xe7R\\xc1\\xfc\\x02\\xfbS\\x1b\\xe8\\xff\\x19\\x01\\xff\\x1b\\x8b\\xad\\xfe\\x8b\\xad\\x03R\\xf7E\\xd4\\x01\\xbf+\\x8f+\\x83|\\xbf\\x17\\xe3\\xe5\\x06\\xc7\\x9c\\x9cT\\xf7\\x1c\\xc7}\\xe5\\xe2\\x80\\xc9\\xff(\\xf0?\\xc2\\xef\\xfd\\x97\\xa3V\\x8f{\\xdf\\x0b\\xf5\\x8d\\xe7.\\xb5\\xef\\x9b\\xec\\xfe\\xfa\\xf8\\x1e\\x14\\xf6\\xa94c\\xc6\\x8c!#G\\x8e\\xf4\\xca\\xb1\\xbe\\xe7\\xf8_\\x8b\\xfe\\x97\\x98\\xdcw\\xb5\\x0ex\\xc1&\\x06\\xd8\\x7f\\x16\\x98S\\xfd\\xe6\\x17\\xe0awF\\x81\\x06\\xc7}\\xe1\\xe3\\xfa\\x97\\xc1\\xefA\\xac\\xf3\\xca\\xc5\\x81Tm\\x14\\xc7\\xffA~\\xed\\xff\\xfa\\xf5\\xeb%\\xfb\\x891\\xc4^\\xff\\xf8\\xfe\\xb1\\xd4\\xfeo\\xb2k\\x8e\\xe0\\xbe$\\xd8\\xa7R\\xe0<\\x07\\\\\\x13\\x1d\\xe7M\\x0f\\x1f>\\xdcK\\xfew#U\\x1c\\xff\\xa5\\x8c\\x01\\xec=\\x0b\\xbcX\\xd8\\x85$5&\\xad\\x02\\x07\\xef`\\x14jp\\xec\\xe8\\xc4\\x867Y\\xff\\xb98\\x8f\\x05r\\xc7\\x81T\\r\\xf8_\\x1e\\t\\xfe\\x87S\\xffq\\xfc\\xe9.r\\xf8\\x8f\\xfdx\\x82\\xa7\\x9ezJ\\xf2\\x18\\x1d\\xf7\\xc0\\xc7\\xf7\\x8b\\xed\\x1dC\\x8e\\xb5\\xc0\\xcd\\xd4\\xd6\\xd6\\xd2X\\x83\\xfdz\\x9b\\xc5\\x8b\\x17\\xdb\\xac\\xa3p\\xe2\\xc4\\t\\xfa\\xee\\xa3\\'\\x8f\\xc9\\xf7\\xbf\\xbe\\xc4\\xea\\xbf\\\\s\\x01\\x0cE\\xf7\\xfd2C\\x9f\\x15\\xcf(\\xdc\\xc0\\xffG\\xe66N\\x03\\x9f\\x07\\xb2\\xde+\\x17\\x07,\\xfe\\x97\\x82\\xff\\xc7\\x07\\xfa\\xa5\\xff\\xf8\\xdd-((\\x90\\xec\\xe4\\xf1\\xe3\\xc7\\x9d\\x1e\\xeb\\xcc\\x993\\xf4w\\xe5\\xa0\\xa1\\xa1\\x81\\xbc\\xfc\\xf2\\xcb\\xb4_o\\x80{\\x8f\\xe2\\x9ehB\\xe7\\x82\\x7f\\xef(\\xf6\\xc9\\xe1\\xff\\x0f|\\xffe\\xcc\\x01jK{\\\\\\x9eb\\xcc\\x19\\xc3\\xf8@\\x03\\xff\\xef\\x9d\\xd9<\\x9f\\xf5\\x9f\\xa5f\\x90\\x00\\x83\\xed\\x10n!\\xddB\\x84\\x00\\x91v\\x88\\xb2\\xb0\\\\\\x1bI\\x96U\\x98\\xef\\xff\\x03Ixx\\xb8\\xdbH\\xf5\\x1f\\x9f\\x7fa?r\\x82\\xef\\xffJ=/nm\\xce\\xd9\\xf1p\\x8fa\\xa9k\\x82p\\xc1\\xfb0\\xde\\x8f\\xd1=\\xec\\xdf\\x13`\\xdfX\\xd7\\xc4\\xbdQ\\x1d\\x9dKnn\\xae\\xc7\\xce\\xc1z\\xff\\xefNj\\x9c\\xf8\\xefhm \\xa1:`\\xd1\\xd9A\\xd5\\xe0\\\\\\x10\\xe3CmF\\xcb\\xa2+\\xe9\\xf4\\x9e>P\\xe68\\x10\\xeeR\\x1c0\\xf9\\x1fA\\x16\\x9f\\x1aL\\xe6\\xfb\\x99\\xff\\x98\\x8fK]\\x9f\\x97\\x0b\\xbe? \\xe6\\xb8\\xb8\\xa6\\x1f\\xfe\\xbe\\x9c\\xe0\\xfc |\\x87\\x11\\xfb\\x97\\x13\\xacg\\x9e>}Z\\xf4ydee\\xc9~\\x0e\\xe1v\\xfcw6\\x06\\x10S\\x07\\xdc\\xab\\x19\\x9f\\x0f\\xee?\\xc8\\xf8X{O\\x9f\\xaaEW3\\xcc\\xdeK\\x8a\\x03V\\xd2mp\\x16\\x17\"\\xc0\\xffp\\xf0?\\x1c\\xfc\\x1f\\x04\\xfe\\xf7\\xef\\xf4\\xfe\\xe3\\x98y\\xe9\\xd2\\xa5\\xe4\\xec\\xd9\\xb3\\xb4O\\xb98u\\xea\\x94\\xe8s\\xc0\\x9a\\xb9\\x1cs\\x82\\xf9\\xe0\\xfb\\xcbG\\x8f\\x1e%\\xaf\\xbe\\xfa\\xaa\\xe4\\x9c\\x08\\xd7N\\xc4krw\\x0e\\x04\\xf6#\\'\\xe6\\xfc\\xff\\x1c\\xdf\\x7f7\\xc7\\x00\\x06\\xf8\\xf3\\x8a\\xfa\\xd9\\xd9\\xe0\\xfe\\xdd\\x8c\\x0f\\xb6\\x04CV\\x1e\\xfa\\x97Q=\\xc0\\xc2\\n!j\\x06\\n0\\xc8\\x0e\\xae\\xc7\\x01\\x93\\xff\\x83\\xc1\\xff\\x81\\xd4\\x7f\\xcc\\x05\\xdd\\x05\\xd7\\xb2\\x96\\xf2\\xfd>|\\xf80\\xd9\\xb4i\\x93K\\xe0^\\xfe8\\xa7\\xf7\\xfb\\xef\\xbf\\'\\xcd\\xcd\\xcd\\xb4\\x1fO0{\\xf6l\\x97>\\x0b\\xbc\\xaf\\xca9\\x0e\\xe0\\xa3\\xd1h\\xe8\\xbb\\xc7\\xb8g)\\xfa\\xec\\xe8\\\\\\xb0\\xfe\\xf1\\xd2K/\\x91\\xa4\\xa4$:\\x8e\\x97Z\\x07\\xc58\\x84s\\x1e\\xb1o\\xb9\\xb0\\xf5\\xbf;\\xa9\\x13\\xf0_\\xec\\\\\\x00}q\\xf7_?l\\xc9\\x98\\xcb\\xf8p\\x9bj\\xd8\\xb0\\x07\\x9f\\xbfs\\xfd\\xe7\\xe2\\xad8\\xe0K\\xfe\\xfb*\\x95\\x95\\x95t\\x8e\\x9f\\xab\\x9f\\x87\\x1c\\xcf\\x1b\\xc5\\x80q\\xa6\\xbe\\xbe\\x9e\\xae%\\x869\\xd8\\x97_~I\\xe79\\xe2\\x98\\x01\\xe3\\x04\\xce)\\x90\\xfb\\x98\\xd8\\'\\xc6\\x1e\\xbcN9\\xe0\\xfa_\\xcd\\xf1_h\\x0c\\xe0(\\x078_\\xf2\\x9f\\xd7\\xa6\\x196\\x8eg|\\xbc\\xc5\\x1b7\\xaf\\xc1\\xfd72\\xaa\\xfb\\xb1\\xf4\\x17@lN\\xe0<\\x0e\\xac\\xb0\\x13\\x07\\x96k\\x07\\x07\\xfcw\\x02\\xd6\\x11\\xdc\\xf9<\"##%\\xbfo\\xe8\\xcb`\\x1e1a\\xc2\\x04z\\xadR\\xc9\\xef\\xe0\\x7fw\\xa7c\\x00~\\x0ep\\xfaLps\\xbcq\\xcb`\\xa6\\x134\\x18\\x97$.=?\\x9a\\xbao\\x8b\\x0bq\\xa0C\\xdd`\\x90\\xa8\\xe7\\x89\\xe9\\x16\\xc0\\x7f\\r\\xf8_>\\x88,.\\x1d@\\xe6\\x1f\\x0f\\xf8\\xcf\\x07kyR>\\x13\\xcc\\xcdKKKi_\\xfe\\x08\\xceU\\xc2\\xfdK\\xa5|F\\x11v\\xfc\\xb7?\\x06\\xe8X\\x07\\xfcW\\xe5\\x98S\\xe0\\xd4CL\\'ip\\xaeo%\\xd5\\x8d\\xe3x\\xafL\\x1cX\\xae\\x19\\xc4\\xf1\\xbf\\x1f\\xbdg\\xb9\\x8b\\xbf\\xf9\\x8f\\xef\\n`-\\x0f\\xafM\\n\\xf8\\\\\\xdd\\x95\\x1a{g\\x03\\xc7\\x18111\\x92>#\\xbe\\xff\\xe7K\\xac\\xfe;\\xae\\x03v#\\xebj\\xa7\\xec\\x07\\x9f\\xba2\\x9d\\xa8\\xc1\\xf9\\x8e[X\\xff\\n8\\x1d\\xc6\"C\\x1c\\x10]#\\xb0\\x8e\\t\\xd2\\xb4\\xe0\\x7f\\xc5@\\xc8\\xff\\xfbC\\xfe\\x1f\\xf0\\x9f\\x9f\\xdb\\xe2u\\xc9\\x01\\xc6\\x009\\xe6 \\xf9\\x1a\\xb8/\\x02\\xae]\"\\xf5\\xf3\\xc9?\\x02\\xf9\\xbbM\\xfd\\xcf\\x8c}\\xff\\x9b\\x8a\\xbb\\x93E\\x8dI\\xcb\\xc1\\xa5\\xdf2\\x9d\\xac\\xc19G\\xcco\\x9c\\xc4\\xf1_\\x998\\x80\\xfe\\xa7\\x80\\xffI\\xd4\\xff0\\xfa\\xffB\\xed\\xfe\\xa3\\xfb8\\x17\\x11\\xafIN\\x86\\x0e\\x1dJ\\x9fq\\xe01\\xfc\\x01\\\\\\xbb\\xfc\\x95W^\\x91\\xe5\\xb3\\xc9\\xe3\\xf8_-\\xe0?\\xbf\\x0eX[\\xfa\\xfb[\\xef\\xb5\\xae\\x9b\\xc8t\\xd2\\x06\\xfe\\xf7\\xfc\\xb0\\xe9\\x1d\\x8e\\xf7\\xca\\xc4\\x814\\xed@\\x8b\\xff\\x1f\\xe5\\x85\\xd1:\\xb7\\xbb\\xf8\\x83\\xffz\\xbd\\x9e\\xaeC\\x8c\\xd7\\xe3\\t\\xf0Y\\\\ZZ\\x9aGj\\xf2\\xde\\x04\\xdf\\t\\x18;v\\xacl\\x9f\\x8b(\\xff\\xd9\\x18Pv\\xba\\xd7\\xc5)\\x86\\xec8\\xa6\\x137\\x9c\\x97\\x80s\\x803\\xa9\\xeb}Y\\xbc\\x1f\\x07L\\xfe\\x0f\\x00\\xff\\xfb\\x81\\xff}U\\xed?\\xee\\xe5\\x81\\xef\\xdd\\xe1\\xb5x\\x1a\\xbcoVUU\\xd1\\xe3v&p/\\xd4\\xb5k\\xd7\\xd2\\xf1>^\\x87\\xac\\xfe\\x7f\\xd3\\x8dTv\\xf0\\xdfv\\x0c\\xf0\\xef\\xf2\\x18\\xdc\\x7f\\xeb\\xaf\\x8c\\x1f\\xb4\\xf7\\xf4)\\x17\\xd1\\xe5Lp?\\xd3\\x12\\x03\\xe4\\x88\\x05\\xe2\\xe7\\x10\\x04\\xfc\\xbfI\\xae\\\\\\xb9B\\xd6\\xacYC\\xf3s\\xbc\\x0eo\\x11\\x17\\x17G\\xb2\\xb3\\xb3\\xc9\\xb5k\\xd7\\xe8y\\xf8:X\\xc3\\xc4\\xb5\\t<\\xf1Y\\xe4\\x1d\\xe9FNq\\xfc?/\\xe0\\xffV\\xdd+\\x92\\xf7\\xdf\\xf2\\xa5\\xf6\\xae>\\xadjE\\xcd\\x00p?\\x94\\xfa/\\x7f\\x1c\\xe8\\xef4\\x0e\\xa4i\\x07\\x80\\xff\\xfd-\\xfec~\\xea.\\xdf}\\xf7\\x1d\\xfd\\x9et\\x16p\\xde\\xccW_}E\\xc6\\x8f\\x1fO\\xcf_)\\xb0\\xce(u]2O\\x82\\xef\\x05-Y\\xb2\\x84\\xee}\\xe2\\xa9\\xcf\\x80\\xeb\\xbf\\xae\\x83\\xff\\xdd\\xc9\\xf2\\xfa9\\xb2\\xec\\xbf\\xe5K-\\xc1\\xb0\\xf6\\x1b\\x9c\\x8fc\\xf2?\\xd4\\xe3q\\xa0\\x03\\xe0\\x7f:\\xf8\\x9f\\n\\xfe/\\x01\\xff\\x13\\xf3BU\\xe1?\\xde\\xef\\xf1\\xb9>\\xe6\\xe0x\\xde\\xbe\\x02\\xd6\\x1c1\\x0eH\\xdd\\xa7L\\xce\\xf7\\x8f\\xd3\\xd3\\xd3\\xe9\\xfed\\x9e\\xbe\\xf6\\xe3f\\xffOX\\xfdGjJ\\x7fw{V\\xcb\\xaa\\xf7\\x19?lS\\x0c\\x1bw\\xa5\\xd5Dq\\xdc\\x17\\x8e\\x03\\x99\\x1e\\xcc\\x07\\xd24\\xfdIJy?\\xf6\\xfe\\xef\\xbf\\xfecM\\x1f\\xef\\xf5\\x8b\\x16-\"\\xa3F\\x8d\\xa2\\xe7\\xeb\\xab\\xe0\\\\}|\\xaf\\x01k\\x91J\\xe4DEEE\\xf4\\xfd \\x9c\\xbbd>\\'\\xef\\xf8\\xdf\\x9dTp\\xfc\\xaf8\\xdd\\xe3\\xea4\\xc3\\xc6g\\x19?m\\xf1\\xc6\\xec\\x95\\xa9\\xb5\\xc3\\xc0\\xef\\x10\\xd6y\\xef\\xc7\\x01\\x8b\\xff\\xa5a\\xe4\\xa3\\xe3!\\x9d\\xde\\x7f\\xac\\xab\\xe3\\\\\\xf8\\x92\\x92\\x12\\xb2w\\xef^\\x92\\x92\\x92B\\xef\\xab8\\xb6\\xc7s\\xecL`\\xbe\\x8d\\xcf\\xd6q\\xdfa\\xa9\\xeb\\x96:{\\x86\\x9f\\x9f\\x9fO\\xef\\xf5\\xcf?\\xff\\xbc\\xcd9(\\xe5\\xff\\x89\\xb2\\xb0\\xfa\\xc9\\xc6-a\\x8c\\x1f7\\x18\\xcf\\xccM>\\xff$\\xeb\\x7f\\x88\"q \\x9d\\xe7?\\xd6u\\xdd\\xe5\\x99g\\x9e\\xa1\\xef\\xc8+\\x01\\x1e\\x1b\\xd7\\xabDg\\xf0\\\\\\xfc\\x11\\xbcN\\xbc/\\xe3~\\x81\\xf8\\xbe#\\xae\\x11\\x86\\xf5xW\\\\7\\x1a\\x8d\\xf49\\x07\\xee\\x83\\x80\\xcf!\\xf1Y\\'\\xc6F\\xa5\\xaf\\r\\xfd/e\\xfd\\xdfU\\xf1\\xacG\\xf7\\xdf\\xf2\\x95\\x06\\xd7\\xf8\\xc6\\xe2\\xba\\xe7H\\xa6.\\xc4\\x8a\\xdbq\\xa0\\xaf[q ]\\xd3\\x8f\\xa4\\x96\\x87\\x91%2\\xf8\\x1f\\xc0\\xfb`\\x8e\\x8e\\xf5K\\\\;a\\xfa\\xf4\\xe9d\\xee\\xdc\\xb9\\x16\\xf0\\x1d]\\xcc\\x1fp_\\x05\\x8c\\x1d8\\x8e\\xf7\\xd5\\xeb\\xf8\\x8e\\xfa\\x7f\\x1fI/{\\xeb\\xf3\\xa7w\\xcd\\xec\\xca\\xa8\\xa0\\x81\\xffO\\xe3\\x1c\\xe0L]0\\x8b+q@\\x9eZ\\xa1\\xd5\\xff\\xbe$\\xf1x\\xb0\\xcf~?\\x02\\xf87\\xdf\\x1e\\xbd\\xff\\xd7\\x84\\x82Yi]\\xfe\\xeb\\xfe.\\xa0\\xc6\\x1d\\x8c\\n\\x1a\\xf8?x^\\xe3d\\x8e\\xff\\xc1\\x1dc\\x81\\x87\\xc7\\x06\\xe9\\x9a0\\xf0\\xbf\\xaf\\xc5\\x7f\\xcc\\x9f\\x03\\x04\\xf06\\xcf\\xef\\x98\\x9a\\x00J\\xfc\\x1e\\xb8WE\\xfe\\xf7\\x98\\xd3\\xf4\\x01Y\\xa5\\x0b\\xa6\\xac\\x14$\\xc4D5\\x97P;\\xf4\\xb5\\xc1\\x1a\\x13\\xc2\\x04\\xe8GY\\x01\\xfe/\\x07\\xff\\x93KC\\xc9\\x82\\xe3A>\\xff=\\t\\xe0\\x9f\\x80\\x0e\\x0f\\xab\\xd0\\xff;g5\\xcf\\xfb\\x15\\xfd^\\xa5\\x0bbq\\x12\\x07t\\xf2\\xc6\\x81\\x80\\xff\\x01|\\x015\\xfa\\xcf\\x98\\xd6\\x015\\xae\\xd4\\x85r\\xfc\\xf7n\\x1cX\\xa1\\xe9\\x0b\\xfe\\x87\\x06\\xfc\\x0f\\xa0(j\\xf5\\x7fz\\xeb\\xaartr\\x95\\xae\\x0f\\xeb\\xbd\\'\\xe2@\\xa8\\x9d8\\xd0\\x97\\xe3\\x7f\\x08\\xf5\\x1f\\x9f\\x05\\x05\\x08\\xe0m\\xd4\\xea\\x7f\\x82!\\xeb\\x18\\xae\\xcdc\\xf2\\xbf\\x8f\\xc38 w\\x8d\\xc0\\xe4\\x7f(\\xf8\\x1f\\x12\\xf0?\\x80\\xa2\\xa8\\xd5\\xffx\\xe3\\xe6\\xed\\xb8\\x17\\x87\\xd5}gq H\\xd68\\x90\\x01\\xfe\\xa7Q\\xff\\x83\\xc1\\xff>>\\xff=\\t\\xe0\\x9f\\xa8\\xd7\\xff\\x9c\\x8c\\xd4\\xdaXp\\xba\\xb7\\x80\\xff\\xces\\x02\\xa9c\\x03\\xb3\\xffK\\x03\\xfe\\x07P\\x10\\xb5\\xfa?\\xd9\\xb8uV\\xf2\\xf91\\xe0jo\\x0e}\\x1c\\x10$\\x80\\xfbq C\\x13\\x02\\xfe\\x07\\x07\\xfc\\x0f\\xa0(*\\xf6\\xff\\x9f\\x8b\\xea^\\xe4\\xf9\\xcfE\\x8e8\\x10l7\\x0eX\\xfd\\x0f\\x02\\xff{\\x93\\xd8\\xd8\\xd8\\x00\\x01\\xbc\\x8e\\x8a\\xfd\\x1f\\xbd\\xb0\\xe1U\\xc8\\xe5\\x1f\\xe3\\xd0[\\x80>\\x1e\\xa9\\x11p\\xfd_\\x98\\x17\\xf0?\\x802\\x80\\n=U\\xea\\xff\\x80\\xf9\\x8d\\xf1d5x\\xbfZ\\xf7\\x98\\x848\\xe0^\\x8d\\x80\\xfa_\\x11L\\x96\\x9d\\xeeC\\x16\\x9d\\x08\\xf8\\x1f@\\x19@\\x85?\\x01\\x0f\\x00\\xf7\\xa8\\xcc\\xff\\xff\\x9e\\xdd<\\x87\\xba\\xcf\\xc7q\\x1c\\xe8-K\\x1c\\xc8\\x04\\xff\\xd3\\xc1\\xff\\x94\\x1f\\x82\\xc8\\xe2\\x82\\x80\\xff\\x01\\x94\\x01T\\xc0\\xf7}\\xef\\x03p\\xbf\\xde\\xdf2*i\\xe0\\xff\\x1d\\x1f\\xb4,\\xbc\\x8d>\\xaf\\xd6=\\xcab/\\x0e<&{\\x1c\\xc8\\xd4\\x04\\x93\\x15\\xe7\\x82\\xc8\\xf2\\xb2 \\x18\\x03\\xf4\\xf1\\xf9\\xefI\\x00\\xff\\x84\\xcd\\xfd\\xf1\\xbd\\xdf;\\xd5\\xe4?C\\xe7\\x00/k]Y\\x1d\\xcc\\xf1\\xdf;q\\x00\\xc9\\xd4\\x06\\x93\\x8c\\xaa \\xc8\\x01\\x82H\\xea\\xd9>\\xf4}\\xf2\\x00\\x01\\xbc\\rh\\xd0\\x8d\\xbd\\xf7\\xff\\x07\\xf0\\x1bFE-\\xa15\\xeb\\x0c\\xbe\\xebk\\xeb\\xbe\\xd8X \\xadF\\xb0R\\x0b\\xb09\\x00\\xc6\\x00_\\xff\\x9e\\x04\\xf0OX\\xf7\\xcd\\xf7~U\\xf9?\\xd5\\xb0\\xe1\\xab\\x0c]?\\xb2Z\\xfbW\\x13\\xb2\\xc5\\x01G\\xb1\\x80\\x1f\\x03\\x82HfU\\xc0\\xff\\x00\\xca\\xc0\\xde\\xf7U\\xe7>cZ\\x074\\'\\xad:\\xd2\\xe4>\\x1f\\x8b\\xf7\\x9e\\x1d\\x1b\\xac\\xd4Z\\xe3\\x00\\x92Q%D\\xb0\\x15\\x8d\\x99\\x10Q\\xac\\xb0\\x10\\xca\\xa3\\xaf\\x1d\\xc2\\x04\\xc0\\xf5Jxh\\xfb\\xf3\\x18 HF\\x15\\xe4W\\xe7\\xfeB\\xd6\\x00\\x9fT>L\\xd6r\\xc8\\x02\\xd6U\\xf6$\\xeb\\x91\\x8a\\x9ed\\x03\\xf0)\\xf0Y\\xc5\\x9f)\\x1b\\x81M\\xc0\\xe6r\\x13\\xd9\\xe5\\x0f\\x91\\x1c\\x96-,[\\x7f\\xfc\\x13\\xd9\\x06lg\\xd9\\x01\\xec\\xfc\\xb1\\x07\\xc9E\\xcaz\\x90m\\xe5\\xbdI\\x82a3\\x99j\\xc8f\\xc9\\x01\\xb6X\\x98b\\xd8\\nl\\xe3\\xb0\\x9dL1\";H<e\\'K.\\xcb.\\xcad\\xe3n\\xe0s\\x96=d\\xf2\\x05d/\\xe5\\xed\\x0b\\xfbX\\xf6\\xb3\\x1c\\x00\\x0e\\x92I\\x94CdR\\x1br\\xd8\\xc4\\x85C\\xf4\\xefM\\xbf\\xb3\\x9f\\xfe;S?{\\xd8\\xbew\\xb3\\xc7\\xcce\\xcfc\\x07=7\\xf3\\xf9\\x9a\\xae#\\x87^\\xdb\\xdb\\x8d\\x9b\\xe2\\xd9\\x1a\\xbe\\x18~\\xcb\\xf1^u\\xee3\\xa6\\x1a`Zj\\xcdp\\xf0\\xfd\\x11\\x16W\\xe2\\xc0\\xa32\\xc5\\x01\\x07\\xb1\\xc1\\xd1\\\\\\xa3j3!v\\xb0\\x9doho\\xcd\"g\\xeb\\x94\\xd8\"\\xb0\\x9eq\\xcd\\x00\\x1e\\x03mX\\xa9\\xebK>\\xd1\\xfe\\x85\\xac\\x05\\xb24\\x0fS\\xd6\\xb1\\xac\\x076hzR>\\xad\\x02\\xef\\x81\\x8d\\xc0\\xa6\\xaa?S6\\x03\\xd9@\\xce9\\x13[\\xce\\x81\\xef\\x1c\\xb6\\x01\\xdb+\\xc1y`\\'K.\\xb0\\xab\\xb2\\x07\\xd9\\x8dT\\xf4 \\x9f\\x03\\xbb*{\\x91im\\x9bHB\\xdb\\x16\\x96\\xad\\xc06\\x0bS\\xdb\\xb6\\xb3\\xec`\\xd9I\\xa6^Dr\\xc9\\x14\\xca.\\x96\\xdd,\\x9fS\\xe2/\\xee\\x01\\xf6\\xb2\\xec#\\xf1\\xed\\xc8~\\xca\\xe4\\xf6\\x03,\\x07Y\\x0e\\x01\\x87\\xc9\\xdb\\x94#\\xe4\\xedK,\\xedG\\xe8\\xdf\\x9b~~\\x90\\xfe\\x1bS\\x1f\\xfb\\xd8~\\xf7\\xb0\\xc7\\xdb\\xcd\\x9eC\\xae\\xe9\\xdc\\xe8yng\\xafa+\\xbd\\xaex\\xe3\\xd6\\xd1L\\xa0\\xb9\\xe2\\xff\\x8c\\xa5\\xe7\\x9f\\xe4\\xf8/=\\x0e\\xac\\x965\\x0e\\xf4q!\\x0e\\x04\\xfbd\\x1cXY\\xdd\\xcf\\xa1\\xff\\xeb\\x05\\xfc\\xdf\\xe8\\x86\\xff;l\\xfcG\\xac\\xfe\\xef\\xa1\\xff}\\x88\\xbc\\xdb\\xf6)/\\x06lU6\\x06\\xb4\\x9b\\xfd?$\\xda\\xff\\xa9\\x0e\\xfc\\x87\\xef\\xf3\\xa3L\\xa0\\x89n\\xf0y\\xfd\\xcf\\xe2\\xba\\x97\\xc8\\x1a\\xea\\xf8#\\xe2\\xe2\\x80\\xacc\\x03{x\"\\x0e\\x84(\\x12\\x07\\xf0w,\\xfek\\xc5\\xfa\\xdf\\xd3\\xc6\\xffl\\'\\xfeo\\xe7\\xf9\\x9f\\xcb\\xf3\\xdf\\x1c\\x03\\xf6\\x023.|\\x02\\xae\\xe4\\xb0\\x98c\\x81\\x921\\xe00\\xc7\\xff\\x03n\\xfa\\x8f\\xd7\\x90s\\x1b\\xbe\\xcfw1\\x81&\\xba\\xc1\\xe75*\\xb1\\xe1M\\xf0\\xbf\\x17\\xcb#\\x021@\\xee\\xb1\\x81\\x102\\xc6\\x01\\x9d\\xbbq Td\\x1c\\x08s)\\x0ep\\xfd_\\xeb\\xc8\\x7f\\x8d\\xc9\\xff\\xcf\\\\\\xf6\\xff!\\x97\\xfc\\xdfW\\xf1G2\\xc7\\x90\"\\x10\\x03L\\xf9\\xc0T\\x1a\\x07\\xb6y1\\x06\\xd8\\xe6\\xfe\\x16\\xff/\\x9a\\xfc\\x9f\"\\xe4\\x7f\\x9b\\xd9\\x7f\\xeb\\xbd?\\xa1-\\xa7\\x9e\\t4W\\xfd\\xef;\\xaf1\\x81zo\\x8d\\x01\\xbd\\xd8?\\xcb\\x15\\x07lYeAz\\x1cX\\xd5\\x19\\xe2\\x00\\xcf\\xff\\xb5vj\\x00\\x9f\\n\\xd4\\x006sb\\x80\\xd9\\x7f3f\\xff\\x1d\\xd6\\x00*l\\xc7\\x00{)\\x7f\\xa4,\\xd0\\xcf\\x17\\x11\\x038\\xf9\\xc0\\xc5\\x1d&\\xf7D\\xc7\\x80\\xbd\\xa2c\\x80\\xad\\xff\\xfbY\\xff\\xf7:\\xf0\\xbfc\\xee\\xff\\xff\\xec\\x9d\\txSe\\xba\\xc7\\xbf\\x0ew\\xa6\\x8e\\xd7;\\xbd\\xcf\\x1d\\xe7^\\x15\\xa4\\xa0\\x82\\xcb<s\\xd5;w\\xc6u\\xac\\x0b\\xb2\\x14d_\\x94\\xa5\\xb4ei\\xd3\\x96\\xad@[p.\\xad\"\\xe8\\xb8\\xa0l#\\x8b\\xb6M\\xa1,E@p\\x01Q\\xa0\\x88\\xb2(\\x88\"tI)M\\xda\\x90\\xb6I\\xd3\\x9d.X\\xfa\\xdd\\xf7;\\xe7\\xe4,\\xc9Y\\x92\\x9c$M\\xcby\\x9f\\xf9\\r\\xf1\\xbcM\\xf2\\xe5\\xbc\\xe7\\xff?\\xdfrr\\x92X\\x93}\\x0ci\\xe1\\xa9\\xfe\\xff@]\\x03\\xec\\xa2\\xff\\xfen\\xf4\\t\\xeeV\\xe5\\x05\\xab}\\xec\\x05\\x81\\x99+\\xf4\\xce\\x07\\xd6\\xc1\\xfeZ\\xe7\\x85\\xfe\\xa5\\xe6\\x00\\xdc\\xd6\\x7f\\x81\\xb4\\xfeI?\\xe0\\xf5\\x8aDI\\x0fHT\\xe5\\x01\\xbb<\\xf0\\x00w\\xc6\\xfey\\xcc{I\\xeb?\\xa1&[\\x8f\\xb4\\xf0T\\xff!\\xc9\\x96W\\xaf\\xad\\x85c\\x93\\xa3\\xbf$k$\\x11\\xf1\\x87\\x92\\xbb%\\x08\\x06\\x1f\\x08\\xd4\\\\\\xe1\\x83\\x14k\\x0c\\x03Y\\xfd\\xbbj?\\x9c\\xd6\\xbe\\x07\\xfa\\x17h\\xdf\\x839\\xc0]\\x17\\xef`\\xb5\\xbf\\x87\\xe1=\\xd3d\\x9ch\\xcff\\xd03\\xe40\\x80\\xfe)\\xb628<\\x80\\x1e\\x13\\xe8$\\xc6\\x04\\xf1\\x94\\x0f\\xe4y\\xe8\\x01b\\xfa\\x17\\xce\\xfb\\xeb\\xec\\xf4\\xfb:\\xda\\xc3\\xb53\\x1b\\xebj\\xf4\\xcb\\x90\\x16\\xdex\\xc0T]\\xf5\\x07\\xa7_+\\x1b\\xce\\xe8\\xbc\\x9f\\x02\\xe4o|\\xe1\\x03r^\\xd0\\xd5>\\xe0\\xdb\\xb9\\xc2\\xd5\\x86\\xfbE\\xd7\\x00\\xe4\\xf4\\xff\\x81\\x8f\\xf5\\x9f\\'\\xa1\\xff\\xbd\\xc0\\x86\\xd2H?z\\x00\\xd3\\x1fP\\xf4\\x00g\\xfd\\xef\\x92\\xd0\\x7f.\\xd3\\x8e-L\\xfb\\xf4T\\xbb\\xe3m\\xfa(\\xa4\\x85\\x1a\\x1f\\xf8\\x0b\\x90\\x95j^\\xd8Jt\\xa5\\xec\\x03\\xfd<\\xf3\\x01\\xc3]~\\xf6\\x81\\x81\\x01\\x9c#\\xf0\\xcc\\x07V\\x97< \\xab\\xff\\x8d\\xa2\\xfaW\\x9e\\x03\\xe4\\xeb\\xdf\\xd39\\xc0\\xdd<\\xfd\\x13\\xb2\\x0c\\x8fw\\xb1\\x07(\\xeb?AN\\xff\\xd6\\x9c\\xa7\\x90\\x16\\xaa\\x03<\\xe0\\xf7\\xe4\\xde`IU\\xeb.\\xbfY\\xfa\\x18h<\\xdc\\tO|\\xa0;\\x8e\\r|?WH~ga\\x9d!\\x9c\\xee\\xff\\x1bd\\xf4_\\xec\\xad\\xfe=[\\x03\\xf8HD\\xff\\x84\\xdc\\xe2\\x07\\x03\\xe0\\x01\\x8e\\xf1\\xc0n\\'\\x0fp\\xcc\\xfd\\xef\\xa6\\xff\\xc6C\\xfd\\xc31\\xdb\\x07i\\xe1\\xb3\\x80\\xfd\\xf9+`x\\xbc5\\xfb\\xf3e\\xe5\\xd3\\xaf\\xaf1\\xf4w\\xcb\\x07\\xfc16\\xe8\\xees\\x85\\xe4~\\xc7\\x0e\\xfd\\xafw\\xd2\\xff\\x06\\x11\\xfd\\xbb\\xb3\\x06 \\xd0\\xbf\\x17s\\x80b\\xfa\\xff\\xf8\\xe2m8\\xafp\\x00\\x9ec\\xcf\\n\\xa0\\x07\\xec\\xe1\\xb1[d\\xee\\xcf-\\xfd\\xb7\\x93\\xe3\\x15i\\xe1\\x97\\x80}{7\\xb9Vx\\x81\\xe55;\\xf9-Oe\\x1f\\x08\\xb6\\xb1AW\\xce\\x15\\xfe\\t\\xbf\\xab\\xa0\\x7f\\x81\\x07\\xf8\\xf4:\\xe0\\xde.\\xfa\\x17\\x9b\\x03\\xd8\\xc3\\xd3?a\\xcf\\xc5p\\x9cT\\x93)\\xe1\\x019^y\\x80\\xce-\\x0f\\xe0\\x9f\\xfb=\\xd2\\x7f\\t\\xd2\\xc2\\xef\\x01\\x1e\\xf0[ VW\\xbd\\xf9\\xcc\\x8a\\xb2HF\\xe7\\xc186\\xf0l\\x8e@\\xd6\\x07J|\\xe3\\x03D\\xff\\xb4\\x07\\xf4\\x05\\xfd\\xf7\\x05\\xfd\\xf7\\xc5\\x1bx\\xf8J\\xff\\xde\\xac\\x01p\\xfd\\x00Z\\xff\\xfb\\x80\\xbd\\xd4\\xf5\\xc2\\x9b\\x9d\\xc6\\x03R\\x1e\\xb0\\xd5\\'\\x1e \\xde\\xf7\\xdf\\xc9\\xbc\\x96P\\xff\\x89B\\xfd\\x1fDZ\\x044\\xc0\\x07\\x1e\\x01rR\\xcd\\x0b\\xda\\x88\\xe6|\\xde\\'\\x08\\x9a\\xb1\\x81o\\xe6\\n\\xc5\\xf4\\xff\\xbe@\\xffwRl\\x02\\x9do.\\xba\\x93\\x9d\\xff\\xf7D\\xff\\xde\\xce\\x01:\\xe0\\xeb\\x9f\\x86\\xb9^X\\x95\\x07lw\\xdb\\x03\\xc4\\xf5\\xef\\xbc\\xf6\\xe7\\xac\\xffl\\x9cP\\xa3\\xdf\\x80\\xb4\\xe8\\xb2k\\x88\\x80\\xb4\\xa4\\xaa\\xb5e\\xea\\xe7\\x0b\\xbb\\xdb\\xd8\\xc0}\\x1fXk\\xb8\\x87\\x9b\\x03,\\xe6<@N\\xff\\x04\\x7f}\\x0f@\\xaa\\x0f\\xc0\\xd7\\xff~\\xe0\\x93\\x0b\\xb7\\xe1\\x14\\xeb[\\x92\\xf3\\x82\\t\\xa2s\\x02j<@N\\xff\\xe2s\\x7f\\xba\\x1a}\\x1a\\xd2\\xa2\\xcb\\xef\\'\\x08\\x8c\\x8c\\xb7f\\x7f\\xb1\\xac<\\xaa3\\xb0\\xf3\\x85\\xc1\\xef\\x03k\\x0c\\xf7\\xca\\xea\\x7f\\x83j\\xfd{?\\x07(6\\x07\\xc0\\xd7\\xff\\'\\x17\\xfe\\x0b/\\xab\\xfc?/=`\\x9b\\x87\\x1e\\xe0\\xf9\\xdc\\x7f\\xbcM?\\ti\\x114\\x01>0\\x10xw\\x81ey\\x9d_\\xe6\\x0b\\x03>6P?WH^\\x83[\\x03\\x94\\xd1\\x7f1\\xad\\x7fn\\x0c\\xd0\\x07g2d\\x15\\xf6\\xc1\\xd9N\\xdf\\x01\\xf0\\xe6:\\xe0]\\x1e\\xe8\\x7f\\xff\\x05\\xda\\x03>\\x05\\x96Y\\x96\\xf9\\xdf\\x03\\xec^\\xe8\\xdf\\x9a\\xf3W\\xa4E\\xd0\\x05x\\xc0\\xbf\\x02\\xb3\\x12\\xaa7\\x9dS?_\\x18<c\\x03\\xa9{\\x9aR\\\\r\\xf0\\x80\\x90\\x92\\xfbyk\\x00\\xae\\xfag\\xb5/\\xa7\\xff\"Z\\xff\\xd9b\\xdf\\x01(\\xec\\xe3\\xd2\\xf7\\x17\\xcc\\x01\\x02y\\xc0.\\x86\\x8f\\n@\\xff\\xc0\\x9e\\x02\\xbe\\xf6o\\x17\\xf4\\xff\\x1d\\x1e\\xb0\\xe7b\\x7f\\xbc\\xd8\\xf2F\\x1e\\xd4\\xf2\\xbf\\x13j\\xb2\\xcf%\\xd9\\xb30M6C\\x0e\\x05=&\\'le\\xc8e\\xe0\\xbeCHC\\xae\\xe3\\xdf\\xc9\\xe0\\xe4\\x01\\x0cd;\\x9d\\xa7\\xaf\\xf9\\'\\xafA\\xbf\\x16=\\xf6\\xa7\\xdf3\\x9bj\\x07\\x19\\x83\"-\\x82:\\xa0FO\\x00\\xdbR\\xcd\\x0b\\xda\\x89\\xe6z\\xc2\\xd8@\\x1c\\t\\x1fP\\xd4\\x7f_I\\xfd\\x7f\\xe8\\xa1\\xfe\\xb7\\xc9\\xe8?\\x8f\\xd5\\xff\\x1d\\x94\\xfew\\xf3\\xf4\\xbf\\xd7E\\xff\\xb7\\xe3\\xb5\\x97\\xc7^\\x89\\xb3\\xeaG\\xf3\\xea\\xf8\\xef:\\x9b\\xfe\\x98\\xab\\x07\\xe8q\\x92`~P\\x9d\\x07\\xc8\\xeb?\\x87z/F\\xffMH\\x8bn\\xf5\\xbb#\\xc0\\xcbs\\xaa\\xd6T\\xb8\\xce\\x17\\xfasl\\xe0\\x8b\\xf5C5>p\\xbf\\xe8\\x1a\\x80\\xaf\\xf5/\\xde\\x07\\x10\\xd7?\\xbf\\x0f\\xb0\\x97\\xd7\\x07 \\xda\\xdfYxo\\xe7\\xfc\\xca\\xd5\\x1b\\x89\\xdeEj\\xf8[\\x18s\\xef\\x97\\xf2\\x80$\\xd5\\x1e\\x90\\xc7\\xdb\\xbe\\xddE\\xffIB\\xfd\\x9fGZt\\xd7\\xf9\\xc2\\xb1\\xf1\\xd6\\xac\\xaf\\x96\\x95Os{\\xbep\\x8d\\x8f\\xbd `s\\x04%\\xf7\\xcb\\xae\\x01:\\xf4\\xbf\\xc9e\\x0eP\\xa8\\x7fn\\x0e\\xa07\\xcea\\xd8\\x02l-\\x14\\xae\\xffo\\x13\\xd1\\xffN7\\xf4\\xbf\\xf7bo\\xfc\\xa61\\xba\\x04j\\xf3\\xb4B\\xfd\\xfe\\x05< G\\xd9\\x03\\x1cc\\x02\\xce\\x03\\x94\\xe7\\x03\\\\\\xe7\\xfe9\\xfdo\\x11\\xe8?\\xd1\\x9e\\xb5\\x1fi\\xd1\\xad\\x03\\x8e\\xa5\\xfb\\x805\\xc9\\x96\\xe5\\xf5\\xee\\xcd\\x17\\x06\\xf3\\xd8@\\xfa;Gk\\r\\xe1\\x92k\\x00\\xd2\\xfa\\xbf\\xd3k\\xfdo\\xf3@\\xffd\\x0c\\xb0\\xa5\\xe8\\xc1_\\xe6T\\xbd\\xff\\x169\\xbf\\xbbY\\xb7\\x90xk\\xce{\\xee{\\x00\\xd7\\x1f\\xd0\\xd9se=@\\xa8\\x7fn\\xdcO\\xe0^?\\x8b|\\xef\\x7f\\r\\xd2\\xa2G\\x04\\x1cO\\xb7\\x00\\xf1\\t\\xd5\\x9b\\xce\\xaf(\\x1b\\xe6\\xfb\\xf9\\xc2.\\x98#\\xe0{\\x00\\xb9\\xcf\\xa2\\x9c\\xfe7*\\xe8?\\xd3I\\xffz\\'\\xfdo-\\x94\\xd2\\x7fo\\xbcSf\\x0epwA\\x1f\\xfcj\\xf9\\xdc\\x9f`\\xdf\\xff/\\xf2\"\\xe0y\\x7f\\xf7\\x8d\\x07\\xf0}\\x80\\xd3\\x7f\\xa2@\\xff\\x82\\xbe?\\xd6\\xd9\\xf4\\xf3\\x90\\x16=.\\xe0\\x98z*\\xce\\xaa\\xdf\\x91f\\x9e\\x7f\\x8d\\xe8\\xae\\xfb\\x8c\\r\\xa4}`\\x8da\\x80\\xe4\\x1a\\xa0@\\xffn\\xac\\x018\\xeb\\x9f\\xeb\\x03\\xdc\\x81\\xb7\\xf1\\xd8^p\\x07u\\xfe\\x97\\x9a\\x03\\xf8\\xb0\\xe4\\xb1\\xd6\\x84\\xea\\x0f\\x96\\x92\\xfe<R\\x11\\xc4\\xb7A\\x8f\\x1d\\x9ez\\x00\\xed\\x03\\x8e1\\x81\\xb3\\x07\\xec\\xa0\\xb6\\xcb\\xe9\\x1f\\xc6 \\xa3\\x90\\x16=6\\xe0\\xb8\\xba\\x1dX6\\xa7j\\xb598\\xe6\\x0b\\xbd\\xef\\x13\\xd0\\xf7\\x01R^\\x03\\xa4pk\\x0e\\xd0=\\xfd\\x13\\x9c\\xaf\\x03\\xdcQ\\x10\\x8e\\x97\\x9a\\xff~\\x1c\\xf6\\xed\\xbd\\xc8G\\x01\\xaf5\\t4\\xd9.\\xec\\x0b\\xa8\\xf1\\x007\\xf4o\\xcdy\\x10i\\xd1\\xe3\\x03\\x8e\\xad_\\x03\\xe3\\xe3\\xadYG\\x96\\x99\\xa6R\\xda\\xed~c\\x83\\x81n\\xad\\x01\\xaa\\xd5\\x7f\\xae\\xac\\xfe{\\xe3\\xf5\\x97\\x9eo\\x84\\xfd\\x98\\xe8\\x8f\\xef\\xcc\\xc2k\\x0eN\\xb4g5\\x8b{\\x80\\xdeM\\x0f\\xe0_7,\\xaf\\x7fx\\xbf\\x7fCZ\\xdcP\\x015\\x7f\\x00X\\x9fly\\xb5\\x91|\\xbf\\x96h\\x8a\\xa3\\x9f\\x08\\xfd\\xf1:\\x99\\xfb\\x9b\\xbaPr\\xb7\\x04\\xf7\\xb0\\x08}a\\x80\\x13\\x03%\\xf1\\xe4\\x1a\\x00Z\\xfb\\xae\\xfd\\x7f\\xd99@\\n\\xd0>\\xb0\\x9da\\x07\\xc5\\xed\\xb0\\xfd.\\xbc\\xc8\\xb2\\xf23\\xd8w}\\x91\\x1f\\x03^\\xff\\xd1\\xc4\\x9al\\xbb\\xdb\\x1ePK\\xc8\\xa5H\\xa8\\xdd\\xc6\\xb0\\x9d}\\x9cX+\\xa9\\xff\\x1a\\xa4\\xc5\\r\\x1b\\xc4\\xfb\\x81\\x84\\x84\\xeaM\\x17W\\x96\\rc\\xb4\\xae\\xec\\x05\\xbe\\xf4\\x81\\xb5\\xb2>0@T\\xff\\xee\\xac\\x01\\xba~\\x07\\xd0=\\xfdo\\x15\\xd1\\xffv\\xd8\\xf6N\\xd9\\x18+\\xec\\xab\\xc9(@\\x01\\xef\\xf5\\xc7\\x84\\x9a\\xec+R\\xf3\\x82\\xeey\\x00!W\\xa0\\x7f\\xa7\\xb5\\xff3H\\x0b-\\xe8\\xe3\\xed\\x998\\xab~\\xd7\\x12\\xf3\\xbckDw\\xc1\\xea\\x03\\xeb\\x14\\xd6\\x007z\\xa8\\x7f\\xbd\\x82\\xfe\\xb3\\x8b\\xef\\xc3\\xf3+\\xdf\\xcb\\xed\\x8akd\\xe1=\\xfb\\x81\\x07\\x18\\xdc\\xf3\\x80-\\x12\\x1e@\\xff\\xb7\\xeb\\xda\\x1f\\xb5\\xf6\\xbf\\x13i\\xa1\\x85\\xf0\\x98\\xeb\\r\\xbc2\\xa7\\xea=\\x8b{\\xf3\\x85\\xfd\\xf1Z\\xbf\\x8d\\r\\\\}`\\xad\\xbb\\xfa/\\xe6\\xaf\\xffy\\xb8\\x06\\x00\\xba\\xcf\\x85\\xfcJSt\\x05\\xb9\\x87\\x1b\\xea\\xe2\\xeb=u6\\xfd\\x0f\\xca\\xd7\\x0b\\x8b{\\x00\\xfdX|\\xec\\x0f\\xde\\xf2\\x0f\\xa4\\x85\\x16\\xd2\\xf3\\x85\\x93\\xe2\\xadY\\xc7\\xd2=\\x98/\\xf4\\xf7\\x1c\\xc1Z\\xc3]n\\xad\\x01\\x8a\\xe9\\xdf\\xdd9\\xc0\\xcd\\x86\\x87\\xae\\'U\\xfd\\xf3\\x9f\\xf0\\xf9\\x7f\\x87\\x82 \\xa0\\x1da\\xe0\\x01\\xf9I\\xf6LL\\xe3\\xbe\\x07H\\xeb?\\x13\\xebl\\xd9:\\xa4\\x85\\x16\\nA\\xbe\\xb7\\x06lH\\xb6d4\\x91{\\xf1\\x04\\xda\\x07\\xf8^\\xc0\\xbf\\x06\\xc8\\xd39@9\\xfd\\xd3\\xf4\\xc5\\xe9\\x15s\\x8b\\xe0\\xb3>\\x89\\x82,\\x98\\xef\\x0c\\xecs\\xdb\\x03\\xec[\\x15\\xf5\\x0f\\xaf7\\x14i\\xe1u\\xdchA\\xceC\\xc0\\xdc\\x84\\xea\\x8dE+\\xca\\x862Z\\xf7\\xf7\\xd8@\\xe8\\x03\\xbe\\xd2\\xbf\\xf3\\x1c\\xe0\\xfa\\x92\\xc7\\x7fI\\xa8\\xfe`\\x05|\\xbe\\x9bP\\x90\\x06\\xf5\\x9d\\x01\\xab^\\xcfy\\x80pL \\xe9\\x01\\x82\\xb9\\xffl\\xe69\\x99\\xd8\\x97\\xd7.hq\\xe3\\x04\\xb9n\\x1d\\x18\\x14g\\xd5\\xefI3\\xcf\\xebX]2 \\xa0}\\x02w\\xaf\\x01pG\\xffYE\\xfdp\\x9a\\xf9\\xe5\\xb3\\xf0y\\x1eB\\xddg\\xdf\\xaf\\x92\\xf2\\x00\\xe9\\xeb\\x84\\\\\\xf4\\xdf\\t\\xaf\\x13\\x8a\\xb4\\xd0BE\\xc01t\\'\\xb0bn\\xd5\\xaa\\xaa\\xb7J\\x1f\\r\\x88\\x0fx\\xbb\\x06(\\xd4\\xff\\x9dxU\\xe9\\xe0\\x96xkV\\x8a\\xdakw\\xbb\"\\xa0\\xcdK=\\xf3\\x00\\xe1=?\\xe0yf\\xa4\\x85\\x16>\\nr.!\\xeb\\xe3\\xf1\\xd6\\xcco\\xd3MS\\xa8\\xeb\\x04\\xfd\\xe5\\x05\\xde\\xae\\x01:\\xf4\\xbf\\xb9x\\x00^hYq\\x14\\xda{\\x0f\\xea\\xc6\\x01\\xed\\x8f\\x03\\x1dw\\x88{\\x80\\xe3\\xfeb\\xdc\\xfa \\x7f\\xee\\x1f\\x9es\\x1ci\\xa1\\x85\\x1f\\x82\\xf4\\xa5\\x81\\xcd\\x0b-\\x19W\\xc9|\\xa1\\xaf\\xaf%ph\\xdf\\xd35@r\\x1f\\xd07\\xca\\xc6\\xd6\\xc3\\xb8e6\\xe9G\\xa3\\x1e\\x10\\xf09&&\\xda3\\xdb\\x85}\\x01g\\x0f\\xa0\\xef\\xf5\\xc7m\\xcf\\xc4\\x895Y[\\x90\\x16Z\\xf81\\xc8\\xbdo\\x80\\x05\\x89\\xd5\\x1b\\x0c+\\xcb\\x862Z\\xf7\\xe6:c\\xa1\\x07\\x08\\xf4\\xaf\\xb0\\x06\\xe8\\xe8\\x03\\xbco\\xf8#\\x9eW\\xb9j\\x1f\\xb9\\xbe\\x01\\xf5\\xb0\\x80\\xcf\\xf4<\\xe8\\xb9I\\xde\\x03\\x04\\xe7~\\xb2\\xf6\\xbf\\x1ci\\xa1E\\xe0\\xe6\\xac\\x86\\xc0yw\\xdf\\x12\\xf3\\x9c\\x0e\\xb5\\xd7\\x17\\xd2\\xbf\\x05\\xec\\xde\\x1a\\xc0\\xa6\\xa2p\\xfc\\x8a)\\xba*\\xce\\xda\\xb3\\xefqM~O\\x06<\\xc0.\\xe7\\x01|\\xfd\\xebl\\xfah\\xa4\\x85\\x16]pM+\\xf0\\xfa\\xdc\\xaaU\\xd6\\xb7K\\x1f\\xf5\\xca\\x07\\xdc\\xd5\\xff\\xdaK\\x0f\\xe3\\xc4\\xaa\\xf7\\xb3\\xe1\\xfd\\xfe\\x03\\xdd \\xdf\\xeb\\x82\\xf3\\xbaY\\xdc\\x03\\xb2\\x05\\xfa\\x8f\\xb7\\xe9e\\xefO\\xa6\\x85\\x16\\x01\\x98/\\x9c\\x16_\\x9dy*\\xc34\\x99\\xd1\\xb5\\x9c\\x17\\x08\\xc7\\x06rk\\x80\\x1b\\x8a\\xfb\\xe3\\xbfW$\\x95\\x91>\\x07\\xba\\xc1\\x02>s\\xb8\\xce\\x96],\\xbd6\\xc0\\xae\\xfd\\xf7CZh\\x11\\x04\\x01\\xc7\\xe2\\x9f\\x81\\x0f\\x17Z\\x96\\xb5\\xb87_\\xd8Ob\\r0\\x1c\\xbfS\\xfa\\xe4\\xf5\\x84\\xea\\xcdk\\xc8\\xbd\\xd0\\xd0\\r\\x1a\\xccw\\x06\\xce\\x8a{\\x00\\xa5\\xffk\\xddq\\xcdS\\x8b\\x9e\\x1d\\xa4\\x9f\\x0e,J\\xac\\xdepie\\xd9\\x10\\x81\\xce\\x95\\xf4\\xbf\\xdep7N\\xb9\\xb2\\xe4\\x02<\\xffq\\xa4\\x05\\xd9\\x97\\xbf\\x8b\\x17|g \\x8bGf)\\xd2B\\x8b \\rr_\\x1d`X\\x9cU\\xff\\xe9\\xd2\\x8a\\xa4\\xeb\\xe2\\xf3\\x85\\x8e\\xc7\\xfd\\xf1\\x1b\\x97\\x07\\xb7\\xc7[\\xb3^\\x81\\xe7\\xfc\\x06i\\xc1\\x06\\xb9\\x96Y\\xf8\\x9d\\x01Z\\xff\\x89\\xf6\\xcc\\xc3H\\x0b-\\xba\\xc71\\xdc\\x1fxsn\\xe5\\xdb5o\\x97>\"\\xf0\\x81U\\x97\\x1e\\xc2IU\\xebOC\\xfeOH\\x0b\\xc9\\xdf\\x89\\x88\\xb7\\xe6ds\\x1e@\\xad\\xfdoFZh\\xd1\\xcd\\xcee@t|u\\xe6w\\x19\\xa6\\x97p\\x86\\xe9\\xc5\\xab\\xd0?H&\\xc77\\xd2\\xc2\\x9d\\xf5\\xd7w\\x1c\\xfaO\\xa8\\xc9^\\x8a\\xb4\\xd0\\xa2\\x9b\\x06\\x1c\\xcb\\x7f\\x05\\xeeBZx\\x14\\xb0\\xcf\\x96@\\xdf\\xbfSg\\xd3\\x07\\xec>fZh\\xa1EPy\\x00\\xb9\\xf6\\xf9\\x11\\xa4\\x05\\x1b\\x98\\x8d\\xb6t,\\x1b\\xf5\\x11\\xec\\xc3\\xfc\\x08\\xec\\x1a\\xdc\\xc6N\\x14*\\x92G\\xe1\\x8eGF\\xfe\\xdbrO\\nc\\x1f!\\xeeo\\xd9hc_\\xb4\\x1e\\xf2!.y#\\xea\\xc5<\\xa2>\\x97K\\x0b3\\x1c\\xf9z\\x92vm!\\xfb\\x9a\\x19\\xce;\\x86\\x8a\\x0e\\xc7\\xa66\\x92tm!y\\xd5t\\xde\\xd3\\x9d[hd\\xda\\xd4Ar\"-\\xcc`^2\\x9f\\xa4\\\\[\\xd8\\x89\\xe8<\\xf7ta\\x0b\\xa9\\xeda\\xf4\\xdb8\"\\x8c\\xca\\xf0>t(\\xfd2H\\xa4\\x85\\xd4\\xdb\\xf6\\xa2\\xff\\x8c\\r^\\x0b\\x99\\'P\\xff\\x88\\xb4\\x90~\\xdd\\x10\\xe1\\xd3\\x99\\x1d\\x82\\xb9\\x9d\\x96A\\xfeO\\xac\\x85F$\\x1al\\x0b\\xf3\\xb9m\\xa2-\\xe4\\xb6\\x88\\xb6\\xb0\\x83\\xdb\"\\xda\\xc26n\\x83h\\x0b%\\x9a\\xc7\\xb60\\x03I\\x86l\\xf3\\x98|\\x87B\\xbe^!\\x9f\\x8f\\xe4\\xdb\\'\\xd3\\xbc\\x10\\xb6x\\xd2\\xf96\\x85\\xbc\\\\\\xf3z\\xc97\\x8f\\xca#\\xf9|\\xa7B^\\xaey(T\\xaext>C!O\\xfe\\x919>:\\x14\\xf2\\xf5\\ny\\xa3B^\\xb6y(\\xbc\\x13\\xc9\\xe7\\xe5\\x9b\\x87\\xc2\\xe5\\x9b\\x87\"\\xf2\\x15\\xf2\\xf2\\xcdC\\x11H]>\\xbd\\x8b\\xf3\\xd8\\xbf\\xf9\\x10\\xd5\\xf9\\x0cU\\xf9^]\\x9c\\x0f\\xf5s>Lu>_U>\\xbc\\x8b\\xf3\\x11~\\xce\\xa7\\xab\\xce\\x1bU\\xe5\\xb1\\x7f\\xf3!]\\x9c\\xef\\xa5>_\\xaf&\\x1f\\xea\\xe7|X\\x17\\xe7\\xc3\\xd5\\xe7\\xdb\\xd4\\xe4#\\x82<\\xaf\\xf6\\xf3\\x85\\xa9\\xcc\\x87\\xca\\xf7\\x8d\\x15\\xf3\\xbdT\\xe6CT\\xe6\\x91\\xda|\\xba\\xca|\\x84b^\\xbe\\xff\\x18\\xae2\\x1f\\xa62\\x1f\\xaa2\\xdfKe>D1\\xaf\\xd0AS\\x9bOW\\x99\\x8fP\\x99\\x0fW\\x99\\x0fS\\x99W\\xdb\\x01\\xf4w\\x07Uq|\\xa6\\x90\\x8fP\\xc8\\xa7\\xcb\\xe7C\\x14\\x86\\xaf\\xbd\\x94\\x87\\xb7\\xb2\\x1d\\xb40\\x85|\\xb8B>B!\\xaf0;\\x10\\xe2\\xc6\\xec\\x81\\\\>T!\\x1f\\xa6\\x90\\x8fP\\xc8\\xa7+\\xe4\\xe5\\xe7\\x8eP\\x88B\\xbe\\x97B>L!\\x1f\\xae\\x90\\x8fP\\xc8\\xa7+\\xe4\\xdd\\x9a\\x1b\\x93\\xce\\x87*\\xe4\\x95\\xe6\\xde\\xa8\\x8f\\'\\xd3A\\x8bP\\xc8\\xa7\\xcb\\xe7C\\xb0|\\xbe\\x97B>T!\\x1f\\xa6\\x90\\x0f\\x0f\\x8e\\xbcd\\x07M\\xcb\\xfb$\\xdf\\xe1\\xaf|\\x84B>]6\\xcf\\xbc\\xba\\xdf\\xf2\\x11\\x81\\xcaKt\\xe0\\xd8\\xbc\\xc4\\t\\x92\\xcb\\x1b\\x15\\xf2\\xe2\\x05v^;q\\x0eviD\\xe2\\x0c\\x92\\x8e\\xe5\\xdf\\x80\\x97\\x17\\xfd\\x84\\xbc\\xbc\\xe8\\'\\xe4\\xe7\\xeb\\x15\\xf2b\\xbb8\\x1dK\\xbe\\x01uo\\x05\\xb2Yb\\x17\\xd6\\xbb\\xe4\\x05\\x9f\\xb0W\\x9bK^\\xb0\\x0bC;\\\\\\xf3\\xf9.]R,\\xf9\\x06t\\x97\\x8bl\\x15\\xdf\\x85\\xf4\\xab\\x91\\xad\\xa2\\x9f\\x90\\x99\\xb3!\\x1bEw!=\\xe7\\xc1\\x9c<Dv!=f\\x0e\\xc1Ro\\x10A\\xfd\\xb1K\\x9e\\xdd\\x85tk]\\xf2\\x8eOH%\\xc4\\xd6G\\xb9\\xe6\\x917s\\xcd3\\xbb0\\x8c~\\xec\\x9a\\xaf\\x17\\xf4\\x19\\\\\\xf3\\x9d\\xbc\\xe3\\xa2\\xcdqr\\xe4\\x07\\xf5\\t\\xe9\\xe7u\\x88\\xe5\\xa97\\xa0\\xb7w\\x8a\\xe5;\\x10w\\xd2\\x14\\xcbc\\xc4\\xc9.C,o\\xe4\\x0e\\xdb|\\xb1<\\xaf,F\\xb1<f\\xcf\\xf9\\xb8^4\\x9f\\xcf.h\\xb6Q\\xbb\\xd9\\xf5\\x13:\\\\\\xb1C4\\xdf\\xc9\\xaa\\xaaS4\\x8f3\\xd8G\\xe2\\xf9&\\xf6\\xd1I,\\x1f\\x95\\x8e\\x07\\xf79\\x96eC\\xc8\\xff\\x98\\xafE\\xdf\\xd4}o\\x0f\\xa7\\xab\\xde<(\\xc54\\xfbTb\\xd5\\x9a\\xa0\\xbf.~\\xb6-\\xf7\\x96i\\xb5GFL\\xad;6q\\x96mGP\\xfc\\xdeNw\\x8d8\\xab\\xbe\\xef\\xc2\\x8a\\x05{\\xd2\\x8c\\xd30!\\xd5\\x18]\\xa2\\xab\\xde\\xf8{\\x14D\\x11g\\xdd\\xf2\\xab\\x18\\xfb\\xa7\\x7f\\x99\\xd4\\xf0\\xe3\\x92qM\\x86\\xfcqM\\x97\\xda\\x01LS\\xda>\\xbe\\xb1\\xf8\\xe0\\x94\\xba\\x13\\xba\\x995\\x1f\\xf5\\xb8\\xfb\\xb4\\xf9\\xf3\\xb7a\\xe6Z^K\\x87\\x9a\\xb78j\\x9ff\\x8c\\x82\\xfaG\\xe1\\x14\\xd3\\xcc\\xc3\\xf1\\xd6\\xec.\\xbdF~\\xa6-\\xaf\\xcf\\xe4\\xfaS\\xb1\\xe3\\x9b\\x8aw@\\x9dm\\xbcz3\\\\\\xa6\\x18\\xdbL(c0v\\x8ek.\\xfd\\xfe\\xc5\\x86\\x1f^\\x8e\\xad\\xd9\\x17\\xf4>\\xd6U\\x91P\\xb5~L\\xaa)\\xdaH\\xd7\\\\X\\xfbT\\xe3t\\x8aE\\xe5I\\xabQ\\x00c\\xb65\\xf7\\xe6i\\xb5\\x87#\\'4\\x16\\xbc\\x0bu.\\x90\\xaa\\xf78A\\xbd\\xa9\\x9a\\xf301\\x94\\xe31\\xcd\\xe5d[\\xe9\\xc4\\xc6\\x8b\\xab\\xa2\\xed\\x07\"f[\\xb7\\xde\\xf0\\xdf\\xf9\\x88\\xaf\\xce|`q\\xb9\\xee\\x90x\\xdd\\xb9\\xda\\xc39\\x80\"\\xd9\\x9c\\x12\\x8b\\xfc\\xea\\xe9\\x9f<\\x0c\\x9e\\x9e\\x06\\x9e~\\x98\\xf3\\xf4Ra\\xcd\\x9b]4.Yo\\x9a\\n\\x1ef\\x86+x\\xccU\\xb3m|SI\\xd6\\xb4\\xba#cf\\xdb\\xb6\\xdd\\x8cn\\xb0\\xdf`Z`^\\xfa6\\xd4\\xfb\\x9a;uO5\\x11b\\x08\\xeds-\\xcb\\x1fC\\xbe\\xf3\\xf4;\\xc0\\xd3\\xa3\\xc1\\xd3s\\xa1\\xd6V)\\x8d\\xfb\\xa6\\xde4\\xa3\\xafZxT:h\\x81\\xd7\\xd9?\\xa5\\xfe\\xe4\\x8cY\\xb6\\x9d\\xff\\x89z\\xf0w\\xb8\\x92*\\xdf\\x89\\x86z[<\\xac;\\xf4\\x01b\\x19fT\\xc2\\x98\\xa0\\x0f\\xf2\\xd2\\xd3\\xa3j\\x0f\\x0f\\x01O_\\x05u>\\xaf\\xa6\\xdece\\xebmV\\xaa7P\\xc5P\\x8dG\\xb1X\\t\\xd7\\xe1x\\xf9\\xe6\\xc5\\x86s)3jv\\x0fD=$t\\xd5\\x9b\\xfe\\x0c\\xb5;)w\\x8e\\xa7q\\xae\\xbb\\xa0\\xf6\\x14\\x8bM\\xb3\\xbe\\x83\\xf1\\xe1\\xcd\\xee\\x1co1\\xf6\\xfd\\x0f\\x81\\xa7/\\x1e\\xd7T\\xf2%\\xd4\\xbaU\\xda\\xd3\\xc5\\xce\\xe1&\\x1e~\\xab7\\x83\\x8d\\xa3\\xa5\\x86b$\\xf5\\xaf\\xb5pBS\\xe1\\xeb0\\xdex\\x84\\x9c\\xa3P\\xf7\\x1b\\xcf\\xdd\\xba\\xa8b\\xc1\\xe6%\\xc6\\xa8\\xeb\\x00\\xa6\\x99\\x8e\\xd3X\\xa2\\x19bhL\\x84X\\x9cJ1\\x83\\xc7L\\x86Y\\x14\\x8b\\xcb\\x93D\\xef\\xfd\\x0e\\xfey\\x1b\\xf8\\xe8\\xb4\\tM\\xc5[\\xc77]\\xaa\\x040M)\\xc3e<\\xbe\\x99\\xae\\xf9\\xb8\\xe62\\x06#\\x83\\x89G9\\xab\\xf3\\xb1\\xcd\\x15\\x0cf\\x0e\\xa8\\xf5\\xd8\\xab\\x0e_\\xb70T\\xf2\\xa8b\\xa8\\xc6\\xa3Y\\xac<l\\x1cP\\xe7\\xd1L\\xcdG\\xb5\\xd8\\x19jy\\xd4Q\\x8cn\\xb1[\\xc65\\x95m\\x9c^\\xfbed\\x9cuk\\xd0\\xfe\\xc6\\x1fb~\\xe7o\\x9ee\\xf9\\x1c\\xa8u\\x9d\\'uOS\\xa8;!\\xc54\\x9b\"\\xb9b\\xf1\"\\xe8G\\xdf\\x14U\\xfb\\xd5\\xe0\\x89\\x8d\\x05oB\\x9d\\x7f\\x02:]\\xea\\xdd$Uoc\\xe0\\xeb\\xcd\\xd4z\\xb4\\xa0\\xd6\\xe2\\xf5\\xa6\\xa9\\xc7#Y\\x1a\\xf84\\x8d\\xbdj\\xd95\\xb5\\xfe\\x9bi\\xb3m\\xb9Auo\\xd8\\xc4\\xaauOC=\\x7f\\xe6\\xd7}\\x89\\x0f\\xea\\x9eJ\\xd5=\\x0e\\xcf\\xb1\\xac\\xc0S\\xea\\xbe\\xc1\\x13\\x1a\\r\\x1dP\\xeb\\x16\\xdf\\xd5\\xbb\\xa2\\x8b\\xeb-U\\xebF\\x9aVB\\x13\\xcb\\x0b\\xad\\xcd\\x0e~\\x01o8\\xf2R\\xc3\\x0f\\xf3f\\xd9\\xf2\\xfau\\xe1x\\xaeoJ\\xb9n\\x07W\\xf7(\\x91\\xbaG\\x8b\\xd4=V\\xa4\\xee\\\\\\xed\\x93+\\x16\\xe1\\x98\\x9a\\xfdxbc!\\xa6k-\\xe5\\xe9\\xc1So%/W\\xacw\\xab\\xb0\\xde/\\x08\\xea}\\x95G\\x0b\\x8fV<\\xa2\\xb5\\x95<\\xff\\xdc\\xc4\\xc6\\xa2\\x8c\\x195{\\xfe\\x07\\x05\\xe8\\xbe\\x16\\xc9\\xe6\\xa5/C\\xbd\\x9b}q\\x8eO)O\\xc0q\\xd5\\x9b\\xf1\\xa4\\x86sP\\xdb\\x12\\xec\\xdd9\\xbc;\\xd6[T\\xdb\\x8a\\xf5\\xa6i\\xe3hkg\\x81\\xbf1\\x8do6\\xad\\x8d\\xb1\\x7f>\\x08\\xea\\xf4k\\xe4\\xe3\\x98S\\xf9\\xf6H\\xa8w\\x89\\xda\\xba\\xcf\\xbd\\xf2*x\\xfa\\xd7\\xc4\\xd3\\xc5\\xeb\\xdd\\xe4I\\x9fM\\xa4\\xde\\xcd\\x81\\xaew=\\x1e\\xe5\\xa6\\x97{\\xa2m\\xb9Z\\x8fh\\xbb\\xc62\\xbc\\xed\\x17\\x1e\\x1d\\x14\\xd0n\\x03\\xf2\\xddxn\\x00\\xd4\\xed\\x80\\xbc\\xd7\\xcb\\x9f\\xe3\\x13+W9y\\xba\\xb7\\xe7p_\\xd7[\\xaco\\xae\\xe2\\xdc\\xed\\xb1\\xb6[\\xdd\\xa87\\xbf\\xd6\\xd7\\\\j-\\xc6\\xf8\\xe6\\xb2\\\\\\xa4~<w\\xcb\\xa2\\x8a\\xf9\\xff\\x80z\\xb7+j^\\xe1\\x1c\\x1fg\\xcd\\xe2\\xf9{)S\\xf3@\\xd5\\xdb\\x9b\\xbe\\x9a\\xe7^\\xeekm\\xbb[k1\\xa2j\\x8fx}\\xcf\\x142\\x972\\xef\\xca\\xf2\\xc9Pk\\x8b\\xf7^/\\xec\\xdb\\xc1\\xf8\\rO\\x10\\xad\\xbfQ\\xe6\\x1c\\xee\\xefz{\\xe8\\xe5.\\xfd4em{Wk\\xcf\\xeb\\xed\\xc4\\xf5\\xd9\\xb6m\\xb7\"\\xef\\xc6s\\x0fCm\\x8f{_w\\xe9q<\\xf1\\x7f\\xb9c\\x80\\xab\\xbd\\xd9g\\xf5v\\xe7\\xdc\\x1d8m\\xcb\\x9f\\xb3}\\xc5\\xa8\\x96\\x86S\\xc8\\xf3\\xf1\\xdc\\xad\\xa9\\xe5\\xba\\xf5K\\x8dQ\\xd7\\x01L3\\x9d\\x19\\xcfG3\\xc4\\xd0\\x98\\x08\\xb1\\x14i\\xa6\\x19<f2\\xccb!\\xe3x\\x9a8<\\xb9\\xe1\\x0cU\\x7f\\xc11\\xd0\\xcc?\\x06\\x9c\\xebo\\tP\\xbd\\xbd\\xe9\\xa7\\x05\\xc6\\xc7\\xbd\\xe1\\xc5\\xc6\\x9f\\xd3\\x91\\x9bA\\xee]\\x9cl^\\x92\\x00\\xf5\\xb6\\xb9\\xd6\\xdd\\xa9\\xf6\\x8e\\xba\\x1bA\\xefe\\xc0\\xe5X\\x9cR\\x1a\\x03\\xc42\\xcc\\xe01\\x13/f\\x99E\\x11S\\xb9\\x1d\\x8f\\xab-\\xa0\\x18[[\\x08\\x14\\x01\\xc5xL\\x9d\\x01\\xb8\\x04\\x94\\x02\\x97\\xf1\\xe8\\xba2\\xc0\\x88G\\xd7\\x9b\\xf0(\\x8ar\\xa0\\x02\\x8f\\xac7\\x03W\\x00\\x0b\\x1e\\xd9PI\\xf1BC\\x15\\x8fj\\x06+\\x0f\\x1b\\x1eAQ\\xc3\\xc3\\x8eG4\\x12jY\\x867\\xd61\\xd4\\xf3h\\xe0\\xd1\\xc8\\xd0\\xc4\\xd1\\xd4\\xcc\\xe3*E$E\\x0bC\\xab8\\xcdm8\\xf2j;\\x8el\\x81\\xe3\\xa2\\xd5\\xf7\\xc7D\\xac}\\xff#n\\x8e\\xe7\\x9e\\x84z\\xff\\xa0Xw^\\xed\\xd3\\x8c\\\\\\xdd\\x17\\x15G\\xe3\\xe4\\x82\\xe9x\\xc1E>\\xd1x>K\\x0cC,\\x9e_\\x10\\x8b\\x13\\x8b\\x96\\xe0\\xd1\\x96\\xb3\\xc0\\x0f\\x14\\xa3,\\xe7\\x80\\x1f\\x81\\x9f\\xf0\\xc8\\xca\\xf3\\xc0\\x05\\xe0\"P\\x80_\\xa8,\\xa4\\xa9*\\x02\\x8a\\x01\\x03P\\x82GT]\\x02J\\x812<\\xbc\\xca\\x08\\x98\\x18\\xca\\x81\\n\\x1c\\xc9b\\xe6q\\x05GV\\x13,\\x14\\xc3(*\\x19\\xaaD\\xa8\\xc6CY\\xac\\x1cV\\x1bC\\r\\xcb\\x10\\xab\\x9dG\\xad{\\xd4\\xd4\\xe3\\xa1uM\\xf4\\xb1p\\xb5\\xdd\\xa7\\xc7\\x00\\xf8\\x8d\\x95hZ\\xae\\xee\\xba\\xea\\x8d\\xb7\\x83_\\xe7B\\xcd;\\x1duW\\xf2\\xfa4\\xc6\\xebS\\xcb\\xe8\\xda/,\\x84\\xfa\\xfe4\\r\\xcf93\\x05\\'\\x9e\\x9e\\x8c\\x13NN\\xc6:\\x96)\\x0cS\\xb1\\xee\\x94\\x83i@\\x14~\\xa1\\xe0(\\x1e^\\x98\\xcfp\\x0cG\\x16~\\r\\x1c\\x07\\xbe\\xc5\\x91E\\'\\x80\\x93\\x14\\xc3\\x8aN\\x01\\xa7\\x81\\xef\\xf0\\xb0\\xe2\\xef\\xf1\\xd0\\xe23\\xc0Y\\xe0\\x1c\\x1eB\\xf1#\\x1eb\\xf8\\t\\x0f6\\x9c\\x07~\\x06.\\xe0\\xe7\\r\\x17\\x81\\x02\\x9a\\x92B\\x96A%E\\x0c\\xc5<\\x0c\\x0c%\\x14\\xcfQ\\\\\\xe2\\xb8T\\xcap\\x99\\xe5Y\\x01e^\\xf1\\xdce\\x13\\x1ed2\\xe3\\xc1\\x168\\x9e\\xec\\r\\xf41\\xd0r\\xcdg\\xf5\\x87\\xf3d\\xae\\xccx\\xee7\\x8b+\\xe6\\xa7,5E5\\x01\\x98\\x06jM!<\\xaf/)\\'\\xcc\\xa0H+\\x9f\\xc9\\x92Z6\\x13/2\\x80\\xa6\\xcfO\\xa7j>\\xfb\\xe8D\\x1c{h\\x02\\x8e90\\x9e\\x07\\xfc\\xf7A\\x07\\x13)\\xa2\\x0fN\\xa2\\x18z|;\\x1e\\xf2\\xcd^<\\xf8\\xdb\\x8f\\x81}\\xc0~\\xfc\\xfc\\xb7\\x9f\\x00\\x9f\\x02\\x9f\\xe1A\\'>g8\\x80\\x9f\\xa38\\x08|\\x81\\x9f=y\\x08\\xf8\\x8a\\xe10~\\xe6\\xe4\\x11\\xe0(~\\xe6T>~\\x9a\\xe2\\x18\\xf05\\x8e8u\\x1c\\xf8\\x06G\\x9c&|\\x0b\\x9c\\x00N\\x02\\xa7\\x18N\\xe3\\xa7\\\\\\xf8\\x8e\\xc7\\xf7\\x14\\x7f\\xa38\\xc3p\\xd6g<u\\xe6G\\xfc\\xf4\\xf9\\x8b\\xf8\\xd9\\x92\\xcb\\xf41P\\xd7D{\\x80\\x8f\\xea?\\xb5\\xfe\\x84\\xe8\\xb8o\\xbe\\xe5\\xd5\\xa1KM\\xd3\\r\\\\\\xddA\\xeb,\\xbc\\xdaK\\xd4=\\xad|\\x16E\\xca\\xe5\\x998\\xb90\\x06\\xcf9;\\x15\\xcf::\\tO\\xffl,\\x9e\\xb2g4\\x9e\\x9c7\\x92f\\xd7(\\x86\\xd1\\x14/Q\\x8ca\\x89\\xdc\\xbf\\x12?\\xfby\\x0e\\xb0\\x05?s\\x80\\xb0\\x15\\xd8\\x86\\x9f\\xa6\\xd8\\x0e\\xec\\xc0\\x11\\x07w\\xb2<u0\\x0f\\xd8\\x05|\\x84\\xffvp7\\xb0\\x07\\xd8\\x8b\\x9f\\xa4\\xf8\\x18\\xd8\\x87\\x9f\\xfcb?~\\x82\\xe2\\x13\\xe03\\x86\\xcf\\xf1\\x13\\x87\\x0e\\xe0\\xc7\\x0f\\x1dd\\xf8\\x02?v\\xe8\\x10\\xf0%\\xcd\\x97\\x84\\xaf(\\x1e\\xa58\\xccp\\xc4\\xaf<~\\xf4k\\xfc\\xe4\\x89\\xef\\xa8c\\x80\\xf8\\x009\\x17\\x90\\xfe\\x80\\x8f\\xea\\x7f}\\x96-\\xef\\x0f\\xff\\xcf\\xdey\\x80Eq\\xad}|M\\xech\\xbai\\xd6\\xc4$\\xa2b/\\xd8[\\x94\\xa2\\x08\\xa8\\xd8b\\x89\\x05\\x05T\\x14\\xa5K\\xef\\n\\x02b\\x89\\xc6\\xc4D1&\\xb9_,_\\xbc1=\\xf1K\\xa4\\x89\\xc6k\\x87\\x85e\\x0b\\x9d\\xb5DA\\x81\\xa8\\xf9\\xde\\xfb\\x9e3\\xb3\\xb0}gw\\x16\\xd0\\xb8\\xe7y~\\xcf\\xcd\\x95\\xb3s\\x86\\xfd\\xfd\\xe7=g\\xca.\\xca\\xde\\xd7V\\xee|\\x0b\\x8f\\xef\\xaf\\xb5{W\\x1c\\xfb\\xaa\\xc7|\\x90\\x8a\\xfbU,\\xab)\\xc4\\xff\\xc6k\\xcbaM\\xeeb\\xf2\\xe1\\x8d\\'\\x10\\xf3A\\xe6\\x02\\xb2\\x1e s\\x80\\x19\\xdc\\x93\\xf3\\x12\\x95\\xf3\\xbe\\x80\\x92\\xb5\\xb1\\xe8\\xbcN\\xd3\\xbdZ\\xcd/^\\xae\\xc7{\\xa3\\xfb\\xa0b\\x0f\\xf0\\x17\\xaf\\xc2\\xb5\\xdcr:\\xa7\\xb7j\\xd5\\xca\\x02\\x0f\\xc8z\\xc0\\x9c\\xfe\\xe7\\xd6\\x88T\\xce\\xfb\\xf0x\\xae1\\xec\\x9d9\\xee\\x83\\x1a\\xfc\\xaf\\xd4\\xea=\\x90\\xc5_\\xbc\\x9a\\xae\\xe5\\xc9z\\x8e\\xef\\xef\\xff\\xa4cn\\xff\\xcbn\\xfd\\xa8r\\xde\\x17X\\xb2\\xae \\x84]\\xe3m\\x96-gY\\x01\\x9b\\x8b\\t+)\\xc1\\xc5\\xeeJ\\xacbY\\xdd\\x00q\\xcf\\xe0I\\t\\x10{\\xc0\\xc6\\xbc\\x95\\xb0\\xe6\\xcc\\x12x\\xea\\xa9\\xa7,\\xf0\\xe0]\\xf4\\xef\\x80\\xfeg\\xa0\\x7f\\xa7\\xfa\\x87<y _-\\xffL\\xe5\\xbc\\xcf\\xbft\\xd3\\xe9\\x10\\xd9\\x12\\x08\\xa1\\xfeW\\xa8\\xb8\\x0f.^i\\x94wJ\\x89\\x17\\x04H\\x88\\x7fw\\xf4\\xbf\\x14\\x9e~\\xfai\\x0b<0\\xa7\\x7f\\xd7\\xda[\\x1a\\xe7}\\xbee\\xc1GBe\\x8b\\x81\\x10\"[\\xce\\xc9{p\\x83w\\x0f\\x15\\xef\\x0ck\\xd0\\xbf\\'\\xf8\\xa0\\x7f\\xaf3\\xef\\xf3\\xfe\\xfd\\x9ft\\xcc\\xe9\\x7f\\xe1\\x9d\\x0b\\x1a\\xe7}>\\xe51;C\\xa5\\x8b\\xd0\\xff\"\\x9a\\x81\\xcdz\\xddk\\xf1^\\xec\\xa5\\xe2>\\x10\\xf1\\x97x\\xa1\\xffU\\xe8\\x7f\\x19\\xb4n\\xdd\\xda\\x02\\x0f\\xcc\\xe8\\xff\\xef\\x957\\x8ewQ\\xf7\\xbf\\xbe\")<T\\xfa\\x1e\\xd0\\x0cH\\x99\\x0c\\x98\\xea=\\xb0d-\\x85\\xf1\\xbf\\x9a\\xfao\\xd3\\xa6\\x8d\\x05\\x1e\\x98\\xcb\\xff\\xcc\\xfa\\xbfT\\xce\\xfb\\x94\\xce\\xfd\\xddC\\xa5\\x0b\\x81\\xc9\\x00\\x9b\\x03\\xd9R=s\\xbc\\xaa\\xf7 %\\xef\\x0c\\xeb\\xd0\\xff\\x1a\\xf4\\xef\\x81\\xfe\\x97\\xf3\\xfe\\xfd\\x9ft\\xcc\\xe5\\x7f\\xce\\xdd2\\xad\\xf7\\xfb\\xd6T\\xeds\\x0e\\xa3\\xdeU3\\x10\"]\\xaeum\\xa7\\xcf;\\x837\\xfa_\\xdb\\xe0\\xbfm\\xdb\\xb6\\x16x`.\\xffK\\xfe\\xfc]\\xeb\\xfd>O\\xf9\\xa7#\\xc3\\xd0}\\x98t\\x01\\x84I\\x17\\xaa\\xe4 X\\xe6n\\x94w\\x05~\\x92u\\xe8\\xdf\\x93\\xfao\\xd7\\xae\\x9d^\\xe6\\xcf\\x9f\\xdf\\xec\\xf4\\xee\\xdd\\x9b\\x8e\\xfd8`&\\xff\\xf2U\\xd7\\xbf\\xd4z\\xbf\\xcfC\\x9e\\xde\\x93\\x1c\\xef\\x8c\\x7f\\xe5\\x0c09\\x08.\\xf6\\xd4:\\xc7k\\xf3\\x1eX\\xb2\\x1e\\x02J\\xd6\\xb3\\xfe\\xbd\\xc0+w\\x05\\xb4o\\xdf^/\\xf5\\xf5\\xf5\\xcd\\xce\\x92%K\\xe8\\xd8\\x8f\\x03\\xe6\\xf0\\xef\\\\wW\\xcf\\xfd\\xbe\\xf4v\\xe4\\xfc?L:\\x9fe\\x81F-\\x08\\xd2\\xea}\\x9d\\x86w\\x86\\r\\xe0\\'\\xf5F\\xffk\\xd0\\xffJ\\x83\\xbf\\x9f\\xc5\\x7f\\xd3\\xfb\\x9f_#\\xd4\\xfb\\x9cgp\\xf1\\x8a[a\\xd2yZ2\\xb0\\x80\\xcd\\xc0\"5\\xf7\\xda\\xbdSJ}\\xd0\\xffz\\xd6\\xbf;t\\xe8\\xd0A/-\\xe5\\x9f\\x8c\\xfd8`\\x06\\xff\\x7f/\\xbf\\xf9]\\x17\\xfd\\xfe=\\xf3#\\xa4s!\\\\:\\x8fe>\\xcb\\x02\\x96\\x85\\xb8\\x1e\\\\\\x86u`=\\xcb\\x06\\x08l\\xc0\\x87\\xa1tc\\x03\\xfeR\\x1f\\xf4\\xbf\\x0e\\xfd\\xaf\\x86\\x8e\\x1d;\\xea\\xa5%\\xfc/]\\xba\\x94\\x8e\\xfd8\\xc0\\xdf\\xff\\x03\\x83\\xcfy\\xa2\\xbfS\\x11\\x92\\xb9\\xa0\\x9a\\x01\\xcd\\x1cl\\x96y\\xd0c\\x9eA\\xd3{`\\xe9&\\x8a\\x9ft#\\xfa\\xf7\\xa6\\xfe\\xad\\xac\\xac\\xf4\\xd2\\x12\\xfe\\xdf\\x7f\\xff}:\\xf6\\xe3\\x00_\\xff\\xb3jo\\x18\\xf8SN\\x02\\x81oi\\xf0\\xbf\"$n\\xc0\\xa0\\x9e\\x03\\xd5\\x0c\\x04\\x15\\xafc\\x8e\\xfbR\\x82\\x0f\\x0b\\xe3=\\xa0\\xd4\\x97\\xc2\\xf8_\\x8f\\xfe=\\xa0S\\xa7N\\x16x\\xc0\\xd7\\xff{w\\xce\\x19|\\xce\\xd3\\xa7<f{\\x84d\\x0e4f\\xc0\\x8df@W\\x0e\\x82\\x1a\\x8e{U\\xef\\x0c~\\xe8\\x7f\\x13\\xfa\\xdf\\x80\\xfe=\\xa1s\\xe7\\xce\\x16x0\\x15\\xfd;\\xb2\\xfeg\\xd6?4\\x16\\xb9\\xfb\\x8d\\xa3\\x06\\xbf#\\xc4\\xbb\"98B2\\x1b\\x98\\x0ch\\xe6@sNX\\xc8z\\xdf\\xa4\\xe2\\x9d\\xc1\\x1f\\xfd\\xfb\\xb2\\xfe\\xbd\\xe0\\x99g\\x9e\\xb1\\xc0\\x03>\\xfe\\x9d\\xeb\\xea9}\\xbeom\\xe5\\xae\\x15\\x91\\xd4\\xfbl\\xd0\\x9e\\x03\\xcdZ\\x10*]\\xa2\\xe1]\\x81\\x9f\\xd4\\x0f6\\xe4\\xf9\\x80\\'\\xfa\\x7f\\xf6\\xd9g-\\xf0\\x80\\x8f\\xff\\xb9w\\x8b9}\\xbe\\xcf\\xab\\xea\\xe3\\xe9Q\\xe8=J2\\x0b\\xc8\\xffF60\\x87\\xc5\\x8d\\x013\\x10I\\xe7\\x85y\\x94\\x90b\\x0f5\\xf7\\x01\\xe0\\x8f\\xf8*\\xfc\\x9f\\xf5\\x82\\xe7\\x9e{\\xce\\x02\\x0fx\\xf8\\xff\\xfb\\xfd?Ou\\x11ph\\x9e\\xf2\\x03\\xc3\\x88g\\xc6\\xff,\\x16\\x1d\\x19\\x90\\xb8\\xa9d \\xa8dC\\x83w\\x86@\\xf0\\x95\\xf9\\xc3\\x86\\xfc\\x8d\\xe8\\x7f\\r<\\xff\\xfc\\xf3\\x16x\\xc0\\xc3?\\xe7\\xcf\\xf7y\\xc8\\xd3\\xbbFH\\xdd\\xd0\\xb9+\\x0b\\x97\\x1c4\\xd6\\x82\\x80\\x12?\\xea\\xdd\\xbf\\x8c\\x10\\x84\\xfe\\x03X\\xffk\\xe1\\x85\\x17^\\xb0\\xc0\\x03S\\xfd\\xbb\\xd6VG\\x1a\\xe1\\xbf\\rY\\xd3EI\\\\X\\xd4s`hN\\x98\\xd7\\xe0\\x9e\\xf1\\x1f\\x88\\xfe7\\x81\\xc7\\xd9u\\xf0\\xe2\\x8b/Z\\xe0\\x81\\xa9\\xfe\\x17T_\\xb5\\x15\\x18\\xd1\\xc2\\xa4K\\xe5\\xd1bg\\xd6\\xbf\\xa1\\x1ch\\xce\\t\\x11\\x98\\x9f\\x80\\xb2`\\x8a\\xaf,\\x08\\xfd\\xfb\\xe2\\xf1\\xbf\\x0e^z\\xe9%\\x0b<0\\xd1\\xff\\xf5\\x157\\xbf1\\xea\\xbb!7\\xcbV]\\x89\\x16\\xcf\\x04\\x92\\x01\\xd5\\x1cp\\x9f\\x13\\xc2d\\xcb\\xf1\\xf8\\xdf\\xcc\\xfa\\xf7C\\xff\\xde\\xd0\\xa5K\\x17\\x0b<0\\xc5\\xbfs\\xfd}\\xa3\\xbf\\xd7\\x05\\xd7q?\\xc7\\xa0\\xffF\\x9c!F\\x82Y\\x90\\xb8\\xb0\\xb8\\xb2\\xccj\\x80\\xe4\\x80a\\x0e\\x8b\\x1b\\x04\\x97x\\xa3\\xff`\\xf4\\xef\\x8f\\xfe\\xd7\\xc3\\xcb/\\xbfl\\x81\\x07\\xa6\\xf8\\x9f}\\xaf\\xca\\xe8\\xefu\\xf1+\\r>\\x1c#v\\x02\\x06cr0[-\\x07n\\xe0\\'\\xf5g\\xfdo\\x80W^y\\xc5\\x02\\x0fL\\xf0\\xff\\xf7\\xe2\\xdb9]\\x04F\\xb6\\x8d\\xe5\\xb1)1\\xe2\\x19\\xc0\\xa0\\x9e\\x03g\\x881bm\\x10V8\\x0b6\\xe4\\xf9\\xe3\\xfao\\x03\\xbc\\xfa\\xea\\xab\\x16x`\\x82\\xff\\x1c\\x81\\t\\xcd\\xbb2\\xd5?V2\\x1db%\\xe8\\xbf\\x01\\'\\x96\\x99,l-\\x90\\xba\\xb0\\xb8\\xb2\\xccRb6\\x84\\x8b\\\\a\\xf3\\x15W\\xf08\\xe7\\x03\\xaf\\xbd\\xf6\\x9a\\x05\\x1eLC\\xff\\xd3\\xd1\\xbf\\x13\\xfaw\\xae\\x7fh\\x10\\x97\\xba\\xbaH\\x81\\tmm\\xd5\\x9ee\\xc4=\\x93\\x01\\x82\\xae\\x0c\\xb09\\x90\\xea\\xceA\\x04\\xf5?\\x136f\\xcf\\x86\\xd7_\\x7f\\xdd\\x02\\x0f\\x8c\\xf5\\xefu\\xfb\\x0f[\\x81\\t\\xcd\\xabj\\xbf]\\x0c\\xf5\\xef\\xc8\\xfa7=\\x07\\x11\"\\x17\\x08A\\xff\\xbe\\xd9\\x8e\\xd0\\xb5kW\\x0b<0\\xd2\\xff\\xf5s\\x97]L\\xfa\\x9b\\x00\\x1e\\xf2\\x83\\x83\\x89\\xdfX\\x89\\x03\\x9b\\x01G\\xd6\\xbf\\xb1s\\x82\\x0b\\xfawF\\xffN\\xe8\\xdf\\x01\\xbau\\xebf\\x81\\x07\\xc6\\xf8w\\xa9\\x7f`\\xf2\\xf7yz\\xc8\\xd3_!\\x1e\\x19\\xff\\x0e\\xbcr\\x10!\\x9a\\xc9\\xfa\\xb7\\x87\\xee\\xdd\\xbb[\\xe0\\x811\\xfe=\\xaaE\\'\\x05\\xa6\\xfb\\x7f:J:\\xe7\\xef8\\xb1=\\x1043\\xa0/\\x07\\xaasB\\xa4\\xc8\\t\\xfd\\xcf@\\xffv\\xd0\\xa3G\\x0f\\x0b<0\\xc6\\x7f\\xba,\\t\\x1ed\\xb4u\\x15\\x98\\xd8\\xc2e\\x8b*\\xe3\\xc4v\\xc0\\xa0+\\x07\\x86\\xd7\\x06\\x91\\x853 \\xf4\\xf2t\\xf0\\xcb\\x9e\\x06={\\xf6\\xb4\\xc0\\x03c\\xfc\\x8b\\xcf\\x0f\\x86\\xfb\\x99me\\x0f3\\xda\\x98\\xf4\\xf7\\xe3B\\x8b\\xdd/\\xc4\\x8b\\xa7A\\xbc\\xd8N\\t{J\\x9c\\xc4\\x81\\xc5\\x91e\\xba\\x123\\x809wp\\xa2D\\xa1\\xff\\xb0\\xcb\\x8e\\xe0\\x9f5\\rz\\xf5\\xea\\xf5\\x8f\\xe1\\xcd7\\xdf\\x841c\\xc6\\xc0\\xdc\\xb9sa\\xd5\\xaaU\\xe0\\xe9\\xe9\\t\\x1e\\x1e\\x1e\\xf0\\xde{\\xef\\x81\\xbd\\xbd=X[[\\x9b}L\\xae\\xfe\\xe7\\xd4\\xd5B}f[\\xe2\\x9f\\xd4\\x80x\\x81\\t-\\xa8d\\xc3\\x8f\\xf1\\xe2\\xa9\\xc0d`\\x9a\\x9e\\x0ch\\xcb\\x81\"\\x033X\\xff\\x0e\\xe8\\x7f*\\xbc\\xf1\\xc6\\x1b:\\x998q\"\\xfc\\xf1\\xc7\\x1f:\\x89\\x8f\\x8f\\xa7\\xfdZ\\x92\\x91#GBDD\\x04\\xfc\\xf4\\xd3Op\\xf3\\xe6M\\x83\\xcf\\x16\\xe7\\xe5\\xe5Azz:,[\\xb6\\x0c\\xde~\\xfbm\\xde\\xe3s\\xf5\\x1f|#\\x83\\xfa\\xff\\x8b\\xc9@=\\xd6\\x00k\\x81\\x91\\xcd\\xaf,\\xe4@\\x02\\xf5\\xaf\\x9c\\x01\\xe3s\\x10U8\\x1d\\xfd\\xdb\\xa3\\xffw\\xe91\\xa3\\x0b\\x07\\x07\\x07\\xbd\\xef\\xe5\\x81\\x03\\x07h\\xbf\\x96`\\xfa\\xf4\\xe9\\xf0\\xf5\\xd7_\\xc3\\xbd{\\xf7L~\\xce\\xbc\\xbc\\xbc\\x9cf\\xb8\\x7f\\xff\\xfe&\\xef\\x07W\\xff\\xdf\\x0b=\\xa0.\\xb3\\xadR\\rh\\xf3\\x93\\xc0\\xc8\\xb6\\xb1<.)A\\xfc.0\\xa8\\xe7\\xc0\\x8es\\x0e\\xa2\\x0b\\x1d!\\x9c\\xfa\\x9fB?k\\xa9\\x0bGGG\\x83\\xfeI\\xbf\\xe6d\\xf0\\xe0\\xc1p\\xf8\\xf0a\\xa8\\xad\\xad\\xa5\\xfb`\\x0e\\x8a\\x8b\\x8b\\xc1\\xdd\\xdd\\xdd\\xa4\\xfd\\xe1\\xea_~\\xe65\\xf4\\xdf\\xae\\xb1\\x06d\\xb4\\x05\\xac\\x01\\xf3\\x8d\\xd0/\\xf0\\xae\\xdc\\xbe)A<\\x05\\x18\\xff\\xa6\\xe4\\x80\\xc9\\x00\\xe3\\xdf\\x0e\\x02\\x1e3\\xff... \\x16\\x8by\\xb96\\xf4\\xfb\\xf4\\xe9\\xd3\\xc7\\xec\\xfe\\x17\\xdf\\x93CmV;\\xea\\xbfN\\xe1\\x9f\\xa9\\x01\\xa5\\x98\\x81N\\\\\\xfd\\xaf\\xa9\\xda\\xbb(A<\\x19\\x98\\x0cLQ\\xc9\\x8019\\x88.t@\\xff\\xd3\\xa8\\xff\\xb7\\xdezK\\'\\x86\\xfc\\x1f<x\\x90\\xf6k\\x0eV\\xae\\\\\\t\\xb7o\\xdf\\xa6\\xe36%\\xa7O\\x9f\\xa65\\x86\\xeb~q\\xf1\\x9fZ\\xfe\\x19\\xdcC\\xff\\xb5\\x99\\xedTk\\x00\\xf20\\xb3\\xcd6\\xae\\xfe=\\xe5\\x9fN\\x8d/\"\\xde\\'\\xb1LfQ\\xaf\\x05\\xfas\\x10]h\\x8f\\xfe\\xa7\\xa2\\xff\\xc9t\\r\\xa4\\x0b2\\xc7\\x1a\\xf2O\\xfa55\\x8b\\x17/\\x86\\x9a\\x9a\\x1a:fs\\xf0\\xfd\\xf7\\xdfs\\xde\\xb7i\"\\xb1A\\xffg/\\xdb3\\xfe\\t\\x9a5\\xe0\\x01\\xd6\\x00\\x1b.\\xfe=\\xe4\\xe96\\xc4\\xed\\x96\\xa2\\x89\\x90P\\xa4\\x9e\\x01\\xd5\\xba\\x10\\xdf\\x80\"\\x0f\\x8d\\x19\\x88)\\xb0c\\xfdO\\x82w\\xdeyG\\'3f\\xcc\\xd0\\xfb>\\x91u4\\xe9\\xd7\\x94L\\x992\\x05\\xae_\\xbf\\xce\\xd9]YY\\x19\\x1c?~\\x1cRRR ,,\\x0cbcc!--\\r\\xbe\\xfd\\xf6[N\\xdb!\\xf3\\xcb\\xd4\\xa9S9\\xef\\x9f\\x9d\\x01\\xff.\\xf5\\xf7\\xe1vv\\'\\xb8\\x8b\\xee\\xef)\\xf9W[\\x07\\xfc\\xf6Wf\\x87V\\x1c\\xfcw\\x89\\x15;R\\xff\\n4s0\\xc5@\\x0e\\xa6\\xa1\\xff\\xa9\\x10qi\\n\\x04fN\\xa0\\xf3\\x9d.\\x9c\\x9c\\x9c\\x0c\\xfa\\'\\xfd\\x9a\\x8a\\xbe}\\xfb\\xc2\\xd9\\xb3g9y\\xbfx\\xf1\"=\\xdf\\'\\xaf\\xd1\\xb5=\\xb2\\xce\\xf7\\xf2\\xf2\\xa2}\\xb5m\\xa3\\xa0\\xa0\\x00&M\\x9ad\\xd4>\\xda\\x89\\x8a\\xd0\\xffM\\x9d\\xfe\\xd7\\xde\\xb9\\x06\\xd5Y\\xed\\xd1\\x7f{}5\\x80d`\\t\\x07\\xff\\xadb$\\xce\\xf7\\xb7\\x16M\\x00\\x86\\x89\\rl\\xc1\\x1cl\\x11\\x13&\\xb3LQBu\\xbd\\x18[\\xf0.D^\\x9a\\x0cA\\x99\\xe3\\xe95\\x11]\\xcc\\x9c9\\xd3\\xa0\\x7f\\xd2\\xaf\\xa9 \\xc7\\xaf!\\xefuuu\\xb0c\\xc7\\x0e\\xea\\x96\\xebvI\\xdf\\xf0\\xf0p\\x95\\xeb\\x05W\\xaf^\\x85q\\xe3\\xc6\\x19\\xbd\\x8f\\xf6\\x85\"p\\x92\\xdf\\x80\\x995\\xb5x\\xac?\\xd4\\xe0\\xb0$\\x1a\\xaa\\xb3\\xdbC\\rr7\\x1bk\\x00R\\x87\\x19\\xa8\\xcfjK\\xf9+\\xaba\\x1dP\\xf1WV\\x87\\xe7\\x0ce R\\xb6\\xb0|k\\xd1x`P\\xcf\\xc1$N9`\\xfcOz\\xa4\\xfd\\x0f\\x1c8\\x90\\x9e\\x97\\x19\\xf2\\x1f\\x19\\x19i\\xf2\\x18d}K\\xae\\x07\\xfd\\xe7?\\xff\\x81Q\\xa3F\\x99\\xb4\\r\\xfb\\xc2B\\xf4\\x7f\\x1d\\x9ck\\xee\\x91\\xfb{\\x1a\\xfe\\x0b\\xcf\\xf7\\x83;\\xe8\\xbeZ\\xc9\\x7fmVc\\x06\\xa8\\x7f\\xe4Af\\x1b\\x92\\x81\\x9d\\x86\\xfc\\x87\\x15\\xaf8\\xb7\\xb5h\\x1chf@-\\x07b\\xdd9\\x88+\\x98\\x82\\xfe\\'BP\\xe68Z/u\\xe1\\xec\\xec\\xac\\xf7\\xbd\\xaf\\xa8\\xa8\\xa0\\xef\\x9d:\\xe7\\xcf\\x9f\\x87\\xdf~\\xfb\\x8d\\xce\\xb9\\xfb\\xf7\\xef\\x87\\xd0\\xd0P:\\x97\\xf4\\xeb\\xd7\\x8fn\\x97\\x0b~~~t\\x0cC\\xebO\\xd2\\x97\\x0f\\xc3\\x87\\x0f\\xa7\\xd7\\x10M}\\xbdS\\xc1ep\\xaa\\x92\\xa3\\xff\\xbb\\xe0Z\\x7f_\\xa5\\xf6\\xcf\\xad\\xab\\x81?\\xb3;4\\xf8W\\xd4\\x80Z\\xb6\\x06\\xd4)\\xd5\\x80\\x07L\\rx\\x885`\\x88>\\xff\\xc1%\\xeb\\xbfMD\\xff\\x894\\x03\\xa6\\xe5 \\xae`2D]\\x9a\\x00\\xc1\\x99c\\xa9\\x13]\\x18\\xf2o,dm\\xb5{\\xf7nz]\\x99l_\\x1f\\xa7N\\x9d2\\x98=\\xe2\\x8e\\xf4mIrOt\\x82\\xe3\\x7f\\xb8\\x81\\xd7\\xf5\\xf30\\xbb\\xaeN\\xa5\\x06\\x84_\\xff\\t\\xfe\\xcc\\xe9\\x00\\xb7s\\xda\\xd3\\x0c\\xd4p\\xab\\x01\\xd9;%~:\\xd7\\x82~e\\xa1\\x9f$\\x16\\x8d\\x05\\x06\\xd3r\\x10W0\\x89\\xf5?\\x86\\xce\\x85\\xba \\xd7[\\xc8{mn\\xee\\xdc\\xb9\\x03\\xbbv\\xed\\x82!C\\x86h\\x1dw\\xe8\\xd0\\xa1P]]\\xadw\\x1bIII\\xb4oKs\\xf6DG\\x10\\xfe\\xda\\x11J2\\xad@|\\xae\\x1b\\xec-M\\x83\\x85\\xe4\\xef\\xd8a\\x0e~\\x14.\\x85[\\n\\xff9\\x9ck\\x00\\xfew\\x07w]\\xfe}*\\x12\\xe2\\x13\\x8b\\xc6\\x00\\x83i9\\x88+\\x98\\x88\\xfe\\xc7S\\xff666:quu\\xa5\\xefuSA\\xd6\\xe1\\xe4\\xfcN}\\\\\\xf2\\xfdO\\xfa^G\\xae\\xfd\\x8e\\x1f?\\x9e\\xf6mi\\x14\\xfe\\x8b\\xd1\\x7f\\xe5\\x99\\x8eP\\x85\\xc8\\x913\\x97\\'C\\xf9\\x99\\x97\\xa8\\x7f\\x13j\\xc0\\x8d\\x1d\\x12\\xff\\x17\\xb5\\xf9_W\\xb9\\xc3\\'Q4\\x0643\\xc0=\\x07\\xf1B\\xe2\\x7f\\x1c\\xfa\\x1f\\xdd\\xa2\\xfe\\t\"\\x91H#\\x03dm\\xae\\xef5\\x17.\\\\\\xa0\\xfd\\x1e\\x05r\\xff\\xdd\\x11\\xf2O\\xa1\\xff,\\xe2\\xdf\\x8a\\xfa\\'\\\\Gn\\xa0\\xf7\\x9b\\xc8-%\\xff\\x8a\\x1ap\\xcf@\\r\\x90\\xe7\\xbe\\x96\\xac\\xcd\\xbfW\\xd5G\\xf3\\x13E\\xe8Z4\\x9a\\xc1\\x84\\x1c\\xc4\\x0b\\'@\\xd4E\\xf4\\x9f1\\x1a\\x06\\x0c\\x18\\xa0\\x93Y\\xb3f\\xd1\\xf7\\xbb\\xa9\\xc9\\xc9\\xc9\\x81A\\x83\\x065\\x8c\\xbbs\\xe7N\\xbd\\xfdO\\x9e<I\\xfb=\\n\\xe4\\xfe\\xdb\\x8a\\xfa\\x97\\xa1\\xff\\n%\\xffr\\x9a\\x81F\\xff\\x8a\\x1aP\\xcd\\xa1\\x06\\xdc\\xcfjw\\x0e\\xcf\\xf5_\\xd7\\xe6\\xdfC~pr\\xa2h\\x1c$\\x89F!\\xa3M\\xcaA\\xbcp<\\xfa\\x1f\\x8b\\xfeG\\xd1\\xf3,]\\xcc\\x9e=[\\xaf\\x07r~\\xf6\\xfb\\xef\\xbfk\\x85\\xd4\\xf6\\x1b7np\\xce\\x00\\xb9\\x87\\xaf\\x18\\x97\\x9c3\\x18:\\xef$\\xfd\\x1e\\x05\\xce\\xa0\\xff<\\x85\\xff\\xdc\\xc6\\x1a W\\xab\\x01\\x7fr\\xac\\x01\\xd5\\xd9\\xcf\\x1eE\\xf7V\\x02\\x1d\\r\\x7ffMj\\xf86\\x91-2\\x8ae4$)(\\x1a\\xc32V\\x89q\\x14&\\x0f\\xe3!A8\\x0e\\xa2\\xd1\\xff\\xe6\\x0c[z\\xdc\\xe9\\xc2\\x90\\x7fr\\x1fV\\xdf\\xeb\\xc9\\xfa\\x8e\\\\\\xbb\\xff\\xe5\\x97_8\\xcd\\x03\\xa4?y\\xdd\\x87\\x1f~\\xc8k\\xdc\\xe6\\x84\\xf1oE\\xfd\\x97\\xeb\\xf1\\xaf\\xa8\\x01wt\\xd4\\x80zDx\\xde:\\x9e\\\\\\xe3\\x13\\xe8i\\xf8\\xf3\\x17\\xc85<\\xc6\\xbf\\xadI9H\\x10\\x8eE\\xffc\\xd0\\xff\\xc8&\\xf5\\xaf\\x0c\\xb9\\x06o(\\x03\\x8b\\x16-\\xa2}\\xc9\\xb5{C\\xf7gH\\xbfG\\x81\\x1c5\\xff\\x15\\xb9\\xaa\\xfe\\x15\\x19\\xb8\\xa5\\xa5\\x06\\xdcU\\xd4\\x80\\xacv\\xf5\\xc7\\xf2\\xe7-\\x13pl\\xb1\\x12\\xa7\\xfa$\\xd1H`\\xb0Ub\\x14\\x8b\\xfe\\x1clA\\xff1\\x17G\\xa3\\xff\\x11\\xf4^\\xa7.\\xe6\\xcc\\x99\\xa3\\xd7\\xc3\\xe7\\x9f\\x7fN\\xfbq\\x85\\xcc\\x0b\\xfa\\xb6\\x97\\x9c\\x9cL\\xfb\\x05\\x04\\x04\\xe8\\xed\\'\\x14\\ni\\xbfG\\x81\\x9co\\x18\\xffR%\\xff\\xfaj\\x80\\xc6\\xb9`V\\xfb\\xeb\\t\\xc5\\x11\\xe3\\x04F\\xb4(\\xd9|Yr\\xd1\\x08\\xd8F\\x19\\xc9b\\xab\\xc4(\\x16\\xe2_Ac\\x0e\\xb6\\x08\\xc7\\xa0\\xffQ\\x10\\x921\\x82\\xd6\\\\]\\xb8\\xb9\\xb9\\x19\\xf4O\\xfaq\\xc5\\xd7\\xd7W\\xef\\xf6\\x8e\\x1e=\\xcai\\\\\\x02\\xb97I\\xfa\\xb64\\xd9\\xe8\\xff\\x1a\\xf5\\xdf\\t\\xcar\\xd9\\x0c\\xa8\\xfb\\xd7\\xb2\\x0edk@\\xde\\xfa\\xca}\\xbd\\x05F\\xb6\\xb0\\xe2\\x95\\xb9\\xc9\\xa2\\xe1\\x90,\\x1aA\\xd9F\\x19\\xc9bx^\\xd8\"\\x1c\\xcd\\xfa\\x1fN\\xaf\\xb5\\xe8\\x82<Gk\\xc8?\\xe9\\xc7\\x15C\\xf3\\xc9\\xcf?\\xffL\\xfb\\r\\x1b6\\x0c*++\\xf5\\xf6\\xdd\\xbbw/\\xed\\xdb\\xd2P\\xff\\xffg\\x05\\x12\\xf4_\\x9a\\xab\\\\\\x03\\x94\\xce\\x03\\xb5\\xd4\\x80\\x9b9\\x9d\\x7f\\xf0\\x94\\x1f|V`B\\x0b*\\xf59\\xc1\\xf8\\x1f\\x0e\\xa6\\xe4`K\\xfe(\\xf4o\\x8b\\xfe\\x875\\xab\\x7f\\xf2\\x1c\\xb6\\xbe\\xed\\x91u\\xa2\\xa2\\xef\\x91#G\\xf4\\xf6\\xbdu\\xeb\\x16L\\x9b6\\x8d\\xf6mI\\x88\\xff\\xab\\r\\xfe\\x99\\x1a`h\\x0e\\x10\\x9e\\x7fc\\x0f\\xae\\xe3Z\\x0bLl\\xbe\\xe5\\xe1\\x1f\\'\\x17\\r\\x03\\x86\\xe1J\\x8c\\x00.\\xf3\\xc2V\\xa1-\\xfa\\x1fI\\xfd\\x0f\\x1b\\xa6\\x9by\\xf3\\xe6\\xe9u\\xf0\\xc5\\x17_\\xd0~\\\\\\x89\\x8a\\x8a\\xd2\\xbb\\xbdc\\xc7\\x8e5\\xf4]\\xb1b\\x05\\xfd7}\\x90{L#F\\x8c\\xa0\\xfdM\\x85\\xacq\\xf8l#\\xfb\\x9bN\\xd4\\xbfX\\xc9\\xbf\\xb6u \\xa9\\x01\\xe8\\xff\\xe1\\xc9k\\x8e\\xde\\x02\\x9emCERt\\xb2h(PL\\xc8\\x01\\xf1\\x1f{q\\x04\\x84f\\x0c\\xa5\\xf7PtA\\xfe\\x16\\x8b!\\xff\\xa4\\x1f\\x17\\xc8\\xfd\\xd5k\\xd7\\xae\\xe9\\xdd^jj\\xaa\\xcak\\xb8<\\xfbA\\xea\\x04\\xb9\\x7fG\\xfa\\x1bK\\\\\\\\\\x1c}\\xae\\xcc\\x98\\xdfC\\x9d,\\x85\\xff\\xecNP\\x92\\xab>\\x07(g\\xc0\\xaa:M\\xb2\\xd1Q`\\x86\\xb6\\xaer\\xb7w\\x8ah\\x08\\x10\\x92\\x15\\x14\\re\\x19\\xa6\\x91\\x89m\\x94\\x11\\rl\\x15\\x8e@\\xff\\xc3\\xd0\\xff\\x90f\\xf1O\\xae\\xd5\\x7f\\xf7\\xddw\\x9c\\xbe\\xf7]\\xf9u\\xa4\\x06\\x90\\xe7;\\x0c\\xbd\\x8e\\x9cW888pvF\\xd6\\x8e\\xe4\\xf3\"\\xca\\xdb\\xd8\\xb7o\\x1f\\xfd\\x99\\xb1\\x10\\xffW\\xd0\\x7fQ\\x83\\x7fm\\xeb@+\\xb1\\x7fy\\x9a\\x8d\\xc0L\\xcd\\xabj\\xbf\\x1b9\\xf6SD\\x83Y\\xb4\\xe5`\\xa8\\xce\\x1cl\\x15\\x0eG\\xffC\\xd1\\xff`Z\\xfbta\\xc8?Y\\xaf\\x93k\\xf7\\xda \\xcf\\x8e\\x92g\\xea?\\xf8\\xe0\\x03())\\xe1t\\xfd\\x87\\x1c\\xc7\\xea\\xfb\\xf0\\xd5W_\\x19|m=\\xbb\\x1e\\xf8\\xf8\\xe3\\x8f\\xe95km\\xbf\\x8b\\xad\\xad-\\xcd\\x13\\xa9\\x17\\xba\\x9e%MHH\\xa0}\\x8d\\x81\\xf1\\xdf\\x89\\xfa/\\xcee2\\xa0<\\x07\\x94\\xe5>\\x93\\xe5Uu\\xe0e\\x81\\x19\\x1b\\xae\\x1d\\xc6\\x13\\x97)\\xa2A,\\\\s\\xc0da\\xabp\\x18\\xeb\\x7f\\x10}\\xcfu\\xb1`\\xc1\\x02\\xfa\\xbe4\\x07\\xd1\\xd1\\xd1Z\\xf7a\\xc2\\x84\\t\\x06\\xe7\\ru\\xa4R)}~\\xe0\\xc4\\x89\\x13\\xb4\\xee\\xe4\\xe6\\xe6r\\xba\\x16MjMHH\\x08\\x1d\\x97+\\n\\xff\"\\xe2\\xffl\\xe3\\x1c@2 <\\xdf\\xed3t\\xd5^`\\xe6\\x86\\xdb|;\\x11\\xcf\\xe9SD\\x03Y\\xff\\xc6\\xe5 Q8\\x14\\xe2.\\x0eA\\xff\\x03\\x1f\\t\\xff\\xc4\\x0fY\\x1f\\xe8\\xda\\x0fR\\xaf\\x8b\\x8a\\x8a\\x9ae_Hm\\xf0\\xf6\\xf66\\xc9\\xbf\\xec,S\\x03p\\x0e\\xf8\\xff_\\xae\\x8c\\r3t-\\xd7\\xd4\\x86\\xdb}\\x86\\xdc\\xc7O\\x11\\r`3\\xa0+\\x07\\x83!YK\\x16\\x18\\xff\\x83!,c\\x00\\xad\\x8b\\xbaX\\xb8pa\\x93\\xbf\\xdf\\xe4\\xf9;\\xf2\\xd9\\\\2\\x9e>\\xc8\\xb3H\\xa4\\xaf9\\xc64\\xf4\\\\\\x11\\x99\\'\\xc8\\x98\\\\\\xc8D\\xff\\x97\\xa9\\xff\\xce\\n\\xff\\xb5\\xfbE\\xcb\\xe7\\x0b\\x9a\\xb8\\xc5I\\xa7\\xd7\\xa6\\xa2\\xffT\\xd1\\x00N9 5AA\\x92p\\x08\\xc4_\\x1c\\x04\\xe1-\\xec\\xff\\xca\\x95+\\xf4\\xb9@\\xae\\xef5YW\\xfc\\xf0\\xc3\\x0fM\\xb6?\\xe43\\xcd$gd,\\xce\\xfeO*\\xfb\\xef\\\\\\x11V\\xb6e\\xa4\\xa0\\x19Z\\x94l^Q\\xaa\\xc8\\x06\\x18\\xb8\\xe7\\x80\\xd4\\x81\\xc4\\xfc\\xc1\\x10wa \\x1e\\xff6\\xb4\\xee\\xea\\xc2\\xd0\\xf5\\x1a>\\xcf\\x7f\\x91{\\xbcdn\\'\\xe3\\x18K`` \\xc8d2\\xb3\\xed\\x0fy\\x0e\\x9c\\xdcs\\x1a;v\\xac\\xd1\\xfb\\x92\\x81\\xfe/\\xa1\\x7fa\\xf6s\\x17\\xbd\\xab>\\xea!h\\xa6\\x16Z\\xec\\x9e\\x9d*\\xea\\x0f\\x8c\\x7f}9\\xd0\\xccBR\\xfe \\x88\\'\\xfeO\\xf7\\x87\\xd1\\xa3G\\xeb\\x84\\xdc\\x8f3\\xa7wR\\xbf\\xf7\\xec\\xd9C\\xe7s\\xb2}>\\x90\\xec\\xc4\\xc4\\xc4\\xd0\\xe7\\xf6\\xd5\\xc71\\xe6\\xb3Bd\\x7f\\xec\\xec\\xecL\\xde\\x0f\\xe2?\\xeb\\x97\\x97\\xbf\\xb5O\\xf7y^\\xd0\\x8c-\\xb0t\\xe3\\xb1\\xd4\\xc2~\\x90Z\\xd8\\x1f\\x8c\\xcdAR\\xfe@\\xf4?\\x00\\xc2\\r\\xf8\\'\\xcf\\xff\\x93\\xf3%S8t\\xe8\\x10=\\xc6\\xb7m\\xdb\\x06\\x9b6m\\xa2u\\x9el\\xb3) \\xeb\\xd4\\xed\\xdb\\xb7\\xc3\\xaf\\xbf\\xfe\\n\\x12\\x89D\\xebg\\xc3\\xc9\\xbf\\x91\\x9a\\x91\\x91\\x91A\\x9d\\x93\\xef\\x05!\\xc7;\\xdf\\xb1?\\xfa\\xcaz\\xdf\\xf3}\\xba\\x12\\xf7m\\x04\\xcd\\xd8|\\xcb\\xa3\\xf6nG\\xff\\x8d\\xf4\\x87\\xed\"\\x82\\x8d\\x12\\x03(L\\x1e\\x066\\xb0\\r\\xfd\\'\\\\\\xb0\\x81\\x88\\xd3\\xfd\\xe8\\xf7\\xa5\\xfc\\xd3 \\xb5\\x81\\\\\\x0f\"\\xd7v\\xc9=\\'\\xb2\\xbe$\\xff\\xd6\\x14c\\xa1\\x8a\\xee\\xc83\\xcd\\xed\\x7f}Erd\\x1azO+\\xec\\x0b\\xdas\\xa0\\x99\\x05E]\\xd8\\x96?\\x00\\xfd\\xf7\\xff\\xc7\\xfaoNZ\\xca\\xff\\xda\\xaa=\\x9e\\xdbY\\xff\\x8dp\\xcbAr\\xbe\\r\\xeb\\xbf/\\xad\\x81\\xa6bal\\x8b\\xf9\\xf7\\x94\\x7f:;\\xb5\\x10}\\x16Z+\\xd1\\x97E-\\x07jsCr~\\x7f\\xd8\\x82\\xfe#O[\\xf3\\xfe\\xfd\\x9ftZ\\xca\\xbf\\x87<}4Y\\xcb\\xa5\\x15\\xf6a\\xb1VBQ\\x0f\\xb4\\xcf\\r\\x8c\\xff~\\x10\\x95\\xd9\\x87\\xf7\\xef\\xff\\xa4\\x83*\\xba\\xb6\\x90\\xff\\xde\\xe4\\x1eoZ\\xe1;\\xac\\x7f\\xee9H\\xc9\\xef\\x07[/\\xf5\\x85\\xe8lk\\xfa\\x99g\\x0b\\xa6\\x83*^E\\xc8w\\xf8\\xb4\\x164cC\\xff\\x1d\\x12\\xc5\\x13`\\x07\\xfa\\xdfA3\\xf0\\x0e\\x8b\\xfe\\x1c\\xa4\\xb1\\xfe\\x93.\\xf7\\x85\\xf8s\\x16\\xff|A\\x15/ \\x1d\\x90\\xa7\\x05\\xcd\\xdc\\xe2%\\x8e5;\\n\\xdf\\x86F\\x94\\xb3\\xa0\\xbb&l\\x17\\xf6\\x85\\x94\\xbc\\xbe\\x90x\\xc9\\x9a\\xde\\x9b\\xb7`:\\xa8\\xc1\\x8a\\xad\\xfdO\\t\\x9a\\xb9EI\\xe7\\x17\\xec(x\\x0b(F\\xe4`{\\x815\\xa4\\xe6\\x93\\x0cX\\xfc\\xf3\\x85uO\\x8e\\xfdV\\x82fn\\xa1\\xc5\\xabN\\xef(\\xe8\\r\\xd4\\xbf\\xc1\\x1c(g\\x81\\xc9\\xc0v!\\x93\\x83\\xd4|k\\x9a\\x85\\xe4\\xbc\\xbeJ\\xf4\\xc3ub?\\xbaVl\\xc4\\x86\\xb2\\x8d2\\x80e\\xa0\\x12\\x83X\\xc85f\\x16\\xe1\\x10\\x96\\xa1\\x94\\xb4k\\xbd`\\xe7\\xd5\\x9e\\xb0\\x0b\\xd9\\x8d\\xec\\xb9\\xda\\x03\\xf6^\\xe9\\x01\\xfb\\xaet\\x87\\x8f\\x90\\xfd\\x97\\xbb\\xc3\\'\\x97\\xbb\\xc1\\xa7\\xc8\\xc1K\\xdd \\xfdRW\\xf8\\x0c9|\\xe9u\\xf8\\x02\\x89\\x91\\xae\\x05\\xaf\\xca\\x03\\xc8A$\\x1d<+\\x0f!\\x9f!\\x87\\x91\\xcf\\xc1\\xa3\\xf2\\x0b\\xe4K\\xe4_\\xb0\\xba\\xf2\\x7f\\x90\\xaf`u\\xd5\\x11\\xe4(\\xac\\xaa:\\x86\\x1cG\\xfe\\x17\\xdc\\xab\\xbe\\xa60\\xff\\xff\\x18\\xfd9\\xe9K^G\\xb6A\\xb6\\xe7Uy\\x88\\x8e\\xb3 \\'\\xa9\\x17\\xebY\\x99\\xd6\\xac\\xf7\\xa7Z\\xc2=i\\x01e\\x01GvR\\xff\\xcah\\xcb\\x81\\xae\\x9a`\\xadc\\x9d`\\xcau\\xc5AJ\\x0cfi\\xbc\\xe7\\x98R\\xc4\\xb0\\xab\\xe0\\r\\xd8-\\xec\\x05\\x1f {\\x91}\\xc2\\x9e\\xf0Q~O\\xd8\\x9f\\xdf\\x03>A\\x0e\\xe4\\xf5\\x80\\x83y\\xdd!\\x1d9\\x84\\x1c\\xbe\\xd6\\r>G\\xbe\\xbc\\xf6_\\xf6\\xae\\x04,\\x8ac[7\\x8f(jn\\xae\\xbe\\x18c\\x02\\xc8\\xa2\\xa2Qbb\\xf6\\xe4\\xde\\x1bq\\xc1\\x1d\\x15\\x85\\x88\\xa0\\xc6h\\x8c\\xec\"nA@\\x01\\x97\\xa8Q\\x13Y\\x14Y\\x8c\\x82+\\x8a[\\xd6wo\\x9e\\xef31,j\\\\#\\xdb\\xec,a\\x9b\\x05dW\\t\\xe7\\x9d\\xea\\xe9\\x9e\\xe9n\\x86\\x81\\x01\\r&\\xb1\\xbe\\xef\\xa7\\xe7\\xf4Lw\\xff\\xa7\\xfe\\xd3U\\xd5LM\\x1d+HC\\x9cD\\xc4(\\xe6\\x82\\xbf\\xfa\\x10\\xe20\\xe2\\x08\\xf8\\xa9\\x8f\"\\x8e!\\x8e#\\xd2\\xc0W}\\x02q\\x12\\x91\\x0e>\\xeaS\\x88\\xd3\\xe0\\xa39\\x838\\x0b\\xde\\x9as\\x88\\xaf\\x10_\\xc32\\xcd\\xd7\\xcc\\xebs\\xda\\xf7\\xd5\\xa7\\x98\\xe3\\xd2\\xe8\\xf3\\x91s\\xe3u\\xee\\xe2X\\xeb\\xbf\\xa8G\\xb0\\xac,\\xdd\\x14\\x17+\\x1a\\x0c,\\x0c\\xc6\\x81\\x89}C\\xfbq\\xe0\\xd8F\\x1cp\\xd1:&\\xd8\\xef\\x1f\\x89\\xfe{Ev\\x10\\x8f\\xda\\'p\\xf4O\\xce\\xb7\\xa5\\xf5?\\xc0\\xd1\\xff0\\r\\xd4\\x1fq,\\xcf\\x9a\\xd6\\xff\\x04\"=\\xd7\\x12\\x12\\xa4\\xcem\\xc7\\x80\\x06c@\\x831\\xa0A-5\\x18\\x03\\x1a\\x8c\\x01\\x8d0\\x06\\xbe\\x04o\\xa1\\xfe\\x9aS\\xf41~\\x1a\\x9e\\xfeb\\xea\\x11-\\xfe\\x15\\xf1^\\xa8{m,\\xd6)7\\x0eb\\x1fj\\x1c0\\x90\\x8cdbA\\x1f\\x13\\xc2\\xef\\x9f\\xb8\\xdf9\\xb0q\\x10+\\x1a\\x0e{\\x18\\xfd\\xf7uZ\\x7f+8\\x851p(\\xffU^\\x0c\\xf8w*\\x06\\xbelO\\xff\\xff\\xa1\\x1e\\xe1B\\xe6\\x02\\x05\\x96\\xc7\\x04\\xa0F\\xb9\\xda8\\xb0o#\\x0e\\x8c\\xf7\\r\\xd1\\x06c\\xa1uL\\xe8\\xff\\xc78\\xa2\\xcd8\\xd8m$\\x0ebD#[\\xe9\\x9f\\xc8\\xe8O\\xfa\\x80\\x03L\\x1f\\xc0\\xb6\\xff\\\\\\xfd\\x8f\\xe7i\\xf5?\\xc9\\xe8\\x7f:\\xc7\\x12N\\xe4\\r\\xebr\\x0c\\x90\\xd7d?\\xf9\\x8c\\x01\\xfd\\xf7Q\\x7f\\x80B\\xe6\\x9ayW\\xa6\\x8c\\xdf,w9\\x851p\\x9f\\x1f\\x07\\x1d\\xed\\x1b\\xb4\\x88\\x16;\\x18\\x89\\x076\\x16:\\x17\\x07\\xbb\\xc5/\\xa2\\xfe\\xf6\\xba\\xfe?\\xc1\\x88\\xfet\\x1b\\x90kM\\x8f\\x01\\x8e1c\\x00\\xa1\\xfe4rmQ\\xa7\\xd4N\\xc7\\x00_\\xff\\x13x\\xccq\\xba?!\\xe7\\xf3S\\x1d\\n\\xa1\\xfe`\\x05c\\xc1zUi\\xc4&\\xd4\\xb7L\\x18\\x07\\xdaX`\\xc1\\x89\\t\\xf1P\\x0e\\x0c\\xc5\\xc1\\xb0\\x07\\x12\\x07B\\xfd\\xf7\\x15\\xd8vj\\x0cH\\xc6\\x00\\xa7\\x99\\x188\\x9b\\xf3<\\xc2\\x1a\\x02\\xe8\\x188\\xc4\\xc4\\xc0\\x11&\\x06\\x8e\\xb5\\x1b\\x03\\xc6\\xf4\\xf7U\\x1d\\xf2\\xa0\\xfe\\xa0\\x05\\xe3\\xa0\\xa7oE\\xf2\\xbc\\x9d\\xd2\\xb7.\\xc6b\\x9b\\xab\\x85\\xbe\\x8f\\x88\\xe1\\xa1\\xbd8p\\xe8D\\x1c\\x8c4\\xf8\\x1d$i\\xff\\xf5\\xfa\\x9b\\xf2\\x0c`mP\\xff3\\xa8\\xff9\\xc4\\x97\\x88@\\xd5\\x01^\\x7f\\xd0:\\x06N0:sc\\xe0\\x0c_\\x7f\\xb5^\\x7f\\x1fe\\xea\\x9b\\xd4\\x9f\\xa0`,\\xbc\\x1cV\\xec\\x9d\\x80\\xda\\xd7\\xf1\\xe3\\xc0\\xbe\\x0bmB\\xfb\\xdf;\\xd0s\\x14$\\x04\\x8e:\\xc4\\xd1\\xfa\\xe3\\xb3?\"\\x81s\\xff\\'\\xe7\\xdb\\x18\\x1c\\x03\\x1ea\\xfa\\x7fCc\\xc03\\xf4\\xfdo\\xa9\\xd3\\xff\\xab\\xdb\\xcfW.W\\x1d\\xb8@\\xda\\x82\\x00\\x8c\\x83\\x00N\\x9f\\xe0O\\xfau\\x1a\\xe4\\x1eO\\x07?^\\x0c\\x9cB\\xfb$\\xfd\\x9e?\\xea\\x1f\\xa0>B\\x1fO\\xd6\\\\\\xa6\\xfeD\\x05\\xfd\\xe9\\x1bX\\x1e\\x1d\\x84\\xf7h\\x81\\xf16\\xa1\\xeb}C[c\\xc5\\xd6\\xfa\\xdb\\xa0\\xfe6\\x8c\\xfe\\x83P\\xffA\\xad\\xf4\\xd7=\\x03\\x18\\x18\\x03\\x9ee\\xfa\\x80T\\xd1[\\x87p\\x0c\\xf4\\x0c\\xc9\\x95\\x17\\xa0J\\xf9\\xc2`\\x0c`[\\xe0\\x8b\\xfa\\xfa\\xaa\\xd3\\x98g}\\xe6\\xff\\x03\\xf4\\xb3\\xbfV{\\xf29r\\x0c\\x1e_C\\xfdI\\x0b3^\\x9c\\xb8Y1\\xe3\\x0cj\\xdf,l\\x13L\\xeb\\x1bL\\x1b#\\x10\\xfd\\xf7\\x88\\xb4\\xfa\\xefc\\xf4Od\\xf4\\xdfO\\xf4G\\x1c\\xa4\\xf5\\xb7\\xc6\\xf6\\x1f\\xc7\\x7f\\xa8\\xf9Q\\xc4\\xb1<+\\x83\\xcf\\x00gr\\xac\\nW\\x97n\\x9f*\\xf4\\x0fc`G\\xc7b \\x9dA+\\xfdoQ\\x7f\\x81\\x82ue\\xb3\\xaat\\xc3\\x16\\x1c/\\x96?\\xdc\\xbeA\\x1b\\x03q\\xa2!]\\xd0\\xdf\\x12\\xfb\\x00K\\xd4\\xdf\\x12\\xf5\\xb7\\xfa-^2)\\x0e\\xf9?\\xd5\\x96o\\xfe\\xaa\\x94\\x10\\xd4\\xb1\\xa5\\xfd\\x188iH\\xff/\\xa9\\xbfP\\xc1z\\xb4\\xc0\\xf1\\xa2\\xd7N\\xe9\\xdb\\x19\\xe4\\x1e\\xd5\\xc2\\x9e\\x01\\xff\\xffK:\\x88\\x87r\\xe0\\x00\\xb1\\x82\\xff/\\xc5\\x88\\x87s\\xf0\\x02\\x8dX\\xd10f\\x0c\\xa8\\xd5?\\x81i\\xff\\xf7\\xb3\\xed?\\xd1\\x1f\\x91\\x92\\x8f\\xfa#\\x0e\\xe7[\\xf3\\xee\\x7f\\xa2\\xff\\xf1<\\xdb\\xdc\\xa0\\xf2\\xd8\\x0e\\xad\\x9b\\xe3\\xa7L]\\x8aZ6\\xb7\\x1e\\x0f\\xe03\\xbe\\xe68gL\\x90F\\xdb\\x1c\\xfd\\xa3\\xa9\\xbfh\\xc1X\\x18\\x1d^\\xbc,\\t\\xb5\\xaf\\xe7\\xc7\\x81\\xf0y\\xb2\\xa3q\\xa0\\x8f\\x05\\x83\\xfa\\x17\\xe8\\xfb\\xff/\\x8c\\xeb\\x7fo\\x87|\\xde&\\x12\\xab&\\xb8C\\xf9*S\\xddP\\xcf&\\xe31\\x90\\xa6\\xb5\\x99\\xb1\\x9f\\xbf*5\\x88\\xfa\\x8b\\x17\\xac\\xe7~\\x81\\xe5\\xbb\\x83?\\x17;\\x8a\\x0c\\x8d\\x17;\\xd2&\\xc4\\x18\\x88\\x05\\xbe\\xfe\\xb6:\\xfd\\xf73\\xfa\\x1f`\\xf4Oe\\xf4\\'}@j\\xbe\\xc3\\x15\\xff\\x8a\\xa4\\x97\\xa8N\\x16|\\x96\\x9b@\\xc6t\\xc6b\\xc0_\\xad\\xd7\\xdfO\\x95:\\x8bz\\\\\\xb8\\xe3\\xc5\\xc9\\x9b\\xe5.\\xe7Z\\x8f\\x17\\x07\\x9b\\xd8&8\\x18|\\x06H\\x16\\xf4\\x01:\\xfd\\xf3\\x06\\xd5G\\x15\\xf9\\xad\\xee\\xca\\x9a9l\\xf1\\xa9L}\\x03c@\\xd5V\\x0c\\x10\\xfd\\xd9g?\\x8c\\x97Q\\xd4\\xe3\\xd2\\xaa\\xa0\\x0ev8^\\xdc\\x8a\\xe3\\xc5JC\\xe3\\xc5\\x8e\\xc4AG\\xf4\\'}@\\x92\\xf8\\xe5\\xf3>\\x95\\x07\\x07S\\x0f\\xb0\\x905T1\\x06\\x8a\\x0c\\x8d\\t9}?\\x18\\x1bW>.\\xecx1i!\\x8e\\x17\\xb3M\\x1d/\\xee1\\xf0\\x0c\\xc8\\x1d\\x03\\x1e\\xcc\\xb3\\xa9\\n)Y\\xf7\\xe1C\\xfc\\r\\xbd\\rj\\x9c\\xc7\\xc6@\\x80.\\x06t\\xfa\\xab\\xa8\\xc7\\xc5\\x94\\xfa|-\\xbc\\xf8\\xa3\\xfd\\xa8}CG\\xc6\\x8b\\xc6\\xf4\\x8f\\x95\\xbcs\\x06\\xfb\\x1aK\\xea!\\x17\\xf2\\xbf\\xbd\\x00u\\xca\\x15\\x04\\'\\x06\\x8e0\\xafS.S\\x8f\\x8b\\xc9\\x85\\xacO\\x8c\\xe3\\xc5\\xd5\\xbb\\xc5\\x8e\\x12cq@\\xdek\\xfd\\x0ch_\\xb6\\xb2t\\xeb\\x1c\\xeaw,\\xa4\\x8d\\x0fP\\x1f<\\xaf\\x8d\\x01\\xb6- \\xdb\\x944\\xeaq\\xe9t!s\\xa6\\xb0\\xdf\\x9e\\xbaE\\xee\\xf25j\\xff\\x9b\\xb0o [\\xbd\\xfev-\\xdb\\xe5S\\xbf\\xc0c\\xfe\\x9b\\xea\\x86B\\xfa1\\x8c\\x81\\xd3\\xda\\x18`\\xff_\\x98\\xb2\\x9dz\\\\\\x1eT\\xfd\\xda\\xe3x\\xf1\\xd3X\\xd1P\\x95>\\x0e\\xec\\x98>`\\xa8,\\xb0<f\"\\xd5\\xcdE\\xfb\\x9d\\xc1\\xc1d6\\x06\\xfcU)>\\xd4\\xe3\\xf2@\\x0bY\\x0b\\xcb\\xaf\"\\xf1\\x83\\x1d\\xd2w.a\\x0c4\\x87\\x15{\\xef\\xc2}}\\xa8G\\xa4\\x90\\xb1&\\xea\\xfe)\\x89\\x01_e\\xead\\xeaqyh\\xe5Q\\xfe^\\x15\\xb5_\\xe3S\\x99:\\x8cz\\x04\\n\\x90\\x92E\\xfe4E\\x00[\\xcc\\xc9\\x9f\\xc8\\xbe\\xac\\xd9lF\\xfePf\\xac\\xddD^]\\xa0([\\xc6VP\\xe4m\\x8a2g\\xecH*\\x02\\xf7a\\xd1\\x9e\\xb1\\x85\\xa2\\x9cZ\\xe8\\x8bi\\xcf\\x88\\x1f\\xb5Up\\xae^\\x8d6m1g\\xbc\\xa0g\\xa7%\\xc2\\xa1\\x1bA\\x9fN_\\xf0\\x8cM\\\\\\x9b\\xa2O\\xc7\\xb3/\\x08l\\x8ao7\\x0bl\\xfe\\xe9\\xcc@!\\xb0#\\x056\\xc5\\xb7\\x05\\xa73\\xaf\\x16\\xd8\\n\\x81\\xcd?\\x1deAu\\xcd\\xeek\\xa2m\\xdbE\\xdbIhG\\x1a\\xb7#\\xbah\\x83i\\xb6Y\\xbb\\xf6\\x05\\xa3\\xb6\\xb9\\x89\\xb6E\\x17\\xed\\xbe\\xed\\xd8\\x16\\x82p4o\\xc76k\\xc7\\xa6\\x84vD;\\xb6\\x93\\xc0\\xb6m\\xc7\\xee[m\\xdc\\xb6\\x10\\xde\\x1f\\xed\\xd8f&\\xda\\xe6\\xed\\\\\\xcf\\x96\\x7f\\xbbSN\\x02;\\xa2\\xa9\\x9d\\xe6\\x81o[\\x08\\xec\\xbe\\x02\\xdbV`;\\t\\xec\\x88V\\xad\\x19\\xcf6\\x07~se!\\xb0\\xfb\\nl\\xdb\\xee\\xb7[L\\xb1\\x9d\\xf8\\xb6\\x13\\xf0\\xed\\x08\\x036\\x08\\xed\\x0b\\x02\\xbbI`\\xb7\\x08l\\xce\\x01\\x11lw\\xc4\\x14\\xa6\\xf7\\xd3\\x1a\\xd6\\xac\\xcd4!N:[\\x1b\\xf2\\xb8\\x1b8\\x07\\x90\\x96\\x84\\x18,E\\x0b\\xba\\x97\\xd4\\x96\\x0b\\xb4T\\xd5:\\xbb\\x89\\x89\\x04\\xd6n\\xa1\\xb94\\x9b\\x81\\xfe\\x00|\\xdd\\xa2\\xb7\\xab\\x89\\xf2\\xa0\\xb7\\x9b\\xe9\\x9e5JgC$\\xa9\\xba\\x1f\\xf4\\xb6\\x82\\xb8V\\xa8\\xb7\\x7f#\\x7f\\xee\\x92?/\\xe0\\xb5F#Hr 3\\xca\\x8ev%\\xd2\\x81z`\\xc5\\xbb2ed\\x88b\\xe1w\\xa1\\xf2\\xb9K\\xa8N\\x8c\\x97\\x97\\xa8\\xce\\xbd>\\xb7&\\xf7\\x13\\xb7Zq\\xae{\\xad$on\\xcd/Q\\x1f\\xaaN\\xbdH=\\xe4\\x82\\xd7~fUq\\xf0\\x1e\\xe4}?T\\xee\\x01\\xeb\\x14\\xf3\\x1a\\xd6)\\xbc^\\xa1\\xda)\\x1f)\\x8f=1\\xef\\xce\\xf5\\t\\xee\\xb5\\xe2X\\xb7ZI\\x91[\\xad\\x14\\xdc\\xead0\\xa7N\\x8eP \\nav]\\x11n\\x8b\\x89?Q\\x8b\\xd5_\\xbd\\xf8\\xa0\\x7f\\xb7\\x1fX\\xb63,L\\xeeQ\\x13&\\x9f\\x07\\xa1\\nO\\x84\\x17b\\x01\\xfa\\xb0@\\x1aR\\xb8\\xa4U\\x0e\\xf8\\x85U\\x17\\xfb\\xbcW+rE>\\x07\\xddk\\xa5jw\\xe4\\xeb\\x86|\\xdd\\x90\\xaf\\x1b\\xf2u\\xd3\\xf2E\\x94\\xc0\\x9c\\xfa_av})\\xa2\\x0cQ\\x0e\\xae\\xf5\\x15\\x88\\xca\\\\|/j\\x91\\xe6?\\x9d\\xf6\\x85h\\xed[\\x91\\xec\\x19*\\xf7*\\xe4\\xf3\\x9e\\xcfp_\\x88x\\x1f\\xd6\\x15~\\xf0\\xa5\\x7f\\xd9n\\xb3\\xb95yOc\\x1d\\xbf\\x8f|O\\xbb\\xd7\\xca\\xea\\xddM\\xe3\\x8bP\\x82k\\x83\\nf5\\xa8\\x11\\x1aD\\x15\\xccl\\xa8F\\xdc\\xc9u\\xadWG-\\xac\\xba\\xe0h\\x02\\xf7\\xb7?.\\\\\\x96\\x85u\\x0ea\\xf2\\xd6\\xbc\\xd7\\x16\\x05\\xc0\\xfc\\xaaLx\\xafF\\x0cX\\xc7\\x08\\xe9M\\xe4{\\xdf$\\xbe<\\xae,\\xdf;Z4\\xd6 jaFc\\x1d\\xa2\\x1e\\xd1\\x00.\\x8d\\x8d\\x88\\xa6\\x9c\\x19\\r\\xf5\\x91^\\xd5\\x97\\x1d\\xdb\\xfa\\x8e\"\\xf8\\xd7\\rG\\xc3\\xe5\\x1e-\\xe1X\\xe7aX\\xe7a\\xc8;\\x0cy\\x87\"\\xef\\xe0_\\xa3\\x90+\\xe1,\\x05}L\\x18\\xe3\\xdbv\\xdd\\xce\\xd2\\xd6-\\xa25\\xd7\\x19Z\\xae\\x88\\xbb\\xe0\\xd2t\\x0f\\xa67\\xddg\\xd0\\xccB.\\xe0\\xdd\\xcf\\xbf|\\xcfV\\xe4\\xdc@\\xf3&u.\\xf5\\x84\\x10\\xb1\\x17\\xac- \\x98\\x8fX\\x00+E\\xcb`\\x8e\\xf2\\x17\\x98\\xad\\xcc\\x05WU\\x01\\xccRI`\\x96Z\\x063\\xd5rD!\\xa2\\x08f\\xa8\\x8b\\x11%0C\\xf3+\\xa2\\x14Q\\x86(\\x07\\x17\\x1a\\x15\\xe0RU\\x89P\\xc2\\xf4*\\x15B\\x8d\\xd0\\xc0\\xb4\\xaa*D5L\\xab\\xbe\\x03\\xd3j\\xea`Z}\\x13Lo\\xe4\\xf1\\xe5afc]\\x12\\xc3\\xfb\\t\\xef\\xca\\x83~\\xa1\\x85\\x0b\\x95\\xe1\\x8ay\\x10^\\x88\\xf5]\\x88\\xb1\"\\xf3\\x82\\x8fE\\x9e\\xb0\\xf2\\x96\\x07\\x04]\\x9d\\x0b\\xcb\\xaf\\xcc\\x85\\xc0+\\x1e\\x08O\\x98)\\xfa\\x11f\\x882\\xc1E\\x9c\\r\\xd3\\xc5\\x97\\x11Wa\\xaa\\xe4:L\\x91\\xdc\\x82)\\xd2\\xdb0Y\\x9a\\x8b\\xc8\\x87I4\\n`\\x92L\\x04\\x13eb\\x84\\x04!E\\xc8\\xc0Y&\\x07g\\xb9\\x02Q\\x08\\x13h\\x14\\xd1p.\\xfa\\x15&\\x95)aj5\\xf1\\xe1n\\x9b\\xfc\\xbd\\xee\\\\\\xf5D\\xeeS\\xd6\\x16\\x07\\xe7\\xacG\\xde\\xeb1\\xbe\\xc3\\x0b\\xe7#\\x16 \\x16B\\x88d\\x01\\xac\\xba\\xe5\\t\\xfe\\x17\\xdd`\\xe9\\xbf]a\\xc97\\xb3\\x10\\xae\\xb0\\xf8\\x9b\\xd90\\xf9\\x874\\x98\\xf8\\xe3ip\\xfe\\xf1,8_\\xfc\\n&\\\\\\xfc\\x16\\xc6\\xff\\xf4\\x1d\\xe2?0\\xee\\xa7\\xff\\x85\\xb1\\x19\\xff\\x07N\\x19?\\xc0\\x98\\xcc\\x8b\\x88\\x0cD&\"\\x0b\\x91\\r\\xeff^B\\\\n\\x13c\\xae\\\\\\x87\\xf1y\"\\x98\\x8c>L\\xab\\xc1\\x98oj6\\x84\\x96e\\xca\\xa3\\x03\\xd7+<\\xeb\\x10\\xc8\\xd7K\\xc7;\\xac\\xf0}\\xc4\"\\xac\\xfb\\x85\\x10tm\\x1e\\x98\\x99\\x99u\\x0b&\\xa2\\x0e\\xd3\\xaa\\xeb\\xda\\xe0\\x7f\\xff\\x17\\x8a\\x1e\\x88{\\x88\\xd6c\\x9d\\xafG\\xde\\xe1\\xc8;\\x1cy\\x87\\x17~\\x00\\xa1E\\x8ba\\xadx\\x11\\xc6\\x8c\\'\\x98\\x9b\\x9bw\\x0b\\x9c\\xe5Em\\xf2\\x9fS_\\x11\\xad\\xe5\\xff\\xde\\xc5\\x08\\xc5|\\x1d\\xef0\\xe4\\x1dV\\xb4\\x04\\xf1!\\xf2_\\x8c\\xfc\\x17@\\x8f\\x1e=\\xba\\x05\\xc6\\xf8/\\xd2|?\\x83\\xe6/wO\\x8fP\\xb8a\\xec/\\xd2\\xf1\\x0e+Z\\x8a\\xf5\\xff\\x11\\xf2\\xff\\x08\\x96\\xff\\xfc>XXXt\\x0b&\"\\xff\\xe9\\xc8\\x7fFS\\xb3\\x10\\xcdd>>\\xe1\\x1f\\xa9p\\x8f\\x8d\\x92\\xcf\\x86(9\\xfaP\\xb8\\x14\\xb9/CxCX\\xb1\\x0f\\xac\\x95x#\\xff\\x0f\\xa0w\\xef\\xde:\\x98\\xb2\\xce-\\xf9|W\\xd0\\x16\\xff\\x99\\x8dMYl\\x9b\\xbfA1/|\\xa3|\\x16\\xf2wE\\xb8#w\\x1f\\x08-\\xf6E\\xf8!\\x7f_\\x08\\xfcy\\t<\\xf9\\xe4\\x93:\\x98\\xc2\\x9f|\\xbe+h\\x8b\\xbfG\\xadh\\x0b\\xcb?\\xbch\\xc9\\x87\\x9b\\xe43`\\x93|&\\xc2\\x156\\x92>\\xab\\xd8\\x1f\\xd6\\x15\\x07\\xc2\\x1a\\x89?\\x04^]\\nO=\\xf5T\\xb7\\xa0-\\xfeKU\\xe9\\x13X\\xfe\\x1f\\x97\\x04\\xb9l\\x96OG\\xee.\\xb0I\\x81~(f\\xd1q\\x14Z\\x1c\\x04k\\xa4\\x01\\xc8\\xff#\\xe8\\xd7\\xaf_\\xb7`\\x12\\xf2wA\\xfe3\\x9b\\x9a\\xb9h\\xe4\\xe6\\xc6XU\\x1a\\xf1\\xfa\\x16\\xf9T\\xd8\"\\x9f\\x86\\x98\\xce\\xf80\\x13\\xc2H\\xfdK\\x97C\\xc0Uo\\xe8\\xdf\\xbf\\x7f\\xb7\\xc0\\x10\\xff\\xd9\\rw\\xces\\xc7<\\x81\\xe5\\xbb\\xad>\\x91O\\x86O\\xe4S@\\xef\\x87\\x0blF?\\xd6H\\x83 \\xe0\\x9a/\\x0c\\x180\\xa0[`\\x88\\xff\\x82\\xea\\xecP.\\x7f\\x1c\\xdb\\xf7\\xd8&s\\x86\\xad\\xf2I\\x88\\xc9\\x88)\\xe8\\xcbT\\xc4t\\xd8\\x98?\\r\\x02\\xaf\\xf9\\xc1s\\xcf=\\xd7-\\x98\\x8c\\xfcg \\xffYM\\xcd:,\\xab<\\xfc6%(\\xdbd\\xe3*\\xb7\\xc9&\\xc06\\xd9D\\x9e\\x1f\\x1b\\xf3\\xa7@H\\xf6$\\xb0\\xb2\\xb2\\xea\\x16\\x08\\xf9\\xcfil\\xaa&\\xdf7\\n\\xf9o\\x979\\xfd\\xb2]6\\x16\\xf9\\x8f\\x07\\xad\\x1fD\\x8f\\x89\\xb0)\\x7f\\x12\\xf2\\x1f\\x0f666:\\x90\\xb5\\xaeY\\x10\\xbb\\xa3\\xb0\\xb7\\xb7\\x87\\x15+V\\xd0\\xb9\\x16I\\xae\\x0bv\\x1dtb\\x93\\xfc\\xacC\\x86\\x0ciu\\x8c\\x90\\xffz\\xe5\\x0f\\x15g\\xf2=Z\\xcd\\x8d\\xdb!}\\xf7{\\xb2&\\xdd\\xa72\\'\\xc48\\xd8\\x8e~lG?6\\xe7\\x8d\\x87\\xd0\\xec1`gg\\xa7\\x03\\xb7}\\'vG@\\xd6\\xdb\\xbev\\xed\\x9a\\xd1\\xbe\\x82\\xac\\x07?n\\xdc8\\xdeqB\\xfe\\xb7o\\x8d\\x81\\xe6\\x8c\\x9e\\xbb\\x85\\xfc\\x91\\xfb\\xa1\\x1d\\xb2\\x7f\\xc1\\x0e\\xd9\\xbb\\xc0\\xfa\\xb1\\x1d\\xfd\\xd8\\x927\\x16\\xc2\\xb2\\xfeE\\xd7\\r\\x0b\\xee5\\x89\\xdd\\x1eH\\xae(\\x92\\xe3\\x8a{\\\\II\\t\\x9d\\xfbF\\x98\\xdb&##\\x83w\\xecd\\x05\\xf2\\xbf\\x83\\xfc\\xef6\\xd3\\xb8\\x9b\\xd9\\x13\\xeeg\\xf4hN/\\xf0|\\x8d\\x17?\\xf2q;w\\xca\\xfe\\x81\\xfc\\xff\\t\\xc4\\x8fO\\x89\\x1fr\\'\\xf8$\\x7f\\x0c\\x84g\\xff\\x03\\x1c\\x1c\\x1ct\\xe0^\\x8f\\xd8\\xed\\xe1\\xc4\\x89\\x13\\xba\\xcfWUU\\xd19r\\x86\\x0f\\x1f\\xae{\\x9f\\xac\\xb3}\\xe3\\xc6\\rz\\x8d\\x7f\\xb2.2\\xf7\\xd8)\\x0c\\x7fW\\xe4\\xee\\xd5\\xa0\\xa1s\\xdd\\xdf\\xcb\\xecI4\\xb8\\xca\\xbd\\x0f\\xb6\\xca\\xa7\\xae\\xdc%{\\x1bv\\xc9\\xde\\x01\\xe2\\xc7N\\xf4c\\'\\xfa\\xb15\\xef\\x9f\\xb0>\\xfb\\x1d\\xfaz,\\xb8\\xfcI\\x9e\\'\\x16\\xa9\\xa9\\xa9t|\\x93\\xdc\\xfc\\xecg\\xc9:}\\xdc5\\xe1\\x03\\x02\\x02\\xe8\\xfdB\\x90c\\x08w\\xe1\\xfe)\\xf2B:~\\\\1v\\x12\\x8b\\xf7BCVO\\xad\\x06\\x99= M\\xb4p\\x05\\xcb\\x7fc\\xa1\\xc7\\x82\\xcf\\xa4o\\xc2.\\xe9[\\xc0\\xf5c[\\xde;\\xb0!\\xeb-\\x181b\\x84\\x0e\\x1d\\xc9aE\\xd6\\xb5\\'\\x9f]\\xb7n\\x9dn?\\xa9_\\xb2\\xcf\\x14L\\x95\\xcbu\\xf5_\\xf2\\xb35\\xd4e[@\\x13\\xfap\\x0f\\xd1\\x9c\\xd9\\xb3\\x165 k\\xd8Ra\\xc5\\xbe\\x13>\\x93\\xbe\\n\\x9f\\x91\\xdcbt\\x0eI\\xf4E\\xf6\\x16l\\xcf{\\x13\\xf9\\xbf\\x06\\x8e\\x8e\\x8e:p\\xb9VVV\\xd2\\xa8\\xa9\\xa9\\xe1\\xedW*\\x950v\\xecX\\x88\\x8d\\x8d\\xd5\\xed#\\xf9\\xdc\\xc8\\xf1\\xa6\\xe0\\xbb\\xf3\\xaf\\xc0B\\x95\\x14\\xe65\\xde\\x81\\xeaK\\x16P\\x9bm\\xa1\\xd5 K\\xab\\xc11\\xf1\\xa2\\xb3\\x84\\xff\\xea\\xd2\\r\\x8e\\xbb\\xa5\\xa3a7\\xfa\\xf09\\x8d\\xd7\\x11o\\xc0\\xa7\\xb9\\xafCd\\xd6+0j\\xd4(\\x1d\\xb8<\\xd9}D\\x7f\\x92\\xf3\\x8e\\xe4\\x17g\\xdf#\\xf9\\xeb\\xe2\\xe2\\xe2t6\\xb9\\x0f\\xc8gM\\xc1\\xf5o{A\\xd1O\\xbdAu\\xb9\\x17T]\\xea\\x055\\xc8\\xbf^\\xaf\\xc1=\\xd5\\xe5\\x81\\xf4\\\\\\x93\\xc0\\xf2\\xe8\\x01\\xd1d\\x8d\\x0c\\xc9\\xcb\\xa0\\xf7\\xe35\\xd8\\x91\\xfb*Df\\x8e\\xe6\\xe5\\x9d\\xe7\\xf2\\x17\\xe6\\xa4\\x0f\\t\\t\\xe1\\xe5F$9\\xcdX\\x9b\\xe4R35\\xc7\\xfd5\\xe4_\\x88\\xfc\\x95\\xc8_s\\xa9\\x17W\\x03eC\\xd6\\x93\\xbc\\xef\\x18\\xa3%/\\xde\\x8d\\x96\\x8c\\x02\\xae\\x1f;rG#\\xff\\x97xy\\xb3\\xb9\\xfc\\x859\\xb5\\x83\\x83\\x83u\\xef\\x91|\\r$\\xcf/\\xf7\\xfe\\r\\n\\n2\\x98\\x8b\\x9b\\xdc\\xbb\\xa4\\x8f\\x10\\xee\\xbf\\xfamo\\x90g\\xf4\\x86\\x8a\\xcb\\xbdAM\\xf3\\xa75\\xb8q\\xf3\\xc6Kv\\x94\\xa0\\xc4HF\\x16\\xc7\\xe8~\\xaf\\xfe\"\\x10_v\\xe6\\x8c\\x82\\x8d\\x99#yy_\\xb9\\xfc\\xb9\\xfbI\\xce\\x8c\\x9b7o\\xea\\xde#y0\\xc8~\\xd26qs\\x15\\xaeY\\xb3\\x86\\xce\\x1f\\xc9\\x1e\\xb7x\\xf1b:\\x1f\\x12\\xc9W\\xc7\\xddO\\xf03\\xc3\\xbf\\xfc2\\xa3Av\\xaf\\xf4xY\\xe0\\xdf(\\x03%N2\\xfcJ\\xac\\xe4\\x05\\x88\\x95\\x8c@\\x8c\\x84\\x18\\xb2\\xdes\\x8e#l\\xca|\\x81\\x97\\xb7Px\\x9f\\x12\\x10^\\xc2\\\\h$\\x074\\xf9<\\xd1\\xa0\\xa8\\xa8\\x88\\xf7>\\xc9\\xebH\\xfa/\\x92s\\x83\\xbb?))\\x89w\\xad+\\xdf\\xf5\\x06YF\\x1f\\xc2\\xbf\\xa5\\xf2R\\xef\\x88\\xe0\\xf2\\xf86\\xe7t\\xc7\\x8a\\x87\\x7f\\x15\\'\\x1e\\x06\\xb1\\xe4wb\\x8c\\x1f\\x9f\\xe5\\x8c@\\xfe\\xc3yy\\x97\\xc8u\\x8c\\xa1\\xba\\xba\\x9a\\xce\\x13\\xc4=\\x86\\xe4 io\\xfcPQQA\\xf7m\\xdc\\xe3.!\\x7fiF\\x9f\\xda\\xb2\\xcb}\\xda\\x9d\\x9b\\x1a#\\x1d\\x91\\x1c\\'\\x19\\nq\\x12\\x07\\x04\\xfa!\\x19\\x8e\\xfc\\x87\\xc3\\xe6L\\x07^\\xde\\xa0[\\xb7n\\xb5\\x02\\xe1F\\xf2\\x16\\x926\\x87\\xe4\\xa12\\x94o\\x88\\xc48\\xb9\\x9f/^\\xbcH\\xb7\\xb9\\xac\\xaf\\xe4x\\x92\\x13\\xdd\\xd9\\xd9\\xb9\\xd51Y\\xdf\\xf4)\\xfa>\\xfd\\xefoP\\x1d(\\x9fKGo\\xdc#\\xb1\\x87=\\x92\\xc1\\xa0\\xf5c(|\\x9e3\\x14\\xb6d\\x0e\\xee\\xb6\\x1c\\x0b\\xb3\\xe7>M\\xbe\\xb7\\xe8P\\x1e\\xc5\\x1d\\xf2w\\x03\\xf6\\x8ama\\x8f\\xd8\\x0eX?v\\xe7\\x0c\\x86m\\xd9\\xf6\\xdd\\xb9F\\xf8\\xc0\\x8e\\xf2\\xdf\\\\\\xe8\\xea\\x16/\\x1e\\x04\\xf1b\\x1b\\x84-\\xecE?brma\\xe7U\\xdb\\xee\\\\\\xe3\\x98\\xcc\\xcb\\xed\\xd9\\x11\\xfe\\xe1\\xc5>\\xff\\xdc\\'\\xb6\\x82}bk\\xd0\\xfa1\\x08\\xf6\\xe4\\xdb@\\xf4m\\x9b\\xee\\\\\\xa3\\xb5WG\\xd7g^U\\x1a5t\\x9f\\xe8y\\xa0!\\xb6\\x04\\xe2\\xcb^\\x915\\xfa0\\x08bs\\x07\\xd1~D\\xdf\\xb6\\x85\\xe8\\x1c;\\x84=\\x1d[\\xbbs\\x86 \\xc8}\\xe2\\x00\\x9f\\xe7\\x0e\\xc3\\xd7\\xc3 \\xfe\\xd6\\x00H\\xba9\\x00\\x0e\\xdc|\\x06Ro\\xf4\\x87\\xa3\\xd7\\xfbC\\xda\\xf5\\xa7!\\xa0d/\\x04\\x94&\\x80\\x7fi2\\xf8\\x95\\x1d\\x00\\xdf\\xb2T\\xf0);\\xca\\xac;\\x9a\\x86\\xf6az?\\xf9\\xcc{\\x17\\xb6\\xbc\\xc4\\xd4{\\x87\\xd7\\x97\\xf5\\xabH|2A\\xf4,$\\x88\\x06\"\\x9e\\xe3\\xf9\\x11O\\x83\\xd5\\xc5\\x06\\xc8}\\xb2Wb\\x07{\\xe9\\xfbd\\x08b(\\xc2\\x81\\xc6\\xfe\\x82g\\xe1 \\xe2p\\xfe\\x008\\x96\\xf7\\x0c\\x9cD\\x9c\\xce\\xeb\\x0f\\xe7r\\x9f\\x86\\x15\\xcaD\\x08R\\xef\\x87\\xe5\\xea\\x14\\x08\\xd4\\x1c\\x82\\x00\\r\\xf9\\xfd\\xdc\\t\\xf0\\xafJ\\xc7\\xd7\\xc7!P}\\x08\\xdfO\\xbe\\x8f\\xe3\\xcaN\\xad\\x89\\x8f\\xc7\\xbd\\x81~\\xecG\\xfe\\r\\xac/\\xfb8\\xbe\\x18\\xf7c0\\x8d\\xe4\\x02\\xac{\\xc4!\\xe4\\x7f\\x14\\xb9\\x9f@\\x9c\\xa2\\xf9\\xf7\\x87\\xafs\\x9e\\x86U\\xca\\xf8\\x1a\\xf4\\xe1\\xb7\\xe5\\xea\\x03\\xe8C*\\xe3C\\x1an\\x8f\\xd1~\\x05\\xa9\\x92\\xbb\\xbc\\xee#\\xf9\\x1e\\x0c\\x11\\x84\\xcf0\\xf9\\x86\\xfc`\\xef\\x93}\\xe8\\xc7>\\xe6~\\x8f\\xc7\\xfb=\\x1e}I\\xa6\\xeb\\x9f\\xf0\\x7f\\x06\\x8e\"\\xd2\\xf2\\xb5\\xfc\\xcfj\\xf9\\x9f\\xff\\xeev\\xffA\\xc1\\x95\\t\\xee+\\xd4I\\x8dz\\x1f\\x8e\\xd0X\\xae>\\x08+T\\x89\\xdfP\\x0f\\xf4\\xb7\\x9f\\xa9\\xe3W\\x96nJO\\x14\\r\\xbc\\x87\\x80D\\xf4#\\x01\\xfdH@?\\x12h?\\xact~\\x10$\\x89\\x9e\\xa5\\xeb?U\\xc7\\xbf?\\xa4\\xe7\\xf5oB\\xfe+w)<u\\xeb\\xa9\\x06\\xa9\\x12\\xc7\\xa0\\x0f\\x9a \\xf5\\x17t\\xbd/\\xd7\\x90\\xd89\\x80\\xf5\\x9f\\xb4\\x8bz\\x08\\x05\\xfd\\xb0\\xf4\\xaeL\\x89\\xc0X/ID\\x8e\\x89\\xcc}\\xc2\\xfa\\xc2j\\x92$\\x1aH\\xf3OA\\xeeG\\x08\\xff\\xbc\\xfe7O\\xe6\\x0f4\\xf8{\\xd0@e\\xd2\\xc8\\x15\\xea\\xc4B\\xad\\x0f\\x07\\x81l\\x03\\x94\\xfb\\x1f\\xea\\xfcq\\xedw\\x95\\xa9s6\\x14\\x7f\\xf8=\\xfa\\xd1\"\\xf4\\x83\\xe8\\xf3\\x05\\xe1_0\\xe07\\xe4\\xbfs}\\xc9J\\xa3\\xbf\\x97G\\xbe\\x96\\xe8\\xc3Mr_\\xafP\\'\\x83Oe\\xcax\\xeaw*\\xe8\\xc70\\xbc\\xdf?K\\x14Yj\\xb4\\x9a<G\\xd7\\xff\\xfe\\xfcg\\x8b\\xf6\\x8b\\xec\\xc7u\\xf4<~\\xca\\x03\\x7fG\\x1f\\xcec<\\x01\\xfbL\\xfb{\\x162\\xb7\\x03\\xb1d\\x87|\\xec\\xe5\\xe4\\x82\\x81G\\x82\\xcb\\xb6\\xf7\\xa3L,X\\xef=W\\xa8\\xf6%\\x9a\\xfa\\xbbGh\\x8eh\\xea\\x8b=\\x1dT;] \\x93^\\xe1\\x82\\x8dv\\x0e\\x14\\xa5\\x9d\\x85\\xcaN\\xabb\\xa7[\\xb1\\xf3\\x00#)\\x03\\xc5\\xac\\x9d\\xady;[\\x8b\\xd6\\xdbHc[sfk&\\xd8Rml\\xf1}zV\\x989\\xb3\\xb5`\\xb6}\\x99\\xad\\x13\\xb3\\x8d0mk\\x0e\\xdaz\\xb1\\x00m=Y\\x00]o\\x7f\\xb3\\xa0\\xeb\\x93\\x1aCo\\xab\\xa9\\x08z\\xdbb\\x06[\\xc9\\x166A\\x16n\\xc9<-\\xf209\\x96;O\\xab_\\xe7\\xda\\xda\\xe0\\x92P\\xcfP\\xf9\\xdc\\xeb!\\x8aEv\\xc6>7\\xbf:\\xf3\\r\\xf7Z\\xf1\\'n\\xb5\\x92\\\\\\xb7ZY\\xae{\\x9d$j\\x91\\xe6\\xdf\\x9d\\x9e\\xe3\\xe3W\\xbe\\xe7\\xed0\\xb9G\\x96~\\x8e\\xcc\\x82\\x9fW\\x17\\x07\\xe9\\xda\\x8d\\xc5\\xeao\\x9fx\\xaf\\xb6\\xc0\\xd9\\xbdV\\x12\\xe7^++\\xe6\\xcf7!sMt\\xf3Lr\\xe7\\xd4\\x97G-\\xac\\xba\\xd8!.\\xd8\\x1e\\xdb\\xe0\\xf5\\x8e\\x86\\xc9\\xe7\\xb5\\xb0ss\\xc8\\xbc\\x9c\\xd5E\\xcba^\\xf5\\xf5$\\xbc\\xdel\\xf7Zi\\x8a{\\x9d\\\\\\xdd\\xc6\\xf5\\x98y-\\xec\\x9c\\x16\\xce|\\x96\\xc6\\xda\\x1cD\\xa4\\xe7\\x9d\\xeb\\x8e\\xad\\xaf\\x9b\\xdaom\\x91\\xff62O\\x85\\x9d[C\\xe6\\xd5\\xcc\\xad)`\\xe6\\xd4\\xb4\\xe9\\x1fg\\xce\\x8fv\\xfe\\x8c~\\xee\\x8c~\\xde\\x8c~\\xce\\x8cn\\xbeL\\x16s\\xdd\\'\\x96\\x97m\\xf7\\x0bWx(\\xc9\\x1c\\x93uROX\\x9d\\xe3\\x01\\xc17\\x107\\xbd`\\xb6\\xe22\\xcc\\xfa\\x7f\\xf6\\xae=\\xbc\\x89j\\xdb\\xefi\\xd36)\\xc5\\xd6\\xd2\\x16\\xaa`+\\xf2\\x12Z,\\x05K\\x05y\\xa4y\\xb4\\x814\\tI\\nT\\xabC\\x9a\\xa6mh\\x9a\\x84$-P\\xc0\\x16\\xe4\\xe9\\x05=\\xe2\\xf5\\x08\\xca\\x11\\xee9\"\\xde\\xa3\\xa2^\\xf5\\\\\\xf9D\\xe5\\\\_(\\x0f\\x1f\\xa0\\xd0JKy\\x15Z\\xa0\\x17EOy\\xc9\\xdc\\xb5\\xf6d\\x92I\\x1f\\x88\\xc0\\xf9\\xbe\\xfb\\xc7\\xd9_W\\x92\\xfd[\\xaf={\\xef\\xd93\\xb3\\xd6Nsd/\\xa7;\\xfa\\r\\x97\\x7fl?7\\xf5\\xd8\\x01n\\xca\\xb1zn\\xca\\xf1\\x06Ns\\xfc\\x10P\\x13\\x97w\\xfc0\\x97w\\xe2\\x08\\x97{\\xe2(\\xd0q\\xa0\\x13\\x9c\\xfaD\\x0b\\xa7n9\\xc9\\xe5\\xb6\\x9d\\xe5\\xa6\\x9c\\xef\\xe8f\\xaf\\xc8\\xe5\\xff\\xb2\\xb7n\\xc8[\\xd4\\\\\\xf8\\x1d\\xbf\\xd7\\xe2a\\xba\\xcf\\xc2\\xf7\\xddC\\\\\\xe9\\xfb\\x06\\xee\\xd17\\xb4@\\xf9\\x9cz\\xdb\\x9f\\xb9\\x9c\\xed\\xff\\xc9\\xe5|\\xf0:7\\xf9\\x837\\xb8I\\x1f\\xbc\\xcdM\\xfa\\xf0o\\xdc\\x84\\x0f\\xb7q\\x13>\\xda\\xce=\\xf8\\xd1\\x87\\xdc\\xf8\\x8fvp\\xe3w\\xfc\\x1d\\xe8\\x7f\\x80>\\x0e\\xa1I{\\xbf\\xe5\\xf2\\xda\\xda\\xbb\\xe4\\xea\\xa7\\xfd\\xd2\\xe6z\\x0c\\xf7y\\x84\\xec\\x93\\x98\\xc5y\\xbey\\x98\\x0b\\x0b\\x0b\\xbb\\xa5\\xa4ni\\xed\\xe2\\xdfr\\xf6\\xdd\\xb4\\xda\\xe6\\xe9\\r\\xc2\\xfe\\x0c~\\x8f\\x83\\x15\\xfa\\xfc\\x91[\\xbeg\\xa1\\x1b\\xff\\xa7\\xf0\\x9c]|\\xd8\\xf8qm\\xf3#\\xd4o\\r\\xdd\\x9fP\\xca\\xb9\\xbf\\x9d\\xc5I\\xa5RJ\\x18\\x03\\xc28LO\\x842\\xd7C\\xb9-\\xad\\xa1\\xb9\\xfa\\x0b\\x17\\xb7\\xe0\\xdc[r\\xd8\\xf0\\x1a\\xee3X\\xd4\\\\\\xc2-\\xf0\\xe7\\xe7\\xe7|[\\x12\\xc8\\x95\\xfb|>\\xee\\xa9\\xa7\\x9e\\xea\\x91\\xae7\\xe7\\xde\\xd9\\xff\\x8c\\xf3\\xf5%\\xe8\\xff\\xf1\\xc3\\xf9k\\x85\\xfc\\xf4\\xc2\\xa3\\xb3\\xc1\\xbf\\x93\\x9b\\xb3\\xaf\\x8c\\x8b\\x8d\\x8d\\xbd\\xa5\\x94\\xd7\\xd2\\x1a\\x92\\xef\\xb4\\x9d~\\xe5n\\xf4\\xbf\\xb49\\x7f!\\xe6f\\xf9<\\xb9\\x0e\\xfc\\xbb9\\xf7\\xbe\\xd9\\xb7<g\\xdc\\xc9\\x7f\\x93\\xb0\\xe6<\\xde<\\xcd\\x8ayb>G<\\x95[\\xdal\\xe6\\xdc\\xfb\\x1d\\\\\\xdf\\xbe}o)\\x89\\xfd\\x1b:\\xce\\xbf \\xf8\\xaf=\\xfa\\x88\\x96\\xe6\\x15\\x9b\\xd4\\x81\\x1co\\xd5WE\\xb7<\\xe7\\xa9ii\\r\\xe4\\xdb\\x16\\x9ez\\xa5P\\xf0?\\xff\\x98k\\xcc\\xaa\\xa6I\\xdc\\xca&9\\xcdqb~s\\xd1\\xde\\x1c.%%\\xe5w\\x13\\xe6\\x060>\\x8a9\\xbe\\xce<\\xb1\\xff\\xcb\\x9fJ\\x03\\xf7\\xe2sN.\\xbf\\x93\\xcf\\x8da~o2\\xcdQ\\xd6\\xee\\x99\\x14\\xc8\\xb5}\\xf6\\xd9g4\\xa6\\xa6\\xd1hz\\xcc\\xe5\\xcd\\x9a5+$\\x8e\\x88q\\xb8\\xf5\\xeb\\xd7\\xd3X\\xbf C\\xfd_\\xbc\\xc2\\x19/^\\xe2.}\\x1a\\xd1\\xfeT\\xf3\\xbc\\xbe\\xfc\\xf3\\xf9\\x0b\\x11|^\\x08s[\\x13\\xb8\\x7f;<\\x91[\\xbcw<7d\\xc8\\x10J\\x9f\\x7f\\xfe9\\xb5\\x89\\xbf\\x91\\x8d\\xf5\\xce\\x84\\xb1\\xef\\x8e\\x8e\\x0eJ\\x18\\x1b\\x7f\\xeb\\xad\\xb7h\\x1c\\x16u\\xd6\\xae]\\x1b\\x90\\x9b\\xd2\\xd2J\\xf3U5g?\\xa5y\\x92+\\x9fEn\\x16\\xfa\\xe0\\xc9\\xc6\\xac\\xb6`~j<\\xb7dOv W$\\xf8G[\\x98w*..\\xa61\\\\\\xe4eff\\xd2\\xf8(\\xf21W,\\xe8dddp\\x8b\\x16-\\xe2\\xd2\\xd2\\xd2\\x02\\xd8\\xd4\\x96\\x934\\xdfT\\xff\\xf5H\\xae\\xc3\\x9f\\xa7y\\xf2\\xc8|5\\xa11\\xc6\\xcc}O6\\x8e\\xa69\\xa6\\'\\x9b\\xc6r\\x8f\\xef\\xb9\\x9f\\xea\"\\xed\\xdc\\xb9\\xb3KL\\x16c\\xd3v\\xbb\\x9d\\xb3\\xd9l\\xb4\\xbeo\\xdf>*{-zi\\xb7\\x85+=\\xdfDs\\x15\\x98k\\xf1\\xf7\\xc1.Bs\\x14#\\xdf\\x17\\xe7W\\x96\\xee\\x19\\x15\\xc8u|\\xf1\\xc5\\x17\\xd4Gmm-W^^Nc\\xaa\\xd8\\xd7\\xd8\\x86\\x9a\\x9a\\x1a\\xca\\xdb\\xb6m\\xdbo\\xe6L\\xbe\\xdb.\\xe5\\xda\\xfc\\xf9\\x1e\\xcc\\x95@\\x1f|\\x7f\\xf6\\xcb\\xa4A\\x84\\xe6\\x18\\xd2\\xfe\\xf2\\xf4\\xa1\\xf4@~d\\xd9\\x9e\\x91\\xb4o\\x91\\x04\\xff\\x18w\\x170\\xbc& &\\xe4\\x01q\\xbc1.\\x8d\\xbc\\x9eh\\xdfv>_@\\xf3\\x1d;\\xa3\\xde~\\xf3\\xa0\\xf16a\\xfc\\xd7\\x1e\\x1a\\xb1\\x1a\\xe3\\xeaki~ \\x8d[\\xbe{D V\\x8f\\xf1|\\xf4\\x81\\xe3\\x8e\\xb1d\\x8c\\x85c^\\x0f\\xf3/\\x98\\x03\\x10\\xe6=\\xf6\\x01\\xfe\\xc62\\xb6\\x03\\xe7$\\xc6\\xad1\\xd7\\'\\xd8\\xf9\\x06\\xfc\\x9f\\xdc%\\xbbz\\xfa\\x0b\\xe9\\x8a\\xb9-\\x7f\\x08\\xf9\\xfd\\x94\\xa7\\x1bGz\\x84\\xd8\\xf83\\x8d\\xf7r+\\xf6\\x04c\\xfb\\xbbv\\xed\\xea6.\\xbfi\\xd3&\\xca\\xc7<sSSS\\xb72k\\xd6\\xac\\t\\xd8\\xf9j\\xbb\\xac\\xa3\\xe5\\xcb\\xe8B\\xd2MY\\xdd\\xf4@Q0\\xbe=\\x98[\\xb9{P \\xd6\\xfc\\xf4\\xd3O\\x87\\xfc\\x8e\\xf9\\xe6\\xcd\\x9bi>Y\\x1c\\x8fV(\\x14\\xf4Z\\x88{/\\xf0|\\xc1s\\xd0\\xe9t\\x86\\xc8l\\\\+\\xed\\xf1\\xf9yY\\xb3N\\xc1\\xc7\\xa8\\xf9x\\xd5\\x9a\\xafo}l\\xda\\xff\\x9b\\x94\\xdd\\x96\\x05\\xc7*F\\xac\\x13\\xc5\\xcf\\x9e9p\\xebc\\xb3\\xd7\\xfa=L\\xf7\\xc9U\\x89\\xc18X0\\x96\\x17\\x8c\\xe3\\r\\xf4\\xc7#1\\x872\\x94{\\xa1>\\x89\\xfb\\x0f\\x7f\\x1c\\xef\\xd5\\xef\\xfbp\\xde\\xb6?r|\\xac\\xe5/4^\\x87qG\\xa4\\xca\\xf6\\x979\\xd7\\x99?}@\\xae\\xa3,o\\xce\\x7fb}C\\xd2i>&\\'\\x8e+\\n1E\\xa1\\x1d\\x03\\xb9\\xf5\\r)\\xdc&\\xf0\\xbf\\xf9@\"\\x8d\\x83\\xbe\\x01m\\xa8i]\\x851\\xd0\\x0b\\x18\\xb3\\xa2mh\\xff+\\x8d\\x85\\xba\\xcf\\xbc\\xf0\\x1c\\xf9\\x1d\\xffw\\xa2\\xa2u\\xdd#\\xcf\\xd7\\'}\\x12\\x88\\r\\x06bP\\xc1\\x98\\xe0\\xba\\x86\\xbbh,\\x10\\xe3P\\x7f=\\xd0\\x87\\xdb\\xfa}\\x9f\\x9f\\xde\\xdd\\x1fo\\x99w\\xea\\x89\\xc1\\xee\\xb3\\x1b\\x1a\\xf96`\\xdc\\xef\\xcf\\xe0\\x7f\\xbd\\x87\\xdc\\xe0\\xff\\x07\\x7f\\xa61\\xed\\xb9\\xe7\\x1b\\x92\\xce\\x07c{|,l}C\\x7f\\x1a\\x0b{\\x89\\x8f\\x83}\\xf2\\xfa\\x81~\\x81\\xff\\xc7\\xe58\\xfd\\xa7\\xbe\\xd0\\x86].\\x1a\\xf7\\xda\\x84q/-\\xb9\\xc9\\xdf3\\xf1\\xb5,\\x9a\\r}\\xb2\\x9f\\x8fi%Sz\\xb1>\\xf1\\x12\\xf8_\\xe0kY\\xd6%\\x8e?\\xfb\\xf4\\xc6\\x18\\xf7\\xd9\\xe7\\xff\\xe6\\xe2\\xe3VC\\xc9-*\\xf0\\\\:q\\xfd\\x0f\\xfd\\xb7\\xbcP\\xdf\\xf7\\xeb\\xe7\\x7f\\x18<\\xfaZ\\xb2\\xe0W\\xe2>\\xb3n\\xfdo\\xc5\\xbc\\xb9\\xd8\\x1d\\xb5W#I\\xec\\x05B\\x98\\xe6\\xee\\xe3/\\x8c\\x88\\xc2;\\x11\\xc5\\xeb\\xfcz~b\\xea\\xf8\\xef)\\xc7\\x02\\xa5\\x88\\xa8v\\x07\\xff\\xfd\\xd0\\xda+$\\xa3\\x96#\\xf3j\\xb9#Wj\\x87\\xf9\\x7f\\xb04C\\x14\\xa7\\x98%#\\xd7]\\x9c-+\\x86/\\xfea\\xd2\\x7fW\\x1f\\x9d=\\xab3\\xaf\\xe4\\xf4\\xab\\xf1\\x0f\\x9f\\xfb\\xfcQ\\xe3\\xcf\\xc7\\xb6N\\xbdp\\xf14\\xbc\\xbfZ\\xf4\\xbf\\x9fN\\x87{\\xef^\\xe47J\\xc5\\xa9g\\x12\\x165\\xe9\\x9f]u\\xe0\\xee\\xcb@\\xdc\\xca\\x03\\x83~A_\\xd63o\\xf4\\x7f\\xe8\\xdc\\xee\\n\\xc3/\\xa7\\xb6O\\xb9p\\xe52\\x10\\xd7\\x95.\\xff\\xd2\\x93/x\\xde\\x95\\xf9\\x0e<\\xfcX\\xdd\\xae{\\xce\\xd7~\\x9e\\xc2!\\xb9\\xf6\\xce\\xf8\\xc7\\x8c\\xfa-G\\xf2\\x0e\\x7f_\\xafli\\xbd\\n\\xc4]\\x8b\\xd4\\xf0,\\xab9\\xdf\\x11\\xf0e\\xfa\\xf9(\\xfe\\x9fq\\xc6w\\xccU\\xb8\\xbc>\\xfd\\xc8\\xe2])\\x9c\\xe7\\xed;\\xb9\\xd9/\\'S\\x1a\\x07\\xcf\\xc7\\x0f\\xec\\xf8\\xf8\\xbai\\xe2\\xdeo\\xa9\\x0f\\xe1x\\xf0X\\x1fo\\xc8\\xfe\\x04\\xfb\\x01\\t\\xdb|\\xd3\\xdf\\x01hi\\r\\xd8\\x9f\\xf9\\xe3\\xd7\\xf3W\\x1c\\x1cvJl?22\\xf2\\xa6Hl\\x7fV\\xfb\\xb6\\xfb\\x976\\x8c\\xd9+\\xb6\\x1f\\x1d\\x1dM\\xe9Z\\x05\\xf9=\\x91`\\x1f\\xe6U{i\\xdbK\\xe1\\x8b\\x0fM~Ol\\xfff\\x9f\\x17\\x05\\xfb0\\x8f^\\xc7y\\xf3Xc\\xfeF\\xb1\\xfd\\x84\\x84\\x84\\x9b\"\\xc1\\xfeC\\xe7vU\\xa0\\xfd\\x9a\\xc3\\x85+\\xc4\\xf6\\x93\\x93\\x93o\\x8a\\x04\\xfb\\x96\\xb3o\\xe3)N\\xe6\\x1e\\xb1\\xb9\\xc5\\xf6q\\x1f\\xe7\\xcd\\x10\\xda\\x9fz\\xe1\\xd2\\xf9\\xd2\\xb6\\xcdt\\xfd\\xf5\\x1d\\x9b3Cl_x\\xee\\xc1=\"\\xf8,\\xd0\\xf9\\x99i\\xf8\\xf0\\xe1\\xdc\\x8b/\\xbe\\xc8\\x9d9s\\x86\\xbbt\\xe9\\x12\\xdd+XXX\\x18\\xe0\\x0b\\xed/\\xfcq/\\xddO7\\xe7\\xc4\\xa2\\xc9b\\xfb\\xc2^<,x\\x9f\\xd7y\\x8f\\xde;\\xef\\xbc\\xc3]\\xb9r\\x85\\xfa\\xa8\\xab\\xab\\xa3\\xf7\\xa9\\x88\\t\\xfc\\xe0\\xfc\\xb9t\\x1e\\xd6\\x94\\x01\\xce\\x96UC\\xc5\\xf6\\x85\\xbdfXp?\\x05\\xdec\\xe3\\xb3HYY\\x19\\x97\\x9b\\x9bK\\xf1\\r\\x1b6\\x04\\xe4\\xf0Y\\x0f\\xef\\xf3\\x85\\xbax\\xfe\\x1b\\x7f>\\xf1\\xe6\\xecS\\xcf\\xc6\\x89\\xed\\x0b\\xcf\\x05X\\xf0\\xb9\\r\\x9f\\xaf\\xb0\\x8d\\xd8\\xe6e\\xcb\\x96!L\\xef!{z\\x9e\\x08\\xda\\xbf|\\xa9\\xf0\\xc7\\xdd\\xf4yv\\xd5\\x81\\x81\\x1d\\x82}\\xe1\\xbe\\x1f\\x0b\\xda\\xc6\\xcf\\xb8\\x97\\r\\x0b\\xee\\'\\xb9z\\xf5*\\xb7q\\xe3\\xc6\\x80\\x1c\\xde\\xa3\\xe3>#\\xa1N\\xc7\\xb7\\xa3\\xa3\\xed\\xd1\\xf6\\x0f\\x02\\xfb\\xb9\\x96\\xd7\\xa75\\t\\xf6\\xb3\\xb2\\xb2(a\\xc1g\\xe4g\\x9f}\\x96\\xfb\\xea\\xab\\xaf\\xa8]\\xdc\\xa7\\x88\\xfb\\x96~\\xfd\\xf5Wn\\xcb\\x96-\\xdc\\x13O<A\\xf7\\xe1\\xe2\\xde\\'A/\\xb7\\xb9~\\x7f\\xf1\\x997C\\xe2\\xd9\\xb0\\xc6\\xed\\x14\\xec\\xe3\\xbe-$\\xdc\\x8b,\\x10\\xeeU\\xc3g\\x1e\\xc4\\'N\\x9cH\\xed\\xe1\\xb36\\xce\\x1f\\xdc\\x07\\x89\\xfb8\\x05\\xbd\\xc13&\\xdeE:\\x95\\xbaC\\xca\\xadh\\x1f\\xd7\\xe7\\x7f\\xc6\\xfd\\xf4\\xc2\\xa6i\\xcf\\xa1\\xfd\\xe5\\xfbR\\xff)\\xf7\\xcb\\xdec^\\xc3\\x8a\\x83\\xc3\\x8f\\xa3\\x8f\\xeb\\xa5\\x92\\xb6M\\x8d0O~\\x15\\xe6\\xe2\\xc3\\xe7vZ\\xc95Jy\\xeb\\x8b\\x12\\xdf1\\x8fq\\xc9\\x0f\\x13\\xde\\x07\\xfd\\xab\\xd7\\xb0\\xfd\\xeb\\xc2&\\xf3j\\xb8\\x9eF\\xc1u\\xb6\\x00\\xe6\\xe1\\x85)\\xfc\\xf7\\xaf&\\x90\\xeb,p\\xce\\r\\x01\\x1bO\\xae<8\\xa4]l{\\xf9\\xc1\\x11G\\xe7\\x1c_\\x10\\x92\\xe7c\\xdb\\xb7O\\xc4\\xb5\\xdezfk?\\xf2;\\x8b\\xbd\\xf5y\\x19\\xdc\\x9f\\x14/m\\xc8\\xfa\\xb2\\xb61w\\xf3\\xecS\\x7f\\xec6\\x13c9\\xfb\\xee\\xb0\\x9el\\\\\\x99\\x17K\\xce\\xc1\\x1d\\xd2\\x8en\\xb9L7\\x14,uP\\xaf\\x83\\xdb\\xb5:\\x12%\\xa2\\x14\\xb0\\x95B.D\\xa5\\x90\\xab\\xb1\\x1f\\xd1|Q\\x9c?g$\\xdc\\x87M\\xee\\xe6\\xbf\\x1b\\xaf\\xa3\\xf7\\xe07G7z\\xcf \\xe8\\xdf\\xe8\\xf7\\xde\\x04\\xfd\\x98\\x98\\x18J=\\xed\\xb9C^w$\\xe8\\xdf~\\xfb\\xed7D\\x82\\xfe\\x8d\\xc6P\\x05\\xfd\\x1b\\xbdf\\n\\xfa\\xe2k\\xa3\\xc1`\\x08\\xb9.N\\x9a4\\x89\\xee\\xd1\\xc55\\r\\xaf9\\xb8\\xde\\t<A_|\\xed\\xc3X\\x04\\xae\\x85\\xc3\\x86\\r\\xa3q\\xb6\\x86\\x86\\x06\\x1a3)**\\xe2\\x16.\\\\H\\xe3U\\x82\\xbc\\xa0/\\xc4\\xc4\\xc4\\xe5\\xe0\\xc1\\x834\\xc6\\x83E\\xaf\\xd7w\\x1bC\\x13\\xf41\\xbe\\x87\\x84\\x05\\xf7\\xa9\\xe2z\\xd8\\xd2\\xd2\\xc2m\\xdd\\xba\\x15!zL\\xc8\\xefL\\x82>^g\\x90\\x84k7\\xe6\\x18po)^\\xa7\\xf1;\\x11{\\xf6\\xec\\xa1\\xb1\\xbd%K\\x96p\\xabV\\xad\\n\\xc8\\x0b\\xfa\\xc2>F\\x8cC!\\xa1o\\xdcG\\x8e\\xeb\\xe6\\xb4i\\xd3\\xe8u\\x1a\\xfb\\x0fct\\xabW\\xaf\\x0e\\xc8\\x0b\\xfa7\\xba\\xe6\\x0b\\xfa7\\xba\\xa6\\xa3\\xee\\xcd\\x12\\xb9\\xe9\\xc2\\xd0\\rd\\xfc*3,U\\x82kS\\x9d\\xbf&eH\\x18\\xc9\\xc8\\xe0k\\xaf\\x0c\\xc6G\\xcc\\xd4T\\x7f-\\x0e\\x7f\\xe0\\xba_?\\xbe\\xb6R\\x86\\x97\\xa7\\xb88\\xbeV.\\xb9\\xce\\xcd\\x80\\xff*\\xb7\\xbc\\xa4\\xf9\\x7fp<\\xb0\\x9dt\\xf8d\\xfa\\x96\\xd9\\x83|\\x7f*?\\xf2z\\xb7\\x9f\\xfe\\xab\\xfc?/\\xc3\\x83\\xe3\\xcf\\x84\\x8c\\xbf\\xff\\x1d\\xcb\\x03\\x98c\\xa1\\x81\\xa2\\xef\\xef\\xc2\\xb38\\x81J\\xe7\\xea\\nR\\x15\\xa3\\xc6\\xa6f\\x8f\\x1c52#5\\xbd\\xd2W\\xe5\\xb4M\\xb0\\xba<\\xb6L\\xa8X<\\xd6\\xf2\\tN\\x97\\xd5\\xe5\\xb4\\xa4\\xa6\\x97\\t\\x7f\\xfa\\xcc \\x95:]\\xe9\\xf6\\x12\\x9b\\xd3\\x07\\x1f\\x8b\\xab\\xec\\x8e\\x12\\xbb\\xb3,\\xdda/.\\xb3Zy\\xa6\\xd7g\\xb1V\\xa4\\xbb=.\\x9f\\xcd\\xeasyH\\xcc\\xc8\\x91\\xf7\\x89\\xff\\xbc\\x1e\\xeb} \\x9cN\\xfd\\xdf\\xc7k\\xfa\\xdf2GZ\\x89b\\\\Q%\\x98\\x9c\\x9b=*\\xa3h^v\\x16\\x9b5&\\x1d>\\xa6\\xbb]^\\xfb\\xbct\\xaf\\xad<\\xdd\\xe3c\\xab\\xb3\\xd2=\\xb6\\xea\\x8c\"\\xea\\xbf(`L\\x90\\x9f\\x0bDm\\x8c\\xce,\\xe2\\r\\x93\\x05\\xd8]L\\xa4\\xb5\\xdc\\xe2!\\xe1\\x11\\xd0ca\\xd2(\\x87\\xcbY\\x96J_\\xaa\\x9c^{\\x99\\xd3V\\x92jw\\xfa\\x80\\x13\\x11\\xe4  \\xa9\\x82W\\xb7\\xcf\\xc3\\xfa\\x0835-\\x1e\\x94%s\\xd1\\x10\\xd6\\x8b\\xfb\\xb1h,,\\xca[\\xee\\xf2\\xf8:\\x19\\x92D\\xe0[x\\x15JH\"\\x02\\xf6\"\\xa4\\xd8\\x80\\x08\\xa9\\x9e\\xbe\\xf2\\xdc\\xa8N\\x9aQ\\xdd\\xb4\\x8b\\x91\\x06\\xea\\xf48\\xc2\\xe2$T\\xaa\\xc4UU\\xec\\xb0A\\xbb%\\xc2\\'\\x89\\xa4\\xd4\\xe1\\xb2\\xf8H$\\xcb\\xda+\\xdd,\\xcbV\\x16\\xb3\\xd6*\\x0f[i\\x99G\\xc2\\xbcq\\xeb\\xa9\\xe3~0}\\xa2\\xa4k\\xe0\\xf3\\xbd\\xf0I\\x16O\\xa7Q$\\xeb\\x9d\\xefem\\x1e\\x8f\\xc3\\xee\\x05\\x97\\xaf\\rI\\x0e\\x13@\\'\\xa0$\\xec\\xf5A\\xd8\\xe0h\\xc1\\xb0\\xc5Sf%a\\xc9L\\xdc\\xfaNh5\\t\\x1b\\xc0\\xf4Y\\x18\\x86\\x9e\\x96\\xd0\\xd75b\\x89\\xb9\\xbc\\xc8\\xddL\\xd2F\\xca\\xdcL_\\x9f\\x11\\x89\\xd8\\x9c\\xd5v\\x8f\\xcbI\\xc2\\x86\\xf2f\\x04|n\\x80\\x91\\xc6+\\x0b\\x0cwY%\\x0c\\x12\\t\\xcbd\\xe2\\x97\\x88\\xe5\\x05|,\\x93\\xb8Y\\x84\\xbb\\xbcn\\x87\\xc5W\\xea\\xf2T\\x92\\xb0\\x07\\x99\\xe4!\\xe1\\xd8\\x80\\x8d\\x8cX\\xa0\\xda\\x06jr\\x9e\\x170gwRX\\xdd\\x05\\xae\\xb4\\xcc\\x86\\xd9\\x1e6\\xb5+\\xc3\\xeeD\\x86\\x81gD\\xb2\\x96\\xcabG\\x85\\xd7^C\\xc2\\xef\\xef\\x8b\\x0ea\\x94\\xbc6k\\x95\\xc7\\xee\\x9b\\xcfZ]\\xae\\n\\xbb\\x8dH\\x16%L@\\x8e\\xcb\\xed\\x83\\x8e\"\\x11\\xf7\\xdc\\xb6\\xc6_\\xb5;KH\\xc4\\xa8\\x98*\\x7f\\x15\\xc7$\"+P\\x85?\\x121\\x8eV#\\xa4\\xbd\\xe15\\xfc<uYb\\x99\\xef\\xb0\\x97\\x95\\xc3\\x8c\\xa8I\\xa2\\xb2l\\x89\\xd7Wl\\xb7xI\\xe4\\x82\\xbe\\x8b)\\xe0\\xb3W\\xdaj\\\\N\\x1b\\x89\\\\H\\x11:^\\n\\x89\\x7ff0(Q\\xe3\\xb4T\\x02\\x7fQ\\xf2h\\x80\\xa3\\x836\\x93\\x18j4:h\"\\x99\\xa16\\xa2\\x05\\x95;\\x98~\\xa8\\x13\\x16\\x16\\xc1\\x9f\\'\\xf4\\xb4*\\xb7x\\xcb\\xab-\\x0e8\\x8d\\xa2\\x86\\'aGH\\xca}\\x96b\\x16a\\x12u_\\xe2{\\x12<\\x88\\x0f\\xe1\\xb5\\xd7\\xbf\\xc3\\xcb\\x1e\\xa0\\x18|\\x01p\\x1f\\xbc\\xf5\\xe6\\xa5msHTV\\xecq*\\xdb\\x86\\xb2\\xd8\\x92\\xab\\x82,\\xaf\\x10\\x19\\xb0\\xcb\\xba]\\xe0\\x1a\\xc6/\\xea\\xfd\\xf8\\x97%\\x02\\xc76\\'\\x88\\x7f\\x18\\xb7\\x1f\\xf0\\xdb\\xbc>\\x0f, .7kq\\x94\\x91(\\t\\x9d\\x17\\x03\"\\x9b\\xe0\\xd1<\\xd6\\xe9b\\x05.\\xd4`}\\xb1Z\\x1c\\x0e\\xc2\\xc4zln\\xd6\\xed\\xb1\\x95\\xda\\xe7\\xb1\\xa3\\xd8\\xe2\\xf9>8\\x0f\\xc5\\xd8\\x18\\x1e\\x0b\\x17c\\xd9<&\\x89u\\xb8\\\\nA+\\x82\\xd6Hdl\\x95\\xd3\\xe3r8l%,\\xadG\\xc5V\\xd3\\xf5\\x94\\xafIc\\x1d\\x16\\xaf\\x8f\\xb6NF\\xc23\\xa0]\\xd2\\x8b0\\xd2\\xed\\x11\\xf84\\x19~\\x0c\\xde\\xa2a\\xb1p\\xdb\\xac\\xfe\\xb6z\\x89t&sG{\\x10\\xaf\\x0e2\\xb6\\xf2\\x8c\\xdb\\x03\\xc7\\x0c\\x1f,>[\\xd9|\\x12#k\\x8c\\xab\\x80;\\xbcx\\\\8dM\\xb1\\x0bq\\x8d\\x88\\xa7N\\x0f\\x0f\\xc0\\xce\\x90\\xc4;]\\x16\\x98\\x05N\"k\\x96a\\xcfKI\\xf8\\xa0H\\xb1-\\x10\\xf6\\x921\\xb2\\x06\\xe9kh\\xa7\\xcaY\\xe1t\\xcdu\\xb20\\xfbmDv\\xe8N\\xb4A\\xe2\\xf9\\xda\\x91\\x88\\xed\\x91x\\x95\\x92\\xa2\\xc7\\xed\\x91\\xfe\\x89\\x17N\\xc2Q\\xb3\\x0f\\\\O\\xac6\\xaf\\x17\\x8e\\xdf\\xea\\xf2\\xfa\\xbcd%#k\\x916\\xf6\\xc2\\xe6\\x94\\x94\\x10\\xd9\\xc9\\xde|\\xdb\\x1c6\\x0b\\x91\\x9d\\xa2\\x15I\\xbc\\xb7\\xdc^\\xeac\\xaba\\xa9\\x94\\xb5RH\\xea\\x87\\xe0\\xf2\\x06\\xab\\x9b\\xac\\x8d\\x821\\xf1\\x95U\\x0e\\x1fkw\\xda\\x01:\\xdd\\xfb\\'\\xb0\\x19\\xc7C\\xc5\\x88\\x9c\\xa5B\\x83\\xe2K\\xec\\xd5p\\xd9#\\xb2v*1,\\xbe\\xd2U\\xed\\x85N9\\x17\\x85\\x87\\xfd Vk\\xa0\\xfa#\\xadN\\x8ew\\xc0ik\\x03\\x9b^\\xe8\\x99\\x9f\\xa8\\x05%\\x8a\\xd8X\\xe8Y\\xbb\\x8b\\xc8\\xceS,\\x8f\\xaa\\x15;`L-p\\x10\\xbfPP\\x1b\\x0fS\\xd1\\x8f\\xfc\\xa3wT\\x0c!\\x06\\x8axa\\xf0\\xc1\\xffE\\n\\x15\\xc5\\x97\\xbaY4Hd\\x97\\xa9V9\\x02\\xbc\\xd2\\x15*\\xe1@\\xc0\\xafs\\x95\"\\xf3\\x12*+\\xe7\\xf9\\x95\\x08C\\xb5\\x96R\\x88Wc\\x98\\xde\\xfdAj%\\x85\\xfc\\x8a\\xe1<\\xf6\\x87\\x84y\\x95\\x95~\\xcd\\x08^s]\\xc2|\\x11\\xd4\\x17\\xa1\\r\\t5\\x01(\\x92\\x89DhS\\x82\\xd7k\\xf3\\xdb\\x8fbh\\xcf\\xbdD\\xa1*\\'\\x9d6\\xb6\\x12?S\\xc63\\xdf\\xa3L\\xbf\\xf3h\\x1e\\xdb\\xddI\\xc1\\xcf\\x8d\\xe1\\xb9\\xcd\\xd8\\\\\\x14\\xf0\\xb9X<\\x85\\xcb\\xe0$\\x96\\xf5\\xe6\\xdb\\xf83j\\xe2\\xd1\\x88y\\xb1<\\xefBB\\x99\\xc5Wn\\xf3\\x809\\x18\\x11+\\x91\\xc5\\xf1\\xf8\\x95D?\\xee\\x06\\xb29|\\xc8\\xe8O\\xe7\\x16\\x93\\xe8\\xb5Z|>\\x91J<\\xaf\"\\tr\\x02J\\xf1\\xcc\\x00:\\xe1\\x98D\\xc7(\\xd6j\\xb1\\x96\\xdb\\xfcs>\\x81\\xd7\\x89\\x01Ff\\x08#\\x91g\\xc41\\x89\\xb88\\xd8|\\xd6r\\xb6\\xd8\\xe1\\xb2V\\x10Y\\x12\\xcfI\\x007v\\x9c\\x97\\x16\\xa7\\xcdU\\xe5e\\x051\\x9b\\x97\\xc8\\xfa\\xf2\"\\xfd\\x98\\xc4b\\x8f\\xc5i-\\xa7\\'\\t\\x91%\\xf3p\\x7f&\\xb1\\x94\\x9e%w\\xf0\\xf5T\\xa8\\x83!\"\\xbb\\x93\\xaf\\x0f\\x82:Lo\"\\xeb\\xcf\\xd7\\x87\\xa1|1\\x98\\x1d\\xc0\\xd7\\xd3\\xa0n-\\x87\\xfa]|=\\x03\\xea\\xde9\\x1ep\\x90\\xc2\\x03c\\x98D\\x1c\\x02X\\x97d\\x03y$\\x9bI\\x04\\x8f^\\xd0\\xb9\\x87\\x07\\x1ed\\x12\\xc1%\\x02\\x83x`2\\x0f@\\xab\\x06\\xf3\\x80\\x12[eA\\x89!<\\x90\\xc7\\x03 1\\x94\\x07\\xb4L\"4\\x13%\\x86\\xf1\\x80\\x81\\x07@\\xe2^\\x1e03\\x89\\xd80\\x14\\x19\\xce#3\\xfd\\x08\\xc8\\x8c\\xe0\\x91\"&\\xd1c\\xb3\\xc0Rb\\xc5IAdi<<+\\x08\\x97\\xba\\x11\\xbd\\x03\\xd1\\x92 Zm\\x0b(\\x0c\\xa1g\\\\(\\x8bW\\x1a\\x8b\\x1c\\x07\\x1c\\x9a\\xad\\xd2\\xea\\x9eOd\\xa3\\x99\\xe4\\xbb\\xe1\\x04rS\\xc4k\\xf3!2\\x10\\x91yL\\xa2\\xd5\\xe5,a}\\x96\\n\\x9b\\x93\\r\\x19\\xb51|\\x83\\xea\\xfc\\x12N\\x97\\xaf;\\xa9,\\xff\\x19\\xcc\\x90\\xf0\\xbf\\xc3\\x02)\\xc5\\xcaO\\xbd\\xfc\\xab\\xa6\\x84\\x84\\x1f\\xed\\xe5\\x07\\xa3b\\xfc`\\x18\\t\\xef\\x10\\xc0\\xfe1\\x81\\x0b{xL\\x0c^<\\xdd`$\\xda\\x8ew\\xd0\\xbc\\xfdq\\xcc\\x90q\\x94\\xd1\\xd8K`\\xe0D\\xf5s\\xc73\\x83\\x11O\\xa28>A@\\xd7\\x94\\xd8a\\x85\\xf6_,e\\xcf1p\\xab\\x01\\xd7\\xc7\\x99\\xc07\\x17\\xe8T\\xacI\\x91\\xa7R\\x16hUb\\xcc 7\\x9a5r-kT\\xe5\\xb2J\\x95A\\xa5S\\xaat\\x8aB\\xc2\\x88\\xb4L=J\\x85\\x85J\\x99\\x0cZ\\x8d\\x19eL$\\xbc\\xab\\x07\\xb5V\\x9eK\\r\\x98\\xccr\\xad\\x96H\\x82\\x12\\xf9\\xfa\\xe93I\\x84\\xa8\\xae\\xca\\xd7\\x1b\\x0b\\xd9|\\x8d)_nV\\xe4\\xf9\\x15\"\\x83\\x02\\xea\\x02\\xf0\\xa6\\xc87\\xb0r\\x9d\\x92\\xcd1\\xcau 4:\\x93D][\"k\\x0c\\x91^[\\xc2\\xa4\\xc7F\\x9a\\x88\\xac\\x93\\x98\\\\[ \\x12#\\xd1A\\xb6\\\\\\xa1(\\xc8/\\xd0\\xca\\xcd*V_`\\xce\\xd5kt\\xb9\\xac\\xdc\\x08&z\\x89:\\xc0\\xa8\\xd7\\xeas\\x0bTl\\x81\\t\\xd9p\\xb4*\\x12\\x13d\\xab\\x0c\\x9a.\\xec\\xdeA6\\xfa\\xd7\\xaa\\xe4\\x00\\xde&2Y`\\xca\\xf3w\\x13\\x89\\r\\xc2h@\\xcbsI\\\\\\x10V\\xea\\x0br\\x04\\xf8\\xf6\\xae\\xd2z\\x03\\x89\\xef*\\x0ch\\x1f\\xf1 *YS\\x9e\\xdeh\\x86\\x0e\\xd1)\\xcc\\x1a\\xbd\\x8e$\\x84r\\x8d*s\\x81Qg\"\\x89\\xa2\\xbe\\xd3\\x17\\x18\\xd9)\\x05\\xd0\\xc7ZM\\xbe\\xc6L\\x92D\\xbe\\xf5j\\xf3\\x0c\\xb9\\x11;G\\xa5V\\xc1 \\xe3\\xa1\\xe7\\xa8t*\\xb5F\\x01\\x93\\x85\\xf4\\r\\x8aj\\x15\\x06\\xff\\x0c\\xe8\\x17\\x04\\x8d*p\\x99\\xafWj\\xd4\\x85$9\\xb4\\xb34:\\x85R\\xa5 w\\x04Q\\x8d\\xce\\xac\\xcaU\\x19Y\\xa5\\x1a4\\xe8tS\\x99\\xc8\\x9dA\\xbe\\xde`f\\xe5\\xb9\\x05\\xa4\\xbfh\\\\\\xa7\\xeb5J\\xecw8\\x08#+W*\\x8dd\\x80\\xa8\\xf5Z\\xfd\\x0cV\\x03\\xe3\\x0e/\\xf9\\xa33q$\\xc8]=\\xb0\\xb3IJg\\xb3 \\x0e>uJj[A\\x07<\\xb5\\xcb\\xb0\\x98\\xccF\\xf8\\x00\\xa3p\\xb7\\xe8\\xc4\\xd0\\x98\\xe4ZM\\xaeN\\xa5\\xa4\\x07\\xe1\\x97\\xc1\\t\\x16\\x98E&20\\xb4;L\\xf2<5\\xb9\\'\\x14Sh\\xcdJ2(\\x14\\xcb1\\x93\\xc1\\x9d\\x1b\\xaa\\x96kM*<\\xe1iKs\\xf25d\\x88HD9\\xa5\\xc0df\\x0bt0\\xbd\\xb5d\\xa8\\xa8;\\xb1\\xcb\\xd5\\xacB\\xaf\\x9b\\x0e]o\\xd2\\x91a\\xa1\\x9e\\xf24t\\x18\\xd4\\x1a8\\xb8{;5V\\xc4\\x1a\\x1e\\xcaR\\xab\\x8d*\\x95\\x81\\x8c\\x10\\x9d83\\xcdlv\\xc6\\xe8\\xec\\xb1\\xe8\\nf\\x88\\xcel\"iAv.\\xcc&#\\xbff\\x99\\xfc\\xcb\\x93\\x06\\x1a\\x9a\\x1e\\x94@\\xb0@\\'\\xf4\\xa8V/W\\xe2T\\xd0\\xe4\\xc3\\xfc\\x1b\\xd9\\x93\\x94\\xc9\\xac7\\xaa\\x02b\\xf7\\x85\\x8a\\x19\\xe4\\x8a\\xa9*\\xa50\\x82x\\xec\\x01\\xc9\\x8cPIs\\xa1A\\xa5U\\x99L\\xbc=\\x13\\x19\\x15\\xca\\xc6\\xb6d\\xb09\\x85\\xaca\\xa6\\xdeH2C\\xa7\\xb2\\x11\\x9a\\xa31\\xf3\\xd3\\x985\\xeb\\xd9\\xe90\\xdbG_CDm\\xd4\\xe7S\\xa11\\xdd\\n\\xe18\\xa9\\x8c&\\r\\xf4!\\xb9?(\\xc1/\\xe6!SUm\\xf0\\x0bCGg\\x85\\x8e\\x0e\\x987w\\x92\\x18\\xdb\\xadD\\x80\\x9d\\xdd\\xe9|1\\x98\\xf2\\n\\xd49\\xe4\\x81\\xcespLN\\xa1\\x99_&43\\xa1\\xa3\\xc6\\x85Z\\xcd\\x95\\x9b\\xf3TF2\\xbe\\xb3\\xd6\\xa8\\xcclu\\xbe\\x9cU\\xe4\\xc9a\\x14\\xc8\\x83b\\xf6\\xcc\\xcc\\xfb\\xb3z\\x1a\\xf6\\t\\xd7\\x10\\x0c\\x1d\\xf9\\x89!\\x92\\xe0.\\xc0\\x99\\xd4\\xc5\\x86\\xc0\\x99\\xdce\\x95\\x9d\\xa11\\xe7\\xe1\\xeaB\\xe4\"%\\xed\\x0cy!\\x8c\\x1a\\\\j\\xe0\\x1a\\x08\\xc7\\xc7\\xc2\\x14\\'9A\\x01\\xfe\\x8c\\xc3\\x93_\\xab\\xd2\\x11\\x85\\xa8\\x1f\\xf34j\\xf3(\\xa2\\x0c\"\\x0f\\xa9pi\\x98i\\x86\\x0b\\xb6\\xdf\\x97NITA>\\xac\\x1c\\xf9zs\\xe0\\x94\\xfc?\\xf6\\xae\\x068\\xaa\\xeb:\\xdf\\xb7\\xbbZ\\xad\\xb4+\\xed\\xeao%@`\\x99(1\\x89\\xb1\\x10X\\xc6\\xd8\\xc6\\xb6\\x16I \\x99\\x95\\x10H\\x06\\xa1\\xc1Y\\xad\\xa4\\x95\\x90\\xbdZ\\xadW+\\x10\\x86I\\x95\\x84\\xb1\\x1d\\xdb\\x9d\\x90\\x047N\\x83\\xc7j\\xcc88q\\x12\\x1a\\xd3\\x96\\xda8\\xa5\\x1e\\xe2\\xd2\\x0cIi\\x878\\x8c\\xc3\\xa4\\x9aV\\xcd\\xd0\\x98ii\\x87$NB\\xed\\x9e\\xfb\\xee}\\xf7\\xbe\\xbbg\\xffx\\xc5\\xee\\xa4\\xf5\\x9b\\x01\\xbd\\xf7\\xbd\\xf3\\xeew\\xee\\xb9\\xe7\\xfe\\xff,-\\xb3\\xc8z\\xf9z}\\xa0\\xa7\\x97\\x9b\\x9elH[\\xf8\\x86\\xb6m\\xe9\\xe8m#\\xed\\xf2\\xa5^0u\\xae\\x0cm\\xed\\x08\\x84\\xc0w;\\xe4\\x9b\\xaeM\\xb4\\xb4\\xe8\\x0etl\\t@\\xdc\\xc9}\\xf2\\x8d\\xb9y\\xc1\\x8a\\xfa\\x8dX\\xc7\\xcd\\xba\\x8e$\\x98N{\\xd6\\xe8\\xe8\\x94\\xafx\\x84\\xa8\\xf9HW\\xaaS\\x077\\xf1z\\xb6\\x87lR\\xdd\\xa9\\xaf\\xa5}\\xc3:\\xd2\\xad\\x82 \\xd9H6\\xab\\xf1`\\xde\\xac+\\xb4%\\xd5\\xf7\\xb8\\xa7C%D_\\xf7\\xc8\\xd7\\xac\\xf9@\\r\\xda\\xda\\xa1\\xd7\\xa1\\xa0&-\\xb4z\\xa5\\xc8f\\x93\\xde\\xf7\\xa7\\xb3\\x01\\x8b\\xe9V\\xf9\\xaa\\rj\\xd6\\xd0V\\x9a\\xd0\\xf7wwCV\\xd8&_\\x05!\\xf9H\\x1fq\\x9d\\x82\\xd6\\xe0\\x13~\\xde\\xda\\xdcF\\x8ae\\x8bq$\\x12NN%h\\xf7\\xe59\\xcd\\xff\\x88\\xdfhM\\xd2!\\xe8\\xd4\\xd6\\xe4R\\x9bse5o9\\x06\\xb6\\xb4\\xb4\\xeb\\x15\\x97\\xfa\\xdcM\\xcdG4\\x04\\xadYGl\\x12\\xec\\xa3\\xfen\\x97\\xcf\\xebz\\xb6\\x05\\xba\\x89C\\x02\\xba\\xda\\x05L\\xed@\\xb5hN\\x17K\\xd5\\xa4\\xda\\xcbm~\\xaaU1}%:m\\xd0\\x11\\x82\\xe6\\xb1\\xcdO\\x03\\xa8\\x0e\\rO@\\xcf}\\x8avO\\x13\\x91H\\x08\\xfa\\x95\\x91\\x10\\x93\\x1f\\x1f\\x89\\xc4\\x86@r\\xbb\\xad\\xe4O\\xaai3{7\\xfc\\xefODFCC\\xd1\\xf0\\xa4\\x88\\xf8\\'\\n\\x9cG\\x16@D\\xbb61\\xdb\\x13/\\xb4[h4[\\xe9\\x1f\\x9b\\xb7\\x85\\xfe\\xb1{\\xd7\\xd1?\\x0eoO\\x07\\xfd[\\xe0m\\xd5\\xff:\\xbd\\x81V\\xf6U\\xa1\\xb7%\\xb8i\\xdd\\xba\\xb6-m\\x1cpy7\\xb3\\x9b\"\\x08\\xb9+\\xc4\\x1f\\x8a\\xbd\\xbd\\xc1\\x9e\\xd0\\x86M\\xbd\\xeb\\x02=m\\x0cr{;\\xa0\\xb9\\xdd\\xc7\\x1e<\\xde`\\xdb\\x86@\\xcbv\\xf6T\\xe25Wr\\xa4\\xd4\\x0b\\xe5o\\xef\\xa6n\\xfaD\\xbc\\xf4\\xa1\\x07|\\xb0K\\'\\x84\\xf6\\xe0z(\\xeax\\xf3\\xbc\\xccKk\\x99\\xf5\\x1d[zt\\x80\\x94\\xb3\\xd8\\xf5\\xe9\\x95\\x8f.Q\\xe1\\x15\\xb7\\x95\\xde\\xb6\\xad\\xe6WU\\xdeu]<\\x12~o \\x18\\x94o\\xaa\\xbd\\x9d\\x9d\\\\\\xd1\\x1aC\\x17\\xf1r\\x81I!\\x01.\\xe4Z\\t`\\x11\\x07 c0\\xa0\\xd6\\xdb\\xd1ez\\xbf\\xd8\\xf4^\\x80K\\xbc\\x9d\\x81\\x9e\\x8d!]M\\x1d\\xb8\\x81\\x01\\xfa}\\x9d\\x17\\xb2T\\x93\\x14\\xbeQ\\xd7Y\\xbf]\\xea\\rvt\\xea\\xa5N\\x0b8]\\x0f\\x94\\x07\\x1f!\\xf6\\xafW\\xf3\\x0e\\xdak\\x0b\\xb8\\xefu\\x13\\xfb\\xb7\\x16\\xd0\\xe1\\xd6\\xc1\\xe9\\x10\\xb8\\xc7\\xd8$\\x1dg\\x18\\x0fCo\\xf3nW\\xf9k\\xfc\\xcd\\xea\\xa6\\x94w\\xf7\\xf0w\\x93\\xbb\\x12M!\\xfc\\xe9\\xbd\\xec\\xb5_\\x8e\\xaa%\\xf7\\xc4#\\x86\\xd3\\xbd\\xe5r^\\xaa\\x05W\\x83\\x8c\\xdf\\x02\\xcd\\x04(N\\xf4\\x94\\xeehQ\\xb0\\x8e[\\xd7\\xac&\\x9a\\x19h\\x02\\xc0f\\x02\\xa0\\xab\\xd6\\xdbq\\x7f\\'\\xb1\\x9b\\xb0``#\\xf4\\x1c\\xbaz\\x89\\x03\\x0b\\x02@\\n0\\xdcD\\x9c&\\xb0k\\x13$b\\x80\\x14\\x9a\\xa0\\x16\\xa8\\x1bW\\x11\\x97Y\\xa8\\xad=\\x10\\x84vq\\x91\\t\\xeb\\x81\\xeag\\xfb\\xba-\\x1d\\xad\\x1b\\xdaH\\xb1\\to\\x0f\\xf4lk\\x83R\\xdfm\\xc2\\xd6m\\xea\\xea\\xa2\\x98\\xc7\\xfc}G\\x10\\x1a\\x0f\\xba\\xee%&xcW\\x90\\x94*\\xcf\\x9d\\xc4k\\xfel\\xe3v\\x1ag\\xe2\\xc3\\x18\\xad\\xa2o[\\xb9\\x8a\\x94\\x99\\xe3\\x12\\xe8\\xea\\xda\\xd4\\xa5\\x7fQn\\xb6mK\\x9b\\xfeEK\\xb0\\x03\\x8cB*\\xd2\\xbc\\xeai\\xdb\\x02\\xfa\\x91J\\xf3+hh\\x05I\\x95\\x92\\x90\\xb4Z\\xf0\\x9b\\xf5]M\\xaaM\\x8fP\\xf6C\\rEj\\xcc\\x12k\\xc8\\x02\\xb3Dg\\xeb\\xfa@\\xe7\\xcaF\\xb2\\xd0l\\xb0V\\xe0^I\\x16\\xa5B\\xabHm*t+Y\\x9c\\n5\\x91%f\\xa8W\\x0f\\xeb\\x86Th\\x15\\xa93A\\xfd]\\xba\\xd4\\x8d&\\x88\\x8eR/5\\xd50\\xa4H+\\xaa\\xad^HL\\xa57)\\xb2\\x99!\\xbd\\xd4N$\\xf4Q\\xc5\\xf0\\xd0C\\xa1\\xc1\\x89\\xa9\\xd8p8\\xb1\\x87\\x14\\x15\\x15U=\\xa7\\x19bc\\xb1\\xa1\\t:\\xa1\\x88\\xa4\\x8a\\x99\\x94\\x8b\\x96\\xd1\\x13\\x8be\\x8e\\r\\xc1}1d9\\xbd,gY\\xae\\xa4h1\\x95\\xb0iN\\xf3\\x1c\\x9e\\xe3\\xfe\\xcd\\x1dz\\xd6s\\xef\\xd5k\\x0c\\xfbW\\xa8\\x8c\\xaf D\\x87\\x9a\\xa0a\\x07\\xf7\\x85\\xc6\\xbd\\x98\\x0e$6\\x97\\x1d\\x14\\x8aG#\\xd3ul\\xa2\\xcf\\xe6\\x13\\x801\\x07X\\'\\x10e\\x92\\xd0\\xe7\\x08\\xad\\xa7\\x9f\\xe8aK\\x19\\t\\xba^\\x04\\r\\xeeZ\\xc2\\xe3\\xf2\\x1e\\xb1\\xdf\\xbcD\\x9f\\xcd\\x8aO\\xc4\\x87 \\xdet,j\\x90\\xb8\\xafj\\xfe\\xbb\\x18>\\x14}\\x84A6\\x9b\\x0e9F\\xa6bC!:\\xe3\\xe6\\xf9\\x84\\xaf\\xdc\\x06\\xc6y\\x08\\xd0\\xc7\\x96\\xd0\\x89\\tg(\\xa4\\xb7N\\x82\\x1dP\\xf4\\x87\\x88gE\\xd9\\xbe%\\xfa\\xfcW\\xab\\x19m\\xd4\\xd1\\x1a\\xfaI\\xc9\\x1d`b\\xfb\\xecr6\\xa7]\\xf3,\\x85\\xee\\xa4\\xd0\\xf1\\xe5\\xcd\\xe4\\xff\\xf5\\xa5\\x95\\x11\\x9f\\xb3L+\\xd7\\xec\\xa5\\x8bJ?ZZQ\\xa0c\\xdaG]\\x15n\\xbbk\\x91\\xcb\\x07\\xf5\\x88\\xad\\x9e\\xb8\\xdd\\xf7\\xc0#\\xb8\\xd5\\xc7HG\\x05\\xa4\\x8d\\x9f\\xd8]w\\xba\\xefr\\xdf\\xe1\\xa6\\x8f\\x05^\\xe2\\xd6o\\x9cM&\\xfc\\xde\\x05k\\xc1\\x9b\\x0b\\xab\\xc8M\\x0b\\xe8\\x00\\xb6\\xd6Q\\xa1\\x81H\\xd1\\x8d\\x10\\xc2\\n:\\x14\\xc8e\\x0b\\xa4\\xac\\xbbJ\\xbbi\\x01\\x13\\xf3\\x14\\xe8D%\\xf47\\x13K\\x1d\\x9a\\xddu\\x8f\\x9bR\\xb0\\xb0\\xa9\\x80w\\x19|^K\\xe7X\\xe86\\xec\\xb2\\n\\x10q\\xbb\\xe5\\xeb\\xf2\\x12\\x93&k@\\xacB\\x97(\\x90\\x12\\x95%&~*Q\\xa5\\x00`\\x07\\xbf\\xc2[\\xc0>\\xab\\xae\\x06)\\xaalM\\x13\\xd9\\xc0q[\\r\\xf9\\xbd\\xbdv\\xeb\\xeb?6\\xd1T\\xd7~WZ\\x02\\xffk|\\x01\\xaa\\x96\\xcfz\\x8b\\xa1\\x89\\xd8\\xc8\\xd8\\xe8\\x8a1Z\\x87\\x93\\xa1=\\xa3\\xbb\\xc7b\\r=l\\xf9j\\x91\\xcdXKb\\xbfB\\xb4\\xa5KG\\xb77Nm\\x1c\\x1dm\\xbc;\\xb8t\\xa9M\\x03\\xa2\\xe7\\xf5\\xb1\\xe4g\\xb54\\xd4-w\\xae0\\x16o\\xac\\xc8\\xb1x\\x83\\t\\xaenb\\x7fW@\\x11\\x1b\\x9d\\x1a\\x8e\\x10s\\x08\\xaa\\xe6\\x86\\x04\\x8f\\x18}\\x93E:5\\x92\\x99%\\xf9\\n\\x91<\\xac\\x06\\x96J$\\x87##\\x93\\r;il\\'\\x93\\xc3\\x80\\xb3\\xfb\\xf1p4:1\\xc4\\xeey\\xa3\\x8a=\\x8cF\\xe8\\xa4<\\xdcCIH\\xe7\\xc7\\x19J\\xe7\\xa2\\xa1\\xd0d0\\x9d%\\xbcE\\x9f\\x92\\x0c\\xc7\\x92\\xf43;!Tg\\xb8s\\xb0\\xbb[ \\x88I\\xf6h,\\x94\\xd9I\\x97\\x89\\x8f\\x0eFo\\xa1s\\xc2\\x93\\xecQ.\\xa2\\xf9pU\\xde\\xff\\xf5\\xab\\x92\\xff\\xee\\x1dd\\xc8\\xe9:O\\xa1k\\x96/=\\xa7\\xeb\\x02\\xd3\\xad\\x07\\x0c\\x94\\xfa>c\\x0b\\x94\\xd6\\xcc\\xd8c\\xa5\\xbe\\x93\\x81R\\xd7\\xeb\\xe4\\xc3\\xeb\\xf7\\xf8\\xba\\xc6B~\\x85(\\xe3\\xdf\\x9f\\xf5utQa\\xa0\\xa7nU\\xc3\\xad\\x8d\\xe4\\xc3\\xeb\\x03\\xb8\\x1aF\\xc6\\xa09O\\x08\\xfd\\xd1\\xa3w\\xdf\\x83\\xaa@\\x83\\xba)2\\x1diH\\xd9\\xe5\\xb3Y\\xff\\x9f\\xad\\xd7\\xb6g8I\\xeea\\xbe\\x07E\\x97\\xd1\\x91}t\\xf7\\x8a\\x83o7\\xd6\\\\\\xca\\xce\\x16\\xe3\\x08\\x87\\xe7\\xe1\\xdf\\x81\\x1c2\\x7f\\x0b\\xfffs\\xc8\\xfc;=\\t \\x87\\x8c\\x8fN\\xd0\\xdb\\xb3\\xcb4P\\x99\\x1c\\xe1\\x045\\xbaDI\\x1e\\xa5J\\xc86\\xba\\x1e\"\\xc7W\\xe3t]F\\x0e\\xf6\\xaf\\xe8\\xeb\"\\xcc6|\\x81v\\x05\\xb3\\x84\\x1c\\x89\\xed\\xd2w8\\xfa\\x84>\\xfa\\x9aH\\xda\\xcf1#zz\\xd6):\\x7f\\x8f\\x07$\\x91\\xd3T\\xc3\\x1c\\xb1\\xf8g}M\\x81Y\\xc3_\\xc2\\xd3\\xd1\\x1c\\xf1Z\\x087\\'s\\xc84\\xdb\\xe8\\x10\\xa9Y\\x9f\\xfb\\x00\\xe9\\xce\\xf1\\xd5\\xc3p3\\x9b\\xcb\\xaap\\x13\\xcf\"3\\x1e\\x1e\\x8b%\"I\\xe2Q\\xd8\\x8f\\xc3\\xab\\xb9\\x1c!\\xff\\x08n\\xce\\xe6\\x90\\x99\\xa779\\xac\\xfa[\\xb8\\xb9\\x9c#\\x1c\\xea;G\\x1d\\xcc\\xf2\\x0c[\\n\\xc81\\x07\\x93u\\x92\\x86h(\\x12\\x1b\\xdeM\\xce\\x08\\x84^\\xcbAfN|\\x052\\xd0>L$\\xe7S\\xbe\"\\xe4\\xaa@\\xc2P\\x00\\x8c%\\x81\\xaf\\xc0\\xccu\\x17\\x84\\xd3\\x98#\\x16a;\\xdbu\\x96I\\xa6\\x01BN\\xf2gM\\x97\\xf98pl$\\xe6\\xaba8\\x9c\\x0c\\x9b\\xbe\\xb1kx\\x1b[\\xc3\\xe0\\xe4\\xa4~c\\xa4\\x97V\\x8fe\\xa6e@\\x05\\xba\\x0c\\xcd&\\xc5\\xaaL\\\\\\xca8t\\x99^\\xf8\\xbf\\n\\x85\\xb5\\xc7\\xce\\xf2\\xbb+M\\xbc\\x8c\\xeb\\xb3v\\x96\\xbf2\\xc9\\x18%\\xed\\x0eY\\xd2\\xee\\x19\\xa5\\xd5\\xdf-P\\xe2\\x0eFF\\xa1V\\xd5\\xf3\\xe8\\x1fR;\\x1b\\x96\\xcfP\\xd2\\xd2\\xdf8i6d\\x84U\\xd9W\\x94\\xbd\\x0c\\xb3\\xf3\\x88\\xfa\\x84UIF\\xab6\\n\\xab\\x92\\x8cV\\x8d\\x0b\\xab\\xe2} \\x86U{\\x85Ukx\\x88\\xd8\\x1a1a\\x8d\\x07\\xa7\\xe2{\\x92\\x91\\x84\\xa9\\xe2\\xa1\\xb9\\x92\\xfe\\xed\\xceb\\r#\\xee\\xdd\\xba\\x8c\\xe1\\t\\xf6\\xf7\\'\\xee\\t\\xe9-va\\xe7\\xf4\\xf6\\x99\\x16\\xf6\\xf1d\\xb4OT\\xd8\\xc7\\xc3CT\\xaf\\xbf\\xe4\\xf9\\x9dq\\x89m\\xd4\\xc8\\x86\\x9f\\x116\\x84&\\x145ZJ\\xe5}\\x8a\\x9e\\x87\\x9a\\xc5\\x86\\xf1\\x86;n]\\xd3\\xb4Z\\xdaGG\\xdf\\xa4\\xa7\\xa1*%\\xc0E\\xea\\xe1Y\\xca\\xa8P\\x88\\xa5X\\xa3\\xd3\\xfcU\\x81\\xc3dU\\x91^3\"\\xbd\\xfe\\x8e\\x1d\\xb8j\\xbapz\\xa9\\\\\\xe9\\xd3\\xcb\\x911-\\xf6\\x8b\\xb4\\xa8\\xc9\\x98\\x16\\xd3\"-\\xa8\\xff\\x14\\xa5\\xb5\\xf3\\x13\\xc2\\xce\\xb1pR/E\\x1b\\x86\\x90\\x1f:\\x8dx\\xe9p\\xdax\\xd5)\\xf1\"i\\xe3\\xd5\\x9c\\xcd\\x0f\\xb9>_\\x14\\xfa\\xec\\x86\\xf6\\xf5P81lM\\x9f\\xc6<J\\xda|\\xf4\\xf9\\x9a,\\xd9v\\x86\\x13\\xe3\\xe1\\xe9\\x14?,s\\x18\\xfa\\xa4oCb\\x9d\\x0b3\\x96c\\xcd\\xd7\\xa4sf\\xdf8$|#\\x8dL\\\\\\xcad\\xca\\xa7\\r-[z\\xeb\\xfb:Z\\x96\\xe5Q\\xf2\\x1f\\x15\\xf6\\x19\\x8e\\xd2\\x85\\xdd\\xbbL\\xf6\\tMF\\xe8\\x16\\x8d]\\x03\\xce\\xdce\\xdd\\x80\\xb0\\x8f\\xaa\\x8b\\xd9>\\xddy\\x94u\\xddy\\x94\\xf3\\xb3y\\xd8\\xe7H6\\xfb\\xf0\\xb8\\x9f\\x96e\\xd4dhr*\\x1e\\x9f0\\xe7\\x1eBn\\x80\\x00\\xe2Y\\xe2N\\xaf\\xd5\\x0ef\\xc3ty\\xc7`\\xedr\\xb0\\xb3\\x97\\xb3\\xc9<L\\xfd\\xb0\\xd0\\\\F\\xedw\\xb0_\\xc4\\x97m\\xbf\\xa7\\x1d\\xac\\x86\\x95\\xc8\\x11\\x07\\xcb\\xb9z\\xe9\\'\\xd2\".\\xd2\\xe2<\\xfcYl9-\\x04\\xbb6]\\x90)-\\x0e\\x8b\\xb4\\xa8\\xcb\\x98\\x16\\xc7\\xb2\\xd5\\xb9\\xbc\\xfe\\x12\\xb1\\xd0\\x8c\\x12\\x16\\xa7\\xd7Y\\x91^\\xa1Xd\\xf7\\xf8\\xc4p$M\\xd9\\xe2\\xca]\\xb6\\xe4\\x13\\xf7\\xb9\\x82,\\xf9\\x94\\xeb\\xf3+\\xa1O2:\\t\\xfe\\x93\\xda?}\\xcda\\xe8\\x93\\xb9\\x7fJ\\xdb\\xc53.s\\xba\\xff\\xd4Ai\\xb3\\xd5h\\xd3\\xc3!\\x88F\\x9f\\x91\\xbb\\x19\\xf2\\x08K/\\xf9# \\xff\\xe9`\\x95\\x06\\x0b\\x19\\xdb\\xe7e\\x9er\\xd6\\xecsY\\xd8\\xc7G2\\xf9\\xc6\\xa9<\\xea\\xb83\\xd9\\xea8\\xbd\\x1c\\x0b\\xb6\\xb6g+\\xc7\\x98LKs6\\x19\\xeec\\xcd\\xc2\\xc7\\xda\\xb9f\\xa9\\xe1\\xb4\\xf6\\x0f(\\xe1\\x90t2\\x81\\xbe\\x9c2\\xc1\\xfe\\xee\\xdc2\\x815\\xd9d\\xc0\\xa5\\xea\\xfb\\xfb\\xfb]\\xdc*\\x99d\\xf4\\x9bl2\\xdcW\\x9d\\x9a\\xa8\\x07\\xe9n e4\\xc5\\xf0\\r_\\xd1\\xf5\\xc9;\\xc4\\x99\\xa5\\x0c\\xd7\\xe3\\xde\\xd2\\xef\\xcbi\\x9f\\x96\\x00\\xc9)\\xd3\\xd1\\xdf\\x98[&P\\x93M\\x86\\xdbg\\x81\\xb0\\xcfx$\\x91H\\xcd\\xc9l\\xdb\\x9d\\xaf({]PY`\\x8a\\xbb\\x8e,-`\\'\\xcf\\xb1<\\x18\\x1a\\xd7\\xb7\\xdf$\\xe2\\x02\\xc1\\x96\\xdf\\xa1\\xa5\\x1e\\xc2c\\xcd\\xf2\\xae\\x8c\\xb9\\xf2\\x02\\xf7\\xfd\\xb4\\xfdS\\x9e+/g\\xcb\\x95<7\\xcd\\x8a\\xdc\\xd4\\xac\\xa1\\xd62\\xb7\\xea2aUH\\x8a\\xd0H|e\\xa3\\xb4,<&\"\\xd0\\xc2\\x88\\x17g\\xb6*\\x17!BF\\xd6q\\xc5\\xd7\\xa7\\xbd\\xe1s\\xe6no\\x10-w{\\xa3R\\xcb\\xdd\\xde\\xb8]XC\\x1fa\\x0e\\xed\\x8cD\\xe3\\x91\\xc4\\xa40\\xc9\\x1d@2S\\x9c\\xdd\\xc7:@\\xe6\\x00\\xb2\\xc6\\x8c\\xb0F\\xe5u\\xb2F\\xe6\\xd6\\xa9C\\xcb\\xdd\\xcb\\xae\\xd3r\\xf7\\xb2\\xb7\\nk\\xc4\\'#S\\xc3\\x13\\xb7$\"t\\x9aQ\\xf8\\xc7v \\xa9\\xab\\xcd^{\\xee\\x04\\x99Yn\\rf\\xf3O\\x01R/\\xf2`\\x92nA\\x8b\\x0cM.Sr\\xe5\\x13 \\x13\\xf7\\x98\\xeb\\xdc\\xc3\\x94K\\x91y\\x19\\x90\\xc6\\\\ch \\xd3\\x9cE\\xc6H\\x9dY\\x91:O\\x82Q\\xea-\\xa7N\\x9d3K\\x9d\\xcbs\\xe5\\x9cf\\xe8\\x93\\xde\\x83\\xca\\x9c\\x86U\\xa9\\xcc\\x18J\\x1d\\x83\\xc7\\xa3e\\x1e+ \\x84\\xf5\\xa7\\xd7d\\xf3y\\xee-5\"\\x9ce\\x19\\xbd\\xa55\\x0fo\\xf9\\xa4\\xf0\\x96\\xe9\\xe4t2}\\xdb\\xaf\\xd1{}\\xea\\xaf\\xc6l\\xb9\\x80\\xeb3)\\xeb\\xd3D2\\xb43\\x1c\\x1b\\x8e*\\xe3D\\xcdNC\\x9f\\xccy\\xb9\\x1fd\\xce\\xfa\\xcc~H[\\xee\\xed\\x8a\\x1f\\xfe\\x01\\xdc\\x0e\\x14\\x9a\\x91\\xcf9YoK\"_\\x82\\xdb\\x93eF8\\xd8\\x1a\\xbb\\x1d\\xff\\x93^@\\xb3\\xb0\\xc6\\xac\\x8d>\\xa7K\\xe5f-w/`\\x87\\x96\\xbbN\\xb9l3\\xbc\\xb70\\xa3\\xe5\\x1f\\xd3L\\xad\\xee\\xe4N\\xf3\\x00\\x83~}\\x03\\x94=Z\\x91\\xbd\\xdc\\xf8\\x81\\x93\\xa9 mx\\x1en\\xe7\\\\f\\xe4\\xe74\\xa7T\\x9aS\\xc7\\x0eJ]Td\\xfc\\x85t\\x1f\\xb0Yf5 \\xcdU\\xa9i\\xc1\\xf4\\xa1\\xf1z\\x10\\xc4n\\xb2\\xde+1\\xd8\\xb5v,\\xc3\\xd3b@\\xa4Ec\\xc6\\xb4\\x98\\x11iAe<i\\xed\\xfcy\\xb3\\x9d\\xc7\\x87\\x94\\xae\\xb1\\x11\\xaf:\\xff\\xb5\\xe4\\xb8,\\xa3\"FZ\\xa4\\x0b\\x87\\xeb\\xf3e\\xa1\\x0fE\\xefS\\x1c\\xe4Z\\xf4\\x19\\xc8\\xc3\\xceR\\x1f[F}\\xbe-\\xeb/h\\xa3\\x0c%S\\xdb\\x8c\\x9f,4\\xf4\\xc9\\xec\\x87\\xd3\\xd4[\\xfcf\\xffy\\x12\\x90\\x01\\x05\\xf9c@\\x8e*\\xc8w\\xe8W\\xd5f\\xe4\\x0c\\xfdu(\\x05\\x99/d\\x93m\\x12\\xf95 q\\x05)\\x04o:\\xaa \\xf5\\x80t/0\\x10l\\xd57\\xed(\\xe7^\\x83U\\xbb\\xb3\\xa52\\xf7\\xde\\x03\\xc2{\\xdb3z\\xefQ\\xe1\\xbdt\\x84tI\\xda\\xd4y]\\xa4\\xceH\\xf8\\xa1\\x08\\xe6[\\xcf\\x1b/z\\xcd\\xa55\\xa0\\xf1^zm\\xe12%\\x19ZV\\xf4\\x1a\\xe02\\xa5\\xba\\xcc^\\xdc\\xf74f\\x97\\x16\\x1a64V\\xad\\\\\\x7f\\x1b\\xd2+\\xca\\xf5q\\x8b\\xdc\\x8d=x/\\x97\\xf1\\xe92_M\\x1b\\xce\\xa3\\\\\\xc6+\\xd2\"\\xfd\\x98\\xcc?\\x08;\\xcb\\x15Z\\xa9qo\\x16q\\'\\xefk\\xdci\\x9a6\\x884}k\\t\\xf3\\x12\\x9c\\xa6\\x95\"Mo\\xd32\\xd9\\xb0Q\\xd8\\xb0\\x0e\\xa5\\xa9\\x91\\xee{E\\xba\\x7f\\x1d\\t\\x18\\xf6\\xd9kS\\xdb\\xfc\\xbc\\x0b\\xd80d\\xd9>\\x0ek\\xf9+\\x95K\\x84\\x1c7B\\xc6\\xe1\\x90\\x861*T\\x7f\\xfb\\x8eB\\x96?\\x04r\\xdb\\x0e{\\n\\xd2tJKAV\\xcf8\\x05\\xc2\\xd9\\xdb-\\xb1\\xf7!\\xf6^\\xc4~\\x02\\xb1\\xefB\\xec\\xdd\\x96\\xd8{\\x11{\\x10\\xb1\\x1fC\\xecQ\\xc4\\xdeg\\x89\\xbd\\x1b\\xb1\\xb7\"\\xf6\\x97\\x10\\xfb b\\x1f\\xb0\\xc4\\x1eD\\xeck\\x11\\xfba\\xc4\\xde\\x87\\xd8wZboG\\xecM\\x88\\xfd\\x10b\\xefB\\xecqK\\xec\\xad\\x88}9b?\\x88\\xd8[\\x11\\xfb\\xb4%\\xf6f\\xc4^\\x8f\\xd8\\x9fB\\xecw\"\\xf6\\x19K\\xeck\\x11{-b\\xdf\\x8f\\xd8W!\\xf6\\xc7-\\xb1\\xafA\\xec\\x95\\x88}\\x1fb_\\x86\\xd8\\x0fXboB\\xec\\x1e\\xc4\\x9eD\\xecu\\x88\\xfd\\x19K\\xec\\x8d\\x88\\xdd\\x81\\xd8\\xa3\\x88\\xdd\\x8f\\xd8g-\\xb1/G\\xecWm\\xa9\\xec\\xc3\\x88\\xbd\\x14\\xb1\\x1f\\xb1\\xc4\\xbe\\x0c\\xb1_A\\xec;\\x10\\xbb\\x03\\xb1\\x1f\\xb5\\xc4^\\x8f\\xd8/!\\xf6^\\xc4\\xfeNA*\\xfbqK\\xec\\xb5\\x88\\xfd\\x02boE\\xec\\xf3\\x88\\xfd\\xa4%\\xf6\\x1a\\xc4~\\x0e\\xb1\\xafE\\xeco\"\\xf6\\xd3\\x96\\xd8}\\x88\\xfd\\x14b_\\x8e\\xd8\\x8f#\\xf6\\xb3\\x96\\xd8=\\x88\\xfd\\x04b\\xafG\\xec/ \\xf6\\xf3\\x96\\xd8]\\x88\\xfd\\x18b\\xafE\\xec\\x7f\\x84\\xd8\\xe7,\\xb1\\x13\\xc4~\\x18\\xb1{\\x10\\xfb\\xbe\\xeb\\xc4~\\xd5\\x99\\xca~\\x08\\xb1;p\\xcb\\n\\xb1_\\xb4\\xc4\\xfe\\x0eb?\\x88\\xd8\\xaf\\x92T\\xf6^\\xc9\\xce[\\xf8\\x9f\\x13-\\xfc0\\x1d\\n\\x1c\\x9b\\x18\\x0c\\xd1m\\x82\\xa2\\x1f\\xf4%\\xe8)\\\\^\\x98{\\x05\\xc5e\\xd1\\x0b\\xb8\\x01\\xf58P\\xbcRF\\x9b\\xaf\\xb5\\x97}>\\x8f1\\xfce\\xb6\\xdc3\\x1a_\\xb5\\x99\\xc7d>\\x8e~c\\xe9y\\x08\\xde\\xb7\\x88d\\x1c\\x03\\xe1\\xe3\\xa6\\xa6\\xd4\\xa1\\xd7\\xdf\\x98\\xbeb\\xbd\\xce\\x9f\\x03Rg\\x84\\xa3#\\xc5E\\x121\\xcd\\xa3-2l\\xb8\\x88[\\n\\xdbp\\x86\\xbfI\\xbb\\xd2\\x00\\xd90\\xf3<\\xda\\\\\\x1e6l\\xb2\\xe5\\x1e\\xd9\\xfe\\xa6\\xb0a(\\x14\\x0f\\x85\\xc2C\\xe3\\xc3Q\\xf3j\\xb96\\xd0\\xa5qQf\\xff\\xa1\\xd7f\\x90\\x99\\xc9c&\\xa2Q\\xd8\\xc7\\x9d\\xd1\\xc7\\x0e\\xe4\\xe1c\\x03y\\xf8\\xd8\\xc5<f\\xcd\\x82y\\xf8\\xd8\\xab\\xaa}F\\xd4\\xb1\\x7fBb\\xa0Ks\\x0e\\xfb\\xec\\x01\\x99\\x03y\\xd8\\xa79\\x0f\\xfb\\xcc^\\'\\xfb\\\\\\xca\\xc3>}y\\xd8\\xe7\\'\\xb6\\xcc#];\\xf5#j\\t\\x91\\xe5\\xd8Hr\\xe7T\\xec!B\\x0e\\xdaP\\xefX\\xc4]\\xff4m\\xdc\\xe5J\\'\\x1d\\xbe\\xf6\\xb8\\xb3RtU\\xa5\\xa1\\x8f>\\xaaf7\\x8bd.{o\\xcb\\xa23\\xd6\\x10\\xeb#J\\xfeJT\\xeb\\x9dA%\\x7f\\x13\\xaaw\\xce\\x14\\\\\\x1fv\\x07b\\x7f\\t\\xb1W\"\\xf6\\xc7Q\\xbd\\xf3\\xa8=s\\xba\\x8b^\\xff\\x07\\x97\\xa6Mg\\x0c\\x9d\\xd3\\x95\\x87<\\xa6\\xc3\\xf6\\x9c2\\xb7\\x0f\\x18\\xf6\\xd1h\\x1e\\xcc\\x11\\xafk\\xb2\\xfc<\\xaa\\xf1\\xf7#\\xcb_B5~+J\\xf7\\x9d\\x96\\xd8\\xe7\\x10\\xfb>\\xc4>\\x8f\\xd8W!\\xf6\\xb8%\\xf6\\x0b\\x88=\\x89\\xd8/ v?b\\x9f\\xb6\\xc4~\\x1e\\xb1G\\x11\\xfb9\\xc4\\xeeB\\xec3\\x96\\xd8\\xcf!\\xf6a\\xc4~\\x06\\xb1_q\\xa4\\xb2?n\\x89\\xfd,b\\xdf\\x81\\xd8O!\\xf6K\\x88\\xfd\\x80%\\xf63\\x88\\xbd\\x17\\xb1\\x9f@\\xec?B\\xec\\xcfXb?\\x8d\\xd8\\x83\\x88\\xfd\\x18b\\x7f\\x05\\xb1\\xcfZb?\\x85\\xd8[\\x11\\xfbK\\x88}\\x16\\xb1\\x1f\\xb1\\xc4~\\x12\\xb1\\xafE\\xec\\x87\\x11\\xfbS\\x88\\xfd\\xa8%\\xf6\\x13\\x88\\xbd\\t\\xb1\\x1fB\\xec\\xbb\\x10\\xfbqK\\xec\\xc7\\x11\\xfbr\\xc4~\\x10\\xb1\\xef@\\xec\\'-\\xb1\\x1fC\\xec\\xf5\\x88\\xfd)\\\\\\xce#\\xf6\\xd3\\x96\\xd8\\x8f\"\\xf6Z\\xc4\\xbe\\x1f\\xb1/C\\xecg-\\xb1\\xbf\\x84\\xd8+\\x11\\xfb>\\xc4^\\x83\\xd8\\xcf[b?\\x82\\xd8=\\x88=\\x89\\xd8\\xdf\\xb5\\xa7\\xb2\\xcfYb?\\x8c\\xd8\\x1d\\x88=\\x8aKZ\\xc4~\\xd1\\x12\\xfb,b\\xbf\\x9a\\xda\\x8ak\\x1aF\\xec\\x17\\x10\\xfbeK\\xec\\x87\\x10\\xfb\\x15\\xc4\\xbe\\x03\\xb1\\xbf\\x81\\xd8\\xdf\\xb1\\xc4\\xfe\\x0cb\\xbf\\x84\\xd8{\\x11\\xfbQ\\xc4Nj\\xad\\xb0\\x1fD\\xec\\xf3\\x88=\\x88\\xd8\\x0f!v\\x97%\\xf6\\x03\\x88\\xfd\\x02boE\\xec\\xfb\\x11\\xbb\\xcf\\x12\\xfbS\\x88\\xfd\\x1cb_\\x8b\\xd8\\xa3\\xf6\\xd4\\xde\\xc4A{\\xee^\\xe4Z\\xd4\\x8b<\\xa7\\xa5\\xc6B\\xae-$\\xef{/\\x92\\xe4\\xd1\\x8b\\\\K\\xb2\\xd8\\x87\\xc7\\xfd\\xc5,q\\xff_\\x88W\\xd3\\x15\\x92\\xbb\\'\\xf5\\x94-\\xa7\\xcc\\xed\\x17\\r\\xdf\\xd0J(\\x9c=^\\xd7\\xe4uu\\xa8\\x0f;\\x8fJ\\xda \\xea\\xc3\\xfe\\x1b\\xea\\xc3\\x9e\\xb0\\xa7\\xd9w\\x1c\\x89\\x89%}O\\xd3q\\x9b,k\\x80?\\xc8\\xd4\\xa1\\xd7\\x8bB\\x1f*S\\x90ve\\xc8_\\x80\\xcc\\xe5,c;\\xf4z\\x03d\\x86\\xb3\\x8c\\xed\\xd0\\xeb\\xc7 sDp\\xa5\\x19kJL&\\x8ca\\xb0b=\\x84Phz\\x88\\xee\\x032\\xf6V\\xb0\\xb1\\xcd\\x7f\\xa2\\xfa\\xf0\\x1d\\xbb\\x0c\\xd1@\\xdc\\xa8\\x19\\x19R\\r\\xc8U\\x05\\xf9\\x08 \\x17\\x9df\\xe4^\\xbeM\\xdd&\\x90.@\\x8es\\r\\x19\\xf2@1;Y@~\\xf5`1\\x1b\\xe5\\x93\\xc8\\xa7\\x8be_\\x86!\\xcfR}\\xecf\\x99o\\x14\\xcbq6\\x86\\xbc\\xca\\xd9\\x8b\\x04\\xf2\\x83byz\\x03C\\xfeU\\x97i&\\xef\\xbdG\\x11\\xb0F\\x94\\xee\\x93Z\\xa3X\\xe3\\x97\\xc5\\xb2~g\\x88\\xcd-[;\\x0cY\\xe8\\x96\\xfb\\x9b\\x18\\xb2\\xd2m\\xb6ah\\x88\\x9dEp\\xdc\\x18\\xd5\\xd7e\\xda\\xdc\\xf2\\xcc\\x10\\x86\\x0c\\xf3\\x01\\x0c\\xa6\\x0f\\xbd\\xf6\\xb9iAoF\\x9ev\\x1b\\xe3HF8\\xb3\\xf4wa\\x14\\x8b}[\\x0f\\xa7\\xce\\xf4\\xd5i7\\xf3/\\x89\\xcc\\xbbSc\\xfa+\\xb7,\\x9f\\xb95\\xa0\\xf9\\xd1\\xae\\xc8\\x94\\xd3\\x1f\\xc5\\x11v\\x0e%\\xa3\\x93\\xf4\\xdc\\x05\\x97b\\xe7\\xdb=r\\x875C:=r\\x04\\x86!\\xfd\\x1e}\\xb1\\xa1)\\xe4\\xa8G\\x8e\\xb8\\xf2t\\x07\\xe4\\x9c\\x12\\xaf/zRu\\xfe\\x9aG\\x9e\\x89\\xc1\\x90Wh\\xe6\\x10\\xfa\\xf0\\x9f\\x1e\\xe1\\xebI\\x0c\\x8b}\\xdf#s.C\\xfe\\xd1#\\xcf|`\\xc8e\\x8f\\\\\\xab\\xcf\\x10\\x7f\\x89\\\\\\xdb\\xcc\\x90\\x15\\x80\\\\\\xd1\\xcc\\x1a\\xb6\\x97\\xc83^ldr\\xcfd22n\\xacb\\xa2\\xec\\xech4c\\x85\\x89\\xa1\\xcfh\\x89lG\\x81U\\xe9\\xd6\\x97\\xce^\\xb1\\x0e\\x96\\xc9\\xec-\\x91c)\\x0cy\\xacD\\x8eo0\\xe4\\x19^lK\\r_(\\x91#\\xb7\\x0c\\xf9\\xeb\\x92\\xd4\\xdc=_\"\\xfb\\xcb\\x0c\\xf9]I\\xaa\\xd7U\\x94B~Wb\\xfa\\xb1Ry\\xca\\nC\\xee\\x04\\xa4V\\xc9\\x95m\\x80\\xb4*\\xec\\x83\\xa5r4\\x8c!\\x0f\\x97\\xca]$\\x0c\\x99)\\x95{\\x15y\\xba\\x03R\\xaf\\x84\\xf3-@\\x96)2\\xaf\\x96\\xcay=\\x86\\x9c-\\x95g\\xe90\\xe4\\x17\\x80T*\\xe1\\xfcW\\xa9<w\\xc5F\\xc2\\x83\\x13\\x89$\\xcdQJ\\xea,\\xf1\\xca\\x9d\\x1d<\\x95\\xbdf\\rC\\xa1\\xe1h4\\x14\\xa2/L\\x16\\xeb\\xf3\\x92\\x14d\\x1c\\x10\\x8f\\xc2\\xfe\\xa4W\\xb6!\\x192\\xeb\\x95+\\xf7\\x18\\xf2\\x9aW\\x9e\\xa9\\xc2\\x903z\\xc8\\xcd\\xa6\\x90\\x7f\\xea\\xd5\\x8bs\\x93\\xcc\\xdb^9\\n\\xc1c\\xeaEi\\xeac{K\\x18\\xd7\\x10\\xf7\\xccg\\x94\\xb8\\xdf\\xecc\\xfa\\xc8\\x90o\\xf3\\xc9\\x11E\\x86t\\xf9\\xe4.u\\x86\\x0c\\x00\\x12U<!\\nH\\x93\\x82\\xec\\xf1\\x99\\xfdp$\\x9e\\x18\\x8b%G\\xc8\\xe3\\n\\xfb\\x97}lF\\x8c}\\xd5\\x13\\x8dD\\xe2\\xa6Q5&\\xf3\\xa7>y\\xb2\\x10C^\\xf7\\xc9sN\\x18\\xf2\\xf7>\\xb6\\x17XZ\\xf5g4\\xee\\x8a>o\\x032\\xab\\xa4\\xc5o\\x009\\xa4\\xa4W\\t?*C\"7\\x012#J\\x12(3\\xc7h}\\xda\\xa8\\xb0\\xdfZ&\\xcf\\x8fbHO\\x99\\xec\\xads\\x8b\\x95\\xc9\\x13\\x15\\x182]\\x96ZB>^&\\xc7v\\x18r\\xa8L\\x9eY\\xc4\\x90W\\x00\\xb9\\xa0\\xe4\\xd3\\x1f\\x03rU\\xd4M\\xf4\\xcc\\xdcp\\xd4X\\xddg\\xd8y\\x0ed\\xe2Jy\\xf8k\\x1eS\\xc9^TNH\\xafb1\\x7f9\\x9b\\x93b\\xc8d2\\x11\\x1b\\x1a\\x8f\\x93n%\\xe4F\\x909\\xa6\\xd8\\xb0\\xa5\\x9c\\xb5d$\\xd2_\\xcev\\xacHdwyjZ<Z.\\xcfPb\\xc8\\x0b\\x80\\xacU\\xf4y\\xb9\\x9c\\xfeo\\xf6\\xf07\\x00Y\\xaep\\xcd\\x03\\xd2\\xaa|\\xf5\\x1f\\xe5\\xect!\\x89\\xbc\\xcb\\xc3\\x91iQ]!O\\xc5aH}\\x85<G\\x88\\xc7\\xab\\x82\\xddJ\\xf6\\xad\\x80\\xd4*\\xec\\xbb*\\xe4\\xaa\\x0f\\x86|\\xb6\\xc2X\\x0baX\\xec\\x0b\\x15r\\x1c\\x89!\\xdf\\xa4G\\xc9*\\x1a\\xfe9 ;\\x14\\xe4\\xfb\\x15\\xacm(\\xd9\\xdf\\x02\\xe4\\xb0\\xc2\\xfe\\x8b\\ns\\xfdN\\xafw\\x00\\xb9\\xa0\\xc8\\x14@\\xc7(iS\\xda\\x00\\x8f\\xb0\\x1d\\x19FY\\x07\\xd5=/\\xeb\\x8a\\xa55\\xe0\\xab^%\\x9c\\xf5\\x95\\xf2\\xfc1\\x86<\\x00\\xc8\\x15E\\xe6\\xa1\\xca\\xd4\\xd6\\xe0\\x9eJ9n\\xccsS85\\x17<Q)g\\xae\\x19B\\xf7\\xd3\\x9cUl\\xf8\\x1d@v(\\\\\\xafV\\xcayj\\x86\\xfc\\xb0R\\x8e\\x16\\xdaXK8Lq\\xa5%\\x0c2\\xa7\\x94p~\\xa3/\\xea\\xf7\\x99\\xec\\\\^\\x95Z[\\xd5W1\\xed\\x98\\x0c\\x9b\\x7f\\x96{\\xc4\\x98\\xcc\\xaa*c\\xe5\\x95\\xa1\\xf3\\xddU\\xf2\\xcc\\x07\\x86\\xf4\\x03\\x12U\\xd8\\xa3Ur\\xc4\\x83!\\x9f\\xaa2\\xd6P\\x19\\xe1|\\x1e\\x90J\\xc57\\x9e\\x05d\\x9f\\x9a\\xa6C\\xac\\xc4\\x96:\\x7f\\xb7\\x8a\\xc6\\xca\\xdc\\x8a\\xfb\\xab*9\\x96\\xcb\\x90\\x9f\\x00\\xb2_\\xf5(@.)\\xc8o\\x01\\xb9\\xa2\\xb4\\x84\\xcb\\xfc\\xf2l\\x16\\x86,\\x06\\xe4%\\xe5\\xab\\x06\\xbf\\xdck\\xcf\\xfd\\xc7/\\xcf\\xb8\\xb3\\x11\\xe3\\xf4\\x869%\\xe4\\x07\\xfc\\xc6\\xca=\\x1a\\xf7\\x91\\xdd\\x89\\xb1d\\xc4X=+ZV \\x13T\\xac1\\xe5g\\xeb\\xf9%r\\xc0/O\\xbdc\\xc8s~\\xb9r\\x86!\\x7f\\xe6\\xd7\\xff\\x98\\xd2\\xfd\\x87\\x08\\xf9\\x99_\\xee\\xda`\\xc8\\xdb\\x80L+\\xe5\\xaaV\\r\\xed\\x1f\\x05YT-G/\\x19rs\\xb5\\x1c\\xd3\\x83\\xb8O\\xc4\\xf4\\xce\\xc3\\x11%^\\xf7T\\x9bkO]@\\xac_5d\\xba\\xab\\xe5\\xda\\x15\\x1e\\xf7jv\\'u\\xfeBuj,^\\x04\\xe4\\x84\\x92:\\xdf\\x03\\xe4\\x1da\\xf9\\x10?\\x16\\xa7Y\\t\\xf9\\xcdjy\\x82\\x9c^\\x17D#1c\\x05\\xbb\\xa1\\xcf\\xbfT\\xcb\\x13\\xe4\\x18r\\xa5\\x9a\\x9d\\x07\\'\\x91\\x055r\\\\\\x8b!+\\x00Y\\xab\\xe8\\xb3\\xa1&\\xb5\\x05;\\x06\\xc8\\xbcR\\xb2}\\xbaF\\x9ez\\xc7S\\xb9\\xc6\\x9cOw\\xf1\\x06G\\xb3\\xf4\\x9fDD\\x1f\\xc9\\x99Qt\\x9e\\xad\\x91\\xe3\\x006\\xf2\\xdd\\x1a::\\x10\\x19\\x9c\\x1a\\r\\x85\\x13\\xe1\\xd8hd\\xd2x\\x1c\\x8b\\x8dL\\x88W\\x83\\x83\\x89\\xc8.\\xe3):\\x16\\x8b\\x18\\xf7#\\x89\\xf0\\xb8x\\x00#\\xd1\\xc3\\xa6\\xf4M\\x1e\\xff]\\xd9\\xd5=\\xb7\\x8d\\x02q\\xfd1}\\xbdL{mzs\\x8f\\xa9\\xeb\\xa4\\x9eIr\\xb9\\xd8i\\x1f\\x19,\\x11[g}\\rHN\\x9c\\xbf\\xfevY@\\x02!9}\\xc9X\\xb0\\x80\\xf6\\xfb\\x07v\\xd8\\xbc:\\xf2\"\\xcf\\x1e8\\x12\\xb4B\\xfe0?sj\\xa4`)Uc\\xa5\\xffx\\xfcp!\\xc5s\\xd3\\xca\\x0b;.o\\x8bVe\\xb2n\\xd9s-S1Ov\\xaa\\xdeA\\xa5\\xba\\xfa\\x1c\\x951\\x81\\x90\\x00\\xab<\\xf3\\x9d`[\\xae\\x04c\\xf1\\xe1\\xbci\\xa8\\xbcF\\xc9+\\xa0\\xcd\\xe09$4\\x113l\\xbd[\\xdd\\xdf\\xfc\\xc2R^X\\x96\\x88}_~{\\xba\\xd1\\xd5y\\x96\\x8f\\x8f$\\xa7\\xa6\\x89J\\xca\\x06\\x8fD_vE\\x8a\\n(\\xb2\\xda\\xde=\\x05\\x1ai\\xf1\\xfe/\\xd8\\x82\\xad\\x91\\xbc\\x1b\\xbf\\x1d\\xabx\\x9b\\x1f\\x05\\xdd@\\xd8a\\x9d\\xd9\\xf4p\\x96\\x08\\xab\\xa4\\n\\xbc\\xe9\\x9a\\xa5xG\\xf5\\x98\\x1eu\\x83\\xbbi\\xe4\\x80!\\x16\\xdf\\xf2\\xd8\\xb4$\\xc4\\xba\\xc8\\xc4k\\xda\\xb8\\x7f#\\x1e\\xd3Qaq}qGu\\x1cw\\xebc\\x9fX+\\x8f\\xb4\\xe6QZL\\xcd\\xbf\\xf2\\xea.\\x10\\x96\\xb9\\x99\\xf1%9#\\xc5]\\xd51\\xe0A4m^W\\x93|\\x98\\x7f~r\\x17|\\\\\\xb9+:\\xae@S\\xbb4\\xedK\\xb9\\x90oQc&\\x82f3\\xef\\xdb\\xdb\\x1b\\xee\\xd6j\\xb6+\\xea-/X\\x86\\xd7\\x85{-\\xfa\\x02\\xf1\\xd1kx\\x85\\x1aP\\xa89x\\xeb\\x9b\\xc8\\x92\\xf2\\xc4\\x8a\\xb4\\xae\\x8edx\\x83\\xd2\\xe5\\xf8l\\xeb\\x97\\xeb\\xf3\\xc4\\x0f\\x83\\xce\\xf9vFe(JQ\\xe1\\x8cR\\xe0%Sl\\xa7\\x9ey^tR$7k\\xb6\\xa8+<\\xc6|\\x14i-3lXZAF\\x9a\\x1e\\xa8\\x98\\xb7Jz\\x1bC\\xb6\\x13\\xdf\\xe4F,\\x9b3\\x08p\\x87\\x02diF\\x90\\xf5I\\x9e+\\xe1T\\xa3\\xda\\'%\\xe4\\x1d<-eO\\xa3D\\xdbA\\xb3%\\x02\\x8d\\xa4\\xe0\\x82\\xae\\xb28\\xa0H\\xff\\xd9\\xf2\\t\\xc4z%\\x9d\\xccY)\\xcaZ\\x9e.\\x1a\\xbc\\xa4\\xee#X\\xd4\\xebZ\\xa4\\xc8\\x130\\xd3\\x08\\xbc\\xc9\\x99\\xc9\\xae\\xc2\\x8b\\xe4\\x99\\xbe\\n\\x82\\xe3[\\xbep\\xe2\\xe8\\xe2\\xef\\xcbO\\x7f}\\x19\\xab\\xf2\\xf1\\xe9~\\xb3\\xba[\\xb2\\x87\\xf5\\xf2\\xe9;\\x96Z\\xba\\xfdgA\\xaa\\xc5\\xd2l\\xecw\\x060:N\\xbe\\xe8\\xaa\"?\\x88\\xe2d~\\xa97xn\\xfcg+\\x9d\\xf5\\xf2\\x07q\\xea\\x0c\\xdf\\xf6h\\xbb\\x11\\xb6\\x15y\\xc12Y\\xc0\\xcb\\xc7O\\x9f\\x13QvL\\xcf\\xa8?\\xd1\\xaf\\x02\\'\\x1c\\xc9\\xcc\\xd7\\xee%\\x8a\\x88\\x1d\\xc4\\x89\\x8c\\xdd\\xcar\\xd0\\x9f\\xaa\\xc4vC\\xb2Rht\\xec\\xe5\\xeb\\x97\\x9e\\x80g\\x99\\x9b\\xc0\\x1f\\xa8_wD/\\x05\\x96\\xbd\\x1e\\ra\\x9b\\xdb\\xb5\\x0bl\\xc3\\x1b<\\xfe\\xc0U/\\xd2\\x84\\xfd\\xc4\\x1c\\x08qr\\x85Y\\xe4\\x1b$\\x11\\xf7\\xb6\\xa3\\x9e\\x84]\\xe7U\\xf6\\xb04\\x06\\x11<~;\\xdd\\xa3\\xd7\\xdb\\x85oDk:\\xaeky\\x95eR(\\x15\\xe9\\\\`E\\x97`\\xa6\\xe5\\xabH\\x13\\xa4yX\\x0e\\xd6^\\xa9\\xfb\\xbaB\\x13\\xe5\\xdbB\\xac\\xaaE\\'%x\\xab&p\\xf3\\x8a\\xaa+1\\x0c\\xa3U\\x17\\xf9Vryb\\xf8\\xb5\\xd8oB\\x86\\x00g h\\xf0\\xc0\\x04c\\xde\\x8f\\xc8\\x13Z|\\'Z\\x8b)XcAEo\\x1c\\xf3\\xdd\\xce\\x83gh\\xcetO\\xf6\\xa0\\x9a\\xfb\\x1f-O\\xe4-\\xd3\\xd9\\xffzw\\x82\\x8e\\xfa\\xfcP\\xcf0\\x82\\x1b\\xbfT6\\xf7hW\\xe9\\x1f\\x1b\\xff\\x91\\x8aF|\\xbd\\xbc\\xfc|\\x99\\xb0y\\x7f\\xa7\\x85\\xd1dh\\xf0\\ntxeZ\\xe9\\xf0\\x90\\xa1\\xb2\\xbf~\\xc1\\xbf\\x07!+Q|\\xfe\\x93q\\x90\\x14\\xe9\\n\\x17\\xa6\\x04\\xa9\\'\\xf3J\\xfdxL\\xd1\\xc3c[\\xfc\\xcca\\x1d^<U/`\\x96\\xc9Z\\xb4O\\x15\\x892s\\x11\\xfe:/(\\x86\\xe2\\x10s\\x8cg\\x11\\xc0`B\\x1d\\xeb\\xed\\xdag\\x80\\nc\\xbd\\xb5\\x03\\xb7\\xb7\\\\\\xb5K\\x1d\\x99\\x91u}\\xa8\\xbd\\x81\\xa8{\\xa5`i\\x81\\x9f\\x92\\t\\x04\\tq\\xbde\\x8d\\xd2nn\\x16O\\xce@S:ME\\x84\\xc9S`\\x0bT\\x9b\\xa7J\\x8bGW\\xdc\\xae\\x9fM\\xdd)\\xc8\\x92eNbt\\xc6\\x1f\\xda\\x8f?\\x02o\\x86\\x92G\\xa1\\x87\\x94\\xfc?\\x08w\\xaa\\xdb\\xd2\\x11=;B\\x86\\xc4\\xf8\\xa9\\xb5\\x82\\x0e\\xf5Z8Y\\xd1\\xac\\xdfE\\x01\\x86\\xbc\\x00\\xa7\\xcfA\\xc6&<\\xd8\\x15\\xe7\\xbd!\\x8e#\\x8cf\\xff\\xed\\x84<\\xb9U\\xf3\\x88\\x86Ff\\xc1x\\xa9vLo\\xfa\\xfaqt.3\\x85\\x00{\\xe5\\xbb\\x00\\x05\\x06\\x85\\x18\\x8d\\x15\\xcd\\xa2\\xccnu\\xc8\\x19\\xc1\\xaew%\\xc1IT\\xea\\xbc\\xc5\\x04\\xc8\\xcd^\\n\\x9e\\xad27\\xef\\x84\\xd5\\xf4#\\x1e\\xa8z\\x0c\\x0c\\xd9\\x14\\n\\x9a!\\x0ft\"\\xd9\\x00\\xb0\\x00\\x8fj\\x85\\xe9\\x86\\x85\\xb6J\\x05\\xfa\\x02a3\\xd5\\x884\\x7f\\xce\\xd3\\xc1\\x1b\\x9d\\xcd\\xff\\xe0s\\xb7\\x80\\xc3\\xba\\xe6\\xba\\xab(\\x05T\\xad<\\r\\x8ci/x\\xe3Y\\x1f\\xf1\\xd8\\xfbH|[\\x81dz\\x8fI\\x1f\\'\\x961F\\x01\\x8c\\xb5`aI\\xb0g\\xb2\\xdan\\x02^o\\x05?FL\\x93F7&IG\\xc41\\xbd\\xb3slm\\xf2\\xf4@\\x89\\xf1\\x1d\\x9b\\x90\\xf7b\\xac\\x9e\\x0f\\xb2Z=%\\xf8c\\xad<G4\\xaf\\x10\\r8K\\xc4\\x8d#\\x96\\xe7\\xf6\\x88\\xc1\\xdee\\xb4Y\\xf5\\x81/\\xe8g\\xc1\\x1b\\xacmj\\xd06\\xa1{\\r\\xb2\\xc0\\xcdw\\x15\\xe2s\\xfd\\x96&\\x80B\\xd4\\xd2\\xee\\x04&\\xae\\xea\\x8a\\x1c\\x0e p\\x96L\\x06\\xec\\x98\\xd4WW\\x1b\\'\\x13d\\xdf|\\x7f\\xf9\\x9e\\xac\\x04o\\x0c\\xd8\\xc6\\x9a\\xd3\\x06\\xa1I2\\xda\\x03\\x1b\\x93H\\x1bk\\x15:#\\rW4\\xe7h~\\xac\\xb2.\\x05\\xc0\\x01\\x99\\xe4r\\x07N\\xb7\\x07g\\x8ee;\\xe3\\x8e4\\xe9\\xb9\\xf3\\n\\xcf\\xc4\\x9c0\\x8fiZ\\xc0k8a\\x1a{I\\xcd\\xa4\\xb3\\xacF\\xf7\\xe7\\xc4@\\xdchh\\x0f\\x04\\xc6\\x9cLfC\\xbb\\xbc\\xefv\\x94;Fa\\xae\\x0fZVl\\xde\\x1e\\x11\\x9b\"\\x11\\xcc\\t\\xb2TG\\\\\\xadV\\x03\\xdc\\xe0)\\xe3\\xdc\\xa1\\x01-a\\xbe\\xe9\\t20\\xc40\\xd3\\xaf\\xf3\\xce\\x83\\x90\\xa0\\x86\\x92W\\xa9\\xd0\\x1apA\\xdb\\x9c\\xe0\\x19#\\xb4\\x98\\xc2O\\x1c\\xd5z_\\xbf@\\xeepF\\xa5\\x19<\\xb3\\xc3\\x87L\\x06.\\x1c\\xb8\\x10.\\xb2r\\xdb\\xea\\x91\\x82|\\xf9\\rmpn\\x10Njr$~\\xb4\\'~.\\xf9G\\x82\\xcd _jO\\x0c2J:\\x98\\xee\\x0c\\x0c\\x9b\\x03jVB\\xa3\\xe0\\x8e\\x03\\xedq\\xaf\\x8f\\rG@p\\n1#\\x10\\tf\\xa4\\xafM-\\x83=\\xf1D\\xd2 \\xb2p\\xff\\xeeg\\xbf!\\x92\"\\xd7h\\x07\\xb2\\xeaQ\\x15K<\\xa82{\\xd0\\x81\\xeb\\x0e\\x93\\xfc\\xc8\\x9f\\x92\\xc8[\\xe1\\xa0^\\xaf\\xf8\\x14$P\\x03{)l\\xcc\\x9b|\\x80\\xc7\\xb0I\\x9b\\x03P\\x94\\xc9\\x14X\\x1d\\xa5x\\x0f\\x8d\\xc6\\xfds\\xa8\\xbbA\\x06\\xea\\x17\\xa3\\x99\\xec\\x17\\xaaA\\x9c\\x1d\\x84\\x87~&\\x0f\\x1d\\x06;Bk\\xef\\xb4\\xd8\\xd0\\xe4\\x8b\\x9ag\\xb8o*\\xf8N\\x19]\\xee\\x0f\\xaa=\\xb0R%Sa\\xd4\\x0f\\x01\\xfb\\x95.\\xd4Gq\\xdc\\xdb\\x13EP\\x9f\\x1f\\x8a\\xb0\\\\\\x8by\\xe1\\xf9\\xed\\xa8\\x05\\x07q\\xb0N}c\\xde\\x9c\\x19\\xf7\\xee0}d\\x1e\\x1c\\x80\\x06\\'\\x9f\\xe6q\\x0e[\\xccm\\x0ebH\\xe2<@\\x8a\\xa6\\x14\\xffU\\xdf\\x06\\xdeg3xx\\xc6\\xf8?PK\\x01\\x02\\x1f\\x00\\x14\\x00\\x00\\x00\\x08\\x00\\xd0\\x8d\\x8bT i\\xa1\\xfa\\xee\\xce\\x00\\x00\\x1aE\\x06\\x00\\x16\\x00$\\x00\\x00\\x00\\x00\\x00\\x00\\x00 \\x00\\x00\\x00\\x00\\x00\\x00\\x00PyCharm 2020.1 x64.exe\\n\\x00 \\x00\\x00\\x00\\x00\\x00\\x01\\x00\\x18\\x00\\xfe\\xac\\xe7\\x06\\x89M\\xd8\\x01\\x13\\x8d\\x1e\\x1e\\x89M\\xd8\\x01\\x13\\x8d\\x1e\\x1e\\x89M\\xd8\\x01PK\\x05\\x06\\x00\\x00\\x00\\x00\\x01\\x00\\x01\\x00h\\x00\\x00\\x00\"\\xcf\\x00\\x00\\x00\\x00' 0xd21867 2056511603 4112469994\n"
     ]
    }
   ],
   "source": [
    "import struct\n",
    "\n",
    "with open('myfile.zip', 'rb') as f:\n",
    "    data = f.read()\n",
    "\n",
    "start = 0\n",
    "for i in range(3):                      # show the first 3 file headers\n",
    "    start += 14\n",
    "    fields = struct.unpack('<IIIHH', data[start:start+16])\n",
    "    crc32, comp_size, uncomp_size, filenamesize, extra_size = fields\n",
    "\n",
    "    start += 16\n",
    "    filename = data[start:start+filenamesize]\n",
    "    start += filenamesize\n",
    "    extra = data[start:start+extra_size]\n",
    "    print(filename, hex(crc32), comp_size, uncomp_size)"
   ]
  },
  {
   "cell_type": "code",
   "execution_count": 53,
   "id": "487fa360",
   "metadata": {},
   "outputs": [
    {
     "name": "stdout",
     "output_type": "stream",
     "text": [
      "The main program continues to run in foreground.\n",
      "Finished background zip of: mydata.txt\n"
     ]
    }
   ],
   "source": [
    "import threading, zipfile\n",
    "\n",
    "class AsyncZip(threading.Thread):\n",
    "    def __init__(self, infile, outfile):\n",
    "        threading.Thread.__init__(self)\n",
    "        self.infile = infile\n",
    "        self.outfile = outfile\n",
    "\n",
    "    def run(self):\n",
    "        f = zipfile.ZipFile(self.outfile, 'w', zipfile.ZIP_DEFLATED)\n",
    "        f.write(self.infile)\n",
    "        f.close()\n",
    "        print('Finished background zip of:', self.infile)\n",
    "\n",
    "background = AsyncZip('mydata.txt', 'myfile.zip')\n",
    "background.start()\n",
    "print('The main program continues to run in foreground.')\n",
    "\n",
    "background.join()  "
   ]
  },
  {
   "cell_type": "code",
   "execution_count": 54,
   "id": "98b20b50",
   "metadata": {},
   "outputs": [
    {
     "name": "stderr",
     "output_type": "stream",
     "text": [
      "WARNING:root:Warning:config file server.conf not found\n",
      "ERROR:root:Error occurred\n"
     ]
    }
   ],
   "source": [
    "import logging\n",
    "logging.debug('Debugging information')\n",
    "logging.info('Informational message')\n",
    "logging.warning('Warning:config file %s not found', 'server.conf')\n",
    "logging.error('Error occurred')\n",
    "\n"
   ]
  },
  {
   "cell_type": "code",
   "execution_count": 56,
   "id": "3ce8cce3",
   "metadata": {},
   "outputs": [
    {
     "data": {
      "text/plain": [
       "(26932, array('H', [10, 700]))"
      ]
     },
     "execution_count": 56,
     "metadata": {},
     "output_type": "execute_result"
    }
   ],
   "source": [
    "from array import array\n",
    "a = array('H', [4000, 10, 700, 22222])\n",
    "sum(a),a[1:3]"
   ]
  },
  {
   "cell_type": "code",
   "execution_count": 57,
   "id": "5edf0dc1",
   "metadata": {},
   "outputs": [
    {
     "name": "stdout",
     "output_type": "stream",
     "text": [
      "Handling task1\n"
     ]
    },
    {
     "ename": "NameError",
     "evalue": "name 'starting_node' is not defined",
     "output_type": "error",
     "traceback": [
      "\u001b[1;31m---------------------------------------------------------------------------\u001b[0m",
      "\u001b[1;31mNameError\u001b[0m                                 Traceback (most recent call last)",
      "Input \u001b[1;32mIn [57]\u001b[0m, in \u001b[0;36m<cell line: 6>\u001b[1;34m()\u001b[0m\n\u001b[0;32m      3\u001b[0m d\u001b[38;5;241m.\u001b[39mappend(\u001b[38;5;124m\"\u001b[39m\u001b[38;5;124mtask4\u001b[39m\u001b[38;5;124m\"\u001b[39m)\n\u001b[0;32m      4\u001b[0m \u001b[38;5;28mprint\u001b[39m(\u001b[38;5;124m\"\u001b[39m\u001b[38;5;124mHandling\u001b[39m\u001b[38;5;124m\"\u001b[39m, d\u001b[38;5;241m.\u001b[39mpopleft())\n\u001b[1;32m----> 6\u001b[0m unsearched \u001b[38;5;241m=\u001b[39m deque([\u001b[43mstarting_node\u001b[49m])\n\u001b[0;32m      7\u001b[0m \u001b[38;5;28;01mdef\u001b[39;00m \u001b[38;5;21mbreadth_first_search\u001b[39m(unsearched):\n\u001b[0;32m      8\u001b[0m     node \u001b[38;5;241m=\u001b[39m unsearched\u001b[38;5;241m.\u001b[39mpopleft()\n",
      "\u001b[1;31mNameError\u001b[0m: name 'starting_node' is not defined"
     ]
    }
   ],
   "source": [
    "from collections import deque\n",
    "d = deque([\"task1\", \"task2\", \"task3\"])\n",
    "d.append(\"task4\")\n",
    "print(\"Handling\", d.popleft())"
   ]
  },
  {
   "cell_type": "code",
   "execution_count": 58,
   "id": "399e3e69",
   "metadata": {},
   "outputs": [
    {
     "data": {
      "text/plain": [
       "[(100, 'perl'), (200, 'tcl'), (300, 'ruby'), (400, 'lua'), (500, 'python')]"
      ]
     },
     "execution_count": 58,
     "metadata": {},
     "output_type": "execute_result"
    }
   ],
   "source": [
    "import bisect\n",
    "scores = [(100, 'perl'), (200, 'tcl'), (400, 'lua'), (500, 'python')]\n",
    "bisect.insort(scores, (300, 'ruby'))\n",
    "scores\n"
   ]
  },
  {
   "cell_type": "code",
   "execution_count": 63,
   "id": "a4124138",
   "metadata": {},
   "outputs": [
    {
     "name": "stdout",
     "output_type": "stream",
     "text": [
      "[0, 1, 2, 6, 3, 5, 4, 7, 8, 9]\n"
     ]
    },
    {
     "data": {
      "text/plain": [
       "[-5, 0, 1]"
      ]
     },
     "execution_count": 63,
     "metadata": {},
     "output_type": "execute_result"
    }
   ],
   "source": [
    "from heapq import heapify, heappop, heappush\n",
    "data = [1, 3, 5, 7, 9, 2, 4, 6, 8, 0]\n",
    "heapify(data) # rearrange the list into heap order\n",
    "print(data)\n",
    "heappush(data, -5)                # add a new entry\n",
    "[heappop(data) for i in range(3)]"
   ]
  },
  {
   "cell_type": "code",
   "execution_count": 65,
   "id": "c5031531",
   "metadata": {},
   "outputs": [
    {
     "data": {
      "text/plain": [
       "Decimal('0.74')"
      ]
     },
     "execution_count": 65,
     "metadata": {},
     "output_type": "execute_result"
    }
   ],
   "source": [
    "from decimal import *\n",
    "round(Decimal('0.70') * Decimal('1.05'), 2)\n",
    "\n",
    "#round(.70 * 1.05, 2)\n",
    "\n"
   ]
  },
  {
   "cell_type": "code",
   "execution_count": 74,
   "id": "064726ea",
   "metadata": {},
   "outputs": [
    {
     "data": {
      "text/plain": [
       "Context(prec=3, rounding=ROUND_HALF_EVEN, Emin=-999999, Emax=999999, capitals=1, clamp=0, flags=[Inexact, Rounded], traps=[InvalidOperation, DivisionByZero, Overflow])"
      ]
     },
     "execution_count": 74,
     "metadata": {},
     "output_type": "execute_result"
    }
   ],
   "source": [
    "getcontext()\n"
   ]
  },
  {
   "cell_type": "code",
   "execution_count": null,
   "id": "2dd351cd",
   "metadata": {},
   "outputs": [],
   "source": []
  },
  {
   "cell_type": "code",
   "execution_count": null,
   "id": "7ae6718b",
   "metadata": {},
   "outputs": [],
   "source": []
  },
  {
   "cell_type": "code",
   "execution_count": null,
   "id": "04cb44c7",
   "metadata": {},
   "outputs": [],
   "source": []
  },
  {
   "cell_type": "code",
   "execution_count": 80,
   "id": "d9f59845",
   "metadata": {
    "scrolled": true
   },
   "outputs": [
    {
     "name": "stdout",
     "output_type": "stream",
     "text": [
      "Package              Version\n",
      "-------------------- ---------\n",
      "anaconda             0.0.1.1\n",
      "argon2-cffi          21.3.0\n",
      "argon2-cffi-bindings 21.2.0\n",
      "asttokens            2.0.5\n",
      "attrs                21.4.0\n",
      "backcall             0.2.0\n",
      "beautifulsoup4       4.11.1\n",
      "bleach               5.0.0\n",
      "certifi              2021.10.8\n",
      "cffi                 1.15.0\n",
      "charset-normalizer   2.0.12\n",
      "colorama             0.4.4\n",
      "debugpy              1.6.0\n",
      "decorator            5.1.1\n",
      "defusedxml           0.7.1\n",
      "entrypoints          0.4\n",
      "executing            0.8.3\n",
      "fastjsonschema       2.15.3\n",
      "idna                 3.3\n",
      "importlib-resources  5.6.0\n",
      "ipykernel            6.12.1\n",
      "ipython              8.2.0\n",
      "ipython-genutils     0.2.0\n",
      "ipywidgets           7.7.0\n",
      "jedi                 0.18.1\n",
      "Jinja2               3.1.1\n",
      "jsonschema           4.4.0\n",
      "jupyter              1.0.0\n",
      "jupyter-client       7.2.2\n",
      "jupyter-console      6.4.3\n",
      "jupyter-core         4.9.2\n",
      "jupyterlab-pygments  0.2.0\n",
      "jupyterlab-widgets   1.1.0\n",
      "MarkupSafe           2.1.1\n",
      "matplotlib-inline    0.1.3\n",
      "mistune              0.8.4\n",
      "nbclient             0.5.13\n",
      "nbconvert            6.4.5\n",
      "nbformat             5.3.0\n",
      "nest-asyncio         1.5.5\n",
      "notebook             6.4.10\n",
      "numpy                1.22.3\n",
      "packaging            21.3\n",
      "panda                0.3.1\n",
      "pandocfilters        1.5.0\n",
      "parso                0.8.3\n",
      "pickleshare          0.7.5\n",
      "pip                  22.0.4\n",
      "prometheus-client    0.14.1\n",
      "prompt-toolkit       3.0.29\n",
      "psutil               5.9.0\n",
      "pure-eval            0.2.2\n",
      "pycparser            2.21\n",
      "Pygments             2.11.2\n",
      "pyparsing            3.0.8\n",
      "pyrsistent           0.18.1\n",
      "python-dateutil      2.8.2\n",
      "pywin32              303\n",
      "pywinpty             2.0.5\n",
      "pyzmq                22.3.0\n",
      "qtconsole            5.3.0\n",
      "QtPy                 2.0.1\n",
      "requests             2.27.1\n",
      "Send2Trash           1.8.0\n",
      "setuptools           47.1.0\n",
      "six                  1.16.0\n",
      "soupsieve            2.3.2\n",
      "stack-data           0.2.0\n",
      "terminado            0.13.3\n",
      "testpath             0.6.0\n",
      "tornado              6.1\n",
      "traitlets            5.1.1\n",
      "urllib3              1.26.9\n",
      "wcwidth              0.2.5\n",
      "webencodings         0.5.1\n",
      "widgetsnbextension   3.6.0\n",
      "zipp                 3.8.0\n",
      "Note: you may need to restart the kernel to use updated packages.\n"
     ]
    }
   ],
   "source": [
    "\n",
    "pip list\n"
   ]
  },
  {
   "cell_type": "code",
   "execution_count": null,
   "id": "58e851e1",
   "metadata": {},
   "outputs": [],
   "source": [
    "pip uninstall anaconda"
   ]
  },
  {
   "cell_type": "code",
   "execution_count": 1,
   "id": "933844e3",
   "metadata": {},
   "outputs": [
    {
     "name": "stdout",
     "output_type": "stream",
     "text": [
      "Package              VersionNote: you may need to restart the kernel to use updated packages.\n",
      "\n",
      "-------------------- ---------\n",
      "anaconda             0.0.1.1\n",
      "argon2-cffi          21.3.0\n",
      "argon2-cffi-bindings 21.2.0\n",
      "asttokens            2.0.5\n",
      "attrs                21.4.0\n",
      "backcall             0.2.0\n",
      "beautifulsoup4       4.11.1\n",
      "bleach               5.0.0\n",
      "certifi              2021.10.8\n",
      "cffi                 1.15.0\n",
      "charset-normalizer   2.0.12\n",
      "colorama             0.4.4\n",
      "debugpy              1.6.0\n",
      "decorator            5.1.1\n",
      "defusedxml           0.7.1\n",
      "entrypoints          0.4\n",
      "executing            0.8.3\n",
      "fastjsonschema       2.15.3\n",
      "idna                 3.3\n",
      "importlib-resources  5.6.0\n",
      "ipykernel            6.12.1\n",
      "ipython              8.2.0\n",
      "ipython-genutils     0.2.0\n",
      "ipywidgets           7.7.0\n",
      "jedi                 0.18.1\n",
      "Jinja2               3.1.1\n",
      "jsonschema           4.4.0\n",
      "jupyter              1.0.0\n",
      "jupyter-client       7.2.2\n",
      "jupyter-console      6.4.3\n",
      "jupyter-core         4.9.2\n",
      "jupyterlab-pygments  0.2.0\n",
      "jupyterlab-widgets   1.1.0\n",
      "MarkupSafe           2.1.1\n",
      "matplotlib-inline    0.1.3\n",
      "mistune              0.8.4\n",
      "nbclient             0.5.13\n",
      "nbconvert            6.4.5\n",
      "nbformat             5.3.0\n",
      "nest-asyncio         1.5.5\n",
      "notebook             6.4.10\n",
      "numpy                1.22.3\n",
      "packaging            21.3\n",
      "panda                0.3.1\n",
      "pandocfilters        1.5.0\n",
      "parso                0.8.3\n",
      "pickleshare          0.7.5\n",
      "pip                  22.0.4\n",
      "prometheus-client    0.14.1\n",
      "prompt-toolkit       3.0.29\n",
      "psutil               5.9.0\n",
      "pure-eval            0.2.2\n",
      "pycparser            2.21\n",
      "Pygments             2.11.2\n",
      "pyparsing            3.0.8\n",
      "pyrsistent           0.18.1\n",
      "python-dateutil      2.8.2\n",
      "pywin32              303\n",
      "pywinpty             2.0.5\n",
      "pyzmq                22.3.0\n",
      "qtconsole            5.3.0\n",
      "QtPy                 2.0.1\n",
      "requests             2.27.1\n",
      "Send2Trash           1.8.0\n",
      "setuptools           47.1.0\n",
      "six                  1.16.0\n",
      "soupsieve            2.3.2\n",
      "stack-data           0.2.0\n",
      "terminado            0.13.3\n",
      "testpath             0.6.0\n",
      "tornado              6.1\n",
      "traitlets            5.1.1\n",
      "urllib3              1.26.9\n",
      "wcwidth              0.2.5\n",
      "webencodings         0.5.1\n",
      "widgetsnbextension   3.6.0\n",
      "zipp                 3.8.0\n"
     ]
    }
   ],
   "source": [
    "pip list"
   ]
  },
  {
   "cell_type": "code",
   "execution_count": 3,
   "id": "55773890",
   "metadata": {},
   "outputs": [
    {
     "data": {
      "text/plain": [
       "0.1"
      ]
     },
     "execution_count": 3,
     "metadata": {},
     "output_type": "execute_result"
    }
   ],
   "source": [
    "7205759403792794 / 2 ** 56"
   ]
  },
  {
   "cell_type": "code",
   "execution_count": 4,
   "id": "482b3163",
   "metadata": {},
   "outputs": [
    {
     "data": {
      "text/plain": [
       "72057594037927936"
      ]
     },
     "execution_count": 4,
     "metadata": {},
     "output_type": "execute_result"
    }
   ],
   "source": [
    "2 ** 56"
   ]
  },
  {
   "cell_type": "code",
   "execution_count": 8,
   "id": "d5df26b6",
   "metadata": {},
   "outputs": [
    {
     "data": {
      "text/plain": [
       "1.4411518807585588e+16"
      ]
     },
     "execution_count": 8,
     "metadata": {},
     "output_type": "execute_result"
    }
   ],
   "source": [
    "2 ** 57 / 10"
   ]
  },
  {
   "cell_type": "code",
   "execution_count": 9,
   "id": "085509f0",
   "metadata": {},
   "outputs": [
    {
     "data": {
      "text/plain": [
       "3602879701896397.0"
      ]
     },
     "execution_count": 9,
     "metadata": {},
     "output_type": "execute_result"
    }
   ],
   "source": [
    "0.1 * 2 ** 55"
   ]
  },
  {
   "cell_type": "code",
   "execution_count": 13,
   "id": "07869fdf",
   "metadata": {},
   "outputs": [
    {
     "data": {
      "text/plain": [
       "129807421463370697919021812023296"
      ]
     },
     "execution_count": 13,
     "metadata": {},
     "output_type": "execute_result"
    }
   ],
   "source": [
    "3602879701896397 * 10 ** 55 // 5 ** 55"
   ]
  },
  {
   "cell_type": "code",
   "execution_count": 14,
   "id": "78525c9e",
   "metadata": {},
   "outputs": [
    {
     "data": {
      "text/plain": [
       "129807421463370697919021812023296"
      ]
     },
     "execution_count": 14,
     "metadata": {},
     "output_type": "execute_result"
    }
   ],
   "source": [
    "3602879701896397 * 2 ** 55"
   ]
  },
  {
   "cell_type": "code",
   "execution_count": 17,
   "id": "3a8cc111",
   "metadata": {},
   "outputs": [
    {
     "data": {
      "text/plain": [
       "Decimal('0.1000000000000000055511151231257827021181583404541015625')"
      ]
     },
     "execution_count": 17,
     "metadata": {},
     "output_type": "execute_result"
    }
   ],
   "source": [
    " Decimal.from_float(0.1)"
   ]
  },
  {
   "cell_type": "code",
   "execution_count": 18,
   "id": "33b9eae3",
   "metadata": {},
   "outputs": [
    {
     "data": {
      "text/plain": [
       "'0.10000000000000001'"
      ]
     },
     "execution_count": 18,
     "metadata": {},
     "output_type": "execute_result"
    }
   ],
   "source": [
    "format(Decimal.from_float(0.1), '.17')"
   ]
  },
  {
   "cell_type": "code",
   "execution_count": 19,
   "id": "80547891",
   "metadata": {},
   "outputs": [
    {
     "data": {
      "text/plain": [
       "True"
      ]
     },
     "execution_count": 19,
     "metadata": {},
     "output_type": "execute_result"
    }
   ],
   "source": [
    "0.1 == 0.1"
   ]
  },
  {
   "cell_type": "code",
   "execution_count": 25,
   "id": "742cfc50",
   "metadata": {},
   "outputs": [
    {
     "data": {
      "text/plain": [
       "False"
      ]
     },
     "execution_count": 25,
     "metadata": {},
     "output_type": "execute_result"
    }
   ],
   "source": [
    " Decimal.from_float(0.1) * 10 == 1"
   ]
  },
  {
   "cell_type": "code",
   "execution_count": 26,
   "id": "a6a27b42",
   "metadata": {},
   "outputs": [
    {
     "data": {
      "text/plain": [
       "(3602879701896397, 36028797018963968)"
      ]
     },
     "execution_count": 26,
     "metadata": {},
     "output_type": "execute_result"
    }
   ],
   "source": [
    "(0.1).as_integer_ratio()"
   ]
  },
  {
   "cell_type": "code",
   "execution_count": 27,
   "id": "26a94367",
   "metadata": {},
   "outputs": [
    {
     "data": {
      "text/plain": [
       "'aass'"
      ]
     },
     "execution_count": 27,
     "metadata": {},
     "output_type": "execute_result"
    }
   ],
   "source": [
    "'aa''ss'"
   ]
  },
  {
   "cell_type": "code",
   "execution_count": 28,
   "id": "e0000481",
   "metadata": {},
   "outputs": [
    {
     "data": {
      "text/plain": [
       "'aaadasdadas'"
      ]
     },
     "execution_count": 28,
     "metadata": {},
     "output_type": "execute_result"
    }
   ],
   "source": [
    "'aaa'\"dasdadas\""
   ]
  },
  {
   "cell_type": "code",
   "execution_count": 42,
   "id": "9392dd4e",
   "metadata": {},
   "outputs": [
    {
     "ename": "NameError",
     "evalue": "name 'concat' is not defined",
     "output_type": "error",
     "traceback": [
      "\u001b[1;31m---------------------------------------------------------------------------\u001b[0m",
      "\u001b[1;31mNameError\u001b[0m                                 Traceback (most recent call last)",
      "Input \u001b[1;32mIn [42]\u001b[0m, in \u001b[0;36m<cell line: 5>\u001b[1;34m()\u001b[0m\n\u001b[0;32m      2\u001b[0m \u001b[38;5;28;01mfor\u001b[39;00m i \u001b[38;5;129;01min\u001b[39;00m x:\n\u001b[0;32m      3\u001b[0m     x\u001b[38;5;241m.\u001b[39m\u001b[38;5;21m__add__\u001b[39m(i)\n\u001b[1;32m----> 5\u001b[0m \u001b[38;5;28mprint\u001b[39m(\u001b[43mconcat\u001b[49m(x,x,x,x))\n",
      "\u001b[1;31mNameError\u001b[0m: name 'concat' is not defined"
     ]
    }
   ],
   "source": [
    "x = 'asd'\n",
    "for i in x:\n",
    "    x.__add__(i)"
   ]
  },
  {
   "cell_type": "code",
   "execution_count": 43,
   "id": "22aa643e",
   "metadata": {},
   "outputs": [
    {
     "data": {
      "text/plain": [
       "'asd'"
      ]
     },
     "execution_count": 43,
     "metadata": {},
     "output_type": "execute_result"
    }
   ],
   "source": [
    "x"
   ]
  },
  {
   "cell_type": "code",
   "execution_count": 44,
   "id": "0dbb1fec",
   "metadata": {},
   "outputs": [
    {
     "data": {
      "text/plain": [
       "'asdasd'"
      ]
     },
     "execution_count": 44,
     "metadata": {},
     "output_type": "execute_result"
    }
   ],
   "source": [
    "x + x"
   ]
  },
  {
   "cell_type": "code",
   "execution_count": null,
   "id": "ff1145bb",
   "metadata": {},
   "outputs": [],
   "source": [
    ">>> name = \"Fred\"\n",
    ">>> f\"He said his name is {name!r}.\"\n",
    "\"He said his name is 'Fred'.\"\n",
    ">>> f\"He said his name is {repr(name)}.\"  # repr() is equivalent to !r\n",
    "\"He said his name is 'Fred'.\"\n",
    ">>> width = 10\n",
    ">>> precision = 4\n",
    ">>> value = decimal.Decimal(\"12.34567\")\n",
    ">>> f\"result: {value:{width}.{precision}}\"  # nested fields\n",
    "'result:      12.35'\n",
    ">>> today = datetime(year=2017, month=1, day=27)\n",
    ">>> f\"{today:%B %d, %Y}\"  # using date format specifier\n",
    "'January 27, 2017'\n",
    ">>> f\"{today=:%B %d, %Y}\" # using date format specifier and debugging\n",
    "'today=January 27, 2017'\n",
    ">>> number = 1024\n",
    ">>> f\"{number:#0x}\"  # using integer format specifier\n",
    "'0x400'\n",
    ">>> foo = \"bar\"\n",
    ">>> f\"{ foo = }\" # preserves whitespace\n",
    "\" foo = 'bar'\"\n",
    ">>> line = \"The mill's closed\"\n",
    ">>> f\"{line = }\"\n",
    "'line = \"The mill\\'s closed\"'\n",
    ">>> f\"{line = :20}\"\n",
    "\"line = The mill's closed   \"\n",
    ">>> f\"{line = !r:20}\""
   ]
  },
  {
   "cell_type": "code",
   "execution_count": 45,
   "id": "53298adc",
   "metadata": {},
   "outputs": [
    {
     "data": {
      "text/plain": [
       "\"He said his name is 'Fred'.\""
      ]
     },
     "execution_count": 45,
     "metadata": {},
     "output_type": "execute_result"
    }
   ],
   "source": [
    "name = \"Fred\"\n",
    "f'He said his name is {name!r}.'"
   ]
  },
  {
   "cell_type": "code",
   "execution_count": 50,
   "id": "f8d8cc5f",
   "metadata": {},
   "outputs": [
    {
     "data": {
      "text/plain": [
       "47308688"
      ]
     },
     "execution_count": 50,
     "metadata": {},
     "output_type": "execute_result"
    }
   ],
   "source": [
    "import random\n",
    "id(random)"
   ]
  },
  {
   "cell_type": "code",
   "execution_count": 51,
   "id": "2ee7e763",
   "metadata": {},
   "outputs": [
    {
     "data": {
      "text/plain": [
       "True"
      ]
     },
     "execution_count": 51,
     "metadata": {},
     "output_type": "execute_result"
    }
   ],
   "source": [
    "random is random\n"
   ]
  },
  {
   "cell_type": "code",
   "execution_count": 52,
   "id": "bf26f082",
   "metadata": {},
   "outputs": [
    {
     "data": {
      "text/plain": [
       "True"
      ]
     },
     "execution_count": 52,
     "metadata": {},
     "output_type": "execute_result"
    }
   ],
   "source": [
    "id([1,2]) == id([1,2])"
   ]
  },
  {
   "cell_type": "code",
   "execution_count": 53,
   "id": "ba794122",
   "metadata": {},
   "outputs": [
    {
     "data": {
      "text/plain": [
       "False"
      ]
     },
     "execution_count": 53,
     "metadata": {},
     "output_type": "execute_result"
    }
   ],
   "source": [
    "x = [1,2]\n",
    "id(x) == id([1,2])"
   ]
  },
  {
   "cell_type": "code",
   "execution_count": 57,
   "id": "9d23471a",
   "metadata": {},
   "outputs": [
    {
     "name": "stdout",
     "output_type": "stream",
     "text": [
      "5050\n"
     ]
    }
   ],
   "source": [
    "def sum(n:int) -> int:\n",
    "    result = 0\n",
    "    for i in range(1,n + 1):\n",
    "        result += i\n",
    "    return result\n",
    "print(sum(100))        "
   ]
  },
  {
   "cell_type": "code",
   "execution_count": 62,
   "id": "66273311",
   "metadata": {},
   "outputs": [
    {
     "name": "stdout",
     "output_type": "stream",
     "text": [
      "120\n"
     ]
    }
   ],
   "source": [
    "def factorial(n:int) -> int:\n",
    "    result = 1\n",
    "    for i in range(1,n + 1):\n",
    "        result *= i\n",
    "    return result\n",
    "\n",
    "print(factorial(5))"
   ]
  },
  {
   "cell_type": "code",
   "execution_count": 68,
   "id": "2e915361",
   "metadata": {
    "collapsed": true
   },
   "outputs": [
    {
     "name": "stdout",
     "output_type": "stream",
     "text": [
      "{'hello': 1, 'python': 3, 'learning': 1, 'like': 1}\n"
     ]
    }
   ],
   "source": [
    "def countWords(sentence:str,sep:str) -> dict:\n",
    "    for c in sep:\n",
    "        sentence = sentence.replace(c,' ')\n",
    "    words = sentence.lower().split(' ')\n",
    "    return dict([(word,words.count(word)) for word in words])\n",
    "\n",
    "print(countWords('hello python.Learning Python,like Python',',.'))"
   ]
  },
  {
   "cell_type": "code",
   "execution_count": null,
   "id": "cae21534",
   "metadata": {},
   "outputs": [],
   "source": []
  },
  {
   "cell_type": "code",
   "execution_count": 69,
   "id": "0fe0df4a",
   "metadata": {},
   "outputs": [
    {
     "name": "stdout",
     "output_type": "stream",
     "text": [
      "Help on class object in module builtins:\n",
      "\n",
      "class object\n",
      " |  The base class of the class hierarchy.\n",
      " |  \n",
      " |  When called, it accepts no arguments and returns a new featureless\n",
      " |  instance that has no instance attributes and cannot be given any.\n",
      " |  \n",
      " |  Built-in subclasses:\n",
      " |      ArgNotFound\n",
      " |      async_generator\n",
      " |      BaseException\n",
      " |      builtin_function_or_method\n",
      " |      ... and 124 other subclasses\n",
      " |  \n",
      " |  Methods defined here:\n",
      " |  \n",
      " |  __delattr__(self, name, /)\n",
      " |      Implement delattr(self, name).\n",
      " |  \n",
      " |  __dir__(self, /)\n",
      " |      Default dir() implementation.\n",
      " |  \n",
      " |  __eq__(self, value, /)\n",
      " |      Return self==value.\n",
      " |  \n",
      " |  __format__(self, format_spec, /)\n",
      " |      Default object formatter.\n",
      " |  \n",
      " |  __ge__(self, value, /)\n",
      " |      Return self>=value.\n",
      " |  \n",
      " |  __getattribute__(self, name, /)\n",
      " |      Return getattr(self, name).\n",
      " |  \n",
      " |  __gt__(self, value, /)\n",
      " |      Return self>value.\n",
      " |  \n",
      " |  __hash__(self, /)\n",
      " |      Return hash(self).\n",
      " |  \n",
      " |  __init__(self, /, *args, **kwargs)\n",
      " |      Initialize self.  See help(type(self)) for accurate signature.\n",
      " |  \n",
      " |  __le__(self, value, /)\n",
      " |      Return self<=value.\n",
      " |  \n",
      " |  __lt__(self, value, /)\n",
      " |      Return self<value.\n",
      " |  \n",
      " |  __ne__(self, value, /)\n",
      " |      Return self!=value.\n",
      " |  \n",
      " |  __reduce__(self, /)\n",
      " |      Helper for pickle.\n",
      " |  \n",
      " |  __reduce_ex__(self, protocol, /)\n",
      " |      Helper for pickle.\n",
      " |  \n",
      " |  __repr__(self, /)\n",
      " |      Return repr(self).\n",
      " |  \n",
      " |  __setattr__(self, name, value, /)\n",
      " |      Implement setattr(self, name, value).\n",
      " |  \n",
      " |  __sizeof__(self, /)\n",
      " |      Size of object in memory, in bytes.\n",
      " |  \n",
      " |  __str__(self, /)\n",
      " |      Return str(self).\n",
      " |  \n",
      " |  ----------------------------------------------------------------------\n",
      " |  Class methods defined here:\n",
      " |  \n",
      " |  __init_subclass__(...) from builtins.type\n",
      " |      This method is called when a class is subclassed.\n",
      " |      \n",
      " |      The default implementation does nothing. It may be\n",
      " |      overridden to extend subclasses.\n",
      " |  \n",
      " |  __subclasshook__(...) from builtins.type\n",
      " |      Abstract classes can override this to customize issubclass().\n",
      " |      \n",
      " |      This is invoked early on by abc.ABCMeta.__subclasscheck__().\n",
      " |      It should return True, False or NotImplemented.  If it returns\n",
      " |      NotImplemented, the normal algorithm is used.  Otherwise, it\n",
      " |      overrides the normal algorithm (and the outcome is cached).\n",
      " |  \n",
      " |  ----------------------------------------------------------------------\n",
      " |  Static methods defined here:\n",
      " |  \n",
      " |  __new__(*args, **kwargs) from builtins.type\n",
      " |      Create and return a new object.  See help(type) for accurate signature.\n",
      " |  \n",
      " |  ----------------------------------------------------------------------\n",
      " |  Data and other attributes defined here:\n",
      " |  \n",
      " |  __class__ = <class 'type'>\n",
      " |      type(object_or_name, bases, dict)\n",
      " |      type(object) -> the object's type\n",
      " |      type(name, bases, dict) -> a new type\n",
      "\n"
     ]
    }
   ],
   "source": [
    "help(object)"
   ]
  },
  {
   "cell_type": "code",
   "execution_count": 71,
   "id": "2180d14e",
   "metadata": {},
   "outputs": [
    {
     "data": {
      "text/plain": [
       "type"
      ]
     },
     "execution_count": 71,
     "metadata": {},
     "output_type": "execute_result"
    }
   ],
   "source": [
    "type.__class__"
   ]
  },
  {
   "cell_type": "code",
   "execution_count": 5,
   "id": "cbd80e7e",
   "metadata": {},
   "outputs": [
    {
     "name": "stdout",
     "output_type": "stream",
     "text": [
      "类的方法外调用1\n",
      "类的方法外调用2\n",
      "类的方法外调用3\n",
      "构造方法中调用\n",
      "工作中\n"
     ]
    },
    {
     "ename": "NameError",
     "evalue": "name 'rest' is not defined",
     "output_type": "error",
     "traceback": [
      "\u001b[1;31m---------------------------------------------------------------------------\u001b[0m",
      "\u001b[1;31mNameError\u001b[0m                                 Traceback (most recent call last)",
      "Input \u001b[1;32mIn [5]\u001b[0m, in \u001b[0;36m<cell line: 19>\u001b[1;34m()\u001b[0m\n\u001b[0;32m     17\u001b[0m     \u001b[38;5;28mprint\u001b[39m(\u001b[38;5;124m'\u001b[39m\u001b[38;5;124m类的方法外调用3\u001b[39m\u001b[38;5;124m'\u001b[39m) \n\u001b[0;32m     18\u001b[0m emp \u001b[38;5;241m=\u001b[39m Emp(\u001b[38;5;241m1\u001b[39m,\u001b[38;5;124m'\u001b[39m\u001b[38;5;124m张三\u001b[39m\u001b[38;5;124m'\u001b[39m,\u001b[38;5;124m'\u001b[39m\u001b[38;5;124mmale\u001b[39m\u001b[38;5;124m'\u001b[39m,\u001b[38;5;241m8000\u001b[39m)\n\u001b[1;32m---> 19\u001b[0m \u001b[43memp\u001b[49m\u001b[38;5;241;43m.\u001b[39;49m\u001b[43mwork\u001b[49m\u001b[43m(\u001b[49m\u001b[43m)\u001b[49m\n\u001b[0;32m     20\u001b[0m emp\u001b[38;5;241m.\u001b[39mprintInfo()\n",
      "Input \u001b[1;32mIn [5]\u001b[0m, in \u001b[0;36mEmp.work\u001b[1;34m(self)\u001b[0m\n\u001b[0;32m     10\u001b[0m \u001b[38;5;28;01mdef\u001b[39;00m \u001b[38;5;21mwork\u001b[39m(\u001b[38;5;28mself\u001b[39m):\n\u001b[0;32m     11\u001b[0m     \u001b[38;5;28mprint\u001b[39m(\u001b[38;5;124m'\u001b[39m\u001b[38;5;124m工作中\u001b[39m\u001b[38;5;124m'\u001b[39m)\n\u001b[1;32m---> 12\u001b[0m     \u001b[43mrest\u001b[49m()\n",
      "\u001b[1;31mNameError\u001b[0m: name 'rest' is not defined"
     ]
    }
   ],
   "source": [
    "class Emp:\n",
    "    print('类的方法外调用1')\n",
    "    def __init__(self,id,name,gender,salary):\n",
    "        print('构造方法中调用')\n",
    "        self.id = id\n",
    "        self.name = name\n",
    "        self.gender = gender\n",
    "        self.salary = salary\n",
    "    print('类的方法外调用2')\n",
    "    def work(self):\n",
    "        print('工作中')\n",
    "        self.rest()\n",
    "    def rest(self):\n",
    "        print('休息中')\n",
    "    def printInfo(self):\n",
    "        print('id=',self.id,',name=',self.name,',gender=',self.gender,',salary=',self.salary)\n",
    "    print('类的方法外调用3') \n",
    "emp = Emp(1,'张三','male',8000)\n",
    "emp.work()\n",
    "emp.printInfo()"
   ]
  },
  {
   "cell_type": "code",
   "execution_count": null,
   "id": "8bfbfe6a",
   "metadata": {},
   "outputs": [],
   "source": []
  },
  {
   "cell_type": "code",
   "execution_count": null,
   "id": "1cf89b4d",
   "metadata": {},
   "outputs": [],
   "source": []
  },
  {
   "cell_type": "code",
   "execution_count": null,
   "id": "3b9289fd",
   "metadata": {},
   "outputs": [],
   "source": []
  },
  {
   "cell_type": "code",
   "execution_count": null,
   "id": "dbaad273",
   "metadata": {},
   "outputs": [],
   "source": []
  },
  {
   "cell_type": "code",
   "execution_count": null,
   "id": "87d234f7",
   "metadata": {},
   "outputs": [],
   "source": []
  },
  {
   "cell_type": "code",
   "execution_count": null,
   "id": "fd75c8cf",
   "metadata": {},
   "outputs": [],
   "source": []
  },
  {
   "cell_type": "code",
   "execution_count": 13,
   "id": "25610137",
   "metadata": {},
   "outputs": [
    {
     "name": "stdout",
     "output_type": "stream",
     "text": [
      "父类的方法外调用1\n",
      "父类的方法外调用2\n",
      "子类的方法外调用1\n",
      "子类的方法外调用2\n",
      "子类的构造方法\n",
      "自拍美颜一个\n",
      "发个短信:你还好吗...\n",
      "来个视频通话，让他看看你的熔岩...\n"
     ]
    },
    {
     "ename": "TypeError",
     "evalue": "'type' object is not subscriptable",
     "output_type": "error",
     "traceback": [
      "\u001b[1;31m---------------------------------------------------------------------------\u001b[0m",
      "\u001b[1;31mTypeError\u001b[0m                                 Traceback (most recent call last)",
      "Input \u001b[1;32mIn [13]\u001b[0m, in \u001b[0;36m<cell line: 40>\u001b[1;34m()\u001b[0m\n\u001b[0;32m     38\u001b[0m iphone\u001b[38;5;241m.\u001b[39mphote()\n\u001b[0;32m     39\u001b[0m iphone\u001b[38;5;241m.\u001b[39mmessage(\u001b[38;5;124m'\u001b[39m\u001b[38;5;124m你还好吗...\u001b[39m\u001b[38;5;124m'\u001b[39m)\n\u001b[1;32m---> 40\u001b[0m \u001b[43miphone\u001b[49m\u001b[38;5;241;43m.\u001b[39;49m\u001b[43mcall\u001b[49m\u001b[43m(\u001b[49m\u001b[43m)\u001b[49m\n\u001b[0;32m     41\u001b[0m \u001b[38;5;28mprint\u001b[39m(Iphone\u001b[38;5;241m.\u001b[39m__base__)\n",
      "Input \u001b[1;32mIn [13]\u001b[0m, in \u001b[0;36mIphone.call\u001b[1;34m(self)\u001b[0m\n\u001b[0;32m     30\u001b[0m \u001b[38;5;28;01mdef\u001b[39;00m \u001b[38;5;21mcall\u001b[39m(\u001b[38;5;28mself\u001b[39m):\n\u001b[0;32m     31\u001b[0m     \u001b[38;5;28mprint\u001b[39m(\u001b[38;5;124m\"\u001b[39m\u001b[38;5;124m来个视频通话，让他看看你的熔岩...\u001b[39m\u001b[38;5;124m\"\u001b[39m)\n\u001b[1;32m---> 32\u001b[0m     \u001b[38;5;28;43msuper\u001b[39;49m\u001b[43m[\u001b[49m\u001b[38;5;241;43m0\u001b[39;49m\u001b[43m]\u001b[49m\u001b[38;5;241m.\u001b[39mmessege(\u001b[38;5;124m'\u001b[39m\u001b[38;5;124mhaha\u001b[39m\u001b[38;5;124m'\u001b[39m)\n",
      "\u001b[1;31mTypeError\u001b[0m: 'type' object is not subscriptable"
     ]
    }
   ],
   "source": [
    "class Phone:\n",
    "    \n",
    "    print('父类的方法外调用1')\n",
    "    \n",
    "    def __init__(self,size,color):\n",
    "        print('父类的构造方法')\n",
    "        self.size = size\n",
    "        self.color = color\n",
    "\n",
    "    def call(self):\n",
    "        print('打个电话啦')\n",
    "  \n",
    "    def message(self,content):\n",
    "        print('发个短信:'+ content)\n",
    "        \n",
    "    print('父类的方法外调用2')\n",
    "            \n",
    "class Iphone(Phone):\n",
    "    \n",
    "    print('子类的方法外调用1')\n",
    "    \n",
    "    def __init__(self,size,color):\n",
    "        print('子类的构造方法')\n",
    "        self.size=size\n",
    "        self.color=color\n",
    "\n",
    "    def phote(self):\n",
    "        print(\"自拍美颜一个\")\n",
    "\n",
    "    def call(self):\n",
    "        print(\"来个视频通话，让他看看你的熔岩...\")\n",
    "        \n",
    "    \n",
    "    print('子类的方法外调用2')\n",
    "    \n",
    "iphone = Iphone('6.7','金色')\n",
    "iphone.phote()\n",
    "iphone.message('你还好吗...')\n",
    "iphone.call()\n",
    "print(Iphone.__base__)"
   ]
  },
  {
   "cell_type": "code",
   "execution_count": 14,
   "id": "bce06714",
   "metadata": {},
   "outputs": [
    {
     "name": "stdout",
     "output_type": "stream",
     "text": [
      "周明在11届土木3班上课\n",
      "周明开始吃饭了\n",
      "这个学生在干嘛？\n",
      "周明开始吃饭了\n"
     ]
    }
   ],
   "source": [
    "class Person():\n",
    "    \"人的类\"\n",
    "    def __init__(self,name,age,sex):\n",
    "        self.name = name\n",
    "        self.age = age\n",
    "        self.sex = sex\n",
    "    def eat(self):\n",
    "        print(\"%s开始吃饭了\"%self.name)\n",
    "class Student(Person):\n",
    "    \"学生类\"\n",
    "    def __init__(self,name,age,sex,classnaem):\n",
    "        #子类调用父类的构造函数进行初始化\n",
    "        Person.__init__(self,name,age,sex)  #通过子类把参数传给父类（self不能少，self只有在实例化和实例调用类时才能省略，此处不是）\n",
    "        self.classnaem = classnaem\n",
    "    def course(self):\n",
    "        print(\"%s在%s上课\"%(self.name,self.classnaem))\n",
    "    def done(self):\n",
    "        print(\"这个学生在干嘛？\")\n",
    "        #子类调用父类方法\n",
    "        Person.eat(self)    #子类在调用父类方法必须要传self\n",
    "#实例化一个子类\n",
    "student = Student(\"周明\",23,'男',\"11届土木3班\")\n",
    "#调用子类本身的方法\n",
    "student.course()\n",
    "#通过子类调用父类的方法--->实例化之后来调用父类的方法\n",
    "student.eat()\n",
    "#调用子类的方法，在子类方法中调用了子类的方法，与student.eat有区别\n",
    "student.done()"
   ]
  },
  {
   "cell_type": "code",
   "execution_count": 15,
   "id": "b3d655e2",
   "metadata": {},
   "outputs": [
    {
     "name": "stdout",
     "output_type": "stream",
     "text": [
      "周明在11届土木3班上课\n",
      "周明开始吃饭了\n",
      "这个学生在干嘛？\n",
      "周明开始吃饭了\n"
     ]
    }
   ],
   "source": [
    "class Person():\n",
    "    \"人的类\"\n",
    "    def __init__(self,name,age,sex):\n",
    "        self.name = name\n",
    "        self.age = age\n",
    "        self.sex = sex\n",
    "    def eat(self):\n",
    "        print(\"%s开始吃饭了\"%self.name)\n",
    "class Student(Person):\n",
    "    \"学生类\"\n",
    "    def __init__(self,name,age,sex,classnaem):\n",
    "        #子类调用父类的构造函数进行初始化\n",
    "        # Person.__init__(self,name,age,sex)  #通过子类把参数传给父类（self不能少，self只有在实例化和实例调用类时才能省略，此处不是）\n",
    "        #使用super来替换父类名\n",
    "        super().__init__(name,age,sex)  #通过子类把参数传给父类，用super可以省略self\n",
    "        self.classnaem = classnaem\n",
    "    def course(self):\n",
    "        print(\"%s在%s上课\"%(self.name,self.classnaem))\n",
    "    def done(self):\n",
    "        print(\"这个学生在干嘛？\")\n",
    "        #子类调用父类方法\n",
    "        super().eat()    #子类在调用父类方法,使用super可以省略self\n",
    "#实例化一个子类\n",
    "student = Student(\"周明\",23,'男',\"11届土木3班\")\n",
    "#调用子类本身的方法\n",
    "student.course()\n",
    "#通过子类调用父类的方法--->实例化之后来调用父类的方法\n",
    "student.eat()\n",
    "#调用子类的方法，在子类方法中调用了子类的方法，与student.eat有区别\n",
    "student.done()"
   ]
  },
  {
   "cell_type": "code",
   "execution_count": 16,
   "id": "c794e933",
   "metadata": {},
   "outputs": [
    {
     "name": "stdout",
     "output_type": "stream",
     "text": [
      "3\n",
      "-3\n",
      "-3\n"
     ]
    }
   ],
   "source": [
    "def sum(a,b):\n",
    "    return a+b\n",
    "\n",
    "def fun(sum):\n",
    "    def s_fun(a,b):\n",
    "        ret=sum(a,b)\n",
    "        return -ret\n",
    "    return s_fun\n",
    "print(sum(1,2))\n",
    "sum_2=fun(sum)\n",
    "print(sum_2(1,2))\n",
    "\n",
    "@fun\n",
    "def sum_2(a,b):\n",
    "    return a+b\n",
    "print(sum_2(1,2))"
   ]
  },
  {
   "cell_type": "code",
   "execution_count": 22,
   "id": "840cf672",
   "metadata": {},
   "outputs": [
    {
     "name": "stdout",
     "output_type": "stream",
     "text": [
      "logical value of NotImplemented is True\n"
     ]
    }
   ],
   "source": [
    "if NotImplemented:print('logical value of NotImplemented is True')"
   ]
  },
  {
   "cell_type": "code",
   "execution_count": 28,
   "id": "79438d83",
   "metadata": {},
   "outputs": [],
   "source": [
    "a = Ellipsis\n",
    "#a = NotImplemented"
   ]
  },
  {
   "cell_type": "code",
   "execution_count": null,
   "id": "0a135799",
   "metadata": {},
   "outputs": [],
   "source": []
  },
  {
   "cell_type": "code",
   "execution_count": null,
   "id": "730d2cee",
   "metadata": {},
   "outputs": [],
   "source": []
  },
  {
   "cell_type": "code",
   "execution_count": 29,
   "id": "a37c872f",
   "metadata": {},
   "outputs": [
    {
     "data": {
      "text/plain": [
       "ellipsis"
      ]
     },
     "execution_count": 29,
     "metadata": {},
     "output_type": "execute_result"
    }
   ],
   "source": [
    "type(a)"
   ]
  },
  {
   "cell_type": "code",
   "execution_count": 31,
   "id": "45579213",
   "metadata": {},
   "outputs": [
    {
     "data": {
      "text/plain": [
       "['ABCMeta',\n",
       " 'Complex',\n",
       " 'Integral',\n",
       " 'Number',\n",
       " 'Rational',\n",
       " 'Real',\n",
       " '__all__',\n",
       " '__builtins__',\n",
       " '__cached__',\n",
       " '__doc__',\n",
       " '__file__',\n",
       " '__loader__',\n",
       " '__name__',\n",
       " '__package__',\n",
       " '__spec__',\n",
       " 'abstractmethod']"
      ]
     },
     "execution_count": 31,
     "metadata": {},
     "output_type": "execute_result"
    }
   ],
   "source": [
    "import numbers\n",
    "dir(numbers)"
   ]
  },
  {
   "cell_type": "code",
   "execution_count": 32,
   "id": "7fa1616e",
   "metadata": {},
   "outputs": [
    {
     "name": "stdout",
     "output_type": "stream",
     "text": [
      "Package              VersionNote: you may need to restart the kernel to use updated packages.\n",
      "\n",
      "-------------------- ---------\n",
      "anaconda             0.0.1.1\n",
      "argon2-cffi          21.3.0\n",
      "argon2-cffi-bindings 21.2.0\n",
      "asttokens            2.0.5\n",
      "attrs                21.4.0\n",
      "backcall             0.2.0\n",
      "beautifulsoup4       4.11.1\n",
      "bleach               5.0.0\n",
      "certifi              2021.10.8\n",
      "cffi                 1.15.0\n",
      "charset-normalizer   2.0.12\n",
      "colorama             0.4.4\n",
      "debugpy              1.6.0\n",
      "decorator            5.1.1\n",
      "defusedxml           0.7.1\n",
      "entrypoints          0.4\n",
      "executing            0.8.3\n",
      "fastjsonschema       2.15.3\n",
      "idna                 3.3\n",
      "importlib-resources  5.6.0\n",
      "ipykernel            6.12.1\n",
      "ipython              8.2.0\n",
      "ipython-genutils     0.2.0\n",
      "ipywidgets           7.7.0\n",
      "jedi                 0.18.1\n",
      "Jinja2               3.1.1\n",
      "jsonschema           4.4.0\n",
      "jupyter              1.0.0\n",
      "jupyter-client       7.2.2\n",
      "jupyter-console      6.4.3\n",
      "jupyter-core         4.9.2\n",
      "jupyterlab-pygments  0.2.0\n",
      "jupyterlab-widgets   1.1.0\n",
      "MarkupSafe           2.1.1\n",
      "matplotlib-inline    0.1.3\n",
      "mistune              0.8.4\n",
      "nbclient             0.5.13\n",
      "nbconvert            6.4.5\n",
      "nbformat             5.3.0\n",
      "nest-asyncio         1.5.5\n",
      "notebook             6.4.10\n",
      "numpy                1.22.3\n",
      "packaging            21.3\n",
      "panda                0.3.1\n",
      "pandocfilters        1.5.0\n",
      "parso                0.8.3\n",
      "pickleshare          0.7.5\n",
      "pip                  22.0.4\n",
      "prometheus-client    0.14.1\n",
      "prompt-toolkit       3.0.29\n",
      "psutil               5.9.0\n",
      "pure-eval            0.2.2\n",
      "pycparser            2.21\n",
      "pygame               2.1.2\n",
      "Pygments             2.11.2\n",
      "pyparsing            3.0.8\n",
      "pyrsistent           0.18.1\n",
      "python-dateutil      2.8.2\n",
      "pywin32              303\n",
      "pywinpty             2.0.5\n",
      "pyzmq                22.3.0\n",
      "qtconsole            5.3.0\n",
      "QtPy                 2.0.1\n",
      "requests             2.27.1\n",
      "Send2Trash           1.8.0\n",
      "setuptools           47.1.0\n",
      "six                  1.16.0\n",
      "soupsieve            2.3.2\n",
      "stack-data           0.2.0\n",
      "terminado            0.13.3\n",
      "testpath             0.6.0\n",
      "tornado              6.1\n",
      "traitlets            5.1.1\n",
      "urllib3              1.26.9\n",
      "wcwidth              0.2.5\n",
      "webencodings         0.5.1\n",
      "widgetsnbextension   3.6.0\n",
      "zipp                 3.8.0\n"
     ]
    }
   ],
   "source": [
    "pip list"
   ]
  },
  {
   "cell_type": "code",
   "execution_count": 33,
   "id": "b6856a86",
   "metadata": {},
   "outputs": [
    {
     "name": "stdout",
     "output_type": "stream",
     "text": [
      "Looking in indexes: https://pypi.tuna.tsinghua.edu.cn/simple\n",
      "Collecting flake8\n",
      "  Downloading https://pypi.tuna.tsinghua.edu.cn/packages/34/39/cde2c8a227abb4f9ce62fe55586b920f438f1d2903a1a22514d0b982c333/flake8-4.0.1-py2.py3-none-any.whl (64 kB)\n",
      "     -------------------------------------- 64.1/64.1 KB 579.0 kB/s eta 0:00:00\n",
      "Collecting mccabe<0.7.0,>=0.6.0\n",
      "  Downloading https://pypi.tuna.tsinghua.edu.cn/packages/87/89/479dc97e18549e21354893e4ee4ef36db1d237534982482c3681ee6e7b57/mccabe-0.6.1-py2.py3-none-any.whl (8.6 kB)\n",
      "Collecting pyflakes<2.5.0,>=2.4.0\n",
      "  Downloading https://pypi.tuna.tsinghua.edu.cn/packages/43/fb/38848eb494af7df9aeb2d7673ace8b213313eb7e391691a79dbaeb6a838f/pyflakes-2.4.0-py2.py3-none-any.whl (69 kB)\n",
      "     -------------------------------------- 69.7/69.7 KB 762.4 kB/s eta 0:00:00\n",
      "Collecting pycodestyle<2.9.0,>=2.8.0\n",
      "  Downloading https://pypi.tuna.tsinghua.edu.cn/packages/15/94/bc43a2efb7b8615e38acde2b6624cae8c9ec86faf718ff5676c5179a7714/pycodestyle-2.8.0-py2.py3-none-any.whl (42 kB)\n",
      "     ---------------------------------------- 42.1/42.1 KB ? eta 0:00:00\n",
      "Installing collected packages: mccabe, pyflakes, pycodestyle, flake8\n",
      "Successfully installed flake8-4.0.1 mccabe-0.6.1 pycodestyle-2.8.0 pyflakes-2.4.0\n",
      "Note: you may need to restart the kernel to use updated packages.\n"
     ]
    }
   ],
   "source": [
    "pip install flake8"
   ]
  },
  {
   "cell_type": "code",
   "execution_count": 34,
   "id": "8e72ec82",
   "metadata": {},
   "outputs": [
    {
     "name": "stdout",
     "output_type": "stream",
     "text": [
      "Package              Version\n",
      "-------------------- ---------\n",
      "anaconda             0.0.1.1\n",
      "argon2-cffi          21.3.0\n",
      "argon2-cffi-bindings 21.2.0\n",
      "asttokens            2.0.5\n",
      "attrs                21.4.0\n",
      "backcall             0.2.0\n",
      "beautifulsoup4       4.11.1\n",
      "bleach               5.0.0\n",
      "certifi              2021.10.8\n",
      "cffi                 1.15.0\n",
      "charset-normalizer   2.0.12\n",
      "colorama             0.4.4\n",
      "debugpy              1.6.0\n",
      "decorator            5.1.1\n",
      "defusedxml           0.7.1\n",
      "entrypoints          0.4\n",
      "executing            0.8.3\n",
      "fastjsonschema       2.15.3\n",
      "flake8               4.0.1\n",
      "idna                 3.3\n",
      "importlib-resources  5.6.0\n",
      "ipykernel            6.12.1\n",
      "ipython              8.2.0\n",
      "ipython-genutils     0.2.0\n",
      "ipywidgets           7.7.0\n",
      "jedi                 0.18.1\n",
      "Jinja2               3.1.1\n",
      "jsonschema           4.4.0\n",
      "jupyter              1.0.0\n",
      "jupyter-client       7.2.2\n",
      "jupyter-console      6.4.3\n",
      "jupyter-core         4.9.2\n",
      "jupyterlab-pygments  0.2.0\n",
      "jupyterlab-widgets   1.1.0\n",
      "MarkupSafe           2.1.1\n",
      "matplotlib-inline    0.1.3\n",
      "mccabe               0.6.1\n",
      "mistune              0.8.4\n",
      "nbclient             0.5.13\n",
      "nbconvert            6.4.5\n",
      "nbformat             5.3.0\n",
      "nest-asyncio         1.5.5\n",
      "notebook             6.4.10\n",
      "numpy                1.22.3\n",
      "packaging            21.3\n",
      "panda                0.3.1\n",
      "pandocfilters        1.5.0\n",
      "parso                0.8.3\n",
      "pickleshare          0.7.5\n",
      "pip                  22.0.4\n",
      "prometheus-client    0.14.1\n",
      "prompt-toolkit       3.0.29\n",
      "psutil               5.9.0\n",
      "pure-eval            0.2.2\n",
      "pycodestyle          2.8.0\n",
      "pycparser            2.21\n",
      "pyflakes             2.4.0\n",
      "pygame               2.1.2\n",
      "Pygments             2.11.2\n",
      "pyparsing            3.0.8\n",
      "pyrsistent           0.18.1\n",
      "python-dateutil      2.8.2\n",
      "pywin32              303\n",
      "pywinpty             2.0.5\n",
      "pyzmq                22.3.0\n",
      "qtconsole            5.3.0\n",
      "QtPy                 2.0.1\n",
      "requests             2.27.1\n",
      "Send2Trash           1.8.0\n",
      "setuptools           47.1.0\n",
      "six                  1.16.0\n",
      "soupsieve            2.3.2\n",
      "stack-data           0.2.0\n",
      "terminado            0.13.3\n",
      "testpath             0.6.0\n",
      "tornado              6.1\n",
      "traitlets            5.1.1\n",
      "urllib3              1.26.9\n",
      "wcwidth              0.2.5\n",
      "webencodings         0.5.1\n",
      "widgetsnbextension   3.6.0\n",
      "zipp                 3.8.0\n",
      "Note: you may need to restart the kernel to use updated packages.\n"
     ]
    }
   ],
   "source": [
    "pip list"
   ]
  },
  {
   "cell_type": "code",
   "execution_count": 35,
   "id": "3a000c53",
   "metadata": {},
   "outputs": [
    {
     "name": "stdout",
     "output_type": "stream",
     "text": [
      "Looking in indexes: https://pypi.tuna.tsinghua.edu.cn/simpleNote: you may need to restart the kernel to use updated packages.\n",
      "\n",
      "Collecting yapf\n",
      "  Downloading https://pypi.tuna.tsinghua.edu.cn/packages/47/88/843c2e68f18a5879b4fbf37cb99fbabe1ffc4343b2e63191c8462235c008/yapf-0.32.0-py2.py3-none-any.whl (190 kB)\n",
      "     ------------------------------------ 190.2/190.2 KB 825.7 kB/s eta 0:00:00\n",
      "Installing collected packages: yapf\n",
      "Successfully installed yapf-0.32.0\n"
     ]
    }
   ],
   "source": [
    "pip install yapf"
   ]
  },
  {
   "cell_type": "code",
   "execution_count": null,
   "id": "ef600348",
   "metadata": {},
   "outputs": [],
   "source": []
  },
  {
   "cell_type": "code",
   "execution_count": null,
   "id": "546c9851",
   "metadata": {},
   "outputs": [],
   "source": []
  },
  {
   "cell_type": "code",
   "execution_count": null,
   "id": "42e57938",
   "metadata": {},
   "outputs": [],
   "source": []
  },
  {
   "cell_type": "code",
   "execution_count": null,
   "id": "64bc7d1b",
   "metadata": {},
   "outputs": [],
   "source": []
  },
  {
   "cell_type": "code",
   "execution_count": null,
   "id": "9736bb09",
   "metadata": {},
   "outputs": [],
   "source": []
  },
  {
   "cell_type": "code",
   "execution_count": null,
   "id": "69a545c5",
   "metadata": {},
   "outputs": [],
   "source": []
  },
  {
   "cell_type": "code",
   "execution_count": null,
   "id": "0762b566",
   "metadata": {},
   "outputs": [],
   "source": []
  },
  {
   "cell_type": "code",
   "execution_count": null,
   "id": "d45f7757",
   "metadata": {},
   "outputs": [],
   "source": []
  },
  {
   "cell_type": "code",
   "execution_count": null,
   "id": "e806220f",
   "metadata": {},
   "outputs": [],
   "source": []
  },
  {
   "cell_type": "code",
   "execution_count": null,
   "id": "ed2f5ec6",
   "metadata": {},
   "outputs": [],
   "source": []
  },
  {
   "cell_type": "code",
   "execution_count": null,
   "id": "c25f9002",
   "metadata": {},
   "outputs": [],
   "source": []
  },
  {
   "cell_type": "code",
   "execution_count": null,
   "id": "d7106e5f",
   "metadata": {},
   "outputs": [],
   "source": []
  },
  {
   "cell_type": "code",
   "execution_count": null,
   "id": "50c1be4c",
   "metadata": {},
   "outputs": [],
   "source": []
  },
  {
   "cell_type": "code",
   "execution_count": null,
   "id": "2c25d493",
   "metadata": {},
   "outputs": [],
   "source": []
  },
  {
   "cell_type": "code",
   "execution_count": null,
   "id": "5754ecfc",
   "metadata": {},
   "outputs": [],
   "source": []
  },
  {
   "cell_type": "code",
   "execution_count": null,
   "id": "a9b95744",
   "metadata": {},
   "outputs": [],
   "source": []
  },
  {
   "cell_type": "code",
   "execution_count": null,
   "id": "ffabdeca",
   "metadata": {},
   "outputs": [],
   "source": []
  },
  {
   "cell_type": "code",
   "execution_count": 104,
   "id": "c58a855b",
   "metadata": {},
   "outputs": [
    {
     "name": "stdout",
     "output_type": "stream",
     "text": [
      "Looking in indexes: https://pypi.tuna.tsinghua.edu.cn/simpleNote: you may need to restart the kernel to use updated packages.\n",
      "\n",
      "Collecting pygame\n",
      "  Downloading https://pypi.tuna.tsinghua.edu.cn/packages/42/8a/a8c6d99971f57111d6a0e6200c310fcfbda56c94aa86b53e6c586dd267ca/pygame-2.1.2-cp38-cp38-win_amd64.whl (8.4 MB)\n",
      "     ---------------------------------------- 8.4/8.4 MB 3.7 MB/s eta 0:00:00\n",
      "Installing collected packages: pygame\n",
      "Successfully installed pygame-2.1.2\n"
     ]
    }
   ],
   "source": [
    "pip install pygame"
   ]
  },
  {
   "cell_type": "code",
   "execution_count": null,
   "id": "60722980",
   "metadata": {},
   "outputs": [],
   "source": []
  },
  {
   "cell_type": "code",
   "execution_count": null,
   "id": "c65ccfee",
   "metadata": {},
   "outputs": [],
   "source": []
  },
  {
   "cell_type": "code",
   "execution_count": null,
   "id": "89582bfa",
   "metadata": {},
   "outputs": [],
   "source": []
  },
  {
   "cell_type": "code",
   "execution_count": null,
   "id": "5b044159",
   "metadata": {},
   "outputs": [],
   "source": []
  },
  {
   "cell_type": "code",
   "execution_count": null,
   "id": "45283940",
   "metadata": {},
   "outputs": [],
   "source": []
  },
  {
   "cell_type": "code",
   "execution_count": null,
   "id": "c1f0a9d5",
   "metadata": {},
   "outputs": [],
   "source": []
  },
  {
   "cell_type": "code",
   "execution_count": null,
   "id": "050e0feb",
   "metadata": {},
   "outputs": [],
   "source": []
  },
  {
   "cell_type": "code",
   "execution_count": null,
   "id": "5e9c6999",
   "metadata": {},
   "outputs": [],
   "source": []
  },
  {
   "cell_type": "code",
   "execution_count": null,
   "id": "0f76e26a",
   "metadata": {},
   "outputs": [],
   "source": []
  },
  {
   "cell_type": "code",
   "execution_count": null,
   "id": "22aa2e38",
   "metadata": {},
   "outputs": [],
   "source": []
  },
  {
   "cell_type": "code",
   "execution_count": null,
   "id": "c021f72f",
   "metadata": {},
   "outputs": [],
   "source": []
  },
  {
   "cell_type": "code",
   "execution_count": null,
   "id": "febb2eaa",
   "metadata": {},
   "outputs": [],
   "source": []
  },
  {
   "cell_type": "code",
   "execution_count": null,
   "id": "b16c58fe",
   "metadata": {},
   "outputs": [],
   "source": []
  },
  {
   "cell_type": "code",
   "execution_count": null,
   "id": "6b6f982a",
   "metadata": {},
   "outputs": [],
   "source": []
  },
  {
   "cell_type": "code",
   "execution_count": null,
   "id": "6c4f9d33",
   "metadata": {},
   "outputs": [],
   "source": []
  },
  {
   "cell_type": "code",
   "execution_count": null,
   "id": "e55bc2bd",
   "metadata": {},
   "outputs": [],
   "source": []
  },
  {
   "cell_type": "code",
   "execution_count": null,
   "id": "7a7eab26",
   "metadata": {},
   "outputs": [],
   "source": []
  },
  {
   "cell_type": "code",
   "execution_count": null,
   "id": "53780208",
   "metadata": {},
   "outputs": [],
   "source": []
  },
  {
   "cell_type": "code",
   "execution_count": null,
   "id": "c8612dcd",
   "metadata": {},
   "outputs": [],
   "source": []
  },
  {
   "cell_type": "code",
   "execution_count": null,
   "id": "cd2c4f5c",
   "metadata": {},
   "outputs": [],
   "source": []
  },
  {
   "cell_type": "code",
   "execution_count": null,
   "id": "60ad1f10",
   "metadata": {},
   "outputs": [],
   "source": []
  },
  {
   "cell_type": "code",
   "execution_count": null,
   "id": "02a1fc5f",
   "metadata": {},
   "outputs": [],
   "source": []
  },
  {
   "cell_type": "code",
   "execution_count": null,
   "id": "0dde17bd",
   "metadata": {},
   "outputs": [],
   "source": []
  },
  {
   "cell_type": "code",
   "execution_count": null,
   "id": "57d02ed5",
   "metadata": {},
   "outputs": [],
   "source": []
  },
  {
   "cell_type": "code",
   "execution_count": null,
   "id": "c53e699c",
   "metadata": {},
   "outputs": [],
   "source": []
  },
  {
   "cell_type": "code",
   "execution_count": null,
   "id": "a8201cf9",
   "metadata": {},
   "outputs": [],
   "source": []
  },
  {
   "cell_type": "code",
   "execution_count": null,
   "id": "951f7155",
   "metadata": {},
   "outputs": [],
   "source": []
  },
  {
   "cell_type": "code",
   "execution_count": null,
   "id": "e38f797f",
   "metadata": {},
   "outputs": [],
   "source": []
  },
  {
   "cell_type": "code",
   "execution_count": null,
   "id": "e8f2581f",
   "metadata": {},
   "outputs": [],
   "source": []
  },
  {
   "cell_type": "code",
   "execution_count": null,
   "id": "86ea9d9f",
   "metadata": {},
   "outputs": [],
   "source": []
  },
  {
   "cell_type": "code",
   "execution_count": null,
   "id": "d97b496f",
   "metadata": {},
   "outputs": [],
   "source": []
  },
  {
   "cell_type": "code",
   "execution_count": null,
   "id": "fa727296",
   "metadata": {},
   "outputs": [],
   "source": []
  },
  {
   "cell_type": "code",
   "execution_count": null,
   "id": "efbfe46a",
   "metadata": {},
   "outputs": [],
   "source": []
  },
  {
   "cell_type": "code",
   "execution_count": null,
   "id": "37bf33f2",
   "metadata": {},
   "outputs": [],
   "source": []
  },
  {
   "cell_type": "code",
   "execution_count": null,
   "id": "ae79d074",
   "metadata": {},
   "outputs": [],
   "source": []
  },
  {
   "cell_type": "code",
   "execution_count": null,
   "id": "15f77788",
   "metadata": {},
   "outputs": [],
   "source": []
  },
  {
   "cell_type": "code",
   "execution_count": null,
   "id": "a0247415",
   "metadata": {},
   "outputs": [],
   "source": []
  },
  {
   "cell_type": "code",
   "execution_count": null,
   "id": "d93fd608",
   "metadata": {},
   "outputs": [],
   "source": []
  },
  {
   "cell_type": "code",
   "execution_count": null,
   "id": "db9f456d",
   "metadata": {},
   "outputs": [],
   "source": []
  },
  {
   "cell_type": "code",
   "execution_count": null,
   "id": "3555c499",
   "metadata": {},
   "outputs": [],
   "source": []
  },
  {
   "cell_type": "code",
   "execution_count": null,
   "id": "b6fb24d7",
   "metadata": {},
   "outputs": [],
   "source": []
  },
  {
   "cell_type": "code",
   "execution_count": null,
   "id": "f1fd0bcc",
   "metadata": {},
   "outputs": [],
   "source": []
  },
  {
   "cell_type": "code",
   "execution_count": null,
   "id": "a0dc0e88",
   "metadata": {},
   "outputs": [],
   "source": []
  },
  {
   "cell_type": "code",
   "execution_count": null,
   "id": "fe9771fc",
   "metadata": {},
   "outputs": [],
   "source": []
  },
  {
   "cell_type": "code",
   "execution_count": null,
   "id": "962e9855",
   "metadata": {},
   "outputs": [],
   "source": []
  },
  {
   "cell_type": "code",
   "execution_count": null,
   "id": "3b6a7c36",
   "metadata": {},
   "outputs": [],
   "source": []
  },
  {
   "cell_type": "code",
   "execution_count": null,
   "id": "a4d69ff9",
   "metadata": {},
   "outputs": [],
   "source": []
  },
  {
   "cell_type": "code",
   "execution_count": null,
   "id": "33ee5d69",
   "metadata": {},
   "outputs": [],
   "source": []
  },
  {
   "cell_type": "code",
   "execution_count": null,
   "id": "5da0a6c8",
   "metadata": {},
   "outputs": [],
   "source": []
  },
  {
   "cell_type": "code",
   "execution_count": null,
   "id": "761409fe",
   "metadata": {},
   "outputs": [],
   "source": []
  },
  {
   "cell_type": "code",
   "execution_count": null,
   "id": "fa52173c",
   "metadata": {},
   "outputs": [],
   "source": []
  },
  {
   "cell_type": "code",
   "execution_count": null,
   "id": "f040229f",
   "metadata": {},
   "outputs": [],
   "source": []
  },
  {
   "cell_type": "code",
   "execution_count": null,
   "id": "6ebdc358",
   "metadata": {},
   "outputs": [],
   "source": []
  },
  {
   "cell_type": "code",
   "execution_count": null,
   "id": "7883f6c7",
   "metadata": {},
   "outputs": [],
   "source": []
  },
  {
   "cell_type": "code",
   "execution_count": null,
   "id": "cacd70e3",
   "metadata": {},
   "outputs": [],
   "source": []
  },
  {
   "cell_type": "code",
   "execution_count": null,
   "id": "b95043b6",
   "metadata": {},
   "outputs": [],
   "source": []
  },
  {
   "cell_type": "code",
   "execution_count": null,
   "id": "2dee11b5",
   "metadata": {},
   "outputs": [],
   "source": []
  },
  {
   "cell_type": "code",
   "execution_count": null,
   "id": "0b3d2f65",
   "metadata": {},
   "outputs": [],
   "source": []
  },
  {
   "cell_type": "code",
   "execution_count": null,
   "id": "f170adac",
   "metadata": {},
   "outputs": [],
   "source": []
  },
  {
   "cell_type": "code",
   "execution_count": null,
   "id": "4db27df3",
   "metadata": {},
   "outputs": [],
   "source": []
  },
  {
   "cell_type": "code",
   "execution_count": null,
   "id": "bae0275e",
   "metadata": {},
   "outputs": [],
   "source": []
  },
  {
   "cell_type": "code",
   "execution_count": null,
   "id": "d869857b",
   "metadata": {},
   "outputs": [],
   "source": []
  },
  {
   "cell_type": "code",
   "execution_count": null,
   "id": "f598f84f",
   "metadata": {},
   "outputs": [],
   "source": []
  },
  {
   "cell_type": "code",
   "execution_count": 16,
   "id": "aaa3d62f",
   "metadata": {},
   "outputs": [],
   "source": [
    "from decimal import Decimal"
   ]
  },
  {
   "cell_type": "code",
   "execution_count": null,
   "id": "20e3c8c2",
   "metadata": {},
   "outputs": [],
   "source": []
  },
  {
   "cell_type": "code",
   "execution_count": null,
   "id": "b051cc11",
   "metadata": {},
   "outputs": [],
   "source": []
  },
  {
   "cell_type": "code",
   "execution_count": null,
   "id": "40f2a91e",
   "metadata": {},
   "outputs": [],
   "source": []
  },
  {
   "cell_type": "code",
   "execution_count": null,
   "id": "629173e9",
   "metadata": {},
   "outputs": [],
   "source": []
  },
  {
   "cell_type": "code",
   "execution_count": null,
   "id": "44d07ccb",
   "metadata": {},
   "outputs": [],
   "source": []
  },
  {
   "cell_type": "code",
   "execution_count": null,
   "id": "3404872d",
   "metadata": {},
   "outputs": [],
   "source": []
  },
  {
   "cell_type": "code",
   "execution_count": null,
   "id": "586574a3",
   "metadata": {},
   "outputs": [],
   "source": []
  },
  {
   "cell_type": "code",
   "execution_count": null,
   "id": "618d5eed",
   "metadata": {},
   "outputs": [],
   "source": []
  },
  {
   "cell_type": "code",
   "execution_count": null,
   "id": "34eed80b",
   "metadata": {},
   "outputs": [],
   "source": []
  },
  {
   "cell_type": "code",
   "execution_count": 2,
   "id": "832a80b2",
   "metadata": {},
   "outputs": [
    {
     "name": "stdout",
     "output_type": "stream",
     "text": [
      "Looking in indexes: https://pypi.tuna.tsinghua.edu.cn/simple\n",
      "Requirement already satisfied: anaconda in c:\\program files\\python38\\lib\\site-packages (0.0.1.1)\n",
      "Note: you may need to restart the kernel to use updated packages.\n"
     ]
    }
   ],
   "source": [
    "pip install anaconda"
   ]
  },
  {
   "cell_type": "code",
   "execution_count": null,
   "id": "5ea88ca6",
   "metadata": {},
   "outputs": [],
   "source": []
  },
  {
   "cell_type": "code",
   "execution_count": null,
   "id": "d83492d3",
   "metadata": {},
   "outputs": [],
   "source": []
  },
  {
   "cell_type": "code",
   "execution_count": 83,
   "id": "fa82487c",
   "metadata": {},
   "outputs": [
    {
     "ename": "SyntaxError",
     "evalue": "invalid syntax (4103808702.py, line 1)",
     "output_type": "error",
     "traceback": [
      "\u001b[1;36m  Input \u001b[1;32mIn [83]\u001b[1;36m\u001b[0m\n\u001b[1;33m    pip3 install anaconda -i http://mirrors.aliyun.com/pypi/simple/\u001b[0m\n\u001b[1;37m         ^\u001b[0m\n\u001b[1;31mSyntaxError\u001b[0m\u001b[1;31m:\u001b[0m invalid syntax\n"
     ]
    }
   ],
   "source": [
    "pip install anaconda -i http://mirrors.aliyun.com/pypi/simple/\n",
    "    "
   ]
  },
  {
   "cell_type": "code",
   "execution_count": null,
   "id": "cdff4b39",
   "metadata": {},
   "outputs": [],
   "source": []
  },
  {
   "cell_type": "code",
   "execution_count": null,
   "id": "e5f4dd67",
   "metadata": {},
   "outputs": [],
   "source": []
  },
  {
   "cell_type": "code",
   "execution_count": null,
   "id": "eeb35263",
   "metadata": {},
   "outputs": [],
   "source": []
  },
  {
   "cell_type": "code",
   "execution_count": null,
   "id": "7b0c4ec1",
   "metadata": {},
   "outputs": [],
   "source": []
  },
  {
   "cell_type": "code",
   "execution_count": null,
   "id": "e63a6b1f",
   "metadata": {},
   "outputs": [],
   "source": []
  },
  {
   "cell_type": "code",
   "execution_count": null,
   "id": "1399c4e4",
   "metadata": {},
   "outputs": [],
   "source": []
  },
  {
   "cell_type": "code",
   "execution_count": null,
   "id": "4341b0b4",
   "metadata": {},
   "outputs": [],
   "source": []
  },
  {
   "cell_type": "code",
   "execution_count": null,
   "id": "e1c80f5a",
   "metadata": {},
   "outputs": [],
   "source": []
  },
  {
   "cell_type": "code",
   "execution_count": 70,
   "id": "43da35bf",
   "metadata": {},
   "outputs": [
    {
     "data": {
      "text/plain": [
       "Decimal('0.143')"
      ]
     },
     "execution_count": 70,
     "metadata": {},
     "output_type": "execute_result"
    }
   ],
   "source": [
    "Decimal(1) / Decimal(7)"
   ]
  },
  {
   "cell_type": "code",
   "execution_count": null,
   "id": "059a6f9b",
   "metadata": {},
   "outputs": [],
   "source": []
  },
  {
   "cell_type": "code",
   "execution_count": null,
   "id": "ed9f736e",
   "metadata": {},
   "outputs": [],
   "source": []
  },
  {
   "cell_type": "code",
   "execution_count": null,
   "id": "0e8bff4b",
   "metadata": {},
   "outputs": [],
   "source": []
  },
  {
   "cell_type": "code",
   "execution_count": null,
   "id": "3ac40b24",
   "metadata": {},
   "outputs": [],
   "source": []
  },
  {
   "cell_type": "code",
   "execution_count": null,
   "id": "8a86acf1",
   "metadata": {},
   "outputs": [],
   "source": []
  },
  {
   "cell_type": "code",
   "execution_count": null,
   "id": "b0527898",
   "metadata": {},
   "outputs": [],
   "source": []
  },
  {
   "cell_type": "code",
   "execution_count": null,
   "id": "da0515bb",
   "metadata": {},
   "outputs": [],
   "source": []
  },
  {
   "cell_type": "code",
   "execution_count": null,
   "id": "b6598193",
   "metadata": {},
   "outputs": [],
   "source": []
  },
  {
   "cell_type": "code",
   "execution_count": null,
   "id": "7f29d0b4",
   "metadata": {},
   "outputs": [],
   "source": []
  },
  {
   "cell_type": "code",
   "execution_count": null,
   "id": "8d1f3fbe",
   "metadata": {},
   "outputs": [],
   "source": []
  },
  {
   "cell_type": "code",
   "execution_count": null,
   "id": "f633b29d",
   "metadata": {},
   "outputs": [],
   "source": []
  },
  {
   "cell_type": "code",
   "execution_count": null,
   "id": "a834c261",
   "metadata": {},
   "outputs": [],
   "source": []
  },
  {
   "cell_type": "code",
   "execution_count": null,
   "id": "ec2c5059",
   "metadata": {},
   "outputs": [],
   "source": []
  },
  {
   "cell_type": "code",
   "execution_count": null,
   "id": "cb008904",
   "metadata": {},
   "outputs": [],
   "source": [
    "\n"
   ]
  },
  {
   "cell_type": "code",
   "execution_count": null,
   "id": "828d5a1d",
   "metadata": {},
   "outputs": [],
   "source": []
  },
  {
   "cell_type": "code",
   "execution_count": null,
   "id": "73cf89d9",
   "metadata": {},
   "outputs": [],
   "source": []
  },
  {
   "cell_type": "code",
   "execution_count": null,
   "id": "99979eae",
   "metadata": {},
   "outputs": [],
   "source": []
  },
  {
   "cell_type": "code",
   "execution_count": null,
   "id": "ffb486f8",
   "metadata": {},
   "outputs": [],
   "source": []
  },
  {
   "cell_type": "code",
   "execution_count": null,
   "id": "9b081550",
   "metadata": {},
   "outputs": [],
   "source": []
  },
  {
   "cell_type": "code",
   "execution_count": null,
   "id": "cf17e2bb",
   "metadata": {},
   "outputs": [],
   "source": []
  },
  {
   "cell_type": "code",
   "execution_count": null,
   "id": "03bece1c",
   "metadata": {},
   "outputs": [],
   "source": []
  },
  {
   "cell_type": "code",
   "execution_count": null,
   "id": "8e1b28ae",
   "metadata": {},
   "outputs": [],
   "source": []
  },
  {
   "cell_type": "code",
   "execution_count": 31,
   "id": "33ae84bb",
   "metadata": {},
   "outputs": [
    {
     "ename": "ConnectionRefusedError",
     "evalue": "[WinError 10061] No connection could be made because the target machine actively refused it",
     "output_type": "error",
     "traceback": [
      "\u001b[1;31m---------------------------------------------------------------------------\u001b[0m",
      "\u001b[1;31mConnectionRefusedError\u001b[0m                    Traceback (most recent call last)",
      "Input \u001b[1;32mIn [31]\u001b[0m, in \u001b[0;36m<cell line: 2>\u001b[1;34m()\u001b[0m\n\u001b[0;32m      1\u001b[0m \u001b[38;5;28;01mimport\u001b[39;00m \u001b[38;5;21;01msmtplib\u001b[39;00m\n\u001b[1;32m----> 2\u001b[0m server \u001b[38;5;241m=\u001b[39m \u001b[43msmtplib\u001b[49m\u001b[38;5;241;43m.\u001b[39;49m\u001b[43mSMTP\u001b[49m\u001b[43m(\u001b[49m\u001b[38;5;124;43m'\u001b[39;49m\u001b[38;5;124;43mlocalhost\u001b[39;49m\u001b[38;5;124;43m'\u001b[39;49m\u001b[43m)\u001b[49m\n\u001b[0;32m      3\u001b[0m server\u001b[38;5;241m.\u001b[39msendmail(\u001b[38;5;124m'\u001b[39m\u001b[38;5;124msoothsayer@example.org\u001b[39m\u001b[38;5;124m'\u001b[39m, \u001b[38;5;124m'\u001b[39m\u001b[38;5;124mjcaesar@example.org\u001b[39m\u001b[38;5;124m'\u001b[39m,\n\u001b[0;32m      4\u001b[0m     \u001b[38;5;124;03m\"\"\"To: jcaesar@example.org\u001b[39;00m\n\u001b[0;32m      5\u001b[0m \u001b[38;5;124;03m    From: soothsayer@example.org\u001b[39;00m\n\u001b[0;32m      6\u001b[0m \n\u001b[0;32m      7\u001b[0m \u001b[38;5;124;03m    Beware the Ides of March.\u001b[39;00m\n\u001b[0;32m      8\u001b[0m \u001b[38;5;124;03m    \"\"\"\u001b[39;00m)\n",
      "File \u001b[1;32mc:\\program files\\python38\\lib\\smtplib.py:253\u001b[0m, in \u001b[0;36mSMTP.__init__\u001b[1;34m(self, host, port, local_hostname, timeout, source_address)\u001b[0m\n\u001b[0;32m    250\u001b[0m \u001b[38;5;28mself\u001b[39m\u001b[38;5;241m.\u001b[39msource_address \u001b[38;5;241m=\u001b[39m source_address\n\u001b[0;32m    252\u001b[0m \u001b[38;5;28;01mif\u001b[39;00m host:\n\u001b[1;32m--> 253\u001b[0m     (code, msg) \u001b[38;5;241m=\u001b[39m \u001b[38;5;28;43mself\u001b[39;49m\u001b[38;5;241;43m.\u001b[39;49m\u001b[43mconnect\u001b[49m\u001b[43m(\u001b[49m\u001b[43mhost\u001b[49m\u001b[43m,\u001b[49m\u001b[43m \u001b[49m\u001b[43mport\u001b[49m\u001b[43m)\u001b[49m\n\u001b[0;32m    254\u001b[0m     \u001b[38;5;28;01mif\u001b[39;00m code \u001b[38;5;241m!=\u001b[39m \u001b[38;5;241m220\u001b[39m:\n\u001b[0;32m    255\u001b[0m         \u001b[38;5;28mself\u001b[39m\u001b[38;5;241m.\u001b[39mclose()\n",
      "File \u001b[1;32mc:\\program files\\python38\\lib\\smtplib.py:339\u001b[0m, in \u001b[0;36mSMTP.connect\u001b[1;34m(self, host, port, source_address)\u001b[0m\n\u001b[0;32m    337\u001b[0m     \u001b[38;5;28mself\u001b[39m\u001b[38;5;241m.\u001b[39m_print_debug(\u001b[38;5;124m'\u001b[39m\u001b[38;5;124mconnect:\u001b[39m\u001b[38;5;124m'\u001b[39m, (host, port))\n\u001b[0;32m    338\u001b[0m sys\u001b[38;5;241m.\u001b[39maudit(\u001b[38;5;124m\"\u001b[39m\u001b[38;5;124msmtplib.connect\u001b[39m\u001b[38;5;124m\"\u001b[39m, \u001b[38;5;28mself\u001b[39m, host, port)\n\u001b[1;32m--> 339\u001b[0m \u001b[38;5;28mself\u001b[39m\u001b[38;5;241m.\u001b[39msock \u001b[38;5;241m=\u001b[39m \u001b[38;5;28;43mself\u001b[39;49m\u001b[38;5;241;43m.\u001b[39;49m\u001b[43m_get_socket\u001b[49m\u001b[43m(\u001b[49m\u001b[43mhost\u001b[49m\u001b[43m,\u001b[49m\u001b[43m \u001b[49m\u001b[43mport\u001b[49m\u001b[43m,\u001b[49m\u001b[43m \u001b[49m\u001b[38;5;28;43mself\u001b[39;49m\u001b[38;5;241;43m.\u001b[39;49m\u001b[43mtimeout\u001b[49m\u001b[43m)\u001b[49m\n\u001b[0;32m    340\u001b[0m \u001b[38;5;28mself\u001b[39m\u001b[38;5;241m.\u001b[39mfile \u001b[38;5;241m=\u001b[39m \u001b[38;5;28;01mNone\u001b[39;00m\n\u001b[0;32m    341\u001b[0m (code, msg) \u001b[38;5;241m=\u001b[39m \u001b[38;5;28mself\u001b[39m\u001b[38;5;241m.\u001b[39mgetreply()\n",
      "File \u001b[1;32mc:\\program files\\python38\\lib\\smtplib.py:308\u001b[0m, in \u001b[0;36mSMTP._get_socket\u001b[1;34m(self, host, port, timeout)\u001b[0m\n\u001b[0;32m    306\u001b[0m \u001b[38;5;28;01mif\u001b[39;00m \u001b[38;5;28mself\u001b[39m\u001b[38;5;241m.\u001b[39mdebuglevel \u001b[38;5;241m>\u001b[39m \u001b[38;5;241m0\u001b[39m:\n\u001b[0;32m    307\u001b[0m     \u001b[38;5;28mself\u001b[39m\u001b[38;5;241m.\u001b[39m_print_debug(\u001b[38;5;124m'\u001b[39m\u001b[38;5;124mconnect: to\u001b[39m\u001b[38;5;124m'\u001b[39m, (host, port), \u001b[38;5;28mself\u001b[39m\u001b[38;5;241m.\u001b[39msource_address)\n\u001b[1;32m--> 308\u001b[0m \u001b[38;5;28;01mreturn\u001b[39;00m \u001b[43msocket\u001b[49m\u001b[38;5;241;43m.\u001b[39;49m\u001b[43mcreate_connection\u001b[49m\u001b[43m(\u001b[49m\u001b[43m(\u001b[49m\u001b[43mhost\u001b[49m\u001b[43m,\u001b[49m\u001b[43m \u001b[49m\u001b[43mport\u001b[49m\u001b[43m)\u001b[49m\u001b[43m,\u001b[49m\u001b[43m \u001b[49m\u001b[43mtimeout\u001b[49m\u001b[43m,\u001b[49m\n\u001b[0;32m    309\u001b[0m \u001b[43m                                \u001b[49m\u001b[38;5;28;43mself\u001b[39;49m\u001b[38;5;241;43m.\u001b[39;49m\u001b[43msource_address\u001b[49m\u001b[43m)\u001b[49m\n",
      "File \u001b[1;32mc:\\program files\\python38\\lib\\socket.py:808\u001b[0m, in \u001b[0;36mcreate_connection\u001b[1;34m(address, timeout, source_address)\u001b[0m\n\u001b[0;32m    806\u001b[0m \u001b[38;5;28;01mif\u001b[39;00m err \u001b[38;5;129;01mis\u001b[39;00m \u001b[38;5;129;01mnot\u001b[39;00m \u001b[38;5;28;01mNone\u001b[39;00m:\n\u001b[0;32m    807\u001b[0m     \u001b[38;5;28;01mtry\u001b[39;00m:\n\u001b[1;32m--> 808\u001b[0m         \u001b[38;5;28;01mraise\u001b[39;00m err\n\u001b[0;32m    809\u001b[0m     \u001b[38;5;28;01mfinally\u001b[39;00m:\n\u001b[0;32m    810\u001b[0m         \u001b[38;5;66;03m# Break explicitly a reference cycle\u001b[39;00m\n\u001b[0;32m    811\u001b[0m         err \u001b[38;5;241m=\u001b[39m \u001b[38;5;28;01mNone\u001b[39;00m\n",
      "File \u001b[1;32mc:\\program files\\python38\\lib\\socket.py:796\u001b[0m, in \u001b[0;36mcreate_connection\u001b[1;34m(address, timeout, source_address)\u001b[0m\n\u001b[0;32m    794\u001b[0m \u001b[38;5;28;01mif\u001b[39;00m source_address:\n\u001b[0;32m    795\u001b[0m     sock\u001b[38;5;241m.\u001b[39mbind(source_address)\n\u001b[1;32m--> 796\u001b[0m \u001b[43msock\u001b[49m\u001b[38;5;241;43m.\u001b[39;49m\u001b[43mconnect\u001b[49m\u001b[43m(\u001b[49m\u001b[43msa\u001b[49m\u001b[43m)\u001b[49m\n\u001b[0;32m    797\u001b[0m \u001b[38;5;66;03m# Break explicitly a reference cycle\u001b[39;00m\n\u001b[0;32m    798\u001b[0m err \u001b[38;5;241m=\u001b[39m \u001b[38;5;28;01mNone\u001b[39;00m\n",
      "\u001b[1;31mConnectionRefusedError\u001b[0m: [WinError 10061] No connection could be made because the target machine actively refused it"
     ]
    }
   ],
   "source": [
    "import smtplib\n",
    "server = smtplib.SMTP('localhost')\n",
    "server.sendmail('soothsayer@example.org', 'jcaesar@example.org',\n",
    "    \"\"\"To: jcaesar@example.org\n",
    "    From: soothsayer@example.org\n",
    "\n",
    "    Beware the Ides of March.\n",
    "    \"\"\")"
   ]
  },
  {
   "cell_type": "code",
   "execution_count": null,
   "id": "4f55a163",
   "metadata": {},
   "outputs": [],
   "source": []
  },
  {
   "cell_type": "code",
   "execution_count": null,
   "id": "12dc28fb",
   "metadata": {},
   "outputs": [],
   "source": []
  },
  {
   "cell_type": "code",
   "execution_count": null,
   "id": "8f1f7462",
   "metadata": {},
   "outputs": [],
   "source": []
  },
  {
   "cell_type": "code",
   "execution_count": null,
   "id": "c6e391b8",
   "metadata": {},
   "outputs": [],
   "source": []
  },
  {
   "cell_type": "code",
   "execution_count": null,
   "id": "1dae7c53",
   "metadata": {},
   "outputs": [],
   "source": []
  },
  {
   "cell_type": "code",
   "execution_count": null,
   "id": "82b9e96f",
   "metadata": {},
   "outputs": [],
   "source": []
  },
  {
   "cell_type": "code",
   "execution_count": null,
   "id": "9a54394b",
   "metadata": {},
   "outputs": [],
   "source": []
  },
  {
   "cell_type": "code",
   "execution_count": null,
   "id": "e57c6df8",
   "metadata": {},
   "outputs": [],
   "source": []
  },
  {
   "cell_type": "code",
   "execution_count": null,
   "id": "67b06938",
   "metadata": {},
   "outputs": [],
   "source": []
  },
  {
   "cell_type": "code",
   "execution_count": null,
   "id": "55bde9be",
   "metadata": {},
   "outputs": [],
   "source": []
  },
  {
   "cell_type": "code",
   "execution_count": 19,
   "id": "c4d3fec1",
   "metadata": {},
   "outputs": [
    {
     "name": "stdout",
     "output_type": "stream",
     "text": [
      "Help on method choice in module random:\n",
      "\n",
      "choice(seq) method of random.Random instance\n",
      "    Choose a random element from a non-empty sequence.\n",
      "\n"
     ]
    }
   ],
   "source": [
    "help(random.choice)"
   ]
  },
  {
   "cell_type": "code",
   "execution_count": null,
   "id": "484ca0d0",
   "metadata": {},
   "outputs": [],
   "source": []
  },
  {
   "cell_type": "code",
   "execution_count": null,
   "id": "c8645862",
   "metadata": {},
   "outputs": [],
   "source": []
  },
  {
   "cell_type": "code",
   "execution_count": null,
   "id": "66ac7780",
   "metadata": {},
   "outputs": [],
   "source": []
  },
  {
   "cell_type": "code",
   "execution_count": null,
   "id": "a1b184f1",
   "metadata": {},
   "outputs": [],
   "source": []
  },
  {
   "cell_type": "code",
   "execution_count": null,
   "id": "8234a06e",
   "metadata": {},
   "outputs": [],
   "source": []
  },
  {
   "cell_type": "code",
   "execution_count": null,
   "id": "a89133a8",
   "metadata": {},
   "outputs": [],
   "source": []
  },
  {
   "cell_type": "code",
   "execution_count": null,
   "id": "88604fde",
   "metadata": {},
   "outputs": [],
   "source": []
  },
  {
   "cell_type": "code",
   "execution_count": null,
   "id": "1bc185a9",
   "metadata": {},
   "outputs": [],
   "source": []
  },
  {
   "cell_type": "code",
   "execution_count": null,
   "id": "d2e03513",
   "metadata": {},
   "outputs": [],
   "source": []
  },
  {
   "cell_type": "code",
   "execution_count": null,
   "id": "d79c3d54",
   "metadata": {},
   "outputs": [],
   "source": []
  },
  {
   "cell_type": "code",
   "execution_count": null,
   "id": "48a787cc",
   "metadata": {},
   "outputs": [],
   "source": []
  },
  {
   "cell_type": "code",
   "execution_count": null,
   "id": "1952b9ed",
   "metadata": {},
   "outputs": [],
   "source": []
  },
  {
   "cell_type": "code",
   "execution_count": null,
   "id": "410cc545",
   "metadata": {},
   "outputs": [],
   "source": []
  },
  {
   "cell_type": "code",
   "execution_count": null,
   "id": "2adf84b0",
   "metadata": {},
   "outputs": [],
   "source": []
  },
  {
   "cell_type": "code",
   "execution_count": null,
   "id": "5fda71fa",
   "metadata": {},
   "outputs": [],
   "source": []
  },
  {
   "cell_type": "code",
   "execution_count": null,
   "id": "4bb8a723",
   "metadata": {},
   "outputs": [],
   "source": []
  },
  {
   "cell_type": "code",
   "execution_count": null,
   "id": "9cff42de",
   "metadata": {},
   "outputs": [],
   "source": []
  },
  {
   "cell_type": "code",
   "execution_count": null,
   "id": "c7bda8f8",
   "metadata": {},
   "outputs": [],
   "source": []
  },
  {
   "cell_type": "code",
   "execution_count": null,
   "id": "71b6fbb1",
   "metadata": {},
   "outputs": [],
   "source": []
  },
  {
   "cell_type": "code",
   "execution_count": null,
   "id": "243c6fd3",
   "metadata": {},
   "outputs": [],
   "source": []
  },
  {
   "cell_type": "code",
   "execution_count": null,
   "id": "afdfdef0",
   "metadata": {},
   "outputs": [],
   "source": []
  },
  {
   "cell_type": "code",
   "execution_count": null,
   "id": "2a93dc92",
   "metadata": {},
   "outputs": [],
   "source": []
  }
 ],
 "metadata": {
  "kernelspec": {
   "display_name": "Python 3 (ipykernel)",
   "language": "python",
   "name": "python3"
  },
  "language_info": {
   "codemirror_mode": {
    "name": "ipython",
    "version": 3
   },
   "file_extension": ".py",
   "mimetype": "text/x-python",
   "name": "python",
   "nbconvert_exporter": "python",
   "pygments_lexer": "ipython3",
   "version": "3.8.5"
  }
 },
 "nbformat": 4,
 "nbformat_minor": 5
}
